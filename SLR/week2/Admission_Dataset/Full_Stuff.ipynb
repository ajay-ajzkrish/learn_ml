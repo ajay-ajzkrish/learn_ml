{
 "cells": [
  {
   "cell_type": "code",
   "execution_count": 195,
   "id": "9efb8862",
   "metadata": {},
   "outputs": [],
   "source": [
    "#Libraries to Import:\n",
    "\n",
    "\n",
    "import numpy as np\n",
    "import pandas as pd\n",
    "import matplotlib.pyplot as plt\n",
    "import seaborn as sns\n",
    "import scipy.stats as stats\n",
    "\n",
    "\n",
    "plt.rcParams['figure.figsize'] = [15, 6]\n",
    "\n",
    "import warnings\n",
    "warnings.filterwarnings(\"ignore\")\n",
    "\n",
    "\n",
    "import numpy as np\n",
    "import pandas as pd\n",
    "from sklearn.model_selection import train_test_split, KFold, LeaveOneOut\n",
    "from sklearn.metrics import r2_score, mean_squared_error\n",
    "from sklearn.preprocessing import StandardScaler\n",
    "from sklearn.linear_model import LinearRegression, Lasso, Ridge, ElasticNet, SGDRegressor\n",
    "from sklearn.ensemble import RandomForestRegressor\n",
    "from sklearn.feature_selection import RFE\n",
    "from mlxtend.feature_selection import SequentialFeatureSelector\n",
    "import statsmodels.api as sma\n",
    "import statsmodels.stats.api as ssa\n",
    "from statsmodels.stats.outliers_influence import variance_inflation_factor\n",
    "from statsmodels.stats.stattools import durbin_watson\n",
    "from sklearn.model_selection import GridSearchCV"
   ]
  },
  {
   "cell_type": "code",
   "execution_count": 161,
   "id": "9912eed6",
   "metadata": {},
   "outputs": [
    {
     "data": {
      "text/html": [
       "<div>\n",
       "<style scoped>\n",
       "    .dataframe tbody tr th:only-of-type {\n",
       "        vertical-align: middle;\n",
       "    }\n",
       "\n",
       "    .dataframe tbody tr th {\n",
       "        vertical-align: top;\n",
       "    }\n",
       "\n",
       "    .dataframe thead th {\n",
       "        text-align: right;\n",
       "    }\n",
       "</style>\n",
       "<table border=\"1\" class=\"dataframe\">\n",
       "  <thead>\n",
       "    <tr style=\"text-align: right;\">\n",
       "      <th></th>\n",
       "      <th>SlNo</th>\n",
       "      <th>Gender</th>\n",
       "      <th>Percent_SSC</th>\n",
       "      <th>Board_SSC</th>\n",
       "      <th>Percent_HSC</th>\n",
       "      <th>Board_HSC</th>\n",
       "      <th>Stream_HSC</th>\n",
       "      <th>Percent_Degree</th>\n",
       "      <th>Course_Degree</th>\n",
       "      <th>Experience_Yrs</th>\n",
       "      <th>Entrance_Test</th>\n",
       "      <th>Percentile_ET</th>\n",
       "      <th>Percent_MBA</th>\n",
       "      <th>Specialization_MBA</th>\n",
       "      <th>Marks_Communication</th>\n",
       "      <th>Marks_Projectwork</th>\n",
       "      <th>Marks_BOCA</th>\n",
       "      <th>Placement</th>\n",
       "      <th>Salary</th>\n",
       "    </tr>\n",
       "  </thead>\n",
       "  <tbody>\n",
       "    <tr>\n",
       "      <th>0</th>\n",
       "      <td>1</td>\n",
       "      <td>M</td>\n",
       "      <td>62.00</td>\n",
       "      <td>Others</td>\n",
       "      <td>88.00</td>\n",
       "      <td>Others</td>\n",
       "      <td>Commerce</td>\n",
       "      <td>52.00</td>\n",
       "      <td>Science</td>\n",
       "      <td>0</td>\n",
       "      <td>MAT</td>\n",
       "      <td>55.0</td>\n",
       "      <td>58.80</td>\n",
       "      <td>Marketing_HR</td>\n",
       "      <td>50</td>\n",
       "      <td>65</td>\n",
       "      <td>74</td>\n",
       "      <td>Placed</td>\n",
       "      <td>270000.0</td>\n",
       "    </tr>\n",
       "    <tr>\n",
       "      <th>1</th>\n",
       "      <td>2</td>\n",
       "      <td>M</td>\n",
       "      <td>76.33</td>\n",
       "      <td>ICSE</td>\n",
       "      <td>75.33</td>\n",
       "      <td>Others</td>\n",
       "      <td>Science</td>\n",
       "      <td>75.48</td>\n",
       "      <td>Computer_Applications</td>\n",
       "      <td>1</td>\n",
       "      <td>MAT</td>\n",
       "      <td>86.5</td>\n",
       "      <td>66.28</td>\n",
       "      <td>Marketing_Finance</td>\n",
       "      <td>69</td>\n",
       "      <td>70</td>\n",
       "      <td>75</td>\n",
       "      <td>Placed</td>\n",
       "      <td>200000.0</td>\n",
       "    </tr>\n",
       "    <tr>\n",
       "      <th>2</th>\n",
       "      <td>3</td>\n",
       "      <td>M</td>\n",
       "      <td>72.00</td>\n",
       "      <td>Others</td>\n",
       "      <td>78.00</td>\n",
       "      <td>Others</td>\n",
       "      <td>Commerce</td>\n",
       "      <td>66.63</td>\n",
       "      <td>Engineering</td>\n",
       "      <td>0</td>\n",
       "      <td>NaN</td>\n",
       "      <td>0.0</td>\n",
       "      <td>52.91</td>\n",
       "      <td>Marketing_Finance</td>\n",
       "      <td>50</td>\n",
       "      <td>61</td>\n",
       "      <td>59</td>\n",
       "      <td>Not_Placed</td>\n",
       "      <td>NaN</td>\n",
       "    </tr>\n",
       "    <tr>\n",
       "      <th>3</th>\n",
       "      <td>4</td>\n",
       "      <td>M</td>\n",
       "      <td>60.00</td>\n",
       "      <td>CBSE</td>\n",
       "      <td>63.00</td>\n",
       "      <td>CBSE</td>\n",
       "      <td>Arts</td>\n",
       "      <td>58.00</td>\n",
       "      <td>Management</td>\n",
       "      <td>0</td>\n",
       "      <td>MAT</td>\n",
       "      <td>75.0</td>\n",
       "      <td>57.80</td>\n",
       "      <td>Marketing_Finance</td>\n",
       "      <td>54</td>\n",
       "      <td>66</td>\n",
       "      <td>62</td>\n",
       "      <td>Placed</td>\n",
       "      <td>250000.0</td>\n",
       "    </tr>\n",
       "    <tr>\n",
       "      <th>4</th>\n",
       "      <td>5</td>\n",
       "      <td>M</td>\n",
       "      <td>61.00</td>\n",
       "      <td>CBSE</td>\n",
       "      <td>55.00</td>\n",
       "      <td>ISC</td>\n",
       "      <td>Science</td>\n",
       "      <td>54.00</td>\n",
       "      <td>Engineering</td>\n",
       "      <td>1</td>\n",
       "      <td>MAT</td>\n",
       "      <td>66.0</td>\n",
       "      <td>59.43</td>\n",
       "      <td>Marketing_HR</td>\n",
       "      <td>52</td>\n",
       "      <td>65</td>\n",
       "      <td>67</td>\n",
       "      <td>Placed</td>\n",
       "      <td>180000.0</td>\n",
       "    </tr>\n",
       "  </tbody>\n",
       "</table>\n",
       "</div>"
      ],
      "text/plain": [
       "   SlNo Gender  Percent_SSC Board_SSC  Percent_HSC Board_HSC Stream_HSC  \\\n",
       "0     1      M        62.00    Others        88.00    Others   Commerce   \n",
       "1     2      M        76.33      ICSE        75.33    Others    Science   \n",
       "2     3      M        72.00    Others        78.00    Others   Commerce   \n",
       "3     4      M        60.00      CBSE        63.00      CBSE       Arts   \n",
       "4     5      M        61.00      CBSE        55.00       ISC    Science   \n",
       "\n",
       "   Percent_Degree          Course_Degree  Experience_Yrs Entrance_Test  \\\n",
       "0           52.00                Science               0           MAT   \n",
       "1           75.48  Computer_Applications               1           MAT   \n",
       "2           66.63            Engineering               0           NaN   \n",
       "3           58.00             Management               0           MAT   \n",
       "4           54.00            Engineering               1           MAT   \n",
       "\n",
       "   Percentile_ET  Percent_MBA Specialization_MBA  Marks_Communication  \\\n",
       "0           55.0        58.80       Marketing_HR                   50   \n",
       "1           86.5        66.28  Marketing_Finance                   69   \n",
       "2            0.0        52.91  Marketing_Finance                   50   \n",
       "3           75.0        57.80  Marketing_Finance                   54   \n",
       "4           66.0        59.43       Marketing_HR                   52   \n",
       "\n",
       "   Marks_Projectwork  Marks_BOCA   Placement    Salary  \n",
       "0                 65          74      Placed  270000.0  \n",
       "1                 70          75      Placed  200000.0  \n",
       "2                 61          59  Not_Placed       NaN  \n",
       "3                 66          62      Placed  250000.0  \n",
       "4                 65          67      Placed  180000.0  "
      ]
     },
     "execution_count": 161,
     "metadata": {},
     "output_type": "execute_result"
    }
   ],
   "source": [
    "df = pd.read_excel('Admission.xlsx')\n",
    "df.head()\n"
   ]
  },
  {
   "cell_type": "code",
   "execution_count": 162,
   "id": "97d8009c",
   "metadata": {},
   "outputs": [
    {
     "data": {
      "text/plain": [
       "SlNo                    0.000000\n",
       "Gender                  0.000000\n",
       "Percent_SSC             0.000000\n",
       "Board_SSC               0.000000\n",
       "Percent_HSC             0.000000\n",
       "Board_HSC               0.000000\n",
       "Stream_HSC              0.000000\n",
       "Percent_Degree          0.000000\n",
       "Course_Degree           0.000000\n",
       "Experience_Yrs          0.000000\n",
       "Entrance_Test          17.135550\n",
       "Percentile_ET           0.000000\n",
       "Percent_MBA             0.000000\n",
       "Specialization_MBA      0.000000\n",
       "Marks_Communication     0.000000\n",
       "Marks_Projectwork       0.000000\n",
       "Marks_BOCA              0.000000\n",
       "Placement               0.000000\n",
       "Salary                  3.580563\n",
       "dtype: float64"
      ]
     },
     "execution_count": 162,
     "metadata": {},
     "output_type": "execute_result"
    }
   ],
   "source": [
    "df.isnull().sum()*100/len(df)"
   ]
  },
  {
   "cell_type": "code",
   "execution_count": 163,
   "id": "abb81c62",
   "metadata": {},
   "outputs": [],
   "source": [
    "df['Entrance_Test'] = df['Entrance_Test'].fillna('Management Seat')"
   ]
  },
  {
   "cell_type": "code",
   "execution_count": 164,
   "id": "d857bc68",
   "metadata": {},
   "outputs": [
    {
     "data": {
      "text/html": [
       "<div>\n",
       "<style scoped>\n",
       "    .dataframe tbody tr th:only-of-type {\n",
       "        vertical-align: middle;\n",
       "    }\n",
       "\n",
       "    .dataframe tbody tr th {\n",
       "        vertical-align: top;\n",
       "    }\n",
       "\n",
       "    .dataframe thead th {\n",
       "        text-align: right;\n",
       "    }\n",
       "</style>\n",
       "<table border=\"1\" class=\"dataframe\">\n",
       "  <thead>\n",
       "    <tr style=\"text-align: right;\">\n",
       "      <th></th>\n",
       "      <th>Percentile_ET</th>\n",
       "    </tr>\n",
       "  </thead>\n",
       "  <tbody>\n",
       "    <tr>\n",
       "      <th>count</th>\n",
       "      <td>67.0</td>\n",
       "    </tr>\n",
       "    <tr>\n",
       "      <th>mean</th>\n",
       "      <td>0.0</td>\n",
       "    </tr>\n",
       "    <tr>\n",
       "      <th>std</th>\n",
       "      <td>0.0</td>\n",
       "    </tr>\n",
       "    <tr>\n",
       "      <th>min</th>\n",
       "      <td>0.0</td>\n",
       "    </tr>\n",
       "    <tr>\n",
       "      <th>25%</th>\n",
       "      <td>0.0</td>\n",
       "    </tr>\n",
       "    <tr>\n",
       "      <th>50%</th>\n",
       "      <td>0.0</td>\n",
       "    </tr>\n",
       "    <tr>\n",
       "      <th>75%</th>\n",
       "      <td>0.0</td>\n",
       "    </tr>\n",
       "    <tr>\n",
       "      <th>max</th>\n",
       "      <td>0.0</td>\n",
       "    </tr>\n",
       "  </tbody>\n",
       "</table>\n",
       "</div>"
      ],
      "text/plain": [
       "       Percentile_ET\n",
       "count           67.0\n",
       "mean             0.0\n",
       "std              0.0\n",
       "min              0.0\n",
       "25%              0.0\n",
       "50%              0.0\n",
       "75%              0.0\n",
       "max              0.0"
      ]
     },
     "execution_count": 164,
     "metadata": {},
     "output_type": "execute_result"
    }
   ],
   "source": [
    "df[df['Entrance_Test'] == 'Management Seat'][['Percentile_ET']].describe()"
   ]
  },
  {
   "cell_type": "markdown",
   "id": "be851b87",
   "metadata": {},
   "source": [
    "#### Checking Salary"
   ]
  },
  {
   "cell_type": "code",
   "execution_count": 165,
   "id": "42b40158",
   "metadata": {},
   "outputs": [
    {
     "data": {
      "text/plain": [
       "Salary    4\n",
       "dtype: int64"
      ]
     },
     "execution_count": 165,
     "metadata": {},
     "output_type": "execute_result"
    }
   ],
   "source": [
    "df[df['Placement'] == \"Not_Placed\"][['Salary']].isnull().sum()"
   ]
  },
  {
   "cell_type": "code",
   "execution_count": 166,
   "id": "5f9664a2",
   "metadata": {},
   "outputs": [
    {
     "data": {
      "text/plain": [
       "Salary    10\n",
       "dtype: int64"
      ]
     },
     "execution_count": 166,
     "metadata": {},
     "output_type": "execute_result"
    }
   ],
   "source": [
    "df[df['Placement'] == \"Placed\"][['Salary']].isnull().sum()"
   ]
  },
  {
   "cell_type": "code",
   "execution_count": 167,
   "id": "d5613b9c",
   "metadata": {},
   "outputs": [
    {
     "data": {
      "text/plain": [
       "14"
      ]
     },
     "execution_count": 167,
     "metadata": {},
     "output_type": "execute_result"
    }
   ],
   "source": [
    "df['Salary'].isnull().sum()"
   ]
  },
  {
   "cell_type": "code",
   "execution_count": 168,
   "id": "db5faf3c",
   "metadata": {},
   "outputs": [],
   "source": [
    "df['Salary'] = df['Salary'].fillna(df['Salary'].median())\n",
    "#imputing with median, because even if data is skewed median wil not effect data much"
   ]
  },
  {
   "cell_type": "code",
   "execution_count": 169,
   "id": "995ba150",
   "metadata": {},
   "outputs": [],
   "source": [
    "df_num = df.select_dtypes(include = np.number)\n",
    "df_cat = df.select_dtypes(include = 'object')"
   ]
  },
  {
   "cell_type": "code",
   "execution_count": 170,
   "id": "72f18185",
   "metadata": {},
   "outputs": [
    {
     "data": {
      "text/plain": [
       "Index(['SlNo', 'Percent_SSC', 'Percent_HSC', 'Percent_Degree',\n",
       "       'Experience_Yrs', 'Percentile_ET', 'Percent_MBA', 'Marks_Communication',\n",
       "       'Marks_Projectwork', 'Marks_BOCA', 'Salary'],\n",
       "      dtype='object')"
      ]
     },
     "execution_count": 170,
     "metadata": {},
     "output_type": "execute_result"
    }
   ],
   "source": [
    "df_num.columns"
   ]
  },
  {
   "cell_type": "code",
   "execution_count": 171,
   "id": "c0829fba",
   "metadata": {},
   "outputs": [],
   "source": [
    "### Apply get dummies on CAT data"
   ]
  },
  {
   "cell_type": "code",
   "execution_count": 172,
   "id": "a0a7d3eb",
   "metadata": {},
   "outputs": [],
   "source": [
    "dummy_data = pd.get_dummies(df_cat, drop_first=True)"
   ]
  },
  {
   "cell_type": "code",
   "execution_count": 173,
   "id": "0a9fbde5",
   "metadata": {},
   "outputs": [],
   "source": [
    "df_final = pd.concat([df_num, dummy_data], axis = 1)"
   ]
  },
  {
   "cell_type": "code",
   "execution_count": 174,
   "id": "e6bef3c5",
   "metadata": {},
   "outputs": [],
   "source": [
    "df_final.drop(['SlNo','Placement_Placed'], axis = 1, inplace = True)"
   ]
  },
  {
   "cell_type": "code",
   "execution_count": 175,
   "id": "6a0728a8",
   "metadata": {},
   "outputs": [
    {
     "data": {
      "text/html": [
       "<div>\n",
       "<style scoped>\n",
       "    .dataframe tbody tr th:only-of-type {\n",
       "        vertical-align: middle;\n",
       "    }\n",
       "\n",
       "    .dataframe tbody tr th {\n",
       "        vertical-align: top;\n",
       "    }\n",
       "\n",
       "    .dataframe thead th {\n",
       "        text-align: right;\n",
       "    }\n",
       "</style>\n",
       "<table border=\"1\" class=\"dataframe\">\n",
       "  <thead>\n",
       "    <tr style=\"text-align: right;\">\n",
       "      <th></th>\n",
       "      <th>Percent_SSC</th>\n",
       "      <th>Percent_HSC</th>\n",
       "      <th>Percent_Degree</th>\n",
       "      <th>Experience_Yrs</th>\n",
       "      <th>Percentile_ET</th>\n",
       "      <th>Percent_MBA</th>\n",
       "      <th>Marks_Communication</th>\n",
       "      <th>Marks_Projectwork</th>\n",
       "      <th>Marks_BOCA</th>\n",
       "      <th>Salary</th>\n",
       "      <th>...</th>\n",
       "      <th>Entrance_Test_GCET</th>\n",
       "      <th>Entrance_Test_GMAT</th>\n",
       "      <th>Entrance_Test_GSAT</th>\n",
       "      <th>Entrance_Test_KMAT</th>\n",
       "      <th>Entrance_Test_MAT</th>\n",
       "      <th>Entrance_Test_Management Seat</th>\n",
       "      <th>Entrance_Test_PGCET</th>\n",
       "      <th>Entrance_Test_XAT</th>\n",
       "      <th>Specialization_MBA_Marketing_HR</th>\n",
       "      <th>Specialization_MBA_Marketing_IB</th>\n",
       "    </tr>\n",
       "  </thead>\n",
       "  <tbody>\n",
       "    <tr>\n",
       "      <th>0</th>\n",
       "      <td>62.00</td>\n",
       "      <td>88.00</td>\n",
       "      <td>52.00</td>\n",
       "      <td>0</td>\n",
       "      <td>55.00</td>\n",
       "      <td>58.80</td>\n",
       "      <td>50</td>\n",
       "      <td>65</td>\n",
       "      <td>74</td>\n",
       "      <td>270000.0</td>\n",
       "      <td>...</td>\n",
       "      <td>0</td>\n",
       "      <td>0</td>\n",
       "      <td>0</td>\n",
       "      <td>0</td>\n",
       "      <td>1</td>\n",
       "      <td>0</td>\n",
       "      <td>0</td>\n",
       "      <td>0</td>\n",
       "      <td>1</td>\n",
       "      <td>0</td>\n",
       "    </tr>\n",
       "    <tr>\n",
       "      <th>1</th>\n",
       "      <td>76.33</td>\n",
       "      <td>75.33</td>\n",
       "      <td>75.48</td>\n",
       "      <td>1</td>\n",
       "      <td>86.50</td>\n",
       "      <td>66.28</td>\n",
       "      <td>69</td>\n",
       "      <td>70</td>\n",
       "      <td>75</td>\n",
       "      <td>200000.0</td>\n",
       "      <td>...</td>\n",
       "      <td>0</td>\n",
       "      <td>0</td>\n",
       "      <td>0</td>\n",
       "      <td>0</td>\n",
       "      <td>1</td>\n",
       "      <td>0</td>\n",
       "      <td>0</td>\n",
       "      <td>0</td>\n",
       "      <td>0</td>\n",
       "      <td>0</td>\n",
       "    </tr>\n",
       "    <tr>\n",
       "      <th>2</th>\n",
       "      <td>72.00</td>\n",
       "      <td>78.00</td>\n",
       "      <td>66.63</td>\n",
       "      <td>0</td>\n",
       "      <td>0.00</td>\n",
       "      <td>52.91</td>\n",
       "      <td>50</td>\n",
       "      <td>61</td>\n",
       "      <td>59</td>\n",
       "      <td>250000.0</td>\n",
       "      <td>...</td>\n",
       "      <td>0</td>\n",
       "      <td>0</td>\n",
       "      <td>0</td>\n",
       "      <td>0</td>\n",
       "      <td>0</td>\n",
       "      <td>1</td>\n",
       "      <td>0</td>\n",
       "      <td>0</td>\n",
       "      <td>0</td>\n",
       "      <td>0</td>\n",
       "    </tr>\n",
       "    <tr>\n",
       "      <th>3</th>\n",
       "      <td>60.00</td>\n",
       "      <td>63.00</td>\n",
       "      <td>58.00</td>\n",
       "      <td>0</td>\n",
       "      <td>75.00</td>\n",
       "      <td>57.80</td>\n",
       "      <td>54</td>\n",
       "      <td>66</td>\n",
       "      <td>62</td>\n",
       "      <td>250000.0</td>\n",
       "      <td>...</td>\n",
       "      <td>0</td>\n",
       "      <td>0</td>\n",
       "      <td>0</td>\n",
       "      <td>0</td>\n",
       "      <td>1</td>\n",
       "      <td>0</td>\n",
       "      <td>0</td>\n",
       "      <td>0</td>\n",
       "      <td>0</td>\n",
       "      <td>0</td>\n",
       "    </tr>\n",
       "    <tr>\n",
       "      <th>4</th>\n",
       "      <td>61.00</td>\n",
       "      <td>55.00</td>\n",
       "      <td>54.00</td>\n",
       "      <td>1</td>\n",
       "      <td>66.00</td>\n",
       "      <td>59.43</td>\n",
       "      <td>52</td>\n",
       "      <td>65</td>\n",
       "      <td>67</td>\n",
       "      <td>180000.0</td>\n",
       "      <td>...</td>\n",
       "      <td>0</td>\n",
       "      <td>0</td>\n",
       "      <td>0</td>\n",
       "      <td>0</td>\n",
       "      <td>1</td>\n",
       "      <td>0</td>\n",
       "      <td>0</td>\n",
       "      <td>0</td>\n",
       "      <td>1</td>\n",
       "      <td>0</td>\n",
       "    </tr>\n",
       "    <tr>\n",
       "      <th>...</th>\n",
       "      <td>...</td>\n",
       "      <td>...</td>\n",
       "      <td>...</td>\n",
       "      <td>...</td>\n",
       "      <td>...</td>\n",
       "      <td>...</td>\n",
       "      <td>...</td>\n",
       "      <td>...</td>\n",
       "      <td>...</td>\n",
       "      <td>...</td>\n",
       "      <td>...</td>\n",
       "      <td>...</td>\n",
       "      <td>...</td>\n",
       "      <td>...</td>\n",
       "      <td>...</td>\n",
       "      <td>...</td>\n",
       "      <td>...</td>\n",
       "      <td>...</td>\n",
       "      <td>...</td>\n",
       "      <td>...</td>\n",
       "      <td>...</td>\n",
       "    </tr>\n",
       "    <tr>\n",
       "      <th>386</th>\n",
       "      <td>62.60</td>\n",
       "      <td>50.60</td>\n",
       "      <td>52.00</td>\n",
       "      <td>0</td>\n",
       "      <td>34.53</td>\n",
       "      <td>58.63</td>\n",
       "      <td>62</td>\n",
       "      <td>57</td>\n",
       "      <td>56</td>\n",
       "      <td>162000.0</td>\n",
       "      <td>...</td>\n",
       "      <td>0</td>\n",
       "      <td>0</td>\n",
       "      <td>0</td>\n",
       "      <td>0</td>\n",
       "      <td>1</td>\n",
       "      <td>0</td>\n",
       "      <td>0</td>\n",
       "      <td>0</td>\n",
       "      <td>1</td>\n",
       "      <td>0</td>\n",
       "    </tr>\n",
       "    <tr>\n",
       "      <th>387</th>\n",
       "      <td>77.00</td>\n",
       "      <td>49.50</td>\n",
       "      <td>64.00</td>\n",
       "      <td>0</td>\n",
       "      <td>50.53</td>\n",
       "      <td>59.50</td>\n",
       "      <td>70</td>\n",
       "      <td>59</td>\n",
       "      <td>56</td>\n",
       "      <td>450000.0</td>\n",
       "      <td>...</td>\n",
       "      <td>0</td>\n",
       "      <td>0</td>\n",
       "      <td>0</td>\n",
       "      <td>0</td>\n",
       "      <td>1</td>\n",
       "      <td>0</td>\n",
       "      <td>0</td>\n",
       "      <td>0</td>\n",
       "      <td>0</td>\n",
       "      <td>0</td>\n",
       "    </tr>\n",
       "    <tr>\n",
       "      <th>388</th>\n",
       "      <td>66.40</td>\n",
       "      <td>72.00</td>\n",
       "      <td>57.00</td>\n",
       "      <td>0</td>\n",
       "      <td>60.00</td>\n",
       "      <td>61.63</td>\n",
       "      <td>73</td>\n",
       "      <td>73</td>\n",
       "      <td>54</td>\n",
       "      <td>240000.0</td>\n",
       "      <td>...</td>\n",
       "      <td>0</td>\n",
       "      <td>0</td>\n",
       "      <td>0</td>\n",
       "      <td>0</td>\n",
       "      <td>1</td>\n",
       "      <td>0</td>\n",
       "      <td>0</td>\n",
       "      <td>0</td>\n",
       "      <td>0</td>\n",
       "      <td>1</td>\n",
       "    </tr>\n",
       "    <tr>\n",
       "      <th>389</th>\n",
       "      <td>70.00</td>\n",
       "      <td>77.00</td>\n",
       "      <td>53.00</td>\n",
       "      <td>0</td>\n",
       "      <td>77.00</td>\n",
       "      <td>70.17</td>\n",
       "      <td>67</td>\n",
       "      <td>77</td>\n",
       "      <td>57</td>\n",
       "      <td>300000.0</td>\n",
       "      <td>...</td>\n",
       "      <td>0</td>\n",
       "      <td>0</td>\n",
       "      <td>0</td>\n",
       "      <td>0</td>\n",
       "      <td>1</td>\n",
       "      <td>0</td>\n",
       "      <td>0</td>\n",
       "      <td>0</td>\n",
       "      <td>0</td>\n",
       "      <td>0</td>\n",
       "    </tr>\n",
       "    <tr>\n",
       "      <th>390</th>\n",
       "      <td>74.00</td>\n",
       "      <td>85.00</td>\n",
       "      <td>60.00</td>\n",
       "      <td>0</td>\n",
       "      <td>58.89</td>\n",
       "      <td>60.36</td>\n",
       "      <td>64</td>\n",
       "      <td>67</td>\n",
       "      <td>63</td>\n",
       "      <td>0.0</td>\n",
       "      <td>...</td>\n",
       "      <td>0</td>\n",
       "      <td>0</td>\n",
       "      <td>0</td>\n",
       "      <td>0</td>\n",
       "      <td>1</td>\n",
       "      <td>0</td>\n",
       "      <td>0</td>\n",
       "      <td>0</td>\n",
       "      <td>0</td>\n",
       "      <td>0</td>\n",
       "    </tr>\n",
       "  </tbody>\n",
       "</table>\n",
       "<p>391 rows × 33 columns</p>\n",
       "</div>"
      ],
      "text/plain": [
       "     Percent_SSC  Percent_HSC  Percent_Degree  Experience_Yrs  Percentile_ET  \\\n",
       "0          62.00        88.00           52.00               0          55.00   \n",
       "1          76.33        75.33           75.48               1          86.50   \n",
       "2          72.00        78.00           66.63               0           0.00   \n",
       "3          60.00        63.00           58.00               0          75.00   \n",
       "4          61.00        55.00           54.00               1          66.00   \n",
       "..           ...          ...             ...             ...            ...   \n",
       "386        62.60        50.60           52.00               0          34.53   \n",
       "387        77.00        49.50           64.00               0          50.53   \n",
       "388        66.40        72.00           57.00               0          60.00   \n",
       "389        70.00        77.00           53.00               0          77.00   \n",
       "390        74.00        85.00           60.00               0          58.89   \n",
       "\n",
       "     Percent_MBA  Marks_Communication  Marks_Projectwork  Marks_BOCA  \\\n",
       "0          58.80                   50                 65          74   \n",
       "1          66.28                   69                 70          75   \n",
       "2          52.91                   50                 61          59   \n",
       "3          57.80                   54                 66          62   \n",
       "4          59.43                   52                 65          67   \n",
       "..           ...                  ...                ...         ...   \n",
       "386        58.63                   62                 57          56   \n",
       "387        59.50                   70                 59          56   \n",
       "388        61.63                   73                 73          54   \n",
       "389        70.17                   67                 77          57   \n",
       "390        60.36                   64                 67          63   \n",
       "\n",
       "       Salary  ...  Entrance_Test_GCET  Entrance_Test_GMAT  \\\n",
       "0    270000.0  ...                   0                   0   \n",
       "1    200000.0  ...                   0                   0   \n",
       "2    250000.0  ...                   0                   0   \n",
       "3    250000.0  ...                   0                   0   \n",
       "4    180000.0  ...                   0                   0   \n",
       "..        ...  ...                 ...                 ...   \n",
       "386  162000.0  ...                   0                   0   \n",
       "387  450000.0  ...                   0                   0   \n",
       "388  240000.0  ...                   0                   0   \n",
       "389  300000.0  ...                   0                   0   \n",
       "390       0.0  ...                   0                   0   \n",
       "\n",
       "     Entrance_Test_GSAT  Entrance_Test_KMAT  Entrance_Test_MAT  \\\n",
       "0                     0                   0                  1   \n",
       "1                     0                   0                  1   \n",
       "2                     0                   0                  0   \n",
       "3                     0                   0                  1   \n",
       "4                     0                   0                  1   \n",
       "..                  ...                 ...                ...   \n",
       "386                   0                   0                  1   \n",
       "387                   0                   0                  1   \n",
       "388                   0                   0                  1   \n",
       "389                   0                   0                  1   \n",
       "390                   0                   0                  1   \n",
       "\n",
       "     Entrance_Test_Management Seat  Entrance_Test_PGCET  Entrance_Test_XAT  \\\n",
       "0                                0                    0                  0   \n",
       "1                                0                    0                  0   \n",
       "2                                1                    0                  0   \n",
       "3                                0                    0                  0   \n",
       "4                                0                    0                  0   \n",
       "..                             ...                  ...                ...   \n",
       "386                              0                    0                  0   \n",
       "387                              0                    0                  0   \n",
       "388                              0                    0                  0   \n",
       "389                              0                    0                  0   \n",
       "390                              0                    0                  0   \n",
       "\n",
       "     Specialization_MBA_Marketing_HR  Specialization_MBA_Marketing_IB  \n",
       "0                                  1                                0  \n",
       "1                                  0                                0  \n",
       "2                                  0                                0  \n",
       "3                                  0                                0  \n",
       "4                                  1                                0  \n",
       "..                               ...                              ...  \n",
       "386                                1                                0  \n",
       "387                                0                                0  \n",
       "388                                0                                1  \n",
       "389                                0                                0  \n",
       "390                                0                                0  \n",
       "\n",
       "[391 rows x 33 columns]"
      ]
     },
     "execution_count": 175,
     "metadata": {},
     "output_type": "execute_result"
    }
   ],
   "source": [
    "df_final"
   ]
  },
  {
   "cell_type": "code",
   "execution_count": 176,
   "id": "d23c69de",
   "metadata": {},
   "outputs": [],
   "source": [
    "X = df_final.drop('Salary', axis = 1)\n",
    "y = df_final['Salary']\n",
    "X_train, X_test, y_train, y_test = train_test_split(X, y, test_size=0.3, random_state=100)"
   ]
  },
  {
   "cell_type": "code",
   "execution_count": 177,
   "id": "d10d2d79",
   "metadata": {},
   "outputs": [
    {
     "name": "stdout",
     "output_type": "stream",
     "text": [
      "(273, 32)\n",
      "(118, 32)\n",
      "(273,)\n",
      "(118,)\n"
     ]
    }
   ],
   "source": [
    "print(X_train.shape)\n",
    "print(X_test.shape)\n",
    "print(y_train.shape)\n",
    "print(y_test.shape)"
   ]
  },
  {
   "cell_type": "markdown",
   "id": "884f4e90",
   "metadata": {},
   "source": [
    "- Import the model library\n",
    "- Initiate\n",
    "- Fit\n",
    "- Predict\n",
    "- Metric Evaluation"
   ]
  },
  {
   "cell_type": "markdown",
   "id": "1b5cee93",
   "metadata": {},
   "source": [
    "### Linear Regression"
   ]
  },
  {
   "cell_type": "code",
   "execution_count": 178,
   "id": "bb770a0a",
   "metadata": {},
   "outputs": [],
   "source": [
    "lr = LinearRegression()\n",
    "lr_base_model = lr.fit(X_train, y_train)"
   ]
  },
  {
   "cell_type": "code",
   "execution_count": 179,
   "id": "cc1ecd33",
   "metadata": {},
   "outputs": [
    {
     "data": {
      "text/plain": [
       "-271340.07260046515"
      ]
     },
     "execution_count": 179,
     "metadata": {},
     "output_type": "execute_result"
    }
   ],
   "source": [
    "lr_base_model.intercept_"
   ]
  },
  {
   "cell_type": "code",
   "execution_count": 180,
   "id": "07e25e6f",
   "metadata": {},
   "outputs": [
    {
     "data": {
      "text/plain": [
       "array([ 2.89373325e+03, -1.80831309e+02,  1.24176805e+02,  2.95662486e+04,\n",
       "        7.66410481e+02,  1.69055262e+03, -1.48224026e+03,  2.92377423e+03,\n",
       "        1.96223250e+02,  6.80012453e+04, -3.30768474e+04, -4.33124876e+04,\n",
       "        6.74030750e+03,  1.27367646e+04,  1.32302180e+04,  6.12355669e+03,\n",
       "        3.33307655e+04, -1.11122346e+04,  1.19898058e+04,  1.64606652e+04,\n",
       "       -9.38786796e+03,  2.34783808e+04,  7.55905541e+04,  2.18278728e-11,\n",
       "        8.04150841e+04,  1.53297823e+04, -3.70969395e+04,  1.51580920e+04,\n",
       "       -2.64808613e+04,  3.55282872e+03, -5.04053952e+03, -4.18449575e+04])"
      ]
     },
     "execution_count": 180,
     "metadata": {},
     "output_type": "execute_result"
    }
   ],
   "source": [
    "lr_base_model.coef_"
   ]
  },
  {
   "cell_type": "code",
   "execution_count": 181,
   "id": "79945e20",
   "metadata": {},
   "outputs": [],
   "source": [
    "y_pred_BM = lr_base_model.predict(X_test)"
   ]
  },
  {
   "cell_type": "markdown",
   "id": "088d5fa2",
   "metadata": {},
   "source": [
    "#### R2 score and MSE"
   ]
  },
  {
   "cell_type": "code",
   "execution_count": 182,
   "id": "edb663a7",
   "metadata": {},
   "outputs": [],
   "source": [
    "# syntax - r2(actual, predicted)"
   ]
  },
  {
   "cell_type": "code",
   "execution_count": 183,
   "id": "5b11572e",
   "metadata": {},
   "outputs": [
    {
     "data": {
      "text/plain": [
       "-0.018079363921897462"
      ]
     },
     "execution_count": 183,
     "metadata": {},
     "output_type": "execute_result"
    }
   ],
   "source": [
    "r2_score(y_test, y_pred_BM)"
   ]
  },
  {
   "cell_type": "code",
   "execution_count": 184,
   "id": "247b4166",
   "metadata": {},
   "outputs": [
    {
     "data": {
      "text/plain": [
       "136080.90335109408"
      ]
     },
     "execution_count": 184,
     "metadata": {},
     "output_type": "execute_result"
    }
   ],
   "source": [
    "np.sqrt(mean_squared_error(y_test, y_pred_BM))"
   ]
  },
  {
   "cell_type": "code",
   "execution_count": 185,
   "id": "460b931a",
   "metadata": {},
   "outputs": [],
   "source": [
    "# root itself high da dei...."
   ]
  },
  {
   "cell_type": "code",
   "execution_count": 186,
   "id": "25af5499",
   "metadata": {},
   "outputs": [],
   "source": [
    "## justc checking with xtrain itself "
   ]
  },
  {
   "cell_type": "code",
   "execution_count": 187,
   "id": "37d60493",
   "metadata": {},
   "outputs": [],
   "source": [
    "train_pred = lr_base_model.predict(X_train)"
   ]
  },
  {
   "cell_type": "code",
   "execution_count": 188,
   "id": "fdd9d52b",
   "metadata": {},
   "outputs": [
    {
     "data": {
      "text/plain": [
       "0.20546134529072457"
      ]
     },
     "execution_count": 188,
     "metadata": {},
     "output_type": "execute_result"
    }
   ],
   "source": [
    "r2_score(y_train, train_pred)"
   ]
  },
  {
   "cell_type": "code",
   "execution_count": null,
   "id": "18abf7ea",
   "metadata": {},
   "outputs": [],
   "source": []
  },
  {
   "cell_type": "code",
   "execution_count": null,
   "id": "8e14116b",
   "metadata": {},
   "outputs": [],
   "source": []
  },
  {
   "cell_type": "code",
   "execution_count": null,
   "id": "7ae5e5b5",
   "metadata": {},
   "outputs": [],
   "source": []
  },
  {
   "cell_type": "code",
   "execution_count": 189,
   "id": "0d00511f",
   "metadata": {},
   "outputs": [
    {
     "data": {
      "text/html": [
       "<div>\n",
       "<style scoped>\n",
       "    .dataframe tbody tr th:only-of-type {\n",
       "        vertical-align: middle;\n",
       "    }\n",
       "\n",
       "    .dataframe tbody tr th {\n",
       "        vertical-align: top;\n",
       "    }\n",
       "\n",
       "    .dataframe thead th {\n",
       "        text-align: right;\n",
       "    }\n",
       "</style>\n",
       "<table border=\"1\" class=\"dataframe\">\n",
       "  <thead>\n",
       "    <tr style=\"text-align: right;\">\n",
       "      <th></th>\n",
       "      <th>SlNo</th>\n",
       "      <th>Percent_SSC</th>\n",
       "      <th>Percent_HSC</th>\n",
       "      <th>Percent_Degree</th>\n",
       "      <th>Experience_Yrs</th>\n",
       "      <th>Percentile_ET</th>\n",
       "      <th>Percent_MBA</th>\n",
       "      <th>Marks_Communication</th>\n",
       "      <th>Marks_Projectwork</th>\n",
       "      <th>Marks_BOCA</th>\n",
       "      <th>Salary</th>\n",
       "    </tr>\n",
       "  </thead>\n",
       "  <tbody>\n",
       "    <tr>\n",
       "      <th>SlNo</th>\n",
       "      <td>1.000000</td>\n",
       "      <td>0.003387</td>\n",
       "      <td>-0.069011</td>\n",
       "      <td>0.039278</td>\n",
       "      <td>0.015916</td>\n",
       "      <td>0.037508</td>\n",
       "      <td>0.076063</td>\n",
       "      <td>0.137206</td>\n",
       "      <td>0.018849</td>\n",
       "      <td>0.039268</td>\n",
       "      <td>-0.101662</td>\n",
       "    </tr>\n",
       "    <tr>\n",
       "      <th>Percent_SSC</th>\n",
       "      <td>0.003387</td>\n",
       "      <td>1.000000</td>\n",
       "      <td>0.396585</td>\n",
       "      <td>0.413072</td>\n",
       "      <td>-0.015237</td>\n",
       "      <td>0.211517</td>\n",
       "      <td>0.475638</td>\n",
       "      <td>0.476279</td>\n",
       "      <td>0.132496</td>\n",
       "      <td>0.271597</td>\n",
       "      <td>0.196996</td>\n",
       "    </tr>\n",
       "    <tr>\n",
       "      <th>Percent_HSC</th>\n",
       "      <td>-0.069011</td>\n",
       "      <td>0.396585</td>\n",
       "      <td>1.000000</td>\n",
       "      <td>0.338943</td>\n",
       "      <td>-0.042638</td>\n",
       "      <td>0.151457</td>\n",
       "      <td>0.380495</td>\n",
       "      <td>0.321432</td>\n",
       "      <td>0.160446</td>\n",
       "      <td>0.156589</td>\n",
       "      <td>0.090740</td>\n",
       "    </tr>\n",
       "    <tr>\n",
       "      <th>Percent_Degree</th>\n",
       "      <td>0.039278</td>\n",
       "      <td>0.413072</td>\n",
       "      <td>0.338943</td>\n",
       "      <td>1.000000</td>\n",
       "      <td>-0.029147</td>\n",
       "      <td>0.213127</td>\n",
       "      <td>0.447138</td>\n",
       "      <td>0.412716</td>\n",
       "      <td>0.191756</td>\n",
       "      <td>0.268876</td>\n",
       "      <td>0.090828</td>\n",
       "    </tr>\n",
       "    <tr>\n",
       "      <th>Experience_Yrs</th>\n",
       "      <td>0.015916</td>\n",
       "      <td>-0.015237</td>\n",
       "      <td>-0.042638</td>\n",
       "      <td>-0.029147</td>\n",
       "      <td>1.000000</td>\n",
       "      <td>-0.009219</td>\n",
       "      <td>0.160725</td>\n",
       "      <td>0.086718</td>\n",
       "      <td>0.142599</td>\n",
       "      <td>0.172957</td>\n",
       "      <td>0.154696</td>\n",
       "    </tr>\n",
       "    <tr>\n",
       "      <th>Percentile_ET</th>\n",
       "      <td>0.037508</td>\n",
       "      <td>0.211517</td>\n",
       "      <td>0.151457</td>\n",
       "      <td>0.213127</td>\n",
       "      <td>-0.009219</td>\n",
       "      <td>1.000000</td>\n",
       "      <td>0.214161</td>\n",
       "      <td>0.200447</td>\n",
       "      <td>0.146226</td>\n",
       "      <td>0.138224</td>\n",
       "      <td>0.149208</td>\n",
       "    </tr>\n",
       "    <tr>\n",
       "      <th>Percent_MBA</th>\n",
       "      <td>0.076063</td>\n",
       "      <td>0.475638</td>\n",
       "      <td>0.380495</td>\n",
       "      <td>0.447138</td>\n",
       "      <td>0.160725</td>\n",
       "      <td>0.214161</td>\n",
       "      <td>1.000000</td>\n",
       "      <td>0.706999</td>\n",
       "      <td>0.435558</td>\n",
       "      <td>0.476736</td>\n",
       "      <td>0.169224</td>\n",
       "    </tr>\n",
       "    <tr>\n",
       "      <th>Marks_Communication</th>\n",
       "      <td>0.137206</td>\n",
       "      <td>0.476279</td>\n",
       "      <td>0.321432</td>\n",
       "      <td>0.412716</td>\n",
       "      <td>0.086718</td>\n",
       "      <td>0.200447</td>\n",
       "      <td>0.706999</td>\n",
       "      <td>1.000000</td>\n",
       "      <td>0.308851</td>\n",
       "      <td>0.210567</td>\n",
       "      <td>0.123384</td>\n",
       "    </tr>\n",
       "    <tr>\n",
       "      <th>Marks_Projectwork</th>\n",
       "      <td>0.018849</td>\n",
       "      <td>0.132496</td>\n",
       "      <td>0.160446</td>\n",
       "      <td>0.191756</td>\n",
       "      <td>0.142599</td>\n",
       "      <td>0.146226</td>\n",
       "      <td>0.435558</td>\n",
       "      <td>0.308851</td>\n",
       "      <td>1.000000</td>\n",
       "      <td>0.260201</td>\n",
       "      <td>0.145916</td>\n",
       "    </tr>\n",
       "    <tr>\n",
       "      <th>Marks_BOCA</th>\n",
       "      <td>0.039268</td>\n",
       "      <td>0.271597</td>\n",
       "      <td>0.156589</td>\n",
       "      <td>0.268876</td>\n",
       "      <td>0.172957</td>\n",
       "      <td>0.138224</td>\n",
       "      <td>0.476736</td>\n",
       "      <td>0.210567</td>\n",
       "      <td>0.260201</td>\n",
       "      <td>1.000000</td>\n",
       "      <td>0.125820</td>\n",
       "    </tr>\n",
       "    <tr>\n",
       "      <th>Salary</th>\n",
       "      <td>-0.101662</td>\n",
       "      <td>0.196996</td>\n",
       "      <td>0.090740</td>\n",
       "      <td>0.090828</td>\n",
       "      <td>0.154696</td>\n",
       "      <td>0.149208</td>\n",
       "      <td>0.169224</td>\n",
       "      <td>0.123384</td>\n",
       "      <td>0.145916</td>\n",
       "      <td>0.125820</td>\n",
       "      <td>1.000000</td>\n",
       "    </tr>\n",
       "  </tbody>\n",
       "</table>\n",
       "</div>"
      ],
      "text/plain": [
       "                         SlNo  Percent_SSC  Percent_HSC  Percent_Degree  \\\n",
       "SlNo                 1.000000     0.003387    -0.069011        0.039278   \n",
       "Percent_SSC          0.003387     1.000000     0.396585        0.413072   \n",
       "Percent_HSC         -0.069011     0.396585     1.000000        0.338943   \n",
       "Percent_Degree       0.039278     0.413072     0.338943        1.000000   \n",
       "Experience_Yrs       0.015916    -0.015237    -0.042638       -0.029147   \n",
       "Percentile_ET        0.037508     0.211517     0.151457        0.213127   \n",
       "Percent_MBA          0.076063     0.475638     0.380495        0.447138   \n",
       "Marks_Communication  0.137206     0.476279     0.321432        0.412716   \n",
       "Marks_Projectwork    0.018849     0.132496     0.160446        0.191756   \n",
       "Marks_BOCA           0.039268     0.271597     0.156589        0.268876   \n",
       "Salary              -0.101662     0.196996     0.090740        0.090828   \n",
       "\n",
       "                     Experience_Yrs  Percentile_ET  Percent_MBA  \\\n",
       "SlNo                       0.015916       0.037508     0.076063   \n",
       "Percent_SSC               -0.015237       0.211517     0.475638   \n",
       "Percent_HSC               -0.042638       0.151457     0.380495   \n",
       "Percent_Degree            -0.029147       0.213127     0.447138   \n",
       "Experience_Yrs             1.000000      -0.009219     0.160725   \n",
       "Percentile_ET             -0.009219       1.000000     0.214161   \n",
       "Percent_MBA                0.160725       0.214161     1.000000   \n",
       "Marks_Communication        0.086718       0.200447     0.706999   \n",
       "Marks_Projectwork          0.142599       0.146226     0.435558   \n",
       "Marks_BOCA                 0.172957       0.138224     0.476736   \n",
       "Salary                     0.154696       0.149208     0.169224   \n",
       "\n",
       "                     Marks_Communication  Marks_Projectwork  Marks_BOCA  \\\n",
       "SlNo                            0.137206           0.018849    0.039268   \n",
       "Percent_SSC                     0.476279           0.132496    0.271597   \n",
       "Percent_HSC                     0.321432           0.160446    0.156589   \n",
       "Percent_Degree                  0.412716           0.191756    0.268876   \n",
       "Experience_Yrs                  0.086718           0.142599    0.172957   \n",
       "Percentile_ET                   0.200447           0.146226    0.138224   \n",
       "Percent_MBA                     0.706999           0.435558    0.476736   \n",
       "Marks_Communication             1.000000           0.308851    0.210567   \n",
       "Marks_Projectwork               0.308851           1.000000    0.260201   \n",
       "Marks_BOCA                      0.210567           0.260201    1.000000   \n",
       "Salary                          0.123384           0.145916    0.125820   \n",
       "\n",
       "                       Salary  \n",
       "SlNo                -0.101662  \n",
       "Percent_SSC          0.196996  \n",
       "Percent_HSC          0.090740  \n",
       "Percent_Degree       0.090828  \n",
       "Experience_Yrs       0.154696  \n",
       "Percentile_ET        0.149208  \n",
       "Percent_MBA          0.169224  \n",
       "Marks_Communication  0.123384  \n",
       "Marks_Projectwork    0.145916  \n",
       "Marks_BOCA           0.125820  \n",
       "Salary               1.000000  "
      ]
     },
     "execution_count": 189,
     "metadata": {},
     "output_type": "execute_result"
    }
   ],
   "source": [
    "df.corr()"
   ]
  },
  {
   "cell_type": "code",
   "execution_count": null,
   "id": "ca4d73fd",
   "metadata": {},
   "outputs": [],
   "source": []
  },
  {
   "cell_type": "markdown",
   "id": "3a4121ec",
   "metadata": {},
   "source": [
    "### Lasso"
   ]
  },
  {
   "cell_type": "code",
   "execution_count": 190,
   "id": "d3a7ed30",
   "metadata": {},
   "outputs": [
    {
     "name": "stdout",
     "output_type": "stream",
     "text": [
      "RMSE lasso_BM 136075.6545892024\n",
      "r_square lasso_bm -0.018000828977145167\n"
     ]
    }
   ],
   "source": [
    "lasso = Lasso()\n",
    "lasso_BM = lasso.fit(X_train, y_train)\n",
    "lasso_pred_BM = lasso_BM.predict(X_test)\n",
    "print('RMSE lasso_BM', np.sqrt(mean_squared_error(y_test, lasso_pred_BM)))\n",
    "print('r_square lasso_bm', r2_score(y_test, lasso_pred_BM))"
   ]
  },
  {
   "cell_type": "markdown",
   "id": "9e8ce3a7",
   "metadata": {},
   "source": [
    "### Ridge"
   ]
  },
  {
   "cell_type": "code",
   "execution_count": 191,
   "id": "8466b56d",
   "metadata": {},
   "outputs": [
    {
     "name": "stdout",
     "output_type": "stream",
     "text": [
      "RMSE lasso_BM 135542.2607586074\n",
      "r_square lasso_bm -0.010035684325727878\n"
     ]
    }
   ],
   "source": [
    "ridge = Ridge()\n",
    "ridge_BM = ridge.fit(X_train, y_train)\n",
    "ridge_pred_BM = ridge_BM.predict(X_test)\n",
    "print('RMSE lasso_BM', np.sqrt(mean_squared_error(y_test, ridge_pred_BM)))\n",
    "print('r_square lasso_bm', r2_score(y_test, ridge_pred_BM))"
   ]
  },
  {
   "cell_type": "markdown",
   "id": "7e0df8e2",
   "metadata": {},
   "source": [
    "### Elastic Net"
   ]
  },
  {
   "cell_type": "code",
   "execution_count": 194,
   "id": "ef646abd",
   "metadata": {},
   "outputs": [
    {
     "name": "stdout",
     "output_type": "stream",
     "text": [
      "RMSE enet 133915.77309055798\n",
      "r_square enet 0.014059440399710965\n"
     ]
    }
   ],
   "source": [
    "enet = ElasticNet()\n",
    "enet_BM = enet.fit(X_train, y_train)\n",
    "enet_BM_pred = enet_BM.predict(X_test)\n",
    "print('RMSE enet', np.sqrt(mean_squared_error(y_test, enet_BM_pred)))\n",
    "print('r_square enet', r2_score(y_test, enet_BM_pred))"
   ]
  },
  {
   "cell_type": "markdown",
   "id": "3a4ff4cf",
   "metadata": {},
   "source": [
    "### SGD (Stochastic Gradient Descent)"
   ]
  },
  {
   "cell_type": "code",
   "execution_count": 244,
   "id": "62afaa26",
   "metadata": {},
   "outputs": [
    {
     "name": "stdout",
     "output_type": "stream",
     "text": [
      "RMSE SGD 2016945068905.1912\n",
      "r_square SGD -223653350301185.9\n"
     ]
    }
   ],
   "source": [
    "SGD = SGDRegressor()\n",
    "SGD_BM = SGD.fit(X_train, y_train)\n",
    "SGD_BM_pred = SGD_BM.predict(X_test)\n",
    "print('RMSE SGD', np.sqrt(mean_squared_error(y_test, SGD_BM_pred)))\n",
    "print('r_square SGD', r2_score(y_test, SGD_BM_pred))"
   ]
  },
  {
   "cell_type": "markdown",
   "id": "185a97c4",
   "metadata": {},
   "source": [
    "## Grid Search CV"
   ]
  },
  {
   "cell_type": "code",
   "execution_count": 245,
   "id": "7520d930",
   "metadata": {},
   "outputs": [
    {
     "data": {
      "text/html": [
       "<style>#sk-container-id-4 {color: black;background-color: white;}#sk-container-id-4 pre{padding: 0;}#sk-container-id-4 div.sk-toggleable {background-color: white;}#sk-container-id-4 label.sk-toggleable__label {cursor: pointer;display: block;width: 100%;margin-bottom: 0;padding: 0.3em;box-sizing: border-box;text-align: center;}#sk-container-id-4 label.sk-toggleable__label-arrow:before {content: \"▸\";float: left;margin-right: 0.25em;color: #696969;}#sk-container-id-4 label.sk-toggleable__label-arrow:hover:before {color: black;}#sk-container-id-4 div.sk-estimator:hover label.sk-toggleable__label-arrow:before {color: black;}#sk-container-id-4 div.sk-toggleable__content {max-height: 0;max-width: 0;overflow: hidden;text-align: left;background-color: #f0f8ff;}#sk-container-id-4 div.sk-toggleable__content pre {margin: 0.2em;color: black;border-radius: 0.25em;background-color: #f0f8ff;}#sk-container-id-4 input.sk-toggleable__control:checked~div.sk-toggleable__content {max-height: 200px;max-width: 100%;overflow: auto;}#sk-container-id-4 input.sk-toggleable__control:checked~label.sk-toggleable__label-arrow:before {content: \"▾\";}#sk-container-id-4 div.sk-estimator input.sk-toggleable__control:checked~label.sk-toggleable__label {background-color: #d4ebff;}#sk-container-id-4 div.sk-label input.sk-toggleable__control:checked~label.sk-toggleable__label {background-color: #d4ebff;}#sk-container-id-4 input.sk-hidden--visually {border: 0;clip: rect(1px 1px 1px 1px);clip: rect(1px, 1px, 1px, 1px);height: 1px;margin: -1px;overflow: hidden;padding: 0;position: absolute;width: 1px;}#sk-container-id-4 div.sk-estimator {font-family: monospace;background-color: #f0f8ff;border: 1px dotted black;border-radius: 0.25em;box-sizing: border-box;margin-bottom: 0.5em;}#sk-container-id-4 div.sk-estimator:hover {background-color: #d4ebff;}#sk-container-id-4 div.sk-parallel-item::after {content: \"\";width: 100%;border-bottom: 1px solid gray;flex-grow: 1;}#sk-container-id-4 div.sk-label:hover label.sk-toggleable__label {background-color: #d4ebff;}#sk-container-id-4 div.sk-serial::before {content: \"\";position: absolute;border-left: 1px solid gray;box-sizing: border-box;top: 0;bottom: 0;left: 50%;z-index: 0;}#sk-container-id-4 div.sk-serial {display: flex;flex-direction: column;align-items: center;background-color: white;padding-right: 0.2em;padding-left: 0.2em;position: relative;}#sk-container-id-4 div.sk-item {position: relative;z-index: 1;}#sk-container-id-4 div.sk-parallel {display: flex;align-items: stretch;justify-content: center;background-color: white;position: relative;}#sk-container-id-4 div.sk-item::before, #sk-container-id-4 div.sk-parallel-item::before {content: \"\";position: absolute;border-left: 1px solid gray;box-sizing: border-box;top: 0;bottom: 0;left: 50%;z-index: -1;}#sk-container-id-4 div.sk-parallel-item {display: flex;flex-direction: column;z-index: 1;position: relative;background-color: white;}#sk-container-id-4 div.sk-parallel-item:first-child::after {align-self: flex-end;width: 50%;}#sk-container-id-4 div.sk-parallel-item:last-child::after {align-self: flex-start;width: 50%;}#sk-container-id-4 div.sk-parallel-item:only-child::after {width: 0;}#sk-container-id-4 div.sk-dashed-wrapped {border: 1px dashed gray;margin: 0 0.4em 0.5em 0.4em;box-sizing: border-box;padding-bottom: 0.4em;background-color: white;}#sk-container-id-4 div.sk-label label {font-family: monospace;font-weight: bold;display: inline-block;line-height: 1.2em;}#sk-container-id-4 div.sk-label-container {text-align: center;}#sk-container-id-4 div.sk-container {/* jupyter's `normalize.less` sets `[hidden] { display: none; }` but bootstrap.min.css set `[hidden] { display: none !important; }` so we also need the `!important` here to be able to override the default hidden behavior on the sphinx rendered scikit-learn.org. See: https://github.com/scikit-learn/scikit-learn/issues/21755 */display: inline-block !important;position: relative;}#sk-container-id-4 div.sk-text-repr-fallback {display: none;}</style><div id=\"sk-container-id-4\" class=\"sk-top-container\"><div class=\"sk-text-repr-fallback\"><pre>GridSearchCV(cv=3, estimator=ElasticNet(),\n",
       "             param_grid=[{&#x27;alpha&#x27;: [0.1, 0.5, 0.7],\n",
       "                          &#x27;l1_ratio&#x27;: [0.3, 0.6, 0.9]}])</pre><b>In a Jupyter environment, please rerun this cell to show the HTML representation or trust the notebook. <br />On GitHub, the HTML representation is unable to render, please try loading this page with nbviewer.org.</b></div><div class=\"sk-container\" hidden><div class=\"sk-item sk-dashed-wrapped\"><div class=\"sk-label-container\"><div class=\"sk-label sk-toggleable\"><input class=\"sk-toggleable__control sk-hidden--visually\" id=\"sk-estimator-id-4\" type=\"checkbox\" ><label for=\"sk-estimator-id-4\" class=\"sk-toggleable__label sk-toggleable__label-arrow\">GridSearchCV</label><div class=\"sk-toggleable__content\"><pre>GridSearchCV(cv=3, estimator=ElasticNet(),\n",
       "             param_grid=[{&#x27;alpha&#x27;: [0.1, 0.5, 0.7],\n",
       "                          &#x27;l1_ratio&#x27;: [0.3, 0.6, 0.9]}])</pre></div></div></div><div class=\"sk-parallel\"><div class=\"sk-parallel-item\"><div class=\"sk-item\"><div class=\"sk-label-container\"><div class=\"sk-label sk-toggleable\"><input class=\"sk-toggleable__control sk-hidden--visually\" id=\"sk-estimator-id-5\" type=\"checkbox\" ><label for=\"sk-estimator-id-5\" class=\"sk-toggleable__label sk-toggleable__label-arrow\">estimator: ElasticNet</label><div class=\"sk-toggleable__content\"><pre>ElasticNet()</pre></div></div></div><div class=\"sk-serial\"><div class=\"sk-item\"><div class=\"sk-estimator sk-toggleable\"><input class=\"sk-toggleable__control sk-hidden--visually\" id=\"sk-estimator-id-6\" type=\"checkbox\" ><label for=\"sk-estimator-id-6\" class=\"sk-toggleable__label sk-toggleable__label-arrow\">ElasticNet</label><div class=\"sk-toggleable__content\"><pre>ElasticNet()</pre></div></div></div></div></div></div></div></div></div></div>"
      ],
      "text/plain": [
       "GridSearchCV(cv=3, estimator=ElasticNet(),\n",
       "             param_grid=[{'alpha': [0.1, 0.5, 0.7],\n",
       "                          'l1_ratio': [0.3, 0.6, 0.9]}])"
      ]
     },
     "execution_count": 245,
     "metadata": {},
     "output_type": "execute_result"
    }
   ],
   "source": [
    "tuned_param = [{'alpha':[0.1,0.5,0.7], 'l1_ratio':[0.3,0.6,0.9]}]\n",
    "enet = ElasticNet()\n",
    "\n",
    "enet_grid = GridSearchCV(estimator=enet, param_grid=tuned_param, cv = 3)\n",
    "enet_grid.fit(X_train, y_train)"
   ]
  },
  {
   "cell_type": "code",
   "execution_count": 246,
   "id": "c34deed1",
   "metadata": {},
   "outputs": [
    {
     "data": {
      "text/plain": [
       "{'alpha': 0.5, 'l1_ratio': 0.6}"
      ]
     },
     "execution_count": 246,
     "metadata": {},
     "output_type": "execute_result"
    }
   ],
   "source": [
    "enet_grid.best_params_"
   ]
  },
  {
   "cell_type": "code",
   "execution_count": null,
   "id": "d7a2bf9c",
   "metadata": {},
   "outputs": [],
   "source": []
  },
  {
   "cell_type": "code",
   "execution_count": null,
   "id": "f4f832e8",
   "metadata": {},
   "outputs": [],
   "source": []
  },
  {
   "cell_type": "code",
   "execution_count": null,
   "id": "3468eefe",
   "metadata": {},
   "outputs": [],
   "source": []
  },
  {
   "cell_type": "code",
   "execution_count": null,
   "id": "4af375df",
   "metadata": {},
   "outputs": [],
   "source": []
  },
  {
   "cell_type": "code",
   "execution_count": null,
   "id": "a3b99303",
   "metadata": {},
   "outputs": [],
   "source": []
  },
  {
   "cell_type": "code",
   "execution_count": null,
   "id": "7ea8ead4",
   "metadata": {},
   "outputs": [],
   "source": []
  },
  {
   "cell_type": "code",
   "execution_count": null,
   "id": "3e71b2d3",
   "metadata": {},
   "outputs": [],
   "source": []
  },
  {
   "cell_type": "code",
   "execution_count": null,
   "id": "4407d5eb",
   "metadata": {},
   "outputs": [],
   "source": []
  }
 ],
 "metadata": {
  "kernelspec": {
   "display_name": "Python 3 (ipykernel)",
   "language": "python",
   "name": "python3"
  },
  "language_info": {
   "codemirror_mode": {
    "name": "ipython",
    "version": 3
   },
   "file_extension": ".py",
   "mimetype": "text/x-python",
   "name": "python",
   "nbconvert_exporter": "python",
   "pygments_lexer": "ipython3",
   "version": "3.10.9"
  }
 },
 "nbformat": 4,
 "nbformat_minor": 5
}
