{
 "cells": [
  {
   "cell_type": "markdown",
   "metadata": {
    "id": "xkG8ZCqQCswO"
   },
   "source": [
    "<table align=\"left\" width=100%>\n",
    "    <tr>\n",
    "        <td width=\"20%\">\n",
    "            <img src=\"faculty.png\">\n",
    "        </td>\n",
    "        <td>\n",
    "            <div align=\"center\">\n",
    "                <font color=\"#21618C\" size=6px>\n",
    "                  <b> Faculty Notebook File 1 <br> (Week 1 - Day 1 to 3) </b>\n",
    "                </font>\n",
    "            </div>\n",
    "        </td>\n",
    "        <td width=\"25%\">\n",
    "            <img src=\"GL-2.png\">\n",
    "        </td>\n",
    "    </tr>\n",
    "</table>"
   ]
  },
  {
   "cell_type": "markdown",
   "metadata": {
    "id": "6rtPjFjsCswc"
   },
   "source": [
    "## Problem Statement\n",
    "\n",
    "The New York City Controller's Office maintains a database of the salary and benefits paid to city employees since the fiscal year 2013. This is data representing the Employee Compensation report."
   ]
  },
  {
   "cell_type": "markdown",
   "metadata": {
    "id": "mg_vogmxCswe"
   },
   "source": [
    "**Year Type:**\t\tFiscal (July through June) or Calendar (January through December)<br>\n",
    "\n",
    "**Year:**\t\tAn accounting period of 12 months. The New York City operates operates on a fiscal year that begins on July 1 and ends on June 30 the following year. The Fiscal Year ending June 30, 2012 is represented as FY2011-2012.<br>\n",
    "\n",
    "**Employee Identifier:**\t\tEach distinct number in the “Employee Identifier” column represents one employee. These identifying numbers are not meaningful but rather are randomly assigned for the purpose of building this dataset.<br> \n",
    "\n",
    "**Salaries:**\t\tNormal salaries paid to permanent or temporary City employees. <br>\n",
    "\n",
    "**Overtime:**\t\tAmounts paid to City employees working in excess of 40 hours per week. <br>\n",
    "\n",
    "**Other Salaries:**\t\tVarious irregular payments made to City employees including premium pay, incentive pay, or other one-time payments. <br>\n",
    "\n",
    "**Total Salary:**\t\tThe sum of all salaries paid to City employees.<br>\n",
    "\n",
    "**Retirement:**\t\tCity contributions to employee retirement plans. <br>\n",
    "\n",
    "**Health/Dental:**\t\tCity-paid premiums to health and dental insurance plans covering City employees. To protect confidentiality as legally required, pro-rated citywide averages are presented in lieu of employee-specific health and dental benefits. <br>\n",
    "\n",
    "**Other Benefits:**\t\tMandatory benefits paid on behalf of employees, such as Social Security (FICA and Medicare) contributions, unemployment insurance premiums, and minor discretionary benefits not included in the above categories.<br>\n",
    "\n",
    "**Total Benefits:**\t\tThe sum of all benefits paid to City employees.<br>\n",
    "\n",
    "**Total Compensation:**\t\tThe sum of all salaries and benefits paid to City employees."
   ]
  },
  {
   "cell_type": "markdown",
   "metadata": {
    "id": "BeBpw2TRCswh"
   },
   "source": [
    "## Table of Content\n",
    "\n",
    "1. **[Import Libraries](#lib)**\n",
    "2. **[Data Preparation](#prep)**\n",
    "    - 2.1 - **[Understand the Data](#read)**\n",
    "    - 2.2 - **[Outlier Analysis and Treatment](#outlier)**\n",
    "    - 2.3 - **[Missing Value Analysis and Treatment](#null)**\n",
    "    - 2.4 - **[Scale the Data](#scale)**\n",
    "3. **[What is Regression Analysis?](#def)**\n",
    "4. **[Bivariate Regression](#Bivariate)**\n",
    "   - 4.1 - **[Ordinary Least Square Method (OLS)](#lsm)**\n",
    "   - 4.2 - **[Measures of Variation](#mv)**\n",
    "      - 4.2.1 - **[Sum of Squared Residuals (SSR)](#ssr)**\n",
    "      - 4.2.2 - **[Sum of Squared Error (SSE)](#sse)**\n",
    "      - 4.2.3 - **[Sum of Squared Total (SST)](#sst)**\n",
    "      - 4.2.4 - **[Coefficient of Determination (R-Squared)](#r2)**\n",
    "      - 4.2.5 - **[Standard Error of Estimate (SEE)](#see)**\n",
    "   - 4.3 - **[Inferences about Slope and Intercept](#inf)**\n",
    "      - 4.3.1 - **[Interpretation of Slope and Intercept](#inter)**\n",
    "      - 4.3.2 - **[The t-test for Slope and Intercept](#t_test)**\n",
    "      - 4.3.3 - **[Confidence Interval for Slope and Intercept](#ci)**\n",
    "      - 4.3.4 - **[ANOVA for SLR](#anova)**\n",
    "5. **[Multiple Linear Regression (MLR)](#MLR)**\n",
    "    - 5.1 - **[Assumptions Before MLR Model](#before)**\n",
    "        - 5.1.1 - **[Assumption on Dependent Variable](#dep_num)**\n",
    "        - 5.1.2 - **[No or Little Multicollinearity](#no_multi)**\n",
    "          - 5.1.2.1 - **[Correlation Matrix](#corr)**\n",
    "          - 5.1.2.2 - **[Variance Inflation Factor (VIF)](#vif)**\n",
    "    - 5.2 - **[Build the MLR Model](#model)** \n",
    "       - 5.2.1 - **[MLR Full Model](#full)**\n",
    "       - 5.2.2 - **[MLR Model after Removing Insignificant Variables](#signi_var)**\n",
    "       - 5.2.3 - **[MLR Model with Interaction Effect](#interaction)**\n",
    "    - 5.3 - **[Assumptions After MLR Model](#assum)**\n",
    "        - 5.3.1 - **[Linear Relationship between Dependent and Independent Variable](#linear_reln)**\n",
    "        - 5.3.2 - **[Autocorrelation](#auto)**\n",
    "        - 5.3.3 - **[Heteroskedasticity](#sked)**\n",
    "        - 5.3.4 - **[Tests for Normality](#normality)**\n",
    "6. **[Model Evaluation](#eval)**\n",
    "    - 6.1 - **[R-Squared](#R_squared)**\n",
    "    - 6.2 - **[Adjusted R-Squared](#Adj_R_test)**\n",
    "    - 6.3 - **[Overall F-Test & p-value of the Model](#overall)**\n",
    "7. **[Model Performance](#ml_perf)**\n",
    "    - 7.1 - **[Mean Squared Error (MSE)](#mse)**\n",
    "    - 7.2 - **[Root Mean Squared Error (RMSE)](#rmse)**\n",
    "    - 7.3 - **[Mean Absolute Error (MAE)](#mae)**\n",
    "    - 7.4 - **[Mean Absolute Percentage Error (MAPE)](#mape)**\n",
    "8. **[Compare Model Performances](#compare)**"
   ]
  },
  {
   "cell_type": "markdown",
   "metadata": {
    "id": "Hd0rlOsWCswk"
   },
   "source": [
    "<a id=\"lib\"></a>\n",
    "# 1. Import Libraries"
   ]
  },
  {
   "cell_type": "markdown",
   "metadata": {
    "id": "s4joZlOtCswl"
   },
   "source": [
    "**Let us import the required libraries.**"
   ]
  },
  {
   "cell_type": "code",
   "execution_count": 92,
   "metadata": {
    "id": "OJB6nH9uCswm"
   },
   "outputs": [],
   "source": [
    "# import 'Pandas' \n",
    "import pandas as pd \n",
    "\n",
    "# import 'Numpy' \n",
    "import numpy as np\n",
    "\n",
    "# import subpackage of Matplotlib\n",
    "import matplotlib.pyplot as plt\n",
    "\n",
    "# import 'Seaborn' \n",
    "import seaborn as sns\n",
    "\n",
    "# to suppress warnings \n",
    "from warnings import filterwarnings\n",
    "filterwarnings('ignore')\n",
    "\n",
    "# display all columns of the dataframe\n",
    "pd.options.display.max_columns = None\n",
    "\n",
    "# display all rows of the dataframe\n",
    "pd.options.display.max_rows = None\n",
    " \n",
    "# to display the float values upto 6 decimal places     \n",
    "pd.options.display.float_format = '{:.6f}'.format\n",
    "\n",
    "# import train-test split \n",
    "from sklearn.model_selection import train_test_split\n",
    "\n",
    "# import various functions from statsmodel to perform linear regression\n",
    "import statsmodels\n",
    "import statsmodels.api as sm\n",
    "import statsmodels.stats.api as sms\n",
    "from statsmodels.compat import lzip\n",
    "from statsmodels.stats.outliers_influence import variance_inflation_factor\n",
    "from statsmodels.graphics.gofplots import qqplot\n",
    "from statsmodels.stats.anova import anova_lm\n",
    "from statsmodels.formula.api import ols\n",
    "from statsmodels.tools.eval_measures import rmse\n",
    "\n",
    "# import various functions from scipy\n",
    "from scipy import stats\n",
    "from scipy.stats import shapiro\n",
    "\n",
    "# 'metrics' from sklearn is used for evaluating the model performance\n",
    "from sklearn.metrics import mean_absolute_error\n",
    "from sklearn.metrics import mean_squared_error"
   ]
  },
  {
   "cell_type": "markdown",
   "metadata": {
    "id": "3q7SQrfACswq"
   },
   "source": [
    "<a id=\"prep\"></a>\n",
    "# 2. Data Preparation"
   ]
  },
  {
   "cell_type": "markdown",
   "metadata": {
    "id": "U514KC03Cswr"
   },
   "source": [
    "<a id=\"read\"></a>\n",
    "## 2.1 Understand the Data"
   ]
  },
  {
   "cell_type": "markdown",
   "metadata": {
    "id": "Px0x-ZvACswt"
   },
   "source": [
    "#### Read the dataset and print the first five observations."
   ]
  },
  {
   "cell_type": "code",
   "execution_count": 93,
   "metadata": {
    "id": "3vGd2UwRCswu",
    "outputId": "c71631f6-e8b8-4131-e8b4-6c7edced8e55",
    "scrolled": false
   },
   "outputs": [
    {
     "data": {
      "text/html": [
       "<div>\n",
       "<style scoped>\n",
       "    .dataframe tbody tr th:only-of-type {\n",
       "        vertical-align: middle;\n",
       "    }\n",
       "\n",
       "    .dataframe tbody tr th {\n",
       "        vertical-align: top;\n",
       "    }\n",
       "\n",
       "    .dataframe thead th {\n",
       "        text-align: right;\n",
       "    }\n",
       "</style>\n",
       "<table border=\"1\" class=\"dataframe\">\n",
       "  <thead>\n",
       "    <tr style=\"text-align: right;\">\n",
       "      <th></th>\n",
       "      <th>Year_Type</th>\n",
       "      <th>Year</th>\n",
       "      <th>Employee_Identifier</th>\n",
       "      <th>Salaries</th>\n",
       "      <th>Overtime</th>\n",
       "      <th>Other_Salaries</th>\n",
       "      <th>Total_Salary</th>\n",
       "      <th>Retirement</th>\n",
       "      <th>Health/Dental</th>\n",
       "      <th>Other_Benefits</th>\n",
       "      <th>Total_Benefits</th>\n",
       "      <th>Total_Compensation</th>\n",
       "    </tr>\n",
       "  </thead>\n",
       "  <tbody>\n",
       "    <tr>\n",
       "      <th>0</th>\n",
       "      <td>Fiscal</td>\n",
       "      <td>2015</td>\n",
       "      <td>42853</td>\n",
       "      <td>92288.220000</td>\n",
       "      <td>267.450000</td>\n",
       "      <td>267.450000</td>\n",
       "      <td>92823.120000</td>\n",
       "      <td>20700.200000</td>\n",
       "      <td>12500.560000</td>\n",
       "      <td>7605.750000</td>\n",
       "      <td>40806.510000</td>\n",
       "      <td>133629.630000</td>\n",
       "    </tr>\n",
       "    <tr>\n",
       "      <th>1</th>\n",
       "      <td>Calendar</td>\n",
       "      <td>2015</td>\n",
       "      <td>28248</td>\n",
       "      <td>1466.380000</td>\n",
       "      <td>348.230000</td>\n",
       "      <td>0.000000</td>\n",
       "      <td>1814.610000</td>\n",
       "      <td>0.000000</td>\n",
       "      <td>442.030000</td>\n",
       "      <td>141.590000</td>\n",
       "      <td>583.620000</td>\n",
       "      <td>2398.230000</td>\n",
       "    </tr>\n",
       "    <tr>\n",
       "      <th>2</th>\n",
       "      <td>Fiscal</td>\n",
       "      <td>2014</td>\n",
       "      <td>30651</td>\n",
       "      <td>76536.950000</td>\n",
       "      <td>13583.720000</td>\n",
       "      <td>10855.940000</td>\n",
       "      <td>100976.610000</td>\n",
       "      <td>18632.190000</td>\n",
       "      <td>12464.610000</td>\n",
       "      <td>8011.410000</td>\n",
       "      <td>39108.210000</td>\n",
       "      <td>140084.820000</td>\n",
       "    </tr>\n",
       "    <tr>\n",
       "      <th>3</th>\n",
       "      <td>Fiscal</td>\n",
       "      <td>2014</td>\n",
       "      <td>19473</td>\n",
       "      <td>45659.880000</td>\n",
       "      <td>0.000000</td>\n",
       "      <td>1625.370000</td>\n",
       "      <td>47285.250000</td>\n",
       "      <td>10081.200000</td>\n",
       "      <td>0.000000</td>\n",
       "      <td>3936.630000</td>\n",
       "      <td>14017.830000</td>\n",
       "      <td>61303.080000</td>\n",
       "    </tr>\n",
       "    <tr>\n",
       "      <th>4</th>\n",
       "      <td>Fiscal</td>\n",
       "      <td>2013</td>\n",
       "      <td>7176</td>\n",
       "      <td>41832.000000</td>\n",
       "      <td>0.000000</td>\n",
       "      <td>0.000000</td>\n",
       "      <td>41832.000000</td>\n",
       "      <td>7617.600000</td>\n",
       "      <td>5908.520000</td>\n",
       "      <td>3254.500000</td>\n",
       "      <td>16780.620000</td>\n",
       "      <td>58612.620000</td>\n",
       "    </tr>\n",
       "  </tbody>\n",
       "</table>\n",
       "</div>"
      ],
      "text/plain": [
       "  Year_Type  Year  Employee_Identifier     Salaries     Overtime  \\\n",
       "0    Fiscal  2015                42853 92288.220000   267.450000   \n",
       "1  Calendar  2015                28248  1466.380000   348.230000   \n",
       "2    Fiscal  2014                30651 76536.950000 13583.720000   \n",
       "3    Fiscal  2014                19473 45659.880000     0.000000   \n",
       "4    Fiscal  2013                 7176 41832.000000     0.000000   \n",
       "\n",
       "   Other_Salaries  Total_Salary   Retirement  Health/Dental  Other_Benefits  \\\n",
       "0      267.450000  92823.120000 20700.200000   12500.560000     7605.750000   \n",
       "1        0.000000   1814.610000     0.000000     442.030000      141.590000   \n",
       "2    10855.940000 100976.610000 18632.190000   12464.610000     8011.410000   \n",
       "3     1625.370000  47285.250000 10081.200000       0.000000     3936.630000   \n",
       "4        0.000000  41832.000000  7617.600000    5908.520000     3254.500000   \n",
       "\n",
       "   Total_Benefits  Total_Compensation  \n",
       "0    40806.510000       133629.630000  \n",
       "1      583.620000         2398.230000  \n",
       "2    39108.210000       140084.820000  \n",
       "3    14017.830000        61303.080000  \n",
       "4    16780.620000        58612.620000  "
      ]
     },
     "execution_count": 93,
     "metadata": {},
     "output_type": "execute_result"
    }
   ],
   "source": [
    "# load the csv file\n",
    "# store the data in 'df_compensation'\n",
    "df_compensation = pd.read_csv('employee_compensation.csv')\n",
    "\n",
    "# display first five observations using head()\n",
    "df_compensation.head()"
   ]
  },
  {
   "cell_type": "markdown",
   "metadata": {
    "id": "1ZsPknFOCsww"
   },
   "source": [
    "**Let us now see the number of variables and observations in the data.**"
   ]
  },
  {
   "cell_type": "code",
   "execution_count": 94,
   "metadata": {
    "id": "Iz_oumBtCswx",
    "outputId": "91fe2f8d-d712-4797-dd58-6cfcc3034aab"
   },
   "outputs": [
    {
     "data": {
      "text/plain": [
       "(50000, 12)"
      ]
     },
     "execution_count": 94,
     "metadata": {},
     "output_type": "execute_result"
    }
   ],
   "source": [
    "# use 'shape' to check the dimension of data\n",
    "df_compensation.shape"
   ]
  },
  {
   "cell_type": "markdown",
   "metadata": {
    "id": "Pqq3HFf8Cswx"
   },
   "source": [
    "**Interpretation:** The data has 50000 observations and 12 variables."
   ]
  },
  {
   "cell_type": "markdown",
   "metadata": {
    "id": "cFaVB65yCswy"
   },
   "source": [
    "**Get a concise summary of the DataFrame.**"
   ]
  },
  {
   "cell_type": "code",
   "execution_count": 95,
   "metadata": {
    "id": "L2iVGKE7Cswz",
    "outputId": "f0c80c81-0073-4a76-b78a-7e5fcf30fdf4",
    "scrolled": false
   },
   "outputs": [
    {
     "name": "stdout",
     "output_type": "stream",
     "text": [
      "<class 'pandas.core.frame.DataFrame'>\n",
      "RangeIndex: 50000 entries, 0 to 49999\n",
      "Data columns (total 12 columns):\n",
      " #   Column               Non-Null Count  Dtype  \n",
      "---  ------               --------------  -----  \n",
      " 0   Year_Type            50000 non-null  object \n",
      " 1   Year                 50000 non-null  int64  \n",
      " 2   Employee_Identifier  50000 non-null  int64  \n",
      " 3   Salaries             50000 non-null  float64\n",
      " 4   Overtime             50000 non-null  float64\n",
      " 5   Other_Salaries       50000 non-null  float64\n",
      " 6   Total_Salary         50000 non-null  float64\n",
      " 7   Retirement           50000 non-null  float64\n",
      " 8   Health/Dental        50000 non-null  float64\n",
      " 9   Other_Benefits       50000 non-null  float64\n",
      " 10  Total_Benefits       50000 non-null  float64\n",
      " 11  Total_Compensation   50000 non-null  float64\n",
      "dtypes: float64(9), int64(2), object(1)\n",
      "memory usage: 4.6+ MB\n"
     ]
    }
   ],
   "source": [
    "# use 'info()' to understand the dataset\n",
    "df_compensation.info()"
   ]
  },
  {
   "cell_type": "markdown",
   "metadata": {
    "id": "str9y3_ACsw0"
   },
   "source": [
    "**Interpretation:** The variable `Year_Type` is categorical. All the other variables are numerical.\n",
    "\n",
    "From the above output, we see that the data type of `Year` is 'int64'.\n",
    "\n",
    "But according to the data definition, `Year` is categorical variable, which is wrongly interpreted as 'int64', so we will convert these variables data type to 'object'."
   ]
  },
  {
   "cell_type": "markdown",
   "metadata": {
    "id": "PBn8LynUCsw0"
   },
   "source": [
    "#### Change the data type as per the data definition."
   ]
  },
  {
   "cell_type": "code",
   "execution_count": 96,
   "metadata": {
    "id": "1VQY48isCsw1"
   },
   "outputs": [],
   "source": [
    "# convert numerical variables to categorical (object) \n",
    "# use astype() to change the data type\n",
    "\n",
    "# change the data type of 'Year'\n",
    "df_compensation['Year'] = df_compensation['Year'].astype(object)"
   ]
  },
  {
   "cell_type": "markdown",
   "metadata": {
    "id": "HlRtQHn5Csw1"
   },
   "source": [
    "#### Recheck the data type after the conversion. "
   ]
  },
  {
   "cell_type": "code",
   "execution_count": 97,
   "metadata": {
    "id": "pxoZKYgZCsw2",
    "outputId": "02351d7f-146d-477b-996f-67b32eef9b51"
   },
   "outputs": [
    {
     "data": {
      "text/plain": [
       "Year_Type               object\n",
       "Year                    object\n",
       "Employee_Identifier      int64\n",
       "Salaries               float64\n",
       "Overtime               float64\n",
       "Other_Salaries         float64\n",
       "Total_Salary           float64\n",
       "Retirement             float64\n",
       "Health/Dental          float64\n",
       "Other_Benefits         float64\n",
       "Total_Benefits         float64\n",
       "Total_Compensation     float64\n",
       "dtype: object"
      ]
     },
     "execution_count": 97,
     "metadata": {},
     "output_type": "execute_result"
    }
   ],
   "source": [
    "# recheck the data types using 'dtypes'\n",
    "df_compensation.dtypes"
   ]
  },
  {
   "cell_type": "markdown",
   "metadata": {
    "id": "h7VFX0xyCsw2"
   },
   "source": [
    "**Interpretation:** Now, all the variables have the correct data type."
   ]
  },
  {
   "cell_type": "markdown",
   "metadata": {
    "id": "eVk8sfXmCsw3"
   },
   "source": [
    "<a id=\"drop\"></a>\n",
    "## 2.3 Remove Insignificant Variables"
   ]
  },
  {
   "cell_type": "markdown",
   "metadata": {
    "id": "uXhUTTyZCsw-"
   },
   "source": [
    "The column `Employee_Identifier` contains the id of the employee, which is redundant for further analysis. Thus, we drop the column."
   ]
  },
  {
   "cell_type": "code",
   "execution_count": 98,
   "metadata": {
    "id": "wvUonyhoCsw-"
   },
   "outputs": [],
   "source": [
    "# drop the column 'Employee_Identifier' using drop()\n",
    "# 'axis = 1' drops the specified column\n",
    "df_compensation = df_compensation.drop('Employee_Identifier',axis=1)"
   ]
  },
  {
   "cell_type": "markdown",
   "metadata": {
    "id": "RO35W1rGCsw_"
   },
   "source": [
    "<a id=\"outlier\"></a>\n",
    "## 2.2 Outlier Analysis and Treatment"
   ]
  },
  {
   "cell_type": "markdown",
   "metadata": {
    "id": "mpmdXJd8Csw_"
   },
   "source": [
    "**Check the outliers in all the variables and treat them using appropriate techniques.**"
   ]
  },
  {
   "cell_type": "code",
   "execution_count": 99,
   "metadata": {
    "id": "QbtwDA_rCsw_",
    "outputId": "3aa13cc5-dc72-4f66-a039-34fc36b017ea"
   },
   "outputs": [
    {
     "data": {
      "image/png": "[encoded data removed]",
      "text/plain": [
       "<Figure size 1500x800 with 1 Axes>"
      ]
     },
     "metadata": {},
     "output_type": "display_data"
    }
   ],
   "source": [
    "# set the plot size using figure()\n",
    "# pass width and height in inches to 'figsize' \n",
    "plt.figure(figsize = (15,8))\n",
    "\n",
    "# plot a boxplot to visualize the outliers in all the numeric variables\n",
    "df_compensation.boxplot()\n",
    "\n",
    "# set plot label\n",
    "# set text size using 'fontsize'\n",
    "plt.title('Distribution of all Numeric Variables', fontsize = 15)\n",
    "\n",
    "# xticks() returns the x-axis ticks\n",
    "# 'rotation = vertical' rotates the x-axis labels vertically\n",
    "plt.xticks(rotation = 'vertical', fontsize = 15)\n",
    "\n",
    "# display the plot\n",
    "plt.show()"
   ]
  },
  {
   "cell_type": "markdown",
   "metadata": {
    "id": "S8V8W1dwCsxA"
   },
   "source": [
    "**Notice that the variables 'Salaries', 'Total_Salary' and 'Total_Compensation' have a quite large range as compared to the other variables. Thus, it is difficult to see the outliers in such variables. So, we plot the boxplots of independent variables again by not considering the variables 'Salaries', 'Total_Salary' and 'Total_Compensation'. The variable Health/Dental has no outliers.**"
   ]
  },
  {
   "cell_type": "code",
   "execution_count": 100,
   "metadata": {
    "id": "73B7W7aoCsxA",
    "outputId": "44ffab6e-32e2-4103-a93d-ad0ba879a04a"
   },
   "outputs": [
    {
     "data": {
      "image/png": "[encoded data removed]",
      "text/plain": [
       "<Figure size 1500x800 with 1 Axes>"
      ]
     },
     "metadata": {},
     "output_type": "display_data"
    }
   ],
   "source": [
    "# boxplot of independent variables\n",
    "\n",
    "# set the plot size using figure()\n",
    "# pass width and height in inches to 'figsize' \n",
    "plt.figure(figsize = (15,8))\n",
    "\n",
    "# plot boxplots of all the numeric variables except the variables 'Salaries', 'Total_Salary' and 'Total_Compensation' \n",
    "# use 'loc[]' to select the variables\n",
    "df_compensation.loc[:,['Overtime', 'Other_Salaries', 'Retirement', 'Other_Benefits', 'Total_Benefits']].boxplot()\n",
    "\n",
    "# set plot label\n",
    "# set text size using 'fontsize'\n",
    "plt.title('Distribution of Independent Variables', fontsize = 15)\n",
    "\n",
    "# xticks() returns the x-axis ticks\n",
    "# 'rotation = vertical' rotates the x-axis labels vertically\n",
    "plt.xticks(rotation = 'vertical', fontsize = 15)\n",
    "\n",
    "# display the plot\n",
    "plt.show()"
   ]
  },
  {
   "cell_type": "markdown",
   "metadata": {
    "id": "_5kicXbdCsxB"
   },
   "source": [
    "**Plot the boxplot of the target (dependent) variable 'Total_Compensation'.**"
   ]
  },
  {
   "cell_type": "code",
   "execution_count": 101,
   "metadata": {
    "id": "iUZmUiPPCsxB",
    "outputId": "ab047999-839a-4340-9efb-4d984099c4fb"
   },
   "outputs": [
    {
     "data": {
      "image/png": "[encoded data removed]",
      "text/plain": [
       "<Figure size 1500x800 with 1 Axes>"
      ]
     },
     "metadata": {},
     "output_type": "display_data"
    }
   ],
   "source": [
    "# set the plot size using figure()\n",
    "# pass width and height in inches to 'figsize' \n",
    "plt.figure(figsize = (15,8))\n",
    "\n",
    "# plot boxplot for 'Total_Compensation' using seaborn library\n",
    "sns.boxplot(df_compensation['Total_Compensation'])\n",
    "\n",
    "# add plot and axis labels\n",
    "# set text size using 'fontsize'\n",
    "plt.title('Distribution of Target Variable (Total_Compensation)', fontsize = 15)\n",
    "plt.xlabel('Total_Compensation', fontsize = 15)\n",
    "\n",
    "# display the plot\n",
    "plt.show()"
   ]
  },
  {
   "cell_type": "markdown",
   "metadata": {
    "id": "9zDOTDqKCsxC"
   },
   "source": [
    "**Interpretation:** From the above plots, we notice that all the variables have points above the upper extreme or below the lower extreme - these points are outliers in the data. However, the exact location of these points is not precisely seen.\n",
    "\n",
    "Let us use the IQR method to remove the outliers."
   ]
  },
  {
   "cell_type": "code",
   "execution_count": 102,
   "metadata": {
    "id": "ZyZz3kCMCsxC",
    "outputId": "15ca7939-0b82-4b0e-e36b-26655f258935"
   },
   "outputs": [
    {
     "data": {
      "text/plain": [
       "(37721, 11)"
      ]
     },
     "execution_count": 102,
     "metadata": {},
     "output_type": "execute_result"
    }
   ],
   "source": [
    "# calculate the first quartile\n",
    "Q1 = df_compensation.quantile(0.25)\n",
    "\n",
    "# calculate the third quartile\n",
    "Q3 = df_compensation.quantile(0.75)\n",
    "\n",
    "# The Interquartile Range (IQR) is defined as the difference between the third and first quartile\n",
    "# calculate IQR for each numeric variable\n",
    "IQR = Q3 - Q1\n",
    "\n",
    "# retrieve the dataframe without the outliers\n",
    "# '~' returns the values that do not satisfy the given conditions \n",
    "# i.e. it returns values between the range [Q1-1.5*IQR, Q3+1.5*IQR]\n",
    "# '|' is used as 'OR' operator on multiple conditions   \n",
    "# 'any(axis=1)' checks the entire row for atleast one 'True' entry (those rows represents outliers in the data)\n",
    "df_compensation = df_compensation[~((df_compensation < (Q1 - 1.5 * IQR)) | (df_compensation > (Q3 + 1.5 * IQR))).any(axis=1)]\n",
    "\n",
    "# check the shape of the data\n",
    "df_compensation.shape"
   ]
  },
  {
   "cell_type": "markdown",
   "metadata": {
    "id": "ZSd2QVBZCsxD"
   },
   "source": [
    "**Interpretation:** A crude way to know whether the outliers have been removed or not is to check the dimensions of the data. From the above output, we can see that the dimensions are reduced that implies outliers are removed."
   ]
  },
  {
   "cell_type": "markdown",
   "metadata": {
    "id": "xo92I8VpCsxD"
   },
   "source": [
    "<a id=\"null\"></a>\n",
    "## 2.3 Missing Value Analysis and Treatment"
   ]
  },
  {
   "cell_type": "markdown",
   "metadata": {
    "id": "pcXwm1ZKCsxE"
   },
   "source": [
    "**Check the presence of missing values in the data and treat them.**"
   ]
  },
  {
   "cell_type": "code",
   "execution_count": 103,
   "metadata": {
    "id": "GO8NbLOHCsxE",
    "outputId": "879e1480-93d5-46a1-8b9e-bd416ce9bd37"
   },
   "outputs": [
    {
     "data": {
      "text/html": [
       "<div>\n",
       "<style scoped>\n",
       "    .dataframe tbody tr th:only-of-type {\n",
       "        vertical-align: middle;\n",
       "    }\n",
       "\n",
       "    .dataframe tbody tr th {\n",
       "        vertical-align: top;\n",
       "    }\n",
       "\n",
       "    .dataframe thead th {\n",
       "        text-align: right;\n",
       "    }\n",
       "</style>\n",
       "<table border=\"1\" class=\"dataframe\">\n",
       "  <thead>\n",
       "    <tr style=\"text-align: right;\">\n",
       "      <th></th>\n",
       "      <th>Total</th>\n",
       "      <th>Percentage of Missing Values</th>\n",
       "    </tr>\n",
       "  </thead>\n",
       "  <tbody>\n",
       "    <tr>\n",
       "      <th>Year_Type</th>\n",
       "      <td>0</td>\n",
       "      <td>0.000000</td>\n",
       "    </tr>\n",
       "    <tr>\n",
       "      <th>Year</th>\n",
       "      <td>0</td>\n",
       "      <td>0.000000</td>\n",
       "    </tr>\n",
       "    <tr>\n",
       "      <th>Salaries</th>\n",
       "      <td>0</td>\n",
       "      <td>0.000000</td>\n",
       "    </tr>\n",
       "    <tr>\n",
       "      <th>Overtime</th>\n",
       "      <td>0</td>\n",
       "      <td>0.000000</td>\n",
       "    </tr>\n",
       "    <tr>\n",
       "      <th>Other_Salaries</th>\n",
       "      <td>0</td>\n",
       "      <td>0.000000</td>\n",
       "    </tr>\n",
       "    <tr>\n",
       "      <th>Total_Salary</th>\n",
       "      <td>0</td>\n",
       "      <td>0.000000</td>\n",
       "    </tr>\n",
       "    <tr>\n",
       "      <th>Retirement</th>\n",
       "      <td>0</td>\n",
       "      <td>0.000000</td>\n",
       "    </tr>\n",
       "    <tr>\n",
       "      <th>Health/Dental</th>\n",
       "      <td>0</td>\n",
       "      <td>0.000000</td>\n",
       "    </tr>\n",
       "    <tr>\n",
       "      <th>Other_Benefits</th>\n",
       "      <td>0</td>\n",
       "      <td>0.000000</td>\n",
       "    </tr>\n",
       "    <tr>\n",
       "      <th>Total_Benefits</th>\n",
       "      <td>0</td>\n",
       "      <td>0.000000</td>\n",
       "    </tr>\n",
       "    <tr>\n",
       "      <th>Total_Compensation</th>\n",
       "      <td>0</td>\n",
       "      <td>0.000000</td>\n",
       "    </tr>\n",
       "  </tbody>\n",
       "</table>\n",
       "</div>"
      ],
      "text/plain": [
       "                    Total  Percentage of Missing Values\n",
       "Year_Type               0                      0.000000\n",
       "Year                    0                      0.000000\n",
       "Salaries                0                      0.000000\n",
       "Overtime                0                      0.000000\n",
       "Other_Salaries          0                      0.000000\n",
       "Total_Salary            0                      0.000000\n",
       "Retirement              0                      0.000000\n",
       "Health/Dental           0                      0.000000\n",
       "Other_Benefits          0                      0.000000\n",
       "Total_Benefits          0                      0.000000\n",
       "Total_Compensation      0                      0.000000"
      ]
     },
     "execution_count": 103,
     "metadata": {},
     "output_type": "execute_result"
    }
   ],
   "source": [
    "# sort the variables on the basis of total null values in the variable\n",
    "# 'isnull().sum()' returns the number of missing values in each variable\n",
    "# 'ascending = False' sorts values in the descending order\n",
    "# the variable with highest number of missing values will appear first\n",
    "Total = df_compensation.isnull().sum().sort_values(ascending=False)          \n",
    "\n",
    "# calculate percentage of missing values\n",
    "# 'ascending = False' sorts values in the descending order\n",
    "# the variable with highest percentage of missing values will appear first\n",
    "Percent = (df_compensation.isnull().sum()*100/df_compensation.isnull().count()).sort_values(ascending=False)   \n",
    "\n",
    "# concat the 'Total' and 'Percent' columns using 'concat' function\n",
    "# pass a list of column names in parameter 'keys' \n",
    "# 'axis = 1' concats along the columns\n",
    "missing_data = pd.concat([Total, Percent], axis=1, keys=['Total', 'Percentage of Missing Values'])    \n",
    "missing_data"
   ]
  },
  {
   "cell_type": "markdown",
   "metadata": {
    "id": "a9FqzyjnCsxG"
   },
   "source": [
    "**Interpretation:** There are no missing values in the data."
   ]
  },
  {
   "cell_type": "markdown",
   "metadata": {
    "id": "17hbQeYnCsxG"
   },
   "source": [
    "<a id=\"scale\"></a>\n",
    "## 2.4 Scale the Data"
   ]
  },
  {
   "cell_type": "code",
   "execution_count": 104,
   "metadata": {
    "id": "G7WkuVfaCsxG",
    "outputId": "8734e2a9-4d6b-46f3-fae0-5338d8d5a237"
   },
   "outputs": [
    {
     "data": {
      "text/html": [
       "<div>\n",
       "<style scoped>\n",
       "    .dataframe tbody tr th:only-of-type {\n",
       "        vertical-align: middle;\n",
       "    }\n",
       "\n",
       "    .dataframe tbody tr th {\n",
       "        vertical-align: top;\n",
       "    }\n",
       "\n",
       "    .dataframe thead th {\n",
       "        text-align: right;\n",
       "    }\n",
       "</style>\n",
       "<table border=\"1\" class=\"dataframe\">\n",
       "  <thead>\n",
       "    <tr style=\"text-align: right;\">\n",
       "      <th></th>\n",
       "      <th>Year_Type</th>\n",
       "      <th>Year</th>\n",
       "      <th>Salaries</th>\n",
       "      <th>Overtime</th>\n",
       "      <th>Other_Salaries</th>\n",
       "      <th>Total_Salary</th>\n",
       "      <th>Retirement</th>\n",
       "      <th>Health/Dental</th>\n",
       "      <th>Other_Benefits</th>\n",
       "      <th>Total_Benefits</th>\n",
       "      <th>Total_Compensation</th>\n",
       "    </tr>\n",
       "  </thead>\n",
       "  <tbody>\n",
       "    <tr>\n",
       "      <th>0</th>\n",
       "      <td>Fiscal</td>\n",
       "      <td>2015</td>\n",
       "      <td>92288.220000</td>\n",
       "      <td>267.450000</td>\n",
       "      <td>267.450000</td>\n",
       "      <td>92823.120000</td>\n",
       "      <td>20700.200000</td>\n",
       "      <td>12500.560000</td>\n",
       "      <td>7605.750000</td>\n",
       "      <td>40806.510000</td>\n",
       "      <td>133629.630000</td>\n",
       "    </tr>\n",
       "    <tr>\n",
       "      <th>1</th>\n",
       "      <td>Calendar</td>\n",
       "      <td>2015</td>\n",
       "      <td>1466.380000</td>\n",
       "      <td>348.230000</td>\n",
       "      <td>0.000000</td>\n",
       "      <td>1814.610000</td>\n",
       "      <td>0.000000</td>\n",
       "      <td>442.030000</td>\n",
       "      <td>141.590000</td>\n",
       "      <td>583.620000</td>\n",
       "      <td>2398.230000</td>\n",
       "    </tr>\n",
       "    <tr>\n",
       "      <th>3</th>\n",
       "      <td>Fiscal</td>\n",
       "      <td>2014</td>\n",
       "      <td>45659.880000</td>\n",
       "      <td>0.000000</td>\n",
       "      <td>1625.370000</td>\n",
       "      <td>47285.250000</td>\n",
       "      <td>10081.200000</td>\n",
       "      <td>0.000000</td>\n",
       "      <td>3936.630000</td>\n",
       "      <td>14017.830000</td>\n",
       "      <td>61303.080000</td>\n",
       "    </tr>\n",
       "    <tr>\n",
       "      <th>4</th>\n",
       "      <td>Fiscal</td>\n",
       "      <td>2013</td>\n",
       "      <td>41832.000000</td>\n",
       "      <td>0.000000</td>\n",
       "      <td>0.000000</td>\n",
       "      <td>41832.000000</td>\n",
       "      <td>7617.600000</td>\n",
       "      <td>5908.520000</td>\n",
       "      <td>3254.500000</td>\n",
       "      <td>16780.620000</td>\n",
       "      <td>58612.620000</td>\n",
       "    </tr>\n",
       "    <tr>\n",
       "      <th>5</th>\n",
       "      <td>Calendar</td>\n",
       "      <td>2013</td>\n",
       "      <td>74132.000000</td>\n",
       "      <td>0.000000</td>\n",
       "      <td>1443.420000</td>\n",
       "      <td>75575.420000</td>\n",
       "      <td>14851.230000</td>\n",
       "      <td>12888.340000</td>\n",
       "      <td>6233.850000</td>\n",
       "      <td>33973.420000</td>\n",
       "      <td>109548.840000</td>\n",
       "    </tr>\n",
       "  </tbody>\n",
       "</table>\n",
       "</div>"
      ],
      "text/plain": [
       "  Year_Type  Year     Salaries   Overtime  Other_Salaries  Total_Salary  \\\n",
       "0    Fiscal  2015 92288.220000 267.450000      267.450000  92823.120000   \n",
       "1  Calendar  2015  1466.380000 348.230000        0.000000   1814.610000   \n",
       "3    Fiscal  2014 45659.880000   0.000000     1625.370000  47285.250000   \n",
       "4    Fiscal  2013 41832.000000   0.000000        0.000000  41832.000000   \n",
       "5  Calendar  2013 74132.000000   0.000000     1443.420000  75575.420000   \n",
       "\n",
       "    Retirement  Health/Dental  Other_Benefits  Total_Benefits  \\\n",
       "0 20700.200000   12500.560000     7605.750000    40806.510000   \n",
       "1     0.000000     442.030000      141.590000      583.620000   \n",
       "3 10081.200000       0.000000     3936.630000    14017.830000   \n",
       "4  7617.600000    5908.520000     3254.500000    16780.620000   \n",
       "5 14851.230000   12888.340000     6233.850000    33973.420000   \n",
       "\n",
       "   Total_Compensation  \n",
       "0       133629.630000  \n",
       "1         2398.230000  \n",
       "3        61303.080000  \n",
       "4        58612.620000  \n",
       "5       109548.840000  "
      ]
     },
     "execution_count": 104,
     "metadata": {},
     "output_type": "execute_result"
    }
   ],
   "source": [
    "df_compensation.head()"
   ]
  },
  {
   "cell_type": "code",
   "execution_count": 105,
   "metadata": {
    "id": "h6uELW7MCsxH",
    "outputId": "a7436630-51eb-459e-ce66-eeeff5b78426"
   },
   "outputs": [
    {
     "data": {
      "text/html": [
       "<div>\n",
       "<style scoped>\n",
       "    .dataframe tbody tr th:only-of-type {\n",
       "        vertical-align: middle;\n",
       "    }\n",
       "\n",
       "    .dataframe tbody tr th {\n",
       "        vertical-align: top;\n",
       "    }\n",
       "\n",
       "    .dataframe thead th {\n",
       "        text-align: right;\n",
       "    }\n",
       "</style>\n",
       "<table border=\"1\" class=\"dataframe\">\n",
       "  <thead>\n",
       "    <tr style=\"text-align: right;\">\n",
       "      <th></th>\n",
       "      <th>Year_Type</th>\n",
       "      <th>Year</th>\n",
       "      <th>Salaries</th>\n",
       "      <th>Overtime</th>\n",
       "      <th>Other_Salaries</th>\n",
       "      <th>Total_Salary</th>\n",
       "      <th>Retirement</th>\n",
       "      <th>Health/Dental</th>\n",
       "      <th>Other_Benefits</th>\n",
       "      <th>Total_Benefits</th>\n",
       "      <th>Total_Compensation</th>\n",
       "    </tr>\n",
       "  </thead>\n",
       "  <tbody>\n",
       "    <tr>\n",
       "      <th>0</th>\n",
       "      <td>Fiscal</td>\n",
       "      <td>2015</td>\n",
       "      <td>0.983488</td>\n",
       "      <td>-0.228091</td>\n",
       "      <td>-0.474919</td>\n",
       "      <td>0.926912</td>\n",
       "      <td>1.178494</td>\n",
       "      <td>0.916565</td>\n",
       "      <td>1.145315</td>\n",
       "      <td>1.160922</td>\n",
       "      <td>1.001727</td>\n",
       "    </tr>\n",
       "    <tr>\n",
       "      <th>1</th>\n",
       "      <td>Calendar</td>\n",
       "      <td>2015</td>\n",
       "      <td>-1.252266</td>\n",
       "      <td>-0.167552</td>\n",
       "      <td>-0.587276</td>\n",
       "      <td>-1.263215</td>\n",
       "      <td>-1.180529</td>\n",
       "      <td>-1.491462</td>\n",
       "      <td>-1.259970</td>\n",
       "      <td>-1.365191</td>\n",
       "      <td>-1.304472</td>\n",
       "    </tr>\n",
       "    <tr>\n",
       "      <th>3</th>\n",
       "      <td>Fiscal</td>\n",
       "      <td>2014</td>\n",
       "      <td>-0.164358</td>\n",
       "      <td>-0.428525</td>\n",
       "      <td>0.095551</td>\n",
       "      <td>-0.168961</td>\n",
       "      <td>-0.031662</td>\n",
       "      <td>-1.579733</td>\n",
       "      <td>-0.037039</td>\n",
       "      <td>-0.521484</td>\n",
       "      <td>-0.269306</td>\n",
       "    </tr>\n",
       "    <tr>\n",
       "      <th>4</th>\n",
       "      <td>Fiscal</td>\n",
       "      <td>2013</td>\n",
       "      <td>-0.258589</td>\n",
       "      <td>-0.428525</td>\n",
       "      <td>-0.587276</td>\n",
       "      <td>-0.300194</td>\n",
       "      <td>-0.312417</td>\n",
       "      <td>-0.399832</td>\n",
       "      <td>-0.256852</td>\n",
       "      <td>-0.347973</td>\n",
       "      <td>-0.316586</td>\n",
       "    </tr>\n",
       "    <tr>\n",
       "      <th>5</th>\n",
       "      <td>Calendar</td>\n",
       "      <td>2013</td>\n",
       "      <td>0.536538</td>\n",
       "      <td>-0.428525</td>\n",
       "      <td>0.019113</td>\n",
       "      <td>0.511845</td>\n",
       "      <td>0.511937</td>\n",
       "      <td>0.994002</td>\n",
       "      <td>0.703228</td>\n",
       "      <td>0.731784</td>\n",
       "      <td>0.578543</td>\n",
       "    </tr>\n",
       "  </tbody>\n",
       "</table>\n",
       "</div>"
      ],
      "text/plain": [
       "  Year_Type  Year  Salaries  Overtime  Other_Salaries  Total_Salary  \\\n",
       "0    Fiscal  2015  0.983488 -0.228091       -0.474919      0.926912   \n",
       "1  Calendar  2015 -1.252266 -0.167552       -0.587276     -1.263215   \n",
       "3    Fiscal  2014 -0.164358 -0.428525        0.095551     -0.168961   \n",
       "4    Fiscal  2013 -0.258589 -0.428525       -0.587276     -0.300194   \n",
       "5  Calendar  2013  0.536538 -0.428525        0.019113      0.511845   \n",
       "\n",
       "   Retirement  Health/Dental  Other_Benefits  Total_Benefits  \\\n",
       "0    1.178494       0.916565        1.145315        1.160922   \n",
       "1   -1.180529      -1.491462       -1.259970       -1.365191   \n",
       "3   -0.031662      -1.579733       -0.037039       -0.521484   \n",
       "4   -0.312417      -0.399832       -0.256852       -0.347973   \n",
       "5    0.511937       0.994002        0.703228        0.731784   \n",
       "\n",
       "   Total_Compensation  \n",
       "0            1.001727  \n",
       "1           -1.304472  \n",
       "3           -0.269306  \n",
       "4           -0.316586  \n",
       "5            0.578543  "
      ]
     },
     "execution_count": 105,
     "metadata": {},
     "output_type": "execute_result"
    }
   ],
   "source": [
    "# scale the independent numeric variables\n",
    "df_compensation.iloc[:, 2:11] = df_compensation.iloc[:, 2:11].apply(lambda rec: (rec - rec.mean()) / rec.std())\n",
    "\n",
    "df_compensation.head()"
   ]
  },
  {
   "cell_type": "markdown",
   "metadata": {
    "id": "zIBu6JYOCsxH"
   },
   "source": [
    "<a id=\"def\"></a>\n",
    "# 3. What is Regression Analysis?"
   ]
  },
  {
   "cell_type": "markdown",
   "metadata": {
    "id": "kl2Rt21TCsxH"
   },
   "source": [
    "#### Dependent variable (y): It is the variable that we predict. It is also known as 'Target' or 'Response' variable. For regression, the dependent variable should be numeric.\n",
    "\n",
    "#### Independent variable (X): It is the variable used in predicting the values of a target variable. There can be one or more independent variables in a dataset. It is also known as 'predictors' or 'features'. These variables can be numerical as well as categorical."
   ]
  },
  {
   "cell_type": "markdown",
   "metadata": {
    "id": "W7hCVd0uCsxI"
   },
   "source": [
    "Regression analysis is used to understand the effect of a set of independent variables on the dependent variable. The variables that affect the dependent variable the most can also be identified. Linear regression is one of the methods in regression analysis, which fits the line to predict the values of the dependent variable."
   ]
  },
  {
   "cell_type": "markdown",
   "metadata": {
    "id": "FHgP7CUmCsxI"
   },
   "source": [
    "<a id=\"Bivariate\"></a>\n",
    "# 4. Bivariate Regression"
   ]
  },
  {
   "cell_type": "markdown",
   "metadata": {
    "id": "k81HmpKMCsxI"
   },
   "source": [
    "It determines the linear relationship between the dependent (y) and a independent (X) variable. It is also known as, `Simple Linear Regression (SLR)`. The mathematical equation is given as:<br>\n",
    "<p style='text-indent:30em'> <strong> y = β<sub>0</sub> + β<sub>1</sub>.x + ε </strong> </p>\n",
    "                                                        \n",
    "where, \n",
    "\n",
    "y   =  Dependent variable <br>\n",
    "x   =  Independent variable<br>\n",
    "β<sub>0</sub>  =  Y-intercept (value of y when x = 0)<br>\n",
    "β<sub>1</sub>  =  Beta coefficient of x <br>\n",
    "ε   =  Random error component<br>"
   ]
  },
  {
   "cell_type": "markdown",
   "metadata": {
    "id": "hwKjyYU8CsxJ"
   },
   "source": [
    "**For bivariate regression, consider 'Total_Compensation' as target variable and 'Total_Benefits' as an independent variable from 'df_compensation'.**\n",
    "\n",
    "The test hypothesis for SLR is given as:\n",
    "<p style='text-indent:25em'> <strong> H<sub>o</sub>: Slope (beta coefficient of x) is equal to zero</strong> </p>\n",
    "<p style='text-indent:25em'> <strong> H<sub>1</sub>: Slope (beta coefficient of x) is not equal to zero</strong> </p>"
   ]
  },
  {
   "cell_type": "markdown",
   "metadata": {
    "id": "SuEhWj-NCsxJ"
   },
   "source": [
    "<a id=\"lsm\"></a>\n",
    "## 4.1 Ordinary Least Square Method (OLS)"
   ]
  },
  {
   "cell_type": "markdown",
   "metadata": {
    "id": "yjuwGuhrCsxK"
   },
   "source": [
    "The ordinary least square method aims to minimize the sum of the squared difference between the actual and the predicted values. Squaring ensures that each term is positive. It penalizes the model for the negative error terms. This approach calculates the β<sub>0</sub> and β<sub>1</sub> values that minimize the sum of squared differences along the line of prediction."
   ]
  },
  {
   "cell_type": "markdown",
   "metadata": {
    "id": "bKyFXjZ-CsxK"
   },
   "source": [
    "#### Split the data into training and test sets"
   ]
  },
  {
   "cell_type": "code",
   "execution_count": 106,
   "metadata": {
    "id": "xxp6wDvrCsxL",
    "outputId": "d6d27ec7-d289-434c-90da-d2b6aa38f4d7"
   },
   "outputs": [
    {
     "name": "stdout",
     "output_type": "stream",
     "text": [
      "X_train_slr (26404,)\n",
      "y_train_slr (26404,)\n",
      "X_test_slr (11317,)\n",
      "y_test_slr (11317,)\n"
     ]
    }
   ],
   "source": [
    "# split the independent and target variable into train subset and test subset\n",
    "# set 'random_state' to generate the same dataset each time you run the code \n",
    "# 'test_size' returns the proportion of data to be included in the testing set\n",
    "X_train_slr, X_test_slr, y_train_slr, y_test_slr = train_test_split(df_compensation['Total_Benefits'], df_compensation['Total_Compensation'], \n",
    "                                                    random_state=1, test_size = 0.3)\n",
    "\n",
    "# check the dimensions of the train & test subset using 'shape'\n",
    "# print dimension of train set\n",
    "print('X_train_slr', X_train_slr.shape)\n",
    "print('y_train_slr', y_train_slr.shape)\n",
    "\n",
    "# print dimension of test set\n",
    "print('X_test_slr', X_test_slr.shape)\n",
    "print('y_test_slr', y_test_slr.shape)"
   ]
  },
  {
   "cell_type": "markdown",
   "metadata": {
    "id": "J8SE3NtXCsxL"
   },
   "source": [
    "**Build the simple linear regression model using the OLS method.**"
   ]
  },
  {
   "cell_type": "code",
   "execution_count": 107,
   "metadata": {
    "id": "O-QiJN44CsxL",
    "outputId": "d2a82abd-348f-4a48-c9a7-27d79c8a65e3"
   },
   "outputs": [
    {
     "data": {
      "text/html": [
       "<div>\n",
       "<style scoped>\n",
       "    .dataframe tbody tr th:only-of-type {\n",
       "        vertical-align: middle;\n",
       "    }\n",
       "\n",
       "    .dataframe tbody tr th {\n",
       "        vertical-align: top;\n",
       "    }\n",
       "\n",
       "    .dataframe thead th {\n",
       "        text-align: right;\n",
       "    }\n",
       "</style>\n",
       "<table border=\"1\" class=\"dataframe\">\n",
       "  <thead>\n",
       "    <tr style=\"text-align: right;\">\n",
       "      <th></th>\n",
       "      <th>intercept</th>\n",
       "      <th>Total_Benefits</th>\n",
       "    </tr>\n",
       "  </thead>\n",
       "  <tbody>\n",
       "    <tr>\n",
       "      <th>7580</th>\n",
       "      <td>1.000000</td>\n",
       "      <td>0.354816</td>\n",
       "    </tr>\n",
       "    <tr>\n",
       "      <th>15923</th>\n",
       "      <td>1.000000</td>\n",
       "      <td>1.316932</td>\n",
       "    </tr>\n",
       "    <tr>\n",
       "      <th>5380</th>\n",
       "      <td>1.000000</td>\n",
       "      <td>0.242893</td>\n",
       "    </tr>\n",
       "    <tr>\n",
       "      <th>9580</th>\n",
       "      <td>1.000000</td>\n",
       "      <td>-0.352773</td>\n",
       "    </tr>\n",
       "    <tr>\n",
       "      <th>3690</th>\n",
       "      <td>1.000000</td>\n",
       "      <td>-1.353940</td>\n",
       "    </tr>\n",
       "  </tbody>\n",
       "</table>\n",
       "</div>"
      ],
      "text/plain": [
       "       intercept  Total_Benefits\n",
       "7580    1.000000        0.354816\n",
       "15923   1.000000        1.316932\n",
       "5380    1.000000        0.242893\n",
       "9580    1.000000       -0.352773\n",
       "3690    1.000000       -1.353940"
      ]
     },
     "execution_count": 107,
     "metadata": {},
     "output_type": "execute_result"
    }
   ],
   "source": [
    "# convert the X_train to DataFrame\n",
    "X_train_slr = pd.DataFrame(X_train_slr)\n",
    "\n",
    "# insert a column of intercept to 'X_train_slr'\n",
    "# create an array of ones with length equal to the total number of observations\n",
    "c = np.ones(X_train_slr.shape[0])\n",
    "\n",
    "# A design matrix is a matrix of observations of independent variables whose first column is of ones\n",
    "# If there are 'm' observations and 'n' variables, then the dimension of a design matrix is m * (n+1) \n",
    "\n",
    "# add the intercept \n",
    "# pass location index of intercept to the parameter 'loc'\n",
    "# pass column name to the parameter 'column'\n",
    "# pass the column value to the parameter 'value'\n",
    "X_train_slr.insert(loc = 0, column = 'intercept', value = c)\n",
    "\n",
    "# display the first five rows of design matrix\n",
    "X_train_slr.head()"
   ]
  },
  {
   "cell_type": "code",
   "execution_count": 108,
   "metadata": {
    "id": "8QjeJqcTCsxM",
    "outputId": "a4faa043-8db8-4331-983b-ad1d57c3b5f3",
    "scrolled": false
   },
   "outputs": [
    {
     "name": "stdout",
     "output_type": "stream",
     "text": [
      "                            OLS Regression Results                            \n",
      "==============================================================================\n",
      "Dep. Variable:     Total_Compensation   R-squared:                       0.947\n",
      "Model:                            OLS   Adj. R-squared:                  0.947\n",
      "Method:                 Least Squares   F-statistic:                 4.729e+05\n",
      "Date:                Wed, 30 Aug 2023   Prob (F-statistic):               0.00\n",
      "Time:                        20:13:21   Log-Likelihood:                 1460.8\n",
      "No. Observations:               26404   AIC:                            -2918.\n",
      "Df Residuals:                   26402   BIC:                            -2901.\n",
      "Df Model:                           1                                         \n",
      "Covariance Type:            nonrobust                                         \n",
      "==================================================================================\n",
      "                     coef    std err          t      P>|t|      [0.025      0.975]\n",
      "----------------------------------------------------------------------------------\n",
      "intercept         -0.0002      0.001     -0.119      0.906      -0.003       0.003\n",
      "Total_Benefits     0.9731      0.001    687.713      0.000       0.970       0.976\n",
      "==============================================================================\n",
      "Omnibus:                    12899.282   Durbin-Watson:                   1.998\n",
      "Prob(Omnibus):                  0.000   Jarque-Bera (JB):           145525.825\n",
      "Skew:                           2.077   Prob(JB):                         0.00\n",
      "Kurtosis:                      13.725   Cond. No.                         1.00\n",
      "==============================================================================\n",
      "\n",
      "Notes:\n",
      "[1] Standard Errors assume that the covariance matrix of the errors is correctly specified.\n"
     ]
    }
   ],
   "source": [
    "# building a model on the train dataset with an intercept\n",
    "# fit() is used to fit the OLS model\n",
    "SLR_model = sm.OLS(y_train_slr, X_train_slr).fit()\n",
    "\n",
    "# print the summary output\n",
    "print(SLR_model.summary())"
   ]
  },
  {
   "cell_type": "markdown",
   "metadata": {
    "id": "x9-pGJRUCsxN"
   },
   "source": [
    "**Interpretation:** The R-squared value obtained from this model is 94.7 which means that the above model explains 94.7% of the variation in the Total_Compensation. \n",
    "\n",
    "The `Durbin-Watson` test is used to check the autocorrelation between the residuals.\n",
    "\n",
    "If the Durbin-Watson test statistic is near to 2: no autocorrelation<br>\n",
    "If the Durbin-Watson test statistic is between 0 and 2: positive autocorrelation <br>\n",
    "If the Durbin-Watson test statistic is between 2 and 4: negative autocorrelation\n",
    "\n",
    "The summary output shows that the value of the test statistic is close to 2 (= 1.998) which means there is no autocorrelation.\n",
    "\n",
    "The `Jarque-Bera` test is used to check the normality of the residuals. Here, the p-value of the test is less than 0.05; that implies the residuals are not normally distributed.\n",
    "\n",
    "The 'Cond. No' (= 1) represents the `Condition Number (CN)` which is used to check the multicollinearity. \n",
    "\n",
    "If CN < 100: no multicollinearity<br>\n",
    "If CN is between 100 and 1000: moderate multicollinearity<br>\n",
    "If CN > 1000: severe multicollinearity\n",
    "\n",
    "Thus, it can be seen that there is no multicollinearity in the data."
   ]
  },
  {
   "cell_type": "markdown",
   "metadata": {
    "id": "o5ahvY-BCsxN"
   },
   "source": [
    "**Calculate the predicted Total_Compensation for train data using the above model.**"
   ]
  },
  {
   "cell_type": "markdown",
   "metadata": {
    "id": "5QrNIxDbCsxO"
   },
   "source": [
    "Use the above dataframe to predict the Total_Compensation."
   ]
  },
  {
   "cell_type": "code",
   "execution_count": 109,
   "metadata": {
    "id": "XQK2FD1bCsxO",
    "outputId": "4a7b23db-6346-4f36-fa16-98265113ec48"
   },
   "outputs": [
    {
     "data": {
      "text/plain": [
       "7580     0.345104\n",
       "15923    1.281337\n",
       "5380     0.236191\n",
       "9580    -0.343450\n",
       "3690    -1.317684\n",
       "dtype: float64"
      ]
     },
     "execution_count": 109,
     "metadata": {},
     "output_type": "execute_result"
    }
   ],
   "source": [
    "# predict the Total_Compensation using 'predict()' on training data\n",
    "y_train_slr_pred = SLR_model.predict(X_train_slr)\n",
    "\n",
    "# display the first five predicted values \n",
    "y_train_slr_pred.head()"
   ]
  },
  {
   "cell_type": "markdown",
   "metadata": {
    "id": "Ml2xcf2XCsxP"
   },
   "source": [
    "Now we have actual and predicted values of the target variable for training dataset (y_train_slr and y_train_pred respectively)"
   ]
  },
  {
   "cell_type": "markdown",
   "metadata": {
    "id": "eLkJMEHfCsxP"
   },
   "source": [
    "<a id=\"mv\"></a>\n",
    "## 4.2 Measures of Variation"
   ]
  },
  {
   "cell_type": "markdown",
   "metadata": {
    "id": "ViUanZeOCsxP"
   },
   "source": [
    "**Residual:** It is calculated as the difference between the actual and predicted value of the dependent variable."
   ]
  },
  {
   "cell_type": "markdown",
   "metadata": {
    "id": "FbCvqJcnCsxQ"
   },
   "source": [
    "<a id=\"ssr\"></a>\n",
    "### 4.2.1  Sum of Squared Residuals (SSR)"
   ]
  },
  {
   "cell_type": "markdown",
   "metadata": {
    "id": "UARfg08vCsxQ"
   },
   "source": [
    "It is defined as the sum of the squared difference between the predicted value and the mean of the dependent variable."
   ]
  },
  {
   "cell_type": "code",
   "execution_count": 110,
   "metadata": {
    "id": "XNnZzUAiCsxQ",
    "outputId": "70bd5d9d-ffa2-414f-b887-0d0870afb513"
   },
   "outputs": [
    {
     "data": {
      "text/plain": [
       "24792.319612330153"
      ]
     },
     "execution_count": 110,
     "metadata": {},
     "output_type": "execute_result"
    }
   ],
   "source": [
    "# calculate the SSR on train dataset\n",
    "ssr = np.sum((y_train_slr_pred - y_train_slr.mean())**2)\n",
    "ssr"
   ]
  },
  {
   "cell_type": "markdown",
   "metadata": {
    "id": "UZK5UvlYCsxR"
   },
   "source": [
    "<a id=\"sse\"></a>\n",
    "### 4.2.2 Sum of Squared Error (SSE)"
   ]
  },
  {
   "cell_type": "markdown",
   "metadata": {
    "id": "u5WLNC6zCsxR"
   },
   "source": [
    "It is defined as the sum of the squared difference between the actual value and the predicted value."
   ]
  },
  {
   "cell_type": "code",
   "execution_count": 111,
   "metadata": {
    "id": "VLPmds05CsxR",
    "outputId": "c16f1422-ab80-491c-e6ec-d81a25984b65"
   },
   "outputs": [
    {
     "data": {
      "text/plain": [
       "1384.010118201885"
      ]
     },
     "execution_count": 111,
     "metadata": {},
     "output_type": "execute_result"
    }
   ],
   "source": [
    "# calculate the SSE on train dataset\n",
    "sse = np.sum((y_train_slr - y_train_slr_pred)**2)\n",
    "sse"
   ]
  },
  {
   "cell_type": "markdown",
   "metadata": {
    "id": "k_jGun_RCsxS"
   },
   "source": [
    "<a id=\"sst\"></a>\n",
    "### 4.2.3  Sum of Squared Total (SST)"
   ]
  },
  {
   "cell_type": "markdown",
   "metadata": {
    "id": "zp1WbwV3CsxS"
   },
   "source": [
    "It is the sum of the squared difference between the actual value and the mean of the dependent variable."
   ]
  },
  {
   "cell_type": "code",
   "execution_count": 112,
   "metadata": {
    "id": "UnJtCP2fCsxS",
    "outputId": "20adac29-86d3-4d77-d3ca-a83865a44e59"
   },
   "outputs": [
    {
     "data": {
      "text/plain": [
       "26176.329730532045"
      ]
     },
     "execution_count": 112,
     "metadata": {},
     "output_type": "execute_result"
    }
   ],
   "source": [
    "# calculate the SST on train dataset\n",
    "sst = np.sum((y_train_slr - y_train_slr.mean())**2)\n",
    "sst"
   ]
  },
  {
   "cell_type": "code",
   "execution_count": 113,
   "metadata": {
    "id": "pdmFJpgnCsxT",
    "outputId": "95033af6-f159-4151-92dd-820351e476c3"
   },
   "outputs": [
    {
     "data": {
      "text/plain": [
       "26176.329730532038"
      ]
     },
     "execution_count": 113,
     "metadata": {},
     "output_type": "execute_result"
    }
   ],
   "source": [
    "# add the values of SSE and SSR\n",
    "sse + ssr"
   ]
  },
  {
   "cell_type": "markdown",
   "metadata": {
    "id": "Vf4ABs2GCsxT"
   },
   "source": [
    "**Interpretation:** From the abve putput, we can verify that SST (Total variation) is the sum of SSR and SSE."
   ]
  },
  {
   "cell_type": "markdown",
   "metadata": {
    "id": "m92CHMPpCsxT"
   },
   "source": [
    "<a id=\"r2\"></a>\n",
    "### 4.2.4 Coefficient of Determination (R-Squared)"
   ]
  },
  {
   "cell_type": "markdown",
   "metadata": {
    "id": "GAN0SFOVCsxU"
   },
   "source": [
    "The coefficient of determination explains the percentage of variation in the dependent variable that the independent variables explain collectively."
   ]
  },
  {
   "cell_type": "code",
   "execution_count": 114,
   "metadata": {
    "id": "mFe96e0OCsxU",
    "outputId": "8eb9c297-2b75-4f6b-bbfc-b9adf5daa192"
   },
   "outputs": [
    {
     "data": {
      "text/plain": [
       "0.9471274188379597"
      ]
     },
     "execution_count": 114,
     "metadata": {},
     "output_type": "execute_result"
    }
   ],
   "source": [
    "# calculate R-Squared on train dataset\n",
    "# use 'rsquared' method from statsmodel\n",
    "r_sq = SLR_model.rsquared\n",
    "\n",
    "# print the R-squared value\n",
    "r_sq"
   ]
  },
  {
   "cell_type": "markdown",
   "metadata": {
    "id": "wRq-J4viCsxU"
   },
   "source": [
    "Now, we can also calculate the R-squared value using the formula (SSR/SST)."
   ]
  },
  {
   "cell_type": "code",
   "execution_count": 115,
   "metadata": {
    "id": "bLcfpsirCsxV",
    "outputId": "7e4bd87b-faae-4047-ba13-4960a9562c7a",
    "scrolled": true
   },
   "outputs": [
    {
     "data": {
      "text/plain": [
       "0.9471274188379594"
      ]
     },
     "execution_count": 115,
     "metadata": {},
     "output_type": "execute_result"
    }
   ],
   "source": [
    "# calculate R-Squared on train dataset using the formula\n",
    "r_sq = ssr/sst\n",
    "\n",
    "# print the R-squared value\n",
    "r_sq"
   ]
  },
  {
   "cell_type": "markdown",
   "metadata": {
    "id": "HltbLEG0CsxV"
   },
   "source": [
    "**Interpretation:** From the above output we can conclude that our model explains 94.71% variation in the Total_Compensation. We can also obtain this value from the summary of the model."
   ]
  },
  {
   "cell_type": "markdown",
   "metadata": {
    "id": "AepbYYgHCsxV"
   },
   "source": [
    "<a id=\"see\"></a>\n",
    "### 4.2.5 Standard Error of Estimate (SEE)"
   ]
  },
  {
   "cell_type": "markdown",
   "metadata": {
    "id": "Nc6YmsiRCsxW"
   },
   "source": [
    "The SEE is the measure of the variability of actual values around the prediction line. Smaller the value of SEE better is the model."
   ]
  },
  {
   "cell_type": "code",
   "execution_count": 116,
   "metadata": {
    "id": "XiADlYqLCsxW",
    "outputId": "553f76fc-160c-47cb-929b-75c33434a6e2"
   },
   "outputs": [
    {
     "data": {
      "text/plain": [
       "0.22895557304369393"
      ]
     },
     "execution_count": 116,
     "metadata": {},
     "output_type": "execute_result"
    }
   ],
   "source": [
    "# compute SEE using the below formula \n",
    "# see =  np.sqrt(sse/(len(train_data) - k))    \n",
    "\n",
    "# for SLR take k = 2, as there are two coefficients (parameters) in the model\n",
    "see = np.sqrt(sse/(len(X_train_slr) - 2))    \n",
    "see"
   ]
  },
  {
   "cell_type": "markdown",
   "metadata": {
    "id": "hRMSbQIoCsxW"
   },
   "source": [
    "Let us visualize the variability around the predicted line using regression plot."
   ]
  },
  {
   "cell_type": "code",
   "execution_count": 117,
   "metadata": {
    "id": "tnCrTImkCsxX",
    "outputId": "66541f84-d603-479d-fff6-4972b9a69126",
    "scrolled": false
   },
   "outputs": [
    {
     "data": {
      "image/png": "[encoded data removed]",
      "text/plain": [
       "<Figure size 1500x800 with 1 Axes>"
      ]
     },
     "metadata": {},
     "output_type": "display_data"
    }
   ],
   "source": [
    "# set the plot size using figure()\n",
    "# pass width and height in inches to 'figsize' \n",
    "plt.figure(figsize = (15,8))\n",
    "\n",
    "# plot a regression plot\n",
    "# independent variable on x-axis and dependent variable on y-axis\n",
    "sns.regplot(x = X_train_slr['Total_Benefits'], y = y_train_slr)\n",
    "\n",
    "# add axes and plot labels\n",
    "# set text size using 'fontsize'\n",
    "plt.title('Variability Around the Predicted Line', fontsize = 15)\n",
    "plt.xlabel('Total_Benefits', fontsize = 15)\n",
    "plt.ylabel('Total_Compensation', fontsize = 15)\n",
    "\n",
    "# display the plot\n",
    "plt.show()"
   ]
  },
  {
   "cell_type": "markdown",
   "metadata": {
    "id": "if88H3S-CsxX"
   },
   "source": [
    "**Interpretation:** The blue line in the plot, indicates the regression line for the data. We can observe that most of the data points lie on (or near) the line. Also, some of the points are away from the line, which concludes the variation of the data to the fitted line. The shaded part in blue around the line shows the confidence interval for the regression line."
   ]
  },
  {
   "cell_type": "markdown",
   "metadata": {
    "id": "X0_QmoaqCsxX"
   },
   "source": [
    "<a id=\"inf\"></a>\n",
    "## 4.3 Inferences about Slope and Intercept"
   ]
  },
  {
   "cell_type": "markdown",
   "metadata": {
    "id": "Bdj-Oh9RCsxY"
   },
   "source": [
    "Let us print the summary of the regression model (built in section 4.1)."
   ]
  },
  {
   "cell_type": "code",
   "execution_count": 118,
   "metadata": {
    "id": "hp6ZhKvCCsxY",
    "outputId": "841f842a-ecb1-454b-d2ac-b96039741626",
    "scrolled": false
   },
   "outputs": [
    {
     "name": "stdout",
     "output_type": "stream",
     "text": [
      "                            OLS Regression Results                            \n",
      "==============================================================================\n",
      "Dep. Variable:     Total_Compensation   R-squared:                       0.947\n",
      "Model:                            OLS   Adj. R-squared:                  0.947\n",
      "Method:                 Least Squares   F-statistic:                 4.729e+05\n",
      "Date:                Wed, 30 Aug 2023   Prob (F-statistic):               0.00\n",
      "Time:                        20:13:27   Log-Likelihood:                 1460.8\n",
      "No. Observations:               26404   AIC:                            -2918.\n",
      "Df Residuals:                   26402   BIC:                            -2901.\n",
      "Df Model:                           1                                         \n",
      "Covariance Type:            nonrobust                                         \n",
      "==================================================================================\n",
      "                     coef    std err          t      P>|t|      [0.025      0.975]\n",
      "----------------------------------------------------------------------------------\n",
      "intercept         -0.0002      0.001     -0.119      0.906      -0.003       0.003\n",
      "Total_Benefits     0.9731      0.001    687.713      0.000       0.970       0.976\n",
      "==============================================================================\n",
      "Omnibus:                    12899.282   Durbin-Watson:                   1.998\n",
      "Prob(Omnibus):                  0.000   Jarque-Bera (JB):           145525.825\n",
      "Skew:                           2.077   Prob(JB):                         0.00\n",
      "Kurtosis:                      13.725   Cond. No.                         1.00\n",
      "==============================================================================\n",
      "\n",
      "Notes:\n",
      "[1] Standard Errors assume that the covariance matrix of the errors is correctly specified.\n"
     ]
    }
   ],
   "source": [
    "# print the model summary\n",
    "print(SLR_model.summary())"
   ]
  },
  {
   "cell_type": "markdown",
   "metadata": {
    "id": "EyCubBMXCsxY"
   },
   "source": [
    "Now, let us make some inferences about the output given above."
   ]
  },
  {
   "cell_type": "markdown",
   "metadata": {
    "id": "kOyxsuIyCsxZ"
   },
   "source": [
    "<a id=\"inter\"></a>\n",
    "### 4.3.1 Interpretation of Slope and Intercept"
   ]
  },
  {
   "cell_type": "markdown",
   "metadata": {
    "id": "UmHHeA1cCsxZ"
   },
   "source": [
    "The output of the regression model returns the value of slope (β<sub>1</sub>) and Intercept (β<sub>0</sub>). \n",
    "\n",
    "**Intercept (β<sub>0</sub>) = -0.0002**, indicates that if the Total_Benefits is zero, then the average Total_Compensation is -0.0002. <br>\n",
    "\n",
    "**The slope of 'Total_Benefits' (β<sub>1</sub>) = 0.9731**, indicates that by increasing the Total_Benefits percentage by 1%, the average Total_Compensation increases by 0.9731.\n",
    "\n",
    "\n",
    "Thus, the equation of the line given by the model is:\n",
    "<p style='text-indent:25em'> <strong> Total_Compensation = -0.0002 + 0.9731*(Total_Benefits) </strong>  </p>"
   ]
  },
  {
   "cell_type": "markdown",
   "metadata": {
    "id": "1o5sTxzdCsxa"
   },
   "source": [
    "<a id=\"t_test\"></a>\n",
    "### 4.3.2 The t-test for Slope and Intercept"
   ]
  },
  {
   "cell_type": "markdown",
   "metadata": {
    "id": "VY3UFNJGCsxa"
   },
   "source": [
    "The coefficient of regression captures the presence of a linear relationship between the independent and dependent variables. If the coefficient value is zero, we can infer that there is no linear relationship between the two variables which is statistically important. It is calculated as:\n",
    "<p style='text-indent:28em'> <strong> t_value = coefficient / Standard_error </strong>  </p>\n",
    "\n",
    "The test hypothesis for the t-test is given as:\n",
    "<p style='text-indent:35em'> <strong> H<sub>o</sub>: β<sub>1</sub> = 0 </strong> </p>\n",
    "<p style='text-indent:35em'> <strong> H<sub>1</sub>: β<sub>1</sub> ≠ 0 </strong> </p>\n",
    "                                    \n",
    "Now, let us see how to calculate the t_test value for slope and intercept."
   ]
  },
  {
   "cell_type": "code",
   "execution_count": 119,
   "metadata": {
    "id": "buEh-8CNCsxa",
    "outputId": "895a7577-7413-487b-8b6f-2dea9789798e",
    "scrolled": true
   },
   "outputs": [
    {
     "data": {
      "text/plain": [
       "-0.11862622978187752"
      ]
     },
     "execution_count": 119,
     "metadata": {},
     "output_type": "execute_result"
    }
   ],
   "source": [
    "# perform t_test for intercept\n",
    "# 'params[0]' returns the value of intercept \n",
    "# 'bse[0]' returns the standard error of intercept\n",
    "t_intercept = SLR_model.params[0] / SLR_model.bse[0]\n",
    "\n",
    "# print the value of t-statistic\n",
    "t_intercept"
   ]
  },
  {
   "cell_type": "code",
   "execution_count": 120,
   "metadata": {
    "id": "IMMfjgF9Csxb",
    "outputId": "400af1f6-2269-4eb3-8cc2-2a1e64b42b81"
   },
   "outputs": [
    {
     "data": {
      "text/plain": [
       "687.7132023629399"
      ]
     },
     "execution_count": 120,
     "metadata": {},
     "output_type": "execute_result"
    }
   ],
   "source": [
    "# t_test for slope\n",
    "# 'params[1]' returns the value of slope\n",
    "# 'bse[1]' returns the standard error of slope\n",
    "t_slope = SLR_model.params[1] / SLR_model.bse[1]\n",
    "\n",
    "# print the value of t-statistic\n",
    "t_slope"
   ]
  },
  {
   "cell_type": "markdown",
   "metadata": {
    "id": "aonbwOckCsxb"
   },
   "source": [
    "Now, let us see how to calculate the p-value associated with t_test value for slope and intercept."
   ]
  },
  {
   "cell_type": "code",
   "execution_count": 121,
   "metadata": {
    "id": "gfYbrr-sCsxb",
    "outputId": "c9aac9d4-113f-4536-f687-05c9ded532c6",
    "scrolled": true
   },
   "outputs": [
    {
     "data": {
      "text/plain": [
       "0.9055723861598557"
      ]
     },
     "execution_count": 121,
     "metadata": {},
     "output_type": "execute_result"
    }
   ],
   "source": [
    "# calculate p-value for intercept\n",
    "# use 'sf' (Survival function) from t-distribution to calculate the corresponding p-value\n",
    "\n",
    "# pass degrees of freedom and t-statistic value for intercept\n",
    "# degrees of freedom = n - 1 = 26404 - 1 = 26403\n",
    "pval = stats.t.sf(np.abs(t_intercept), 26403)*2 \n",
    "pval"
   ]
  },
  {
   "cell_type": "code",
   "execution_count": 122,
   "metadata": {
    "id": "5Mw30Y32Csxc",
    "outputId": "e57f28a1-3b25-47ca-83ec-aef5c1fcd98e"
   },
   "outputs": [
    {
     "data": {
      "text/plain": [
       "0.0"
      ]
     },
     "execution_count": 122,
     "metadata": {},
     "output_type": "execute_result"
    }
   ],
   "source": [
    "# calculate p-value for slope\n",
    "# use 'sf' (Survival function) from t-distribution to calculate the corresponding p-value\n",
    "\n",
    "# pass degrees of freedom and t-statistic value for slope\n",
    "# degrees of freedom = n - 1 = 26404 - 1 = 26403\n",
    "pval = stats.t.sf(np.abs(t_slope), 26403)*2 \n",
    "pval"
   ]
  },
  {
   "cell_type": "markdown",
   "metadata": {
    "id": "d8ab-7DQCsxc"
   },
   "source": [
    "**Interpretation:** The 'P > |t|' in the model summary indicates the p-value for the corresponding t-test. In our case, the p-value for the slope is zero i.e. p-value < 0.05 (with 5% level of significance). Thus, we can say that the slope is significant for the target variable.<br>\n",
    "But, the p-value for the intercept is not zero i.e. p-value > 0.05 (with 5% level of significance). Thus, we can say that the intercept is insignificant for the target variable."
   ]
  },
  {
   "cell_type": "markdown",
   "metadata": {
    "id": "hXt4NDn2Csxc"
   },
   "source": [
    "<a id=\"ci\"></a>\n",
    "### 4.3.3 Confidence Interval for Slope and Intercept"
   ]
  },
  {
   "cell_type": "markdown",
   "metadata": {
    "id": "P4WL-cDFCsxd"
   },
   "source": [
    "The 95% confidence interval for the variable implies that the value for the variable will be between the given interval for 95% of the cases. We can calculate the confidence interval as:\n",
    "\n",
    "<p style='text-indent:28em'> <strong> CI = coefficient ± t_table_value*Standard_error </strong>  </p>\n",
    "\n",
    "Here, \n",
    "t_table_value is obtained from the t-table with degrees of freedom (n-k) = (26404 - 2) = 26402 and 95% confidence level."
   ]
  },
  {
   "cell_type": "code",
   "execution_count": 123,
   "metadata": {
    "id": "FZJDjDEwCsxd",
    "outputId": "65b3ca55-0799-4093-ff25-a8a42e562c78",
    "scrolled": false
   },
   "outputs": [
    {
     "name": "stdout",
     "output_type": "stream",
     "text": [
      "CI for intercept: [-0.002931928568264285, 0.002597634789124997]\n"
     ]
    }
   ],
   "source": [
    "# CI for intercept\n",
    "# create a tuple using the above formula\n",
    "# here, t_table_value = 1.9622\n",
    "CI_inter_min, CI_inter_max = SLR_model.params[0] - (1.9622*SLR_model.bse[0]), SLR_model.params[0] + (1.9622*SLR_model.bse[0])\n",
    "\n",
    "# print the confidence interval for intercept \n",
    "print('CI for intercept:', [CI_inter_min , CI_inter_max])"
   ]
  },
  {
   "cell_type": "code",
   "execution_count": 124,
   "metadata": {
    "id": "0wlFAx5-Csxe",
    "outputId": "7e31cbea-5a40-4a8d-b244-79d94c77cb0e"
   },
   "outputs": [
    {
     "name": "stdout",
     "output_type": "stream",
     "text": [
      "CI for slope: [0.9703214410276182, 0.9758743741623093]\n"
     ]
    }
   ],
   "source": [
    "# CI for slope\n",
    "# create a tuple using the above formula\n",
    "# here, t_table_value = 1.9622\n",
    "CI_slope_min, CI_slope_max = SLR_model.params[1] - (1.9622*SLR_model.bse[1]), SLR_model.params[1] + (1.9622*SLR_model.bse[1])\n",
    "\n",
    "# print the confidence interval for slope\n",
    "print('CI for slope:', [CI_slope_min,CI_slope_max])"
   ]
  },
  {
   "cell_type": "markdown",
   "metadata": {
    "id": "4zyH3yGrCsxe"
   },
   "source": [
    "<a id=\"anova\"></a>\n",
    "### 4.3.4 ANOVA for SLR"
   ]
  },
  {
   "cell_type": "markdown",
   "metadata": {
    "id": "j6QUCv_pCsxe"
   },
   "source": [
    "ANOVA (Analysis of Variance) is used to test the significance of the linear regression model. The test hypothesis for ANOVA is given as:\n",
    "<p style='text-indent:25em'> <strong> H<sub>o</sub>: β<sub>1</sub> = 0 </strong> (i.e. regression model is not significant) </p>\n",
    "<p style='text-indent:25em'> <strong> H<sub>1</sub>: β<sub>1</sub> ≠ 0 </strong> (i.e. regression model is significant) </p>"
   ]
  },
  {
   "cell_type": "markdown",
   "metadata": {
    "id": "nZExdZR4Csxf"
   },
   "source": [
    "To perform ANOVA using `anova_lm` method, we build the SLR model using `ols` method in the statsmodel library."
   ]
  },
  {
   "cell_type": "code",
   "execution_count": 125,
   "metadata": {
    "id": "6T_MOWAPCsxf"
   },
   "outputs": [],
   "source": [
    "# build a SLR model using 'ols' method\n",
    "# pass the regression model to the parameter 'formula'\n",
    "# concatenate the training dataset and pass to the parameter 'data' to build the model on training dataset\n",
    "# 'axis=1' concats the data column-wise\n",
    "# 'fit()' is used to fit the model\n",
    "slr_ols = ols(formula = 'Total_Compensation ~ Total_Benefits', data = pd.concat([X_train_slr, y_train_slr], axis=1)).fit()\n",
    "# this model returns the same result as of model built using 'OLS' "
   ]
  },
  {
   "cell_type": "code",
   "execution_count": 126,
   "metadata": {
    "id": "06V2JXT3Csxf",
    "outputId": "1f660f55-959b-405f-feeb-6787f379005f"
   },
   "outputs": [
    {
     "data": {
      "text/html": [
       "<div>\n",
       "<style scoped>\n",
       "    .dataframe tbody tr th:only-of-type {\n",
       "        vertical-align: middle;\n",
       "    }\n",
       "\n",
       "    .dataframe tbody tr th {\n",
       "        vertical-align: top;\n",
       "    }\n",
       "\n",
       "    .dataframe thead th {\n",
       "        text-align: right;\n",
       "    }\n",
       "</style>\n",
       "<table border=\"1\" class=\"dataframe\">\n",
       "  <thead>\n",
       "    <tr style=\"text-align: right;\">\n",
       "      <th></th>\n",
       "      <th>df</th>\n",
       "      <th>sum_sq</th>\n",
       "      <th>mean_sq</th>\n",
       "      <th>F</th>\n",
       "      <th>PR(&gt;F)</th>\n",
       "    </tr>\n",
       "  </thead>\n",
       "  <tbody>\n",
       "    <tr>\n",
       "      <th>Total_Benefits</th>\n",
       "      <td>1.000000</td>\n",
       "      <td>24792.319612</td>\n",
       "      <td>24792.319612</td>\n",
       "      <td>472949.448704</td>\n",
       "      <td>0.000000</td>\n",
       "    </tr>\n",
       "    <tr>\n",
       "      <th>Residual</th>\n",
       "      <td>26402.000000</td>\n",
       "      <td>1384.010118</td>\n",
       "      <td>0.052421</td>\n",
       "      <td>NaN</td>\n",
       "      <td>NaN</td>\n",
       "    </tr>\n",
       "  </tbody>\n",
       "</table>\n",
       "</div>"
      ],
      "text/plain": [
       "                         df       sum_sq      mean_sq             F   PR(>F)\n",
       "Total_Benefits     1.000000 24792.319612 24792.319612 472949.448704 0.000000\n",
       "Residual       26402.000000  1384.010118     0.052421           NaN      NaN"
      ]
     },
     "execution_count": 126,
     "metadata": {},
     "output_type": "execute_result"
    }
   ],
   "source": [
    "# perform ANOVA on the above model using 'anova_lm'\n",
    "# pass the linear model to 'anova_lm'\n",
    "anova_slr = anova_lm(slr_ols)\n",
    "\n",
    "# print the ANOVA results\n",
    "anova_slr"
   ]
  },
  {
   "cell_type": "markdown",
   "metadata": {
    "id": "bZ9Km3oYCsxg"
   },
   "source": [
    "**Interpretation:** The above ANOVA result returns the F-statistic and corresponding p-value for the linear model. As, the p-value is less than 0.05, we accept the alternate hypothesis (i.e. the regression model is significant). We can also obtain these values from the summary of the model."
   ]
  },
  {
   "cell_type": "markdown",
   "metadata": {
    "id": "kPkhAjG5Csxg"
   },
   "source": [
    "<a id=\"MLR\"></a>\n",
    "# 5. Multiple Linear Regression (MLR)"
   ]
  },
  {
   "cell_type": "markdown",
   "metadata": {
    "id": "p6CdEY7dCsxg"
   },
   "source": [
    "It is used to study the linear relationship between a dependent (target) variable and two or more independent variables. We can use this technique to study the effect of multiple variables on the target variable."
   ]
  },
  {
   "cell_type": "markdown",
   "metadata": {
    "id": "KXH4n_zVCsxh"
   },
   "source": [
    "<a id=\"before\"></a>\n",
    "## 5.1 Assumptions Before MLR Model"
   ]
  },
  {
   "cell_type": "markdown",
   "metadata": {
    "id": "IS-erNvmCsxh"
   },
   "source": [
    "There are several assumptions of linear regression. We can check two of them before building the regression model. Let us check the following assumptions in this section:<br>\n",
    "1. Assumption on Dependent Variable<br>\n",
    "2. No or little multicollinearity<br>"
   ]
  },
  {
   "cell_type": "markdown",
   "metadata": {
    "id": "hSUAhLoLCsxh"
   },
   "source": [
    "Let us create the dataframes for independent and target variable to check the assumptions of linear regression."
   ]
  },
  {
   "cell_type": "code",
   "execution_count": 127,
   "metadata": {
    "id": "6kTK52ADCsxi"
   },
   "outputs": [],
   "source": [
    "# create dataframe of features by dropping the target variable\n",
    "# 'axis = 1' drops the corresponding column(s)\n",
    "df_feature = df_compensation.drop('Total_Compensation', axis = 1)\n",
    "\n",
    "# create dataframe of target variable\n",
    "df_target = df_compensation['Total_Compensation']"
   ]
  },
  {
   "cell_type": "markdown",
   "metadata": {
    "id": "KPWSbSUbCsxi"
   },
   "source": [
    "<a id=\"dep_num\"></a>\n",
    "### 5.1.1 Assumption on Dependent Variable"
   ]
  },
  {
   "cell_type": "markdown",
   "metadata": {
    "id": "AaIbgtYdCsxi"
   },
   "source": [
    "The assumption for linear regression is that the dependent (target) variable should be numeric. In our dataset, the variable 'Total_Compensation' is the target/dependent variable.  "
   ]
  },
  {
   "cell_type": "code",
   "execution_count": 128,
   "metadata": {
    "id": "PZG6tvhoCsxi",
    "outputId": "63e1dffd-301c-4401-980a-eed9f3c66ee5"
   },
   "outputs": [
    {
     "data": {
      "text/plain": [
       "dtype('float64')"
      ]
     },
     "execution_count": 128,
     "metadata": {},
     "output_type": "execute_result"
    }
   ],
   "source": [
    "# check the data type of dependent variable\n",
    "df_target.dtype"
   ]
  },
  {
   "cell_type": "markdown",
   "metadata": {
    "id": "9j0tpdH8Csxj"
   },
   "source": [
    "**Interpretation:** The output shows that the data type of target variable is 'float64'. i.e. the dependent variable is numeric."
   ]
  },
  {
   "cell_type": "markdown",
   "metadata": {
    "id": "LEMFhyd9Csxj"
   },
   "source": [
    "<a id=\"no_multi\"></a>\n",
    "### 5.1.2 No or Little Multicollinearity"
   ]
  },
  {
   "cell_type": "markdown",
   "metadata": {
    "id": "Tgtvr_DhCsxj"
   },
   "source": [
    "Whenever there are a large number of independent variables present in the dataset, there is a possibility that such independent variables will be strongly correlated. The presence of a strong correlation between the independent variables is called multicollinearity.\n",
    "\n",
    "The presence of multicollinearity can destabilize the model. Thus, the existence of multicollinearity must be detected and corrected actions should be taken.\n",
    "\n",
    "If we use dummy variables to encode a categorical variable and do not omit the parent column, then this results in a strong correlation between the dummy variables and the parent column."
   ]
  },
  {
   "cell_type": "markdown",
   "metadata": {
    "id": "rkW9pdCVCsxk"
   },
   "source": [
    "<a id=\"corr\"></a>\n",
    "#### 5.1.2.1 Correlation Matrix"
   ]
  },
  {
   "cell_type": "markdown",
   "metadata": {
    "id": "8XazRhRyCsxk"
   },
   "source": [
    "Let us plot the heatmap to visualize the correlation matrix of the independent variables. The variables with a high correlation may induce multicollinearity in the data."
   ]
  },
  {
   "cell_type": "code",
   "execution_count": 129,
   "metadata": {
    "id": "ncs9Q2djCsxk",
    "outputId": "5abb649e-5e9d-4bda-f025-a0a33ab8e0ca",
    "scrolled": false
   },
   "outputs": [
    {
     "data": {
      "image/png": "[encoded data removed]",
      "text/plain": [
       "<Figure size 2000x1000 with 2 Axes>"
      ]
     },
     "metadata": {},
     "output_type": "display_data"
    }
   ],
   "source": [
    "# set the plot size using figure()\n",
    "# pass width and height in inches to 'figsize' \n",
    "plt.figure(figsize = (20,10))\n",
    "\n",
    "# plot the heat map\n",
    "# corr(): give the correlation matrix\n",
    "# annot: prints the correlation values in the chart\n",
    "# annot_kws: used to set the font size of the annotation\n",
    "sns.heatmap(df_feature.corr(), annot = True, annot_kws = {\"size\": 11})\n",
    "\n",
    "# rotation = 'horizontal' rotates the y-axis labels horizontally\n",
    "# set text size using 'fontsize'\n",
    "plt.yticks(rotation = 'horizontal', fontsize = 15)\n",
    "plt.xticks(fontsize = 15)\n",
    "\n",
    "# display the plot\n",
    "plt.show()"
   ]
  },
  {
   "cell_type": "markdown",
   "metadata": {
    "id": "GDHV9TUWCsxl"
   },
   "source": [
    "Identify the variables with a correlation greater than 0.6 and less than -0.6."
   ]
  },
  {
   "cell_type": "code",
   "execution_count": 130,
   "metadata": {
    "id": "t6jfJmGWCsxm",
    "outputId": "922ad79d-46bd-4475-fdcc-419705488bf2",
    "scrolled": false
   },
   "outputs": [
    {
     "data": {
      "image/png": "[encoded data removed]",
      "text/plain": [
       "<Figure size 2000x1000 with 2 Axes>"
      ]
     },
     "metadata": {},
     "output_type": "display_data"
    }
   ],
   "source": [
    "# set the plot size using figure()\n",
    "# pass width and height in inches to 'figsize' \n",
    "plt.figure(figsize = (20,10))\n",
    "\n",
    "# plot the heat map\n",
    "# corr(): give the correlation matrix\n",
    "# annot: prints the correlation values in the chart\n",
    "# annot_kws: sets the font size of the annotation\n",
    "sns.heatmap(df_feature.corr()[np.abs(df_feature.corr()) > 0.6], annot = True, annot_kws = {\"size\": 11})\n",
    "\n",
    "# rotate the y-axis labels\n",
    "# set text size using 'fontsize'\n",
    "plt.yticks(rotation = 'horizontal', fontsize = 15)\n",
    "plt.xticks(fontsize = 15)\n",
    "\n",
    "# display the plot\n",
    "plt.show()"
   ]
  },
  {
   "cell_type": "markdown",
   "metadata": {
    "id": "llolu612Csxm"
   },
   "source": [
    "**Interpretation:** The above heatmap, show the variables having a strong positive/negative correlation. The variables with dark blue shade represent the strong positive correlation and the ones with lighter shade represent the strong negative correlation."
   ]
  },
  {
   "cell_type": "markdown",
   "metadata": {
    "id": "jg0Wp9OHCsxn"
   },
   "source": [
    "<a id=\"vif\"></a>\n",
    "#### 5.1.2.2 Variance Inflation Factor (VIF)"
   ]
  },
  {
   "cell_type": "markdown",
   "metadata": {
    "id": "d8rWP7GvCsxn"
   },
   "source": [
    "The Variance Inflation Factor (VIF) is used to detect the presence of multicollinearity between the features. The value of VIF equal to 1 indicates that no features are correlated. We calculate VIF of the numerical independent variables.   \n",
    "\n",
    "Steps to calculate VIF:<br>\n",
    "1. Regress one independent variable (say V<sub>i</sub>) on all the remaining independent variables (say V<sub>j</sub>, j ≠ i)\n",
    "2. Calculate R-squared of the regression model\n",
    "3. Calculate VIF for the variable V<sub>i</sub> using the formula:\n",
    "<p style='text-indent:29em'> <strong> VIF = 1 / (1 - R-squared)</strong>  </p><br>\n",
    "4. Repeate the steps 1 to 3 to calculate VIF of each independent variable"
   ]
  },
  {
   "cell_type": "code",
   "execution_count": 131,
   "metadata": {
    "id": "1cBglW0QCsxo",
    "outputId": "68e67b6b-06f8-40bc-e62c-b0e6fe725e69"
   },
   "outputs": [
    {
     "data": {
      "text/html": [
       "<div>\n",
       "<style scoped>\n",
       "    .dataframe tbody tr th:only-of-type {\n",
       "        vertical-align: middle;\n",
       "    }\n",
       "\n",
       "    .dataframe tbody tr th {\n",
       "        vertical-align: top;\n",
       "    }\n",
       "\n",
       "    .dataframe thead th {\n",
       "        text-align: right;\n",
       "    }\n",
       "</style>\n",
       "<table border=\"1\" class=\"dataframe\">\n",
       "  <thead>\n",
       "    <tr style=\"text-align: right;\">\n",
       "      <th></th>\n",
       "      <th>Salaries</th>\n",
       "      <th>Overtime</th>\n",
       "      <th>Other_Salaries</th>\n",
       "      <th>Total_Salary</th>\n",
       "      <th>Retirement</th>\n",
       "      <th>Health/Dental</th>\n",
       "      <th>Other_Benefits</th>\n",
       "      <th>Total_Benefits</th>\n",
       "    </tr>\n",
       "  </thead>\n",
       "  <tbody>\n",
       "    <tr>\n",
       "      <th>0</th>\n",
       "      <td>0.983488</td>\n",
       "      <td>-0.228091</td>\n",
       "      <td>-0.474919</td>\n",
       "      <td>0.926912</td>\n",
       "      <td>1.178494</td>\n",
       "      <td>0.916565</td>\n",
       "      <td>1.145315</td>\n",
       "      <td>1.160922</td>\n",
       "    </tr>\n",
       "    <tr>\n",
       "      <th>1</th>\n",
       "      <td>-1.252266</td>\n",
       "      <td>-0.167552</td>\n",
       "      <td>-0.587276</td>\n",
       "      <td>-1.263215</td>\n",
       "      <td>-1.180529</td>\n",
       "      <td>-1.491462</td>\n",
       "      <td>-1.259970</td>\n",
       "      <td>-1.365191</td>\n",
       "    </tr>\n",
       "    <tr>\n",
       "      <th>3</th>\n",
       "      <td>-0.164358</td>\n",
       "      <td>-0.428525</td>\n",
       "      <td>0.095551</td>\n",
       "      <td>-0.168961</td>\n",
       "      <td>-0.031662</td>\n",
       "      <td>-1.579733</td>\n",
       "      <td>-0.037039</td>\n",
       "      <td>-0.521484</td>\n",
       "    </tr>\n",
       "    <tr>\n",
       "      <th>4</th>\n",
       "      <td>-0.258589</td>\n",
       "      <td>-0.428525</td>\n",
       "      <td>-0.587276</td>\n",
       "      <td>-0.300194</td>\n",
       "      <td>-0.312417</td>\n",
       "      <td>-0.399832</td>\n",
       "      <td>-0.256852</td>\n",
       "      <td>-0.347973</td>\n",
       "    </tr>\n",
       "    <tr>\n",
       "      <th>5</th>\n",
       "      <td>0.536538</td>\n",
       "      <td>-0.428525</td>\n",
       "      <td>0.019113</td>\n",
       "      <td>0.511845</td>\n",
       "      <td>0.511937</td>\n",
       "      <td>0.994002</td>\n",
       "      <td>0.703228</td>\n",
       "      <td>0.731784</td>\n",
       "    </tr>\n",
       "  </tbody>\n",
       "</table>\n",
       "</div>"
      ],
      "text/plain": [
       "   Salaries  Overtime  Other_Salaries  Total_Salary  Retirement  \\\n",
       "0  0.983488 -0.228091       -0.474919      0.926912    1.178494   \n",
       "1 -1.252266 -0.167552       -0.587276     -1.263215   -1.180529   \n",
       "3 -0.164358 -0.428525        0.095551     -0.168961   -0.031662   \n",
       "4 -0.258589 -0.428525       -0.587276     -0.300194   -0.312417   \n",
       "5  0.536538 -0.428525        0.019113      0.511845    0.511937   \n",
       "\n",
       "   Health/Dental  Other_Benefits  Total_Benefits  \n",
       "0       0.916565        1.145315        1.160922  \n",
       "1      -1.491462       -1.259970       -1.365191  \n",
       "3      -1.579733       -0.037039       -0.521484  \n",
       "4      -0.399832       -0.256852       -0.347973  \n",
       "5       0.994002        0.703228        0.731784  "
      ]
     },
     "execution_count": 131,
     "metadata": {},
     "output_type": "execute_result"
    }
   ],
   "source": [
    "# filter the numerical features in the dataset\n",
    "df_numeric_features_vif = df_feature.select_dtypes(include=[np.number])\n",
    "\n",
    "# display the first five observations\n",
    "df_numeric_features_vif.head()"
   ]
  },
  {
   "cell_type": "markdown",
   "metadata": {
    "id": "3KD7iQRLCsxp"
   },
   "source": [
    "#### Calculate the VIF for each numeric variable."
   ]
  },
  {
   "cell_type": "code",
   "execution_count": 132,
   "metadata": {
    "id": "9Ru0xvz-Csxq",
    "outputId": "b4ed7c2e-d656-4c0c-d0bf-69f882631984"
   },
   "outputs": [
    {
     "data": {
      "text/html": [
       "<div>\n",
       "<style scoped>\n",
       "    .dataframe tbody tr th:only-of-type {\n",
       "        vertical-align: middle;\n",
       "    }\n",
       "\n",
       "    .dataframe tbody tr th {\n",
       "        vertical-align: top;\n",
       "    }\n",
       "\n",
       "    .dataframe thead th {\n",
       "        text-align: right;\n",
       "    }\n",
       "</style>\n",
       "<table border=\"1\" class=\"dataframe\">\n",
       "  <thead>\n",
       "    <tr style=\"text-align: right;\">\n",
       "      <th></th>\n",
       "      <th>VIF_Factor</th>\n",
       "      <th>Features</th>\n",
       "    </tr>\n",
       "  </thead>\n",
       "  <tbody>\n",
       "    <tr>\n",
       "      <th>0</th>\n",
       "      <td>inf</td>\n",
       "      <td>Salaries</td>\n",
       "    </tr>\n",
       "    <tr>\n",
       "      <th>1</th>\n",
       "      <td>inf</td>\n",
       "      <td>Overtime</td>\n",
       "    </tr>\n",
       "    <tr>\n",
       "      <th>2</th>\n",
       "      <td>inf</td>\n",
       "      <td>Other_Salaries</td>\n",
       "    </tr>\n",
       "    <tr>\n",
       "      <th>3</th>\n",
       "      <td>inf</td>\n",
       "      <td>Total_Salary</td>\n",
       "    </tr>\n",
       "    <tr>\n",
       "      <th>4</th>\n",
       "      <td>inf</td>\n",
       "      <td>Retirement</td>\n",
       "    </tr>\n",
       "    <tr>\n",
       "      <th>5</th>\n",
       "      <td>inf</td>\n",
       "      <td>Health/Dental</td>\n",
       "    </tr>\n",
       "    <tr>\n",
       "      <th>6</th>\n",
       "      <td>inf</td>\n",
       "      <td>Other_Benefits</td>\n",
       "    </tr>\n",
       "    <tr>\n",
       "      <th>7</th>\n",
       "      <td>inf</td>\n",
       "      <td>Total_Benefits</td>\n",
       "    </tr>\n",
       "  </tbody>\n",
       "</table>\n",
       "</div>"
      ],
      "text/plain": [
       "   VIF_Factor        Features\n",
       "0         inf        Salaries\n",
       "1         inf        Overtime\n",
       "2         inf  Other_Salaries\n",
       "3         inf    Total_Salary\n",
       "4         inf      Retirement\n",
       "5         inf   Health/Dental\n",
       "6         inf  Other_Benefits\n",
       "7         inf  Total_Benefits"
      ]
     },
     "execution_count": 132,
     "metadata": {},
     "output_type": "execute_result"
    }
   ],
   "source": [
    "# create an empty dataframe to store the VIF for each variable\n",
    "vif = pd.DataFrame()\n",
    "\n",
    "# calculate VIF using list comprehension \n",
    "# use for loop to access each variable \n",
    "# calculate VIF for each variable and create a column 'VIF_Factor' to store the values \n",
    "vif[\"VIF_Factor\"] = [variance_inflation_factor(df_numeric_features_vif.values, i) for i in range(df_numeric_features_vif.shape[1])]\n",
    "\n",
    "# create a column of variable names\n",
    "vif[\"Features\"] = df_numeric_features_vif.columns\n",
    "\n",
    "# sort the dataframe based on the values of VIF_Factor in descending order\n",
    "# 'ascending = False' sorts the data in descending order\n",
    "# 'reset_index' resets the index of the dataframe\n",
    "# 'drop = True' drops the previous index\n",
    "vif.sort_values('VIF_Factor', ascending = False).reset_index(drop = True)"
   ]
  },
  {
   "cell_type": "markdown",
   "metadata": {
    "id": "wtz0ZuBiCsxq"
   },
   "source": [
    "The output shows that the variable 'Total_Benefits' has the highest VIF. Now, we use the `for loop` to find VIF and remove the variables with VIF greater than 10. We set the threshold to 10, as we wish to remove the variable for which the remaining variables explain more than 90% of the variation. One can choose the threshold  other than 10. (it depends on the business requirements)"
   ]
  },
  {
   "cell_type": "code",
   "execution_count": 133,
   "metadata": {
    "id": "_WaznMiSCsxr",
    "outputId": "c78a7986-a917-4b40-a364-594b367441a3"
   },
   "outputs": [
    {
     "name": "stdout",
     "output_type": "stream",
     "text": [
      "   VIF_Factor        Features\n",
      "0    1.158679        Overtime\n",
      "1    1.257229  Other_Salaries\n",
      "2    5.848646    Total_Salary\n",
      "3    3.177166   Health/Dental\n",
      "4    4.635685  Other_Benefits\n"
     ]
    }
   ],
   "source": [
    "# for each numeric variable, calculate VIF and save it in a dataframe 'vif'\n",
    "\n",
    "# use for loop to iterate the VIF function \n",
    "for ind in range(len(df_numeric_features_vif.columns)):\n",
    "    \n",
    "    # create an empty dataframe\n",
    "    vif = pd.DataFrame()\n",
    "\n",
    "    # calculate VIF using list comprehension\n",
    "    # use for loop to access each variable \n",
    "    # calculate VIF for each variable and create a column 'VIF_Factor' to store the values \n",
    "    vif[\"VIF_Factor\"] = [variance_inflation_factor(df_numeric_features_vif.values, i) for i in range(df_numeric_features_vif.shape[1])]\n",
    "\n",
    "    # create a column of variable names\n",
    "    vif[\"Features\"] = df_numeric_features_vif.columns\n",
    "\n",
    "    # filter the variables with VIF greater than 10 and store it in a dataframe 'multi' \n",
    "    # one can choose the threshold other than 10 (it depends on the business requirements)\n",
    "    multi = vif[vif['VIF_Factor'] > 10]\n",
    "    \n",
    "    # if dataframe 'multi' is not empty, then sort the dataframe by VIF values\n",
    "    # if dataframe 'multi' is empty (i.e. all VIF <= 10), then print the dataframe 'vif' and break the for loop using 'break' \n",
    "    # 'by' sorts the data using given variable(s)\n",
    "    # 'ascending = False' sorts the data in descending order\n",
    "    if(multi.empty == False):\n",
    "        df_sorted = multi.sort_values(by = 'VIF_Factor', ascending = False)\n",
    "    else:\n",
    "        print(vif)\n",
    "        break\n",
    "    \n",
    "    # use if-else to drop the variable with the highest VIF\n",
    "    # if  dataframe 'df_sorted' is not empty, then drop the first entry in the column 'Features' from the numeric variables\n",
    "    # select the variable using 'iloc[]'\n",
    "    # 'axis=1' drops the corresponding column\n",
    "    #  else print the final dataframe 'vif' with all values after removal of variables with VIF less than 10  \n",
    "    if (df_sorted.empty == False):\n",
    "        df_numeric_features_vif = df_numeric_features_vif.drop(df_sorted.Features.iloc[0], axis=1)\n",
    "    else:\n",
    "        print(vif)"
   ]
  },
  {
   "cell_type": "code",
   "execution_count": 134,
   "metadata": {
    "id": "dmOMYlcdCsxs",
    "outputId": "674dc8e7-9c3d-4219-973b-29377fa98ee7",
    "scrolled": true
   },
   "outputs": [
    {
     "data": {
      "text/html": [
       "<div>\n",
       "<style scoped>\n",
       "    .dataframe tbody tr th:only-of-type {\n",
       "        vertical-align: middle;\n",
       "    }\n",
       "\n",
       "    .dataframe tbody tr th {\n",
       "        vertical-align: top;\n",
       "    }\n",
       "\n",
       "    .dataframe thead th {\n",
       "        text-align: right;\n",
       "    }\n",
       "</style>\n",
       "<table border=\"1\" class=\"dataframe\">\n",
       "  <thead>\n",
       "    <tr style=\"text-align: right;\">\n",
       "      <th></th>\n",
       "      <th>Overtime</th>\n",
       "      <th>Other_Salaries</th>\n",
       "      <th>Total_Salary</th>\n",
       "      <th>Health/Dental</th>\n",
       "      <th>Other_Benefits</th>\n",
       "    </tr>\n",
       "  </thead>\n",
       "  <tbody>\n",
       "    <tr>\n",
       "      <th>0</th>\n",
       "      <td>-0.228091</td>\n",
       "      <td>-0.474919</td>\n",
       "      <td>0.926912</td>\n",
       "      <td>0.916565</td>\n",
       "      <td>1.145315</td>\n",
       "    </tr>\n",
       "    <tr>\n",
       "      <th>1</th>\n",
       "      <td>-0.167552</td>\n",
       "      <td>-0.587276</td>\n",
       "      <td>-1.263215</td>\n",
       "      <td>-1.491462</td>\n",
       "      <td>-1.259970</td>\n",
       "    </tr>\n",
       "    <tr>\n",
       "      <th>3</th>\n",
       "      <td>-0.428525</td>\n",
       "      <td>0.095551</td>\n",
       "      <td>-0.168961</td>\n",
       "      <td>-1.579733</td>\n",
       "      <td>-0.037039</td>\n",
       "    </tr>\n",
       "    <tr>\n",
       "      <th>4</th>\n",
       "      <td>-0.428525</td>\n",
       "      <td>-0.587276</td>\n",
       "      <td>-0.300194</td>\n",
       "      <td>-0.399832</td>\n",
       "      <td>-0.256852</td>\n",
       "    </tr>\n",
       "    <tr>\n",
       "      <th>5</th>\n",
       "      <td>-0.428525</td>\n",
       "      <td>0.019113</td>\n",
       "      <td>0.511845</td>\n",
       "      <td>0.994002</td>\n",
       "      <td>0.703228</td>\n",
       "    </tr>\n",
       "  </tbody>\n",
       "</table>\n",
       "</div>"
      ],
      "text/plain": [
       "   Overtime  Other_Salaries  Total_Salary  Health/Dental  Other_Benefits\n",
       "0 -0.228091       -0.474919      0.926912       0.916565        1.145315\n",
       "1 -0.167552       -0.587276     -1.263215      -1.491462       -1.259970\n",
       "3 -0.428525        0.095551     -0.168961      -1.579733       -0.037039\n",
       "4 -0.428525       -0.587276     -0.300194      -0.399832       -0.256852\n",
       "5 -0.428525        0.019113      0.511845       0.994002        0.703228"
      ]
     },
     "execution_count": 134,
     "metadata": {},
     "output_type": "execute_result"
    }
   ],
   "source": [
    "# display the first 5 observations\n",
    "df_numeric_features_vif.head()"
   ]
  },
  {
   "cell_type": "markdown",
   "metadata": {
    "id": "h1rJUEKnCsxs"
   },
   "source": [
    "**Interpretation** Now, we have all the variables with VIF less than 10. So, we can conclude that there is no multicollinearity in the data.<br>\n",
    "We will use the above dataframe \"df_numeric_features_vif\" to build the MLR model with significant variables."
   ]
  },
  {
   "cell_type": "markdown",
   "metadata": {
    "id": "hlzACGFOCsxt"
   },
   "source": [
    "<a id=\"model\"></a>\n",
    "## 5.2 Build the MLR Model"
   ]
  },
  {
   "cell_type": "markdown",
   "metadata": {
    "id": "AbhgWY4dCsxt"
   },
   "source": [
    "<a id=\"full\"></a>\n",
    "### 5.2.1 MLR Full Model"
   ]
  },
  {
   "cell_type": "markdown",
   "metadata": {
    "id": "2YD7RZOwCsxt"
   },
   "source": [
    "We use the OLS technique to predict the Total_Compensation by considering all the independent features in the data. "
   ]
  },
  {
   "cell_type": "markdown",
   "metadata": {
    "id": "-3Np7HAMCsxu"
   },
   "source": [
    "#### Filter numerical and categorical variables"
   ]
  },
  {
   "cell_type": "code",
   "execution_count": 135,
   "metadata": {
    "id": "WKHAI-w3Csxu"
   },
   "outputs": [],
   "source": [
    "# create dataframe of features by dropping the target variable\n",
    "# 'axis = 1' drops the corresponding column(s)\n",
    "df_feature = df_compensation.drop('Total_Compensation', axis = 1)\n",
    "\n",
    "# create dataframe of target variable\n",
    "df_target = df_compensation['Total_Compensation']"
   ]
  },
  {
   "cell_type": "code",
   "execution_count": 136,
   "metadata": {
    "id": "1nNpDoC1Csxv",
    "outputId": "025b23a2-5390-4691-d197-4668ed393801"
   },
   "outputs": [
    {
     "data": {
      "text/plain": [
       "Index(['Salaries', 'Overtime', 'Other_Salaries', 'Total_Salary', 'Retirement',\n",
       "       'Health/Dental', 'Other_Benefits', 'Total_Benefits'],\n",
       "      dtype='object')"
      ]
     },
     "execution_count": 136,
     "metadata": {},
     "output_type": "execute_result"
    }
   ],
   "source": [
    "# filter the numerical features in the dataset\n",
    "# 'select_dtypes' is used to select the variables with given data type\n",
    "# 'include=[np.number]' will include all the numerical variables\n",
    "df_num = df_feature.select_dtypes(include=[np.number])\n",
    "\n",
    "# display numerical features\n",
    "df_num.columns"
   ]
  },
  {
   "cell_type": "code",
   "execution_count": 137,
   "metadata": {
    "id": "ItRHiPd4Csxw",
    "outputId": "328ecfde-af39-4aef-bd36-608f98c05e45"
   },
   "outputs": [
    {
     "data": {
      "text/plain": [
       "Index(['Year_Type', 'Year'], dtype='object')"
      ]
     },
     "execution_count": 137,
     "metadata": {},
     "output_type": "execute_result"
    }
   ],
   "source": [
    "# filter the categorical features in the dataset\n",
    "# 'select_dtypes' is used to select the variables with given data type\n",
    "# 'include=[np.object]' will include all the categorical variables\n",
    "df_cat = df_feature.select_dtypes(include=[np.object])\n",
    "\n",
    "# display categorical features\n",
    "df_cat.columns"
   ]
  },
  {
   "cell_type": "markdown",
   "metadata": {
    "id": "M7qnGJUrCsxw"
   },
   "source": [
    "The OLS method fails in the presence of categorical variables. To overcome this we use (n-1) dummy encoding. \n",
    "\n",
    "**Encode the categorical variable 'medincome' and create (n-1) dummy variables for n categories of 'medincome'.**"
   ]
  },
  {
   "cell_type": "code",
   "execution_count": 138,
   "metadata": {
    "id": "UZegQc0lCsxx"
   },
   "outputs": [],
   "source": [
    "# use 'get_dummies' from pandas to create dummy variables\n",
    "# use 'drop_first' to create (n-1) dummy variables\n",
    "encoded_data = pd.get_dummies(data = df_cat, drop_first=True)"
   ]
  },
  {
   "cell_type": "code",
   "execution_count": 139,
   "metadata": {
    "id": "FE5Fc0_zCsxx",
    "outputId": "8b1997e9-fc76-4b62-8327-2a52f26714dc"
   },
   "outputs": [
    {
     "data": {
      "text/html": [
       "<div>\n",
       "<style scoped>\n",
       "    .dataframe tbody tr th:only-of-type {\n",
       "        vertical-align: middle;\n",
       "    }\n",
       "\n",
       "    .dataframe tbody tr th {\n",
       "        vertical-align: top;\n",
       "    }\n",
       "\n",
       "    .dataframe thead th {\n",
       "        text-align: right;\n",
       "    }\n",
       "</style>\n",
       "<table border=\"1\" class=\"dataframe\">\n",
       "  <thead>\n",
       "    <tr style=\"text-align: right;\">\n",
       "      <th></th>\n",
       "      <th>Year_Type_Fiscal</th>\n",
       "      <th>Year_2014</th>\n",
       "      <th>Year_2015</th>\n",
       "      <th>Year_2016</th>\n",
       "    </tr>\n",
       "  </thead>\n",
       "  <tbody>\n",
       "    <tr>\n",
       "      <th>0</th>\n",
       "      <td>1</td>\n",
       "      <td>0</td>\n",
       "      <td>1</td>\n",
       "      <td>0</td>\n",
       "    </tr>\n",
       "    <tr>\n",
       "      <th>1</th>\n",
       "      <td>0</td>\n",
       "      <td>0</td>\n",
       "      <td>1</td>\n",
       "      <td>0</td>\n",
       "    </tr>\n",
       "    <tr>\n",
       "      <th>3</th>\n",
       "      <td>1</td>\n",
       "      <td>1</td>\n",
       "      <td>0</td>\n",
       "      <td>0</td>\n",
       "    </tr>\n",
       "    <tr>\n",
       "      <th>4</th>\n",
       "      <td>1</td>\n",
       "      <td>0</td>\n",
       "      <td>0</td>\n",
       "      <td>0</td>\n",
       "    </tr>\n",
       "    <tr>\n",
       "      <th>5</th>\n",
       "      <td>0</td>\n",
       "      <td>0</td>\n",
       "      <td>0</td>\n",
       "      <td>0</td>\n",
       "    </tr>\n",
       "  </tbody>\n",
       "</table>\n",
       "</div>"
      ],
      "text/plain": [
       "   Year_Type_Fiscal  Year_2014  Year_2015  Year_2016\n",
       "0                 1          0          1          0\n",
       "1                 0          0          1          0\n",
       "3                 1          1          0          0\n",
       "4                 1          0          0          0\n",
       "5                 0          0          0          0"
      ]
     },
     "execution_count": 139,
     "metadata": {},
     "output_type": "execute_result"
    }
   ],
   "source": [
    "encoded_data.head()"
   ]
  },
  {
   "cell_type": "markdown",
   "metadata": {
    "id": "c-aImjNMCsxx"
   },
   "source": [
    "#### Concatenate numerical and dummy encoded categorical variables."
   ]
  },
  {
   "cell_type": "code",
   "execution_count": 140,
   "metadata": {
    "id": "Z5JjgZYkCsxy",
    "outputId": "1a118571-a676-49cc-dfba-ada9a3e27f42"
   },
   "outputs": [
    {
     "data": {
      "text/html": [
       "<div>\n",
       "<style scoped>\n",
       "    .dataframe tbody tr th:only-of-type {\n",
       "        vertical-align: middle;\n",
       "    }\n",
       "\n",
       "    .dataframe tbody tr th {\n",
       "        vertical-align: top;\n",
       "    }\n",
       "\n",
       "    .dataframe thead th {\n",
       "        text-align: right;\n",
       "    }\n",
       "</style>\n",
       "<table border=\"1\" class=\"dataframe\">\n",
       "  <thead>\n",
       "    <tr style=\"text-align: right;\">\n",
       "      <th></th>\n",
       "      <th>Salaries</th>\n",
       "      <th>Overtime</th>\n",
       "      <th>Other_Salaries</th>\n",
       "      <th>Total_Salary</th>\n",
       "      <th>Retirement</th>\n",
       "      <th>Health/Dental</th>\n",
       "      <th>Other_Benefits</th>\n",
       "      <th>Total_Benefits</th>\n",
       "      <th>Year_Type_Fiscal</th>\n",
       "      <th>Year_2014</th>\n",
       "      <th>Year_2015</th>\n",
       "      <th>Year_2016</th>\n",
       "    </tr>\n",
       "  </thead>\n",
       "  <tbody>\n",
       "    <tr>\n",
       "      <th>0</th>\n",
       "      <td>0.983488</td>\n",
       "      <td>-0.228091</td>\n",
       "      <td>-0.474919</td>\n",
       "      <td>0.926912</td>\n",
       "      <td>1.178494</td>\n",
       "      <td>0.916565</td>\n",
       "      <td>1.145315</td>\n",
       "      <td>1.160922</td>\n",
       "      <td>1</td>\n",
       "      <td>0</td>\n",
       "      <td>1</td>\n",
       "      <td>0</td>\n",
       "    </tr>\n",
       "    <tr>\n",
       "      <th>1</th>\n",
       "      <td>-1.252266</td>\n",
       "      <td>-0.167552</td>\n",
       "      <td>-0.587276</td>\n",
       "      <td>-1.263215</td>\n",
       "      <td>-1.180529</td>\n",
       "      <td>-1.491462</td>\n",
       "      <td>-1.259970</td>\n",
       "      <td>-1.365191</td>\n",
       "      <td>0</td>\n",
       "      <td>0</td>\n",
       "      <td>1</td>\n",
       "      <td>0</td>\n",
       "    </tr>\n",
       "    <tr>\n",
       "      <th>3</th>\n",
       "      <td>-0.164358</td>\n",
       "      <td>-0.428525</td>\n",
       "      <td>0.095551</td>\n",
       "      <td>-0.168961</td>\n",
       "      <td>-0.031662</td>\n",
       "      <td>-1.579733</td>\n",
       "      <td>-0.037039</td>\n",
       "      <td>-0.521484</td>\n",
       "      <td>1</td>\n",
       "      <td>1</td>\n",
       "      <td>0</td>\n",
       "      <td>0</td>\n",
       "    </tr>\n",
       "    <tr>\n",
       "      <th>4</th>\n",
       "      <td>-0.258589</td>\n",
       "      <td>-0.428525</td>\n",
       "      <td>-0.587276</td>\n",
       "      <td>-0.300194</td>\n",
       "      <td>-0.312417</td>\n",
       "      <td>-0.399832</td>\n",
       "      <td>-0.256852</td>\n",
       "      <td>-0.347973</td>\n",
       "      <td>1</td>\n",
       "      <td>0</td>\n",
       "      <td>0</td>\n",
       "      <td>0</td>\n",
       "    </tr>\n",
       "    <tr>\n",
       "      <th>5</th>\n",
       "      <td>0.536538</td>\n",
       "      <td>-0.428525</td>\n",
       "      <td>0.019113</td>\n",
       "      <td>0.511845</td>\n",
       "      <td>0.511937</td>\n",
       "      <td>0.994002</td>\n",
       "      <td>0.703228</td>\n",
       "      <td>0.731784</td>\n",
       "      <td>0</td>\n",
       "      <td>0</td>\n",
       "      <td>0</td>\n",
       "      <td>0</td>\n",
       "    </tr>\n",
       "  </tbody>\n",
       "</table>\n",
       "</div>"
      ],
      "text/plain": [
       "   Salaries  Overtime  Other_Salaries  Total_Salary  Retirement  \\\n",
       "0  0.983488 -0.228091       -0.474919      0.926912    1.178494   \n",
       "1 -1.252266 -0.167552       -0.587276     -1.263215   -1.180529   \n",
       "3 -0.164358 -0.428525        0.095551     -0.168961   -0.031662   \n",
       "4 -0.258589 -0.428525       -0.587276     -0.300194   -0.312417   \n",
       "5  0.536538 -0.428525        0.019113      0.511845    0.511937   \n",
       "\n",
       "   Health/Dental  Other_Benefits  Total_Benefits  Year_Type_Fiscal  Year_2014  \\\n",
       "0       0.916565        1.145315        1.160922                 1          0   \n",
       "1      -1.491462       -1.259970       -1.365191                 0          0   \n",
       "3      -1.579733       -0.037039       -0.521484                 1          1   \n",
       "4      -0.399832       -0.256852       -0.347973                 1          0   \n",
       "5       0.994002        0.703228        0.731784                 0          0   \n",
       "\n",
       "   Year_2015  Year_2016  \n",
       "0          1          0  \n",
       "1          1          0  \n",
       "3          0          0  \n",
       "4          0          0  \n",
       "5          0          0  "
      ]
     },
     "execution_count": 140,
     "metadata": {},
     "output_type": "execute_result"
    }
   ],
   "source": [
    "# concat the dummy variables with numeric features to create a dataframe of all independent variables\n",
    "# 'axis=1' concats the dataframes along columns \n",
    "df_compensation_dummy = pd.concat([df_num, encoded_data], axis=1)\n",
    "\n",
    "# display first five observations\n",
    "df_compensation_dummy.head()"
   ]
  },
  {
   "cell_type": "markdown",
   "metadata": {
    "id": "3Laiyd31Csxy"
   },
   "source": [
    "**Interpretation:** We can see that the dummy variables are added to the data."
   ]
  },
  {
   "cell_type": "markdown",
   "metadata": {
    "id": "TfCN9_RSCsxz"
   },
   "source": [
    "#### Split the data into training and test sets."
   ]
  },
  {
   "cell_type": "code",
   "execution_count": 141,
   "metadata": {
    "id": "Tw9pp92LCsxz",
    "outputId": "879e3892-3fa3-49e1-e3ad-e302b9d98ee3"
   },
   "outputs": [
    {
     "name": "stdout",
     "output_type": "stream",
     "text": [
      "X_train_full (26404, 13)\n",
      "y_train_full (26404,)\n",
      "X_test_full (11317, 13)\n",
      "y_test_full (11317,)\n"
     ]
    }
   ],
   "source": [
    "# set of independent variables\n",
    "# create a copy of 'df_compensation_dummy' and store in the dataframe 'X_full'\n",
    "X_full = df_compensation_dummy.copy()\n",
    "\n",
    "# dependent variable\n",
    "# create a copy of 'df_target' and store in the dataframe 'y_full'\n",
    "y_full = df_target.copy()\n",
    "\n",
    "# to estimate the regression coefficient, a constant term of '1' needs to be added as a separate column\n",
    "# 'sm.add_constant' adds the intercept to the model\n",
    "X_full = sm.add_constant(X_full)\n",
    "\n",
    "# split data into train subset and test subset\n",
    "# set 'random_state' to generate the same dataset each time you run the code \n",
    "# 'test_size' returns the proportion of data to be included in the testing set\n",
    "X_train_full, X_test_full, y_train_full, y_test_full = train_test_split(X_full, y_full, random_state=1, test_size = 0.3)\n",
    "\n",
    "# checking the dimensions of the train & test subset\n",
    "# print dimension of train set\n",
    "print('X_train_full', X_train_full.shape)\n",
    "print('y_train_full', y_train_full.shape)\n",
    "\n",
    "# print dimension of test set\n",
    "print('X_test_full', X_test_full.shape)\n",
    "print('y_test_full', y_test_full.shape)"
   ]
  },
  {
   "cell_type": "markdown",
   "metadata": {
    "id": "RjIUPoOVCsxz"
   },
   "source": [
    "**Build the multiple linear regression model using the OLS method.**"
   ]
  },
  {
   "cell_type": "code",
   "execution_count": 142,
   "metadata": {
    "id": "PCoWGJ_UCsx0",
    "outputId": "4149781e-7bc7-4d41-dba8-f4ba42bc8534",
    "scrolled": false
   },
   "outputs": [
    {
     "name": "stdout",
     "output_type": "stream",
     "text": [
      "                            OLS Regression Results                            \n",
      "==============================================================================\n",
      "Dep. Variable:     Total_Compensation   R-squared:                       1.000\n",
      "Model:                            OLS   Adj. R-squared:                  1.000\n",
      "Method:                 Least Squares   F-statistic:                 2.914e+34\n",
      "Date:                Wed, 30 Aug 2023   Prob (F-statistic):               0.00\n",
      "Time:                        20:13:31   Log-Likelihood:             9.0632e+05\n",
      "No. Observations:               26404   AIC:                        -1.813e+06\n",
      "Df Residuals:                   26393   BIC:                        -1.813e+06\n",
      "Df Model:                          10                                         \n",
      "Covariance Type:            nonrobust                                         \n",
      "====================================================================================\n",
      "                       coef    std err          t      P>|t|      [0.025      0.975]\n",
      "------------------------------------------------------------------------------------\n",
      "const            -3.088e-16   4.08e-18    -75.638      0.000   -3.17e-16   -3.01e-16\n",
      "Salaries             0.3642   3.55e-18   1.03e+17      0.000       0.364       0.364\n",
      "Overtime             0.0120   1.99e-18   6.02e+15      0.000       0.012       0.012\n",
      "Other_Salaries       0.0213   2.03e-18   1.05e+16      0.000       0.021       0.021\n",
      "Total_Salary         0.3577   3.45e-18   1.04e+17      0.000       0.358       0.358\n",
      "Retirement           0.1070   5.35e-18      2e+16      0.000       0.107       0.107\n",
      "Health/Dental        0.0611   3.46e-18   1.76e+16      0.000       0.061       0.061\n",
      "Other_Benefits       0.0379   3.93e-18   9.62e+15      0.000       0.038       0.038\n",
      "Total_Benefits       0.0856   2.45e-18    3.5e+16      0.000       0.086       0.086\n",
      "Year_Type_Fiscal   1.54e-16      4e-18     38.455      0.000    1.46e-16    1.62e-16\n",
      "Year_2014         3.066e-16   5.03e-18     60.999      0.000    2.97e-16    3.16e-16\n",
      "Year_2015         2.619e-16   5.02e-18     52.137      0.000    2.52e-16    2.72e-16\n",
      "Year_2016          3.99e-17   6.26e-18      6.377      0.000    2.76e-17    5.22e-17\n",
      "==============================================================================\n",
      "Omnibus:                     3600.493   Durbin-Watson:                   1.903\n",
      "Prob(Omnibus):                  0.000   Jarque-Bera (JB):             6913.285\n",
      "Skew:                          -0.867   Prob(JB):                         0.00\n",
      "Kurtosis:                       4.810   Cond. No.                     1.83e+16\n",
      "==============================================================================\n",
      "\n",
      "Notes:\n",
      "[1] Standard Errors assume that the covariance matrix of the errors is correctly specified.\n",
      "[2] The smallest eigenvalue is 4.41e-28. This might indicate that there are\n",
      "strong multicollinearity problems or that the design matrix is singular.\n"
     ]
    }
   ],
   "source": [
    "# build a model on training dataset\n",
    "# fit() is used to fit the OLS model\n",
    "MLR_full_model = sm.OLS(y_train_full, X_train_full).fit()\n",
    "\n",
    "# print the summary output\n",
    "print(MLR_full_model.summary())"
   ]
  },
  {
   "cell_type": "markdown",
   "metadata": {
    "id": "-ucfZD5PCsx0"
   },
   "source": [
    "**Interpretation:** The R-squared value obtained from this model is 1.0 which means that the above model explains a 100% of the variation in the Total_Compensation. But, this can't be possible.<br> \n",
    "\n",
    "The `Durbin-Watson` test is used to check the autocorrelation between the residuals.\n",
    "\n",
    "If the Durbin-Watson test statistic is near to 2: no autocorrelation<br>\n",
    "If the Durbin-Watson test statistic is between 0 and 2: positive autocorrelation <br>\n",
    "If the Durbin-Watson test statistic is between 2 and 4: negative autocorrelation\n",
    "\n",
    "The summary output shows that the value of the test statistic is far from 2 (= 2.013) which means there is autocorrelation.\n",
    "\n",
    "The `Jarque-Bera` test is used to check the normality of the residuals. Here, the p-value of the test is less than 0.05; that implies the residuals are not normally distributed.\n",
    "\n",
    "Also, the 'Cond. No' (1.94e+16) represents the `Condition Number (CN)` that is used to check the multicollinearity. \n",
    "\n",
    "If CN < 100: no multicollinearity.<br> \n",
    "If CN is between 100 and 1000: moderate multicollinearity<br>\n",
    "If CN > 1000: severe multicollinearity\n",
    "\n",
    "Thus, it can be seen that there is severe multicollinearity in the data."
   ]
  },
  {
   "cell_type": "markdown",
   "metadata": {
    "id": "Xwe2gUDlCsx1"
   },
   "source": [
    "#### Predict the Total_Compensation using X_test_full"
   ]
  },
  {
   "cell_type": "code",
   "execution_count": 143,
   "metadata": {
    "id": "L90PnhNaCsx1"
   },
   "outputs": [],
   "source": [
    "y_pred_full = MLR_full_model.predict(X_test_full)"
   ]
  },
  {
   "cell_type": "markdown",
   "metadata": {
    "id": "YvyxjmXSCsx1"
   },
   "source": [
    "<a id=\"signi_var\"></a>\n",
    "### 5.2.2 MLR Model after Removing Insignificant Variables"
   ]
  },
  {
   "cell_type": "markdown",
   "metadata": {
    "id": "boWec8u3Csx2"
   },
   "source": [
    "Now, let us build the model using the categorical variable and the variables obtained from VIF. "
   ]
  },
  {
   "cell_type": "markdown",
   "metadata": {
    "id": "1o5vNUgjCsx2"
   },
   "source": [
    "#### Filter numerical and categorical variables"
   ]
  },
  {
   "cell_type": "code",
   "execution_count": 144,
   "metadata": {
    "id": "U4duEV7dCsx2",
    "outputId": "240a4b36-e937-41be-c387-c9b2c7170e57"
   },
   "outputs": [
    {
     "data": {
      "text/plain": [
       "Index(['Overtime', 'Other_Salaries', 'Total_Salary', 'Health/Dental',\n",
       "       'Other_Benefits'],\n",
       "      dtype='object')"
      ]
     },
     "execution_count": 144,
     "metadata": {},
     "output_type": "execute_result"
    }
   ],
   "source": [
    "# display numeric features obtained from VIF\n",
    "df_numeric_features_vif.columns"
   ]
  },
  {
   "cell_type": "code",
   "execution_count": 145,
   "metadata": {
    "id": "O_ZF7Gz7Csx3",
    "outputId": "7391d706-2ff4-47b6-fd33-5158dfc3161f"
   },
   "outputs": [
    {
     "data": {
      "text/plain": [
       "Index(['Year_Type', 'Year'], dtype='object')"
      ]
     },
     "execution_count": 145,
     "metadata": {},
     "output_type": "execute_result"
    }
   ],
   "source": [
    "# filter the categorical features in the dataset\n",
    "# 'select_dtypes' is used to select the variables with given data type\n",
    "# 'include=[np.object]' will include all the categorical variables\n",
    "df_cat = df_feature.select_dtypes(include=[np.object])\n",
    "\n",
    "# display categorical features\n",
    "df_cat.columns"
   ]
  },
  {
   "cell_type": "markdown",
   "metadata": {
    "id": "-3_4kpp3Csx3"
   },
   "source": [
    "The OLS method fails in the presence of categorical variables. To overcome this we use (n-1) dummy encoding. \n",
    "\n",
    "**Encode the categorical variables and create (n-1) dummy variables for n categories.**"
   ]
  },
  {
   "cell_type": "code",
   "execution_count": 146,
   "metadata": {
    "id": "-oniOpexCsx3"
   },
   "outputs": [],
   "source": [
    "# use 'get_dummies' from pandas to create dummy variables\n",
    "# use 'drop_first' to create (n-1) dummy variables\n",
    "encoded_data = pd.get_dummies(data = df_cat, drop_first=True)"
   ]
  },
  {
   "cell_type": "markdown",
   "metadata": {
    "id": "C3QC1keMCsx4"
   },
   "source": [
    "#### Concatenate numerical and dummy encoded categorical variables."
   ]
  },
  {
   "cell_type": "code",
   "execution_count": 147,
   "metadata": {
    "id": "MuHKK8DICsx4",
    "outputId": "5f0a2063-3753-4d55-ae96-bfe72409280e"
   },
   "outputs": [
    {
     "data": {
      "text/html": [
       "<div>\n",
       "<style scoped>\n",
       "    .dataframe tbody tr th:only-of-type {\n",
       "        vertical-align: middle;\n",
       "    }\n",
       "\n",
       "    .dataframe tbody tr th {\n",
       "        vertical-align: top;\n",
       "    }\n",
       "\n",
       "    .dataframe thead th {\n",
       "        text-align: right;\n",
       "    }\n",
       "</style>\n",
       "<table border=\"1\" class=\"dataframe\">\n",
       "  <thead>\n",
       "    <tr style=\"text-align: right;\">\n",
       "      <th></th>\n",
       "      <th>Overtime</th>\n",
       "      <th>Other_Salaries</th>\n",
       "      <th>Total_Salary</th>\n",
       "      <th>Health/Dental</th>\n",
       "      <th>Other_Benefits</th>\n",
       "      <th>Year_Type_Fiscal</th>\n",
       "      <th>Year_2014</th>\n",
       "      <th>Year_2015</th>\n",
       "      <th>Year_2016</th>\n",
       "    </tr>\n",
       "  </thead>\n",
       "  <tbody>\n",
       "    <tr>\n",
       "      <th>0</th>\n",
       "      <td>-0.228091</td>\n",
       "      <td>-0.474919</td>\n",
       "      <td>0.926912</td>\n",
       "      <td>0.916565</td>\n",
       "      <td>1.145315</td>\n",
       "      <td>1</td>\n",
       "      <td>0</td>\n",
       "      <td>1</td>\n",
       "      <td>0</td>\n",
       "    </tr>\n",
       "    <tr>\n",
       "      <th>1</th>\n",
       "      <td>-0.167552</td>\n",
       "      <td>-0.587276</td>\n",
       "      <td>-1.263215</td>\n",
       "      <td>-1.491462</td>\n",
       "      <td>-1.259970</td>\n",
       "      <td>0</td>\n",
       "      <td>0</td>\n",
       "      <td>1</td>\n",
       "      <td>0</td>\n",
       "    </tr>\n",
       "    <tr>\n",
       "      <th>3</th>\n",
       "      <td>-0.428525</td>\n",
       "      <td>0.095551</td>\n",
       "      <td>-0.168961</td>\n",
       "      <td>-1.579733</td>\n",
       "      <td>-0.037039</td>\n",
       "      <td>1</td>\n",
       "      <td>1</td>\n",
       "      <td>0</td>\n",
       "      <td>0</td>\n",
       "    </tr>\n",
       "    <tr>\n",
       "      <th>4</th>\n",
       "      <td>-0.428525</td>\n",
       "      <td>-0.587276</td>\n",
       "      <td>-0.300194</td>\n",
       "      <td>-0.399832</td>\n",
       "      <td>-0.256852</td>\n",
       "      <td>1</td>\n",
       "      <td>0</td>\n",
       "      <td>0</td>\n",
       "      <td>0</td>\n",
       "    </tr>\n",
       "    <tr>\n",
       "      <th>5</th>\n",
       "      <td>-0.428525</td>\n",
       "      <td>0.019113</td>\n",
       "      <td>0.511845</td>\n",
       "      <td>0.994002</td>\n",
       "      <td>0.703228</td>\n",
       "      <td>0</td>\n",
       "      <td>0</td>\n",
       "      <td>0</td>\n",
       "      <td>0</td>\n",
       "    </tr>\n",
       "  </tbody>\n",
       "</table>\n",
       "</div>"
      ],
      "text/plain": [
       "   Overtime  Other_Salaries  Total_Salary  Health/Dental  Other_Benefits  \\\n",
       "0 -0.228091       -0.474919      0.926912       0.916565        1.145315   \n",
       "1 -0.167552       -0.587276     -1.263215      -1.491462       -1.259970   \n",
       "3 -0.428525        0.095551     -0.168961      -1.579733       -0.037039   \n",
       "4 -0.428525       -0.587276     -0.300194      -0.399832       -0.256852   \n",
       "5 -0.428525        0.019113      0.511845       0.994002        0.703228   \n",
       "\n",
       "   Year_Type_Fiscal  Year_2014  Year_2015  Year_2016  \n",
       "0                 1          0          1          0  \n",
       "1                 0          0          1          0  \n",
       "3                 1          1          0          0  \n",
       "4                 1          0          0          0  \n",
       "5                 0          0          0          0  "
      ]
     },
     "execution_count": 147,
     "metadata": {},
     "output_type": "execute_result"
    }
   ],
   "source": [
    "# concat the dummy variables with numeric features to create a dataframe of all independent variables\n",
    "# 'axis=1' concats the dataframes along columns \n",
    "df_compensation_dummy = pd.concat([df_numeric_features_vif, encoded_data], axis=1)\n",
    "\n",
    "# display first five observations\n",
    "df_compensation_dummy.head()"
   ]
  },
  {
   "cell_type": "markdown",
   "metadata": {
    "id": "GRHHzTUUCsx4"
   },
   "source": [
    "**Interpretation:** We can see that the dummy variables are added to the data."
   ]
  },
  {
   "cell_type": "markdown",
   "metadata": {
    "id": "hlG7It7iCsx5"
   },
   "source": [
    "#### Split the data into training and test sets."
   ]
  },
  {
   "cell_type": "code",
   "execution_count": 148,
   "metadata": {
    "id": "b1XsxPpPCsx5",
    "outputId": "01374952-04ed-49a7-ee80-2c245e234b5d"
   },
   "outputs": [
    {
     "name": "stdout",
     "output_type": "stream",
     "text": [
      "X_train_signi_var (26404, 10)\n",
      "y_train_signi_var (26404,)\n",
      "X_test_signi_var (11317, 10)\n",
      "y_test_signi_var (11317,)\n"
     ]
    }
   ],
   "source": [
    "# set of independent variables\n",
    "# create a copy of 'df_compensation_dummy' and store in the dataframe 'X_signi_var'\n",
    "X_signi_var = df_compensation_dummy.copy()\n",
    "\n",
    "# dependent variable\n",
    "# create a copy of 'df_target' and store in the dataframe 'y_signi_var'\n",
    "y_signi_var = df_target.copy()\n",
    "\n",
    "# to estimate the regression coefficient, a constant term of '1' needs to be added as a separate column\n",
    "# 'sm.add_constant' adds the intercept to the model\n",
    "X_signi_var = sm.add_constant(X_signi_var)\n",
    "\n",
    "# split data into train subset and test subset\n",
    "# set 'random_state' to generate the same dataset each time you run the code \n",
    "# 'test_size' returns the proportion of data to be included in the testing set\n",
    "X_train_signi_var, X_test_signi_var, y_train_signi_var, y_test_signi_var = train_test_split(X_signi_var, y_signi_var, \n",
    "                                                                                            random_state=1, test_size = 0.3)\n",
    "\n",
    "# checking the dimensions of the train & test subset\n",
    "# print dimension of train set\n",
    "print('X_train_signi_var', X_train_signi_var.shape)\n",
    "print('y_train_signi_var', y_train_signi_var.shape)\n",
    "\n",
    "# print dimension of test set\n",
    "print('X_test_signi_var', X_test_signi_var.shape)\n",
    "print('y_test_signi_var', y_test_signi_var.shape)"
   ]
  },
  {
   "cell_type": "markdown",
   "metadata": {
    "id": "1sPxJrpsCsx5"
   },
   "source": [
    "**Build the multiple linear regression model using the OLS method.**"
   ]
  },
  {
   "cell_type": "code",
   "execution_count": 149,
   "metadata": {
    "id": "Hi6bzFzdCsx6",
    "outputId": "433fe1ba-a66f-4390-98a0-9d65ec7e3855",
    "scrolled": false
   },
   "outputs": [
    {
     "name": "stdout",
     "output_type": "stream",
     "text": [
      "                            OLS Regression Results                            \n",
      "==============================================================================\n",
      "Dep. Variable:     Total_Compensation   R-squared:                       0.998\n",
      "Model:                            OLS   Adj. R-squared:                  0.998\n",
      "Method:                 Least Squares   F-statistic:                 1.567e+06\n",
      "Date:                Wed, 30 Aug 2023   Prob (F-statistic):               0.00\n",
      "Time:                        20:13:31   Log-Likelihood:                 45594.\n",
      "No. Observations:               26404   AIC:                        -9.117e+04\n",
      "Df Residuals:                   26394   BIC:                        -9.109e+04\n",
      "Df Model:                           9                                         \n",
      "Covariance Type:            nonrobust                                         \n",
      "====================================================================================\n",
      "                       coef    std err          t      P>|t|      [0.025      0.975]\n",
      "------------------------------------------------------------------------------------\n",
      "const               -0.0124      0.001    -21.405      0.000      -0.014      -0.011\n",
      "Overtime          3.248e-05      0.000      0.114      0.909      -0.001       0.001\n",
      "Other_Salaries      -0.0053      0.000    -17.911      0.000      -0.006      -0.005\n",
      "Total_Salary         0.8588      0.001   1344.355      0.000       0.858       0.860\n",
      "Health/Dental        0.1072      0.000    227.525      0.000       0.106       0.108\n",
      "Other_Benefits       0.0604      0.001    106.603      0.000       0.059       0.061\n",
      "Year_Type_Fiscal    -0.0007      0.001     -1.277      0.202      -0.002       0.000\n",
      "Year_2014            0.0227      0.001     32.035      0.000       0.021       0.024\n",
      "Year_2015            0.0237      0.001     33.532      0.000       0.022       0.025\n",
      "Year_2016           -0.0046      0.001     -5.171      0.000      -0.006      -0.003\n",
      "==============================================================================\n",
      "Omnibus:                    17661.096   Durbin-Watson:                   1.997\n",
      "Prob(Omnibus):                  0.000   Jarque-Bera (JB):          1332647.617\n",
      "Skew:                          -2.479   Prob(JB):                         0.00\n",
      "Kurtosis:                      37.449   Cond. No.                         7.18\n",
      "==============================================================================\n",
      "\n",
      "Notes:\n",
      "[1] Standard Errors assume that the covariance matrix of the errors is correctly specified.\n"
     ]
    }
   ],
   "source": [
    "# build a model on training dataset\n",
    "# fit() is used to fit the OLS model\n",
    "MLR_model_vif = sm.OLS(y_train_signi_var, X_train_signi_var).fit()\n",
    "\n",
    "# print the summary output\n",
    "print(MLR_model_vif.summary())"
   ]
  },
  {
   "cell_type": "markdown",
   "metadata": {
    "id": "8nDjVqzhCsx6"
   },
   "source": [
    "**Interpretation:** The R-squared value obtained from this model is 0.963 which means that the above model explains a 96.3% of the variation in the Total_Compensation. Also, we can see that the p-value for some variabels is greater than 0.05, we remove such variables and agan build the model."
   ]
  },
  {
   "cell_type": "markdown",
   "metadata": {
    "id": "96Dcde8fCsx6"
   },
   "source": [
    "Now, calculate the p-values for each variable and create a list of all insignificant variables in the model."
   ]
  },
  {
   "cell_type": "markdown",
   "metadata": {
    "id": "WA0O92g4Csx7"
   },
   "source": [
    "#### Calculate the p-values to know the insignificant variables"
   ]
  },
  {
   "cell_type": "code",
   "execution_count": 150,
   "metadata": {
    "id": "Ou3Bj5cpCsx7",
    "outputId": "29a2fa57-f21d-4856-e7d8-29c90704be9a"
   },
   "outputs": [
    {
     "data": {
      "text/html": [
       "<div>\n",
       "<style scoped>\n",
       "    .dataframe tbody tr th:only-of-type {\n",
       "        vertical-align: middle;\n",
       "    }\n",
       "\n",
       "    .dataframe tbody tr th {\n",
       "        vertical-align: top;\n",
       "    }\n",
       "\n",
       "    .dataframe thead th {\n",
       "        text-align: right;\n",
       "    }\n",
       "</style>\n",
       "<table border=\"1\" class=\"dataframe\">\n",
       "  <thead>\n",
       "    <tr style=\"text-align: right;\">\n",
       "      <th></th>\n",
       "      <th>P-Value</th>\n",
       "    </tr>\n",
       "  </thead>\n",
       "  <tbody>\n",
       "    <tr>\n",
       "      <th>const</th>\n",
       "      <td>0.000000</td>\n",
       "    </tr>\n",
       "    <tr>\n",
       "      <th>Overtime</th>\n",
       "      <td>0.909313</td>\n",
       "    </tr>\n",
       "    <tr>\n",
       "      <th>Other_Salaries</th>\n",
       "      <td>0.000000</td>\n",
       "    </tr>\n",
       "    <tr>\n",
       "      <th>Total_Salary</th>\n",
       "      <td>0.000000</td>\n",
       "    </tr>\n",
       "    <tr>\n",
       "      <th>Health/Dental</th>\n",
       "      <td>0.000000</td>\n",
       "    </tr>\n",
       "    <tr>\n",
       "      <th>Other_Benefits</th>\n",
       "      <td>0.000000</td>\n",
       "    </tr>\n",
       "    <tr>\n",
       "      <th>Year_Type_Fiscal</th>\n",
       "      <td>0.201549</td>\n",
       "    </tr>\n",
       "    <tr>\n",
       "      <th>Year_2014</th>\n",
       "      <td>0.000000</td>\n",
       "    </tr>\n",
       "    <tr>\n",
       "      <th>Year_2015</th>\n",
       "      <td>0.000000</td>\n",
       "    </tr>\n",
       "    <tr>\n",
       "      <th>Year_2016</th>\n",
       "      <td>0.000000</td>\n",
       "    </tr>\n",
       "  </tbody>\n",
       "</table>\n",
       "</div>"
      ],
      "text/plain": [
       "                  P-Value\n",
       "const            0.000000\n",
       "Overtime         0.909313\n",
       "Other_Salaries   0.000000\n",
       "Total_Salary     0.000000\n",
       "Health/Dental    0.000000\n",
       "Other_Benefits   0.000000\n",
       "Year_Type_Fiscal 0.201549\n",
       "Year_2014        0.000000\n",
       "Year_2015        0.000000\n",
       "Year_2016        0.000000"
      ]
     },
     "execution_count": 150,
     "metadata": {},
     "output_type": "execute_result"
    }
   ],
   "source": [
    "# calculate p-values for all the independent variables in the MLR_model\n",
    "# create a dataframe containing p-values \n",
    "# pass the column name to the parameter 'columns'\n",
    "MLR_pvalues = pd.DataFrame(MLR_model_vif.pvalues, columns = [\"P-Value\"])\n",
    "\n",
    "# print the dataframe\n",
    "MLR_pvalues"
   ]
  },
  {
   "cell_type": "markdown",
   "metadata": {
    "id": "J5tDvdrqCsx8"
   },
   "source": [
    "**Interpretation:** The above table shows the p-value of each variable. Use this dataframe to identify the significant variables."
   ]
  },
  {
   "cell_type": "markdown",
   "metadata": {
    "id": "41e2N_-vCsx9"
   },
   "source": [
    "#### Create a list of insignificant variables."
   ]
  },
  {
   "cell_type": "code",
   "execution_count": 151,
   "metadata": {
    "id": "i29db50UCsx9",
    "outputId": "50f02552-0227-421e-f810-d22aea3b5b0e"
   },
   "outputs": [
    {
     "data": {
      "text/plain": [
       "['Overtime', 'Year_Type_Fiscal']"
      ]
     },
     "execution_count": 151,
     "metadata": {},
     "output_type": "execute_result"
    }
   ],
   "source": [
    "# subset the dataframe 'MLR_pvalues' such that the variables will have p-value greater than 0.05\n",
    "# store the subset of a dataframe to a new dataframe 'insignificant_var' \n",
    "insignificant_var = MLR_pvalues[1:][MLR_pvalues[1:]['P-Value'] > 0.05]\n",
    "\n",
    "# get the variable names with p-value greater than 0.05\n",
    "insigni_var = insignificant_var.index\n",
    "\n",
    "# convert the variables to the type 'list' using 'to_list()'\n",
    "insigni_var = insigni_var.to_list()\n",
    "\n",
    "# print the list of insignificant variables\n",
    "insigni_var"
   ]
  },
  {
   "cell_type": "markdown",
   "metadata": {
    "id": "hTJzAHjcCsx-"
   },
   "source": [
    "Now, build a model after removing the insignificant variables from the data."
   ]
  },
  {
   "cell_type": "code",
   "execution_count": 152,
   "metadata": {
    "id": "-2yuZTQECsx-",
    "outputId": "f58f9425-a547-4a64-e539-4f465a8fd2ab",
    "scrolled": false
   },
   "outputs": [
    {
     "name": "stdout",
     "output_type": "stream",
     "text": [
      "                            OLS Regression Results                            \n",
      "==============================================================================\n",
      "Dep. Variable:     Total_Compensation   R-squared:                       0.998\n",
      "Model:                            OLS   Adj. R-squared:                  0.998\n",
      "Method:                 Least Squares   F-statistic:                 2.015e+06\n",
      "Date:                Wed, 30 Aug 2023   Prob (F-statistic):               0.00\n",
      "Time:                        20:13:32   Log-Likelihood:                 45593.\n",
      "No. Observations:               26404   AIC:                        -9.117e+04\n",
      "Df Residuals:                   26396   BIC:                        -9.111e+04\n",
      "Df Model:                           7                                         \n",
      "Covariance Type:            nonrobust                                         \n",
      "==================================================================================\n",
      "                     coef    std err          t      P>|t|      [0.025      0.975]\n",
      "----------------------------------------------------------------------------------\n",
      "const             -0.0128      0.001    -25.332      0.000      -0.014      -0.012\n",
      "Other_Salaries    -0.0053      0.000    -18.386      0.000      -0.006      -0.005\n",
      "Total_Salary       0.8588      0.001   1344.552      0.000       0.858       0.860\n",
      "Health/Dental      0.1072      0.000    232.970      0.000       0.106       0.108\n",
      "Other_Benefits     0.0603      0.001    107.568      0.000       0.059       0.061\n",
      "Year_2014          0.0227      0.001     32.035      0.000       0.021       0.024\n",
      "Year_2015          0.0237      0.001     33.540      0.000       0.022       0.025\n",
      "Year_2016         -0.0050      0.001     -5.894      0.000      -0.007      -0.003\n",
      "==============================================================================\n",
      "Omnibus:                    17671.758   Durbin-Watson:                   1.997\n",
      "Prob(Omnibus):                  0.000   Jarque-Bera (JB):          1334005.488\n",
      "Skew:                          -2.481   Prob(JB):                         0.00\n",
      "Kurtosis:                      37.466   Cond. No.                         7.08\n",
      "==============================================================================\n",
      "\n",
      "Notes:\n",
      "[1] Standard Errors assume that the covariance matrix of the errors is correctly specified.\n"
     ]
    }
   ],
   "source": [
    "# drop the insignificant variables from the dataframe 'X_train_signi_var'\n",
    "# 'axis = 1' drops the corresponding column(s)\n",
    "X_train_signi_var = X_train_signi_var.drop(insigni_var, axis=1)\n",
    "\n",
    "# drop the insignificant variables from the dataframe 'X_test_signi_var'\n",
    "# 'axis = 1' drops the corresponding column(s)\n",
    "X_test_signi_var = X_test_signi_var.drop(insigni_var, axis=1)\n",
    "\n",
    "# building a model on training dataset\n",
    "# fit() is used to fit the OLS model\n",
    "MLR_model_with_significant_var = sm.OLS(y_train_signi_var, X_train_signi_var).fit()\n",
    "\n",
    "# print the summary output\n",
    "print(MLR_model_with_significant_var.summary())"
   ]
  },
  {
   "cell_type": "markdown",
   "metadata": {
    "id": "baPSOY-VCsx_"
   },
   "source": [
    "**Interpretation:** From the above model summary, it can be observed that the p-value for all the variables is less than 0.05. Thus, all the variables are statistically significant. <br>\n",
    "\n",
    "The R-squared value obtained from this model is 0.963 which means that the above model explains 96.3% of the variation in the Total_Compensation.<br>\n",
    "\n",
    "The `Durbin-Watson` test is used to check the autocorrelation between the residuals.\n",
    "\n",
    "If the Durbin-Watson test statistic is near to 2: no autocorrelation<br>\n",
    "If the Durbin-Watson test statistic is between 0 and 2: positive autocorrelation <br>\n",
    "If the Durbin-Watson test statistic is between 2 and 4: negative autocorrelation\n",
    "\n",
    "The summary output shows that the value of the test statistic is close to 2 (= 1.987) which means there is no autocorrelation.\n",
    "\n",
    "The `Jarque-Bera` test is used to check the normality of the residuals. Here, the p-value of the test is less than 0.05; that implies the residuals are not normally distributed.\n",
    "\n",
    "Also, the 'Cond. No' (= 5.40) represents the `Condition Number (CN)` that is used to check the multicollinearity. \n",
    "\n",
    "If CN < 100: no multicollinearity.<br> \n",
    "If CN is between 100 and 1000: moderate multicollinearity<br>\n",
    "If CN > 1000: severe multicollinearity\n",
    "\n",
    "Thus, it can be seen that there is no multicollinearity in the data."
   ]
  },
  {
   "cell_type": "markdown",
   "metadata": {
    "id": "_JUv_sSsCsyA"
   },
   "source": [
    "#### Predict the Total_Compensation using X_test_signi_var"
   ]
  },
  {
   "cell_type": "code",
   "execution_count": 153,
   "metadata": {
    "id": "OZkRyMV7CsyA"
   },
   "outputs": [],
   "source": [
    "y_pred_signi_var = MLR_model_with_significant_var.predict(X_test_signi_var)"
   ]
  },
  {
   "cell_type": "markdown",
   "metadata": {
    "id": "uFYSZbqYCsyB"
   },
   "source": [
    "<a id=\"interaction\"></a>\n",
    "### 5.2.3 MLR Model with Interaction Effect"
   ]
  },
  {
   "cell_type": "markdown",
   "metadata": {
    "id": "of31jp2HCsyB"
   },
   "source": [
    "It occurs when the effect of one variable depends on the other variable. The combined effect of the variables may or may not improve the performance of the model.\n",
    "\n",
    "We consider the combined effect of Other_Salaries and Other_Benefits."
   ]
  },
  {
   "cell_type": "code",
   "execution_count": 154,
   "metadata": {
    "id": "b3ri60K_CsyC",
    "outputId": "b23e3ae0-d296-46ca-fc50-0bc7c5fd744c"
   },
   "outputs": [
    {
     "data": {
      "text/html": [
       "<div>\n",
       "<style scoped>\n",
       "    .dataframe tbody tr th:only-of-type {\n",
       "        vertical-align: middle;\n",
       "    }\n",
       "\n",
       "    .dataframe tbody tr th {\n",
       "        vertical-align: top;\n",
       "    }\n",
       "\n",
       "    .dataframe thead th {\n",
       "        text-align: right;\n",
       "    }\n",
       "</style>\n",
       "<table border=\"1\" class=\"dataframe\">\n",
       "  <thead>\n",
       "    <tr style=\"text-align: right;\">\n",
       "      <th></th>\n",
       "      <th>Other_Salaries</th>\n",
       "      <th>Total_Salary</th>\n",
       "      <th>Health/Dental</th>\n",
       "      <th>Other_Benefits</th>\n",
       "      <th>Year_2014</th>\n",
       "      <th>Year_2015</th>\n",
       "      <th>Year_2016</th>\n",
       "      <th>Other_Salaries*Other_Benefits</th>\n",
       "    </tr>\n",
       "  </thead>\n",
       "  <tbody>\n",
       "    <tr>\n",
       "      <th>0</th>\n",
       "      <td>-0.474919</td>\n",
       "      <td>0.926912</td>\n",
       "      <td>0.916565</td>\n",
       "      <td>1.145315</td>\n",
       "      <td>0</td>\n",
       "      <td>1</td>\n",
       "      <td>0</td>\n",
       "      <td>-0.543932</td>\n",
       "    </tr>\n",
       "    <tr>\n",
       "      <th>1</th>\n",
       "      <td>-0.587276</td>\n",
       "      <td>-1.263215</td>\n",
       "      <td>-1.491462</td>\n",
       "      <td>-1.259970</td>\n",
       "      <td>0</td>\n",
       "      <td>1</td>\n",
       "      <td>0</td>\n",
       "      <td>0.739951</td>\n",
       "    </tr>\n",
       "    <tr>\n",
       "      <th>3</th>\n",
       "      <td>0.095551</td>\n",
       "      <td>-0.168961</td>\n",
       "      <td>-1.579733</td>\n",
       "      <td>-0.037039</td>\n",
       "      <td>1</td>\n",
       "      <td>0</td>\n",
       "      <td>0</td>\n",
       "      <td>-0.003539</td>\n",
       "    </tr>\n",
       "    <tr>\n",
       "      <th>4</th>\n",
       "      <td>-0.587276</td>\n",
       "      <td>-0.300194</td>\n",
       "      <td>-0.399832</td>\n",
       "      <td>-0.256852</td>\n",
       "      <td>0</td>\n",
       "      <td>0</td>\n",
       "      <td>0</td>\n",
       "      <td>0.150843</td>\n",
       "    </tr>\n",
       "    <tr>\n",
       "      <th>5</th>\n",
       "      <td>0.019113</td>\n",
       "      <td>0.511845</td>\n",
       "      <td>0.994002</td>\n",
       "      <td>0.703228</td>\n",
       "      <td>0</td>\n",
       "      <td>0</td>\n",
       "      <td>0</td>\n",
       "      <td>0.013441</td>\n",
       "    </tr>\n",
       "  </tbody>\n",
       "</table>\n",
       "</div>"
      ],
      "text/plain": [
       "   Other_Salaries  Total_Salary  Health/Dental  Other_Benefits  Year_2014  \\\n",
       "0       -0.474919      0.926912       0.916565        1.145315          0   \n",
       "1       -0.587276     -1.263215      -1.491462       -1.259970          0   \n",
       "3        0.095551     -0.168961      -1.579733       -0.037039          1   \n",
       "4       -0.587276     -0.300194      -0.399832       -0.256852          0   \n",
       "5        0.019113      0.511845       0.994002        0.703228          0   \n",
       "\n",
       "   Year_2015  Year_2016  Other_Salaries*Other_Benefits  \n",
       "0          1          0                      -0.543932  \n",
       "1          1          0                       0.739951  \n",
       "3          0          0                      -0.003539  \n",
       "4          0          0                       0.150843  \n",
       "5          0          0                       0.013441  "
      ]
     },
     "execution_count": 154,
     "metadata": {},
     "output_type": "execute_result"
    }
   ],
   "source": [
    "df_interaction = df_compensation_dummy.copy()\n",
    "df_interaction = df_interaction.drop(insigni_var, axis = 1)\n",
    "\n",
    "# add the interaction variable in the original data\n",
    "df_interaction['Other_Salaries*Other_Benefits'] = df_interaction['Other_Salaries']*df_interaction['Other_Benefits'] \n",
    "\n",
    "# print the data with interaction\n",
    "df_interaction.head()"
   ]
  },
  {
   "cell_type": "markdown",
   "metadata": {
    "id": "hBagtPCYCsyC"
   },
   "source": [
    "We build a multiple linear regression model considering all the significant variables and the interaction variable."
   ]
  },
  {
   "cell_type": "markdown",
   "metadata": {
    "id": "J7BbiTqeCsyD"
   },
   "source": [
    "**Split the data into training and test sets.**"
   ]
  },
  {
   "cell_type": "code",
   "execution_count": 155,
   "metadata": {
    "id": "EP6zFXUGCsyD",
    "outputId": "eb3dddd3-b2e4-4531-c85f-52413314b14d"
   },
   "outputs": [
    {
     "name": "stdout",
     "output_type": "stream",
     "text": [
      "X_train_inter (26404, 9)\n",
      "y_train_inter (26404,)\n",
      "X_test_inter (11317, 9)\n",
      "y_test_inter (11317,)\n"
     ]
    }
   ],
   "source": [
    "# set of independent variables\n",
    "# create a copy of 'df_num' and store in the dataframe 'X_inter'\n",
    "X_inter = df_interaction.copy()\n",
    "\n",
    "# dependent variable\n",
    "# create a copy of 'df_target' and store in the dataframe 'y_inter'\n",
    "y_inter = df_target.copy()\n",
    "\n",
    "# to estimate the regression coefficient, a constant term of '1' needs to be added as a separate column\n",
    "# 'sm.add_constant' adds the intercept to the model\n",
    "X_inter = sm.add_constant(X_inter)\n",
    "\n",
    "# split data into train subset and test subset\n",
    "# set 'random_state' to generate the same dataset each time you run the code \n",
    "# 'test_size' returns the proportion of data to be included in the testing set\n",
    "X_train_inter, X_test_inter, y_train_inter, y_test_inter = train_test_split(X_inter, y_inter, random_state=1, test_size = 0.3)\n",
    "\n",
    "# checking the dimensions of the train & test subset\n",
    "# print dimension of train set\n",
    "print('X_train_inter', X_train_inter.shape)\n",
    "print('y_train_inter', y_train_inter.shape)\n",
    "\n",
    "# print dimension of test set\n",
    "print('X_test_inter', X_test_inter.shape)\n",
    "print('y_test_inter', y_test_inter.shape)"
   ]
  },
  {
   "cell_type": "markdown",
   "metadata": {
    "id": "N5UFN0LuCsyE"
   },
   "source": [
    "**Build the model using OLS method.**"
   ]
  },
  {
   "cell_type": "code",
   "execution_count": 156,
   "metadata": {
    "id": "x8mSfBYvCsyE",
    "outputId": "2ef848c1-ed33-48f2-b651-7b4a90c39562"
   },
   "outputs": [
    {
     "name": "stdout",
     "output_type": "stream",
     "text": [
      "                            OLS Regression Results                            \n",
      "==============================================================================\n",
      "Dep. Variable:     Total_Compensation   R-squared:                       0.998\n",
      "Model:                            OLS   Adj. R-squared:                  0.998\n",
      "Method:                 Least Squares   F-statistic:                 1.763e+06\n",
      "Date:                Wed, 30 Aug 2023   Prob (F-statistic):               0.00\n",
      "Time:                        20:13:32   Log-Likelihood:                 45594.\n",
      "No. Observations:               26404   AIC:                        -9.117e+04\n",
      "Df Residuals:                   26395   BIC:                        -9.110e+04\n",
      "Df Model:                           8                                         \n",
      "Covariance Type:            nonrobust                                         \n",
      "=================================================================================================\n",
      "                                    coef    std err          t      P>|t|      [0.025      0.975]\n",
      "-------------------------------------------------------------------------------------------------\n",
      "const                            -0.0129      0.001    -25.302      0.000      -0.014      -0.012\n",
      "Other_Salaries                   -0.0054      0.000    -17.248      0.000      -0.006      -0.005\n",
      "Total_Salary                      0.8589      0.001   1303.832      0.000       0.858       0.860\n",
      "Health/Dental                     0.1073      0.000    228.901      0.000       0.106       0.108\n",
      "Other_Benefits                    0.0602      0.001    102.155      0.000       0.059       0.061\n",
      "Year_2014                         0.0227      0.001     32.031      0.000       0.021       0.024\n",
      "Year_2015                         0.0237      0.001     33.533      0.000       0.022       0.025\n",
      "Year_2016                        -0.0050      0.001     -5.910      0.000      -0.007      -0.003\n",
      "Other_Salaries*Other_Benefits     0.0003      0.000      1.064      0.288      -0.000       0.001\n",
      "==============================================================================\n",
      "Omnibus:                    17687.514   Durbin-Watson:                   1.997\n",
      "Prob(Omnibus):                  0.000   Jarque-Bera (JB):          1338913.871\n",
      "Skew:                          -2.484   Prob(JB):                         0.00\n",
      "Kurtosis:                      37.530   Cond. No.                         7.09\n",
      "==============================================================================\n",
      "\n",
      "Notes:\n",
      "[1] Standard Errors assume that the covariance matrix of the errors is correctly specified.\n"
     ]
    }
   ],
   "source": [
    "# build a model on training dataset\n",
    "# 'sm.add_constant' adds the intercept to the model\n",
    "# fit() is used to fit the OLS model\n",
    "MLR_model_with_interaction = sm.OLS(y_train_inter, X_train_inter).fit()\n",
    "\n",
    "# print the summary output\n",
    "print(MLR_model_with_interaction.summary())"
   ]
  },
  {
   "cell_type": "markdown",
   "metadata": {
    "id": "HXdO18U6CsyE"
   },
   "source": [
    "**Interpretation:** The model with the interaction variable explains a 96.4% variation in the target variable. Thus, adding the interaction effect to the model with significant variabels increased the R-squared from 0.963 to 0.964.\n",
    "\n",
    "The `Durbin-Watson` test is used to check the autocorrelation between the residuals.\n",
    "\n",
    "If the Durbin-Watson test statistic is near to 2: no autocorrelation<br>\n",
    "If the Durbin-Watson test statistic is between 0 and 2: positive autocorrelation <br>\n",
    "If the Durbin-Watson test statistic is between 2 and 4: negative autocorrelation\n",
    "\n",
    "The summary output shows that the value of the test statistic is near to 2 (=1.988) which means there is no autocorrelation.\n",
    "\n",
    "The `Jarque-Bera` test is used to check the normality of the residuals. Here, the p-value of the test is less than 0.05; that implies the residuals are not normally distributed.\n",
    "\n",
    "The 'Cond. No' (5.43) represents the `Condition Number (CN)` which is used to check the multicollinearity. \n",
    "\n",
    "If CN < 100: no multicollinearity<br>\n",
    "If CN is between 100 and 1000: moderate multicollinearity<br>\n",
    "If CN > 1000: severe multicollinearity\n",
    "\n",
    "Thus, it can be seen that there is severe multicollinearity in the data."
   ]
  },
  {
   "cell_type": "markdown",
   "metadata": {
    "id": "Zgk4B6w5CsyF"
   },
   "source": [
    "#### Predict the Total_Compensation using X_test_inter"
   ]
  },
  {
   "cell_type": "code",
   "execution_count": 157,
   "metadata": {
    "id": "VzKsMhp2CsyF"
   },
   "outputs": [],
   "source": [
    "y_pred_inter = MLR_model_with_interaction.predict(X_test_inter)"
   ]
  },
  {
   "cell_type": "markdown",
   "metadata": {
    "id": "Ajfurs04CsyF"
   },
   "source": [
    "<a id=\"assum\"></a>\n",
    "## 5.3 Assumptions After MLR Model"
   ]
  },
  {
   "cell_type": "markdown",
   "metadata": {
    "id": "07RMhYMuCsyG"
   },
   "source": [
    "Now, use the model with significant variabels to check some of the assumptions based on the residuals of linear regression:\n",
    "1. Linear Relationship Between Dependent and Independent Variable\n",
    "2. Autocorrelation\n",
    "3. Heteroscedasticity\n",
    "4. Tests of Normality "
   ]
  },
  {
   "cell_type": "markdown",
   "metadata": {
    "id": "3JO-bAfBCsyG"
   },
   "source": [
    "<a id=\"linear_reln\"></a>\n",
    "### 5.3.1 Linear Relationship between Dependent and Independent Variable"
   ]
  },
  {
   "cell_type": "markdown",
   "metadata": {
    "id": "B_6fxStlCsyH"
   },
   "source": [
    "An assumption of linear regression is that it should be linear in the parameter. To check the linearity we plot a graph of residuals and each independent variable. If the plot shows no specific pattern then we can conclude the presence of linearity."
   ]
  },
  {
   "cell_type": "code",
   "execution_count": 158,
   "metadata": {},
   "outputs": [
    {
     "ename": "NameError",
     "evalue": "name 'X_train_signi_varr' is not defined",
     "output_type": "error",
     "traceback": [
      "\u001b[1;31m---------------------------------------------------------------------------\u001b[0m",
      "\u001b[1;31mNameError\u001b[0m                                 Traceback (most recent call last)",
      "Cell \u001b[1;32mIn[158], line 1\u001b[0m\n\u001b[1;32m----> 1\u001b[0m sns\u001b[38;5;241m.\u001b[39mscatterplot(\u001b[43mX_train_signi_varr\u001b[49m[\u001b[38;5;124m'\u001b[39m\u001b[38;5;124mconst\u001b[39m\u001b[38;5;124m'\u001b[39m], MLR_model_with_significant_var\u001b[38;5;241m.\u001b[39mresid)\n",
      "\u001b[1;31mNameError\u001b[0m: name 'X_train_signi_varr' is not defined"
     ]
    }
   ],
   "source": [
    "sns.scatterplot(X_train_signi_varr['const'], MLR_model_with_significant_var.resid)"
   ]
  },
  {
   "cell_type": "code",
   "execution_count": null,
   "metadata": {},
   "outputs": [],
   "source": [
    "for variable in zip(X_train_signi_var.columns[1:5]):\n",
    "    sns.scatterplot(X_train_signi_var[variable], MLR_model_with_significant_var.resid)"
   ]
  },
  {
   "cell_type": "code",
   "execution_count": null,
   "metadata": {
    "id": "VLs_VXvMCsyH",
    "outputId": "aef9ac01-ce81-4aa7-e881-21cc600188bc",
    "scrolled": false
   },
   "outputs": [],
   "source": [
    "# create subplots of scatter plots\n",
    "# pass the number of rows in a subplot to 'nrows'\n",
    "# pass the number of columns in a subplot to 'ncolumns'\n",
    "# set plot size using 'figsize'\n",
    "fig, ax = plt.subplots(nrows = 2, ncols= 2, figsize=(20, 15))\n",
    "\n",
    "# use for loop to create scatter plot for residuals and each independent variable (do not consider the intercept)\n",
    "# 'ax' assigns axes object to draw the plot onto \n",
    "\n",
    "for variable, subplot in zip(X_train_signi_var.columns[1:5], ax.flatten()):\n",
    "    sns.scatterplot(X_train_signi_var[variable], MLR_model_with_significant_var.resid , ax=subplot)\n",
    "\n",
    "# display the plot\n",
    "plt.show()"
   ]
  },
  {
   "cell_type": "markdown",
   "metadata": {
    "id": "SHCuERJWCsyI"
   },
   "source": [
    "**Interpretation:** The above plots show no specific pattern, implies that there is a linearity present in the data."
   ]
  },
  {
   "cell_type": "markdown",
   "metadata": {
    "id": "hHmaPYxFCsyJ"
   },
   "source": [
    "<a id=\"auto\"></a>\n",
    "### 5.3.2 Autocorrelation"
   ]
  },
  {
   "cell_type": "markdown",
   "metadata": {
    "id": "T875bcDCCsyJ"
   },
   "source": [
    "We can check the correlation between the residuals using the `Durbin-Watson` test. The value of the test statistic ranges from 0 to 4. The test statistic value near to 2, represents no autocorrelation. The value of the test statistic between 0 and 2 implies positive autocorrelation and the value between 2 and 4 implies negative autocorrelation.\n",
    "\n",
    "Print the summary of the model with significant variables to check the autocorrelation."
   ]
  },
  {
   "cell_type": "code",
   "execution_count": null,
   "metadata": {
    "id": "MtGfGG9rCsyK",
    "outputId": "7084a61d-0f54-4e50-b428-fe985c30c9aa"
   },
   "outputs": [],
   "source": [
    "# print the model summary\n",
    "print(MLR_model_with_significant_var.summary())"
   ]
  },
  {
   "cell_type": "markdown",
   "metadata": {
    "id": "rF0Qobb7CsyK"
   },
   "source": [
    "**Interpretation:** From the above summary, we can observe that the value obtained from the `Durbin-Watson` test statistic is close to 2 (= 1.987). Thus, we conclude that there is no autocorrelation."
   ]
  },
  {
   "cell_type": "markdown",
   "metadata": {
    "id": "IgAGu2TeCsyK"
   },
   "source": [
    "<a id=\"sked\"></a>\n",
    "### 5.3.3 Heteroskedasticity"
   ]
  },
  {
   "cell_type": "markdown",
   "metadata": {
    "id": "rtPu-HFZCsyL"
   },
   "source": [
    "If the residuals have constant variance across different values of the predicted values, then it is known as `Homoskedasticity`. The absence of homoskedasticity is known as, heteroskedasticity. One of the assumptions of linear regression is that heteroskedasticity should not be present. Let us study two different tests to check the presence of  heteroskedasticity."
   ]
  },
  {
   "cell_type": "markdown",
   "metadata": {
    "id": "-kQj1iZfCsyL"
   },
   "source": [
    "Breusch-Pagan is one of the tests for detecting heteroskedasticity in the residuals.<br>\n",
    "The test hypothesis for the Breusch-Pagan test is given as:\n",
    "<p style='text-indent:25em'> <strong> H<sub>o</sub>:  There is homoscedasticity present in the data </strong> </p>\n",
    "<p style='text-indent:25em'> <strong> H<sub>1</sub>:  There is a heteroscedasticity present in the data </strong> </p>"
   ]
  },
  {
   "cell_type": "code",
   "execution_count": 159,
   "metadata": {
    "id": "-7dKXG9OCsyL",
    "outputId": "5d5595ed-59c1-4d05-ce06-65b8e3ffdf26"
   },
   "outputs": [
    {
     "data": {
      "text/plain": [
       "[('f-value', 182.01423084037376), ('p-value', 1.7462667234924991e-264)]"
      ]
     },
     "execution_count": 159,
     "metadata": {},
     "output_type": "execute_result"
    }
   ],
   "source": [
    "# create vector of result parmeters\n",
    "name = ['f-value','p-value']\n",
    "\n",
    "# perform Breusch-Pagan test using residuals and independent variables\n",
    "# compute residuals using 'resid'\n",
    "# 'exog' returns the independent variables in the model alng with the intercept\n",
    "test = sms.het_breuschpagan(MLR_model_with_significant_var.resid, MLR_model_with_significant_var.model.exog)\n",
    "\n",
    "# print the output\n",
    "# use 'lzip' to zip the column names and test results\n",
    "# use 'test[2:]' to retrieve the F-statistic and its corresponding p-value \n",
    "lzip(name, test[2:])"
   ]
  },
  {
   "cell_type": "code",
   "execution_count": 160,
   "metadata": {},
   "outputs": [
    {
     "data": {
      "text/plain": [
       "(1215.8006918939493,\n",
       " 2.7041186860646216e-258,\n",
       " 182.01423084037376,\n",
       " 1.7462667234924991e-264)"
      ]
     },
     "execution_count": 160,
     "metadata": {},
     "output_type": "execute_result"
    }
   ],
   "source": [
    "test"
   ]
  },
  {
   "cell_type": "markdown",
   "metadata": {
    "id": "sn6SaejGCsyL"
   },
   "source": [
    "**Interpretation:** We observe that the p-value is less than 0.05; thus, we conclude that there is heteroskedasticity present in the data."
   ]
  },
  {
   "cell_type": "markdown",
   "metadata": {
    "id": "lpbwZPCtCsyM"
   },
   "source": [
    "<a id=\"normality\"></a>\n",
    "### 5.3.4 Tests for Normality"
   ]
  },
  {
   "cell_type": "markdown",
   "metadata": {
    "id": "_t8tyjv_CsyM"
   },
   "source": [
    "As per the assumptions of linear regression, residuals should be normally distributed. If the target variable is normally distributed then the residuals are also normally distributed, thus we check the normality only for the target variable."
   ]
  },
  {
   "cell_type": "markdown",
   "metadata": {
    "id": "2dY0FpJVCsyM"
   },
   "source": [
    "<a id=\"qq\"></a>\n",
    "#### 1. Q-Q Plot"
   ]
  },
  {
   "cell_type": "markdown",
   "metadata": {
    "id": "jVpsRh9qCsyM"
   },
   "source": [
    "Q-Q plot is s visualization technique to check the normality of the residuals. It plots the quantiles of observed data versus the quantiles of the standard normal distribution."
   ]
  },
  {
   "cell_type": "code",
   "execution_count": 163,
   "metadata": {
    "id": "kSdr2qSoCsyN",
    "outputId": "10ee8d6e-3c78-4631-8bbb-011c83b6d9bd",
    "scrolled": false
   },
   "outputs": [
    {
     "data": {
      "image/png": "[encoded data removed]",
      "text/plain": [
       "<Figure size 1500x800 with 1 Axes>"
      ]
     },
     "metadata": {},
     "output_type": "display_data"
    }
   ],
   "source": [
    "# set the plot size using 'rcParams'\n",
    "# once the plot size is set using 'rcParams', it sets the size of all the forthcoming plots in the file\n",
    "# pass width and height in inches to 'figure.figsize' \n",
    "plt.rcParams['figure.figsize'] = [15,8]\n",
    "\n",
    "# plot the Q-Q plot\n",
    "# 'r' represents the regression line\n",
    "qqplot(MLR_model_with_significant_var.resid, line = 'r')\n",
    "\n",
    "# set plot and axes labels\n",
    "# set text size using 'fontsize'\n",
    "plt.title('Q-Q Plot', fontsize = 15)\n",
    "plt.xlabel('Theoretical Quantiles', fontsize = 15)\n",
    "plt.ylabel('Sample Quantiles', fontsize = 15)\n",
    "\n",
    "# display the plot\n",
    "plt.show()"
   ]
  },
  {
   "cell_type": "markdown",
   "metadata": {
    "id": "w0qSSMv-CsyN"
   },
   "source": [
    "**Interpretation:** The diagonal line (red line) is the regression line and the blue points are the cumulative distribution of the residuals. As some of the points are close to the diagonal line, we conclude that the residuals do not follow a `normal distribution`."
   ]
  },
  {
   "cell_type": "markdown",
   "metadata": {
    "id": "FQIP6120CsyN"
   },
   "source": [
    "<a id=\"SWT\"></a>\n",
    "#### 2. Shapiro Wilk Test"
   ]
  },
  {
   "cell_type": "markdown",
   "metadata": {
    "id": "9HXRAHQSCsyO"
   },
   "source": [
    "The Shapiro Wilk test is used to check the normality of the residuals. The test hypothesis is given as:<br>\n",
    "\n",
    "<p style='text-indent:25em'> <strong> H<sub>o</sub>:  Residuals are normally distributed </strong> </p>\n",
    "<p style='text-indent:25em'> <strong> H<sub>1</sub>:  Residuals are not normally distributed </strong> </p>"
   ]
  },
  {
   "cell_type": "code",
   "execution_count": null,
   "metadata": {
    "id": "vdDIVXjxCsyO",
    "outputId": "a7a337b0-ba4d-406a-a84c-c6e509c80b06"
   },
   "outputs": [],
   "source": [
    "# perform Shapiro Wilk test using 'shapiro()' from scipy library\n",
    "# shapiro() returns a tuple having the values of test statistics and the corresponding p-value\n",
    "# 'resid' returns the residuals in the model\n",
    "# pass the residuals to 'shapiro()'\n",
    "stat, p_value = shapiro(MLR_model_with_significant_var.resid)\n",
    "\n",
    "# print the test statistic and corresponding p-value \n",
    "print('Test statistic:', stat)\n",
    "print('P-Value:', p_value)"
   ]
  },
  {
   "cell_type": "markdown",
   "metadata": {
    "id": "w6iwfE34CsyO"
   },
   "source": [
    "**Interpretation:** From the above test we can see that the p-value is 0.0 (less than 0.05), thus we can say that the residuals are not normally distributed."
   ]
  },
  {
   "cell_type": "markdown",
   "metadata": {
    "id": "jlvrbWdLCsyO"
   },
   "source": [
    "<a id=\"eval\"></a>\n",
    "# 6. Model Evaluation"
   ]
  },
  {
   "cell_type": "markdown",
   "metadata": {
    "id": "XVWyFNnBCsyP"
   },
   "source": [
    "In this section, we evaluate the model containing significant variables. \n",
    "\n",
    "Let us print the summary of the multiple regression model."
   ]
  },
  {
   "cell_type": "code",
   "execution_count": 164,
   "metadata": {
    "id": "3yKi41SKCsyP",
    "outputId": "037e95f4-bd96-4794-9e4d-8ffa7782adae"
   },
   "outputs": [
    {
     "name": "stdout",
     "output_type": "stream",
     "text": [
      "                            OLS Regression Results                            \n",
      "==============================================================================\n",
      "Dep. Variable:     Total_Compensation   R-squared:                       0.998\n",
      "Model:                            OLS   Adj. R-squared:                  0.998\n",
      "Method:                 Least Squares   F-statistic:                 2.015e+06\n",
      "Date:                Wed, 30 Aug 2023   Prob (F-statistic):               0.00\n",
      "Time:                        21:13:38   Log-Likelihood:                 45593.\n",
      "No. Observations:               26404   AIC:                        -9.117e+04\n",
      "Df Residuals:                   26396   BIC:                        -9.111e+04\n",
      "Df Model:                           7                                         \n",
      "Covariance Type:            nonrobust                                         \n",
      "==================================================================================\n",
      "                     coef    std err          t      P>|t|      [0.025      0.975]\n",
      "----------------------------------------------------------------------------------\n",
      "const             -0.0128      0.001    -25.332      0.000      -0.014      -0.012\n",
      "Other_Salaries    -0.0053      0.000    -18.386      0.000      -0.006      -0.005\n",
      "Total_Salary       0.8588      0.001   1344.552      0.000       0.858       0.860\n",
      "Health/Dental      0.1072      0.000    232.970      0.000       0.106       0.108\n",
      "Other_Benefits     0.0603      0.001    107.568      0.000       0.059       0.061\n",
      "Year_2014          0.0227      0.001     32.035      0.000       0.021       0.024\n",
      "Year_2015          0.0237      0.001     33.540      0.000       0.022       0.025\n",
      "Year_2016         -0.0050      0.001     -5.894      0.000      -0.007      -0.003\n",
      "==============================================================================\n",
      "Omnibus:                    17671.758   Durbin-Watson:                   1.997\n",
      "Prob(Omnibus):                  0.000   Jarque-Bera (JB):          1334005.488\n",
      "Skew:                          -2.481   Prob(JB):                         0.00\n",
      "Kurtosis:                      37.466   Cond. No.                         7.08\n",
      "==============================================================================\n",
      "\n",
      "Notes:\n",
      "[1] Standard Errors assume that the covariance matrix of the errors is correctly specified.\n"
     ]
    }
   ],
   "source": [
    "# print the model summary\n",
    "print(MLR_model_with_significant_var.summary())"
   ]
  },
  {
   "cell_type": "markdown",
   "metadata": {
    "id": "Wt8xY8KWCsyP"
   },
   "source": [
    "<a id=\"R_squared\"></a>\n",
    "## 6.1 R-Squared"
   ]
  },
  {
   "cell_type": "markdown",
   "metadata": {
    "id": "XATUP_KRCsyP"
   },
   "source": [
    "The coefficient of determination explains the percentage of variation in the dependent variable that the independent variables explain collectively."
   ]
  },
  {
   "cell_type": "code",
   "execution_count": 165,
   "metadata": {
    "id": "zG-ZdFVoCsyQ",
    "outputId": "ca54d42f-fab0-417e-daad-55ba089c75e9"
   },
   "outputs": [
    {
     "data": {
      "text/plain": [
       "0.9981317295862211"
      ]
     },
     "execution_count": 165,
     "metadata": {},
     "output_type": "execute_result"
    }
   ],
   "source": [
    "# calculate R-Squared on train dataset\n",
    "# use 'rsquared' from statsmodel\n",
    "r_sq_mlr = MLR_model_with_significant_var.rsquared\n",
    "\n",
    "# print the value\n",
    "r_sq_mlr"
   ]
  },
  {
   "cell_type": "markdown",
   "metadata": {
    "id": "XVY29ysvCsyQ"
   },
   "source": [
    "**Interpretation:** The value of R-squared is 0.963. Thus, we conclude that the 96.3% variation in the Total_Compensation is explained by the model. We can also obtain this value from the summary of the model."
   ]
  },
  {
   "cell_type": "markdown",
   "metadata": {
    "id": "OiaPxedjCsyQ"
   },
   "source": [
    "<a id=\"Adj_R_test\"></a>\n",
    "## 6.2 Adjusted R-Squared"
   ]
  },
  {
   "cell_type": "markdown",
   "metadata": {
    "id": "b6ZpVzofCsyR"
   },
   "source": [
    "It explains the percentage of variation by the independent variables that affect the target variable. The value of adjusted R-squared is always less than R-squared. "
   ]
  },
  {
   "cell_type": "code",
   "execution_count": null,
   "metadata": {
    "id": "_INNXcuJCsyR",
    "outputId": "2148b756-1297-41a8-e4ff-2dd6f510af1c"
   },
   "outputs": [],
   "source": [
    "# calculate adjusted R-Squared on train dataset\n",
    "# use 'rsquared_adj' from statsmodel\n",
    "adj_r_sq = MLR_model_with_significant_var.rsquared_adj\n",
    "\n",
    "# print the value\n",
    "adj_r_sq"
   ]
  },
  {
   "cell_type": "markdown",
   "metadata": {
    "id": "FFiwAYZXCsyR"
   },
   "source": [
    "Now, we can also calculate the adjusted R-Squared value using the formula **1 - (((1 - R-Squared) * (n - 1)) / (n - k - 1))**.\n",
    "\n",
    "Where,<br>k: Number of beta coefficients <br>\n",
    "n: Total number of observations"
   ]
  },
  {
   "cell_type": "code",
   "execution_count": null,
   "metadata": {
    "id": "Uail2Ud5CsyR",
    "outputId": "5b93b11c-3faf-4a4a-9579-630234216a4b"
   },
   "outputs": [],
   "source": [
    "# calculate adjusted R-Squared on train dataset using the formula\n",
    "# 'n' denotes total number of observations\n",
    "n = len(X_train_signi_var)\n",
    "\n",
    "# 'k' denotes number of predictors (including the intercept)\n",
    "k = len(X_train_signi_var.columns)\n",
    "\n",
    "# calculate adjusted R-squared\n",
    "# 'r_sq_mlr' represents the R-Squared value\n",
    "adj_r_sq = 1 - (((1 - r_sq_mlr) * (n - 1)) / (n - k - 1))\n",
    "\n",
    "# print the value\n",
    "adj_r_sq"
   ]
  },
  {
   "cell_type": "markdown",
   "metadata": {
    "id": "Gx_eB-tzCsyS"
   },
   "source": [
    "**Interpretation:** We can see that the value of adjusted R-squared calculated using the formula and the one obtained from the model are nearly same. We can also obtain this value from the summary of the model."
   ]
  },
  {
   "cell_type": "markdown",
   "metadata": {
    "id": "tMiqpFcKCsyS"
   },
   "source": [
    "<a id=\"overall\"></a>\n",
    "## 6.3 Overall F-Test & p-value of the Model"
   ]
  },
  {
   "cell_type": "markdown",
   "metadata": {
    "id": "V0h_XELUCsyS"
   },
   "source": [
    "F-test is used to checking whether the overall regression model is statistically significant or not. The F-statistic is given as:\n",
    "\n",
    "<p style = 'text-indent:25em'> <strong> f_value = (R-squared / (k-1)) / ((1- R-squared) / n - k) </strong>  </p>\n",
    "\n",
    "Where, \n",
    "\n",
    "k: Number of beta coefficients <br>\n",
    "n: Total number of observations\n",
    "\n",
    "The test hypothesis for F-test is given as:\n",
    "<p style='text-indent:25em'> <strong> H<sub>o</sub>: All β's are equal to zero </strong> (i.e. regression model is not significant) </p>\n",
    "<p style='text-indent:25em'> <strong> H<sub>1</sub>: At least one β is not equal to zero </strong> (i.e. regression model is significant) </p>\n"
   ]
  },
  {
   "cell_type": "code",
   "execution_count": 166,
   "metadata": {
    "id": "XrNwIV5RCsyT",
    "outputId": "efb218dd-12d2-49a7-bddb-eebd47f73d0a"
   },
   "outputs": [
    {
     "data": {
      "text/plain": [
       "2014597.1023592802"
      ]
     },
     "execution_count": 166,
     "metadata": {},
     "output_type": "execute_result"
    }
   ],
   "source": [
    "# compute f_value using the below formula \n",
    "# f_value = (r_sq / k-1)/((1- r_sq)/n-k)\n",
    "\n",
    "# k = number of beta coefficients\n",
    "k = len(X_train_signi_var.columns)\n",
    "\n",
    "# n = number of observations\n",
    "n = len(X_train_signi_var)\n",
    "\n",
    "# calculate value of F-statistic\n",
    "# 'r_sq_mlr' represents the R-Squared value\n",
    "f_value = (r_sq_mlr / (k - 1))/((1-r_sq_mlr)/(n - k))\n",
    "\n",
    "# print the value\n",
    "f_value"
   ]
  },
  {
   "cell_type": "markdown",
   "metadata": {
    "id": "iMd-ccyjCsyT"
   },
   "source": [
    "We can also obtain this value from the summary of the model.\n",
    "\n",
    "Now, calculate the corresponding p-value for F-statistic. "
   ]
  },
  {
   "cell_type": "code",
   "execution_count": null,
   "metadata": {
    "id": "FUz5GXjZCsyT",
    "outputId": "a2bc4df8-2d47-42c3-c13c-8cfcc808c529",
    "scrolled": false
   },
   "outputs": [],
   "source": [
    "# calculate p-value for F-statistic\n",
    "# use 'sf' (Survival function) from f-distribution to calculate the corresponding p-value\n",
    "\n",
    "# degrees of freedom \n",
    "# dfn = k-1 = 6-1 = 5\n",
    "# dfd = n-k = 26404-5 = 26399\n",
    "p_val = stats.f.sf(f_value, dfn = 5, dfd = 26399)\n",
    "\n",
    "# print the value\n",
    "p_val"
   ]
  },
  {
   "cell_type": "markdown",
   "metadata": {
    "id": "vT4pC6xyCsyU"
   },
   "source": [
    "**Interpretation:** As, the p-value is less than 0.05, we accept the alternate hypothesis; i.e. the model is significant."
   ]
  },
  {
   "cell_type": "markdown",
   "metadata": {
    "id": "SoJrqW0qCsyU"
   },
   "source": [
    "<a id=\"ml_perf\"></a>\n",
    "# 7. Model Performance"
   ]
  },
  {
   "cell_type": "markdown",
   "metadata": {
    "id": "3g5_Bm8hCsyU"
   },
   "source": [
    "#### Let us do some predictions using the train and test dataset."
   ]
  },
  {
   "cell_type": "code",
   "execution_count": null,
   "metadata": {
    "id": "VWHQmm1qCsyU"
   },
   "outputs": [],
   "source": [
    "# For training set:\n",
    "# train_pred: prediction made by the model on the training dataset 'X_train_signi_var'\n",
    "# y_train_signi_var: actual values of the target variable for the train dataset\n",
    "\n",
    "# For testing set:\n",
    "# test_pred: prediction made by the model on the test dataset 'X_test_signi_var'\n",
    "# y_test_signi_var: actual values of the target variable for the test dataset\n",
    "\n",
    "# predict the output of the target variable from the train data \n",
    "# train_pred can also be obtained from \"MLR_model_with_significant_var.fittedvalues\"\n",
    "train_pred = MLR_model_with_significant_var.predict(X_train_signi_var)\n",
    "\n",
    "# predict the output of the target variable from the test data\n",
    "test_pred = MLR_model_with_significant_var.predict(X_test_signi_var)"
   ]
  },
  {
   "cell_type": "markdown",
   "metadata": {
    "id": "6i2w6u6FCsyV"
   },
   "source": [
    "<a id=\"mse\"></a>\n",
    "## 7.1 Mean Squared Error (MSE)"
   ]
  },
  {
   "cell_type": "markdown",
   "metadata": {
    "id": "ITy-z0wlCsyV"
   },
   "source": [
    "It is defined as the average squared difference between the actual and predicted values."
   ]
  },
  {
   "cell_type": "code",
   "execution_count": null,
   "metadata": {
    "id": "UhIHsadnCsyV",
    "outputId": "5bdcbdcd-48d9-4e5b-fbc4-e62ee16130cf"
   },
   "outputs": [],
   "source": [
    "# calculate the MSE using the \"mean_squared_error\" function\n",
    "\n",
    "# calculate the MSE for the train data\n",
    "# round the value upto 4 digits using 'round()'\n",
    "mse_train = round(mean_squared_error(y_train_signi_var, train_pred),4)\n",
    "\n",
    "# print the MSE for the training set\n",
    "print(\"Mean Squared Error (MSE) on training set: \", mse_train)\n",
    "\n",
    "# calculate the MSE for the test data\n",
    "# round the value upto 4 digits using 'round()'\n",
    "mse_test = round(mean_squared_error(y_test_signi_var, test_pred),4)\n",
    "\n",
    "# print the MSE for the test set\n",
    "print(\"Mean Squared Error (MSE) on test set: \", mse_test)"
   ]
  },
  {
   "cell_type": "markdown",
   "metadata": {
    "id": "GyWL5WdVCsyV"
   },
   "source": [
    "<a id=\"rmse\"></a>\n",
    "## 7.2 Root Mean Squared Error (RMSE)"
   ]
  },
  {
   "cell_type": "markdown",
   "metadata": {
    "id": "N5PiPFtlCsyW"
   },
   "source": [
    "It is defined as the square root of MSE. Lower the value of RMSE, better is the fit of the regression line."
   ]
  },
  {
   "cell_type": "code",
   "execution_count": null,
   "metadata": {
    "id": "Pkf3JncLCsyW",
    "outputId": "8210fd0f-ae84-4f3f-d1bd-5ee26d5fe23e"
   },
   "outputs": [],
   "source": [
    "# calculate the MSE using the \"mean_squared_error\" function\n",
    "\n",
    "# MSE for the train data\n",
    "mse_train = mean_squared_error(y_train_signi_var, train_pred)\n",
    "\n",
    "# take the square root of the MSE to calculate the RMSE\n",
    "# round the value upto 4 digits using 'round()'\n",
    "rmse_train = round(np.sqrt(mse_train), 4)\n",
    "\n",
    "# print the RMSE for the train set\n",
    "print(\"Root Mean Squared Error (RMSE) on training set: \", rmse_train)\n",
    "\n",
    "# MSE for the test data\n",
    "mse_test = mean_squared_error(y_test_signi_var, test_pred)\n",
    "\n",
    "# take the square root of the MSE to calculate the RMSE\n",
    "# round the value upto 4 digits using 'round()'\n",
    "rmse_test = round(np.sqrt(mse_test), 4)\n",
    "\n",
    "# print the RMSE for the test set\n",
    "print(\"Root Mean Squared Error (RMSE) on test set: \", rmse_test)"
   ]
  },
  {
   "cell_type": "markdown",
   "metadata": {
    "id": "frrrghkUCsyW"
   },
   "source": [
    "<a id=\"mae\"></a>\n",
    "## 7.3 Mean Absolute Error (MAE)"
   ]
  },
  {
   "cell_type": "markdown",
   "metadata": {
    "id": "I_dIecP_CsyX"
   },
   "source": [
    "It is defined as the average of the absolute difference between the actual and predicted values."
   ]
  },
  {
   "cell_type": "code",
   "execution_count": null,
   "metadata": {
    "id": "Sd-GMJXPCsyX",
    "outputId": "86c0f21e-bf0b-4b3b-ad2d-2be83c3f13cf"
   },
   "outputs": [],
   "source": [
    "# calculate the MAE using the \"mean_absolute_error\" function\n",
    "\n",
    "# calculate the MAE for the train data\n",
    "# round the value upto 4 digits using 'round()'\n",
    "mae_train = round(mean_absolute_error(y_train_signi_var, train_pred),4)\n",
    "\n",
    "# print the MAE for the training set\n",
    "print(\"Mean Absolute Error (MAE) on training set: \", mae_train)\n",
    "\n",
    "# calculate the MAE for the test data\n",
    "# round the value upto 4 digits using 'round()'\n",
    "mae_test = round(mean_absolute_error(y_test_signi_var, test_pred),4)\n",
    "\n",
    "# print the MAE for the test set\n",
    "print(\"Mean Absolute Error (MAE) on test set: \", mae_test)"
   ]
  },
  {
   "cell_type": "markdown",
   "metadata": {
    "id": "BzONeEmYCsyX"
   },
   "source": [
    "<a id=\"mape\"></a>\n",
    "## 7.4 Mean Absolute Percentage Error (MAPE)"
   ]
  },
  {
   "cell_type": "markdown",
   "metadata": {
    "id": "yxgr3XzACsyX"
   },
   "source": [
    "It is used to measure the accuracy of the model as a percentage. We define a function to calculate MAPE for training and test dataset."
   ]
  },
  {
   "cell_type": "code",
   "execution_count": null,
   "metadata": {
    "id": "Zamw3fcDCsyY"
   },
   "outputs": [],
   "source": [
    "# define a function to calculate MAPE\n",
    "# pass the actual and predicted values as input to the function\n",
    "# return the calculated MAPE \n",
    "def mape(actual, predicted):\n",
    "    return (np.mean(np.abs((actual - predicted) / actual)) * 100)"
   ]
  },
  {
   "cell_type": "code",
   "execution_count": null,
   "metadata": {
    "id": "fsH4r1qXCsyY",
    "outputId": "fdce8853-3d8e-4989-ef96-4382551dcbc0",
    "scrolled": true
   },
   "outputs": [],
   "source": [
    "# calculate the mape using the \"mape()\" function created above\n",
    "\n",
    "# calculate the MAPE for the train data\n",
    "# round the value upto 4 digits using 'round()'\n",
    "mape_train = round(mape(y_train_signi_var, train_pred),4)\n",
    "\n",
    "# print the MAPE for the training set\n",
    "print(\"Mean Absolute Percentage Error (MAPE) on training set: \", mape_train)\n",
    "\n",
    "# calculate the MAPE for the test data\n",
    "# round the value upto 4 digits using 'round()'\n",
    "mape_test = round(mape(y_test_signi_var, test_pred),4)\n",
    "\n",
    "# print the MAPE for the test set\n",
    "print(\"Mean Absolute Percentage Error (MAPE) on test set: \", mape_test)"
   ]
  },
  {
   "cell_type": "markdown",
   "metadata": {
    "id": "svziOcHlCsyY"
   },
   "source": [
    "<a id=\"compare\"></a>\n",
    "# 8. Compare Model Performances"
   ]
  },
  {
   "cell_type": "markdown",
   "metadata": {
    "id": "BAEcNNsLCsyY"
   },
   "source": [
    "Let us compare the model performance metrics (MSE, RMSE, MAE, MAPE) for `MLR_full_model`, `MLR_model_with_significant_var` and `MLR_interaction_model` to find the best model."
   ]
  },
  {
   "cell_type": "code",
   "execution_count": null,
   "metadata": {
    "id": "DjS07E_yCsyZ"
   },
   "outputs": [],
   "source": [
    "# create the table for all the model performance metrics\n",
    "# metrics considered for model comparision are MSE, RMSE, MAE and MAPE\n",
    "# create a list of column names\n",
    "cols = ['Model_Name', 'R-squared', 'Adj. R-squared', 'MSE', 'RMSE', 'MAE', 'MAPE']\n",
    "\n",
    "# creating a empty dataframe of the colums\n",
    "result_table = pd.DataFrame(columns = cols)"
   ]
  },
  {
   "cell_type": "markdown",
   "metadata": {
    "id": "5kSeLLGPCsyZ"
   },
   "source": [
    "Now, calculate performance measure for `MLR_full_model`"
   ]
  },
  {
   "cell_type": "code",
   "execution_count": null,
   "metadata": {
    "id": "y_ndknDgCsyZ",
    "outputId": "53a88699-5bce-491b-a73e-ac8fa991df6a"
   },
   "outputs": [],
   "source": [
    "# calculate R-squared, Adjusted R-squared, MSE, RMSE, MAE and MAPE for full model\n",
    "# use 'rsquared' to calculate R-squared value\n",
    "# use 'rsquared_adj' to calculate Adjusted R-squared value\n",
    "# use 'mean_squared_error' to calculate MSE\n",
    "# use 'rmse' to calculate RMSE\n",
    "# use 'mean_absolute_error' to calculate MAE\n",
    "# use the defined function 'mape' to calculate MAPE\n",
    "MLR_full_model_metrics = pd.Series({'Model_Name': \"MLR Full Model\",\n",
    "                     'R-squared': MLR_full_model.rsquared,\n",
    "                     'Adj. R-squared': MLR_full_model.rsquared_adj,\n",
    "                     'MSE': mean_squared_error(y_test_full, y_pred_full),\n",
    "                     'RMSE': rmse(y_test_full, y_pred_full),\n",
    "                     'MAE': mean_absolute_error(y_test_full, y_pred_full),\n",
    "                     'MAPE': mape(y_test_full, y_pred_full)\n",
    "                   })\n",
    "\n",
    "# append the values to the result table\n",
    "result_table = result_table.append(MLR_full_model_metrics, ignore_index = True)\n",
    "\n",
    "# print the result table\n",
    "result_table"
   ]
  },
  {
   "cell_type": "markdown",
   "metadata": {
    "id": "4_XZyAWtCsya"
   },
   "source": [
    "Now, calculate performance measure for `MLR_model_with_significant_var`"
   ]
  },
  {
   "cell_type": "code",
   "execution_count": null,
   "metadata": {
    "id": "x1ApHE28Csya",
    "outputId": "b88ae04e-a4f3-48d9-ef8b-ce549b48efff"
   },
   "outputs": [],
   "source": [
    "# calculate R-squared, Adjusted R-squared, MSE, RMSE, MAE and MAPE for model with significant variables\n",
    "# use 'rsquared' to calculate R-squared value\n",
    "# use 'rsquared_adj' to calculate Adjusted R-squared value\n",
    "# use 'mean_squared_error' to calculate MSE\n",
    "# use 'rmse' to calculate RMSE\n",
    "# use 'mean_absolute_error' to calculate MAE\n",
    "# use the defined function 'mape' to calculate MAPE\n",
    "MLR_model_signi_var_metrics = pd.Series({'Model_Name': \"MLR Model with Significant Variables\",\n",
    "                     'R-squared': MLR_model_with_significant_var.rsquared,\n",
    "                     'Adj. R-squared': MLR_model_with_significant_var.rsquared_adj,\n",
    "                     'MSE': mean_squared_error(y_test_signi_var, y_pred_signi_var),\n",
    "                     'RMSE': rmse(y_test_signi_var, y_pred_signi_var),\n",
    "                     'MAE': mean_absolute_error(y_test_signi_var, y_pred_signi_var),\n",
    "                     'MAPE': mape(y_test_signi_var, y_pred_signi_var)\n",
    "                   })\n",
    "\n",
    "# append the values to the result table\n",
    "result_table = result_table.append(MLR_model_signi_var_metrics, ignore_index = True)\n",
    "\n",
    "# print the result table\n",
    "result_table"
   ]
  },
  {
   "cell_type": "markdown",
   "metadata": {
    "id": "C0GcBBvvCsya"
   },
   "source": [
    "Now, calculate the performance measures for `MLR_model_with_interaction`"
   ]
  },
  {
   "cell_type": "code",
   "execution_count": null,
   "metadata": {
    "id": "XFUvLv9BCsyb",
    "outputId": "0cfe4fa9-396e-4640-9058-4189c860cf8f"
   },
   "outputs": [],
   "source": [
    "# calculate R-squared, Adjusted R-squared, MSE, RMSE, MAE and MAPE for model with interaction\n",
    "# use 'rsquared' to calculate R-squared value\n",
    "# use 'rsquared_adj' to calculate Adjusted R-squared value\n",
    "# use 'mean_squared_error' to calculate MSE\n",
    "# use 'rmse' to calculate RMSE\n",
    "# use 'mean_absolute_error' to calculate MAE\n",
    "# use the defined function 'mape' to calculate MAPE\n",
    "MLR_model_interaction_metrics = pd.Series({'Model_Name': \"MLR Model with Interaction\",\n",
    "                     'R-squared': MLR_model_with_interaction.rsquared,\n",
    "                     'Adj. R-squared': MLR_model_with_interaction.rsquared_adj,\n",
    "                     'MSE': mean_squared_error(y_test_inter, y_pred_inter),\n",
    "                     'RMSE': rmse(y_test_inter, y_pred_inter),\n",
    "                     'MAE': mean_absolute_error(y_test_inter, y_pred_inter),\n",
    "                     'MAPE': mape(y_test_inter, y_pred_inter)\n",
    "                   })\n",
    "\n",
    "# append the values to the result table\n",
    "result_table = result_table.append(MLR_model_interaction_metrics, ignore_index = True)\n",
    "\n",
    "# print the result table\n",
    "result_table"
   ]
  },
  {
   "cell_type": "markdown",
   "metadata": {
    "id": "0Eh1N6eJCsyb"
   },
   "source": [
    "**Interpretation:** The R-Squared and the Adj. R-Squared for the full model (=1) indicates that the model perfectly fits the data which is not practical and also the model is likely to overfit. Thus, MLR Full Model cannot be considered as the best model.<br>\n",
    "\n",
    "Overfitting occurs when a model learns the detail and noise in the training data to the extent that it adversely impacts the model's performance on the new data. We will learn about overfitting in the upcoming portion.<br>\n",
    "\n",
    "On the other hand, R-Squared and the Adj. R-Squared for the MLR Model with Interaction is more than the MLR Model with Significant Variables. Also, the RMSE value for the MLR Model with Interaction is less as compared to that of MLR Model with Significant Variables.<br>\n",
    "Thus, we can say that the MLR Model with Interaction is the best model.\n",
    "\n"
   ]
  }
 ],
 "metadata": {
  "colab": {
   "collapsed_sections": [
    "PBn8LynUCsw0",
    "HlRtQHn5Csw1",
    "eVk8sfXmCsw3",
    "RO35W1rGCsw_",
    "xo92I8VpCsxD",
    "17hbQeYnCsxG",
    "kl2Rt21TCsxH",
    "SuEhWj-NCsxJ",
    "bKyFXjZ-CsxK",
    "eLkJMEHfCsxP",
    "FbCvqJcnCsxQ",
    "UZK5UvlYCsxR",
    "k_jGun_RCsxS",
    "m92CHMPpCsxT",
    "AepbYYgHCsxV",
    "X0_QmoaqCsxX",
    "kOyxsuIyCsxZ",
    "1o5sTxzdCsxa",
    "hXt4NDn2Csxc",
    "4zyH3yGrCsxe",
    "KXH4n_zVCsxh",
    "KPWSbSUbCsxi",
    "LEMFhyd9Csxj",
    "rkW9pdCVCsxk",
    "jg0Wp9OHCsxn",
    "3KD7iQRLCsxp",
    "hlzACGFOCsxt",
    "AbhgWY4dCsxt",
    "-3Np7HAMCsxu",
    "c-aImjNMCsxx",
    "TfCN9_RSCsxz",
    "Xwe2gUDlCsx1",
    "YvyxjmXSCsx1",
    "1o5vNUgjCsx2",
    "C3QC1keMCsx4",
    "hlG7It7iCsx5",
    "WA0O92g4Csx7",
    "41e2N_-vCsx9",
    "_JUv_sSsCsyA",
    "uFYSZbqYCsyB",
    "Zgk4B6w5CsyF",
    "Ajfurs04CsyF",
    "3JO-bAfBCsyG",
    "hHmaPYxFCsyJ",
    "IgAGu2TeCsyK",
    "lpbwZPCtCsyM",
    "2dY0FpJVCsyM",
    "FQIP6120CsyN",
    "Wt8xY8KWCsyP",
    "OiaPxedjCsyQ",
    "tMiqpFcKCsyS",
    "3g5_Bm8hCsyU",
    "6i2w6u6FCsyV",
    "GyWL5WdVCsyV",
    "frrrghkUCsyW",
    "BzONeEmYCsyX"
   ],
   "provenance": []
  },
  "kernelspec": {
   "display_name": "Python 3 (ipykernel)",
   "language": "python",
   "name": "python3"
  },
  "language_info": {
   "codemirror_mode": {
    "name": "ipython",
    "version": 3
   },
   "file_extension": ".py",
   "mimetype": "text/x-python",
   "name": "python",
   "nbconvert_exporter": "python",
   "pygments_lexer": "ipython3",
   "version": "3.10.9"
  }
 },
 "nbformat": 4,
 "nbformat_minor": 1
}
