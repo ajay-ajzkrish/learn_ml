{
 "cells": [
  {
   "cell_type": "markdown",
   "metadata": {
    "id": "_0TGpy7l7_Sc"
   },
   "source": [
    "<table align=\"left\" width=100%>\n",
    "    <tr>\n",
    "        <td width=\"20%\">\n",
    "            <img src=\"faculty.png\">\n",
    "        </td>\n",
    "        <td>\n",
    "            <div align=\"center\">\n",
    "                <font color=\"#21618C\" size=6px>\n",
    "                  <b> Faculty Notebook File 2 <br> (Week 1 - Day 4 to 5) </b>\n",
    "                </font>\n",
    "            </div>\n",
    "        </td>\n",
    "        <td width=\"25%\">\n",
    "            <img src=\"GL-2.png\">\n",
    "        </td>\n",
    "    </tr>\n",
    "</table>"
   ]
  },
  {
   "cell_type": "markdown",
   "metadata": {
    "id": "-4WuzSNm7_Sd"
   },
   "source": [
    "## Problem Statement\n",
    "\n"
   ]
  },
  {
   "cell_type": "markdown",
   "metadata": {
    "id": "v109PWDM7_Se"
   },
   "source": [
    "The dataset contains the temperature, humidity, pressure, and so on recorded from different rooms. The data is collected from the sensors that are implanted in different houses. The house temperature and humidity were monitored using a wireless sensor network. We aim is to predict the energy used by the appliances in Wh."
   ]
  },
  {
   "cell_type": "markdown",
   "metadata": {
    "id": "4l5R2uj-7_Se"
   },
   "source": [
    "## About the dataset (Appliances Energy Prediction data)\n",
    "\n",
    "**Appliances**: Energy use in Wh (Target variable)<br>\n",
    "**lights**: Energy use of light fixtures in the house in Wh<br>\n",
    "**T1**: Temperature in the kitchen area in Celsius<br>\n",
    "**RH_1**: Humidity in the kitchen area in %<br>\n",
    "**T2**: Temperature in the living room area in Celsius<br>\n",
    "**RH_2**: Humidity in the living room area in %<br>\n",
    "**T3**: Temperature in the laundry room area<br>\n",
    "**RH_3**: Humidity in the laundry room area in %<br>\n",
    "**T4**: Temperature in the office room in Celsius<br>\n",
    "**RH_4**: Humidity in the office room in %<br>\n",
    "**T5**: Temperature in the bathroom in Celsius<br>\n",
    "**RH_5**: Humidity in the bathroom in %<br>\n",
    "**T6**: Temperature outside the building (north side) in Celsius<br>\n",
    "**RH_6**: Humidity outside the building (north side) in %<br>\n",
    "**T7**: Temperature in ironing room  in Celsius<br>\n",
    "**RH_7**: Humidity in ironing room in %<br>\n",
    "**T8**: Temperature in teenager room 2 in Celsius<br>\n",
    "**RH_8**: Humidity in teenager room 2 in %<br>\n",
    "**T9**: Temperature in parents room in Celsius<br>\n",
    "**RH_9**: Humidity in parents room in %<br>\n",
    "**T_out**: Temperature outside the building in Celsius<br>\n",
    "**Pres_mm_hg**:  Pressure in mm Hg<br>\n",
    "**RH_out**: Humidity outside the building in %<br>\n",
    "**Windspeed**:  Speed of the wind in m/s<br>\n",
    "**Visibility**:  Visibility of the building from the nearest weather station in km\n",
    "\n",
    "Data citation: Luis M. Candanedo, Veronique Feldheim, Dominique Deramaix, Data driven prediction models of energy use of appliances in a low-energy house, Energy and Buildings, Volume 140, 1 April 2017, Pages 81-97, ISSN 0378-7788"
   ]
  },
  {
   "cell_type": "markdown",
   "metadata": {
    "id": "fb9SJSZv7_Se"
   },
   "source": [
    "## Table of Content\n",
    "\n",
    "**Day 4**\n",
    "\n",
    "1. **[Import Libraries](#lib)**\n",
    "2. **[Data Preparation](#prep)**\n",
    "    - 2.1 - **[Outlier Analysis and Treatment](#outliers)**\n",
    "    - 2.2 - **[Missing Value Analysis and Treatment](#null)**\n",
    "    - 2.3 - **[Remove Variables with Low Standard Deviation](#std)**\n",
    "3. **[MLR Model with Interaction Effect](#interaction)**\n",
    "4. **[What is Transformation?](#def)**\n",
    "\t- 4.1 - **[Types of Transformations](#types)**\n",
    "       - 4.1.1 - **[Square Root Transformation](#sqr)**\n",
    "       - 4.1.2 - **[Reciprocal Transformation](#rec)**\n",
    "       - 4.1.3 - **[Log Transformation](#log)**\n",
    "       - 4.1.4 - **[Box-Cox Transformation](#box)**\n",
    "    - 4.2 - **[Model Performance after Transformation](#after)**\n",
    "5. **[Stepwise Regression](#step)**\n",
    "    - 5.1 - **[Forward Selection](#for)**\n",
    "    - 5.2 - **[Backward Elimination](#back)**\n",
    "6. **[Recursive Feature Elimination (RFE)](#rfe)**\n",
    "\n",
    "**Day 5**\n",
    "\n",
    "7. **[Cross-Validation (CV)](#cv)**\n",
    "\t- 7.1 - **[K-Fold CV](#kfold)**\n",
    "    - 7.2 - **[Leave One Out Cross Validation (LOOCV)](#loocv)**"
   ]
  },
  {
   "cell_type": "markdown",
   "metadata": {
    "id": "z7B_Psb77_Se"
   },
   "source": [
    "<a id=\"lib\"></a>\n",
    "# 1. Import Libraries"
   ]
  },
  {
   "cell_type": "markdown",
   "metadata": {
    "id": "rSr5ZVCl7_Sf"
   },
   "source": [
    "**Let us import the required libraries.**"
   ]
  },
  {
   "cell_type": "code",
   "execution_count": 1,
   "metadata": {
    "id": "qOWs1Ieh7_Sf"
   },
   "outputs": [],
   "source": [
    "# import 'Pandas' \n",
    "import pandas as pd \n",
    "\n",
    "# import 'Numpy' \n",
    "import numpy as np\n",
    "\n",
    "# import subpackage of Matplotlib\n",
    "import matplotlib.pyplot as plt\n",
    "\n",
    "# import 'Seaborn' \n",
    "import seaborn as sns\n",
    "\n",
    "# to suppress warnings \n",
    "from warnings import filterwarnings\n",
    "filterwarnings('ignore')\n",
    "\n",
    "# display all columns of the dataframe\n",
    "pd.options.display.max_columns = None\n",
    "\n",
    "# display all rows of the dataframe\n",
    "pd.options.display.max_rows = None\n",
    " \n",
    "# to display the float values upto 6 decimal places     \n",
    "pd.options.display.float_format = '{:.6f}'.format\n",
    "\n",
    "# import train-test split \n",
    "from sklearn.model_selection import train_test_split\n",
    "\n",
    "# import various functions from statsmodels\n",
    "import statsmodels\n",
    "import statsmodels.api as sm\n",
    "import statsmodels.stats.api as sms\n",
    "from statsmodels.graphics.gofplots import qqplot\n",
    "\n",
    "# import 'stats'\n",
    "from scipy import stats\n",
    "\n",
    "# 'metrics' from sklearn is used for evaluating the model performance\n",
    "from sklearn.metrics import mean_squared_error\n",
    "\n",
    "# import functions to perform feature selection\n",
    "from mlxtend.feature_selection import SequentialFeatureSelector as sfs\n",
    "from sklearn.feature_selection import RFE\n",
    "\n",
    "# import function to perform linear regression\n",
    "from sklearn.linear_model import LinearRegression\n",
    "\n",
    "# import functions to perform cross validation\n",
    "from sklearn.model_selection import LeaveOneOut\n",
    "from sklearn.model_selection import cross_val_score\n",
    "from sklearn.model_selection import KFold"
   ]
  },
  {
   "cell_type": "code",
   "execution_count": 2,
   "metadata": {
    "id": "FJFS7UxJ7_Sg"
   },
   "outputs": [],
   "source": [
    "# set the plot size using 'rcParams'\n",
    "# once the plot size is set using 'rcParams', it sets the size of all the forthcoming plots in the file\n",
    "# pass width and height in inches to 'figure.figsize' \n",
    "plt.rcParams['figure.figsize'] = [15,8]"
   ]
  },
  {
   "cell_type": "markdown",
   "metadata": {
    "id": "ttIfJkxe7_Sg"
   },
   "source": [
    "<a id=\"prep\"></a>\n",
    "# 2. Data Preparation"
   ]
  },
  {
   "cell_type": "markdown",
   "metadata": {
    "id": "y8wpWa8N7_Sg"
   },
   "source": [
    "#### Read the dataset and print the first five observations."
   ]
  },
  {
   "cell_type": "code",
   "execution_count": 3,
   "metadata": {
    "id": "dZMIjKWg7_Sg",
    "outputId": "0ac7efe7-6597-4960-8c70-fc44a2926b9b",
    "scrolled": false
   },
   "outputs": [
    {
     "data": {
      "text/html": [
       "<div>\n",
       "<style scoped>\n",
       "    .dataframe tbody tr th:only-of-type {\n",
       "        vertical-align: middle;\n",
       "    }\n",
       "\n",
       "    .dataframe tbody tr th {\n",
       "        vertical-align: top;\n",
       "    }\n",
       "\n",
       "    .dataframe thead th {\n",
       "        text-align: right;\n",
       "    }\n",
       "</style>\n",
       "<table border=\"1\" class=\"dataframe\">\n",
       "  <thead>\n",
       "    <tr style=\"text-align: right;\">\n",
       "      <th></th>\n",
       "      <th>Appliances</th>\n",
       "      <th>lights</th>\n",
       "      <th>T1</th>\n",
       "      <th>RH_1</th>\n",
       "      <th>T2</th>\n",
       "      <th>RH_2</th>\n",
       "      <th>T3</th>\n",
       "      <th>RH_3</th>\n",
       "      <th>T4</th>\n",
       "      <th>RH_4</th>\n",
       "      <th>T5</th>\n",
       "      <th>RH_5</th>\n",
       "      <th>T6</th>\n",
       "      <th>RH_6</th>\n",
       "      <th>T7</th>\n",
       "      <th>RH_7</th>\n",
       "      <th>T8</th>\n",
       "      <th>RH_8</th>\n",
       "      <th>T9</th>\n",
       "      <th>RH_9</th>\n",
       "      <th>T_out</th>\n",
       "      <th>Press_mm_hg</th>\n",
       "      <th>RH_out</th>\n",
       "      <th>Windspeed</th>\n",
       "      <th>Visibility</th>\n",
       "    </tr>\n",
       "  </thead>\n",
       "  <tbody>\n",
       "    <tr>\n",
       "      <th>0</th>\n",
       "      <td>60</td>\n",
       "      <td>20</td>\n",
       "      <td>20.700000</td>\n",
       "      <td>44.700000</td>\n",
       "      <td>19.500000</td>\n",
       "      <td>45.590000</td>\n",
       "      <td>21.390000</td>\n",
       "      <td>41.950000</td>\n",
       "      <td>20.566667</td>\n",
       "      <td>45.626667</td>\n",
       "      <td>18.060000</td>\n",
       "      <td>52.900000</td>\n",
       "      <td>11.300000</td>\n",
       "      <td>88.590000</td>\n",
       "      <td>18.100000</td>\n",
       "      <td>43.290000</td>\n",
       "      <td>20.500000</td>\n",
       "      <td>52.790000</td>\n",
       "      <td>18.306667</td>\n",
       "      <td>47.590000</td>\n",
       "      <td>11.016667</td>\n",
       "      <td>756.533333</td>\n",
       "      <td>88.333333</td>\n",
       "      <td>8.833333</td>\n",
       "      <td>38.166667</td>\n",
       "    </tr>\n",
       "    <tr>\n",
       "      <th>1</th>\n",
       "      <td>60</td>\n",
       "      <td>0</td>\n",
       "      <td>21.290000</td>\n",
       "      <td>37.863333</td>\n",
       "      <td>19.390000</td>\n",
       "      <td>39.663333</td>\n",
       "      <td>21.790000</td>\n",
       "      <td>36.700000</td>\n",
       "      <td>20.463333</td>\n",
       "      <td>37.526667</td>\n",
       "      <td>19.390000</td>\n",
       "      <td>43.200000</td>\n",
       "      <td>9.690000</td>\n",
       "      <td>30.333333</td>\n",
       "      <td>19.267500</td>\n",
       "      <td>32.095000</td>\n",
       "      <td>22.000000</td>\n",
       "      <td>39.223333</td>\n",
       "      <td>19.600000</td>\n",
       "      <td>38.826667</td>\n",
       "      <td>8.350000</td>\n",
       "      <td>761.800000</td>\n",
       "      <td>70.000000</td>\n",
       "      <td>3.500000</td>\n",
       "      <td>40.000000</td>\n",
       "    </tr>\n",
       "    <tr>\n",
       "      <th>2</th>\n",
       "      <td>80</td>\n",
       "      <td>0</td>\n",
       "      <td>21.390000</td>\n",
       "      <td>35.790000</td>\n",
       "      <td>19.290000</td>\n",
       "      <td>37.700000</td>\n",
       "      <td>22.760000</td>\n",
       "      <td>34.290000</td>\n",
       "      <td>21.323333</td>\n",
       "      <td>34.730000</td>\n",
       "      <td>18.426667</td>\n",
       "      <td>43.826667</td>\n",
       "      <td>9.845000</td>\n",
       "      <td>24.750000</td>\n",
       "      <td>19.200000</td>\n",
       "      <td>29.200000</td>\n",
       "      <td>22.390000</td>\n",
       "      <td>37.290000</td>\n",
       "      <td>19.463333</td>\n",
       "      <td>35.500000</td>\n",
       "      <td>6.866667</td>\n",
       "      <td>762.333333</td>\n",
       "      <td>69.666667</td>\n",
       "      <td>3.000000</td>\n",
       "      <td>35.666667</td>\n",
       "    </tr>\n",
       "    <tr>\n",
       "      <th>3</th>\n",
       "      <td>40</td>\n",
       "      <td>0</td>\n",
       "      <td>19.033333</td>\n",
       "      <td>41.826667</td>\n",
       "      <td>18.533333</td>\n",
       "      <td>41.290000</td>\n",
       "      <td>18.100000</td>\n",
       "      <td>43.790000</td>\n",
       "      <td>15.890000</td>\n",
       "      <td>47.530000</td>\n",
       "      <td>15.390000</td>\n",
       "      <td>51.030000</td>\n",
       "      <td>5.500000</td>\n",
       "      <td>99.900000</td>\n",
       "      <td>15.561111</td>\n",
       "      <td>40.138889</td>\n",
       "      <td>19.594444</td>\n",
       "      <td>51.062778</td>\n",
       "      <td>15.100000</td>\n",
       "      <td>46.760000</td>\n",
       "      <td>5.133333</td>\n",
       "      <td>769.583333</td>\n",
       "      <td>92.000000</td>\n",
       "      <td>4.833333</td>\n",
       "      <td>23.166667</td>\n",
       "    </tr>\n",
       "    <tr>\n",
       "      <th>4</th>\n",
       "      <td>60</td>\n",
       "      <td>30</td>\n",
       "      <td>21.700000</td>\n",
       "      <td>46.633333</td>\n",
       "      <td>20.700000</td>\n",
       "      <td>45.900000</td>\n",
       "      <td>22.323333</td>\n",
       "      <td>44.790000</td>\n",
       "      <td>21.000000</td>\n",
       "      <td>47.966667</td>\n",
       "      <td>19.600000</td>\n",
       "      <td>56.540556</td>\n",
       "      <td>8.800000</td>\n",
       "      <td>99.900000</td>\n",
       "      <td>18.760000</td>\n",
       "      <td>45.200000</td>\n",
       "      <td>20.469444</td>\n",
       "      <td>53.189444</td>\n",
       "      <td>18.290000</td>\n",
       "      <td>51.863333</td>\n",
       "      <td>8.633333</td>\n",
       "      <td>757.566667</td>\n",
       "      <td>95.666667</td>\n",
       "      <td>6.000000</td>\n",
       "      <td>55.333333</td>\n",
       "    </tr>\n",
       "  </tbody>\n",
       "</table>\n",
       "</div>"
      ],
      "text/plain": [
       "   Appliances  lights        T1      RH_1        T2      RH_2        T3  \\\n",
       "0          60      20 20.700000 44.700000 19.500000 45.590000 21.390000   \n",
       "1          60       0 21.290000 37.863333 19.390000 39.663333 21.790000   \n",
       "2          80       0 21.390000 35.790000 19.290000 37.700000 22.760000   \n",
       "3          40       0 19.033333 41.826667 18.533333 41.290000 18.100000   \n",
       "4          60      30 21.700000 46.633333 20.700000 45.900000 22.323333   \n",
       "\n",
       "       RH_3        T4      RH_4        T5      RH_5        T6      RH_6  \\\n",
       "0 41.950000 20.566667 45.626667 18.060000 52.900000 11.300000 88.590000   \n",
       "1 36.700000 20.463333 37.526667 19.390000 43.200000  9.690000 30.333333   \n",
       "2 34.290000 21.323333 34.730000 18.426667 43.826667  9.845000 24.750000   \n",
       "3 43.790000 15.890000 47.530000 15.390000 51.030000  5.500000 99.900000   \n",
       "4 44.790000 21.000000 47.966667 19.600000 56.540556  8.800000 99.900000   \n",
       "\n",
       "         T7      RH_7        T8      RH_8        T9      RH_9     T_out  \\\n",
       "0 18.100000 43.290000 20.500000 52.790000 18.306667 47.590000 11.016667   \n",
       "1 19.267500 32.095000 22.000000 39.223333 19.600000 38.826667  8.350000   \n",
       "2 19.200000 29.200000 22.390000 37.290000 19.463333 35.500000  6.866667   \n",
       "3 15.561111 40.138889 19.594444 51.062778 15.100000 46.760000  5.133333   \n",
       "4 18.760000 45.200000 20.469444 53.189444 18.290000 51.863333  8.633333   \n",
       "\n",
       "   Press_mm_hg    RH_out  Windspeed  Visibility  \n",
       "0   756.533333 88.333333   8.833333   38.166667  \n",
       "1   761.800000 70.000000   3.500000   40.000000  \n",
       "2   762.333333 69.666667   3.000000   35.666667  \n",
       "3   769.583333 92.000000   4.833333   23.166667  \n",
       "4   757.566667 95.666667   6.000000   55.333333  "
      ]
     },
     "execution_count": 3,
     "metadata": {},
     "output_type": "execute_result"
    }
   ],
   "source": [
    "# load the csv file\n",
    "# store the data in 'df_energy'\n",
    "df_energy = pd.read_csv('energy_data.csv')\n",
    "\n",
    "# display first five observations using head()\n",
    "df_energy.head()"
   ]
  },
  {
   "cell_type": "markdown",
   "metadata": {
    "id": "8u0uCu3G7_Sg"
   },
   "source": [
    "**Let us now see the number of variables and observations in the data.**"
   ]
  },
  {
   "cell_type": "code",
   "execution_count": 4,
   "metadata": {
    "id": "Z_FTxthy7_Sh",
    "outputId": "0af1c5f7-7022-4771-bba2-72ba20ebea3d"
   },
   "outputs": [
    {
     "data": {
      "text/plain": [
       "(1000, 25)"
      ]
     },
     "execution_count": 4,
     "metadata": {},
     "output_type": "execute_result"
    }
   ],
   "source": [
    "# use 'shape' to check the dimension of data\n",
    "df_energy.shape"
   ]
  },
  {
   "cell_type": "markdown",
   "metadata": {
    "id": "2EdSzLW47_Sh"
   },
   "source": [
    "**Interpretation:** The data has 1000 observations and 25 variables."
   ]
  },
  {
   "cell_type": "markdown",
   "metadata": {
    "id": "21reKr1b7_Sh"
   },
   "source": [
    "**Get a concise summary of the DataFrame.**"
   ]
  },
  {
   "cell_type": "code",
   "execution_count": 5,
   "metadata": {
    "id": "fUigo1Gf7_Sh",
    "outputId": "27212d92-dc8a-487c-bcad-b1be2b83696e",
    "scrolled": false
   },
   "outputs": [
    {
     "name": "stdout",
     "output_type": "stream",
     "text": [
      "<class 'pandas.core.frame.DataFrame'>\n",
      "RangeIndex: 1000 entries, 0 to 999\n",
      "Data columns (total 25 columns):\n",
      " #   Column       Non-Null Count  Dtype  \n",
      "---  ------       --------------  -----  \n",
      " 0   Appliances   1000 non-null   int64  \n",
      " 1   lights       1000 non-null   int64  \n",
      " 2   T1           1000 non-null   float64\n",
      " 3   RH_1         1000 non-null   float64\n",
      " 4   T2           1000 non-null   float64\n",
      " 5   RH_2         1000 non-null   float64\n",
      " 6   T3           1000 non-null   float64\n",
      " 7   RH_3         1000 non-null   float64\n",
      " 8   T4           1000 non-null   float64\n",
      " 9   RH_4         1000 non-null   float64\n",
      " 10  T5           1000 non-null   float64\n",
      " 11  RH_5         1000 non-null   float64\n",
      " 12  T6           1000 non-null   float64\n",
      " 13  RH_6         1000 non-null   float64\n",
      " 14  T7           1000 non-null   float64\n",
      " 15  RH_7         1000 non-null   float64\n",
      " 16  T8           1000 non-null   float64\n",
      " 17  RH_8         1000 non-null   float64\n",
      " 18  T9           1000 non-null   float64\n",
      " 19  RH_9         1000 non-null   float64\n",
      " 20  T_out        1000 non-null   float64\n",
      " 21  Press_mm_hg  1000 non-null   float64\n",
      " 22  RH_out       1000 non-null   float64\n",
      " 23  Windspeed    1000 non-null   float64\n",
      " 24  Visibility   1000 non-null   float64\n",
      "dtypes: float64(23), int64(2)\n",
      "memory usage: 195.4 KB\n"
     ]
    }
   ],
   "source": [
    "# use 'info()' to understand the dataset\n",
    "df_energy.info()"
   ]
  },
  {
   "cell_type": "markdown",
   "metadata": {
    "id": "pI1H5w277_Sh"
   },
   "source": [
    "**Interpretation:** All the variables are numeric. "
   ]
  },
  {
   "cell_type": "markdown",
   "metadata": {
    "id": "C7579U617_Sh"
   },
   "source": [
    "<a id=\"outliers\"></a>\n",
    "## 2.1 Outlier Analysis and Treatment"
   ]
  },
  {
   "cell_type": "markdown",
   "metadata": {
    "id": "fE2uCpmI7_Sh"
   },
   "source": [
    "**Check the outliers in all the variables and treat them using appropriate techniques.**"
   ]
  },
  {
   "cell_type": "code",
   "execution_count": 6,
   "metadata": {
    "id": "plx3qLLH7_Sh",
    "outputId": "20f088ea-f930-4e8f-861a-e6742da7f359"
   },
   "outputs": [
    {
     "data": {
      "image/png": "[encoded data removed]",
      "text/plain": [
       "<Figure size 1500x800 with 1 Axes>"
      ]
     },
     "metadata": {},
     "output_type": "display_data"
    }
   ],
   "source": [
    "# plot a boxplot to visualize the outliers in all the numeric variables\n",
    "df_energy.boxplot()\n",
    "\n",
    "# set plot label\n",
    "# set text size using 'fontsize'\n",
    "plt.title('Distribution of all Numeric Variables', fontsize = 15)\n",
    "\n",
    "# xticks() returns the x-axis ticks\n",
    "# 'rotation = vertical' rotates the x-axis labels vertically\n",
    "# set text size using 'fontsize'\n",
    "plt.xticks(rotation = 'vertical', fontsize = 15)\n",
    "\n",
    "# display the plot\n",
    "plt.show()"
   ]
  },
  {
   "cell_type": "markdown",
   "metadata": {
    "id": "KT2-3Cr87_Sh"
   },
   "source": [
    "**Notice that the variable 'Appliances' has a quite large range as compared to the other variables. Also the values of the variable 'Press_mm_hg' are in the range between 700 and 800. Thus, it is difficult to see the outliers with such variables. So, we plot the boxplots of independent variables again by not considering the variables 'Appliances' and 'Press_mm_hg'**"
   ]
  },
  {
   "cell_type": "code",
   "execution_count": 7,
   "metadata": {
    "id": "Cq0Av4Y67_Sh",
    "outputId": "5a634ac8-3e98-4237-ee6e-dd76d04191d0",
    "scrolled": false
   },
   "outputs": [
    {
     "data": {
      "image/png": "[encoded data removed]",
      "text/plain": [
       "<Figure size 1500x800 with 1 Axes>"
      ]
     },
     "metadata": {},
     "output_type": "display_data"
    }
   ],
   "source": [
    "# plot boxplots of all the numeric variables except 'Appliances' and 'Press_mm_hg'\n",
    "# use 'iloc[]' to select the variables except 'Appliances' and 'Press_mm_hg'\n",
    "df_energy.iloc[:,[1,2,3,4,5,6,7,8,9,10,11,12,13,14,15,16,17,18,19,20,22,23,24]].boxplot()\n",
    "\n",
    "# set plot label\n",
    "# set text size using 'fontsize'\n",
    "plt.title('Distribution of Independent Variables (except \"Appliances\" and \"Press_mm_hg\")', fontsize = 15)\n",
    "\n",
    "# xticks() returns the x-axis ticks\n",
    "# 'rotation = vertical' rotates the x-axis labels vertically\n",
    "plt.xticks(rotation = 'vertical', fontsize = 15)\n",
    "\n",
    "# display the plot\n",
    "plt.show()"
   ]
  },
  {
   "cell_type": "markdown",
   "metadata": {
    "id": "uSmGmY-U7_Si"
   },
   "source": [
    "**Plot the boxplot of an independent variable 'Press_mm_hg'.**"
   ]
  },
  {
   "cell_type": "code",
   "execution_count": 8,
   "metadata": {
    "id": "ryuFalvz7_Si",
    "outputId": "e9f302d5-6135-4c0e-ad22-c37ceb7dca96"
   },
   "outputs": [
    {
     "data": {
      "image/png": "[encoded data removed]",
      "text/plain": [
       "<Figure size 1500x800 with 1 Axes>"
      ]
     },
     "metadata": {},
     "output_type": "display_data"
    }
   ],
   "source": [
    "# plot boxplot for 'Press_mm_hg' using seaborn library\n",
    "sns.boxplot(df_energy['Press_mm_hg'])\n",
    "\n",
    "# add plot and axis labels\n",
    "# set text size using 'fontsize'\n",
    "plt.title('Distribution of Pressure (in mmHg)', fontsize = 15)\n",
    "plt.xlabel('Pressure', fontsize = 15)\n",
    "\n",
    "# display the plot\n",
    "plt.show()"
   ]
  },
  {
   "cell_type": "markdown",
   "metadata": {
    "id": "oIlyy9Tm7_Si"
   },
   "source": [
    "**Plot the boxplot of the target (dependent) variable 'Appliances'.**"
   ]
  },
  {
   "cell_type": "code",
   "execution_count": 9,
   "metadata": {
    "id": "PySnsrTP7_Si",
    "outputId": "997d9130-34c7-4218-f2f7-0c8723ba1a82"
   },
   "outputs": [
    {
     "data": {
      "image/png": "[encoded data removed]",
      "text/plain": [
       "<Figure size 1500x800 with 1 Axes>"
      ]
     },
     "metadata": {},
     "output_type": "display_data"
    }
   ],
   "source": [
    "# plot boxplot for 'Appliances' using seaborn library\n",
    "sns.boxplot(df_energy['Appliances'])\n",
    "\n",
    "# add plot and axis labels\n",
    "# set text size using 'fontsize'\n",
    "plt.title('Distribution of Target Variable (Appliances)', fontsize = 15)\n",
    "plt.xlabel('Appliances', fontsize = 15)\n",
    "\n",
    "# display the plot\n",
    "plt.show()"
   ]
  },
  {
   "cell_type": "markdown",
   "metadata": {
    "id": "_IF_KsiU7_Si"
   },
   "source": [
    "**Interpretation:** From the above plots, we notice that all the variables have points above the upper extreme or below the lower extreme - these points are outliers in the data. However, the exact location of these points is not precisely seen.\n",
    "\n",
    "Let us use the IQR method to remove the outliers."
   ]
  },
  {
   "cell_type": "code",
   "execution_count": 10,
   "metadata": {
    "id": "0RGVDzLS7_Si",
    "outputId": "59cea666-c7b4-48f9-ffb2-4c02357dcd65"
   },
   "outputs": [
    {
     "data": {
      "text/plain": [
       "(543, 25)"
      ]
     },
     "execution_count": 10,
     "metadata": {},
     "output_type": "execute_result"
    }
   ],
   "source": [
    "# calculate the first quartile\n",
    "Q1 = df_energy.quantile(0.25)\n",
    "\n",
    "# calculate the third quartile\n",
    "Q3 = df_energy.quantile(0.75)\n",
    "\n",
    "# The Interquartile Range (IQR) is defined as the difference between the third and first quartile\n",
    "# calculate IQR for each numeric variable\n",
    "IQR = Q3 - Q1\n",
    "\n",
    "# retrieve the dataframe without the outliers\n",
    "# '~' returns the values that do not satisfy the given conditions \n",
    "# i.e. it returns values between the range [Q1-1.5*IQR, Q3+1.5*IQR]\n",
    "# '|' is used as 'OR' operator on multiple conditions   \n",
    "# 'any(axis=1)' checks the entire row for atleast one 'True' entry (the rows represent outliers in the data)\n",
    "df_energy = df_energy[~((df_energy < (Q1 - 1.5 * IQR)) | (df_energy > (Q3 + 1.5 * IQR))).any(axis=1)]\n",
    "\n",
    "# check the shape of the data\n",
    "df_energy.shape"
   ]
  },
  {
   "cell_type": "markdown",
   "metadata": {
    "id": "XqkWH9Uw7_Si"
   },
   "source": [
    "**Interpretation:** A crude way to know whether the outliers have been removed or not is to check the dimensions of the data. From the above output, we can see that the dimensions are reduced that implies outliers are removed."
   ]
  },
  {
   "cell_type": "markdown",
   "metadata": {
    "id": "_1QYkrje7_Si"
   },
   "source": [
    "<a id=\"null\"></a>\n",
    "## 2.2  Missing Value Analysis and Treatment"
   ]
  },
  {
   "cell_type": "markdown",
   "metadata": {
    "id": "OMLoUXvB7_Sj"
   },
   "source": [
    "**Check the presence of missing values in the data and treat them.**"
   ]
  },
  {
   "cell_type": "code",
   "execution_count": 11,
   "metadata": {
    "id": "AiWOVS7H7_Sj",
    "outputId": "c84c3337-4ff8-4176-aa33-d36b8d45e059"
   },
   "outputs": [
    {
     "data": {
      "text/html": [
       "<div>\n",
       "<style scoped>\n",
       "    .dataframe tbody tr th:only-of-type {\n",
       "        vertical-align: middle;\n",
       "    }\n",
       "\n",
       "    .dataframe tbody tr th {\n",
       "        vertical-align: top;\n",
       "    }\n",
       "\n",
       "    .dataframe thead th {\n",
       "        text-align: right;\n",
       "    }\n",
       "</style>\n",
       "<table border=\"1\" class=\"dataframe\">\n",
       "  <thead>\n",
       "    <tr style=\"text-align: right;\">\n",
       "      <th></th>\n",
       "      <th>Total</th>\n",
       "      <th>Percentage of Missing Values</th>\n",
       "    </tr>\n",
       "  </thead>\n",
       "  <tbody>\n",
       "    <tr>\n",
       "      <th>Appliances</th>\n",
       "      <td>0</td>\n",
       "      <td>0.000000</td>\n",
       "    </tr>\n",
       "    <tr>\n",
       "      <th>RH_6</th>\n",
       "      <td>0</td>\n",
       "      <td>0.000000</td>\n",
       "    </tr>\n",
       "    <tr>\n",
       "      <th>Windspeed</th>\n",
       "      <td>0</td>\n",
       "      <td>0.000000</td>\n",
       "    </tr>\n",
       "    <tr>\n",
       "      <th>RH_out</th>\n",
       "      <td>0</td>\n",
       "      <td>0.000000</td>\n",
       "    </tr>\n",
       "    <tr>\n",
       "      <th>Press_mm_hg</th>\n",
       "      <td>0</td>\n",
       "      <td>0.000000</td>\n",
       "    </tr>\n",
       "    <tr>\n",
       "      <th>T_out</th>\n",
       "      <td>0</td>\n",
       "      <td>0.000000</td>\n",
       "    </tr>\n",
       "    <tr>\n",
       "      <th>RH_9</th>\n",
       "      <td>0</td>\n",
       "      <td>0.000000</td>\n",
       "    </tr>\n",
       "    <tr>\n",
       "      <th>T9</th>\n",
       "      <td>0</td>\n",
       "      <td>0.000000</td>\n",
       "    </tr>\n",
       "    <tr>\n",
       "      <th>RH_8</th>\n",
       "      <td>0</td>\n",
       "      <td>0.000000</td>\n",
       "    </tr>\n",
       "    <tr>\n",
       "      <th>T8</th>\n",
       "      <td>0</td>\n",
       "      <td>0.000000</td>\n",
       "    </tr>\n",
       "    <tr>\n",
       "      <th>RH_7</th>\n",
       "      <td>0</td>\n",
       "      <td>0.000000</td>\n",
       "    </tr>\n",
       "    <tr>\n",
       "      <th>T7</th>\n",
       "      <td>0</td>\n",
       "      <td>0.000000</td>\n",
       "    </tr>\n",
       "    <tr>\n",
       "      <th>T6</th>\n",
       "      <td>0</td>\n",
       "      <td>0.000000</td>\n",
       "    </tr>\n",
       "    <tr>\n",
       "      <th>lights</th>\n",
       "      <td>0</td>\n",
       "      <td>0.000000</td>\n",
       "    </tr>\n",
       "    <tr>\n",
       "      <th>RH_5</th>\n",
       "      <td>0</td>\n",
       "      <td>0.000000</td>\n",
       "    </tr>\n",
       "    <tr>\n",
       "      <th>T5</th>\n",
       "      <td>0</td>\n",
       "      <td>0.000000</td>\n",
       "    </tr>\n",
       "    <tr>\n",
       "      <th>RH_4</th>\n",
       "      <td>0</td>\n",
       "      <td>0.000000</td>\n",
       "    </tr>\n",
       "    <tr>\n",
       "      <th>T4</th>\n",
       "      <td>0</td>\n",
       "      <td>0.000000</td>\n",
       "    </tr>\n",
       "    <tr>\n",
       "      <th>RH_3</th>\n",
       "      <td>0</td>\n",
       "      <td>0.000000</td>\n",
       "    </tr>\n",
       "    <tr>\n",
       "      <th>T3</th>\n",
       "      <td>0</td>\n",
       "      <td>0.000000</td>\n",
       "    </tr>\n",
       "    <tr>\n",
       "      <th>RH_2</th>\n",
       "      <td>0</td>\n",
       "      <td>0.000000</td>\n",
       "    </tr>\n",
       "    <tr>\n",
       "      <th>T2</th>\n",
       "      <td>0</td>\n",
       "      <td>0.000000</td>\n",
       "    </tr>\n",
       "    <tr>\n",
       "      <th>RH_1</th>\n",
       "      <td>0</td>\n",
       "      <td>0.000000</td>\n",
       "    </tr>\n",
       "    <tr>\n",
       "      <th>T1</th>\n",
       "      <td>0</td>\n",
       "      <td>0.000000</td>\n",
       "    </tr>\n",
       "    <tr>\n",
       "      <th>Visibility</th>\n",
       "      <td>0</td>\n",
       "      <td>0.000000</td>\n",
       "    </tr>\n",
       "  </tbody>\n",
       "</table>\n",
       "</div>"
      ],
      "text/plain": [
       "             Total  Percentage of Missing Values\n",
       "Appliances       0                      0.000000\n",
       "RH_6             0                      0.000000\n",
       "Windspeed        0                      0.000000\n",
       "RH_out           0                      0.000000\n",
       "Press_mm_hg      0                      0.000000\n",
       "T_out            0                      0.000000\n",
       "RH_9             0                      0.000000\n",
       "T9               0                      0.000000\n",
       "RH_8             0                      0.000000\n",
       "T8               0                      0.000000\n",
       "RH_7             0                      0.000000\n",
       "T7               0                      0.000000\n",
       "T6               0                      0.000000\n",
       "lights           0                      0.000000\n",
       "RH_5             0                      0.000000\n",
       "T5               0                      0.000000\n",
       "RH_4             0                      0.000000\n",
       "T4               0                      0.000000\n",
       "RH_3             0                      0.000000\n",
       "T3               0                      0.000000\n",
       "RH_2             0                      0.000000\n",
       "T2               0                      0.000000\n",
       "RH_1             0                      0.000000\n",
       "T1               0                      0.000000\n",
       "Visibility       0                      0.000000"
      ]
     },
     "execution_count": 11,
     "metadata": {},
     "output_type": "execute_result"
    }
   ],
   "source": [
    "# sorting the variables on the basis of total null values in the variable\n",
    "# 'isnull().sum()' returns the number of missing values in each variable\n",
    "# 'ascending = False' sorts values in the descending order\n",
    "# the variable with highest number of missing values will appear first\n",
    "Total = df_energy.isnull().sum().sort_values(ascending=False)          \n",
    "\n",
    "# calculate percentage of missing values\n",
    "# 'ascending = False' sorts values in the descending order\n",
    "# the variable with highest percentage of missing values will appear first\n",
    "Percent = (df_energy.isnull().sum()*100/df_energy.isnull().count()).sort_values(ascending=False)   \n",
    "\n",
    "# concat the 'Total' and 'Percent' columns using 'concat' function\n",
    "# pass a list of column names in parameter 'keys' \n",
    "# 'axis = 1' concats along the columns\n",
    "missing_data = pd.concat([Total, Percent], axis=1, keys=['Total', 'Percentage of Missing Values'])    \n",
    "missing_data"
   ]
  },
  {
   "cell_type": "markdown",
   "metadata": {
    "id": "gglPNHog7_Sj"
   },
   "source": [
    "**Interpretation:** The above output shows that there are no missing values in the data."
   ]
  },
  {
   "cell_type": "markdown",
   "metadata": {
    "id": "C856UTlL7_Sj"
   },
   "source": [
    "<a id=\"std\"></a>\n",
    "## 2.3 Remove Variables with Low Standard Deviation"
   ]
  },
  {
   "cell_type": "markdown",
   "metadata": {
    "id": "fikKRVK_7_Sj"
   },
   "source": [
    "#### Check the standard deviation of all the variables"
   ]
  },
  {
   "cell_type": "code",
   "execution_count": 12,
   "metadata": {
    "id": "cPTuIBs07_Sj",
    "outputId": "b45ce78a-5856-49c3-a433-fba294c0e037"
   },
   "outputs": [
    {
     "data": {
      "text/plain": [
       "Appliances    25.658997\n",
       "lights         0.000000\n",
       "T1             1.418813\n",
       "RH_1           3.579217\n",
       "T2             1.821311\n",
       "RH_2           3.803841\n",
       "T3             1.784325\n",
       "RH_3           2.978032\n",
       "T4             1.810984\n",
       "RH_4           4.079861\n",
       "T5             1.666814\n",
       "RH_5           5.473533\n",
       "T6             5.325781\n",
       "RH_6          29.376223\n",
       "T7             1.898608\n",
       "RH_7           4.663495\n",
       "T8             1.832304\n",
       "RH_8           4.976368\n",
       "T9             1.813200\n",
       "RH_9           3.973931\n",
       "T_out          4.615927\n",
       "Press_mm_hg    6.922218\n",
       "RH_out        13.365639\n",
       "Windspeed      2.279804\n",
       "Visibility     8.582396\n",
       "dtype: float64"
      ]
     },
     "execution_count": 12,
     "metadata": {},
     "output_type": "execute_result"
    }
   ],
   "source": [
    "# std() returns the standard deviation of each variable \n",
    "df_energy.std()"
   ]
  },
  {
   "cell_type": "markdown",
   "metadata": {
    "id": "2t-bxKeL7_Sj"
   },
   "source": [
    "**Interpretation:** As we can see that the variable 'lights' has a standard deviation of zero and thus, it will not contribute to our model. So, we will drop the column 'lights'. "
   ]
  },
  {
   "cell_type": "code",
   "execution_count": 13,
   "metadata": {
    "id": "XWiDUEb57_Sj"
   },
   "outputs": [],
   "source": [
    "# drop the column 'lights' using drop()\n",
    "# 'axis = 1' drops the specified column\n",
    "df_energy = df_energy.drop('lights', axis = 1)"
   ]
  },
  {
   "cell_type": "markdown",
   "metadata": {
    "id": "qAI-T1yx7_Sj"
   },
   "source": [
    "<a id=\"interaction\"></a>\n",
    "# 3. MLR Model with Interaction Effect"
   ]
  },
  {
   "cell_type": "markdown",
   "metadata": {
    "id": "7PayymMG7_Sj"
   },
   "source": [
    "Before considering the interaction effect, we build the full model on the original dataset."
   ]
  },
  {
   "cell_type": "markdown",
   "metadata": {
    "id": "knJL53Pn7_Sj"
   },
   "source": [
    "#### First, we build the model using the original data."
   ]
  },
  {
   "cell_type": "code",
   "execution_count": 14,
   "metadata": {
    "id": "FGlxW8kR7_Sk"
   },
   "outputs": [],
   "source": [
    "# create a copy of our dataframe 'df_energy'\n",
    "df_energy_cons = df_energy.copy()"
   ]
  },
  {
   "cell_type": "markdown",
   "metadata": {
    "id": "wi1xLS4g7_Sk"
   },
   "source": [
    "#### Split the data into training and test sets."
   ]
  },
  {
   "cell_type": "code",
   "execution_count": 15,
   "metadata": {
    "id": "GE1k7Bfs7_Sk",
    "outputId": "e6864006-5336-4dcf-f425-6d11805ac410"
   },
   "outputs": [
    {
     "name": "stdout",
     "output_type": "stream",
     "text": [
      "X_train (434, 24)\n",
      "y_train (434,)\n",
      "X_test (109, 24)\n",
      "y_test (109,)\n"
     ]
    }
   ],
   "source": [
    "# set of independent variables\n",
    "# drop the target variable using 'drop()'\n",
    "# 'axis = 1' drops the specified column\n",
    "X = df_energy_cons.drop('Appliances', axis = 1)\n",
    "\n",
    "# dependent variable\n",
    "y = df_energy_cons['Appliances']\n",
    "\n",
    "# to estimate the regression coefficient, a constant term of '1' needs to be added as a separate column\n",
    "# 'sm.add_constant' adds the intercept to the model\n",
    "X = sm.add_constant(X)\n",
    "\n",
    "# split data into train subset and test subset\n",
    "# set 'random_state' to generate the same dataset each time you run the code \n",
    "# 'test_size' returns the proportion of data to be included in the testing set\n",
    "X_train, X_test, y_train, y_test = train_test_split(X, y, random_state=1, test_size = 0.2)\n",
    "\n",
    "# check the dimensions of the train & test subset\n",
    "# print dimension of train set\n",
    "print('X_train', X_train.shape)\n",
    "print('y_train', y_train.shape)\n",
    "\n",
    "# print dimension of test set\n",
    "print('X_test', X_test.shape)\n",
    "print('y_test', y_test.shape)"
   ]
  },
  {
   "cell_type": "markdown",
   "metadata": {
    "id": "z7EdJcmy7_Sm"
   },
   "source": [
    "**Build the multiple linear regression model using the OLS method.**"
   ]
  },
  {
   "cell_type": "code",
   "execution_count": 16,
   "metadata": {
    "id": "PdT3XxPz7_Sn",
    "outputId": "de90ee36-3757-4d02-ea7b-ed5d2506d10b",
    "scrolled": false
   },
   "outputs": [
    {
     "name": "stdout",
     "output_type": "stream",
     "text": [
      "                            OLS Regression Results                            \n",
      "==============================================================================\n",
      "Dep. Variable:             Appliances   R-squared:                       0.352\n",
      "Model:                            OLS   Adj. R-squared:                  0.315\n",
      "Method:                 Least Squares   F-statistic:                     9.663\n",
      "Date:                Sun, 27 Aug 2023   Prob (F-statistic):           1.09e-26\n",
      "Time:                        11:09:36   Log-Likelihood:                -1942.0\n",
      "No. Observations:                 434   AIC:                             3932.\n",
      "Df Residuals:                     410   BIC:                             4030.\n",
      "Df Model:                          23                                         \n",
      "Covariance Type:            nonrobust                                         \n",
      "===============================================================================\n",
      "                  coef    std err          t      P>|t|      [0.025      0.975]\n",
      "-------------------------------------------------------------------------------\n",
      "const          30.5038    157.184      0.194      0.846    -278.484     339.492\n",
      "T1              1.6850      3.239      0.520      0.603      -4.683       8.053\n",
      "RH_1            5.7350      1.404      4.084      0.000       2.974       8.496\n",
      "T2             -7.0984      2.915     -2.435      0.015     -12.829      -1.368\n",
      "RH_2           -4.4119      1.387     -3.181      0.002      -7.139      -1.685\n",
      "T3              4.7152      1.865      2.528      0.012       1.049       8.382\n",
      "RH_3            0.0217      1.275      0.017      0.986      -2.485       2.528\n",
      "T4              3.2258      2.027      1.591      0.112      -0.759       7.210\n",
      "RH_4            1.0482      1.182      0.887      0.376      -1.275       3.372\n",
      "T5              0.2366      2.129      0.111      0.912      -3.949       4.422\n",
      "RH_5           -0.0046      0.275     -0.017      0.987      -0.546       0.537\n",
      "T6              1.4891      0.949      1.569      0.117      -0.377       3.355\n",
      "RH_6            0.0480      0.107      0.447      0.655      -0.163       0.259\n",
      "T7             -4.4128      2.288     -1.928      0.055      -8.911       0.086\n",
      "RH_7            0.5859      0.676      0.867      0.387      -0.743       1.915\n",
      "T8             11.1364      1.670      6.667      0.000       7.853      14.420\n",
      "RH_8           -2.9775      0.588     -5.061      0.000      -4.134      -1.821\n",
      "T9             -8.3401      3.044     -2.740      0.006     -14.324      -2.356\n",
      "RH_9           -0.8892      0.663     -1.341      0.181      -2.192       0.414\n",
      "T_out          -0.5231      1.100     -0.476      0.634      -2.685       1.638\n",
      "Press_mm_hg     0.0053      0.191      0.028      0.978      -0.371       0.381\n",
      "RH_out          0.0488      0.192      0.255      0.799      -0.328       0.426\n",
      "Windspeed       1.1656      0.592      1.969      0.050       0.002       2.329\n",
      "Visibility     -0.0091      0.129     -0.071      0.943      -0.262       0.244\n",
      "==============================================================================\n",
      "Omnibus:                      128.702   Durbin-Watson:                   1.935\n",
      "Prob(Omnibus):                  0.000   Jarque-Bera (JB):              428.410\n",
      "Skew:                           1.340   Prob(JB):                     9.37e-94\n",
      "Kurtosis:                       7.063   Cond. No.                     1.16e+05\n",
      "==============================================================================\n",
      "\n",
      "Notes:\n",
      "[1] Standard Errors assume that the covariance matrix of the errors is correctly specified.\n",
      "[2] The condition number is large, 1.16e+05. This might indicate that there are\n",
      "strong multicollinearity or other numerical problems.\n"
     ]
    }
   ],
   "source": [
    "# build a model on training dataset\n",
    "# fit() is used to fit the OLS model\n",
    "MLR_model = sm.OLS(y_train, X_train).fit()\n",
    "\n",
    "# print the summary output\n",
    "print(MLR_model.summary())"
   ]
  },
  {
   "cell_type": "markdown",
   "metadata": {
    "id": "Ba92Vc3W7_Sn"
   },
   "source": [
    "### Interaction Effect\n",
    "\n",
    "It occurs when the effect of one variable depends on the other variable. The combined effect of the variables may or may not improve the performance of the model.\n",
    "\n",
    "We consider the combined effect of the temperature outside the house and the outside humidity. (i.e. `T_out*RH_out`)."
   ]
  },
  {
   "cell_type": "code",
   "execution_count": 17,
   "metadata": {
    "id": "m7NCHVxk7_Sn",
    "outputId": "0356671b-e48c-44ab-8a9a-7207f4e5b958"
   },
   "outputs": [
    {
     "data": {
      "text/html": [
       "<div>\n",
       "<style scoped>\n",
       "    .dataframe tbody tr th:only-of-type {\n",
       "        vertical-align: middle;\n",
       "    }\n",
       "\n",
       "    .dataframe tbody tr th {\n",
       "        vertical-align: top;\n",
       "    }\n",
       "\n",
       "    .dataframe thead th {\n",
       "        text-align: right;\n",
       "    }\n",
       "</style>\n",
       "<table border=\"1\" class=\"dataframe\">\n",
       "  <thead>\n",
       "    <tr style=\"text-align: right;\">\n",
       "      <th></th>\n",
       "      <th>Appliances</th>\n",
       "      <th>T1</th>\n",
       "      <th>RH_1</th>\n",
       "      <th>T2</th>\n",
       "      <th>RH_2</th>\n",
       "      <th>T3</th>\n",
       "      <th>RH_3</th>\n",
       "      <th>T4</th>\n",
       "      <th>RH_4</th>\n",
       "      <th>T5</th>\n",
       "      <th>RH_5</th>\n",
       "      <th>T6</th>\n",
       "      <th>RH_6</th>\n",
       "      <th>T7</th>\n",
       "      <th>RH_7</th>\n",
       "      <th>T8</th>\n",
       "      <th>RH_8</th>\n",
       "      <th>T9</th>\n",
       "      <th>RH_9</th>\n",
       "      <th>T_out</th>\n",
       "      <th>Press_mm_hg</th>\n",
       "      <th>RH_out</th>\n",
       "      <th>Windspeed</th>\n",
       "      <th>Visibility</th>\n",
       "      <th>Temp*RH</th>\n",
       "    </tr>\n",
       "  </thead>\n",
       "  <tbody>\n",
       "    <tr>\n",
       "      <th>1</th>\n",
       "      <td>60</td>\n",
       "      <td>21.290000</td>\n",
       "      <td>37.863333</td>\n",
       "      <td>19.390000</td>\n",
       "      <td>39.663333</td>\n",
       "      <td>21.790000</td>\n",
       "      <td>36.700000</td>\n",
       "      <td>20.463333</td>\n",
       "      <td>37.526667</td>\n",
       "      <td>19.390000</td>\n",
       "      <td>43.200000</td>\n",
       "      <td>9.690000</td>\n",
       "      <td>30.333333</td>\n",
       "      <td>19.267500</td>\n",
       "      <td>32.095000</td>\n",
       "      <td>22.000000</td>\n",
       "      <td>39.223333</td>\n",
       "      <td>19.600000</td>\n",
       "      <td>38.826667</td>\n",
       "      <td>8.350000</td>\n",
       "      <td>761.800000</td>\n",
       "      <td>70.000000</td>\n",
       "      <td>3.500000</td>\n",
       "      <td>40.000000</td>\n",
       "      <td>584.500000</td>\n",
       "    </tr>\n",
       "    <tr>\n",
       "      <th>2</th>\n",
       "      <td>80</td>\n",
       "      <td>21.390000</td>\n",
       "      <td>35.790000</td>\n",
       "      <td>19.290000</td>\n",
       "      <td>37.700000</td>\n",
       "      <td>22.760000</td>\n",
       "      <td>34.290000</td>\n",
       "      <td>21.323333</td>\n",
       "      <td>34.730000</td>\n",
       "      <td>18.426667</td>\n",
       "      <td>43.826667</td>\n",
       "      <td>9.845000</td>\n",
       "      <td>24.750000</td>\n",
       "      <td>19.200000</td>\n",
       "      <td>29.200000</td>\n",
       "      <td>22.390000</td>\n",
       "      <td>37.290000</td>\n",
       "      <td>19.463333</td>\n",
       "      <td>35.500000</td>\n",
       "      <td>6.866667</td>\n",
       "      <td>762.333333</td>\n",
       "      <td>69.666667</td>\n",
       "      <td>3.000000</td>\n",
       "      <td>35.666667</td>\n",
       "      <td>478.377778</td>\n",
       "    </tr>\n",
       "    <tr>\n",
       "      <th>3</th>\n",
       "      <td>40</td>\n",
       "      <td>19.033333</td>\n",
       "      <td>41.826667</td>\n",
       "      <td>18.533333</td>\n",
       "      <td>41.290000</td>\n",
       "      <td>18.100000</td>\n",
       "      <td>43.790000</td>\n",
       "      <td>15.890000</td>\n",
       "      <td>47.530000</td>\n",
       "      <td>15.390000</td>\n",
       "      <td>51.030000</td>\n",
       "      <td>5.500000</td>\n",
       "      <td>99.900000</td>\n",
       "      <td>15.561111</td>\n",
       "      <td>40.138889</td>\n",
       "      <td>19.594444</td>\n",
       "      <td>51.062778</td>\n",
       "      <td>15.100000</td>\n",
       "      <td>46.760000</td>\n",
       "      <td>5.133333</td>\n",
       "      <td>769.583333</td>\n",
       "      <td>92.000000</td>\n",
       "      <td>4.833333</td>\n",
       "      <td>23.166667</td>\n",
       "      <td>472.266667</td>\n",
       "    </tr>\n",
       "    <tr>\n",
       "      <th>5</th>\n",
       "      <td>50</td>\n",
       "      <td>21.840000</td>\n",
       "      <td>42.745000</td>\n",
       "      <td>19.760000</td>\n",
       "      <td>45.430000</td>\n",
       "      <td>24.066667</td>\n",
       "      <td>39.723333</td>\n",
       "      <td>21.600000</td>\n",
       "      <td>40.218000</td>\n",
       "      <td>20.790000</td>\n",
       "      <td>49.790000</td>\n",
       "      <td>9.000000</td>\n",
       "      <td>53.193333</td>\n",
       "      <td>21.200000</td>\n",
       "      <td>36.500000</td>\n",
       "      <td>22.873333</td>\n",
       "      <td>46.900000</td>\n",
       "      <td>21.000000</td>\n",
       "      <td>45.590000</td>\n",
       "      <td>8.800000</td>\n",
       "      <td>745.500000</td>\n",
       "      <td>89.333333</td>\n",
       "      <td>4.333333</td>\n",
       "      <td>24.333333</td>\n",
       "      <td>786.133333</td>\n",
       "    </tr>\n",
       "    <tr>\n",
       "      <th>7</th>\n",
       "      <td>110</td>\n",
       "      <td>22.463333</td>\n",
       "      <td>39.260000</td>\n",
       "      <td>21.290000</td>\n",
       "      <td>39.530000</td>\n",
       "      <td>22.700000</td>\n",
       "      <td>37.700000</td>\n",
       "      <td>21.200000</td>\n",
       "      <td>38.626667</td>\n",
       "      <td>20.926667</td>\n",
       "      <td>44.693333</td>\n",
       "      <td>8.463333</td>\n",
       "      <td>39.800000</td>\n",
       "      <td>20.666667</td>\n",
       "      <td>32.790000</td>\n",
       "      <td>24.033333</td>\n",
       "      <td>38.360000</td>\n",
       "      <td>20.323333</td>\n",
       "      <td>38.000000</td>\n",
       "      <td>9.216667</td>\n",
       "      <td>753.366667</td>\n",
       "      <td>71.333333</td>\n",
       "      <td>3.666667</td>\n",
       "      <td>40.000000</td>\n",
       "      <td>657.455556</td>\n",
       "    </tr>\n",
       "  </tbody>\n",
       "</table>\n",
       "</div>"
      ],
      "text/plain": [
       "   Appliances        T1      RH_1        T2      RH_2        T3      RH_3  \\\n",
       "1          60 21.290000 37.863333 19.390000 39.663333 21.790000 36.700000   \n",
       "2          80 21.390000 35.790000 19.290000 37.700000 22.760000 34.290000   \n",
       "3          40 19.033333 41.826667 18.533333 41.290000 18.100000 43.790000   \n",
       "5          50 21.840000 42.745000 19.760000 45.430000 24.066667 39.723333   \n",
       "7         110 22.463333 39.260000 21.290000 39.530000 22.700000 37.700000   \n",
       "\n",
       "         T4      RH_4        T5      RH_5       T6      RH_6        T7  \\\n",
       "1 20.463333 37.526667 19.390000 43.200000 9.690000 30.333333 19.267500   \n",
       "2 21.323333 34.730000 18.426667 43.826667 9.845000 24.750000 19.200000   \n",
       "3 15.890000 47.530000 15.390000 51.030000 5.500000 99.900000 15.561111   \n",
       "5 21.600000 40.218000 20.790000 49.790000 9.000000 53.193333 21.200000   \n",
       "7 21.200000 38.626667 20.926667 44.693333 8.463333 39.800000 20.666667   \n",
       "\n",
       "       RH_7        T8      RH_8        T9      RH_9    T_out  Press_mm_hg  \\\n",
       "1 32.095000 22.000000 39.223333 19.600000 38.826667 8.350000   761.800000   \n",
       "2 29.200000 22.390000 37.290000 19.463333 35.500000 6.866667   762.333333   \n",
       "3 40.138889 19.594444 51.062778 15.100000 46.760000 5.133333   769.583333   \n",
       "5 36.500000 22.873333 46.900000 21.000000 45.590000 8.800000   745.500000   \n",
       "7 32.790000 24.033333 38.360000 20.323333 38.000000 9.216667   753.366667   \n",
       "\n",
       "     RH_out  Windspeed  Visibility    Temp*RH  \n",
       "1 70.000000   3.500000   40.000000 584.500000  \n",
       "2 69.666667   3.000000   35.666667 478.377778  \n",
       "3 92.000000   4.833333   23.166667 472.266667  \n",
       "5 89.333333   4.333333   24.333333 786.133333  \n",
       "7 71.333333   3.666667   40.000000 657.455556  "
      ]
     },
     "execution_count": 17,
     "metadata": {},
     "output_type": "execute_result"
    }
   ],
   "source": [
    "# create a copy of the original dataset\n",
    "df_interaction = df_energy.copy()\n",
    "\n",
    "# add the interaction variable in the original data\n",
    "df_interaction['Temp*RH'] = df_interaction['T_out']*df_interaction['RH_out'] \n",
    "\n",
    "# print the data with interaction\n",
    "df_interaction.head()"
   ]
  },
  {
   "cell_type": "markdown",
   "metadata": {
    "id": "a5RSamXX7_Sn"
   },
   "source": [
    "We build a multiple linear regression model considering all the original variables and the interaction variable."
   ]
  },
  {
   "cell_type": "markdown",
   "metadata": {
    "id": "GnSeeWi-7_Sn"
   },
   "source": [
    "**Split the data into training and test sets.**"
   ]
  },
  {
   "cell_type": "code",
   "execution_count": 18,
   "metadata": {
    "id": "MH-4NbDZ7_Sn",
    "outputId": "c32c3f24-901b-4033-8407-34d1ba10d469"
   },
   "outputs": [
    {
     "name": "stdout",
     "output_type": "stream",
     "text": [
      "X_train_inter (434, 25)\n",
      "y_train_inter (434,)\n",
      "X_test_inter (109, 25)\n",
      "y_test_inter (109,)\n"
     ]
    }
   ],
   "source": [
    "# dependent variable\n",
    "y_inter = df_interaction['Appliances']\n",
    "\n",
    "# set of independent variables\n",
    "# drop the target variable from 'df_interaction'\n",
    "X_inter = df_interaction.drop('Appliances', axis = 1)\n",
    "\n",
    "# to estimate the regression coefficient, a constant term of '1' needs to be added as a separate column\n",
    "# 'sm.add_constant' adds the intercept to the model\n",
    "X_inter = sm.add_constant(X_inter)\n",
    "\n",
    "# split data into train subset and test subset\n",
    "# set 'random_state' to generate the same dataset each time you run the code \n",
    "# 'test_size' returns the proportion of data to be included in the testing set\n",
    "X_train_inter, X_test_inter, y_train_inter, y_test_inter = train_test_split(X_inter, y_inter, random_state=1, test_size = 0.2)\n",
    "\n",
    "# checking the dimensions of the train & test subset\n",
    "# print dimension of train set\n",
    "print('X_train_inter', X_train_inter.shape)\n",
    "print('y_train_inter', y_train_inter.shape)\n",
    "\n",
    "# print dimension of test set\n",
    "print('X_test_inter', X_test_inter.shape)\n",
    "print('y_test_inter', y_test_inter.shape)"
   ]
  },
  {
   "cell_type": "markdown",
   "metadata": {
    "id": "l7QVLzY47_Sn"
   },
   "source": [
    "**Build the model using OLS method.**"
   ]
  },
  {
   "cell_type": "code",
   "execution_count": 19,
   "metadata": {
    "id": "8m-hN4l27_Sn",
    "outputId": "bfce42f8-b4c2-4b95-cc4c-0af125fc5d80"
   },
   "outputs": [
    {
     "name": "stdout",
     "output_type": "stream",
     "text": [
      "                            OLS Regression Results                            \n",
      "==============================================================================\n",
      "Dep. Variable:             Appliances   R-squared:                       0.367\n",
      "Model:                            OLS   Adj. R-squared:                  0.330\n",
      "Method:                 Least Squares   F-statistic:                     9.899\n",
      "Date:                Sun, 27 Aug 2023   Prob (F-statistic):           3.46e-28\n",
      "Time:                        11:09:37   Log-Likelihood:                -1936.6\n",
      "No. Observations:                 434   AIC:                             3923.\n",
      "Df Residuals:                     409   BIC:                             4025.\n",
      "Df Model:                          24                                         \n",
      "Covariance Type:            nonrobust                                         \n",
      "===============================================================================\n",
      "                  coef    std err          t      P>|t|      [0.025      0.975]\n",
      "-------------------------------------------------------------------------------\n",
      "const        -109.7102    161.459     -0.679      0.497    -427.102     207.682\n",
      "T1              0.6963      3.218      0.216      0.829      -5.629       7.022\n",
      "RH_1            5.6810      1.389      4.091      0.000       2.951       8.411\n",
      "T2             -6.6398      2.886     -2.301      0.022     -12.313      -0.966\n",
      "RH_2           -3.7773      1.386     -2.726      0.007      -6.502      -1.053\n",
      "T3              5.8946      1.881      3.134      0.002       2.198       9.591\n",
      "RH_3           -0.3327      1.266     -0.263      0.793      -2.821       2.155\n",
      "T4              3.6537      2.009      1.819      0.070      -0.295       7.603\n",
      "RH_4            0.9949      1.169      0.851      0.395      -1.303       3.293\n",
      "T5             -0.4402      2.116     -0.208      0.835      -4.600       3.719\n",
      "RH_5            0.1279      0.275      0.465      0.643      -0.413       0.669\n",
      "T6              1.5760      0.939      1.679      0.094      -0.270       3.422\n",
      "RH_6            0.1246      0.109      1.147      0.252      -0.089       0.338\n",
      "T7             -4.1496      2.264     -1.833      0.068      -8.601       0.302\n",
      "RH_7            0.5164      0.669      0.772      0.440      -0.798       1.831\n",
      "T8             11.3395      1.653      6.860      0.000       8.090      14.589\n",
      "RH_8           -3.1046      0.583     -5.325      0.000      -4.251      -1.958\n",
      "T9             -8.7888      3.014     -2.916      0.004     -14.713      -2.865\n",
      "RH_9           -0.9362      0.656     -1.428      0.154      -2.225       0.353\n",
      "T_out           4.4545      1.894      2.351      0.019       0.730       8.179\n",
      "Press_mm_hg     0.1144      0.192      0.596      0.552      -0.263       0.492\n",
      "RH_out          0.5047      0.237      2.130      0.034       0.039       0.970\n",
      "Windspeed       1.4882      0.594      2.506      0.013       0.321       2.656\n",
      "Visibility     -0.0591      0.128     -0.461      0.645      -0.311       0.193\n",
      "Temp*RH        -0.0625      0.019     -3.209      0.001      -0.101      -0.024\n",
      "==============================================================================\n",
      "Omnibus:                      129.403   Durbin-Watson:                   1.883\n",
      "Prob(Omnibus):                  0.000   Jarque-Bera (JB):              439.209\n",
      "Skew:                           1.340   Prob(JB):                     4.24e-96\n",
      "Kurtosis:                       7.136   Cond. No.                     1.50e+05\n",
      "==============================================================================\n",
      "\n",
      "Notes:\n",
      "[1] Standard Errors assume that the covariance matrix of the errors is correctly specified.\n",
      "[2] The condition number is large, 1.5e+05. This might indicate that there are\n",
      "strong multicollinearity or other numerical problems.\n"
     ]
    }
   ],
   "source": [
    "# build a model on training dataset\n",
    "# fit() is used to fit the OLS model\n",
    "MLR_model_with_interaction = sm.OLS(y_train_inter, X_train_inter).fit()\n",
    "\n",
    "# print the summary output\n",
    "print(MLR_model_with_interaction.summary())"
   ]
  },
  {
   "cell_type": "markdown",
   "metadata": {
    "id": "BPPFaX0n7_Sn"
   },
   "source": [
    "**Interpretation:** The model with the interaction variable explains a 36.7% variation in the target variable. Thus, adding the interaction effect to the model has increased the R-squared from 0.352 to 0.367. \n",
    "\n",
    "The `Durbin-Watson` test is used to check the autocorrelation between the residuals.\n",
    "\n",
    "If the Durbin-Watson test statistic is near to 2: no autocorrelation<br>\n",
    "If the Durbin-Watson test statistic is between 0 and 2: positive autocorrelation <br>\n",
    "If the Durbin-Watson test statistic is between 2 and 4: negative autocorrelation\n",
    "\n",
    "The summary output shows that the value of the test statistic is near to 2 (=1.883) which means there is no autocorrelation.\n",
    "\n",
    "The `Jarque-Bera` test is used to check the normality of the residuals. Here, the p-value of the test is less than 0.05; that implies the residuals are not normally distributed.\n",
    "\n",
    "The 'Cond. No' (1.5e+05) represents the `Condition Number (CN)` which is used to check the multicollinearity. \n",
    "\n",
    "If CN < 100: no multicollinearity<br>\n",
    "If CN is between 100 and 1000: moderate multicollinearity<br>\n",
    "If CN > 1000: severe multicollinearity\n",
    "\n",
    "Thus, it can be seen that there is severe multicollinearity in the data.\n",
    "\n",
    "Here the interaction model does not satisfy the assumption of normality of residuals. In order to satisfy this assumption, we can use different types of transformation techniques."
   ]
  },
  {
   "cell_type": "markdown",
   "metadata": {
    "id": "9gfPUzY57_So"
   },
   "source": [
    "<a id=\"def\"></a>\n",
    "# 4. What is Transformation?"
   ]
  },
  {
   "cell_type": "markdown",
   "metadata": {
    "id": "P6JnOeBb7_So"
   },
   "source": [
    "Transformation is a process that can be used to change the scale of the original data to get more accurate results. \n",
    "\n",
    "The transformed data can be used to satisfy the assumptions of linear regression, which were not satisfied earlier with the original data."
   ]
  },
  {
   "cell_type": "markdown",
   "metadata": {
    "id": "0LphhE4T7_So"
   },
   "source": [
    "<a id=\"types\"></a>\n",
    "## 4.1 Types of Transformations"
   ]
  },
  {
   "cell_type": "markdown",
   "metadata": {
    "id": "sMryF7z27_So"
   },
   "source": [
    "Let us learn about the different types of transformations:"
   ]
  },
  {
   "cell_type": "markdown",
   "metadata": {
    "id": "1wvGYc4Y7_So"
   },
   "source": [
    "<a id=\"sqr\"></a>\n",
    "### 4.1.1 Square Root Transformation\n",
    "\n",
    "This transformation is used to reduce the skewness in the data. We can transform the target and/or independent variables by taking its square root. It can be used on the data containing zero values. The bivariate regression model after transforming observed values of target variable is given as:\n",
    "\n",
    "<p style='text-indent:28em'> <strong> sqrt(y) = β<sub>0</sub> + β<sub>1</sub>x  </strong> </p>"
   ]
  },
  {
   "cell_type": "markdown",
   "metadata": {
    "id": "uxDGcngC7_So"
   },
   "source": [
    "Let us apply square root transformation on y_train_inter. "
   ]
  },
  {
   "cell_type": "code",
   "execution_count": 20,
   "metadata": {
    "id": "ZevpKn8p7_So",
    "outputId": "a34720b8-e45a-4547-c16d-308feb2a3cbe"
   },
   "outputs": [
    {
     "data": {
      "text/plain": [
       "559    7.071068\n",
       "488   10.000000\n",
       "791    7.071068\n",
       "862    5.477226\n",
       "583    7.745967\n",
       "Name: Appliances, dtype: float64"
      ]
     },
     "execution_count": 20,
     "metadata": {},
     "output_type": "execute_result"
    }
   ],
   "source": [
    "# perform the square root transformation on y_train_inter and display the top 5 observations\n",
    "np.sqrt(y_train_inter).head()"
   ]
  },
  {
   "cell_type": "markdown",
   "metadata": {
    "id": "zh4hBKxo7_So"
   },
   "source": [
    "<a id=\"rec\"></a>\n",
    "### 4.1.2 Reciprocal Transformation\n",
    "\n",
    "Transform the target and/or independent variables by taking its reciprocal. This transformation changes the distribution of the variable drastically. We can not perform the transformation on the data containing zero values. The bivariate regression model after transforming observed values of target variable is given as:\n",
    "\n",
    "<p style='text-indent:28em'> <strong> 1/y = β<sub>0</sub> + β<sub>1</sub>x  </strong> </p>"
   ]
  },
  {
   "cell_type": "markdown",
   "metadata": {
    "id": "vElPwCEG7_So"
   },
   "source": [
    "Let us apply reciprocal transformation on y_train_inter. "
   ]
  },
  {
   "cell_type": "code",
   "execution_count": 21,
   "metadata": {
    "id": "u_P2n0467_Sp",
    "outputId": "bbf1595b-d88b-4b37-ad8b-33a6362951a3"
   },
   "outputs": [
    {
     "data": {
      "text/plain": [
       "559   0.020000\n",
       "488   0.010000\n",
       "791   0.020000\n",
       "862   0.033333\n",
       "583   0.016667\n",
       "Name: Appliances, dtype: float64"
      ]
     },
     "execution_count": 21,
     "metadata": {},
     "output_type": "execute_result"
    }
   ],
   "source": [
    "# perform the reciprocal transformation on y_train_inter and display the top 5 observations\n",
    "(1 / y_train_inter).head()"
   ]
  },
  {
   "cell_type": "markdown",
   "metadata": {
    "id": "9-PnwUaD7_Sp"
   },
   "source": [
    "<a id=\"log\"></a>\n",
    "### 4.1.3 Log Transformation\n",
    "\n",
    "Transform the target and/or independent variables by applying a log on the original data to reduce the skewness. We can not apply log transformation on the data containing zero values. The bivariate regression model after transforming observed values of target variable is given as:\n",
    "<p style='text-indent:28em'> <strong> log(y) = β<sub>0</sub> + β<sub>1</sub>x  </strong> </p>"
   ]
  },
  {
   "cell_type": "code",
   "execution_count": 22,
   "metadata": {
    "id": "AhAGqGgb7_Sp",
    "outputId": "75a76e49-5a7e-44c4-fc5b-803b11fdbafd"
   },
   "outputs": [
    {
     "data": {
      "text/plain": [
       "559   3.912023\n",
       "488   4.605170\n",
       "791   3.912023\n",
       "862   3.401197\n",
       "583   4.094345\n",
       "Name: Appliances, dtype: float64"
      ]
     },
     "execution_count": 22,
     "metadata": {},
     "output_type": "execute_result"
    }
   ],
   "source": [
    "# perform the log transformation on y_train_inter and display the top 5 observations\n",
    "np.log(y_train_inter).head()"
   ]
  },
  {
   "cell_type": "markdown",
   "metadata": {
    "id": "lL61dkk_7_Sp"
   },
   "source": [
    "<a id=\"box\"></a>\n",
    "### 4.1.4 Box-Cox Transformation\n",
    "\n",
    "It is a generalized version of log transformation.\n",
    "It makes the variable more symmetrical by reducing its skewness. The transformation is given as:<br>\n",
    "\n",
    "<p style='text-indent:30em'> <strong> y<sup>'</sup><sub>λ</sub> = (y<sup>λ</sup> -1) / λ   </strong> </p>\n",
    "\n",
    "λ > 1, reduces the negative skewness in the variable and makes it more symmetrical<br>\n",
    "λ < 1, reduces the positive skewness in the variable and makes it more symmetrical<br>\n",
    "λ = 1, shifts the variable to the left by 1\n",
    "\n",
    "The bivariate regression model after transforming observed values of target variable is given as:\n",
    "\n",
    "<p style='text-indent:30em'> <strong> y<sup>λ</sup> = β<sub>0</sub> + β<sub>1</sub>x  </strong> </p>"
   ]
  },
  {
   "cell_type": "code",
   "execution_count": 23,
   "metadata": {
    "id": "Z6C4Q28D7_Sp",
    "outputId": "676c86fa-2841-454a-f4c0-6d9dd57c8f73"
   },
   "outputs": [
    {
     "data": {
      "text/plain": [
       "array([3.40643809, 3.91560106, 3.40643809, 3.01449127, 3.54285384])"
      ]
     },
     "execution_count": 23,
     "metadata": {},
     "output_type": "execute_result"
    }
   ],
   "source": [
    "# perform the box-cox transformation on y_train_inter and display the top 5 observations\n",
    "# '[0]' returns the transformed values of y_train_inter\n",
    "# use '[0:5]' to print the first five transformed values\n",
    "stats.boxcox(y_train_inter)[0][0:5]"
   ]
  },
  {
   "cell_type": "markdown",
   "metadata": {
    "id": "MCt7ndUo7_Sp"
   },
   "source": [
    "<a id=\"after\"></a>\n",
    "## 4.2 Model Performance after Transformation"
   ]
  },
  {
   "cell_type": "markdown",
   "metadata": {
    "id": "kANzB-fA7_Sp"
   },
   "source": [
    "#### Consider the interaction model build in section 3."
   ]
  },
  {
   "cell_type": "code",
   "execution_count": 24,
   "metadata": {
    "id": "S5nU-DHt7_Sp",
    "outputId": "b67d1070-ab4d-4bbe-c5ea-5b64d3ffe2fc"
   },
   "outputs": [
    {
     "name": "stdout",
     "output_type": "stream",
     "text": [
      "                            OLS Regression Results                            \n",
      "==============================================================================\n",
      "Dep. Variable:             Appliances   R-squared:                       0.367\n",
      "Model:                            OLS   Adj. R-squared:                  0.330\n",
      "Method:                 Least Squares   F-statistic:                     9.899\n",
      "Date:                Sun, 27 Aug 2023   Prob (F-statistic):           3.46e-28\n",
      "Time:                        11:09:37   Log-Likelihood:                -1936.6\n",
      "No. Observations:                 434   AIC:                             3923.\n",
      "Df Residuals:                     409   BIC:                             4025.\n",
      "Df Model:                          24                                         \n",
      "Covariance Type:            nonrobust                                         \n",
      "===============================================================================\n",
      "                  coef    std err          t      P>|t|      [0.025      0.975]\n",
      "-------------------------------------------------------------------------------\n",
      "const        -109.7102    161.459     -0.679      0.497    -427.102     207.682\n",
      "T1              0.6963      3.218      0.216      0.829      -5.629       7.022\n",
      "RH_1            5.6810      1.389      4.091      0.000       2.951       8.411\n",
      "T2             -6.6398      2.886     -2.301      0.022     -12.313      -0.966\n",
      "RH_2           -3.7773      1.386     -2.726      0.007      -6.502      -1.053\n",
      "T3              5.8946      1.881      3.134      0.002       2.198       9.591\n",
      "RH_3           -0.3327      1.266     -0.263      0.793      -2.821       2.155\n",
      "T4              3.6537      2.009      1.819      0.070      -0.295       7.603\n",
      "RH_4            0.9949      1.169      0.851      0.395      -1.303       3.293\n",
      "T5             -0.4402      2.116     -0.208      0.835      -4.600       3.719\n",
      "RH_5            0.1279      0.275      0.465      0.643      -0.413       0.669\n",
      "T6              1.5760      0.939      1.679      0.094      -0.270       3.422\n",
      "RH_6            0.1246      0.109      1.147      0.252      -0.089       0.338\n",
      "T7             -4.1496      2.264     -1.833      0.068      -8.601       0.302\n",
      "RH_7            0.5164      0.669      0.772      0.440      -0.798       1.831\n",
      "T8             11.3395      1.653      6.860      0.000       8.090      14.589\n",
      "RH_8           -3.1046      0.583     -5.325      0.000      -4.251      -1.958\n",
      "T9             -8.7888      3.014     -2.916      0.004     -14.713      -2.865\n",
      "RH_9           -0.9362      0.656     -1.428      0.154      -2.225       0.353\n",
      "T_out           4.4545      1.894      2.351      0.019       0.730       8.179\n",
      "Press_mm_hg     0.1144      0.192      0.596      0.552      -0.263       0.492\n",
      "RH_out          0.5047      0.237      2.130      0.034       0.039       0.970\n",
      "Windspeed       1.4882      0.594      2.506      0.013       0.321       2.656\n",
      "Visibility     -0.0591      0.128     -0.461      0.645      -0.311       0.193\n",
      "Temp*RH        -0.0625      0.019     -3.209      0.001      -0.101      -0.024\n",
      "==============================================================================\n",
      "Omnibus:                      129.403   Durbin-Watson:                   1.883\n",
      "Prob(Omnibus):                  0.000   Jarque-Bera (JB):              439.209\n",
      "Skew:                           1.340   Prob(JB):                     4.24e-96\n",
      "Kurtosis:                       7.136   Cond. No.                     1.50e+05\n",
      "==============================================================================\n",
      "\n",
      "Notes:\n",
      "[1] Standard Errors assume that the covariance matrix of the errors is correctly specified.\n",
      "[2] The condition number is large, 1.5e+05. This might indicate that there are\n",
      "strong multicollinearity or other numerical problems.\n"
     ]
    }
   ],
   "source": [
    "# print the summary of the interaction model\n",
    "print(MLR_model_with_interaction.summary())"
   ]
  },
  {
   "cell_type": "markdown",
   "metadata": {
    "id": "xfRrbOte7_Sp"
   },
   "source": [
    "### Check the Assumption of Autocorrelation"
   ]
  },
  {
   "cell_type": "markdown",
   "metadata": {
    "id": "k9wRBkYX7_Sq"
   },
   "source": [
    "We can check the correlation between the residuals using the `Durbin-Watson` test. The value of the test statistic ranges from 0 to 4. The test statistic value near to 2, represents no autocorrelation. The value of the test statistic between 0 and 2 implies positive autocorrelation and the value between 2 and 4 implies negative autocorrelation.\n",
    "\n",
    "Print the summary of the model with significant variables to check the autocorrelation."
   ]
  },
  {
   "cell_type": "markdown",
   "metadata": {
    "id": "I1OlAdRx7_Sq"
   },
   "source": [
    "**Interpretation:** From the above summary, we can observe that the value obtained from the `Durbin-Watson` test statistic is close to 2 (= 1.883). Thus, we conclude that there is no autocorrelation."
   ]
  },
  {
   "cell_type": "markdown",
   "metadata": {
    "id": "EI2wTgKm7_Sq"
   },
   "source": [
    "### Check the Normality of Residuals"
   ]
  },
  {
   "cell_type": "markdown",
   "metadata": {
    "id": "Byb-xPmc7_Sq"
   },
   "source": [
    "Check the normality of residuals before transforming the target variable."
   ]
  },
  {
   "cell_type": "code",
   "execution_count": 25,
   "metadata": {
    "id": "nmTSPs_M7_Sq",
    "outputId": "529aa5ad-ebee-4e9f-a2c9-9a8ff3fef17a"
   },
   "outputs": [
    {
     "name": "stdout",
     "output_type": "stream",
     "text": [
      "Skewness of the residuals:  1.3444458448135543\n"
     ]
    }
   ],
   "source": [
    "# plot a distplot for the residuals\n",
    "sns.distplot(MLR_model_with_interaction.resid)\n",
    "\n",
    "# add plot and axis labels\n",
    "# set text size using 'fontsize'\n",
    "plt.title('Distribution of Residuals', fontsize = 15)\n",
    "plt.xlabel('Residuals', fontsize = 15)\n",
    "plt.ylabel('Density', fontsize = 15)\n",
    "\n",
    "# print the skewness of the residuals\n",
    "print(\"Skewness of the residuals: \", MLR_model_with_interaction.resid.skew())"
   ]
  },
  {
   "cell_type": "markdown",
   "metadata": {
    "id": "8K0bThOx7_Sq"
   },
   "source": [
    "We can see that the distribution of the residuals is positively skewed. Thus, we will apply a log transformation to the target variable."
   ]
  },
  {
   "cell_type": "markdown",
   "metadata": {
    "id": "LJHqkLrW7_Sq"
   },
   "source": [
    "#### Interpretation of coefficient of skewness\n",
    "If the value of:<br>\n",
    "skewness < 0 implies negative skewness<br>\n",
    "skewness > 0 implies positive skewness<br>\n",
    "skewness = 0 implies no skewness (perfect normal distribution)<br>"
   ]
  },
  {
   "cell_type": "code",
   "execution_count": 26,
   "metadata": {
    "id": "ZUrEu0sV7_Sq",
    "outputId": "9e0ad776-0938-4b73-ecd6-216d91ec9a27"
   },
   "outputs": [
    {
     "data": {
      "image/png": "[encoded data removed]",
      "text/plain": [
       "<Figure size 1500x800 with 1 Axes>"
      ]
     },
     "metadata": {},
     "output_type": "display_data"
    },
    {
     "data": {
      "image/png": "[encoded data removed]",
      "text/plain": [
       "<Figure size 1500x800 with 1 Axes>"
      ]
     },
     "metadata": {},
     "output_type": "display_data"
    }
   ],
   "source": [
    "# plot the Q-Q plot\n",
    "# 'r' represents the regression line\n",
    "qqplot(MLR_model_with_interaction.resid, line = 'r')\n",
    "\n",
    "# set plot and axes labels\n",
    "# set text size using 'fontsize'\n",
    "plt.title('Q-Q Plot', fontsize = 15)\n",
    "plt.xlabel('Theoretical Quantiles', fontsize = 15)\n",
    "plt.ylabel('Sample Quantiles', fontsize = 15)\n",
    "\n",
    "# display the plot\n",
    "plt.show()"
   ]
  },
  {
   "cell_type": "markdown",
   "metadata": {
    "id": "GUDHBFeb7_Sq"
   },
   "source": [
    "**Interpretation** Here we can see that the residuals are not normally distributed. The value of skewness is 1.3444. We will log transform the target variable and see if this reduces the skewness."
   ]
  },
  {
   "cell_type": "markdown",
   "metadata": {
    "id": "-cN-nfzM7_Sq"
   },
   "source": [
    "**Build the multiple linear regression model using the OLS method after transforming the target variable using square-root transformation.**"
   ]
  },
  {
   "cell_type": "code",
   "execution_count": 27,
   "metadata": {
    "id": "inarzjXU7_Sq",
    "outputId": "513e938f-9173-4834-a351-3b435fb958b3"
   },
   "outputs": [
    {
     "name": "stdout",
     "output_type": "stream",
     "text": [
      "                            OLS Regression Results                            \n",
      "==============================================================================\n",
      "Dep. Variable:             Appliances   R-squared:                       0.373\n",
      "Model:                            OLS   Adj. R-squared:                  0.336\n",
      "Method:                 Least Squares   F-statistic:                     10.13\n",
      "Date:                Sun, 27 Aug 2023   Prob (F-statistic):           6.90e-29\n",
      "Time:                        11:09:37   Log-Likelihood:                -707.66\n",
      "No. Observations:                 434   AIC:                             1465.\n",
      "Df Residuals:                     409   BIC:                             1567.\n",
      "Df Model:                          24                                         \n",
      "Covariance Type:            nonrobust                                         \n",
      "===============================================================================\n",
      "                  coef    std err          t      P>|t|      [0.025      0.975]\n",
      "-------------------------------------------------------------------------------\n",
      "const          -0.6276      9.513     -0.066      0.947     -19.328      18.072\n",
      "T1              0.0132      0.190      0.070      0.944      -0.359       0.386\n",
      "RH_1            0.3209      0.082      3.922      0.000       0.160       0.482\n",
      "T2             -0.3433      0.170     -2.019      0.044      -0.678      -0.009\n",
      "RH_2           -0.2065      0.082     -2.530      0.012      -0.367      -0.046\n",
      "T3              0.3278      0.111      2.958      0.003       0.110       0.546\n",
      "RH_3           -0.0289      0.075     -0.388      0.698      -0.176       0.118\n",
      "T4              0.2361      0.118      1.995      0.047       0.003       0.469\n",
      "RH_4            0.0563      0.069      0.817      0.414      -0.079       0.192\n",
      "T5             -0.0562      0.125     -0.451      0.652      -0.301       0.189\n",
      "RH_5            0.0089      0.016      0.547      0.585      -0.023       0.041\n",
      "T6              0.0909      0.055      1.643      0.101      -0.018       0.200\n",
      "RH_6            0.0063      0.006      0.986      0.325      -0.006       0.019\n",
      "T7             -0.2450      0.133     -1.837      0.067      -0.507       0.017\n",
      "RH_7            0.0330      0.039      0.837      0.403      -0.044       0.110\n",
      "T8              0.6804      0.097      6.986      0.000       0.489       0.872\n",
      "RH_8           -0.1789      0.034     -5.207      0.000      -0.246      -0.111\n",
      "T9             -0.4804      0.178     -2.706      0.007      -0.829      -0.131\n",
      "RH_9           -0.0497      0.039     -1.286      0.199      -0.126       0.026\n",
      "T_out           0.2182      0.112      1.955      0.051      -0.001       0.438\n",
      "Press_mm_hg     0.0039      0.011      0.345      0.730      -0.018       0.026\n",
      "RH_out          0.0247      0.014      1.768      0.078      -0.003       0.052\n",
      "Windspeed       0.0847      0.035      2.421      0.016       0.016       0.154\n",
      "Visibility     -0.0031      0.008     -0.409      0.683      -0.018       0.012\n",
      "Temp*RH        -0.0033      0.001     -2.885      0.004      -0.006      -0.001\n",
      "==============================================================================\n",
      "Omnibus:                       56.772   Durbin-Watson:                   1.903\n",
      "Prob(Omnibus):                  0.000   Jarque-Bera (JB):              119.099\n",
      "Skew:                           0.717   Prob(JB):                     1.37e-26\n",
      "Kurtosis:                       5.129   Cond. No.                     1.50e+05\n",
      "==============================================================================\n",
      "\n",
      "Notes:\n",
      "[1] Standard Errors assume that the covariance matrix of the errors is correctly specified.\n",
      "[2] The condition number is large, 1.5e+05. This might indicate that there are\n",
      "strong multicollinearity or other numerical problems.\n"
     ]
    }
   ],
   "source": [
    "# build a model on training dataset\n",
    "# fit() is used to fit the OLS model\n",
    "# use log transformation of y_train \n",
    "MLR_model_after_transform = sm.OLS(np.sqrt(y_train_inter), X_train_inter).fit()\n",
    "\n",
    "# print the summary output\n",
    "print(MLR_model_after_transform.summary())"
   ]
  },
  {
   "cell_type": "markdown",
   "metadata": {
    "id": "tWqd-zDi7_Sr"
   },
   "source": [
    "**Interpretation** The value of R-Squared has increased from 0.367 to 0.373 and the value of Adjusted R-Squared has increased from 0.330 to 0.336. "
   ]
  },
  {
   "cell_type": "markdown",
   "metadata": {
    "id": "UDYJa01K7_Sr"
   },
   "source": [
    "Check the normality of residuals after transforming the target variable."
   ]
  },
  {
   "cell_type": "code",
   "execution_count": 28,
   "metadata": {
    "id": "nkWIyJ3P7_Sr",
    "outputId": "fcabd8ce-2de5-4e5e-a899-094d46847a55"
   },
   "outputs": [
    {
     "name": "stdout",
     "output_type": "stream",
     "text": [
      "Skewness of the residuals:  0.7192658722925195\n"
     ]
    }
   ],
   "source": [
    "# plot a distplot for the residuals\n",
    "sns.distplot(MLR_model_after_transform.resid)\n",
    "\n",
    "# add plot and axis labels\n",
    "# set text size using 'fontsize'\n",
    "plt.title('Distribution of Residuals', fontsize = 15)\n",
    "plt.xlabel('Residuals', fontsize = 15)\n",
    "plt.ylabel('Density', fontsize = 15)\n",
    "\n",
    "# print the skewness of the residuals\n",
    "print(\"Skewness of the residuals: \", MLR_model_after_transform.resid.skew())"
   ]
  },
  {
   "cell_type": "code",
   "execution_count": 29,
   "metadata": {
    "id": "e0rL_r5M7_Sr",
    "outputId": "bb2a9e77-3e1c-4452-dcf1-4b74d6418df9"
   },
   "outputs": [
    {
     "data": {
      "image/png": "[encoded data removed]",
      "text/plain": [
       "<Figure size 1500x800 with 1 Axes>"
      ]
     },
     "metadata": {},
     "output_type": "display_data"
    },
    {
     "data": {
      "image/png": "[encoded data removed]",
      "text/plain": [
       "<Figure size 1500x800 with 1 Axes>"
      ]
     },
     "metadata": {},
     "output_type": "display_data"
    }
   ],
   "source": [
    "# plot the Q-Q plot\n",
    "# 'r' represents the regression line\n",
    "qqplot(MLR_model_after_transform.resid, line = 'r')\n",
    "\n",
    "# set plot and axes labels\n",
    "# set text size using 'fontsize'\n",
    "plt.title('Q-Q Plot', fontsize = 15)\n",
    "plt.xlabel('Theoretical Quantiles', fontsize = 15)\n",
    "plt.ylabel('Sample Quantiles', fontsize = 15)\n",
    "\n",
    "# display the plot\n",
    "plt.show()"
   ]
  },
  {
   "cell_type": "markdown",
   "metadata": {
    "id": "QIAMD7j_7_Sr"
   },
   "source": [
    "After transforming the target variable, the skewness reduced to 0.7193. We can see that most of the points in the Q-Q plot are near the red line."
   ]
  },
  {
   "cell_type": "markdown",
   "metadata": {
    "id": "NJ101Z1a7_Sr"
   },
   "source": [
    "<a id=\"step\"></a>\n",
    "# 5. Stepwise Regression"
   ]
  },
  {
   "cell_type": "markdown",
   "metadata": {
    "id": "FAvkNL5z7_Sr"
   },
   "source": [
    "All the variables in the dataset may not have a significant effect on the target variable. \n",
    "\n",
    "Stepwise regression is a process that selects the most important features (independent variables) in the dataset by removing or adding a variable at every step in the regression. In this section we study two approaches to perform stepwise regression:\n",
    "\n",
    "1. Forward Selection\n",
    "2. Backward Elimination"
   ]
  },
  {
   "cell_type": "markdown",
   "metadata": {
    "id": "nBY0U3Bu7_Sr"
   },
   "source": [
    "<a id=\"for\"></a>\n",
    "## 5.1 Forward Selection\n",
    "\n",
    "This method considers the null model (model with no predictors) in the first step. In the next steps start adding one variable at each step until we run out of the independent variables or the stopping rule is achieved. \n",
    "\n",
    "The variable is added based on its correlation with the target variable. Such a variable has the least p-value in the model."
   ]
  },
  {
   "cell_type": "code",
   "execution_count": 30,
   "metadata": {
    "id": "3EJX0GxS7_Sr",
    "outputId": "a72c3eac-e469-4f55-ecd5-b75e54909a51",
    "scrolled": false
   },
   "outputs": [
    {
     "name": "stderr",
     "output_type": "stream",
     "text": [
      "[Parallel(n_jobs=1)]: Using backend SequentialBackend with 1 concurrent workers.\n",
      "[Parallel(n_jobs=1)]: Done   1 out of   1 | elapsed:    0.0s remaining:    0.0s\n",
      "[Parallel(n_jobs=1)]: Done  25 out of  25 | elapsed:    0.3s finished\n",
      "\n",
      "[2023-08-27 11:09:39] Features: 1/12 -- score: 0.13316975273707785[Parallel(n_jobs=1)]: Using backend SequentialBackend with 1 concurrent workers.\n",
      "[Parallel(n_jobs=1)]: Done   1 out of   1 | elapsed:    0.0s remaining:    0.0s\n",
      "[Parallel(n_jobs=1)]: Done  24 out of  24 | elapsed:    0.4s finished\n",
      "\n",
      "[2023-08-27 11:09:39] Features: 2/12 -- score: 0.15686411972888012[Parallel(n_jobs=1)]: Using backend SequentialBackend with 1 concurrent workers.\n",
      "[Parallel(n_jobs=1)]: Done   1 out of   1 | elapsed:    0.0s remaining:    0.0s\n",
      "[Parallel(n_jobs=1)]: Done  23 out of  23 | elapsed:    0.3s finished\n",
      "\n",
      "[2023-08-27 11:09:40] Features: 3/12 -- score: 0.19323131256265594[Parallel(n_jobs=1)]: Using backend SequentialBackend with 1 concurrent workers.\n",
      "[Parallel(n_jobs=1)]: Done   1 out of   1 | elapsed:    0.0s remaining:    0.0s\n",
      "[Parallel(n_jobs=1)]: Done  22 out of  22 | elapsed:    0.3s finished\n",
      "\n",
      "[2023-08-27 11:09:40] Features: 4/12 -- score: 0.2203503973309639[Parallel(n_jobs=1)]: Using backend SequentialBackend with 1 concurrent workers.\n",
      "[Parallel(n_jobs=1)]: Done   1 out of   1 | elapsed:    0.0s remaining:    0.0s\n",
      "[Parallel(n_jobs=1)]: Done  21 out of  21 | elapsed:    0.2s finished\n",
      "\n",
      "[2023-08-27 11:09:40] Features: 5/12 -- score: 0.2589570236922536[Parallel(n_jobs=1)]: Using backend SequentialBackend with 1 concurrent workers.\n",
      "[Parallel(n_jobs=1)]: Done   1 out of   1 | elapsed:    0.0s remaining:    0.0s\n",
      "[Parallel(n_jobs=1)]: Done  20 out of  20 | elapsed:    0.2s finished\n",
      "\n",
      "[2023-08-27 11:09:41] Features: 6/12 -- score: 0.2749549627668621[Parallel(n_jobs=1)]: Using backend SequentialBackend with 1 concurrent workers.\n",
      "[Parallel(n_jobs=1)]: Done   1 out of   1 | elapsed:    0.0s remaining:    0.0s\n",
      "[Parallel(n_jobs=1)]: Done  19 out of  19 | elapsed:    0.2s finished\n",
      "\n",
      "[2023-08-27 11:09:41] Features: 7/12 -- score: 0.2855066563234258[Parallel(n_jobs=1)]: Using backend SequentialBackend with 1 concurrent workers.\n",
      "[Parallel(n_jobs=1)]: Done   1 out of   1 | elapsed:    0.0s remaining:    0.0s\n",
      "[Parallel(n_jobs=1)]: Done  18 out of  18 | elapsed:    0.2s finished\n",
      "\n",
      "[2023-08-27 11:09:41] Features: 8/12 -- score: 0.29382307487234377[Parallel(n_jobs=1)]: Using backend SequentialBackend with 1 concurrent workers.\n",
      "[Parallel(n_jobs=1)]: Done   1 out of   1 | elapsed:    0.0s remaining:    0.0s\n",
      "[Parallel(n_jobs=1)]: Done  17 out of  17 | elapsed:    0.1s finished\n",
      "\n",
      "[2023-08-27 11:09:41] Features: 9/12 -- score: 0.29532335022991535[Parallel(n_jobs=1)]: Using backend SequentialBackend with 1 concurrent workers.\n",
      "[Parallel(n_jobs=1)]: Done   1 out of   1 | elapsed:    0.0s remaining:    0.0s\n",
      "[Parallel(n_jobs=1)]: Done  16 out of  16 | elapsed:    0.2s finished\n",
      "\n",
      "[2023-08-27 11:09:42] Features: 10/12 -- score: 0.29599807877184503[Parallel(n_jobs=1)]: Using backend SequentialBackend with 1 concurrent workers.\n",
      "[Parallel(n_jobs=1)]: Done   1 out of   1 | elapsed:    0.0s remaining:    0.0s\n",
      "[Parallel(n_jobs=1)]: Done  15 out of  15 | elapsed:    0.1s finished\n",
      "\n",
      "[2023-08-27 11:09:42] Features: 11/12 -- score: 0.2959980787718453[Parallel(n_jobs=1)]: Using backend SequentialBackend with 1 concurrent workers.\n",
      "[Parallel(n_jobs=1)]: Done   1 out of   1 | elapsed:    0.0s remaining:    0.0s\n",
      "[Parallel(n_jobs=1)]: Done  14 out of  14 | elapsed:    0.1s finished\n",
      "\n",
      "[2023-08-27 11:09:42] Features: 12/12 -- score: 0.2952923291515067"
     ]
    }
   ],
   "source": [
    "# initiate linear regression model to use in feature selection\n",
    "linreg = LinearRegression()\n",
    "\n",
    "# build forward feature selection\n",
    "# pass the regression model to 'estimator'\n",
    "# pass number of required feartures to 'k_features'. Here '12' is the stopping rule\n",
    "# 'forward=True' performs forward selection method\n",
    "# 'verbose=1' returns the number of features at the corresponding step\n",
    "# 'verbose=2' returns the R-squared scores and the number of features at the corresponding step\n",
    "# 'scoring=r2' considers R-squared score to select the feature\n",
    "linreg_forward = sfs(estimator=linreg, k_features = 12, forward=True,\n",
    "                     verbose=2, scoring='r2')\n",
    "\n",
    "# fit the forward selection on training data using fit()\n",
    "# we use the independent variables including intersection variable 'T_out*RH_out'\n",
    "sfs_forward = linreg_forward.fit(X_train_inter, y_train_inter)"
   ]
  },
  {
   "cell_type": "code",
   "execution_count": 31,
   "metadata": {
    "id": "ImQbJuPT7_Sr",
    "outputId": "b1cd9ae7-f0ff-42cd-d2ca-8e431a9033d1"
   },
   "outputs": [
    {
     "name": "stdout",
     "output_type": "stream",
     "text": [
      "Features selelected using forward selection are: \n",
      "('const', 'RH_1', 'RH_2', 'T4', 'T6', 'RH_6', 'T7', 'T8', 'RH_8', 'T9', 'RH_9', 'Windspeed')\n",
      "\n",
      "R-Squared:  0.2952923291515067\n"
     ]
    }
   ],
   "source": [
    "# print the selected feature names when k_features = 12\n",
    "print('Features selelected using forward selection are: ')\n",
    "print(sfs_forward.k_feature_names_)\n",
    "\n",
    "# print the R-squared value\n",
    "print('\\nR-Squared: ', sfs_forward.k_score_)"
   ]
  },
  {
   "cell_type": "markdown",
   "metadata": {
    "id": "G1aoPW4X7_Sr"
   },
   "source": [
    "### We can pass a range of variables in the k_features i.e. k_features = (5, 15) in the following example."
   ]
  },
  {
   "cell_type": "code",
   "execution_count": 32,
   "metadata": {
    "id": "-tpRwkks7_Ss",
    "outputId": "ca903f18-04f9-4731-fa85-3bb18d0530a2"
   },
   "outputs": [
    {
     "name": "stderr",
     "output_type": "stream",
     "text": [
      "[Parallel(n_jobs=1)]: Using backend SequentialBackend with 1 concurrent workers.\n",
      "[Parallel(n_jobs=1)]: Done   1 out of   1 | elapsed:    0.0s remaining:    0.0s\n",
      "[Parallel(n_jobs=1)]: Done  25 out of  25 | elapsed:    0.2s finished\n",
      "\n",
      "[2023-08-27 11:09:42] Features: 1/15 -- score: 0.13316975273707785[Parallel(n_jobs=1)]: Using backend SequentialBackend with 1 concurrent workers.\n",
      "[Parallel(n_jobs=1)]: Done   1 out of   1 | elapsed:    0.0s remaining:    0.0s\n",
      "[Parallel(n_jobs=1)]: Done  24 out of  24 | elapsed:    0.3s finished\n",
      "\n",
      "[2023-08-27 11:09:43] Features: 2/15 -- score: 0.15686411972888012[Parallel(n_jobs=1)]: Using backend SequentialBackend with 1 concurrent workers.\n",
      "[Parallel(n_jobs=1)]: Done   1 out of   1 | elapsed:    0.0s remaining:    0.0s\n",
      "[Parallel(n_jobs=1)]: Done  23 out of  23 | elapsed:    0.3s finished\n",
      "\n",
      "[2023-08-27 11:09:43] Features: 3/15 -- score: 0.19323131256265594[Parallel(n_jobs=1)]: Using backend SequentialBackend with 1 concurrent workers.\n",
      "[Parallel(n_jobs=1)]: Done   1 out of   1 | elapsed:    0.0s remaining:    0.0s\n",
      "[Parallel(n_jobs=1)]: Done  22 out of  22 | elapsed:    0.3s finished\n",
      "\n",
      "[2023-08-27 11:09:43] Features: 4/15 -- score: 0.2203503973309639[Parallel(n_jobs=1)]: Using backend SequentialBackend with 1 concurrent workers.\n",
      "[Parallel(n_jobs=1)]: Done   1 out of   1 | elapsed:    0.0s remaining:    0.0s\n",
      "[Parallel(n_jobs=1)]: Done  21 out of  21 | elapsed:    0.2s finished\n",
      "\n",
      "[2023-08-27 11:09:44] Features: 5/15 -- score: 0.2589570236922536[Parallel(n_jobs=1)]: Using backend SequentialBackend with 1 concurrent workers.\n",
      "[Parallel(n_jobs=1)]: Done   1 out of   1 | elapsed:    0.0s remaining:    0.0s\n",
      "[Parallel(n_jobs=1)]: Done  20 out of  20 | elapsed:    0.3s finished\n",
      "\n",
      "[2023-08-27 11:09:44] Features: 6/15 -- score: 0.2749549627668621[Parallel(n_jobs=1)]: Using backend SequentialBackend with 1 concurrent workers.\n",
      "[Parallel(n_jobs=1)]: Done   1 out of   1 | elapsed:    0.0s remaining:    0.0s\n",
      "[Parallel(n_jobs=1)]: Done  19 out of  19 | elapsed:    0.3s finished\n",
      "\n",
      "[2023-08-27 11:09:45] Features: 7/15 -- score: 0.2855066563234258[Parallel(n_jobs=1)]: Using backend SequentialBackend with 1 concurrent workers.\n",
      "[Parallel(n_jobs=1)]: Done   1 out of   1 | elapsed:    0.0s remaining:    0.0s\n",
      "[Parallel(n_jobs=1)]: Done  18 out of  18 | elapsed:    0.3s finished\n",
      "\n",
      "[2023-08-27 11:09:45] Features: 8/15 -- score: 0.29382307487234377[Parallel(n_jobs=1)]: Using backend SequentialBackend with 1 concurrent workers.\n",
      "[Parallel(n_jobs=1)]: Done   1 out of   1 | elapsed:    0.0s remaining:    0.0s\n",
      "[Parallel(n_jobs=1)]: Done  17 out of  17 | elapsed:    0.2s finished\n",
      "\n",
      "[2023-08-27 11:09:45] Features: 9/15 -- score: 0.29532335022991535[Parallel(n_jobs=1)]: Using backend SequentialBackend with 1 concurrent workers.\n",
      "[Parallel(n_jobs=1)]: Done   1 out of   1 | elapsed:    0.0s remaining:    0.0s\n",
      "[Parallel(n_jobs=1)]: Done  16 out of  16 | elapsed:    0.2s finished\n",
      "\n",
      "[2023-08-27 11:09:46] Features: 10/15 -- score: 0.29599807877184503[Parallel(n_jobs=1)]: Using backend SequentialBackend with 1 concurrent workers.\n",
      "[Parallel(n_jobs=1)]: Done   1 out of   1 | elapsed:    0.0s remaining:    0.0s\n",
      "[Parallel(n_jobs=1)]: Done  15 out of  15 | elapsed:    0.2s finished\n",
      "\n",
      "[2023-08-27 11:09:46] Features: 11/15 -- score: 0.2959980787718453[Parallel(n_jobs=1)]: Using backend SequentialBackend with 1 concurrent workers.\n",
      "[Parallel(n_jobs=1)]: Done   1 out of   1 | elapsed:    0.0s remaining:    0.0s\n",
      "[Parallel(n_jobs=1)]: Done  14 out of  14 | elapsed:    0.1s finished\n",
      "\n",
      "[2023-08-27 11:09:46] Features: 12/15 -- score: 0.2952923291515067[Parallel(n_jobs=1)]: Using backend SequentialBackend with 1 concurrent workers.\n",
      "[Parallel(n_jobs=1)]: Done   1 out of   1 | elapsed:    0.0s remaining:    0.0s\n",
      "[Parallel(n_jobs=1)]: Done  13 out of  13 | elapsed:    0.1s finished\n",
      "\n",
      "[2023-08-27 11:09:46] Features: 13/15 -- score: 0.29692988914342167[Parallel(n_jobs=1)]: Using backend SequentialBackend with 1 concurrent workers.\n",
      "[Parallel(n_jobs=1)]: Done   1 out of   1 | elapsed:    0.0s remaining:    0.0s\n",
      "[Parallel(n_jobs=1)]: Done  12 out of  12 | elapsed:    0.1s finished\n",
      "\n",
      "[2023-08-27 11:09:46] Features: 14/15 -- score: 0.29589768650199944[Parallel(n_jobs=1)]: Using backend SequentialBackend with 1 concurrent workers.\n",
      "[Parallel(n_jobs=1)]: Done   1 out of   1 | elapsed:    0.0s remaining:    0.0s\n",
      "[Parallel(n_jobs=1)]: Done  11 out of  11 | elapsed:    0.0s finished\n",
      "\n",
      "[2023-08-27 11:09:47] Features: 15/15 -- score: 0.29510077720734457"
     ]
    }
   ],
   "source": [
    "# initiate linear regression model to use in feature selection\n",
    "linreg = LinearRegression()\n",
    "\n",
    "# build step forward selection\n",
    "# pass the regression model to 'estimator'\n",
    "# pass number of required feartures to 'k_features'. (5,15) means that all the possible subsets sequentially will be created \n",
    "# 'forward=True' performs forward selection method\n",
    "# 'verbose=1' returns the number of features at the corresponding step\n",
    "# 'verbose=2' returns the R-squared scores and the number of features at the corresponding step\n",
    "# 'scoring=r2' considers R-squared score to select the feature\n",
    "linreg_forward = sfs(estimator = linreg, k_features = (5,15), forward = True,\n",
    "                     verbose = 2, scoring = 'r2')\n",
    "\n",
    "# fit the step forward selection on training data using fit()\n",
    "# we use the independent variables including intersection variable 'T_out*RH_out'\n",
    "sfs_forward = linreg_forward.fit(X_train_inter, y_train_inter)"
   ]
  },
  {
   "cell_type": "code",
   "execution_count": 33,
   "metadata": {
    "id": "dRVWklb77_Ss",
    "outputId": "e48601f7-1dad-4fdc-8567-187d021c80cf"
   },
   "outputs": [
    {
     "name": "stdout",
     "output_type": "stream",
     "text": [
      "Features selelected using forward selection are: \n",
      "('const', 'RH_1', 'RH_2', 'T4', 'T6', 'RH_6', 'T7', 'T8', 'RH_8', 'T9', 'RH_9', 'Windspeed', 'Temp*RH')\n",
      "\n",
      "R-Squared:  0.29692988914342167\n"
     ]
    }
   ],
   "source": [
    "# print the selected feature names when k_features = (5, 15)\n",
    "print('Features selelected using forward selection are: ')\n",
    "print(sfs_forward.k_feature_names_)\n",
    "\n",
    "# print the R-squared value\n",
    "print('\\nR-Squared: ', sfs_forward.k_score_)"
   ]
  },
  {
   "cell_type": "markdown",
   "metadata": {
    "id": "-gxQEIdx7_Ss"
   },
   "source": [
    "### We can also pass a string 'best' in the k_features that will select the best feature set i.e. k_features = 'best' in the following example."
   ]
  },
  {
   "cell_type": "code",
   "execution_count": 34,
   "metadata": {
    "id": "bkzVu4dA7_Ss",
    "outputId": "d2600cc3-4dc0-429b-eb9b-cc4bcae48b65",
    "scrolled": false
   },
   "outputs": [
    {
     "name": "stderr",
     "output_type": "stream",
     "text": [
      "[Parallel(n_jobs=1)]: Using backend SequentialBackend with 1 concurrent workers.\n",
      "[Parallel(n_jobs=1)]: Done   1 out of   1 | elapsed:    0.0s remaining:    0.0s\n",
      "[Parallel(n_jobs=1)]: Done  25 out of  25 | elapsed:    0.2s finished\n",
      "\n",
      "[2023-08-27 11:09:47] Features: 1/25 -- score: 0.13316975273707785[Parallel(n_jobs=1)]: Using backend SequentialBackend with 1 concurrent workers.\n",
      "[Parallel(n_jobs=1)]: Done   1 out of   1 | elapsed:    0.0s remaining:    0.0s\n",
      "[Parallel(n_jobs=1)]: Done  24 out of  24 | elapsed:    0.2s finished\n",
      "\n",
      "[2023-08-27 11:09:47] Features: 2/25 -- score: 0.15686411972888012[Parallel(n_jobs=1)]: Using backend SequentialBackend with 1 concurrent workers.\n",
      "[Parallel(n_jobs=1)]: Done   1 out of   1 | elapsed:    0.0s remaining:    0.0s\n",
      "[Parallel(n_jobs=1)]: Done  23 out of  23 | elapsed:    0.2s finished\n",
      "\n",
      "[2023-08-27 11:09:48] Features: 3/25 -- score: 0.19323131256265594[Parallel(n_jobs=1)]: Using backend SequentialBackend with 1 concurrent workers.\n",
      "[Parallel(n_jobs=1)]: Done   1 out of   1 | elapsed:    0.0s remaining:    0.0s\n",
      "[Parallel(n_jobs=1)]: Done  22 out of  22 | elapsed:    0.1s finished\n",
      "\n",
      "[2023-08-27 11:09:48] Features: 4/25 -- score: 0.2203503973309639[Parallel(n_jobs=1)]: Using backend SequentialBackend with 1 concurrent workers.\n",
      "[Parallel(n_jobs=1)]: Done   1 out of   1 | elapsed:    0.0s remaining:    0.0s\n",
      "[Parallel(n_jobs=1)]: Done  21 out of  21 | elapsed:    0.1s finished\n",
      "\n",
      "[2023-08-27 11:09:48] Features: 5/25 -- score: 0.2589570236922536[Parallel(n_jobs=1)]: Using backend SequentialBackend with 1 concurrent workers.\n",
      "[Parallel(n_jobs=1)]: Done   1 out of   1 | elapsed:    0.0s remaining:    0.0s\n",
      "[Parallel(n_jobs=1)]: Done  20 out of  20 | elapsed:    0.1s finished\n",
      "\n",
      "[2023-08-27 11:09:48] Features: 6/25 -- score: 0.2749549627668621[Parallel(n_jobs=1)]: Using backend SequentialBackend with 1 concurrent workers.\n",
      "[Parallel(n_jobs=1)]: Done   1 out of   1 | elapsed:    0.0s remaining:    0.0s\n",
      "[Parallel(n_jobs=1)]: Done  19 out of  19 | elapsed:    0.1s finished\n",
      "\n",
      "[2023-08-27 11:09:48] Features: 7/25 -- score: 0.2855066563234258[Parallel(n_jobs=1)]: Using backend SequentialBackend with 1 concurrent workers.\n",
      "[Parallel(n_jobs=1)]: Done   1 out of   1 | elapsed:    0.0s remaining:    0.0s\n",
      "[Parallel(n_jobs=1)]: Done  18 out of  18 | elapsed:    0.2s finished\n",
      "\n",
      "[2023-08-27 11:09:49] Features: 8/25 -- score: 0.29382307487234377[Parallel(n_jobs=1)]: Using backend SequentialBackend with 1 concurrent workers.\n",
      "[Parallel(n_jobs=1)]: Done   1 out of   1 | elapsed:    0.0s remaining:    0.0s\n",
      "[Parallel(n_jobs=1)]: Done  17 out of  17 | elapsed:    0.2s finished\n",
      "\n",
      "[2023-08-27 11:09:49] Features: 9/25 -- score: 0.29532335022991535[Parallel(n_jobs=1)]: Using backend SequentialBackend with 1 concurrent workers.\n",
      "[Parallel(n_jobs=1)]: Done   1 out of   1 | elapsed:    0.0s remaining:    0.0s\n",
      "[Parallel(n_jobs=1)]: Done  16 out of  16 | elapsed:    0.1s finished\n",
      "\n",
      "[2023-08-27 11:09:49] Features: 10/25 -- score: 0.29599807877184503[Parallel(n_jobs=1)]: Using backend SequentialBackend with 1 concurrent workers.\n",
      "[Parallel(n_jobs=1)]: Done   1 out of   1 | elapsed:    0.0s remaining:    0.0s\n",
      "[Parallel(n_jobs=1)]: Done  15 out of  15 | elapsed:    0.1s finished\n",
      "\n",
      "[2023-08-27 11:09:49] Features: 11/25 -- score: 0.2959980787718453[Parallel(n_jobs=1)]: Using backend SequentialBackend with 1 concurrent workers.\n",
      "[Parallel(n_jobs=1)]: Done   1 out of   1 | elapsed:    0.0s remaining:    0.0s\n",
      "[Parallel(n_jobs=1)]: Done  14 out of  14 | elapsed:    0.1s finished\n",
      "\n",
      "[2023-08-27 11:09:50] Features: 12/25 -- score: 0.2952923291515067[Parallel(n_jobs=1)]: Using backend SequentialBackend with 1 concurrent workers.\n",
      "[Parallel(n_jobs=1)]: Done   1 out of   1 | elapsed:    0.0s remaining:    0.0s\n",
      "[Parallel(n_jobs=1)]: Done  13 out of  13 | elapsed:    0.1s finished\n",
      "\n",
      "[2023-08-27 11:09:50] Features: 13/25 -- score: 0.29692988914342167[Parallel(n_jobs=1)]: Using backend SequentialBackend with 1 concurrent workers.\n",
      "[Parallel(n_jobs=1)]: Done   1 out of   1 | elapsed:    0.0s remaining:    0.0s\n",
      "[Parallel(n_jobs=1)]: Done  12 out of  12 | elapsed:    0.1s finished\n",
      "\n",
      "[2023-08-27 11:09:50] Features: 14/25 -- score: 0.29589768650199944[Parallel(n_jobs=1)]: Using backend SequentialBackend with 1 concurrent workers.\n",
      "[Parallel(n_jobs=1)]: Done   1 out of   1 | elapsed:    0.0s remaining:    0.0s\n",
      "[Parallel(n_jobs=1)]: Done  11 out of  11 | elapsed:    0.1s finished\n",
      "\n",
      "[2023-08-27 11:09:50] Features: 15/25 -- score: 0.29510077720734457[Parallel(n_jobs=1)]: Using backend SequentialBackend with 1 concurrent workers.\n",
      "[Parallel(n_jobs=1)]: Done   1 out of   1 | elapsed:    0.0s remaining:    0.0s\n",
      "[Parallel(n_jobs=1)]: Done  10 out of  10 | elapsed:    0.0s finished\n",
      "\n",
      "[2023-08-27 11:09:50] Features: 16/25 -- score: 0.2933270994519218[Parallel(n_jobs=1)]: Using backend SequentialBackend with 1 concurrent workers.\n",
      "[Parallel(n_jobs=1)]: Done   1 out of   1 | elapsed:    0.0s remaining:    0.0s\n",
      "[Parallel(n_jobs=1)]: Done   9 out of   9 | elapsed:    0.1s finished\n",
      "\n",
      "[2023-08-27 11:09:50] Features: 17/25 -- score: 0.29220609301717965[Parallel(n_jobs=1)]: Using backend SequentialBackend with 1 concurrent workers.\n",
      "[Parallel(n_jobs=1)]: Done   1 out of   1 | elapsed:    0.0s remaining:    0.0s\n",
      "[Parallel(n_jobs=1)]: Done   8 out of   8 | elapsed:    0.0s finished\n",
      "\n",
      "[2023-08-27 11:09:51] Features: 18/25 -- score: 0.29088508759032433[Parallel(n_jobs=1)]: Using backend SequentialBackend with 1 concurrent workers.\n",
      "[Parallel(n_jobs=1)]: Done   1 out of   1 | elapsed:    0.0s remaining:    0.0s\n",
      "[Parallel(n_jobs=1)]: Done   7 out of   7 | elapsed:    0.0s finished\n",
      "\n",
      "[2023-08-27 11:09:51] Features: 19/25 -- score: 0.28848103930346625[Parallel(n_jobs=1)]: Using backend SequentialBackend with 1 concurrent workers.\n",
      "[Parallel(n_jobs=1)]: Done   1 out of   1 | elapsed:    0.0s remaining:    0.0s\n",
      "[Parallel(n_jobs=1)]: Done   6 out of   6 | elapsed:    0.0s finished\n",
      "\n",
      "[2023-08-27 11:09:51] Features: 20/25 -- score: 0.28579990180623566[Parallel(n_jobs=1)]: Using backend SequentialBackend with 1 concurrent workers.\n",
      "[Parallel(n_jobs=1)]: Done   1 out of   1 | elapsed:    0.0s remaining:    0.0s\n",
      "[Parallel(n_jobs=1)]: Done   5 out of   5 | elapsed:    0.0s finished\n",
      "\n",
      "[2023-08-27 11:09:51] Features: 21/25 -- score: 0.28866314796035686[Parallel(n_jobs=1)]: Using backend SequentialBackend with 1 concurrent workers.\n",
      "[Parallel(n_jobs=1)]: Done   1 out of   1 | elapsed:    0.0s remaining:    0.0s\n",
      "[Parallel(n_jobs=1)]: Done   4 out of   4 | elapsed:    0.0s finished\n",
      "\n",
      "[2023-08-27 11:09:51] Features: 22/25 -- score: 0.2873785977168957[Parallel(n_jobs=1)]: Using backend SequentialBackend with 1 concurrent workers.\n",
      "[Parallel(n_jobs=1)]: Done   1 out of   1 | elapsed:    0.0s remaining:    0.0s\n",
      "[Parallel(n_jobs=1)]: Done   3 out of   3 | elapsed:    0.0s finished\n",
      "\n",
      "[2023-08-27 11:09:51] Features: 23/25 -- score: 0.28325149609711686[Parallel(n_jobs=1)]: Using backend SequentialBackend with 1 concurrent workers.\n",
      "[Parallel(n_jobs=1)]: Done   1 out of   1 | elapsed:    0.0s remaining:    0.0s\n",
      "[Parallel(n_jobs=1)]: Done   2 out of   2 | elapsed:    0.0s finished\n",
      "\n",
      "[2023-08-27 11:09:51] Features: 24/25 -- score: 0.2779555162962059[Parallel(n_jobs=1)]: Using backend SequentialBackend with 1 concurrent workers.\n",
      "[Parallel(n_jobs=1)]: Done   1 out of   1 | elapsed:    0.0s remaining:    0.0s\n",
      "[Parallel(n_jobs=1)]: Done   1 out of   1 | elapsed:    0.0s finished\n",
      "\n",
      "[2023-08-27 11:09:51] Features: 25/25 -- score: 0.25843461988014055"
     ]
    }
   ],
   "source": [
    "# initiate linear regression model to use in feature selection\n",
    "linreg = LinearRegression()\n",
    "\n",
    "# build step forward selection\n",
    "# pass the regression model to 'estimator'\n",
    "# pass number of required feartures to 'k_features'. 'best' means that a best possible subset will be selected  \n",
    "# 'forward=True' performs forward selection method\n",
    "# 'verbose=1' returns the number of features at the corresponding step\n",
    "# 'verbose=2' returns the R-squared scores and the number of features at the corresponding step\n",
    "# 'scoring=r2' considers R-squared score to select the feature\n",
    "linreg_forward = sfs(estimator = linreg, k_features = 'best', forward = True,\n",
    "                     verbose = 2, scoring = 'r2')\n",
    "\n",
    "# fit the step forward selection on training data using fit()\n",
    "# we use the independent variables including intersection variable 'T_out*RH_out'\n",
    "sfs_forward = linreg_forward.fit(X_train_inter, y_train_inter)"
   ]
  },
  {
   "cell_type": "code",
   "execution_count": 35,
   "metadata": {
    "id": "AHhjit-z7_Ss",
    "outputId": "47cb9ea0-dce4-4387-c19d-72f6dcebfa18"
   },
   "outputs": [
    {
     "name": "stdout",
     "output_type": "stream",
     "text": [
      "Features selelected using forward selection are: \n",
      "('const', 'RH_1', 'RH_2', 'T4', 'T6', 'RH_6', 'T7', 'T8', 'RH_8', 'T9', 'RH_9', 'Windspeed', 'Temp*RH')\n",
      "\n",
      "R-Squared:  0.29692988914342167\n"
     ]
    }
   ],
   "source": [
    "# printing the selected feature names when k_features = 'best'\n",
    "print('Features selelected using forward selection are: ')\n",
    "print(sfs_forward.k_feature_names_)\n",
    "\n",
    "# print the R-squared value\n",
    "print('\\nR-Squared: ', sfs_forward.k_score_)"
   ]
  },
  {
   "cell_type": "markdown",
   "metadata": {
    "id": "WJH-O7zs7_Ss"
   },
   "source": [
    "The interaction variable has been selected in the forward selection method."
   ]
  },
  {
   "cell_type": "markdown",
   "metadata": {
    "id": "AQ0KRNLq7_Ss"
   },
   "source": [
    "<a id=\"back\"></a>\n",
    "## 5.2 Backward Elimination\n",
    "\n",
    "This method considers the full model (model with all the predictors) in the first step. In the next steps start removing one variable at each step until we run out of the independent variables or the stopping rule is achieved.\n",
    "\n",
    "The least significant variable (with the highest p-value) is removed at each step."
   ]
  },
  {
   "cell_type": "code",
   "execution_count": 36,
   "metadata": {
    "id": "SaCqKlXg7_Ss",
    "outputId": "52a5492e-2ca7-490b-c73e-898740858085"
   },
   "outputs": [
    {
     "name": "stderr",
     "output_type": "stream",
     "text": [
      "[Parallel(n_jobs=1)]: Using backend SequentialBackend with 1 concurrent workers.\n",
      "[Parallel(n_jobs=1)]: Done   1 out of   1 | elapsed:    0.0s remaining:    0.0s\n",
      "[Parallel(n_jobs=1)]: Done  25 out of  25 | elapsed:    0.3s finished\n",
      "\n",
      "[2023-08-27 11:09:51] Features: 24/12 -- score: 0.2779555162962059[Parallel(n_jobs=1)]: Using backend SequentialBackend with 1 concurrent workers.\n",
      "[Parallel(n_jobs=1)]: Done   1 out of   1 | elapsed:    0.0s remaining:    0.0s\n",
      "[Parallel(n_jobs=1)]: Done  24 out of  24 | elapsed:    0.4s finished\n",
      "\n",
      "[2023-08-27 11:09:52] Features: 23/12 -- score: 0.28325149609711686[Parallel(n_jobs=1)]: Using backend SequentialBackend with 1 concurrent workers.\n",
      "[Parallel(n_jobs=1)]: Done   1 out of   1 | elapsed:    0.0s remaining:    0.0s\n",
      "[Parallel(n_jobs=1)]: Done  23 out of  23 | elapsed:    0.3s finished\n",
      "\n",
      "[2023-08-27 11:09:52] Features: 22/12 -- score: 0.2873785977168957[Parallel(n_jobs=1)]: Using backend SequentialBackend with 1 concurrent workers.\n",
      "[Parallel(n_jobs=1)]: Done   1 out of   1 | elapsed:    0.0s remaining:    0.0s\n",
      "[Parallel(n_jobs=1)]: Done  22 out of  22 | elapsed:    0.2s finished\n",
      "\n",
      "[2023-08-27 11:09:53] Features: 21/12 -- score: 0.29093423775920596[Parallel(n_jobs=1)]: Using backend SequentialBackend with 1 concurrent workers.\n",
      "[Parallel(n_jobs=1)]: Done   1 out of   1 | elapsed:    0.0s remaining:    0.0s\n",
      "[Parallel(n_jobs=1)]: Done  21 out of  21 | elapsed:    0.2s finished\n",
      "\n",
      "[2023-08-27 11:09:53] Features: 20/12 -- score: 0.29289745402094186[Parallel(n_jobs=1)]: Using backend SequentialBackend with 1 concurrent workers.\n",
      "[Parallel(n_jobs=1)]: Done   1 out of   1 | elapsed:    0.0s remaining:    0.0s\n",
      "[Parallel(n_jobs=1)]: Done  20 out of  20 | elapsed:    0.1s finished\n",
      "\n",
      "[2023-08-27 11:09:53] Features: 19/12 -- score: 0.2944786041971616[Parallel(n_jobs=1)]: Using backend SequentialBackend with 1 concurrent workers.\n",
      "[Parallel(n_jobs=1)]: Done   1 out of   1 | elapsed:    0.0s remaining:    0.0s\n",
      "[Parallel(n_jobs=1)]: Done  19 out of  19 | elapsed:    0.1s finished\n",
      "\n",
      "[2023-08-27 11:09:53] Features: 18/12 -- score: 0.29603306260342055[Parallel(n_jobs=1)]: Using backend SequentialBackend with 1 concurrent workers.\n",
      "[Parallel(n_jobs=1)]: Done   1 out of   1 | elapsed:    0.0s remaining:    0.0s\n",
      "[Parallel(n_jobs=1)]: Done  18 out of  18 | elapsed:    0.1s finished\n",
      "\n",
      "[2023-08-27 11:09:53] Features: 17/12 -- score: 0.2973059147947963[Parallel(n_jobs=1)]: Using backend SequentialBackend with 1 concurrent workers.\n",
      "[Parallel(n_jobs=1)]: Done   1 out of   1 | elapsed:    0.0s remaining:    0.0s\n",
      "[Parallel(n_jobs=1)]: Done  17 out of  17 | elapsed:    0.2s finished\n",
      "\n",
      "[2023-08-27 11:09:54] Features: 16/12 -- score: 0.29925927665312135[Parallel(n_jobs=1)]: Using backend SequentialBackend with 1 concurrent workers.\n",
      "[Parallel(n_jobs=1)]: Done   1 out of   1 | elapsed:    0.0s remaining:    0.0s\n",
      "[Parallel(n_jobs=1)]: Done  16 out of  16 | elapsed:    0.1s finished\n",
      "\n",
      "[2023-08-27 11:09:54] Features: 15/12 -- score: 0.3000791946858252[Parallel(n_jobs=1)]: Using backend SequentialBackend with 1 concurrent workers.\n",
      "[Parallel(n_jobs=1)]: Done   1 out of   1 | elapsed:    0.0s remaining:    0.0s\n",
      "[Parallel(n_jobs=1)]: Done  15 out of  15 | elapsed:    0.1s finished\n",
      "\n",
      "[2023-08-27 11:09:54] Features: 14/12 -- score: 0.30017087331617914[Parallel(n_jobs=1)]: Using backend SequentialBackend with 1 concurrent workers.\n",
      "[Parallel(n_jobs=1)]: Done   1 out of   1 | elapsed:    0.0s remaining:    0.0s\n",
      "[Parallel(n_jobs=1)]: Done  14 out of  14 | elapsed:    0.0s finished\n",
      "\n",
      "[2023-08-27 11:09:54] Features: 13/12 -- score: 0.30017087331617875[Parallel(n_jobs=1)]: Using backend SequentialBackend with 1 concurrent workers.\n",
      "[Parallel(n_jobs=1)]: Done   1 out of   1 | elapsed:    0.0s remaining:    0.0s\n",
      "[Parallel(n_jobs=1)]: Done  13 out of  13 | elapsed:    0.1s finished\n",
      "\n",
      "[2023-08-27 11:09:54] Features: 12/12 -- score: 0.2995503309675268"
     ]
    }
   ],
   "source": [
    "# initiate linear regression model to use in feature selection\n",
    "linreg = LinearRegression()\n",
    "\n",
    "# build backward feature selection\n",
    "# pass the regression model to 'estimator'\n",
    "# pass number of required feartures to 'k_features'\n",
    "# 'forward=False' performs backward selection method\n",
    "# 'verbose=1' returns the number of features at the corresponding step\n",
    "# 'verbose=2' returns the R-squared scores and the number of features at the corresponding step\n",
    "# 'scoring=r2' considers R-squared score to select the feature\n",
    "linreg_backward = sfs(estimator = linreg, k_features = 12, forward = False,\n",
    "                     verbose = 2, scoring = 'r2')\n",
    "\n",
    "# fit the backward elimination on training data using fit()\n",
    "# we use the independent variables including intersection variable 'T_out*RH_out'\n",
    "sfs_backward = linreg_backward.fit(X_train_inter, y_train_inter)"
   ]
  },
  {
   "cell_type": "code",
   "execution_count": 37,
   "metadata": {
    "id": "sE5j5ymi7_Ss",
    "outputId": "87f92b98-6d85-4754-ae71-c919cf75dd82"
   },
   "outputs": [
    {
     "name": "stdout",
     "output_type": "stream",
     "text": [
      "Features selelected using backward elimination are: \n",
      "('RH_1', 'T3', 'T6', 'T8', 'RH_8', 'T9', 'RH_9', 'T_out', 'Press_mm_hg', 'RH_out', 'Windspeed', 'Temp*RH')\n",
      "\n",
      "R-Squared:  0.2995503309675268\n"
     ]
    }
   ],
   "source": [
    "# print the selected feature names when k_features = 12\n",
    "print('Features selelected using backward elimination are: ')\n",
    "print(sfs_backward.k_feature_names_)\n",
    "\n",
    "# print the R-squared value\n",
    "print('\\nR-Squared: ', sfs_backward.k_score_)"
   ]
  },
  {
   "cell_type": "markdown",
   "metadata": {
    "id": "r700VrEW7_Ss"
   },
   "source": [
    "### We can pass a range of variables in the k_features i.e. k_features = (5, 15) in the following example."
   ]
  },
  {
   "cell_type": "code",
   "execution_count": 38,
   "metadata": {
    "id": "lF_D73cj7_St",
    "outputId": "2171950c-84b9-44d6-ee0e-403e11eab5cd",
    "scrolled": false
   },
   "outputs": [
    {
     "name": "stderr",
     "output_type": "stream",
     "text": [
      "[Parallel(n_jobs=1)]: Using backend SequentialBackend with 1 concurrent workers.\n",
      "[Parallel(n_jobs=1)]: Done   1 out of   1 | elapsed:    0.0s remaining:    0.0s\n",
      "[Parallel(n_jobs=1)]: Done  25 out of  25 | elapsed:    0.4s finished\n",
      "\n",
      "[2023-08-27 11:09:55] Features: 24/5 -- score: 0.2779555162962059[Parallel(n_jobs=1)]: Using backend SequentialBackend with 1 concurrent workers.\n",
      "[Parallel(n_jobs=1)]: Done   1 out of   1 | elapsed:    0.0s remaining:    0.0s\n",
      "[Parallel(n_jobs=1)]: Done  24 out of  24 | elapsed:    0.2s finished\n",
      "\n",
      "[2023-08-27 11:09:55] Features: 23/5 -- score: 0.28325149609711686[Parallel(n_jobs=1)]: Using backend SequentialBackend with 1 concurrent workers.\n",
      "[Parallel(n_jobs=1)]: Done   1 out of   1 | elapsed:    0.0s remaining:    0.0s\n",
      "[Parallel(n_jobs=1)]: Done  23 out of  23 | elapsed:    0.2s finished\n",
      "\n",
      "[2023-08-27 11:09:56] Features: 22/5 -- score: 0.2873785977168957[Parallel(n_jobs=1)]: Using backend SequentialBackend with 1 concurrent workers.\n",
      "[Parallel(n_jobs=1)]: Done   1 out of   1 | elapsed:    0.0s remaining:    0.0s\n",
      "[Parallel(n_jobs=1)]: Done  22 out of  22 | elapsed:    0.2s finished\n",
      "\n",
      "[2023-08-27 11:09:56] Features: 21/5 -- score: 0.29093423775920596[Parallel(n_jobs=1)]: Using backend SequentialBackend with 1 concurrent workers.\n",
      "[Parallel(n_jobs=1)]: Done   1 out of   1 | elapsed:    0.0s remaining:    0.0s\n",
      "[Parallel(n_jobs=1)]: Done  21 out of  21 | elapsed:    0.2s finished\n",
      "\n",
      "[2023-08-27 11:09:56] Features: 20/5 -- score: 0.29289745402094186[Parallel(n_jobs=1)]: Using backend SequentialBackend with 1 concurrent workers.\n",
      "[Parallel(n_jobs=1)]: Done   1 out of   1 | elapsed:    0.0s remaining:    0.0s\n",
      "[Parallel(n_jobs=1)]: Done  20 out of  20 | elapsed:    0.1s finished\n",
      "\n",
      "[2023-08-27 11:09:56] Features: 19/5 -- score: 0.2944786041971616[Parallel(n_jobs=1)]: Using backend SequentialBackend with 1 concurrent workers.\n",
      "[Parallel(n_jobs=1)]: Done   1 out of   1 | elapsed:    0.0s remaining:    0.0s\n",
      "[Parallel(n_jobs=1)]: Done  19 out of  19 | elapsed:    0.2s finished\n",
      "\n",
      "[2023-08-27 11:09:57] Features: 18/5 -- score: 0.29603306260342055[Parallel(n_jobs=1)]: Using backend SequentialBackend with 1 concurrent workers.\n",
      "[Parallel(n_jobs=1)]: Done   1 out of   1 | elapsed:    0.0s remaining:    0.0s\n",
      "[Parallel(n_jobs=1)]: Done  18 out of  18 | elapsed:    0.2s finished\n",
      "\n",
      "[2023-08-27 11:09:57] Features: 17/5 -- score: 0.2973059147947963[Parallel(n_jobs=1)]: Using backend SequentialBackend with 1 concurrent workers.\n",
      "[Parallel(n_jobs=1)]: Done   1 out of   1 | elapsed:    0.0s remaining:    0.0s\n",
      "[Parallel(n_jobs=1)]: Done  17 out of  17 | elapsed:    0.1s finished\n",
      "\n",
      "[2023-08-27 11:09:57] Features: 16/5 -- score: 0.29925927665312135[Parallel(n_jobs=1)]: Using backend SequentialBackend with 1 concurrent workers.\n",
      "[Parallel(n_jobs=1)]: Done   1 out of   1 | elapsed:    0.0s remaining:    0.0s\n",
      "[Parallel(n_jobs=1)]: Done  16 out of  16 | elapsed:    0.1s finished\n",
      "\n",
      "[2023-08-27 11:09:57] Features: 15/5 -- score: 0.3000791946858252[Parallel(n_jobs=1)]: Using backend SequentialBackend with 1 concurrent workers.\n",
      "[Parallel(n_jobs=1)]: Done   1 out of   1 | elapsed:    0.0s remaining:    0.0s\n",
      "[Parallel(n_jobs=1)]: Done  15 out of  15 | elapsed:    0.1s finished\n",
      "\n",
      "[2023-08-27 11:09:57] Features: 14/5 -- score: 0.30017087331617914[Parallel(n_jobs=1)]: Using backend SequentialBackend with 1 concurrent workers.\n",
      "[Parallel(n_jobs=1)]: Done   1 out of   1 | elapsed:    0.0s remaining:    0.0s\n",
      "[Parallel(n_jobs=1)]: Done  14 out of  14 | elapsed:    0.1s finished\n",
      "\n",
      "[2023-08-27 11:09:58] Features: 13/5 -- score: 0.30017087331617875[Parallel(n_jobs=1)]: Using backend SequentialBackend with 1 concurrent workers.\n",
      "[Parallel(n_jobs=1)]: Done   1 out of   1 | elapsed:    0.0s remaining:    0.0s\n",
      "[Parallel(n_jobs=1)]: Done  13 out of  13 | elapsed:    0.0s finished\n",
      "\n",
      "[2023-08-27 11:09:58] Features: 12/5 -- score: 0.2995503309675268[Parallel(n_jobs=1)]: Using backend SequentialBackend with 1 concurrent workers.\n",
      "[Parallel(n_jobs=1)]: Done   1 out of   1 | elapsed:    0.0s remaining:    0.0s\n",
      "[Parallel(n_jobs=1)]: Done  12 out of  12 | elapsed:    0.0s finished\n",
      "\n",
      "[2023-08-27 11:09:58] Features: 11/5 -- score: 0.2988519671202927[Parallel(n_jobs=1)]: Using backend SequentialBackend with 1 concurrent workers.\n",
      "[Parallel(n_jobs=1)]: Done   1 out of   1 | elapsed:    0.0s remaining:    0.0s\n",
      "[Parallel(n_jobs=1)]: Done  11 out of  11 | elapsed:    0.0s finished\n",
      "\n",
      "[2023-08-27 11:09:58] Features: 10/5 -- score: 0.2967791706718709[Parallel(n_jobs=1)]: Using backend SequentialBackend with 1 concurrent workers.\n",
      "[Parallel(n_jobs=1)]: Done   1 out of   1 | elapsed:    0.0s remaining:    0.0s\n",
      "[Parallel(n_jobs=1)]: Done  10 out of  10 | elapsed:    0.0s finished\n",
      "\n",
      "[2023-08-27 11:09:58] Features: 9/5 -- score: 0.2949730336410402[Parallel(n_jobs=1)]: Using backend SequentialBackend with 1 concurrent workers.\n",
      "[Parallel(n_jobs=1)]: Done   1 out of   1 | elapsed:    0.0s remaining:    0.0s\n",
      "[Parallel(n_jobs=1)]: Done   9 out of   9 | elapsed:    0.0s finished\n",
      "\n",
      "[2023-08-27 11:09:58] Features: 8/5 -- score: 0.2956425374546664[Parallel(n_jobs=1)]: Using backend SequentialBackend with 1 concurrent workers.\n",
      "[Parallel(n_jobs=1)]: Done   1 out of   1 | elapsed:    0.0s remaining:    0.0s\n",
      "[Parallel(n_jobs=1)]: Done   8 out of   8 | elapsed:    0.0s finished\n",
      "\n",
      "[2023-08-27 11:09:58] Features: 7/5 -- score: 0.2924619543668389[Parallel(n_jobs=1)]: Using backend SequentialBackend with 1 concurrent workers.\n",
      "[Parallel(n_jobs=1)]: Done   1 out of   1 | elapsed:    0.0s remaining:    0.0s\n",
      "[Parallel(n_jobs=1)]: Done   7 out of   7 | elapsed:    0.0s finished\n",
      "\n",
      "[2023-08-27 11:09:58] Features: 6/5 -- score: 0.28719859372703443[Parallel(n_jobs=1)]: Using backend SequentialBackend with 1 concurrent workers.\n",
      "[Parallel(n_jobs=1)]: Done   1 out of   1 | elapsed:    0.0s remaining:    0.0s\n",
      "[Parallel(n_jobs=1)]: Done   6 out of   6 | elapsed:    0.0s finished\n",
      "\n",
      "[2023-08-27 11:09:58] Features: 5/5 -- score: 0.28037716951895764"
     ]
    }
   ],
   "source": [
    "# initiate linear regression model to use in feature selection\n",
    "linreg = LinearRegression()\n",
    "\n",
    "# build step backward feature selection\n",
    "# pass the regression model to 'estimator'\n",
    "# pass number of required features to 'k_features'. (5,15) means that all the possible subset combinations will be created \n",
    "# 'forward=False' performs backward selection method\n",
    "# 'verbose=1' returns the number of features at the corresponding step\n",
    "# 'scoring=r2' considers R-squared score to select the feature\n",
    "linreg_backward = sfs(estimator = linreg, k_features = (5, 15), forward = False,\n",
    "                     verbose = 2, scoring = 'r2')\n",
    "\n",
    "# fit the backward elimination on training data using fit()\n",
    "# we use the independent variables including intersection variable 'T_out*RH_out'\n",
    "sfs_backward = linreg_backward.fit(X_train_inter, y_train_inter)"
   ]
  },
  {
   "cell_type": "code",
   "execution_count": 39,
   "metadata": {
    "id": "OiZAt9Ah7_St",
    "outputId": "061dc5a4-ee7c-418e-e9cd-d210169bd9d9"
   },
   "outputs": [
    {
     "name": "stdout",
     "output_type": "stream",
     "text": [
      "Features selelected using backward elimination are: \n",
      "('const', 'RH_1', 'T3', 'T6', 'T7', 'T8', 'RH_8', 'T9', 'RH_9', 'T_out', 'Press_mm_hg', 'RH_out', 'Windspeed', 'Temp*RH')\n",
      "\n",
      "R-Squared:  0.30017087331617914\n"
     ]
    }
   ],
   "source": [
    "# print the selected feature names when k_features = (5, 15)\n",
    "print('Features selelected using backward elimination are: ')\n",
    "print(sfs_backward.k_feature_names_)\n",
    "\n",
    "# print the R-squared value\n",
    "print('\\nR-Squared: ', sfs_backward.k_score_)"
   ]
  },
  {
   "cell_type": "markdown",
   "metadata": {
    "id": "5hrDAuZF7_St"
   },
   "source": [
    "### We can also pass a string 'best' in the k_features that will select the best feature set i.e. k_features = 'best' in the following example."
   ]
  },
  {
   "cell_type": "code",
   "execution_count": 40,
   "metadata": {
    "id": "3RydECRo7_St",
    "outputId": "b0044de4-6160-4aa1-cda0-b07588614f1c",
    "scrolled": false
   },
   "outputs": [
    {
     "name": "stderr",
     "output_type": "stream",
     "text": [
      "[Parallel(n_jobs=1)]: Using backend SequentialBackend with 1 concurrent workers.\n",
      "[Parallel(n_jobs=1)]: Done   1 out of   1 | elapsed:    0.0s remaining:    0.0s\n",
      "[Parallel(n_jobs=1)]: Done  25 out of  25 | elapsed:    0.3s finished\n",
      "\n",
      "[2023-08-27 11:09:59] Features: 24/1 -- score: 0.2779555162962059[Parallel(n_jobs=1)]: Using backend SequentialBackend with 1 concurrent workers.\n",
      "[Parallel(n_jobs=1)]: Done   1 out of   1 | elapsed:    0.0s remaining:    0.0s\n",
      "[Parallel(n_jobs=1)]: Done  24 out of  24 | elapsed:    0.2s finished\n",
      "\n",
      "[2023-08-27 11:09:59] Features: 23/1 -- score: 0.28325149609711686[Parallel(n_jobs=1)]: Using backend SequentialBackend with 1 concurrent workers.\n",
      "[Parallel(n_jobs=1)]: Done   1 out of   1 | elapsed:    0.0s remaining:    0.0s\n",
      "[Parallel(n_jobs=1)]: Done  23 out of  23 | elapsed:    0.3s finished\n",
      "\n",
      "[2023-08-27 11:10:00] Features: 22/1 -- score: 0.2873785977168957[Parallel(n_jobs=1)]: Using backend SequentialBackend with 1 concurrent workers.\n",
      "[Parallel(n_jobs=1)]: Done   1 out of   1 | elapsed:    0.0s remaining:    0.0s\n",
      "[Parallel(n_jobs=1)]: Done  22 out of  22 | elapsed:    0.3s finished\n",
      "\n",
      "[2023-08-27 11:10:00] Features: 21/1 -- score: 0.29093423775920596[Parallel(n_jobs=1)]: Using backend SequentialBackend with 1 concurrent workers.\n",
      "[Parallel(n_jobs=1)]: Done   1 out of   1 | elapsed:    0.0s remaining:    0.0s\n",
      "[Parallel(n_jobs=1)]: Done  21 out of  21 | elapsed:    0.2s finished\n",
      "\n",
      "[2023-08-27 11:10:00] Features: 20/1 -- score: 0.29289745402094186[Parallel(n_jobs=1)]: Using backend SequentialBackend with 1 concurrent workers.\n",
      "[Parallel(n_jobs=1)]: Done   1 out of   1 | elapsed:    0.0s remaining:    0.0s\n",
      "[Parallel(n_jobs=1)]: Done  20 out of  20 | elapsed:    0.2s finished\n",
      "\n",
      "[2023-08-27 11:10:01] Features: 19/1 -- score: 0.2944786041971616[Parallel(n_jobs=1)]: Using backend SequentialBackend with 1 concurrent workers.\n",
      "[Parallel(n_jobs=1)]: Done   1 out of   1 | elapsed:    0.0s remaining:    0.0s\n",
      "[Parallel(n_jobs=1)]: Done  19 out of  19 | elapsed:    0.2s finished\n",
      "\n",
      "[2023-08-27 11:10:01] Features: 18/1 -- score: 0.29603306260342055[Parallel(n_jobs=1)]: Using backend SequentialBackend with 1 concurrent workers.\n",
      "[Parallel(n_jobs=1)]: Done   1 out of   1 | elapsed:    0.0s remaining:    0.0s\n",
      "[Parallel(n_jobs=1)]: Done  18 out of  18 | elapsed:    0.1s finished\n",
      "\n",
      "[2023-08-27 11:10:01] Features: 17/1 -- score: 0.2973059147947963[Parallel(n_jobs=1)]: Using backend SequentialBackend with 1 concurrent workers.\n",
      "[Parallel(n_jobs=1)]: Done   1 out of   1 | elapsed:    0.0s remaining:    0.0s\n",
      "[Parallel(n_jobs=1)]: Done  17 out of  17 | elapsed:    0.1s finished\n",
      "\n",
      "[2023-08-27 11:10:01] Features: 16/1 -- score: 0.29925927665312135[Parallel(n_jobs=1)]: Using backend SequentialBackend with 1 concurrent workers.\n",
      "[Parallel(n_jobs=1)]: Done   1 out of   1 | elapsed:    0.0s remaining:    0.0s\n",
      "[Parallel(n_jobs=1)]: Done  16 out of  16 | elapsed:    0.1s finished\n",
      "\n",
      "[2023-08-27 11:10:01] Features: 15/1 -- score: 0.3000791946858252[Parallel(n_jobs=1)]: Using backend SequentialBackend with 1 concurrent workers.\n",
      "[Parallel(n_jobs=1)]: Done   1 out of   1 | elapsed:    0.0s remaining:    0.0s\n",
      "[Parallel(n_jobs=1)]: Done  15 out of  15 | elapsed:    0.1s finished\n",
      "\n",
      "[2023-08-27 11:10:02] Features: 14/1 -- score: 0.30017087331617914[Parallel(n_jobs=1)]: Using backend SequentialBackend with 1 concurrent workers.\n",
      "[Parallel(n_jobs=1)]: Done   1 out of   1 | elapsed:    0.0s remaining:    0.0s\n",
      "[Parallel(n_jobs=1)]: Done  14 out of  14 | elapsed:    0.0s finished\n",
      "\n",
      "[2023-08-27 11:10:02] Features: 13/1 -- score: 0.30017087331617875[Parallel(n_jobs=1)]: Using backend SequentialBackend with 1 concurrent workers.\n",
      "[Parallel(n_jobs=1)]: Done   1 out of   1 | elapsed:    0.0s remaining:    0.0s\n",
      "[Parallel(n_jobs=1)]: Done  13 out of  13 | elapsed:    0.1s finished\n",
      "\n",
      "[2023-08-27 11:10:02] Features: 12/1 -- score: 0.2995503309675268[Parallel(n_jobs=1)]: Using backend SequentialBackend with 1 concurrent workers.\n",
      "[Parallel(n_jobs=1)]: Done   1 out of   1 | elapsed:    0.0s remaining:    0.0s\n",
      "[Parallel(n_jobs=1)]: Done  12 out of  12 | elapsed:    0.0s finished\n",
      "\n",
      "[2023-08-27 11:10:02] Features: 11/1 -- score: 0.2988519671202927[Parallel(n_jobs=1)]: Using backend SequentialBackend with 1 concurrent workers.\n",
      "[Parallel(n_jobs=1)]: Done   1 out of   1 | elapsed:    0.0s remaining:    0.0s\n",
      "[Parallel(n_jobs=1)]: Done  11 out of  11 | elapsed:    0.0s finished\n",
      "\n",
      "[2023-08-27 11:10:02] Features: 10/1 -- score: 0.2967791706718709[Parallel(n_jobs=1)]: Using backend SequentialBackend with 1 concurrent workers.\n",
      "[Parallel(n_jobs=1)]: Done   1 out of   1 | elapsed:    0.0s remaining:    0.0s\n",
      "[Parallel(n_jobs=1)]: Done  10 out of  10 | elapsed:    0.0s finished\n",
      "\n",
      "[2023-08-27 11:10:02] Features: 9/1 -- score: 0.2949730336410402[Parallel(n_jobs=1)]: Using backend SequentialBackend with 1 concurrent workers.\n",
      "[Parallel(n_jobs=1)]: Done   1 out of   1 | elapsed:    0.0s remaining:    0.0s\n",
      "[Parallel(n_jobs=1)]: Done   9 out of   9 | elapsed:    0.0s finished\n",
      "\n",
      "[2023-08-27 11:10:02] Features: 8/1 -- score: 0.2956425374546664[Parallel(n_jobs=1)]: Using backend SequentialBackend with 1 concurrent workers.\n",
      "[Parallel(n_jobs=1)]: Done   1 out of   1 | elapsed:    0.0s remaining:    0.0s\n",
      "[Parallel(n_jobs=1)]: Done   8 out of   8 | elapsed:    0.0s finished\n",
      "\n",
      "[2023-08-27 11:10:02] Features: 7/1 -- score: 0.2924619543668389[Parallel(n_jobs=1)]: Using backend SequentialBackend with 1 concurrent workers.\n",
      "[Parallel(n_jobs=1)]: Done   1 out of   1 | elapsed:    0.0s remaining:    0.0s\n",
      "[Parallel(n_jobs=1)]: Done   7 out of   7 | elapsed:    0.0s finished\n",
      "\n",
      "[2023-08-27 11:10:03] Features: 6/1 -- score: 0.28719859372703443[Parallel(n_jobs=1)]: Using backend SequentialBackend with 1 concurrent workers.\n",
      "[Parallel(n_jobs=1)]: Done   1 out of   1 | elapsed:    0.0s remaining:    0.0s\n",
      "[Parallel(n_jobs=1)]: Done   6 out of   6 | elapsed:    0.0s finished\n",
      "\n",
      "[2023-08-27 11:10:03] Features: 5/1 -- score: 0.28037716951895764[Parallel(n_jobs=1)]: Using backend SequentialBackend with 1 concurrent workers.\n",
      "[Parallel(n_jobs=1)]: Done   1 out of   1 | elapsed:    0.0s remaining:    0.0s\n",
      "[Parallel(n_jobs=1)]: Done   5 out of   5 | elapsed:    0.0s finished\n",
      "\n",
      "[2023-08-27 11:10:03] Features: 4/1 -- score: 0.2510895704129953[Parallel(n_jobs=1)]: Using backend SequentialBackend with 1 concurrent workers.\n",
      "[Parallel(n_jobs=1)]: Done   1 out of   1 | elapsed:    0.0s remaining:    0.0s\n",
      "[Parallel(n_jobs=1)]: Done   4 out of   4 | elapsed:    0.0s finished\n",
      "\n",
      "[2023-08-27 11:10:03] Features: 3/1 -- score: 0.21327086455476704[Parallel(n_jobs=1)]: Using backend SequentialBackend with 1 concurrent workers.\n",
      "[Parallel(n_jobs=1)]: Done   1 out of   1 | elapsed:    0.0s remaining:    0.0s\n",
      "[Parallel(n_jobs=1)]: Done   3 out of   3 | elapsed:    0.0s finished\n",
      "\n",
      "[2023-08-27 11:10:03] Features: 2/1 -- score: 0.19054438094309728[Parallel(n_jobs=1)]: Using backend SequentialBackend with 1 concurrent workers.\n",
      "[Parallel(n_jobs=1)]: Done   1 out of   1 | elapsed:    0.0s remaining:    0.0s\n",
      "[Parallel(n_jobs=1)]: Done   2 out of   2 | elapsed:    0.0s finished\n",
      "\n",
      "[2023-08-27 11:10:03] Features: 1/1 -- score: 0.10055135273083397"
     ]
    }
   ],
   "source": [
    "# initiate linear regression model to use in feature selection\n",
    "linreg = LinearRegression()\n",
    "\n",
    "# build step backward feature selection\n",
    "# pass the regression model to 'estimator'\n",
    "# pass number of required features to 'k_features'. 'best' means that a best possible subset will be selected \n",
    "# 'forward=False' performs backward selection method\n",
    "# 'verbose=1' returns the number of features at the corresponding step\n",
    "# 'scoring=r2' considers R-squared score to select the feature\n",
    "linreg_backward = sfs(estimator = linreg, k_features = 'best', forward = False,\n",
    "                     verbose = 2, scoring = 'r2')\n",
    "\n",
    "# fit the backward elimination on training data using fit()\n",
    "# we use the independent variables including intersection variable 'T_out*RH_out'\n",
    "sfs_backward = linreg_backward.fit(X_train_inter, y_train_inter)"
   ]
  },
  {
   "cell_type": "code",
   "execution_count": 41,
   "metadata": {
    "id": "DUbVf35F7_St",
    "outputId": "7f645e2b-4708-4cb3-f417-712969c0f1f8"
   },
   "outputs": [
    {
     "name": "stdout",
     "output_type": "stream",
     "text": [
      "Features selelected using backward elimination are: \n",
      "('const', 'RH_1', 'T3', 'T6', 'T7', 'T8', 'RH_8', 'T9', 'RH_9', 'T_out', 'Press_mm_hg', 'RH_out', 'Windspeed', 'Temp*RH')\n",
      "\n",
      "R-Squared:  0.30017087331617914\n"
     ]
    }
   ],
   "source": [
    "# print the selected feature names when k_features = 'best'\n",
    "print('Features selelected using backward elimination are: ')\n",
    "print(sfs_backward.k_feature_names_)\n",
    "\n",
    "# print the R-squared value\n",
    "print('\\nR-Squared: ', sfs_backward.k_score_)"
   ]
  },
  {
   "cell_type": "markdown",
   "metadata": {
    "id": "bV1UpIU_7_St"
   },
   "source": [
    "The interaction variable has been selected in the backward elimination method."
   ]
  },
  {
   "cell_type": "markdown",
   "metadata": {
    "id": "o5Q_VAWQ7_St"
   },
   "source": [
    "<a id=\"rfe\"></a>\n",
    "# 6. Recursive Feature Elimination (RFE)"
   ]
  },
  {
   "cell_type": "markdown",
   "metadata": {
    "id": "uNEbAP5O7_St"
   },
   "source": [
    "It is the process that returns the significant features in the dataset by recursively removing the less significant feature subsets."
   ]
  },
  {
   "cell_type": "code",
   "execution_count": 42,
   "metadata": {
    "id": "_1G5lX137_St",
    "outputId": "e6fe2508-a6ac-40d7-fa50-b3c5312c0192"
   },
   "outputs": [
    {
     "name": "stdout",
     "output_type": "stream",
     "text": [
      "Index(['RH_1', 'T2', 'RH_2', 'T3', 'T4', 'RH_4', 'T7', 'T8', 'RH_8', 'T9',\n",
      "       'RH_9', 'Windspeed'],\n",
      "      dtype='object')\n"
     ]
    }
   ],
   "source": [
    "# initiate linear regression model to use in feature selection\n",
    "linreg_rfe = LinearRegression()\n",
    "\n",
    "# build the RFE model\n",
    "# pass the regression model to 'estimator'\n",
    "# pass number of required features to 'n_features_to_select'\n",
    "# if we do not pass the number of features, RFE considers half of the features\n",
    "rfe_model = RFE(estimator=linreg_rfe, n_features_to_select = 12)\n",
    "\n",
    "# fit the RFE model on the training dataset using fit()\n",
    "# we use the independent variables including intersection variable 'T_out*RH_out'\n",
    "rfe_model = rfe_model.fit(X_train_inter, y_train_inter)\n",
    "\n",
    "# create a series containing feature and its corresponding rank obtained from RFE\n",
    "# 'ranking_' returns the rank of each variable after applying RFE\n",
    "# pass the ranks as the 'data' of a series\n",
    "# 'index' assigns feature names as index of a series \n",
    "feat_index = pd.Series(data = rfe_model.ranking_, index = X_train_inter.columns)\n",
    "\n",
    "# select the features with rank = 1\n",
    "# 'index' returns the indices of a series (i.e. features with rank=1) \n",
    "signi_feat_rfe = feat_index[feat_index==1].index\n",
    "\n",
    "# print the significant features obtained from RFE\n",
    "print(signi_feat_rfe)"
   ]
  },
  {
   "cell_type": "markdown",
   "metadata": {
    "id": "MGP32JkM7_Su"
   },
   "source": [
    "Lets create a linear regression model using the significant variables obtained after RFE."
   ]
  },
  {
   "cell_type": "code",
   "execution_count": 43,
   "metadata": {
    "id": "fNAC3m9a7_Su",
    "outputId": "a3275fa2-ff7e-4172-a04f-db9af04efd08"
   },
   "outputs": [
    {
     "data": {
      "text/plain": [
       "0.34090455423132326"
      ]
     },
     "execution_count": 43,
     "metadata": {},
     "output_type": "execute_result"
    }
   ],
   "source": [
    "# store the X_train with significant variables in new_X_train\n",
    "new_X_train = X_train_inter[['RH_1', 'T2', 'RH_2', 'T3', 'T4', 'RH_4', 'T7', 'T8', 'RH_8', 'T9', 'RH_9', 'Windspeed']]\n",
    "\n",
    "# initiate linear regression\n",
    "linreg = LinearRegression()\n",
    "\n",
    "# build the model using new_X_train and y_train\n",
    "linreg.fit(new_X_train, y_train)\n",
    "\n",
    "# check the score\n",
    "linreg.score(new_X_train, y_train)"
   ]
  },
  {
   "cell_type": "markdown",
   "metadata": {
    "id": "fw1zUI8h7_Su"
   },
   "source": [
    "<a id=\"cv\"></a>\n",
    "# 7. Cross Validation"
   ]
  },
  {
   "cell_type": "markdown",
   "metadata": {
    "id": "wf5HZmDn7_Su"
   },
   "source": [
    "<a id=\"kfold\"></a>\n",
    "## 7.1 K-Fold Cross Validation\n",
    "K-Fold cross validation is where a given dataset is divided into `K` folds where at some stage each fold is used as a test set."
   ]
  },
  {
   "cell_type": "code",
   "execution_count": 44,
   "metadata": {
    "id": "PM4vtmJ-7_Su"
   },
   "outputs": [],
   "source": [
    "# n_splits: specify the number of k folds\n",
    "kf = KFold(n_splits = 5)"
   ]
  },
  {
   "cell_type": "code",
   "execution_count": 45,
   "metadata": {
    "id": "rhZZ7xK67_Sv"
   },
   "outputs": [],
   "source": [
    "# create a function 'get_score' that returns the R-squared score for the training set\n",
    "# 'get_score' takes 5 input parameters\n",
    "def get_score(model, X_train_k, X_test_k, y_train_k, y_test_k):\n",
    "    model.fit(X_train_k, y_train_k)                                   # fit the model\n",
    "    return model.score(X_test_k, y_test_k)                            # return the R-squared value"
   ]
  },
  {
   "cell_type": "code",
   "execution_count": 46,
   "metadata": {
    "id": "f2I7MCxz7_Sv",
    "outputId": "156e6940-6a86-445d-df6d-9a25527f2ac8"
   },
   "outputs": [
    {
     "name": "stdout",
     "output_type": "stream",
     "text": [
      "All scores:  [0.22342476437989345, 0.21243514495902405, 0.3393008059485574, 0.22429263310616276, 0.2927197510070635]\n",
      "\n",
      "Minimum score obtained:  0.2124\n",
      "Maximum score obtained:  0.3393\n",
      "Average score obtained:  0.2584\n"
     ]
    }
   ],
   "source": [
    "# create an empty list to store the scores\n",
    "scores = []\n",
    "\n",
    "# kf.split() splits the indices of X_train_inter into train_index and test_index\n",
    "# further dividing the X_train_inter and y_train_inter sets into train and test sets for cross validation\n",
    "# Remember: Cross validation works on training set not on test set\n",
    "# use '\\' for stacking the code \n",
    "for train_index, test_index in kf.split(X_train_inter):\n",
    "    X_train_k, X_test_k, y_train_k, y_test_k = X_train_inter.iloc[train_index], X_train_inter.iloc[test_index], \\\n",
    "                                               y_train_inter.iloc[train_index], y_train_inter.iloc[test_index]\n",
    "   \n",
    "    # call the function 'get_scores()' and append the scores in the list 'scores'\n",
    "    scores.append(get_score(LinearRegression(), X_train_k, X_test_k, y_train_k, y_test_k)) \n",
    "    \n",
    "# print all scores\n",
    "print('All scores: ', scores)\n",
    "\n",
    "# print the minimum score from the list\n",
    "# use 'round()' to round-off the minimum score upto 4 digits\n",
    "# min() returns minimum score \n",
    "print(\"\\nMinimum score obtained: \", round(min(scores), 4))\n",
    "\n",
    "# print the maximum score from the list\n",
    "# use 'round()' to round-off the maximum score upto 4 digits\n",
    "# max() returns maximum score \n",
    "print(\"Maximum score obtained: \", round(max(scores), 4))\n",
    "\n",
    "# print the average score from the list\n",
    "# use 'round()' to round-off the average score upto 4 digits\n",
    "# np.mean() returns average score \n",
    "print(\"Average score obtained: \", round(np.mean(scores), 4))"
   ]
  },
  {
   "cell_type": "markdown",
   "metadata": {
    "id": "UJ76YgmD7_Sv"
   },
   "source": [
    "### K-Fold Cross Validation using `cross_val_score()`"
   ]
  },
  {
   "cell_type": "markdown",
   "metadata": {
    "id": "-8PtZ0Bq7_Sv"
   },
   "source": [
    "`cross_val_score()` also does the stratified sampling internally if required"
   ]
  },
  {
   "cell_type": "code",
   "execution_count": 47,
   "metadata": {
    "id": "M85SfpY57_Sw"
   },
   "outputs": [],
   "source": [
    "# using cross_val_score() for k-fold cross validation\n",
    "# estimator: pass the machine learning function. Here we are performing linear regression\n",
    "# pass the X_train_inter and y_train_inter sets\n",
    "# cv: stands for number of folds. Similar to k in KFold\n",
    "# scoring: pass the scoring parameter e.g. 'r2' for r-squared, 'neg_mean_squared_error' for mean squared error (negative)\n",
    "scores = cross_val_score(estimator = LinearRegression(), \n",
    "                         X = X_train_inter, \n",
    "                         y = y_train_inter, \n",
    "                         cv = 5, \n",
    "                         scoring = 'r2')"
   ]
  },
  {
   "cell_type": "code",
   "execution_count": 48,
   "metadata": {
    "id": "Zv0W_X8v7_Sw",
    "outputId": "fb64507a-4913-422b-b902-e37968ccaf94"
   },
   "outputs": [
    {
     "name": "stdout",
     "output_type": "stream",
     "text": [
      "All scores:  [0.22342476 0.21243514 0.33930081 0.22429263 0.29271975]\n",
      "\n",
      "Minimum score obtained:  0.2124\n",
      "Maximum score obtained:  0.3393\n",
      "Average score obtained:  0.2584\n"
     ]
    }
   ],
   "source": [
    "# print all scores\n",
    "print('All scores: ', scores)\n",
    "\n",
    "# print the minimum score from the list\n",
    "# use 'round()' to round-off the minimum score upto 4 digits\n",
    "# min() returns minimum score \n",
    "print(\"\\nMinimum score obtained: \", round(min(scores), 4))\n",
    "\n",
    "# print the maximum score from the list\n",
    "# use 'round()' to round-off the maximum score upto 4 digits\n",
    "# max() returns maximum score \n",
    "print(\"Maximum score obtained: \", round(max(scores), 4))\n",
    "\n",
    "# print the average score from the list\n",
    "# use 'round()' to round-off the average score upto 4 digits\n",
    "# np.mean() returns average score \n",
    "print(\"Average score obtained: \", round(np.mean(scores), 4))"
   ]
  },
  {
   "cell_type": "markdown",
   "metadata": {
    "id": "UJ3PVKQe7_Sw"
   },
   "source": [
    "We can see that we got the same scores from `KFold()` and `cross_val_score()`."
   ]
  },
  {
   "cell_type": "markdown",
   "metadata": {
    "id": "uCP-46Wj7_Sw"
   },
   "source": [
    "<a id=\"loocv\"></a>\n",
    "## 7.2 Leave One Out Cross Validation (LOOCV)\n",
    "It is a process in which the model is trained on the training dataset, with the exception of only one data point, which is used to test the model. This method increases the variance, as only one data point is used for testing. LOOCV can be time consuming as k is equal to the number of observations.\n",
    "\n",
    "In LOOCV, the estimates from each fold are highly correlated and their average can have a high level of variance."
   ]
  },
  {
   "cell_type": "code",
   "execution_count": 49,
   "metadata": {
    "id": "2cZlbIzQ7_Sw"
   },
   "outputs": [],
   "source": [
    "# creating a function 'get_score' that returns the R-squared score for the training set\n",
    "# 'get_score' takes 5 input parameters\n",
    "def get_score(model, X_train_k, X_test_k, y_train_k, y_test_k):\n",
    "    model.fit(X_train_k, y_train_k)                               # fit the model\n",
    "    return model.score(X_test_k, y_test_k)                        # return the R-squared value"
   ]
  },
  {
   "cell_type": "code",
   "execution_count": 50,
   "metadata": {
    "id": "t8vnLyC87_Sw"
   },
   "outputs": [],
   "source": [
    "# create an empty to store the MSE for each model\n",
    "loocv_rmse = []\n",
    "\n",
    "# instantiate the LOOCV method \n",
    "loocv = LeaveOneOut()\n",
    "\n",
    "# use the for loop to build the regression model for each cross validation \n",
    "# use split() to split the dataset into two subsets; one with (n-1) data points and another with 1 data point\n",
    "# where, n = total number of observations\n",
    "\n",
    "for train_index, test_index in loocv.split(X_train_inter):\n",
    "    # create the train dataset, use iloc[] to retrieve the corresponding observations in train data\n",
    "    # create the test dataset, use iloc[] to retrieve the corresponding observations in test data\n",
    "    # # use '\\' for stacking the code \n",
    "    X_train_l, X_test_l, y_train_l, y_test_l = X_train_inter.iloc[train_index], X_train_inter.iloc[test_index], \\\n",
    "                                               y_train_inter.iloc[train_index], y_train_inter.iloc[test_index]\n",
    "    \n",
    "    # instantiate the regression model\n",
    "    linreg = LinearRegression()\n",
    "    \n",
    "    # fit the model on training dataset\n",
    "    linreg.fit(X_train_l, y_train_l)\n",
    "    \n",
    "    # calculate MSE using test dataset\n",
    "    # use predict() to predict the values of target variable\n",
    "    mse = mean_squared_error(y_test_l, linreg.predict(X_test_l))\n",
    "    \n",
    "    # calculate the RMSE\n",
    "    rmse = np.sqrt(mse)\n",
    "    \n",
    "    # use append() to add each RMSE to the list 'loocv_rmse'\n",
    "    loocv_rmse.append(rmse)"
   ]
  },
  {
   "cell_type": "code",
   "execution_count": 51,
   "metadata": {
    "id": "sMsCMFf-7_Sw",
    "outputId": "d3df98d8-d6e4-4781-86e3-99f0d982f671"
   },
   "outputs": [
    {
     "name": "stdout",
     "output_type": "stream",
     "text": [
      "\n",
      "Minimum rmse obtained:  0.0382\n",
      "Maximum rmse obtained:  122.5265\n",
      "Average rmse obtained:  16.081\n"
     ]
    }
   ],
   "source": [
    "# print the minimum rmse from the list\n",
    "# use 'round()' to round-off the minimum rmse upto 4 digits\n",
    "# min() returns minimum rmse \n",
    "print(\"\\nMinimum rmse obtained: \", round(min(loocv_rmse), 4))\n",
    "\n",
    "# print the maximum rmse from the list\n",
    "# use 'round()' to round-off the maximum rmse upto 4 digits\n",
    "# max() returns maximum rmse \n",
    "print(\"Maximum rmse obtained: \", round(max(loocv_rmse), 4))\n",
    "\n",
    "# print the average rmse from the list\n",
    "# use 'round()' to round-off the average rmse upto 4 digits\n",
    "# np.mean() returns average rmse \n",
    "print(\"Average rmse obtained: \", round(np.mean(loocv_rmse), 4))"
   ]
  }
 ],
 "metadata": {
  "colab": {
   "provenance": []
  },
  "kernelspec": {
   "display_name": "Python 3 (ipykernel)",
   "language": "python",
   "name": "python3"
  },
  "language_info": {
   "codemirror_mode": {
    "name": "ipython",
    "version": 3
   },
   "file_extension": ".py",
   "mimetype": "text/x-python",
   "name": "python",
   "nbconvert_exporter": "python",
   "pygments_lexer": "ipython3",
   "version": "3.10.9"
  }
 },
 "nbformat": 4,
 "nbformat_minor": 1
}
