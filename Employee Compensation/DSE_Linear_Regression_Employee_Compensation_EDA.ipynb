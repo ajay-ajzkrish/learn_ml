{
 "cells": [
  {
   "cell_type": "code",
   "execution_count": 1,
   "metadata": {
    "id": "zmjKM8dVM4lO"
   },
   "outputs": [],
   "source": [
    "import seaborn as sns\n",
    "import numpy as np\n",
    "import pandas as pd\n",
    "import scipy.stats as stats\n",
    "import matplotlib.pyplot as plt\n",
    "\n",
    "from pylab import rcParams\n",
    "\n",
    "import warnings\n",
    "warnings.filterwarnings(\"ignore\")\n",
    "# from pandas import Series,DataFrame"
   ]
  },
  {
   "cell_type": "code",
   "execution_count": 2,
   "metadata": {
    "id": "56GbAmu5NBj4"
   },
   "outputs": [],
   "source": [
    "rcParams['figure.figsize'] = 10,6"
   ]
  },
  {
   "cell_type": "code",
   "execution_count": 3,
   "metadata": {
    "colab": {
     "base_uri": "https://localhost:8080/",
     "height": 270
    },
    "id": "wIeTWs_mQnjv",
    "outputId": "44c95a2c-8801-4a3c-a2dd-b34418799087"
   },
   "outputs": [
    {
     "data": {
      "text/html": [
       "<div>\n",
       "<style scoped>\n",
       "    .dataframe tbody tr th:only-of-type {\n",
       "        vertical-align: middle;\n",
       "    }\n",
       "\n",
       "    .dataframe tbody tr th {\n",
       "        vertical-align: top;\n",
       "    }\n",
       "\n",
       "    .dataframe thead th {\n",
       "        text-align: right;\n",
       "    }\n",
       "</style>\n",
       "<table border=\"1\" class=\"dataframe\">\n",
       "  <thead>\n",
       "    <tr style=\"text-align: right;\">\n",
       "      <th></th>\n",
       "      <th>Year_Type</th>\n",
       "      <th>Year</th>\n",
       "      <th>Employee_Identifier</th>\n",
       "      <th>Salaries</th>\n",
       "      <th>Overtime</th>\n",
       "      <th>Other_Salaries</th>\n",
       "      <th>Total_Salary</th>\n",
       "      <th>Retirement</th>\n",
       "      <th>Health/Dental</th>\n",
       "      <th>Other_Benefits</th>\n",
       "      <th>Total_Benefits</th>\n",
       "      <th>Total_Compensation</th>\n",
       "    </tr>\n",
       "  </thead>\n",
       "  <tbody>\n",
       "    <tr>\n",
       "      <th>0</th>\n",
       "      <td>Fiscal</td>\n",
       "      <td>2015</td>\n",
       "      <td>42853</td>\n",
       "      <td>92288.22</td>\n",
       "      <td>267.45</td>\n",
       "      <td>267.45</td>\n",
       "      <td>92823.12</td>\n",
       "      <td>20700.20</td>\n",
       "      <td>12500.56</td>\n",
       "      <td>7605.75</td>\n",
       "      <td>40806.51</td>\n",
       "      <td>133629.63</td>\n",
       "    </tr>\n",
       "    <tr>\n",
       "      <th>1</th>\n",
       "      <td>Calendar</td>\n",
       "      <td>2015</td>\n",
       "      <td>28248</td>\n",
       "      <td>1466.38</td>\n",
       "      <td>348.23</td>\n",
       "      <td>0.00</td>\n",
       "      <td>1814.61</td>\n",
       "      <td>0.00</td>\n",
       "      <td>442.03</td>\n",
       "      <td>141.59</td>\n",
       "      <td>583.62</td>\n",
       "      <td>2398.23</td>\n",
       "    </tr>\n",
       "    <tr>\n",
       "      <th>2</th>\n",
       "      <td>Fiscal</td>\n",
       "      <td>2014</td>\n",
       "      <td>30651</td>\n",
       "      <td>76536.95</td>\n",
       "      <td>13583.72</td>\n",
       "      <td>10855.94</td>\n",
       "      <td>100976.61</td>\n",
       "      <td>18632.19</td>\n",
       "      <td>12464.61</td>\n",
       "      <td>8011.41</td>\n",
       "      <td>39108.21</td>\n",
       "      <td>140084.82</td>\n",
       "    </tr>\n",
       "    <tr>\n",
       "      <th>3</th>\n",
       "      <td>Fiscal</td>\n",
       "      <td>2014</td>\n",
       "      <td>19473</td>\n",
       "      <td>45659.88</td>\n",
       "      <td>0.00</td>\n",
       "      <td>1625.37</td>\n",
       "      <td>47285.25</td>\n",
       "      <td>10081.20</td>\n",
       "      <td>0.00</td>\n",
       "      <td>3936.63</td>\n",
       "      <td>14017.83</td>\n",
       "      <td>61303.08</td>\n",
       "    </tr>\n",
       "    <tr>\n",
       "      <th>4</th>\n",
       "      <td>Fiscal</td>\n",
       "      <td>2013</td>\n",
       "      <td>7176</td>\n",
       "      <td>41832.00</td>\n",
       "      <td>0.00</td>\n",
       "      <td>0.00</td>\n",
       "      <td>41832.00</td>\n",
       "      <td>7617.60</td>\n",
       "      <td>5908.52</td>\n",
       "      <td>3254.50</td>\n",
       "      <td>16780.62</td>\n",
       "      <td>58612.62</td>\n",
       "    </tr>\n",
       "  </tbody>\n",
       "</table>\n",
       "</div>"
      ],
      "text/plain": [
       "  Year_Type  Year  Employee_Identifier  Salaries  Overtime  Other_Salaries  \\\n",
       "0    Fiscal  2015                42853  92288.22    267.45          267.45   \n",
       "1  Calendar  2015                28248   1466.38    348.23            0.00   \n",
       "2    Fiscal  2014                30651  76536.95  13583.72        10855.94   \n",
       "3    Fiscal  2014                19473  45659.88      0.00         1625.37   \n",
       "4    Fiscal  2013                 7176  41832.00      0.00            0.00   \n",
       "\n",
       "   Total_Salary  Retirement  Health/Dental  Other_Benefits  Total_Benefits  \\\n",
       "0      92823.12    20700.20       12500.56         7605.75        40806.51   \n",
       "1       1814.61        0.00         442.03          141.59          583.62   \n",
       "2     100976.61    18632.19       12464.61         8011.41        39108.21   \n",
       "3      47285.25    10081.20           0.00         3936.63        14017.83   \n",
       "4      41832.00     7617.60        5908.52         3254.50        16780.62   \n",
       "\n",
       "   Total_Compensation  \n",
       "0           133629.63  \n",
       "1             2398.23  \n",
       "2           140084.82  \n",
       "3            61303.08  \n",
       "4            58612.62  "
      ]
     },
     "execution_count": 3,
     "metadata": {},
     "output_type": "execute_result"
    }
   ],
   "source": [
    "df_emp=pd.read_csv(\"employee_compensation.csv\")\n",
    "df_emp.head()"
   ]
  },
  {
   "cell_type": "markdown",
   "metadata": {
    "id": "itNVBMO3SA9w"
   },
   "source": [
    "**We are going to build a model that will predict the compensation**"
   ]
  },
  {
   "cell_type": "code",
   "execution_count": 4,
   "metadata": {
    "id": "1gWi5bh_SHGZ"
   },
   "outputs": [],
   "source": [
    "# salary + overtime + other_salaries = Total Salary\n",
    "# retirement + health/Dental + other benefits = Total_Benefits\n",
    "# presence of multicollinearity."
   ]
  },
  {
   "cell_type": "markdown",
   "metadata": {
    "id": "_ghmF2QETWoQ"
   },
   "source": [
    "There will be correlation between the data points for Total Salary and Total Benefits"
   ]
  },
  {
   "cell_type": "markdown",
   "metadata": {
    "id": "RajK1nUaTp5m"
   },
   "source": [
    "### Procedure for Solving the Problems"
   ]
  },
  {
   "cell_type": "markdown",
   "metadata": {
    "id": "FSHJHFEWTzuw"
   },
   "source": [
    "1. Univariate Analysis.\n",
    "2. Outlier Treatment.\n",
    "3. Missing Value Treatment.\n",
    "4. Univariate.\n",
    "5. Bivariate. - Num vs Num (Scatter Plot). Cat vs Num(Boxplot)\n",
    "6. Multivariate.\n",
    "7. Feature Engineering.\n",
    "8. Scaling and Transformation."
   ]
  },
  {
   "cell_type": "markdown",
   "metadata": {
    "id": "vwpJEL5UUR-Y"
   },
   "source": [
    "### Modelling"
   ]
  },
  {
   "cell_type": "markdown",
   "metadata": {
    "id": "Ca2FMhQNUWjQ"
   },
   "source": [
    "1. Split the Data into Train and Test.\n",
    "2. Build the Model- Linear Regression.\n",
    "3. Evaluate the performance - r2 , RMSE.\n",
    "4. Underfitting vs Overfitting (Bias vs Variance).\n",
    "5. Assumption of the Model.\n",
    "7. Cross validation Approach and Feature Selection.\n",
    "6. If Assumptions fail - then apply Decision Tree, Random Forest, Bagging, Boosting models are build."
   ]
  },
  {
   "cell_type": "markdown",
   "metadata": {
    "id": "_YsItVeWWi7B"
   },
   "source": [
    "### Remove Insignificant Variables"
   ]
  },
  {
   "cell_type": "markdown",
   "metadata": {
    "id": "Ef4aHzVq8Zzd"
   },
   "source": [
    "1. Year is categorical. You cannot do operation on it\n",
    "2. Emp Id is not required."
   ]
  },
  {
   "cell_type": "code",
   "execution_count": 5,
   "metadata": {
    "colab": {
     "base_uri": "https://localhost:8080/",
     "height": 270
    },
    "id": "Gh3etDp6SeII",
    "outputId": "c772f2e2-eb53-461c-ea09-d6d5da6257aa"
   },
   "outputs": [
    {
     "data": {
      "text/html": [
       "<div>\n",
       "<style scoped>\n",
       "    .dataframe tbody tr th:only-of-type {\n",
       "        vertical-align: middle;\n",
       "    }\n",
       "\n",
       "    .dataframe tbody tr th {\n",
       "        vertical-align: top;\n",
       "    }\n",
       "\n",
       "    .dataframe thead th {\n",
       "        text-align: right;\n",
       "    }\n",
       "</style>\n",
       "<table border=\"1\" class=\"dataframe\">\n",
       "  <thead>\n",
       "    <tr style=\"text-align: right;\">\n",
       "      <th></th>\n",
       "      <th>Year_Type</th>\n",
       "      <th>Salaries</th>\n",
       "      <th>Overtime</th>\n",
       "      <th>Other_Salaries</th>\n",
       "      <th>Total_Salary</th>\n",
       "      <th>Retirement</th>\n",
       "      <th>Health/Dental</th>\n",
       "      <th>Other_Benefits</th>\n",
       "      <th>Total_Benefits</th>\n",
       "      <th>Total_Compensation</th>\n",
       "    </tr>\n",
       "  </thead>\n",
       "  <tbody>\n",
       "    <tr>\n",
       "      <th>0</th>\n",
       "      <td>Fiscal</td>\n",
       "      <td>92288.22</td>\n",
       "      <td>267.45</td>\n",
       "      <td>267.45</td>\n",
       "      <td>92823.12</td>\n",
       "      <td>20700.20</td>\n",
       "      <td>12500.56</td>\n",
       "      <td>7605.75</td>\n",
       "      <td>40806.51</td>\n",
       "      <td>133629.63</td>\n",
       "    </tr>\n",
       "    <tr>\n",
       "      <th>1</th>\n",
       "      <td>Calendar</td>\n",
       "      <td>1466.38</td>\n",
       "      <td>348.23</td>\n",
       "      <td>0.00</td>\n",
       "      <td>1814.61</td>\n",
       "      <td>0.00</td>\n",
       "      <td>442.03</td>\n",
       "      <td>141.59</td>\n",
       "      <td>583.62</td>\n",
       "      <td>2398.23</td>\n",
       "    </tr>\n",
       "    <tr>\n",
       "      <th>2</th>\n",
       "      <td>Fiscal</td>\n",
       "      <td>76536.95</td>\n",
       "      <td>13583.72</td>\n",
       "      <td>10855.94</td>\n",
       "      <td>100976.61</td>\n",
       "      <td>18632.19</td>\n",
       "      <td>12464.61</td>\n",
       "      <td>8011.41</td>\n",
       "      <td>39108.21</td>\n",
       "      <td>140084.82</td>\n",
       "    </tr>\n",
       "    <tr>\n",
       "      <th>3</th>\n",
       "      <td>Fiscal</td>\n",
       "      <td>45659.88</td>\n",
       "      <td>0.00</td>\n",
       "      <td>1625.37</td>\n",
       "      <td>47285.25</td>\n",
       "      <td>10081.20</td>\n",
       "      <td>0.00</td>\n",
       "      <td>3936.63</td>\n",
       "      <td>14017.83</td>\n",
       "      <td>61303.08</td>\n",
       "    </tr>\n",
       "    <tr>\n",
       "      <th>4</th>\n",
       "      <td>Fiscal</td>\n",
       "      <td>41832.00</td>\n",
       "      <td>0.00</td>\n",
       "      <td>0.00</td>\n",
       "      <td>41832.00</td>\n",
       "      <td>7617.60</td>\n",
       "      <td>5908.52</td>\n",
       "      <td>3254.50</td>\n",
       "      <td>16780.62</td>\n",
       "      <td>58612.62</td>\n",
       "    </tr>\n",
       "  </tbody>\n",
       "</table>\n",
       "</div>"
      ],
      "text/plain": [
       "  Year_Type  Salaries  Overtime  Other_Salaries  Total_Salary  Retirement  \\\n",
       "0    Fiscal  92288.22    267.45          267.45      92823.12    20700.20   \n",
       "1  Calendar   1466.38    348.23            0.00       1814.61        0.00   \n",
       "2    Fiscal  76536.95  13583.72        10855.94     100976.61    18632.19   \n",
       "3    Fiscal  45659.88      0.00         1625.37      47285.25    10081.20   \n",
       "4    Fiscal  41832.00      0.00            0.00      41832.00     7617.60   \n",
       "\n",
       "   Health/Dental  Other_Benefits  Total_Benefits  Total_Compensation  \n",
       "0       12500.56         7605.75        40806.51           133629.63  \n",
       "1         442.03          141.59          583.62             2398.23  \n",
       "2       12464.61         8011.41        39108.21           140084.82  \n",
       "3           0.00         3936.63        14017.83            61303.08  \n",
       "4        5908.52         3254.50        16780.62            58612.62  "
      ]
     },
     "execution_count": 5,
     "metadata": {},
     "output_type": "execute_result"
    }
   ],
   "source": [
    "df_emp.drop(['Employee_Identifier','Year'],axis=1,inplace=True)\n",
    "df_emp.head()"
   ]
  },
  {
   "cell_type": "code",
   "execution_count": 6,
   "metadata": {
    "colab": {
     "base_uri": "https://localhost:8080/"
    },
    "id": "ntOW4ysPYWmZ",
    "outputId": "993b9dd2-6e78-487b-fa03-505fcbf60ba1"
   },
   "outputs": [
    {
     "data": {
      "text/plain": [
       "(50000, 10)"
      ]
     },
     "execution_count": 6,
     "metadata": {},
     "output_type": "execute_result"
    }
   ],
   "source": [
    "df_emp.shape"
   ]
  },
  {
   "cell_type": "markdown",
   "metadata": {
    "id": "SUOXPdW-ZI9F"
   },
   "source": [
    "### Pre Checks"
   ]
  },
  {
   "cell_type": "code",
   "execution_count": 7,
   "metadata": {
    "colab": {
     "base_uri": "https://localhost:8080/"
    },
    "id": "ZoD3DX8JZV8R",
    "outputId": "a035241e-5389-48af-88fe-b9a6c01b1835"
   },
   "outputs": [
    {
     "name": "stdout",
     "output_type": "stream",
     "text": [
      "<class 'pandas.core.frame.DataFrame'>\n",
      "RangeIndex: 50000 entries, 0 to 49999\n",
      "Data columns (total 10 columns):\n",
      " #   Column              Non-Null Count  Dtype  \n",
      "---  ------              --------------  -----  \n",
      " 0   Year_Type           50000 non-null  object \n",
      " 1   Salaries            50000 non-null  float64\n",
      " 2   Overtime            50000 non-null  float64\n",
      " 3   Other_Salaries      50000 non-null  float64\n",
      " 4   Total_Salary        50000 non-null  float64\n",
      " 5   Retirement          50000 non-null  float64\n",
      " 6   Health/Dental       50000 non-null  float64\n",
      " 7   Other_Benefits      50000 non-null  float64\n",
      " 8   Total_Benefits      50000 non-null  float64\n",
      " 9   Total_Compensation  50000 non-null  float64\n",
      "dtypes: float64(9), object(1)\n",
      "memory usage: 3.8+ MB\n"
     ]
    }
   ],
   "source": [
    "df_emp.info()"
   ]
  },
  {
   "cell_type": "markdown",
   "metadata": {
    "id": "9QcynQ-XZ8hA"
   },
   "source": [
    "**Seperate the Numerical variables**"
   ]
  },
  {
   "cell_type": "code",
   "execution_count": 8,
   "metadata": {
    "colab": {
     "base_uri": "https://localhost:8080/"
    },
    "id": "9bINgeGAaOBi",
    "outputId": "5247b809-a0d4-405c-a443-5a884adffd52"
   },
   "outputs": [
    {
     "data": {
      "text/plain": [
       "['Salaries',\n",
       " 'Overtime',\n",
       " 'Other_Salaries',\n",
       " 'Total_Salary',\n",
       " 'Retirement',\n",
       " 'Health/Dental',\n",
       " 'Other_Benefits',\n",
       " 'Total_Benefits',\n",
       " 'Total_Compensation']"
      ]
     },
     "execution_count": 8,
     "metadata": {},
     "output_type": "execute_result"
    }
   ],
   "source": [
    "# exclude=np.number will return all categorical data\n",
    "cols=list(df_emp.select_dtypes(include=np.number).columns)\n",
    "cols"
   ]
  },
  {
   "cell_type": "code",
   "execution_count": 9,
   "metadata": {
    "colab": {
     "base_uri": "https://localhost:8080/",
     "height": 217
    },
    "id": "hF1gZ-qou4L4",
    "outputId": "8ab876fd-53f6-48a9-c40b-07a9f32dc2fe"
   },
   "outputs": [
    {
     "data": {
      "image/jpeg": "[encoded data removed]",
      "text/plain": [
       "<IPython.core.display.Image object>"
      ]
     },
     "execution_count": 9,
     "metadata": {
      "image/jpeg": {
       "height": 200,
       "width": 600
      }
     },
     "output_type": "execute_result"
    }
   ],
   "source": [
    "from IPython.display import Image\n",
    "Image(filename='Univariate.JPG',width=600,height=200)"
   ]
  },
  {
   "cell_type": "markdown",
   "metadata": {
    "id": "gilWlLOLbd2F"
   },
   "source": [
    "### Univariate Analysis"
   ]
  },
  {
   "cell_type": "code",
   "execution_count": 10,
   "metadata": {
    "colab": {
     "base_uri": "https://localhost:8080/"
    },
    "id": "C3W9FPN-_9jP",
    "outputId": "8f1b12ff-06b5-4ce9-912d-62f6c214674f"
   },
   "outputs": [
    {
     "name": "stdout",
     "output_type": "stream",
     "text": [
      "{('England', 2), ('Srilanka', 5), ('Australia', 3), ('India', 1)}\n"
     ]
    }
   ],
   "source": [
    "list_country = [ \"India\", \"Srilanka\", \"England\", \"Australia\" ]\n",
    "Icc_Ranking = [ 1, 5, 2, 3 ]\n",
    " \n",
    "Country_Ranks = zip(list_country, Icc_Ranking)\n",
    " \n",
    "print(set(Country_Ranks))"
   ]
  },
  {
   "cell_type": "markdown",
   "metadata": {
    "id": "LBSBr_0uBNhO"
   },
   "source": [
    "1. flatten()- method of np.array. "
   ]
  },
  {
   "cell_type": "code",
   "execution_count": 11,
   "metadata": {
    "colab": {
     "base_uri": "https://localhost:8080/"
    },
    "id": "djOwdu_1CD4A",
    "outputId": "2cf04e6d-b356-4e98-ae10-e9465545da08"
   },
   "outputs": [
    {
     "data": {
      "text/plain": [
       "array([[1, 7, 3, 4],\n",
       "       [3, 2, 4, 1]])"
      ]
     },
     "execution_count": 11,
     "metadata": {},
     "output_type": "execute_result"
    }
   ],
   "source": [
    "a = np.array( [ (1,7,3,4),(3,2,4,1) ])\n",
    "a"
   ]
  },
  {
   "cell_type": "code",
   "execution_count": 12,
   "metadata": {
    "colab": {
     "base_uri": "https://localhost:8080/"
    },
    "id": "boCoI6x3CGNI",
    "outputId": "2c5e7269-4606-4526-a519-a197ac8f37ac"
   },
   "outputs": [
    {
     "data": {
      "text/plain": [
       "array([1, 7, 3, 4, 3, 2, 4, 1])"
      ]
     },
     "execution_count": 12,
     "metadata": {},
     "output_type": "execute_result"
    }
   ],
   "source": [
    "a.flatten()"
   ]
  },
  {
   "cell_type": "code",
   "execution_count": 13,
   "metadata": {
    "colab": {
     "base_uri": "https://localhost:8080/",
     "height": 602
    },
    "id": "rLJxrQdTDeq_",
    "outputId": "bfab8641-7ef2-42ac-86da-8413b2677806"
   },
   "outputs": [
    {
     "data": {
      "image/png": "[encoded data removed]",
      "text/plain": [
       "<Figure size 2500x1500 with 9 Axes>"
      ]
     },
     "metadata": {},
     "output_type": "display_data"
    }
   ],
   "source": [
    "fig, ax= plt.subplots(3,3, figsize=(25,15))"
   ]
  },
  {
   "cell_type": "code",
   "execution_count": 14,
   "metadata": {
    "colab": {
     "base_uri": "https://localhost:8080/",
     "height": 598
    },
    "id": "ssQ4jb30lOot",
    "outputId": "7dda7be7-3650-4d75-9acc-14fabf4cb73d"
   },
   "outputs": [],
   "source": [
    "# fig, ax= plt.subplots(3,3, figsize=(25,15))\n",
    "\n",
    "# for i, subplot in zip(cols, ax.flatten()):\n",
    "#     sns.histplot(df_emp[i], ax=subplot,kde=True)\n",
    "#     plt.title('df_emp[i]')\n",
    "\n",
    "# plt.tight_layout()\n",
    "# plt.show()"
   ]
  },
  {
   "cell_type": "code",
   "execution_count": 15,
   "metadata": {
    "colab": {
     "base_uri": "https://localhost:8080/",
     "height": 598
    },
    "id": "eJ3-xO8KveRP",
    "outputId": "d5cb8d1b-8de1-4adc-e4c0-010a61cbd0b3"
   },
   "outputs": [],
   "source": [
    "# fig, ax= plt.subplots(3,3, figsize=(25,15))\n",
    "\n",
    "# for i, subplot in zip(cols, ax.flatten()):\n",
    "#     sns.boxplot(df_emp[i], ax=subplot)\n",
    "#     plt.title('df_emp[i]')\n",
    "\n",
    "# plt.tight_layout()\n",
    "# plt.show()"
   ]
  },
  {
   "cell_type": "markdown",
   "metadata": {
    "id": "hYKi_ZG81Kzx"
   },
   "source": [
    "Almost all the variables have outliers and they have to be treated"
   ]
  },
  {
   "cell_type": "code",
   "execution_count": null,
   "metadata": {
    "id": "lNWOA9exFNW0"
   },
   "outputs": [],
   "source": []
  },
  {
   "cell_type": "markdown",
   "metadata": {
    "id": "iFBOKZPdnx7N"
   },
   "source": [
    "### Bivariate Analysis"
   ]
  },
  {
   "cell_type": "code",
   "execution_count": 16,
   "metadata": {
    "colab": {
     "base_uri": "https://localhost:8080/",
     "height": 317
    },
    "id": "tmpeEtNCxZWJ",
    "outputId": "0832d2f4-1072-4832-ab88-48ac6aa3cf9d"
   },
   "outputs": [
    {
     "data": {
      "image/jpeg": "[encoded data removed]",
      "text/plain": [
       "<IPython.core.display.Image object>"
      ]
     },
     "execution_count": 16,
     "metadata": {
      "image/jpeg": {
       "height": 300,
       "width": 600
      }
     },
     "output_type": "execute_result"
    }
   ],
   "source": [
    "from IPython.display import Image\n",
    "Image(filename='Bivariate.JPG',width=600,height=300)"
   ]
  },
  {
   "cell_type": "code",
   "execution_count": 17,
   "metadata": {
    "colab": {
     "base_uri": "https://localhost:8080/",
     "height": 598
    },
    "id": "tgZxfhkllvbc",
    "outputId": "d46c1d51-caa1-4664-ecd1-a1b6f757981c"
   },
   "outputs": [],
   "source": [
    "# fig, ax= plt.subplots(3,3, figsize=(25,15))\n",
    "\n",
    "# for i, subplot in zip(cols, ax.flatten()):\n",
    "#     sns.scatterplot(x=df_emp[i],y=df_emp['Total_Compensation'], ax=subplot,color='purple')\n",
    "#     plt.title('df_emp[i]')\n",
    "\n",
    "# plt.tight_layout()\n",
    "# plt.show()"
   ]
  },
  {
   "cell_type": "markdown",
   "metadata": {
    "id": "l36JWeP5pV-e"
   },
   "source": [
    "1. All the variables are showing very high correlation with Target variable. \n",
    "2. But be cautious when the correlation is very high between the variables.\n"
   ]
  },
  {
   "cell_type": "markdown",
   "metadata": {
    "id": "TLiKiOyoplwE"
   },
   "source": [
    "**Lets check the correlation between Independent variable**"
   ]
  },
  {
   "cell_type": "code",
   "execution_count": 18,
   "metadata": {
    "colab": {
     "base_uri": "https://localhost:8080/",
     "height": 654
    },
    "id": "800vk9TQpjjd",
    "outputId": "84192834-cd15-4324-b8b4-0edbbf3fffe1"
   },
   "outputs": [
    {
     "data": {
      "image/png": "[encoded data removed]",
      "text/plain": [
       "<Figure size 1000x600 with 2 Axes>"
      ]
     },
     "metadata": {},
     "output_type": "display_data"
    }
   ],
   "source": [
    "sns.heatmap(df_emp.corr(),annot=True,cmap=\"plasma\")\n",
    "plt.show()"
   ]
  },
  {
   "cell_type": "markdown",
   "metadata": {
    "id": "cK8hwTR1q2RW"
   },
   "source": [
    "1. There is a inherent problem of multicollinearity in the dataset.\n",
    "2. Predictors should not be highly correlated.\n",
    "3. Predictors are highly correlated with dependent variable -Total compensation."
   ]
  },
  {
   "cell_type": "markdown",
   "metadata": {
    "id": "WRaLJJJMFSt3"
   },
   "source": [
    "## Outliers "
   ]
  },
  {
   "cell_type": "code",
   "execution_count": 19,
   "metadata": {
    "colab": {
     "base_uri": "https://localhost:8080/",
     "height": 522
    },
    "id": "1zGNpK2FGQkx",
    "outputId": "9303f29d-d574-4045-eddc-48be96240f52"
   },
   "outputs": [],
   "source": [
    "# df_emp.plot(kind='box')\n",
    "# plt.show()"
   ]
  },
  {
   "cell_type": "code",
   "execution_count": 20,
   "metadata": {
    "colab": {
     "base_uri": "https://localhost:8080/",
     "height": 598
    },
    "id": "F-qwUIz0FW4a",
    "outputId": "7af7516e-0c6c-44ac-e6ec-f00064e3a8e4"
   },
   "outputs": [],
   "source": [
    "# fig, ax= plt.subplots(3,3, figsize=(25,15))\n",
    "\n",
    "# for i, subplot in zip(cols, ax.flatten()):\n",
    "#     sns.boxplot(df_emp[i],ax=subplot,color='yellow')\n",
    "#     plt.title('df_emp[i]')\n",
    "\n",
    "# plt.tight_layout()\n",
    "# plt.show()"
   ]
  },
  {
   "cell_type": "markdown",
   "metadata": {
    "id": "m6jZ99Ghy5FB"
   },
   "source": [
    "### Missing Value"
   ]
  },
  {
   "cell_type": "code",
   "execution_count": 21,
   "metadata": {
    "colab": {
     "base_uri": "https://localhost:8080/"
    },
    "id": "NccqkwxbzAFA",
    "outputId": "5ccac4ec-dfea-4549-b7f5-f8e16663d7b9"
   },
   "outputs": [
    {
     "data": {
      "text/plain": [
       "Year_Type             0\n",
       "Salaries              0\n",
       "Overtime              0\n",
       "Other_Salaries        0\n",
       "Total_Salary          0\n",
       "Retirement            0\n",
       "Health/Dental         0\n",
       "Other_Benefits        0\n",
       "Total_Benefits        0\n",
       "Total_Compensation    0\n",
       "dtype: int64"
      ]
     },
     "execution_count": 21,
     "metadata": {},
     "output_type": "execute_result"
    }
   ],
   "source": [
    "df_emp.isnull().sum()"
   ]
  },
  {
   "cell_type": "code",
   "execution_count": 22,
   "metadata": {
    "colab": {
     "base_uri": "https://localhost:8080/"
    },
    "id": "v4T8eMUlzGt3",
    "outputId": "7f1bb501-630b-4460-df99-b427b3974d62"
   },
   "outputs": [
    {
     "data": {
      "text/plain": [
       "Year_Type             0.0\n",
       "Salaries              0.0\n",
       "Overtime              0.0\n",
       "Other_Salaries        0.0\n",
       "Total_Salary          0.0\n",
       "Retirement            0.0\n",
       "Health/Dental         0.0\n",
       "Other_Benefits        0.0\n",
       "Total_Benefits        0.0\n",
       "Total_Compensation    0.0\n",
       "dtype: float64"
      ]
     },
     "execution_count": 22,
     "metadata": {},
     "output_type": "execute_result"
    }
   ],
   "source": [
    "# to know the percent of missing values\n",
    "(df_emp.isnull().sum() /df_emp.index.size) *100 "
   ]
  },
  {
   "cell_type": "markdown",
   "metadata": {
    "id": "EpjHrsjO1xgB"
   },
   "source": [
    "### Remove the outliers"
   ]
  },
  {
   "cell_type": "markdown",
   "metadata": {
    "id": "Ry3awLQ412Do"
   },
   "source": [
    "1. iqr = q3-q1\n",
    "2. Value > q3+1.5 * iqr\n",
    "3. value < q1-1.5 * iqr"
   ]
  },
  {
   "cell_type": "code",
   "execution_count": 23,
   "metadata": {
    "colab": {
     "base_uri": "https://localhost:8080/"
    },
    "id": "-csM8bGk3pby",
    "outputId": "901cd1c5-f3da-4f7e-f3d0-b9f259a5fcfc"
   },
   "outputs": [
    {
     "data": {
      "text/plain": [
       "(50000, 10)"
      ]
     },
     "execution_count": 23,
     "metadata": {},
     "output_type": "execute_result"
    }
   ],
   "source": [
    "df_emp.shape"
   ]
  },
  {
   "cell_type": "code",
   "execution_count": 24,
   "metadata": {
    "id": "RcQl7PSI3EdI"
   },
   "outputs": [],
   "source": [
    "q1 =df_emp.quantile(0.25)\n",
    "q3= df_emp.quantile(0.75)\n",
    "iqr=q3-q1\n",
    "\n",
    "upper_limit= q3+1.5*iqr\n",
    "lower_limit= q1-1.5*iqr"
   ]
  },
  {
   "cell_type": "code",
   "execution_count": 25,
   "metadata": {
    "colab": {
     "base_uri": "https://localhost:8080/"
    },
    "id": "2JOot2FQ6hFq",
    "outputId": "19ec0f67-4b9d-40b8-d9eb-2fcb13ce50e2"
   },
   "outputs": [
    {
     "data": {
      "text/plain": [
       "Salaries              197558.53375\n",
       "Overtime                6622.20625\n",
       "Other_Salaries         11192.57500\n",
       "Total_Salary          219380.26625\n",
       "Retirement             43612.26000\n",
       "Health/Dental          25602.53500\n",
       "Other_Benefits         14752.39000\n",
       "Total_Benefits         82416.01500\n",
       "Total_Compensation    300770.85500\n",
       "dtype: float64"
      ]
     },
     "execution_count": 25,
     "metadata": {},
     "output_type": "execute_result"
    }
   ],
   "source": [
    "upper_limit"
   ]
  },
  {
   "cell_type": "markdown",
   "metadata": {
    "id": "LX07WCgY7vHV"
   },
   "source": [
    "\n",
    "1. '~' returns the values that do not satisfy the given conditions \n",
    "i.e. it returns values between the range [Q1-1.5*IQR, Q3+1.5*IQR]\n",
    "2. '|' is used as 'OR' operator on multiple conditions   \n",
    "3. 'any(axis=1)' checks the entire row for atleast one 'True' entry (those rows represents outliers in the data)"
   ]
  },
  {
   "cell_type": "code",
   "execution_count": 26,
   "metadata": {
    "colab": {
     "base_uri": "https://localhost:8080/",
     "height": 487
    },
    "id": "cPPGvT5wO33p",
    "outputId": "fef110e5-33f8-4bf7-c22d-9feb7c181535"
   },
   "outputs": [
    {
     "data": {
      "text/html": [
       "<div>\n",
       "<style scoped>\n",
       "    .dataframe tbody tr th:only-of-type {\n",
       "        vertical-align: middle;\n",
       "    }\n",
       "\n",
       "    .dataframe tbody tr th {\n",
       "        vertical-align: top;\n",
       "    }\n",
       "\n",
       "    .dataframe thead th {\n",
       "        text-align: right;\n",
       "    }\n",
       "</style>\n",
       "<table border=\"1\" class=\"dataframe\">\n",
       "  <thead>\n",
       "    <tr style=\"text-align: right;\">\n",
       "      <th></th>\n",
       "      <th>Year_Type</th>\n",
       "      <th>Salaries</th>\n",
       "      <th>Overtime</th>\n",
       "      <th>Other_Salaries</th>\n",
       "      <th>Total_Salary</th>\n",
       "      <th>Retirement</th>\n",
       "      <th>Health/Dental</th>\n",
       "      <th>Other_Benefits</th>\n",
       "      <th>Total_Benefits</th>\n",
       "      <th>Total_Compensation</th>\n",
       "    </tr>\n",
       "  </thead>\n",
       "  <tbody>\n",
       "    <tr>\n",
       "      <th>0</th>\n",
       "      <td>Fiscal</td>\n",
       "      <td>92288.22</td>\n",
       "      <td>267.45</td>\n",
       "      <td>267.45</td>\n",
       "      <td>92823.12</td>\n",
       "      <td>20700.20</td>\n",
       "      <td>12500.56</td>\n",
       "      <td>7605.75</td>\n",
       "      <td>40806.51</td>\n",
       "      <td>133629.63</td>\n",
       "    </tr>\n",
       "    <tr>\n",
       "      <th>1</th>\n",
       "      <td>Calendar</td>\n",
       "      <td>1466.38</td>\n",
       "      <td>348.23</td>\n",
       "      <td>0.00</td>\n",
       "      <td>1814.61</td>\n",
       "      <td>0.00</td>\n",
       "      <td>442.03</td>\n",
       "      <td>141.59</td>\n",
       "      <td>583.62</td>\n",
       "      <td>2398.23</td>\n",
       "    </tr>\n",
       "    <tr>\n",
       "      <th>2</th>\n",
       "      <td>Fiscal</td>\n",
       "      <td>76536.95</td>\n",
       "      <td>NaN</td>\n",
       "      <td>10855.94</td>\n",
       "      <td>100976.61</td>\n",
       "      <td>18632.19</td>\n",
       "      <td>12464.61</td>\n",
       "      <td>8011.41</td>\n",
       "      <td>39108.21</td>\n",
       "      <td>140084.82</td>\n",
       "    </tr>\n",
       "    <tr>\n",
       "      <th>3</th>\n",
       "      <td>Fiscal</td>\n",
       "      <td>45659.88</td>\n",
       "      <td>0.00</td>\n",
       "      <td>1625.37</td>\n",
       "      <td>47285.25</td>\n",
       "      <td>10081.20</td>\n",
       "      <td>0.00</td>\n",
       "      <td>3936.63</td>\n",
       "      <td>14017.83</td>\n",
       "      <td>61303.08</td>\n",
       "    </tr>\n",
       "    <tr>\n",
       "      <th>4</th>\n",
       "      <td>Fiscal</td>\n",
       "      <td>41832.00</td>\n",
       "      <td>0.00</td>\n",
       "      <td>0.00</td>\n",
       "      <td>41832.00</td>\n",
       "      <td>7617.60</td>\n",
       "      <td>5908.52</td>\n",
       "      <td>3254.50</td>\n",
       "      <td>16780.62</td>\n",
       "      <td>58612.62</td>\n",
       "    </tr>\n",
       "    <tr>\n",
       "      <th>...</th>\n",
       "      <td>...</td>\n",
       "      <td>...</td>\n",
       "      <td>...</td>\n",
       "      <td>...</td>\n",
       "      <td>...</td>\n",
       "      <td>...</td>\n",
       "      <td>...</td>\n",
       "      <td>...</td>\n",
       "      <td>...</td>\n",
       "      <td>...</td>\n",
       "    </tr>\n",
       "    <tr>\n",
       "      <th>49995</th>\n",
       "      <td>Fiscal</td>\n",
       "      <td>100222.50</td>\n",
       "      <td>NaN</td>\n",
       "      <td>600.00</td>\n",
       "      <td>117988.63</td>\n",
       "      <td>18763.05</td>\n",
       "      <td>13068.80</td>\n",
       "      <td>9406.86</td>\n",
       "      <td>41238.71</td>\n",
       "      <td>159227.34</td>\n",
       "    </tr>\n",
       "    <tr>\n",
       "      <th>49996</th>\n",
       "      <td>Fiscal</td>\n",
       "      <td>1787.41</td>\n",
       "      <td>0.00</td>\n",
       "      <td>0.00</td>\n",
       "      <td>1787.41</td>\n",
       "      <td>0.00</td>\n",
       "      <td>563.31</td>\n",
       "      <td>145.36</td>\n",
       "      <td>708.67</td>\n",
       "      <td>2496.08</td>\n",
       "    </tr>\n",
       "    <tr>\n",
       "      <th>49997</th>\n",
       "      <td>Fiscal</td>\n",
       "      <td>36552.83</td>\n",
       "      <td>0.00</td>\n",
       "      <td>0.00</td>\n",
       "      <td>36552.83</td>\n",
       "      <td>6802.48</td>\n",
       "      <td>6855.83</td>\n",
       "      <td>3071.63</td>\n",
       "      <td>16729.94</td>\n",
       "      <td>53282.77</td>\n",
       "    </tr>\n",
       "    <tr>\n",
       "      <th>49998</th>\n",
       "      <td>Fiscal</td>\n",
       "      <td>46995.30</td>\n",
       "      <td>0.00</td>\n",
       "      <td>10943.14</td>\n",
       "      <td>57938.44</td>\n",
       "      <td>8840.98</td>\n",
       "      <td>10624.64</td>\n",
       "      <td>4706.37</td>\n",
       "      <td>24171.99</td>\n",
       "      <td>82110.43</td>\n",
       "    </tr>\n",
       "    <tr>\n",
       "      <th>49999</th>\n",
       "      <td>Fiscal</td>\n",
       "      <td>69268.81</td>\n",
       "      <td>0.00</td>\n",
       "      <td>1648.09</td>\n",
       "      <td>70916.90</td>\n",
       "      <td>15119.46</td>\n",
       "      <td>12464.61</td>\n",
       "      <td>5853.52</td>\n",
       "      <td>33437.59</td>\n",
       "      <td>104354.49</td>\n",
       "    </tr>\n",
       "  </tbody>\n",
       "</table>\n",
       "<p>50000 rows × 10 columns</p>\n",
       "</div>"
      ],
      "text/plain": [
       "      Year_Type   Salaries  Overtime  Other_Salaries  Total_Salary  \\\n",
       "0        Fiscal   92288.22    267.45          267.45      92823.12   \n",
       "1      Calendar    1466.38    348.23            0.00       1814.61   \n",
       "2        Fiscal   76536.95       NaN        10855.94     100976.61   \n",
       "3        Fiscal   45659.88      0.00         1625.37      47285.25   \n",
       "4        Fiscal   41832.00      0.00            0.00      41832.00   \n",
       "...         ...        ...       ...             ...           ...   \n",
       "49995    Fiscal  100222.50       NaN          600.00     117988.63   \n",
       "49996    Fiscal    1787.41      0.00            0.00       1787.41   \n",
       "49997    Fiscal   36552.83      0.00            0.00      36552.83   \n",
       "49998    Fiscal   46995.30      0.00        10943.14      57938.44   \n",
       "49999    Fiscal   69268.81      0.00         1648.09      70916.90   \n",
       "\n",
       "       Retirement  Health/Dental  Other_Benefits  Total_Benefits  \\\n",
       "0        20700.20       12500.56         7605.75        40806.51   \n",
       "1            0.00         442.03          141.59          583.62   \n",
       "2        18632.19       12464.61         8011.41        39108.21   \n",
       "3        10081.20           0.00         3936.63        14017.83   \n",
       "4         7617.60        5908.52         3254.50        16780.62   \n",
       "...           ...            ...             ...             ...   \n",
       "49995    18763.05       13068.80         9406.86        41238.71   \n",
       "49996        0.00         563.31          145.36          708.67   \n",
       "49997     6802.48        6855.83         3071.63        16729.94   \n",
       "49998     8840.98       10624.64         4706.37        24171.99   \n",
       "49999    15119.46       12464.61         5853.52        33437.59   \n",
       "\n",
       "       Total_Compensation  \n",
       "0               133629.63  \n",
       "1                 2398.23  \n",
       "2               140084.82  \n",
       "3                61303.08  \n",
       "4                58612.62  \n",
       "...                   ...  \n",
       "49995           159227.34  \n",
       "49996             2496.08  \n",
       "49997            53282.77  \n",
       "49998            82110.43  \n",
       "49999           104354.49  \n",
       "\n",
       "[50000 rows x 10 columns]"
      ]
     },
     "execution_count": 26,
     "metadata": {},
     "output_type": "execute_result"
    }
   ],
   "source": [
    "df_emp[~((df_emp < (lower_limit)) | (df_emp > (upper_limit)))]"
   ]
  },
  {
   "cell_type": "markdown",
   "metadata": {
    "id": "9jdaek_aQWry"
   },
   "source": [
    "1. Return the output row by row. Instead of Column by column.\n",
    "2. Check rowwise, if the condition is met and return that data. In the second row, where the condition is met, retun the data. If the condition is not met then do not return the data.\n",
    "3. any means- if the condition is met anywhere, return this data.\n",
    "4. ~: Not represents returning all the values which are false.\n",
    "5. ex: not(false) = True. , Not(True) = False.\n",
    "6. .any(axis=1) : represents checking of the condition row wise. And whenever this condition is met, it returns the data.\n",
    "7. Return the data which is the layer.  \n",
    "8. if any() is not used then it will check one column with entire dataset. We need to avoid that."
   ]
  },
  {
   "cell_type": "code",
   "execution_count": 27,
   "metadata": {
    "colab": {
     "base_uri": "https://localhost:8080/",
     "height": 487
    },
    "id": "oBd8qDEJHsZp",
    "outputId": "ea80b80f-5348-4377-c5c0-a3a41e5c6e06"
   },
   "outputs": [
    {
     "data": {
      "text/html": [
       "<div>\n",
       "<style scoped>\n",
       "    .dataframe tbody tr th:only-of-type {\n",
       "        vertical-align: middle;\n",
       "    }\n",
       "\n",
       "    .dataframe tbody tr th {\n",
       "        vertical-align: top;\n",
       "    }\n",
       "\n",
       "    .dataframe thead th {\n",
       "        text-align: right;\n",
       "    }\n",
       "</style>\n",
       "<table border=\"1\" class=\"dataframe\">\n",
       "  <thead>\n",
       "    <tr style=\"text-align: right;\">\n",
       "      <th></th>\n",
       "      <th>Year_Type</th>\n",
       "      <th>Salaries</th>\n",
       "      <th>Overtime</th>\n",
       "      <th>Other_Salaries</th>\n",
       "      <th>Total_Salary</th>\n",
       "      <th>Retirement</th>\n",
       "      <th>Health/Dental</th>\n",
       "      <th>Other_Benefits</th>\n",
       "      <th>Total_Benefits</th>\n",
       "      <th>Total_Compensation</th>\n",
       "    </tr>\n",
       "  </thead>\n",
       "  <tbody>\n",
       "    <tr>\n",
       "      <th>0</th>\n",
       "      <td>Fiscal</td>\n",
       "      <td>92288.22</td>\n",
       "      <td>267.45</td>\n",
       "      <td>267.45</td>\n",
       "      <td>92823.12</td>\n",
       "      <td>20700.20</td>\n",
       "      <td>12500.56</td>\n",
       "      <td>7605.75</td>\n",
       "      <td>40806.51</td>\n",
       "      <td>133629.63</td>\n",
       "    </tr>\n",
       "    <tr>\n",
       "      <th>1</th>\n",
       "      <td>Calendar</td>\n",
       "      <td>1466.38</td>\n",
       "      <td>348.23</td>\n",
       "      <td>0.00</td>\n",
       "      <td>1814.61</td>\n",
       "      <td>0.00</td>\n",
       "      <td>442.03</td>\n",
       "      <td>141.59</td>\n",
       "      <td>583.62</td>\n",
       "      <td>2398.23</td>\n",
       "    </tr>\n",
       "    <tr>\n",
       "      <th>3</th>\n",
       "      <td>Fiscal</td>\n",
       "      <td>45659.88</td>\n",
       "      <td>0.00</td>\n",
       "      <td>1625.37</td>\n",
       "      <td>47285.25</td>\n",
       "      <td>10081.20</td>\n",
       "      <td>0.00</td>\n",
       "      <td>3936.63</td>\n",
       "      <td>14017.83</td>\n",
       "      <td>61303.08</td>\n",
       "    </tr>\n",
       "    <tr>\n",
       "      <th>4</th>\n",
       "      <td>Fiscal</td>\n",
       "      <td>41832.00</td>\n",
       "      <td>0.00</td>\n",
       "      <td>0.00</td>\n",
       "      <td>41832.00</td>\n",
       "      <td>7617.60</td>\n",
       "      <td>5908.52</td>\n",
       "      <td>3254.50</td>\n",
       "      <td>16780.62</td>\n",
       "      <td>58612.62</td>\n",
       "    </tr>\n",
       "    <tr>\n",
       "      <th>5</th>\n",
       "      <td>Calendar</td>\n",
       "      <td>74132.00</td>\n",
       "      <td>0.00</td>\n",
       "      <td>1443.42</td>\n",
       "      <td>75575.42</td>\n",
       "      <td>14851.23</td>\n",
       "      <td>12888.34</td>\n",
       "      <td>6233.85</td>\n",
       "      <td>33973.42</td>\n",
       "      <td>109548.84</td>\n",
       "    </tr>\n",
       "    <tr>\n",
       "      <th>...</th>\n",
       "      <td>...</td>\n",
       "      <td>...</td>\n",
       "      <td>...</td>\n",
       "      <td>...</td>\n",
       "      <td>...</td>\n",
       "      <td>...</td>\n",
       "      <td>...</td>\n",
       "      <td>...</td>\n",
       "      <td>...</td>\n",
       "      <td>...</td>\n",
       "    </tr>\n",
       "    <tr>\n",
       "      <th>49994</th>\n",
       "      <td>Calendar</td>\n",
       "      <td>10663.05</td>\n",
       "      <td>0.00</td>\n",
       "      <td>65.93</td>\n",
       "      <td>10728.98</td>\n",
       "      <td>0.00</td>\n",
       "      <td>3152.42</td>\n",
       "      <td>879.17</td>\n",
       "      <td>4031.59</td>\n",
       "      <td>14760.57</td>\n",
       "    </tr>\n",
       "    <tr>\n",
       "      <th>49996</th>\n",
       "      <td>Fiscal</td>\n",
       "      <td>1787.41</td>\n",
       "      <td>0.00</td>\n",
       "      <td>0.00</td>\n",
       "      <td>1787.41</td>\n",
       "      <td>0.00</td>\n",
       "      <td>563.31</td>\n",
       "      <td>145.36</td>\n",
       "      <td>708.67</td>\n",
       "      <td>2496.08</td>\n",
       "    </tr>\n",
       "    <tr>\n",
       "      <th>49997</th>\n",
       "      <td>Fiscal</td>\n",
       "      <td>36552.83</td>\n",
       "      <td>0.00</td>\n",
       "      <td>0.00</td>\n",
       "      <td>36552.83</td>\n",
       "      <td>6802.48</td>\n",
       "      <td>6855.83</td>\n",
       "      <td>3071.63</td>\n",
       "      <td>16729.94</td>\n",
       "      <td>53282.77</td>\n",
       "    </tr>\n",
       "    <tr>\n",
       "      <th>49998</th>\n",
       "      <td>Fiscal</td>\n",
       "      <td>46995.30</td>\n",
       "      <td>0.00</td>\n",
       "      <td>10943.14</td>\n",
       "      <td>57938.44</td>\n",
       "      <td>8840.98</td>\n",
       "      <td>10624.64</td>\n",
       "      <td>4706.37</td>\n",
       "      <td>24171.99</td>\n",
       "      <td>82110.43</td>\n",
       "    </tr>\n",
       "    <tr>\n",
       "      <th>49999</th>\n",
       "      <td>Fiscal</td>\n",
       "      <td>69268.81</td>\n",
       "      <td>0.00</td>\n",
       "      <td>1648.09</td>\n",
       "      <td>70916.90</td>\n",
       "      <td>15119.46</td>\n",
       "      <td>12464.61</td>\n",
       "      <td>5853.52</td>\n",
       "      <td>33437.59</td>\n",
       "      <td>104354.49</td>\n",
       "    </tr>\n",
       "  </tbody>\n",
       "</table>\n",
       "<p>37721 rows × 10 columns</p>\n",
       "</div>"
      ],
      "text/plain": [
       "      Year_Type  Salaries  Overtime  Other_Salaries  Total_Salary  Retirement  \\\n",
       "0        Fiscal  92288.22    267.45          267.45      92823.12    20700.20   \n",
       "1      Calendar   1466.38    348.23            0.00       1814.61        0.00   \n",
       "3        Fiscal  45659.88      0.00         1625.37      47285.25    10081.20   \n",
       "4        Fiscal  41832.00      0.00            0.00      41832.00     7617.60   \n",
       "5      Calendar  74132.00      0.00         1443.42      75575.42    14851.23   \n",
       "...         ...       ...       ...             ...           ...         ...   \n",
       "49994  Calendar  10663.05      0.00           65.93      10728.98        0.00   \n",
       "49996    Fiscal   1787.41      0.00            0.00       1787.41        0.00   \n",
       "49997    Fiscal  36552.83      0.00            0.00      36552.83     6802.48   \n",
       "49998    Fiscal  46995.30      0.00        10943.14      57938.44     8840.98   \n",
       "49999    Fiscal  69268.81      0.00         1648.09      70916.90    15119.46   \n",
       "\n",
       "       Health/Dental  Other_Benefits  Total_Benefits  Total_Compensation  \n",
       "0           12500.56         7605.75        40806.51           133629.63  \n",
       "1             442.03          141.59          583.62             2398.23  \n",
       "3               0.00         3936.63        14017.83            61303.08  \n",
       "4            5908.52         3254.50        16780.62            58612.62  \n",
       "5           12888.34         6233.85        33973.42           109548.84  \n",
       "...              ...             ...             ...                 ...  \n",
       "49994        3152.42          879.17         4031.59            14760.57  \n",
       "49996         563.31          145.36          708.67             2496.08  \n",
       "49997        6855.83         3071.63        16729.94            53282.77  \n",
       "49998       10624.64         4706.37        24171.99            82110.43  \n",
       "49999       12464.61         5853.52        33437.59           104354.49  \n",
       "\n",
       "[37721 rows x 10 columns]"
      ]
     },
     "execution_count": 27,
     "metadata": {},
     "output_type": "execute_result"
    }
   ],
   "source": [
    "df_emp[~((df_emp < (lower_limit)) | (df_emp > (upper_limit))).any(axis=1)]"
   ]
  },
  {
   "cell_type": "code",
   "execution_count": 28,
   "metadata": {
    "colab": {
     "base_uri": "https://localhost:8080/",
     "height": 270
    },
    "id": "KzDfoo_q6stB",
    "outputId": "f6cfd020-709a-4398-c1b9-69f7e9124b32"
   },
   "outputs": [
    {
     "data": {
      "text/html": [
       "<div>\n",
       "<style scoped>\n",
       "    .dataframe tbody tr th:only-of-type {\n",
       "        vertical-align: middle;\n",
       "    }\n",
       "\n",
       "    .dataframe tbody tr th {\n",
       "        vertical-align: top;\n",
       "    }\n",
       "\n",
       "    .dataframe thead th {\n",
       "        text-align: right;\n",
       "    }\n",
       "</style>\n",
       "<table border=\"1\" class=\"dataframe\">\n",
       "  <thead>\n",
       "    <tr style=\"text-align: right;\">\n",
       "      <th></th>\n",
       "      <th>Year_Type</th>\n",
       "      <th>Salaries</th>\n",
       "      <th>Overtime</th>\n",
       "      <th>Other_Salaries</th>\n",
       "      <th>Total_Salary</th>\n",
       "      <th>Retirement</th>\n",
       "      <th>Health/Dental</th>\n",
       "      <th>Other_Benefits</th>\n",
       "      <th>Total_Benefits</th>\n",
       "      <th>Total_Compensation</th>\n",
       "    </tr>\n",
       "  </thead>\n",
       "  <tbody>\n",
       "    <tr>\n",
       "      <th>0</th>\n",
       "      <td>Fiscal</td>\n",
       "      <td>92288.22</td>\n",
       "      <td>267.45</td>\n",
       "      <td>267.45</td>\n",
       "      <td>92823.12</td>\n",
       "      <td>20700.20</td>\n",
       "      <td>12500.56</td>\n",
       "      <td>7605.75</td>\n",
       "      <td>40806.51</td>\n",
       "      <td>133629.63</td>\n",
       "    </tr>\n",
       "    <tr>\n",
       "      <th>1</th>\n",
       "      <td>Calendar</td>\n",
       "      <td>1466.38</td>\n",
       "      <td>348.23</td>\n",
       "      <td>0.00</td>\n",
       "      <td>1814.61</td>\n",
       "      <td>0.00</td>\n",
       "      <td>442.03</td>\n",
       "      <td>141.59</td>\n",
       "      <td>583.62</td>\n",
       "      <td>2398.23</td>\n",
       "    </tr>\n",
       "    <tr>\n",
       "      <th>3</th>\n",
       "      <td>Fiscal</td>\n",
       "      <td>45659.88</td>\n",
       "      <td>0.00</td>\n",
       "      <td>1625.37</td>\n",
       "      <td>47285.25</td>\n",
       "      <td>10081.20</td>\n",
       "      <td>0.00</td>\n",
       "      <td>3936.63</td>\n",
       "      <td>14017.83</td>\n",
       "      <td>61303.08</td>\n",
       "    </tr>\n",
       "    <tr>\n",
       "      <th>4</th>\n",
       "      <td>Fiscal</td>\n",
       "      <td>41832.00</td>\n",
       "      <td>0.00</td>\n",
       "      <td>0.00</td>\n",
       "      <td>41832.00</td>\n",
       "      <td>7617.60</td>\n",
       "      <td>5908.52</td>\n",
       "      <td>3254.50</td>\n",
       "      <td>16780.62</td>\n",
       "      <td>58612.62</td>\n",
       "    </tr>\n",
       "    <tr>\n",
       "      <th>5</th>\n",
       "      <td>Calendar</td>\n",
       "      <td>74132.00</td>\n",
       "      <td>0.00</td>\n",
       "      <td>1443.42</td>\n",
       "      <td>75575.42</td>\n",
       "      <td>14851.23</td>\n",
       "      <td>12888.34</td>\n",
       "      <td>6233.85</td>\n",
       "      <td>33973.42</td>\n",
       "      <td>109548.84</td>\n",
       "    </tr>\n",
       "  </tbody>\n",
       "</table>\n",
       "</div>"
      ],
      "text/plain": [
       "  Year_Type  Salaries  Overtime  Other_Salaries  Total_Salary  Retirement  \\\n",
       "0    Fiscal  92288.22    267.45          267.45      92823.12    20700.20   \n",
       "1  Calendar   1466.38    348.23            0.00       1814.61        0.00   \n",
       "3    Fiscal  45659.88      0.00         1625.37      47285.25    10081.20   \n",
       "4    Fiscal  41832.00      0.00            0.00      41832.00     7617.60   \n",
       "5  Calendar  74132.00      0.00         1443.42      75575.42    14851.23   \n",
       "\n",
       "   Health/Dental  Other_Benefits  Total_Benefits  Total_Compensation  \n",
       "0       12500.56         7605.75        40806.51           133629.63  \n",
       "1         442.03          141.59          583.62             2398.23  \n",
       "3           0.00         3936.63        14017.83            61303.08  \n",
       "4        5908.52         3254.50        16780.62            58612.62  \n",
       "5       12888.34         6233.85        33973.42           109548.84  "
      ]
     },
     "execution_count": 28,
     "metadata": {},
     "output_type": "execute_result"
    }
   ],
   "source": [
    "#~(df_emp > upper_limit ) | (df_emp < lower_limit).any(axis=1)\n",
    "df_emp = df_emp[~((df_emp < (lower_limit)) | (df_emp > (upper_limit))).any(axis=1)]\n",
    "df_emp.head()\n"
   ]
  },
  {
   "cell_type": "code",
   "execution_count": 29,
   "metadata": {
    "colab": {
     "base_uri": "https://localhost:8080/",
     "height": 175
    },
    "id": "sqtrXZMWXn4p",
    "outputId": "0ed14270-b915-4d1c-e501-4376bd24743d"
   },
   "outputs": [
    {
     "data": {
      "text/html": [
       "<div>\n",
       "<style scoped>\n",
       "    .dataframe tbody tr th:only-of-type {\n",
       "        vertical-align: middle;\n",
       "    }\n",
       "\n",
       "    .dataframe tbody tr th {\n",
       "        vertical-align: top;\n",
       "    }\n",
       "\n",
       "    .dataframe thead th {\n",
       "        text-align: right;\n",
       "    }\n",
       "</style>\n",
       "<table border=\"1\" class=\"dataframe\">\n",
       "  <thead>\n",
       "    <tr style=\"text-align: right;\">\n",
       "      <th></th>\n",
       "      <th>x1</th>\n",
       "      <th>x2</th>\n",
       "      <th>x3</th>\n",
       "    </tr>\n",
       "  </thead>\n",
       "  <tbody>\n",
       "    <tr>\n",
       "      <th>0</th>\n",
       "      <td>1</td>\n",
       "      <td>1</td>\n",
       "      <td>0</td>\n",
       "    </tr>\n",
       "    <tr>\n",
       "      <th>1</th>\n",
       "      <td>0</td>\n",
       "      <td>0</td>\n",
       "      <td>0</td>\n",
       "    </tr>\n",
       "    <tr>\n",
       "      <th>2</th>\n",
       "      <td>1</td>\n",
       "      <td>0</td>\n",
       "      <td>0</td>\n",
       "    </tr>\n",
       "    <tr>\n",
       "      <th>3</th>\n",
       "      <td>0</td>\n",
       "      <td>0</td>\n",
       "      <td>0</td>\n",
       "    </tr>\n",
       "  </tbody>\n",
       "</table>\n",
       "</div>"
      ],
      "text/plain": [
       "   x1  x2  x3\n",
       "0   1   1   0\n",
       "1   0   0   0\n",
       "2   1   0   0\n",
       "3   0   0   0"
      ]
     },
     "execution_count": 29,
     "metadata": {},
     "output_type": "execute_result"
    }
   ],
   "source": [
    "import pandas as pd\n",
    "dt = {'x1':[1,0,1,0],\n",
    "      'x2':[1,0,0,0],\n",
    "      'x3':[0,0,0,0]\n",
    "}\n",
    "      \n",
    "df = pd.DataFrame(dt,columns=['x1','x2','x3'])\n",
    "df\n",
    "\n"
   ]
  },
  {
   "cell_type": "code",
   "execution_count": 30,
   "metadata": {
    "colab": {
     "base_uri": "https://localhost:8080/"
    },
    "id": "WwIzaH5DbR7Y",
    "outputId": "712bcab4-957a-4d1a-8be6-af58c39bed65"
   },
   "outputs": [
    {
     "data": {
      "text/plain": [
       "x1     True\n",
       "x2     True\n",
       "x3    False\n",
       "dtype: bool"
      ]
     },
     "execution_count": 30,
     "metadata": {},
     "output_type": "execute_result"
    }
   ],
   "source": [
    "df.any() # this checks column wise"
   ]
  },
  {
   "cell_type": "code",
   "execution_count": 31,
   "metadata": {
    "colab": {
     "base_uri": "https://localhost:8080/"
    },
    "id": "6KlgZd-Tbbkf",
    "outputId": "e88945d1-9e01-4609-af77-f700082e2906"
   },
   "outputs": [
    {
     "data": {
      "text/plain": [
       "0     True\n",
       "1    False\n",
       "2     True\n",
       "3    False\n",
       "dtype: bool"
      ]
     },
     "execution_count": 31,
     "metadata": {},
     "output_type": "execute_result"
    }
   ],
   "source": [
    "df.any(axis =1) # this checks row wise"
   ]
  },
  {
   "cell_type": "code",
   "execution_count": 32,
   "metadata": {
    "colab": {
     "base_uri": "https://localhost:8080/"
    },
    "id": "xAmAWl6R-qP7",
    "outputId": "58fc64b4-ddb7-4c95-88d6-5e852a43d052"
   },
   "outputs": [
    {
     "data": {
      "text/plain": [
       "(37721, 10)"
      ]
     },
     "execution_count": 32,
     "metadata": {},
     "output_type": "execute_result"
    }
   ],
   "source": [
    "df_emp.shape"
   ]
  },
  {
   "cell_type": "code",
   "execution_count": 33,
   "metadata": {
    "id": "zMdKRLsI_3db"
   },
   "outputs": [],
   "source": [
    "# def cap_outlier(val):\n",
    "#     Q1, Q3 = np.quantile(val, [.25, .75])\n",
    "#     IQR = Q3 - Q1\n",
    "#     LL = Q1 - 1.5*IQR\n",
    "#     UL = Q3 + 1.5*IQR\n",
    "#     return LL, UL"
   ]
  },
  {
   "cell_type": "code",
   "execution_count": 34,
   "metadata": {
    "colab": {
     "base_uri": "https://localhost:8080/"
    },
    "id": "zR6drlezDhW0",
    "outputId": "d100a3d4-1d9e-4f53-f4f7-d4b77bd7f3b8"
   },
   "outputs": [
    {
     "data": {
      "text/plain": [
       "Index(['Year_Type', 'Salaries', 'Overtime', 'Other_Salaries', 'Total_Salary',\n",
       "       'Retirement', 'Health/Dental', 'Other_Benefits', 'Total_Benefits',\n",
       "       'Total_Compensation'],\n",
       "      dtype='object')"
      ]
     },
     "execution_count": 34,
     "metadata": {},
     "output_type": "execute_result"
    }
   ],
   "source": [
    "df_emp.columns"
   ]
  },
  {
   "cell_type": "code",
   "execution_count": 35,
   "metadata": {
    "colab": {
     "base_uri": "https://localhost:8080/"
    },
    "id": "KPUKkdk9EZsc",
    "outputId": "a7f6059d-5501-4701-9e90-c11c86ad4223"
   },
   "outputs": [
    {
     "data": {
      "text/plain": [
       "['Salaries',\n",
       " 'Overtime',\n",
       " 'Other_Salaries',\n",
       " 'Total_Salary',\n",
       " 'Retirement',\n",
       " 'Health/Dental',\n",
       " 'Other_Benefits',\n",
       " 'Total_Benefits',\n",
       " 'Total_Compensation']"
      ]
     },
     "execution_count": 35,
     "metadata": {},
     "output_type": "execute_result"
    }
   ],
   "source": [
    "cols"
   ]
  },
  {
   "cell_type": "code",
   "execution_count": 36,
   "metadata": {
    "id": "JfI4JQta_tjM"
   },
   "outputs": [],
   "source": [
    "# for i in cols:\n",
    "#     LL, UL = cap_outlier(df_emp[i])\n",
    "#     df_emp[i] = np.where(df_emp[i]> UL, UL, df_emp[i])\n",
    "#     df_emp[i] = np.where(df_emp[i]< LL, LL, df_emp[i])"
   ]
  },
  {
   "cell_type": "code",
   "execution_count": 37,
   "metadata": {
    "colab": {
     "base_uri": "https://localhost:8080/"
    },
    "id": "cU6kC31RC3yL",
    "outputId": "a3d1ab1d-41bb-4930-d60a-edc96812ceb4"
   },
   "outputs": [
    {
     "data": {
      "text/plain": [
       "(37721, 10)"
      ]
     },
     "execution_count": 37,
     "metadata": {},
     "output_type": "execute_result"
    }
   ],
   "source": [
    "df_emp.shape"
   ]
  },
  {
   "cell_type": "code",
   "execution_count": 38,
   "metadata": {
    "colab": {
     "base_uri": "https://localhost:8080/",
     "height": 598
    },
    "id": "zyi5pgJ8E-7j",
    "outputId": "b9d4f5bc-e451-4d44-c76a-e39c870b2f09"
   },
   "outputs": [],
   "source": [
    "# fig, ax= plt.subplots(3,3, figsize=(25,15))\n",
    "\n",
    "# for i, subplot in zip(cols, ax.flatten()):\n",
    "#     sns.boxplot(df_emp[i], ax=subplot)\n",
    "#     plt.title('df_emp[i]')\n",
    "\n",
    "# plt.tight_layout()\n",
    "# plt.show()"
   ]
  },
  {
   "cell_type": "markdown",
   "metadata": {},
   "source": [
    "1. Wherever we see the calender, we replace by mean or median ro any other appropriate measure. Where ever we see the Fiscal, we replace it with its mean or any other appropriate measure\n",
    "2. This is called target engoding\n",
    "3. This is applied where you are unable to ise frequency, one hot, label encoding."
   ]
  },
  {
   "cell_type": "markdown",
   "metadata": {},
   "source": [
    "### Dummy Encoding"
   ]
  },
  {
   "cell_type": "code",
   "execution_count": 39,
   "metadata": {},
   "outputs": [],
   "source": [
    "df_emp = pd.get_dummies(df_emp, drop_first=True)"
   ]
  },
  {
   "cell_type": "code",
   "execution_count": 40,
   "metadata": {},
   "outputs": [
    {
     "data": {
      "text/html": [
       "<div>\n",
       "<style scoped>\n",
       "    .dataframe tbody tr th:only-of-type {\n",
       "        vertical-align: middle;\n",
       "    }\n",
       "\n",
       "    .dataframe tbody tr th {\n",
       "        vertical-align: top;\n",
       "    }\n",
       "\n",
       "    .dataframe thead th {\n",
       "        text-align: right;\n",
       "    }\n",
       "</style>\n",
       "<table border=\"1\" class=\"dataframe\">\n",
       "  <thead>\n",
       "    <tr style=\"text-align: right;\">\n",
       "      <th></th>\n",
       "      <th>Salaries</th>\n",
       "      <th>Overtime</th>\n",
       "      <th>Other_Salaries</th>\n",
       "      <th>Total_Salary</th>\n",
       "      <th>Retirement</th>\n",
       "      <th>Health/Dental</th>\n",
       "      <th>Other_Benefits</th>\n",
       "      <th>Total_Benefits</th>\n",
       "      <th>Total_Compensation</th>\n",
       "      <th>Year_Type_Fiscal</th>\n",
       "    </tr>\n",
       "  </thead>\n",
       "  <tbody>\n",
       "    <tr>\n",
       "      <th>0</th>\n",
       "      <td>92288.22</td>\n",
       "      <td>267.45</td>\n",
       "      <td>267.45</td>\n",
       "      <td>92823.12</td>\n",
       "      <td>20700.20</td>\n",
       "      <td>12500.56</td>\n",
       "      <td>7605.75</td>\n",
       "      <td>40806.51</td>\n",
       "      <td>133629.63</td>\n",
       "      <td>1</td>\n",
       "    </tr>\n",
       "    <tr>\n",
       "      <th>1</th>\n",
       "      <td>1466.38</td>\n",
       "      <td>348.23</td>\n",
       "      <td>0.00</td>\n",
       "      <td>1814.61</td>\n",
       "      <td>0.00</td>\n",
       "      <td>442.03</td>\n",
       "      <td>141.59</td>\n",
       "      <td>583.62</td>\n",
       "      <td>2398.23</td>\n",
       "      <td>0</td>\n",
       "    </tr>\n",
       "    <tr>\n",
       "      <th>3</th>\n",
       "      <td>45659.88</td>\n",
       "      <td>0.00</td>\n",
       "      <td>1625.37</td>\n",
       "      <td>47285.25</td>\n",
       "      <td>10081.20</td>\n",
       "      <td>0.00</td>\n",
       "      <td>3936.63</td>\n",
       "      <td>14017.83</td>\n",
       "      <td>61303.08</td>\n",
       "      <td>1</td>\n",
       "    </tr>\n",
       "    <tr>\n",
       "      <th>4</th>\n",
       "      <td>41832.00</td>\n",
       "      <td>0.00</td>\n",
       "      <td>0.00</td>\n",
       "      <td>41832.00</td>\n",
       "      <td>7617.60</td>\n",
       "      <td>5908.52</td>\n",
       "      <td>3254.50</td>\n",
       "      <td>16780.62</td>\n",
       "      <td>58612.62</td>\n",
       "      <td>1</td>\n",
       "    </tr>\n",
       "    <tr>\n",
       "      <th>5</th>\n",
       "      <td>74132.00</td>\n",
       "      <td>0.00</td>\n",
       "      <td>1443.42</td>\n",
       "      <td>75575.42</td>\n",
       "      <td>14851.23</td>\n",
       "      <td>12888.34</td>\n",
       "      <td>6233.85</td>\n",
       "      <td>33973.42</td>\n",
       "      <td>109548.84</td>\n",
       "      <td>0</td>\n",
       "    </tr>\n",
       "  </tbody>\n",
       "</table>\n",
       "</div>"
      ],
      "text/plain": [
       "   Salaries  Overtime  Other_Salaries  Total_Salary  Retirement  \\\n",
       "0  92288.22    267.45          267.45      92823.12    20700.20   \n",
       "1   1466.38    348.23            0.00       1814.61        0.00   \n",
       "3  45659.88      0.00         1625.37      47285.25    10081.20   \n",
       "4  41832.00      0.00            0.00      41832.00     7617.60   \n",
       "5  74132.00      0.00         1443.42      75575.42    14851.23   \n",
       "\n",
       "   Health/Dental  Other_Benefits  Total_Benefits  Total_Compensation  \\\n",
       "0       12500.56         7605.75        40806.51           133629.63   \n",
       "1         442.03          141.59          583.62             2398.23   \n",
       "3           0.00         3936.63        14017.83            61303.08   \n",
       "4        5908.52         3254.50        16780.62            58612.62   \n",
       "5       12888.34         6233.85        33973.42           109548.84   \n",
       "\n",
       "   Year_Type_Fiscal  \n",
       "0                 1  \n",
       "1                 0  \n",
       "3                 1  \n",
       "4                 1  \n",
       "5                 0  "
      ]
     },
     "execution_count": 40,
     "metadata": {},
     "output_type": "execute_result"
    }
   ],
   "source": [
    "df_emp.head()"
   ]
  },
  {
   "cell_type": "code",
   "execution_count": 41,
   "metadata": {},
   "outputs": [],
   "source": [
    "# split the data in x and y \n",
    "X = df_emp.drop(\"Total_Compensation\", axis  =1)\n",
    "y = df_emp['Total_Compensation']"
   ]
  },
  {
   "cell_type": "markdown",
   "metadata": {},
   "source": [
    "### The split should always be in the sequence of xtrain, stest, ytrain, ytest."
   ]
  },
  {
   "cell_type": "code",
   "execution_count": 42,
   "metadata": {},
   "outputs": [],
   "source": [
    "# sklearn model\n",
    "# split the data in train and test\n",
    "\n",
    "from sklearn.model_selection import train_test_split\n",
    "#take all the x together and then all u together.\n",
    "\n",
    "xtrain, xtest, ytrain,ytest = train_test_split(X, y, test_size=0.3, random_state=42)"
   ]
  },
  {
   "cell_type": "code",
   "execution_count": 43,
   "metadata": {},
   "outputs": [
    {
     "name": "stdout",
     "output_type": "stream",
     "text": [
      "(26404, 9)\n",
      "(11317, 9)\n",
      "(26404,)\n",
      "(11317,)\n"
     ]
    }
   ],
   "source": [
    "print(xtrain.shape)\n",
    "print(xtest.shape)\n",
    "print(ytrain.shape)   # gives op which has only one dependent variable\n",
    "print(ytest.shape)    # gives op which has only one dependent variable"
   ]
  },
  {
   "cell_type": "code",
   "execution_count": 44,
   "metadata": {},
   "outputs": [],
   "source": [
    "from sklearn.linear_model import LinearRegression\n",
    "from sklearn.metrics import r2_score, mean_squared_error"
   ]
  },
  {
   "cell_type": "markdown",
   "metadata": {},
   "source": [
    "### Lets create Machine Instance"
   ]
  },
  {
   "cell_type": "code",
   "execution_count": 45,
   "metadata": {},
   "outputs": [],
   "source": [
    "lr = LinearRegression()\n",
    "\n",
    "#build the model and find the r2score with RMSE\n",
    "\n",
    "model_emp = lr.fit(xtrain, ytrain)\n",
    "pred_train = model_emp.predict(xtrain) # the machine gets trained on training dataset and predict on training data\n",
    "pred_test = model_emp.predict(xtest) # the machine gets testing on testing dataset and predict on testing data"
   ]
  },
  {
   "cell_type": "code",
   "execution_count": 46,
   "metadata": {},
   "outputs": [
    {
     "data": {
      "text/plain": [
       "1.0"
      ]
     },
     "execution_count": 46,
     "metadata": {},
     "output_type": "execute_result"
    }
   ],
   "source": [
    "r2_score(ytest, pred_test)"
   ]
  },
  {
   "cell_type": "code",
   "execution_count": 47,
   "metadata": {},
   "outputs": [
    {
     "name": "stdout",
     "output_type": "stream",
     "text": [
      "MSE Train 3.985379948497545e-21\n",
      "MSE Test 3.9963447563062434e-21\n",
      "RMSE Train 6.312986574116521e-11\n",
      "RMSE Test 6.321664936000834e-11\n"
     ]
    }
   ],
   "source": [
    "print('MSE Train',(mean_squared_error(ytrain,pred_train)))\n",
    "print('MSE Test',(mean_squared_error(ytest,pred_test)))\n",
    "\n",
    "print('RMSE Train',np.sqrt(mean_squared_error(ytrain,pred_train)))\n",
    "print('RMSE Test',np.sqrt(mean_squared_error(ytest,pred_test)))"
   ]
  },
  {
   "cell_type": "code",
   "execution_count": 48,
   "metadata": {},
   "outputs": [],
   "source": [
    "# ho : data has linear relation with target variable\n",
    "# h1 : data donot has linear relation with target variable"
   ]
  },
  {
   "cell_type": "code",
   "execution_count": 67,
   "metadata": {},
   "outputs": [],
   "source": [
    "import statsmodels.api as sma"
   ]
  },
  {
   "cell_type": "code",
   "execution_count": 50,
   "metadata": {},
   "outputs": [],
   "source": [
    "t_train = sma.add_constant(xtrain)\n",
    "t_test = sma.add_constant(xtest)"
   ]
  },
  {
   "cell_type": "code",
   "execution_count": 51,
   "metadata": {},
   "outputs": [],
   "source": [
    "# we can see that there is a new column const getting added"
   ]
  },
  {
   "cell_type": "code",
   "execution_count": 52,
   "metadata": {},
   "outputs": [],
   "source": [
    "# sma.OLS(y,x) only on training data"
   ]
  },
  {
   "cell_type": "code",
   "execution_count": 53,
   "metadata": {},
   "outputs": [
    {
     "data": {
      "text/html": [
       "<table class=\"simpletable\">\n",
       "<caption>OLS Regression Results</caption>\n",
       "<tr>\n",
       "  <th>Dep. Variable:</th>    <td>Total_Compensation</td> <th>  R-squared:         </th>  <td>   1.000</td> \n",
       "</tr>\n",
       "<tr>\n",
       "  <th>Model:</th>                    <td>OLS</td>        <th>  Adj. R-squared:    </th>  <td>   1.000</td> \n",
       "</tr>\n",
       "<tr>\n",
       "  <th>Method:</th>              <td>Least Squares</td>   <th>  F-statistic:       </th>  <td>9.540e+31</td>\n",
       "</tr>\n",
       "<tr>\n",
       "  <th>Date:</th>              <td>Thu, 17 Aug 2023</td>  <th>  Prob (F-statistic):</th>   <td>  0.00</td>  \n",
       "</tr>\n",
       "<tr>\n",
       "  <th>Time:</th>                  <td>09:06:57</td>      <th>  Log-Likelihood:    </th> <td>5.3687e+05</td>\n",
       "</tr>\n",
       "<tr>\n",
       "  <th>No. Observations:</th>       <td> 26404</td>       <th>  AIC:               </th> <td>-1.074e+06</td>\n",
       "</tr>\n",
       "<tr>\n",
       "  <th>Df Residuals:</th>           <td> 26396</td>       <th>  BIC:               </th> <td>-1.074e+06</td>\n",
       "</tr>\n",
       "<tr>\n",
       "  <th>Df Model:</th>               <td>     7</td>       <th>                     </th>      <td> </td>    \n",
       "</tr>\n",
       "<tr>\n",
       "  <th>Covariance Type:</th>       <td>nonrobust</td>     <th>                     </th>      <td> </td>    \n",
       "</tr>\n",
       "</table>\n",
       "<table class=\"simpletable\">\n",
       "<tr>\n",
       "          <td></td>            <th>coef</th>     <th>std err</th>      <th>t</th>      <th>P>|t|</th>  <th>[0.025</th>    <th>0.975]</th>  \n",
       "</tr>\n",
       "<tr>\n",
       "  <th>const</th>            <td>-5.855e-11</td> <td> 4.98e-12</td> <td>  -11.750</td> <td> 0.000</td> <td>-6.83e-11</td> <td>-4.88e-11</td>\n",
       "</tr>\n",
       "<tr>\n",
       "  <th>Salaries</th>         <td>    0.2500</td> <td> 4.68e-16</td> <td> 5.34e+14</td> <td> 0.000</td> <td>    0.250</td> <td>    0.250</td>\n",
       "</tr>\n",
       "<tr>\n",
       "  <th>Overtime</th>         <td>    0.2500</td> <td> 1.41e-15</td> <td> 1.77e+14</td> <td> 0.000</td> <td>    0.250</td> <td>    0.250</td>\n",
       "</tr>\n",
       "<tr>\n",
       "  <th>Other_Salaries</th>   <td>    0.2500</td> <td> 9.77e-16</td> <td> 2.56e+14</td> <td> 0.000</td> <td>    0.250</td> <td>    0.250</td>\n",
       "</tr>\n",
       "<tr>\n",
       "  <th>Total_Salary</th>     <td>    0.7500</td> <td> 4.58e-16</td> <td> 1.64e+15</td> <td> 0.000</td> <td>    0.750</td> <td>    0.750</td>\n",
       "</tr>\n",
       "<tr>\n",
       "  <th>Retirement</th>       <td>    0.2500</td> <td> 8.16e-16</td> <td> 3.06e+14</td> <td> 0.000</td> <td>    0.250</td> <td>    0.250</td>\n",
       "</tr>\n",
       "<tr>\n",
       "  <th>Health/Dental</th>    <td>    0.2500</td> <td> 8.35e-16</td> <td>    3e+14</td> <td> 0.000</td> <td>    0.250</td> <td>    0.250</td>\n",
       "</tr>\n",
       "<tr>\n",
       "  <th>Other_Benefits</th>   <td>    0.2500</td> <td> 1.22e-15</td> <td> 2.05e+14</td> <td> 0.000</td> <td>    0.250</td> <td>    0.250</td>\n",
       "</tr>\n",
       "<tr>\n",
       "  <th>Total_Benefits</th>   <td>    0.7500</td> <td> 4.18e-16</td> <td>  1.8e+15</td> <td> 0.000</td> <td>    0.750</td> <td>    0.750</td>\n",
       "</tr>\n",
       "<tr>\n",
       "  <th>Year_Type_Fiscal</th> <td>-1.864e-11</td> <td> 4.46e-12</td> <td>   -4.178</td> <td> 0.000</td> <td>-2.74e-11</td> <td> -9.9e-12</td>\n",
       "</tr>\n",
       "</table>\n",
       "<table class=\"simpletable\">\n",
       "<tr>\n",
       "  <th>Omnibus:</th>       <td>2075.901</td> <th>  Durbin-Watson:     </th> <td>   0.558</td>\n",
       "</tr>\n",
       "<tr>\n",
       "  <th>Prob(Omnibus):</th>  <td> 0.000</td>  <th>  Jarque-Bera (JB):  </th> <td>2597.136</td>\n",
       "</tr>\n",
       "<tr>\n",
       "  <th>Skew:</th>           <td> 0.759</td>  <th>  Prob(JB):          </th> <td>    0.00</td>\n",
       "</tr>\n",
       "<tr>\n",
       "  <th>Kurtosis:</th>       <td> 3.234</td>  <th>  Cond. No.          </th> <td>7.08e+16</td>\n",
       "</tr>\n",
       "</table><br/><br/>Notes:<br/>[1] Standard Errors assume that the covariance matrix of the errors is correctly specified.<br/>[2] The smallest eigenvalue is 5.3e-20. This might indicate that there are<br/>strong multicollinearity problems or that the design matrix is singular."
      ],
      "text/plain": [
       "<class 'statsmodels.iolib.summary.Summary'>\n",
       "\"\"\"\n",
       "                            OLS Regression Results                            \n",
       "==============================================================================\n",
       "Dep. Variable:     Total_Compensation   R-squared:                       1.000\n",
       "Model:                            OLS   Adj. R-squared:                  1.000\n",
       "Method:                 Least Squares   F-statistic:                 9.540e+31\n",
       "Date:                Thu, 17 Aug 2023   Prob (F-statistic):               0.00\n",
       "Time:                        09:06:57   Log-Likelihood:             5.3687e+05\n",
       "No. Observations:               26404   AIC:                        -1.074e+06\n",
       "Df Residuals:                   26396   BIC:                        -1.074e+06\n",
       "Df Model:                           7                                         \n",
       "Covariance Type:            nonrobust                                         \n",
       "====================================================================================\n",
       "                       coef    std err          t      P>|t|      [0.025      0.975]\n",
       "------------------------------------------------------------------------------------\n",
       "const            -5.855e-11   4.98e-12    -11.750      0.000   -6.83e-11   -4.88e-11\n",
       "Salaries             0.2500   4.68e-16   5.34e+14      0.000       0.250       0.250\n",
       "Overtime             0.2500   1.41e-15   1.77e+14      0.000       0.250       0.250\n",
       "Other_Salaries       0.2500   9.77e-16   2.56e+14      0.000       0.250       0.250\n",
       "Total_Salary         0.7500   4.58e-16   1.64e+15      0.000       0.750       0.750\n",
       "Retirement           0.2500   8.16e-16   3.06e+14      0.000       0.250       0.250\n",
       "Health/Dental        0.2500   8.35e-16      3e+14      0.000       0.250       0.250\n",
       "Other_Benefits       0.2500   1.22e-15   2.05e+14      0.000       0.250       0.250\n",
       "Total_Benefits       0.7500   4.18e-16    1.8e+15      0.000       0.750       0.750\n",
       "Year_Type_Fiscal -1.864e-11   4.46e-12     -4.178      0.000   -2.74e-11    -9.9e-12\n",
       "==============================================================================\n",
       "Omnibus:                     2075.901   Durbin-Watson:                   0.558\n",
       "Prob(Omnibus):                  0.000   Jarque-Bera (JB):             2597.136\n",
       "Skew:                           0.759   Prob(JB):                         0.00\n",
       "Kurtosis:                       3.234   Cond. No.                     7.08e+16\n",
       "==============================================================================\n",
       "\n",
       "Notes:\n",
       "[1] Standard Errors assume that the covariance matrix of the errors is correctly specified.\n",
       "[2] The smallest eigenvalue is 5.3e-20. This might indicate that there are\n",
       "strong multicollinearity problems or that the design matrix is singular.\n",
       "\"\"\""
      ]
     },
     "execution_count": 53,
     "metadata": {},
     "output_type": "execute_result"
    }
   ],
   "source": [
    "model = sma.OLS(ytrain, t_train).fit()\n",
    "model.summary()"
   ]
  },
  {
   "cell_type": "markdown",
   "metadata": {},
   "source": [
    "### Durbin watson test (auto correlation)"
   ]
  },
  {
   "cell_type": "code",
   "execution_count": null,
   "metadata": {},
   "outputs": [],
   "source": []
  },
  {
   "cell_type": "code",
   "execution_count": null,
   "metadata": {},
   "outputs": [],
   "source": []
  },
  {
   "cell_type": "code",
   "execution_count": null,
   "metadata": {},
   "outputs": [],
   "source": []
  },
  {
   "cell_type": "markdown",
   "metadata": {},
   "source": [
    "### Test of linearity - Rainbow Test"
   ]
  },
  {
   "cell_type": "markdown",
   "metadata": {},
   "source": [
    "* h0 :  Data has linear relation ship with target\n",
    "* h1 :  Data has no linear relation ship with target    "
   ]
  },
  {
   "cell_type": "code",
   "execution_count": 54,
   "metadata": {},
   "outputs": [
    {
     "data": {
      "text/plain": [
       "(2.7397376834028937, 0.0)"
      ]
     },
     "execution_count": 54,
     "metadata": {},
     "output_type": "execute_result"
    }
   ],
   "source": [
    "sma.stats.linear_rainbow(model)"
   ]
  },
  {
   "cell_type": "markdown",
   "metadata": {},
   "source": [
    "Since the p value is less than 0.05, we reject the null hypo"
   ]
  },
  {
   "cell_type": "code",
   "execution_count": 55,
   "metadata": {},
   "outputs": [],
   "source": [
    "## Test of normality ; Jerque Bera Test"
   ]
  },
  {
   "cell_type": "code",
   "execution_count": 56,
   "metadata": {},
   "outputs": [],
   "source": [
    "# h0: data residual are normally distributed\n",
    "# h1: data residual are not normally distributed"
   ]
  },
  {
   "cell_type": "code",
   "execution_count": 57,
   "metadata": {},
   "outputs": [
    {
     "data": {
      "text/plain": [
       "SignificanceResult(statistic=2597.135718752221, pvalue=0.0)"
      ]
     },
     "execution_count": 57,
     "metadata": {},
     "output_type": "execute_result"
    }
   ],
   "source": [
    "stats.jarque_bera(model.resid)"
   ]
  },
  {
   "cell_type": "markdown",
   "metadata": {},
   "source": [
    "### JB Test is based on Kurtosis and skewness"
   ]
  },
  {
   "cell_type": "markdown",
   "metadata": {},
   "source": [
    "### Shapiro Test"
   ]
  },
  {
   "cell_type": "code",
   "execution_count": 58,
   "metadata": {},
   "outputs": [
    {
     "data": {
      "text/plain": [
       "ShapiroResult(statistic=0.9351893067359924, pvalue=0.0)"
      ]
     },
     "execution_count": 58,
     "metadata": {},
     "output_type": "execute_result"
    }
   ],
   "source": [
    "stats.shapiro(model.resid)"
   ]
  },
  {
   "cell_type": "code",
   "execution_count": 59,
   "metadata": {},
   "outputs": [],
   "source": [
    "#### Shapiro test starts misbehaving with dataset of more than 5000 rows"
   ]
  },
  {
   "cell_type": "markdown",
   "metadata": {},
   "source": [
    "## QQ Plot"
   ]
  },
  {
   "cell_type": "code",
   "execution_count": 60,
   "metadata": {},
   "outputs": [
    {
     "data": {
      "image/png": "[encoded data removed]",
      "text/plain": [
       "<Figure size 1000x600 with 1 Axes>"
      ]
     },
     "metadata": {},
     "output_type": "display_data"
    }
   ],
   "source": [
    "sma.qqplot(model.resid, line = 'r');"
   ]
  },
  {
   "cell_type": "code",
   "execution_count": 62,
   "metadata": {},
   "outputs": [],
   "source": [
    "# variance_inflation_factot(xtrain.values,i)"
   ]
  },
  {
   "cell_type": "markdown",
   "metadata": {},
   "source": [
    "#### Lets create list of VIF"
   ]
  },
  {
   "cell_type": "code",
   "execution_count": 76,
   "metadata": {},
   "outputs": [],
   "source": [
    "from statsmodels.stats.outliers_influence import variance_inflation_factor"
   ]
  },
  {
   "cell_type": "code",
   "execution_count": 77,
   "metadata": {},
   "outputs": [
    {
     "data": {
      "text/html": [
       "<div>\n",
       "<style scoped>\n",
       "    .dataframe tbody tr th:only-of-type {\n",
       "        vertical-align: middle;\n",
       "    }\n",
       "\n",
       "    .dataframe tbody tr th {\n",
       "        vertical-align: top;\n",
       "    }\n",
       "\n",
       "    .dataframe thead th {\n",
       "        text-align: right;\n",
       "    }\n",
       "</style>\n",
       "<table border=\"1\" class=\"dataframe\">\n",
       "  <thead>\n",
       "    <tr style=\"text-align: right;\">\n",
       "      <th></th>\n",
       "      <th>Features</th>\n",
       "      <th>VIF</th>\n",
       "    </tr>\n",
       "  </thead>\n",
       "  <tbody>\n",
       "    <tr>\n",
       "      <th>0</th>\n",
       "      <td>Salaries</td>\n",
       "      <td>inf</td>\n",
       "    </tr>\n",
       "    <tr>\n",
       "      <th>1</th>\n",
       "      <td>Overtime</td>\n",
       "      <td>inf</td>\n",
       "    </tr>\n",
       "    <tr>\n",
       "      <th>2</th>\n",
       "      <td>Other_Salaries</td>\n",
       "      <td>inf</td>\n",
       "    </tr>\n",
       "    <tr>\n",
       "      <th>3</th>\n",
       "      <td>Total_Salary</td>\n",
       "      <td>inf</td>\n",
       "    </tr>\n",
       "    <tr>\n",
       "      <th>4</th>\n",
       "      <td>Retirement</td>\n",
       "      <td>inf</td>\n",
       "    </tr>\n",
       "    <tr>\n",
       "      <th>5</th>\n",
       "      <td>Health/Dental</td>\n",
       "      <td>inf</td>\n",
       "    </tr>\n",
       "    <tr>\n",
       "      <th>6</th>\n",
       "      <td>Other_Benefits</td>\n",
       "      <td>inf</td>\n",
       "    </tr>\n",
       "    <tr>\n",
       "      <th>7</th>\n",
       "      <td>Total_Benefits</td>\n",
       "      <td>inf</td>\n",
       "    </tr>\n",
       "    <tr>\n",
       "      <th>8</th>\n",
       "      <td>Year_Type_Fiscal</td>\n",
       "      <td>1.756089</td>\n",
       "    </tr>\n",
       "  </tbody>\n",
       "</table>\n",
       "</div>"
      ],
      "text/plain": [
       "           Features       VIF\n",
       "0          Salaries       inf\n",
       "1          Overtime       inf\n",
       "2    Other_Salaries       inf\n",
       "3      Total_Salary       inf\n",
       "4        Retirement       inf\n",
       "5     Health/Dental       inf\n",
       "6    Other_Benefits       inf\n",
       "7    Total_Benefits       inf\n",
       "8  Year_Type_Fiscal  1.756089"
      ]
     },
     "execution_count": 77,
     "metadata": {},
     "output_type": "execute_result"
    }
   ],
   "source": [
    "vif_list = []\n",
    "for i in range(xtrain.shape[1]):\n",
    "    vif_list.append(variance_inflation_factor(xtrain.values, i))\n",
    "pd.DataFrame({'Features':xtrain.columns,'VIF': vif_list}).sort_values(by = 'VIF', ascending = False)"
   ]
  },
  {
   "cell_type": "code",
   "execution_count": null,
   "metadata": {},
   "outputs": [],
   "source": []
  },
  {
   "cell_type": "markdown",
   "metadata": {},
   "source": [
    "### Breusch Pagan Test"
   ]
  },
  {
   "cell_type": "code",
   "execution_count": 79,
   "metadata": {},
   "outputs": [
    {
     "data": {
      "text/plain": [
       "(25006.469662458578, 0.0, 67473.18624238991, 0.0)"
      ]
     },
     "execution_count": 79,
     "metadata": {},
     "output_type": "execute_result"
    }
   ],
   "source": [
    "import statsmodels.stats.api as ssa\n",
    "ssa.het_breuschpagan(model.resid,model.model.exog)"
   ]
  },
  {
   "cell_type": "code",
   "execution_count": 81,
   "metadata": {},
   "outputs": [],
   "source": [
    "# pval = 0\n",
    "# reject h0, so unequal variance\n",
    "# unequal variance -> heteroscasticitu is presence"
   ]
  },
  {
   "cell_type": "code",
   "execution_count": 84,
   "metadata": {},
   "outputs": [
    {
     "data": {
      "text/plain": [
       "0.5580990773921717"
      ]
     },
     "execution_count": 84,
     "metadata": {},
     "output_type": "execute_result"
    }
   ],
   "source": [
    "from statsmodels.stats.stattools import durbin_watson\n",
    "\n",
    "durbin_watson(model.resid)"
   ]
  },
  {
   "cell_type": "code",
   "execution_count": null,
   "metadata": {},
   "outputs": [],
   "source": []
  }
 ],
 "metadata": {
  "colab": {
   "provenance": []
  },
  "kernelspec": {
   "display_name": "Python 3 (ipykernel)",
   "language": "python",
   "name": "python3"
  },
  "language_info": {
   "codemirror_mode": {
    "name": "ipython",
    "version": 3
   },
   "file_extension": ".py",
   "mimetype": "text/x-python",
   "name": "python",
   "nbconvert_exporter": "python",
   "pygments_lexer": "ipython3",
   "version": "3.10.9"
  }
 },
 "nbformat": 4,
 "nbformat_minor": 1
}
