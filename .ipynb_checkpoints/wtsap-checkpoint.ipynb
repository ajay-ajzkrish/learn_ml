{
 "cells": [
  {
   "cell_type": "code",
   "execution_count": 8,
   "id": "c5a28dbd",
   "metadata": {},
   "outputs": [],
   "source": [
    "import pywhatkit"
   ]
  },
  {
   "cell_type": "code",
   "execution_count": 7,
   "id": "9799914d",
   "metadata": {},
   "outputs": [],
   "source": [
    "pywhatkit.sendwhatmsg_instantly(\n",
    "    phone_no=\"+918015682860\", \n",
    "    message=\"Howdy! This message will be sent instantly!\",\n",
    ")"
   ]
  },
  {
   "cell_type": "code",
   "execution_count": null,
   "id": "13ac1f4d",
   "metadata": {},
   "outputs": [],
   "source": [
    "import time \n",
    "import pywhatkit\n",
    "import pyautogui\n",
    "from pynput.keyboard import Key, Controller\n",
    "\n",
    "keyboard = Controller()\n",
    "\n",
    "\n",
    "def send_whatsapp_message(msg: str):\n",
    "    try:\n",
    "        pywhatkit.sendwhatmsg_instantly(\n",
    "#             phone_no=\"+918015682860\", \n",
    "            phone_no=\"+919952079091\", \n",
    "            message=msg,\n",
    "            tab_close=True\n",
    "        )\n",
    "        \n",
    "        target_time = datetime.strptime(\"2023-09-26 15:46:00\", \"%Y-%m-%d %H:%M:%S\")\n",
    "\n",
    "        # Calculate the number of seconds to wait\n",
    "        current_time = datetime.now()\n",
    "        time_difference = (target_time - current_time).total_seconds()\n",
    "\n",
    "        # Wait until the specified time\n",
    "        if time_difference > 0:\n",
    "            time.sleep(time_difference)\n",
    "    \n",
    "        time.sleep(10)\n",
    "        pyautogui.click()\n",
    "        time.sleep(2)\n",
    "        keyboard.press(Key.enter)\n",
    "        keyboard.release(Key.enter)\n",
    "        print(\"Message sent!\")\n",
    "    except Exception as e:\n",
    "        print(str(e))"
   ]
  },
  {
   "cell_type": "code",
   "execution_count": 10,
   "id": "fda628d4",
   "metadata": {},
   "outputs": [
    {
     "name": "stdout",
     "output_type": "stream",
     "text": [
      "Message sent!\n"
     ]
    }
   ],
   "source": [
    "send_whatsapp_message('test message')"
   ]
  },
  {
   "cell_type": "code",
   "execution_count": null,
   "id": "42f777bb",
   "metadata": {},
   "outputs": [],
   "source": [
    "target_time = datetime.strptime(\"2023-09-26 15:46:00\", \"%Y-%m-%d %H:%M:%S\")\n",
    "\n",
    "# Calculate the number of seconds to wait\n",
    "current_time = datetime.now()\n",
    "time_difference = (target_time - current_time).total_seconds()\n",
    "\n",
    "# Wait until the specified time\n",
    "print(time_difference)\n"
   ]
  },
  {
   "cell_type": "code",
   "execution_count": null,
   "id": "400adc8d",
   "metadata": {},
   "outputs": [],
   "source": []
  }
 ],
 "metadata": {
  "kernelspec": {
   "display_name": "Python 3 (ipykernel)",
   "language": "python",
   "name": "python3"
  },
  "language_info": {
   "codemirror_mode": {
    "name": "ipython",
    "version": 3
   },
   "file_extension": ".py",
   "mimetype": "text/x-python",
   "name": "python",
   "nbconvert_exporter": "python",
   "pygments_lexer": "ipython3",
   "version": "3.10.9"
  }
 },
 "nbformat": 4,
 "nbformat_minor": 5
}
