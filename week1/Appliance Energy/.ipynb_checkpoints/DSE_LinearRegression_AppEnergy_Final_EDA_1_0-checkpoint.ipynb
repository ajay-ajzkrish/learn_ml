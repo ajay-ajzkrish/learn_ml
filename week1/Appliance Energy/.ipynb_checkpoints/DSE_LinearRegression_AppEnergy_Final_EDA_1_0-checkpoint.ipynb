{
 "cells": [
  {
   "cell_type": "markdown",
   "metadata": {
    "id": "ZqWEi_HfhkU2"
   },
   "source": [
    "Problem Statement\n",
    "\n",
    "The dataset contains the temperature, humidity, pressure, and so on recorded from different rooms. The data is collected from the sensors that are implanted in different houses. The house temperature and humidity were monitored using a wireless sensor network. Our aim is to predict the energy used by the appliances in Wh."
   ]
  },
  {
   "cell_type": "code",
   "execution_count": null,
   "metadata": {
    "id": "ncn0Tu23h3VO"
   },
   "outputs": [],
   "source": []
  },
  {
   "cell_type": "markdown",
   "metadata": {
    "id": "KewiinVVhvyF"
   },
   "source": [
    "**About the dataset (Appliances Energy Prediction data)**"
   ]
  },
  {
   "cell_type": "markdown",
   "metadata": {
    "id": "X4YD_fz8h0fF"
   },
   "source": [
    "Appliances: Energy use in Wh (Target Variable)\n",
    "lights: Energy use of light fixtures in the house in Wh\n",
    "\n",
    "1. T1: Temperature in the kitchen area in Celsius\n",
    "2. RH_1: Humidity in the kitchen area in %\n",
    "3. T2: Temperature in the living room area in Celsius\n",
    "4. RH_2: Humidity in the living room area in %\n",
    "5. T3: Temperature in the laundry room area\n",
    "6. RH_3: Humidity in the laundry room area in %\n",
    "7. T4: Temperature in the office room in Celsius\n",
    "8. RH_4: Humidity in the office room in %\n",
    "9. T5: Temperature in the bathroom in Celsius\n",
    "10. RH_5: Humidity in the bathroom in %\n",
    "11. T6: Temperature outside the building (north side) in Celsius\n",
    "12. RH_6: Humidity outside the building (north side) in %\n",
    "13. T7: Temperature in ironing room in Celsius\n",
    "14. RH_7: Humidity in ironing room in %\n",
    "15. T8: Temperature in teenager room 2 in Celsius\n",
    "16. RH_8: Humidity in teenager room 2 in %\n",
    "17. T9: Temperature in parents room in Celsius\n",
    "18. RH_9: Humidity in parents room in %\n",
    "19. T_out: Temperature outside the building in Celsius\n",
    "20. Pres_mm_hg: Pressure in mm Hg\n",
    "21. RH_out: Humidity outside the building in %\n",
    "22. Windspeed: Speed of the wind in m/s\n",
    "23. Visibility: Visibility of the building from the nearest weather station in km"
   ]
  },
  {
   "cell_type": "code",
   "execution_count": 97,
   "metadata": {
    "id": "NtqAG_YTJJCs"
   },
   "outputs": [],
   "source": [
    "# pip install numpy==1.20.3"
   ]
  },
  {
   "cell_type": "code",
   "execution_count": 98,
   "metadata": {
    "id": "i32pIAfFhZcb",
    "outputId": "f7b1f9e0-c011-4dda-c576-e1635082de27"
   },
   "outputs": [],
   "source": [
    "import numpy as np\n",
    "import pandas as pd\n",
    "import matplotlib.pyplot as plt\n",
    "import seaborn as sns\n",
    "\n",
    "plt.rcParams['figure.figsize'] = [15, 6]\n",
    "import scipy.stats as stats\n",
    "import warnings\n",
    "warnings.filterwarnings(\"ignore\")\n",
    "\n",
    "# to display the float values upto 6 decimal places\n",
    "pd.options.display.float_format = '{:.6f}'.format"
   ]
  },
  {
   "cell_type": "code",
   "execution_count": 99,
   "metadata": {
    "colab": {
     "base_uri": "https://localhost:8080/",
     "height": 217
    },
    "id": "ohbnDEUnmMlq",
    "outputId": "86aed28b-99ec-4197-ad01-8afa8d7801ec"
   },
   "outputs": [],
   "source": [
    "# import os\n",
    "# os.getcwd()\n",
    "# os.chdir('F:\\Rakesh\\PGP-BABI\\Python Programming')\n",
    "# os.getcwd()"
   ]
  },
  {
   "cell_type": "code",
   "execution_count": 100,
   "metadata": {
    "id": "HOoENKMJi4_-",
    "outputId": "4e14339f-f1c5-4db7-d8ec-4ac67f596538"
   },
   "outputs": [
    {
     "data": {
      "text/html": [
       "<div>\n",
       "<style scoped>\n",
       "    .dataframe tbody tr th:only-of-type {\n",
       "        vertical-align: middle;\n",
       "    }\n",
       "\n",
       "    .dataframe tbody tr th {\n",
       "        vertical-align: top;\n",
       "    }\n",
       "\n",
       "    .dataframe thead th {\n",
       "        text-align: right;\n",
       "    }\n",
       "</style>\n",
       "<table border=\"1\" class=\"dataframe\">\n",
       "  <thead>\n",
       "    <tr style=\"text-align: right;\">\n",
       "      <th></th>\n",
       "      <th>Appliances</th>\n",
       "      <th>lights</th>\n",
       "      <th>T1</th>\n",
       "      <th>RH_1</th>\n",
       "      <th>T2</th>\n",
       "      <th>RH_2</th>\n",
       "      <th>T3</th>\n",
       "      <th>RH_3</th>\n",
       "      <th>T4</th>\n",
       "      <th>RH_4</th>\n",
       "      <th>...</th>\n",
       "      <th>RH_7</th>\n",
       "      <th>T8</th>\n",
       "      <th>RH_8</th>\n",
       "      <th>T9</th>\n",
       "      <th>RH_9</th>\n",
       "      <th>T_out</th>\n",
       "      <th>Press_mm_hg</th>\n",
       "      <th>RH_out</th>\n",
       "      <th>Windspeed</th>\n",
       "      <th>Visibility</th>\n",
       "    </tr>\n",
       "  </thead>\n",
       "  <tbody>\n",
       "    <tr>\n",
       "      <th>0</th>\n",
       "      <td>60</td>\n",
       "      <td>20</td>\n",
       "      <td>20.700000</td>\n",
       "      <td>44.700000</td>\n",
       "      <td>19.500000</td>\n",
       "      <td>45.590000</td>\n",
       "      <td>21.390000</td>\n",
       "      <td>41.950000</td>\n",
       "      <td>20.566667</td>\n",
       "      <td>45.626667</td>\n",
       "      <td>...</td>\n",
       "      <td>43.290000</td>\n",
       "      <td>20.500000</td>\n",
       "      <td>52.790000</td>\n",
       "      <td>18.306667</td>\n",
       "      <td>47.590000</td>\n",
       "      <td>11.016667</td>\n",
       "      <td>756.533333</td>\n",
       "      <td>88.333333</td>\n",
       "      <td>8.833333</td>\n",
       "      <td>38.166667</td>\n",
       "    </tr>\n",
       "    <tr>\n",
       "      <th>1</th>\n",
       "      <td>60</td>\n",
       "      <td>0</td>\n",
       "      <td>21.290000</td>\n",
       "      <td>37.863333</td>\n",
       "      <td>19.390000</td>\n",
       "      <td>39.663333</td>\n",
       "      <td>21.790000</td>\n",
       "      <td>36.700000</td>\n",
       "      <td>20.463333</td>\n",
       "      <td>37.526667</td>\n",
       "      <td>...</td>\n",
       "      <td>32.095000</td>\n",
       "      <td>22.000000</td>\n",
       "      <td>39.223333</td>\n",
       "      <td>19.600000</td>\n",
       "      <td>38.826667</td>\n",
       "      <td>8.350000</td>\n",
       "      <td>761.800000</td>\n",
       "      <td>70.000000</td>\n",
       "      <td>3.500000</td>\n",
       "      <td>40.000000</td>\n",
       "    </tr>\n",
       "    <tr>\n",
       "      <th>2</th>\n",
       "      <td>80</td>\n",
       "      <td>0</td>\n",
       "      <td>21.390000</td>\n",
       "      <td>35.790000</td>\n",
       "      <td>19.290000</td>\n",
       "      <td>37.700000</td>\n",
       "      <td>22.760000</td>\n",
       "      <td>34.290000</td>\n",
       "      <td>21.323333</td>\n",
       "      <td>34.730000</td>\n",
       "      <td>...</td>\n",
       "      <td>29.200000</td>\n",
       "      <td>22.390000</td>\n",
       "      <td>37.290000</td>\n",
       "      <td>19.463333</td>\n",
       "      <td>35.500000</td>\n",
       "      <td>6.866667</td>\n",
       "      <td>762.333333</td>\n",
       "      <td>69.666667</td>\n",
       "      <td>3.000000</td>\n",
       "      <td>35.666667</td>\n",
       "    </tr>\n",
       "    <tr>\n",
       "      <th>3</th>\n",
       "      <td>40</td>\n",
       "      <td>0</td>\n",
       "      <td>19.033333</td>\n",
       "      <td>41.826667</td>\n",
       "      <td>18.533333</td>\n",
       "      <td>41.290000</td>\n",
       "      <td>18.100000</td>\n",
       "      <td>43.790000</td>\n",
       "      <td>15.890000</td>\n",
       "      <td>47.530000</td>\n",
       "      <td>...</td>\n",
       "      <td>40.138889</td>\n",
       "      <td>19.594444</td>\n",
       "      <td>51.062778</td>\n",
       "      <td>15.100000</td>\n",
       "      <td>46.760000</td>\n",
       "      <td>5.133333</td>\n",
       "      <td>769.583333</td>\n",
       "      <td>92.000000</td>\n",
       "      <td>4.833333</td>\n",
       "      <td>23.166667</td>\n",
       "    </tr>\n",
       "    <tr>\n",
       "      <th>4</th>\n",
       "      <td>60</td>\n",
       "      <td>30</td>\n",
       "      <td>21.700000</td>\n",
       "      <td>46.633333</td>\n",
       "      <td>20.700000</td>\n",
       "      <td>45.900000</td>\n",
       "      <td>22.323333</td>\n",
       "      <td>44.790000</td>\n",
       "      <td>21.000000</td>\n",
       "      <td>47.966667</td>\n",
       "      <td>...</td>\n",
       "      <td>45.200000</td>\n",
       "      <td>20.469444</td>\n",
       "      <td>53.189444</td>\n",
       "      <td>18.290000</td>\n",
       "      <td>51.863333</td>\n",
       "      <td>8.633333</td>\n",
       "      <td>757.566667</td>\n",
       "      <td>95.666667</td>\n",
       "      <td>6.000000</td>\n",
       "      <td>55.333333</td>\n",
       "    </tr>\n",
       "  </tbody>\n",
       "</table>\n",
       "<p>5 rows × 25 columns</p>\n",
       "</div>"
      ],
      "text/plain": [
       "   Appliances  lights        T1      RH_1        T2      RH_2        T3  \\\n",
       "0          60      20 20.700000 44.700000 19.500000 45.590000 21.390000   \n",
       "1          60       0 21.290000 37.863333 19.390000 39.663333 21.790000   \n",
       "2          80       0 21.390000 35.790000 19.290000 37.700000 22.760000   \n",
       "3          40       0 19.033333 41.826667 18.533333 41.290000 18.100000   \n",
       "4          60      30 21.700000 46.633333 20.700000 45.900000 22.323333   \n",
       "\n",
       "       RH_3        T4      RH_4  ...      RH_7        T8      RH_8        T9  \\\n",
       "0 41.950000 20.566667 45.626667  ... 43.290000 20.500000 52.790000 18.306667   \n",
       "1 36.700000 20.463333 37.526667  ... 32.095000 22.000000 39.223333 19.600000   \n",
       "2 34.290000 21.323333 34.730000  ... 29.200000 22.390000 37.290000 19.463333   \n",
       "3 43.790000 15.890000 47.530000  ... 40.138889 19.594444 51.062778 15.100000   \n",
       "4 44.790000 21.000000 47.966667  ... 45.200000 20.469444 53.189444 18.290000   \n",
       "\n",
       "       RH_9     T_out  Press_mm_hg    RH_out  Windspeed  Visibility  \n",
       "0 47.590000 11.016667   756.533333 88.333333   8.833333   38.166667  \n",
       "1 38.826667  8.350000   761.800000 70.000000   3.500000   40.000000  \n",
       "2 35.500000  6.866667   762.333333 69.666667   3.000000   35.666667  \n",
       "3 46.760000  5.133333   769.583333 92.000000   4.833333   23.166667  \n",
       "4 51.863333  8.633333   757.566667 95.666667   6.000000   55.333333  \n",
       "\n",
       "[5 rows x 25 columns]"
      ]
     },
     "execution_count": 100,
     "metadata": {},
     "output_type": "execute_result"
    }
   ],
   "source": [
    "df_energy=pd.read_csv(\"energy_data.csv\")\n",
    "df_energy.head()"
   ]
  },
  {
   "cell_type": "markdown",
   "metadata": {
    "id": "oF19DOOeUZ0M"
   },
   "source": [
    "# Objective"
   ]
  },
  {
   "cell_type": "markdown",
   "metadata": {
    "id": "wcbGt8-RUeXD"
   },
   "source": [
    "1. Understand some intricacies of EDA. How to deal with Clumsy and large number of columns in the dataset.\n",
    "2. Transformation\n",
    "3. Encoding\n",
    "4. Feature Selection - focus on Forward and Backward Selection.\n",
    "5. Recursive Feature Selection.\n",
    "6. Cross Validation.\n",
    "7. Bias and Variance Concepts\n",
    "8. Regularization.\n",
    "9. Grid Search CV"
   ]
  },
  {
   "cell_type": "markdown",
   "metadata": {
    "id": "WsFLmQ18jhVo"
   },
   "source": [
    "### Check the attributes of the Dataset"
   ]
  },
  {
   "cell_type": "code",
   "execution_count": 101,
   "metadata": {
    "id": "YHlNGvxhjmcW",
    "outputId": "b19c2576-704d-4af2-edf9-03a6fa268cb8"
   },
   "outputs": [
    {
     "data": {
      "text/plain": [
       "(1000, 25)"
      ]
     },
     "execution_count": 101,
     "metadata": {},
     "output_type": "execute_result"
    }
   ],
   "source": [
    "df_energy.shape"
   ]
  },
  {
   "cell_type": "code",
   "execution_count": 102,
   "metadata": {
    "id": "0iI-SQd4jqVW",
    "outputId": "34e613cb-5a7c-4706-8300-4e267e265262"
   },
   "outputs": [
    {
     "data": {
      "text/html": [
       "<div>\n",
       "<style scoped>\n",
       "    .dataframe tbody tr th:only-of-type {\n",
       "        vertical-align: middle;\n",
       "    }\n",
       "\n",
       "    .dataframe tbody tr th {\n",
       "        vertical-align: top;\n",
       "    }\n",
       "\n",
       "    .dataframe thead th {\n",
       "        text-align: right;\n",
       "    }\n",
       "</style>\n",
       "<table border=\"1\" class=\"dataframe\">\n",
       "  <thead>\n",
       "    <tr style=\"text-align: right;\">\n",
       "      <th></th>\n",
       "      <th>Appliances</th>\n",
       "      <th>lights</th>\n",
       "      <th>T1</th>\n",
       "      <th>RH_1</th>\n",
       "      <th>T2</th>\n",
       "      <th>RH_2</th>\n",
       "      <th>T3</th>\n",
       "      <th>RH_3</th>\n",
       "      <th>T4</th>\n",
       "      <th>RH_4</th>\n",
       "      <th>...</th>\n",
       "      <th>RH_7</th>\n",
       "      <th>T8</th>\n",
       "      <th>RH_8</th>\n",
       "      <th>T9</th>\n",
       "      <th>RH_9</th>\n",
       "      <th>T_out</th>\n",
       "      <th>Press_mm_hg</th>\n",
       "      <th>RH_out</th>\n",
       "      <th>Windspeed</th>\n",
       "      <th>Visibility</th>\n",
       "    </tr>\n",
       "  </thead>\n",
       "  <tbody>\n",
       "    <tr>\n",
       "      <th>count</th>\n",
       "      <td>1000.000000</td>\n",
       "      <td>1000.000000</td>\n",
       "      <td>1000.000000</td>\n",
       "      <td>1000.000000</td>\n",
       "      <td>1000.000000</td>\n",
       "      <td>1000.000000</td>\n",
       "      <td>1000.000000</td>\n",
       "      <td>1000.000000</td>\n",
       "      <td>1000.000000</td>\n",
       "      <td>1000.000000</td>\n",
       "      <td>...</td>\n",
       "      <td>1000.000000</td>\n",
       "      <td>1000.000000</td>\n",
       "      <td>1000.000000</td>\n",
       "      <td>1000.000000</td>\n",
       "      <td>1000.000000</td>\n",
       "      <td>1000.000000</td>\n",
       "      <td>1000.000000</td>\n",
       "      <td>1000.000000</td>\n",
       "      <td>1000.000000</td>\n",
       "      <td>1000.000000</td>\n",
       "    </tr>\n",
       "    <tr>\n",
       "      <th>mean</th>\n",
       "      <td>94.580000</td>\n",
       "      <td>3.880000</td>\n",
       "      <td>21.689083</td>\n",
       "      <td>40.220658</td>\n",
       "      <td>20.308276</td>\n",
       "      <td>40.456847</td>\n",
       "      <td>22.291003</td>\n",
       "      <td>39.193848</td>\n",
       "      <td>20.877548</td>\n",
       "      <td>38.883203</td>\n",
       "      <td>...</td>\n",
       "      <td>35.202685</td>\n",
       "      <td>22.110523</td>\n",
       "      <td>42.876733</td>\n",
       "      <td>19.500280</td>\n",
       "      <td>41.421305</td>\n",
       "      <td>7.270235</td>\n",
       "      <td>755.522126</td>\n",
       "      <td>79.722845</td>\n",
       "      <td>4.057964</td>\n",
       "      <td>38.219167</td>\n",
       "    </tr>\n",
       "    <tr>\n",
       "      <th>std</th>\n",
       "      <td>95.963705</td>\n",
       "      <td>8.075321</td>\n",
       "      <td>1.533835</td>\n",
       "      <td>3.966141</td>\n",
       "      <td>2.123854</td>\n",
       "      <td>4.080899</td>\n",
       "      <td>1.939537</td>\n",
       "      <td>3.171917</td>\n",
       "      <td>1.947205</td>\n",
       "      <td>4.297529</td>\n",
       "      <td>...</td>\n",
       "      <td>5.069127</td>\n",
       "      <td>1.877895</td>\n",
       "      <td>5.208331</td>\n",
       "      <td>1.926965</td>\n",
       "      <td>4.132533</td>\n",
       "      <td>5.207305</td>\n",
       "      <td>7.433976</td>\n",
       "      <td>14.623087</td>\n",
       "      <td>2.454295</td>\n",
       "      <td>11.679127</td>\n",
       "    </tr>\n",
       "    <tr>\n",
       "      <th>min</th>\n",
       "      <td>20.000000</td>\n",
       "      <td>0.000000</td>\n",
       "      <td>16.823333</td>\n",
       "      <td>28.193333</td>\n",
       "      <td>16.200000</td>\n",
       "      <td>24.823333</td>\n",
       "      <td>17.290000</td>\n",
       "      <td>33.200000</td>\n",
       "      <td>15.160000</td>\n",
       "      <td>29.421429</td>\n",
       "      <td>...</td>\n",
       "      <td>23.290000</td>\n",
       "      <td>16.583333</td>\n",
       "      <td>29.600000</td>\n",
       "      <td>15.000000</td>\n",
       "      <td>29.426667</td>\n",
       "      <td>-4.955556</td>\n",
       "      <td>730.700000</td>\n",
       "      <td>24.500000</td>\n",
       "      <td>0.000000</td>\n",
       "      <td>3.333333</td>\n",
       "    </tr>\n",
       "    <tr>\n",
       "      <th>25%</th>\n",
       "      <td>50.000000</td>\n",
       "      <td>0.000000</td>\n",
       "      <td>20.790000</td>\n",
       "      <td>37.200000</td>\n",
       "      <td>18.790000</td>\n",
       "      <td>38.057500</td>\n",
       "      <td>20.823333</td>\n",
       "      <td>36.900000</td>\n",
       "      <td>19.566667</td>\n",
       "      <td>35.484167</td>\n",
       "      <td>...</td>\n",
       "      <td>31.352738</td>\n",
       "      <td>20.910625</td>\n",
       "      <td>39.200000</td>\n",
       "      <td>18.100000</td>\n",
       "      <td>38.421429</td>\n",
       "      <td>3.537500</td>\n",
       "      <td>750.800000</td>\n",
       "      <td>70.000000</td>\n",
       "      <td>2.000000</td>\n",
       "      <td>28.666667</td>\n",
       "    </tr>\n",
       "    <tr>\n",
       "      <th>50%</th>\n",
       "      <td>60.000000</td>\n",
       "      <td>0.000000</td>\n",
       "      <td>21.600000</td>\n",
       "      <td>39.700000</td>\n",
       "      <td>19.890000</td>\n",
       "      <td>40.400000</td>\n",
       "      <td>22.100000</td>\n",
       "      <td>38.500000</td>\n",
       "      <td>20.760000</td>\n",
       "      <td>38.290000</td>\n",
       "      <td>...</td>\n",
       "      <td>34.609111</td>\n",
       "      <td>22.200000</td>\n",
       "      <td>42.352333</td>\n",
       "      <td>19.500000</td>\n",
       "      <td>40.566667</td>\n",
       "      <td>6.841667</td>\n",
       "      <td>755.941667</td>\n",
       "      <td>83.833333</td>\n",
       "      <td>3.666667</td>\n",
       "      <td>40.000000</td>\n",
       "    </tr>\n",
       "    <tr>\n",
       "      <th>75%</th>\n",
       "      <td>100.000000</td>\n",
       "      <td>0.000000</td>\n",
       "      <td>22.533333</td>\n",
       "      <td>42.861667</td>\n",
       "      <td>21.390000</td>\n",
       "      <td>43.200000</td>\n",
       "      <td>23.390000</td>\n",
       "      <td>41.500000</td>\n",
       "      <td>22.100000</td>\n",
       "      <td>41.992500</td>\n",
       "      <td>...</td>\n",
       "      <td>39.000000</td>\n",
       "      <td>23.441857</td>\n",
       "      <td>46.430694</td>\n",
       "      <td>20.600000</td>\n",
       "      <td>44.308333</td>\n",
       "      <td>10.433333</td>\n",
       "      <td>760.937500</td>\n",
       "      <td>91.333333</td>\n",
       "      <td>5.666667</td>\n",
       "      <td>40.000000</td>\n",
       "    </tr>\n",
       "    <tr>\n",
       "      <th>max</th>\n",
       "      <td>800.000000</td>\n",
       "      <td>40.000000</td>\n",
       "      <td>26.066667</td>\n",
       "      <td>54.800000</td>\n",
       "      <td>29.100000</td>\n",
       "      <td>53.249880</td>\n",
       "      <td>28.867143</td>\n",
       "      <td>49.930000</td>\n",
       "      <td>26.100000</td>\n",
       "      <td>50.963333</td>\n",
       "      <td>...</td>\n",
       "      <td>49.444444</td>\n",
       "      <td>27.100000</td>\n",
       "      <td>56.598333</td>\n",
       "      <td>24.434000</td>\n",
       "      <td>52.700000</td>\n",
       "      <td>25.600000</td>\n",
       "      <td>772.200000</td>\n",
       "      <td>100.000000</td>\n",
       "      <td>13.000000</td>\n",
       "      <td>65.000000</td>\n",
       "    </tr>\n",
       "  </tbody>\n",
       "</table>\n",
       "<p>8 rows × 25 columns</p>\n",
       "</div>"
      ],
      "text/plain": [
       "       Appliances      lights          T1        RH_1          T2        RH_2  \\\n",
       "count 1000.000000 1000.000000 1000.000000 1000.000000 1000.000000 1000.000000   \n",
       "mean    94.580000    3.880000   21.689083   40.220658   20.308276   40.456847   \n",
       "std     95.963705    8.075321    1.533835    3.966141    2.123854    4.080899   \n",
       "min     20.000000    0.000000   16.823333   28.193333   16.200000   24.823333   \n",
       "25%     50.000000    0.000000   20.790000   37.200000   18.790000   38.057500   \n",
       "50%     60.000000    0.000000   21.600000   39.700000   19.890000   40.400000   \n",
       "75%    100.000000    0.000000   22.533333   42.861667   21.390000   43.200000   \n",
       "max    800.000000   40.000000   26.066667   54.800000   29.100000   53.249880   \n",
       "\n",
       "               T3        RH_3          T4        RH_4  ...        RH_7  \\\n",
       "count 1000.000000 1000.000000 1000.000000 1000.000000  ... 1000.000000   \n",
       "mean    22.291003   39.193848   20.877548   38.883203  ...   35.202685   \n",
       "std      1.939537    3.171917    1.947205    4.297529  ...    5.069127   \n",
       "min     17.290000   33.200000   15.160000   29.421429  ...   23.290000   \n",
       "25%     20.823333   36.900000   19.566667   35.484167  ...   31.352738   \n",
       "50%     22.100000   38.500000   20.760000   38.290000  ...   34.609111   \n",
       "75%     23.390000   41.500000   22.100000   41.992500  ...   39.000000   \n",
       "max     28.867143   49.930000   26.100000   50.963333  ...   49.444444   \n",
       "\n",
       "               T8        RH_8          T9        RH_9       T_out  \\\n",
       "count 1000.000000 1000.000000 1000.000000 1000.000000 1000.000000   \n",
       "mean    22.110523   42.876733   19.500280   41.421305    7.270235   \n",
       "std      1.877895    5.208331    1.926965    4.132533    5.207305   \n",
       "min     16.583333   29.600000   15.000000   29.426667   -4.955556   \n",
       "25%     20.910625   39.200000   18.100000   38.421429    3.537500   \n",
       "50%     22.200000   42.352333   19.500000   40.566667    6.841667   \n",
       "75%     23.441857   46.430694   20.600000   44.308333   10.433333   \n",
       "max     27.100000   56.598333   24.434000   52.700000   25.600000   \n",
       "\n",
       "       Press_mm_hg      RH_out   Windspeed  Visibility  \n",
       "count  1000.000000 1000.000000 1000.000000 1000.000000  \n",
       "mean    755.522126   79.722845    4.057964   38.219167  \n",
       "std       7.433976   14.623087    2.454295   11.679127  \n",
       "min     730.700000   24.500000    0.000000    3.333333  \n",
       "25%     750.800000   70.000000    2.000000   28.666667  \n",
       "50%     755.941667   83.833333    3.666667   40.000000  \n",
       "75%     760.937500   91.333333    5.666667   40.000000  \n",
       "max     772.200000  100.000000   13.000000   65.000000  \n",
       "\n",
       "[8 rows x 25 columns]"
      ]
     },
     "execution_count": 102,
     "metadata": {},
     "output_type": "execute_result"
    }
   ],
   "source": [
    "df_energy.describe()"
   ]
  },
  {
   "cell_type": "code",
   "execution_count": 103,
   "metadata": {
    "id": "e_RaAuf2j31G",
    "outputId": "e91ef567-53e3-48db-f80c-932e2540a18b"
   },
   "outputs": [
    {
     "name": "stdout",
     "output_type": "stream",
     "text": [
      "<class 'pandas.core.frame.DataFrame'>\n",
      "RangeIndex: 1000 entries, 0 to 999\n",
      "Data columns (total 25 columns):\n",
      " #   Column       Non-Null Count  Dtype  \n",
      "---  ------       --------------  -----  \n",
      " 0   Appliances   1000 non-null   int64  \n",
      " 1   lights       1000 non-null   int64  \n",
      " 2   T1           1000 non-null   float64\n",
      " 3   RH_1         1000 non-null   float64\n",
      " 4   T2           1000 non-null   float64\n",
      " 5   RH_2         1000 non-null   float64\n",
      " 6   T3           1000 non-null   float64\n",
      " 7   RH_3         1000 non-null   float64\n",
      " 8   T4           1000 non-null   float64\n",
      " 9   RH_4         1000 non-null   float64\n",
      " 10  T5           1000 non-null   float64\n",
      " 11  RH_5         1000 non-null   float64\n",
      " 12  T6           1000 non-null   float64\n",
      " 13  RH_6         1000 non-null   float64\n",
      " 14  T7           1000 non-null   float64\n",
      " 15  RH_7         1000 non-null   float64\n",
      " 16  T8           1000 non-null   float64\n",
      " 17  RH_8         1000 non-null   float64\n",
      " 18  T9           1000 non-null   float64\n",
      " 19  RH_9         1000 non-null   float64\n",
      " 20  T_out        1000 non-null   float64\n",
      " 21  Press_mm_hg  1000 non-null   float64\n",
      " 22  RH_out       1000 non-null   float64\n",
      " 23  Windspeed    1000 non-null   float64\n",
      " 24  Visibility   1000 non-null   float64\n",
      "dtypes: float64(23), int64(2)\n",
      "memory usage: 195.4 KB\n"
     ]
    }
   ],
   "source": [
    "df_energy.info()"
   ]
  },
  {
   "cell_type": "code",
   "execution_count": 104,
   "metadata": {
    "id": "S_AREWe_syTK",
    "outputId": "2e213a20-de0a-4fa1-e1e4-bf3835386b47"
   },
   "outputs": [
    {
     "data": {
      "text/plain": [
       "Appliances    0.000000\n",
       "lights        0.000000\n",
       "T1            0.000000\n",
       "RH_1          0.000000\n",
       "T2            0.000000\n",
       "RH_2          0.000000\n",
       "T3            0.000000\n",
       "RH_3          0.000000\n",
       "T4            0.000000\n",
       "RH_4          0.000000\n",
       "T5            0.000000\n",
       "RH_5          0.000000\n",
       "T6            0.000000\n",
       "RH_6          0.000000\n",
       "T7            0.000000\n",
       "RH_7          0.000000\n",
       "T8            0.000000\n",
       "RH_8          0.000000\n",
       "T9            0.000000\n",
       "RH_9          0.000000\n",
       "T_out         0.000000\n",
       "Press_mm_hg   0.000000\n",
       "RH_out        0.000000\n",
       "Windspeed     0.000000\n",
       "Visibility    0.000000\n",
       "dtype: float64"
      ]
     },
     "execution_count": 104,
     "metadata": {},
     "output_type": "execute_result"
    }
   ],
   "source": [
    "# to know the percent of missing values\n",
    "(df_energy.isnull().sum() /df_energy.index.size) *100"
   ]
  },
  {
   "cell_type": "markdown",
   "metadata": {
    "id": "ggANhUQakSoG"
   },
   "source": [
    "### Prodecure for solving the problem"
   ]
  },
  {
   "cell_type": "markdown",
   "metadata": {
    "id": "PGthyqhYkTje"
   },
   "source": [
    "1. Univariate Analysis.\n",
    "2. Outlier Treatment.\n",
    "3. Missing Value Treatment.\n",
    "4. Univariate.\n",
    "5. Bivariate.\n",
    "6. Multivariate.\n",
    "7. Feature Engineering.\n",
    "8. Scaling and Transformation."
   ]
  },
  {
   "cell_type": "markdown",
   "metadata": {
    "id": "AkA_iX_zkcke"
   },
   "source": [
    "### Modeling"
   ]
  },
  {
   "cell_type": "markdown",
   "metadata": {
    "id": "tO4ye6CgkfbV"
   },
   "source": [
    "1. Split the Data into Train and Test.\n",
    "2. Build the Model- Linear Regression.\n",
    "3. Evaluate the performance - r2 , RMSE.\n",
    "4. Underfitting vs Overfitting (Bias vs Variance).\n",
    "5. Assumption of the Model.\n",
    "7. Cross validation Approach and Feature Selection.\n",
    "6. If Assumptions fail - then apply Decision Tree, Random Forest, Bagging, Boosting models are build."
   ]
  },
  {
   "cell_type": "markdown",
   "metadata": {
    "id": "xAM22JrzkmLG"
   },
   "source": [
    "**Remove Any Insignificant Variables**"
   ]
  },
  {
   "cell_type": "markdown",
   "metadata": {
    "id": "dxlHXhwWk1ie"
   },
   "source": [
    "**At the outset we do not have any insignificant variables**"
   ]
  },
  {
   "cell_type": "markdown",
   "metadata": {
    "id": "hXNi04rnlGgG"
   },
   "source": [
    "### Numerical and Categorical variables"
   ]
  },
  {
   "cell_type": "code",
   "execution_count": 105,
   "metadata": {
    "id": "SFXRhtPhkHg2",
    "outputId": "7d993034-a7dc-47dc-b478-8991b83a5f60"
   },
   "outputs": [
    {
     "data": {
      "text/plain": [
       "['Appliances',\n",
       " 'lights',\n",
       " 'T1',\n",
       " 'RH_1',\n",
       " 'T2',\n",
       " 'RH_2',\n",
       " 'T3',\n",
       " 'RH_3',\n",
       " 'T4',\n",
       " 'RH_4',\n",
       " 'T5',\n",
       " 'RH_5',\n",
       " 'T6',\n",
       " 'RH_6',\n",
       " 'T7',\n",
       " 'RH_7',\n",
       " 'T8',\n",
       " 'RH_8',\n",
       " 'T9',\n",
       " 'RH_9',\n",
       " 'T_out',\n",
       " 'Press_mm_hg',\n",
       " 'RH_out',\n",
       " 'Windspeed',\n",
       " 'Visibility']"
      ]
     },
     "execution_count": 105,
     "metadata": {},
     "output_type": "execute_result"
    }
   ],
   "source": [
    "cols=list(df_energy.select_dtypes(include=np.number).columns)\n",
    "cols"
   ]
  },
  {
   "cell_type": "code",
   "execution_count": 106,
   "metadata": {
    "id": "Upd650iHlZ8J",
    "outputId": "7db448c7-95fa-4d3d-ebdd-da32869253fe"
   },
   "outputs": [
    {
     "data": {
      "image/jpeg": "[encoded data removed]",
      "text/plain": [
       "<IPython.core.display.Image object>"
      ]
     },
     "execution_count": 106,
     "metadata": {
      "image/jpeg": {
       "height": 200,
       "width": 600
      }
     },
     "output_type": "execute_result"
    }
   ],
   "source": [
    "from IPython.display import Image\n",
    "Image(filename='Univariate.JPG',width=600,height=200)"
   ]
  },
  {
   "cell_type": "markdown",
   "metadata": {
    "id": "4shJ9e0xllvv"
   },
   "source": [
    "**Univariate Analysis**"
   ]
  },
  {
   "cell_type": "code",
   "execution_count": 107,
   "metadata": {
    "id": "olzHCDlLlgSG",
    "outputId": "491c741b-4e09-483c-b310-65f24f4dca1a"
   },
   "outputs": [],
   "source": [
    "# fig, ax= plt.subplots(5,5, figsize=(25,15))\n",
    "\n",
    "# for i, subplot in zip(cols, ax.flatten()):\n",
    "#     sns.distplot(df_energy[i], ax=subplot,kde=True)\n",
    "#     plt.title('df_energy[i]')\n",
    "\n",
    "# plt.tight_layout()\n",
    "# plt.show()"
   ]
  },
  {
   "cell_type": "markdown",
   "metadata": {
    "id": "5X7l6dF2mRne"
   },
   "source": [
    "1. Light and Appliances are discrete variable.\n",
    "2. All other variables are continuous."
   ]
  },
  {
   "cell_type": "code",
   "execution_count": 108,
   "metadata": {
    "id": "T22DUZwdkuR5",
    "outputId": "a44f497e-5f90-4e13-d7f3-a7e6a7252dc3"
   },
   "outputs": [
    {
     "data": {
      "text/html": [
       "<div>\n",
       "<style scoped>\n",
       "    .dataframe tbody tr th:only-of-type {\n",
       "        vertical-align: middle;\n",
       "    }\n",
       "\n",
       "    .dataframe tbody tr th {\n",
       "        vertical-align: top;\n",
       "    }\n",
       "\n",
       "    .dataframe thead th {\n",
       "        text-align: right;\n",
       "    }\n",
       "</style>\n",
       "<table border=\"1\" class=\"dataframe\">\n",
       "  <thead>\n",
       "    <tr style=\"text-align: right;\">\n",
       "      <th></th>\n",
       "      <th>Appliances</th>\n",
       "      <th>lights</th>\n",
       "      <th>T1</th>\n",
       "      <th>RH_1</th>\n",
       "      <th>T2</th>\n",
       "      <th>RH_2</th>\n",
       "      <th>T3</th>\n",
       "      <th>RH_3</th>\n",
       "      <th>T4</th>\n",
       "      <th>RH_4</th>\n",
       "      <th>...</th>\n",
       "      <th>RH_7</th>\n",
       "      <th>T8</th>\n",
       "      <th>RH_8</th>\n",
       "      <th>T9</th>\n",
       "      <th>RH_9</th>\n",
       "      <th>T_out</th>\n",
       "      <th>Press_mm_hg</th>\n",
       "      <th>RH_out</th>\n",
       "      <th>Windspeed</th>\n",
       "      <th>Visibility</th>\n",
       "    </tr>\n",
       "  </thead>\n",
       "  <tbody>\n",
       "    <tr>\n",
       "      <th>count</th>\n",
       "      <td>1000.000000</td>\n",
       "      <td>1000.000000</td>\n",
       "      <td>1000.000000</td>\n",
       "      <td>1000.000000</td>\n",
       "      <td>1000.000000</td>\n",
       "      <td>1000.000000</td>\n",
       "      <td>1000.000000</td>\n",
       "      <td>1000.000000</td>\n",
       "      <td>1000.000000</td>\n",
       "      <td>1000.000000</td>\n",
       "      <td>...</td>\n",
       "      <td>1000.000000</td>\n",
       "      <td>1000.000000</td>\n",
       "      <td>1000.000000</td>\n",
       "      <td>1000.000000</td>\n",
       "      <td>1000.000000</td>\n",
       "      <td>1000.000000</td>\n",
       "      <td>1000.000000</td>\n",
       "      <td>1000.000000</td>\n",
       "      <td>1000.000000</td>\n",
       "      <td>1000.000000</td>\n",
       "    </tr>\n",
       "    <tr>\n",
       "      <th>mean</th>\n",
       "      <td>94.580000</td>\n",
       "      <td>3.880000</td>\n",
       "      <td>21.689083</td>\n",
       "      <td>40.220658</td>\n",
       "      <td>20.308276</td>\n",
       "      <td>40.456847</td>\n",
       "      <td>22.291003</td>\n",
       "      <td>39.193848</td>\n",
       "      <td>20.877548</td>\n",
       "      <td>38.883203</td>\n",
       "      <td>...</td>\n",
       "      <td>35.202685</td>\n",
       "      <td>22.110523</td>\n",
       "      <td>42.876733</td>\n",
       "      <td>19.500280</td>\n",
       "      <td>41.421305</td>\n",
       "      <td>7.270235</td>\n",
       "      <td>755.522126</td>\n",
       "      <td>79.722845</td>\n",
       "      <td>4.057964</td>\n",
       "      <td>38.219167</td>\n",
       "    </tr>\n",
       "    <tr>\n",
       "      <th>std</th>\n",
       "      <td>95.963705</td>\n",
       "      <td>8.075321</td>\n",
       "      <td>1.533835</td>\n",
       "      <td>3.966141</td>\n",
       "      <td>2.123854</td>\n",
       "      <td>4.080899</td>\n",
       "      <td>1.939537</td>\n",
       "      <td>3.171917</td>\n",
       "      <td>1.947205</td>\n",
       "      <td>4.297529</td>\n",
       "      <td>...</td>\n",
       "      <td>5.069127</td>\n",
       "      <td>1.877895</td>\n",
       "      <td>5.208331</td>\n",
       "      <td>1.926965</td>\n",
       "      <td>4.132533</td>\n",
       "      <td>5.207305</td>\n",
       "      <td>7.433976</td>\n",
       "      <td>14.623087</td>\n",
       "      <td>2.454295</td>\n",
       "      <td>11.679127</td>\n",
       "    </tr>\n",
       "    <tr>\n",
       "      <th>min</th>\n",
       "      <td>20.000000</td>\n",
       "      <td>0.000000</td>\n",
       "      <td>16.823333</td>\n",
       "      <td>28.193333</td>\n",
       "      <td>16.200000</td>\n",
       "      <td>24.823333</td>\n",
       "      <td>17.290000</td>\n",
       "      <td>33.200000</td>\n",
       "      <td>15.160000</td>\n",
       "      <td>29.421429</td>\n",
       "      <td>...</td>\n",
       "      <td>23.290000</td>\n",
       "      <td>16.583333</td>\n",
       "      <td>29.600000</td>\n",
       "      <td>15.000000</td>\n",
       "      <td>29.426667</td>\n",
       "      <td>-4.955556</td>\n",
       "      <td>730.700000</td>\n",
       "      <td>24.500000</td>\n",
       "      <td>0.000000</td>\n",
       "      <td>3.333333</td>\n",
       "    </tr>\n",
       "    <tr>\n",
       "      <th>25%</th>\n",
       "      <td>50.000000</td>\n",
       "      <td>0.000000</td>\n",
       "      <td>20.790000</td>\n",
       "      <td>37.200000</td>\n",
       "      <td>18.790000</td>\n",
       "      <td>38.057500</td>\n",
       "      <td>20.823333</td>\n",
       "      <td>36.900000</td>\n",
       "      <td>19.566667</td>\n",
       "      <td>35.484167</td>\n",
       "      <td>...</td>\n",
       "      <td>31.352738</td>\n",
       "      <td>20.910625</td>\n",
       "      <td>39.200000</td>\n",
       "      <td>18.100000</td>\n",
       "      <td>38.421429</td>\n",
       "      <td>3.537500</td>\n",
       "      <td>750.800000</td>\n",
       "      <td>70.000000</td>\n",
       "      <td>2.000000</td>\n",
       "      <td>28.666667</td>\n",
       "    </tr>\n",
       "    <tr>\n",
       "      <th>50%</th>\n",
       "      <td>60.000000</td>\n",
       "      <td>0.000000</td>\n",
       "      <td>21.600000</td>\n",
       "      <td>39.700000</td>\n",
       "      <td>19.890000</td>\n",
       "      <td>40.400000</td>\n",
       "      <td>22.100000</td>\n",
       "      <td>38.500000</td>\n",
       "      <td>20.760000</td>\n",
       "      <td>38.290000</td>\n",
       "      <td>...</td>\n",
       "      <td>34.609111</td>\n",
       "      <td>22.200000</td>\n",
       "      <td>42.352333</td>\n",
       "      <td>19.500000</td>\n",
       "      <td>40.566667</td>\n",
       "      <td>6.841667</td>\n",
       "      <td>755.941667</td>\n",
       "      <td>83.833333</td>\n",
       "      <td>3.666667</td>\n",
       "      <td>40.000000</td>\n",
       "    </tr>\n",
       "    <tr>\n",
       "      <th>75%</th>\n",
       "      <td>100.000000</td>\n",
       "      <td>0.000000</td>\n",
       "      <td>22.533333</td>\n",
       "      <td>42.861667</td>\n",
       "      <td>21.390000</td>\n",
       "      <td>43.200000</td>\n",
       "      <td>23.390000</td>\n",
       "      <td>41.500000</td>\n",
       "      <td>22.100000</td>\n",
       "      <td>41.992500</td>\n",
       "      <td>...</td>\n",
       "      <td>39.000000</td>\n",
       "      <td>23.441857</td>\n",
       "      <td>46.430694</td>\n",
       "      <td>20.600000</td>\n",
       "      <td>44.308333</td>\n",
       "      <td>10.433333</td>\n",
       "      <td>760.937500</td>\n",
       "      <td>91.333333</td>\n",
       "      <td>5.666667</td>\n",
       "      <td>40.000000</td>\n",
       "    </tr>\n",
       "    <tr>\n",
       "      <th>max</th>\n",
       "      <td>800.000000</td>\n",
       "      <td>40.000000</td>\n",
       "      <td>26.066667</td>\n",
       "      <td>54.800000</td>\n",
       "      <td>29.100000</td>\n",
       "      <td>53.249880</td>\n",
       "      <td>28.867143</td>\n",
       "      <td>49.930000</td>\n",
       "      <td>26.100000</td>\n",
       "      <td>50.963333</td>\n",
       "      <td>...</td>\n",
       "      <td>49.444444</td>\n",
       "      <td>27.100000</td>\n",
       "      <td>56.598333</td>\n",
       "      <td>24.434000</td>\n",
       "      <td>52.700000</td>\n",
       "      <td>25.600000</td>\n",
       "      <td>772.200000</td>\n",
       "      <td>100.000000</td>\n",
       "      <td>13.000000</td>\n",
       "      <td>65.000000</td>\n",
       "    </tr>\n",
       "  </tbody>\n",
       "</table>\n",
       "<p>8 rows × 25 columns</p>\n",
       "</div>"
      ],
      "text/plain": [
       "       Appliances      lights          T1        RH_1          T2        RH_2  \\\n",
       "count 1000.000000 1000.000000 1000.000000 1000.000000 1000.000000 1000.000000   \n",
       "mean    94.580000    3.880000   21.689083   40.220658   20.308276   40.456847   \n",
       "std     95.963705    8.075321    1.533835    3.966141    2.123854    4.080899   \n",
       "min     20.000000    0.000000   16.823333   28.193333   16.200000   24.823333   \n",
       "25%     50.000000    0.000000   20.790000   37.200000   18.790000   38.057500   \n",
       "50%     60.000000    0.000000   21.600000   39.700000   19.890000   40.400000   \n",
       "75%    100.000000    0.000000   22.533333   42.861667   21.390000   43.200000   \n",
       "max    800.000000   40.000000   26.066667   54.800000   29.100000   53.249880   \n",
       "\n",
       "               T3        RH_3          T4        RH_4  ...        RH_7  \\\n",
       "count 1000.000000 1000.000000 1000.000000 1000.000000  ... 1000.000000   \n",
       "mean    22.291003   39.193848   20.877548   38.883203  ...   35.202685   \n",
       "std      1.939537    3.171917    1.947205    4.297529  ...    5.069127   \n",
       "min     17.290000   33.200000   15.160000   29.421429  ...   23.290000   \n",
       "25%     20.823333   36.900000   19.566667   35.484167  ...   31.352738   \n",
       "50%     22.100000   38.500000   20.760000   38.290000  ...   34.609111   \n",
       "75%     23.390000   41.500000   22.100000   41.992500  ...   39.000000   \n",
       "max     28.867143   49.930000   26.100000   50.963333  ...   49.444444   \n",
       "\n",
       "               T8        RH_8          T9        RH_9       T_out  \\\n",
       "count 1000.000000 1000.000000 1000.000000 1000.000000 1000.000000   \n",
       "mean    22.110523   42.876733   19.500280   41.421305    7.270235   \n",
       "std      1.877895    5.208331    1.926965    4.132533    5.207305   \n",
       "min     16.583333   29.600000   15.000000   29.426667   -4.955556   \n",
       "25%     20.910625   39.200000   18.100000   38.421429    3.537500   \n",
       "50%     22.200000   42.352333   19.500000   40.566667    6.841667   \n",
       "75%     23.441857   46.430694   20.600000   44.308333   10.433333   \n",
       "max     27.100000   56.598333   24.434000   52.700000   25.600000   \n",
       "\n",
       "       Press_mm_hg      RH_out   Windspeed  Visibility  \n",
       "count  1000.000000 1000.000000 1000.000000 1000.000000  \n",
       "mean    755.522126   79.722845    4.057964   38.219167  \n",
       "std       7.433976   14.623087    2.454295   11.679127  \n",
       "min     730.700000   24.500000    0.000000    3.333333  \n",
       "25%     750.800000   70.000000    2.000000   28.666667  \n",
       "50%     755.941667   83.833333    3.666667   40.000000  \n",
       "75%     760.937500   91.333333    5.666667   40.000000  \n",
       "max     772.200000  100.000000   13.000000   65.000000  \n",
       "\n",
       "[8 rows x 25 columns]"
      ]
     },
     "execution_count": 108,
     "metadata": {},
     "output_type": "execute_result"
    }
   ],
   "source": [
    "df_energy.describe()"
   ]
  },
  {
   "cell_type": "markdown",
   "metadata": {
    "id": "ypUzW9QdmqE_"
   },
   "source": [
    "**Boxplots**"
   ]
  },
  {
   "cell_type": "code",
   "execution_count": 109,
   "metadata": {
    "id": "LDtpotasmps4",
    "outputId": "a6a0f0f2-9c15-4f11-9a86-a46a53a7515a",
    "scrolled": false
   },
   "outputs": [],
   "source": [
    "# fig, ax= plt.subplots(5,5, figsize=(25,15))\n",
    "\n",
    "# for i, subplot in zip(cols, ax.flatten()):\n",
    "#     sns.boxplot(df_energy[i], ax=subplot)\n",
    "#     plt.title('df_energy[i]', fontsize=15)\n",
    "#     plt.xticks(rotation = 'vertical', fontsize = 15)\n",
    "\n",
    "# plt.tight_layout()\n",
    "# plt.show()"
   ]
  },
  {
   "cell_type": "markdown",
   "metadata": {
    "id": "g2pBpr59m7CX"
   },
   "source": [
    "Do not follow this coding style for boxplot"
   ]
  },
  {
   "cell_type": "code",
   "execution_count": 110,
   "metadata": {
    "id": "kwyCpgTLnCz-",
    "outputId": "947c6d4d-ba0f-4c4d-f4c1-9ce7bb802934"
   },
   "outputs": [],
   "source": [
    "# df_energy.boxplot()\n",
    "\n",
    "# plt.xticks(rotation = 'vertical', fontsize = 15)\n",
    "\n",
    "# # display the plot\n",
    "# plt.show()"
   ]
  },
  {
   "cell_type": "markdown",
   "metadata": {
    "id": "376lQ-NdnpIX"
   },
   "source": [
    "**Bivariate Analysis**"
   ]
  },
  {
   "cell_type": "code",
   "execution_count": 111,
   "metadata": {
    "id": "-9viP-cLnguA",
    "outputId": "4dec3972-2068-4a95-87ee-cee5390a4574"
   },
   "outputs": [
    {
     "data": {
      "image/jpeg": "[encoded data removed]",
      "text/plain": [
       "<IPython.core.display.Image object>"
      ]
     },
     "execution_count": 111,
     "metadata": {
      "image/jpeg": {
       "height": 300,
       "width": 600
      }
     },
     "output_type": "execute_result"
    }
   ],
   "source": [
    "from IPython.display import Image\n",
    "Image(filename='Bivariate.JPG',width=600,height=300)"
   ]
  },
  {
   "cell_type": "code",
   "execution_count": 112,
   "metadata": {
    "id": "a8WQDcZOn2PO",
    "outputId": "b50ac0e2-2bf4-47d6-e011-1da78a1d10cd"
   },
   "outputs": [],
   "source": [
    "# fig, ax= plt.subplots(5,5, figsize=(25,15))\n",
    "\n",
    "# for i, subplot in zip(cols, ax.flatten()):\n",
    "#     sns.scatterplot(x=df_energy[i],y=df_energy['Appliances'], ax=subplot,color='purple')\n",
    "#     plt.title('df_energy[i]')\n",
    "\n",
    "# plt.tight_layout()\n",
    "# plt.show()"
   ]
  },
  {
   "cell_type": "markdown",
   "metadata": {
    "id": "ZiVE5SQMpJgn"
   },
   "source": [
    "**Lets check the correlation between Independent variable**"
   ]
  },
  {
   "cell_type": "code",
   "execution_count": 113,
   "metadata": {
    "id": "X5AZ_QFzpJFo",
    "outputId": "e40b0ba5-0b6c-4809-9f4b-f22a4a3d20db"
   },
   "outputs": [],
   "source": [
    "# sns.heatmap(df_energy.corr(),annot=True,cmap=\"plasma\")\n",
    "# plt.show()"
   ]
  },
  {
   "cell_type": "code",
   "execution_count": 114,
   "metadata": {
    "id": "ugwZpEWXsBe4",
    "outputId": "f6bbb2af-d66c-4cf0-c807-97af018b4438"
   },
   "outputs": [],
   "source": [
    "# plt.figure(figsize=(25,15))\n",
    "# sns.heatmap(df_energy.corr(),annot=True,cmap='plasma',mask=np.triu(df_energy.corr(),+1))\n",
    "# plt.show()"
   ]
  },
  {
   "cell_type": "code",
   "execution_count": 115,
   "metadata": {
    "id": "IvvUz4pGJJC2",
    "outputId": "af58695d-2fb3-46c0-8153-e1659546ae06"
   },
   "outputs": [],
   "source": [
    "# plt.figure(figsize=(30, 30))\n",
    "\n",
    "\n",
    "# sns.heatmap(df_energy.corr()[(df_energy.corr() >= 0.75) | (df_energy.corr() <= -0.75)],\n",
    "#            cmap='plasma',\n",
    "#             vmax=1.0,\n",
    "#             vmin=-1.0,\n",
    "#             annot=True,\n",
    "#             linewidths=0.1,\n",
    "#             annot_kws={\"size\": 15},\n",
    "#             square=True);\n",
    "\n",
    "# plt.title('Correlation between features')\n",
    "# plt.show()"
   ]
  },
  {
   "cell_type": "markdown",
   "metadata": {
    "id": "-CIvXKlmuj81"
   },
   "source": [
    "### Remove the Outliers"
   ]
  },
  {
   "cell_type": "markdown",
   "metadata": {
    "id": "iznXUG9yvPWC"
   },
   "source": [
    "1. iqr = q3-q1\n",
    "2. Value > q3+1.5 * iqr\n",
    "3. value < q1-1.5 * iqr"
   ]
  },
  {
   "cell_type": "code",
   "execution_count": 116,
   "metadata": {
    "id": "fXJ5GJAXvNKa",
    "outputId": "1e3effad-bfb7-45c3-ccc8-b082e5f03c4b"
   },
   "outputs": [
    {
     "data": {
      "text/plain": [
       "(1000, 25)"
      ]
     },
     "execution_count": 116,
     "metadata": {},
     "output_type": "execute_result"
    }
   ],
   "source": [
    "df_energy.shape"
   ]
  },
  {
   "cell_type": "code",
   "execution_count": 117,
   "metadata": {
    "id": "EdRi22QmvVGq"
   },
   "outputs": [],
   "source": [
    "q1 =df_energy.quantile(0.25)\n",
    "q3= df_energy.quantile(0.75)\n",
    "iqr=q3-q1\n",
    "\n",
    "upper_limit= q3+1.5*iqr\n",
    "lower_limit= q1-1.5*iqr"
   ]
  },
  {
   "cell_type": "code",
   "execution_count": 118,
   "metadata": {
    "id": "0Ul3v7kWvesh",
    "outputId": "bf887fde-6c65-4794-b2a2-1ad91d8dcbd8"
   },
   "outputs": [
    {
     "data": {
      "text/plain": [
       "Appliances    175.000000\n",
       "lights          0.000000\n",
       "T1             25.148333\n",
       "RH_1           51.354167\n",
       "T2             25.290000\n",
       "RH_2           50.913750\n",
       "T3             27.240000\n",
       "RH_3           48.400000\n",
       "T4             25.900000\n",
       "RH_4           51.755000\n",
       "T5             24.231667\n",
       "RH_5           66.387357\n",
       "T6             22.966250\n",
       "RH_6          159.090833\n",
       "T7             25.815000\n",
       "RH_7           50.470893\n",
       "T8             27.238705\n",
       "RH_8           57.276736\n",
       "T9             24.350000\n",
       "RH_9           53.138690\n",
       "T_out          20.777083\n",
       "Press_mm_hg   776.143750\n",
       "RH_out        123.333333\n",
       "Windspeed      11.166667\n",
       "Visibility     57.000000\n",
       "dtype: float64"
      ]
     },
     "execution_count": 118,
     "metadata": {},
     "output_type": "execute_result"
    }
   ],
   "source": [
    "upper_limit"
   ]
  },
  {
   "cell_type": "markdown",
   "metadata": {
    "id": "Z7VhuFvCwKD5"
   },
   "source": [
    "1. '~' returns the values that do not satisfy the given conditions\n",
    "i.e. it returns values between the range [Q1-1.5*IQR, Q3+1.5*IQR]\n",
    "2. '|' is used as 'OR' operator on multiple conditions   \n",
    "3. 'any(axis=1)' checks the entire row for atleast one 'True' entry (those rows represents outliers in the data)"
   ]
  },
  {
   "cell_type": "code",
   "execution_count": 119,
   "metadata": {
    "id": "1SAUh7iQwPKZ",
    "outputId": "a6284ca7-c4c2-4598-9028-15d55bca8787"
   },
   "outputs": [
    {
     "data": {
      "text/html": [
       "<div>\n",
       "<style scoped>\n",
       "    .dataframe tbody tr th:only-of-type {\n",
       "        vertical-align: middle;\n",
       "    }\n",
       "\n",
       "    .dataframe tbody tr th {\n",
       "        vertical-align: top;\n",
       "    }\n",
       "\n",
       "    .dataframe thead th {\n",
       "        text-align: right;\n",
       "    }\n",
       "</style>\n",
       "<table border=\"1\" class=\"dataframe\">\n",
       "  <thead>\n",
       "    <tr style=\"text-align: right;\">\n",
       "      <th></th>\n",
       "      <th>Appliances</th>\n",
       "      <th>lights</th>\n",
       "      <th>T1</th>\n",
       "      <th>RH_1</th>\n",
       "      <th>T2</th>\n",
       "      <th>RH_2</th>\n",
       "      <th>T3</th>\n",
       "      <th>RH_3</th>\n",
       "      <th>T4</th>\n",
       "      <th>RH_4</th>\n",
       "      <th>...</th>\n",
       "      <th>RH_7</th>\n",
       "      <th>T8</th>\n",
       "      <th>RH_8</th>\n",
       "      <th>T9</th>\n",
       "      <th>RH_9</th>\n",
       "      <th>T_out</th>\n",
       "      <th>Press_mm_hg</th>\n",
       "      <th>RH_out</th>\n",
       "      <th>Windspeed</th>\n",
       "      <th>Visibility</th>\n",
       "    </tr>\n",
       "  </thead>\n",
       "  <tbody>\n",
       "    <tr>\n",
       "      <th>1</th>\n",
       "      <td>60</td>\n",
       "      <td>0</td>\n",
       "      <td>21.290000</td>\n",
       "      <td>37.863333</td>\n",
       "      <td>19.390000</td>\n",
       "      <td>39.663333</td>\n",
       "      <td>21.790000</td>\n",
       "      <td>36.700000</td>\n",
       "      <td>20.463333</td>\n",
       "      <td>37.526667</td>\n",
       "      <td>...</td>\n",
       "      <td>32.095000</td>\n",
       "      <td>22.000000</td>\n",
       "      <td>39.223333</td>\n",
       "      <td>19.600000</td>\n",
       "      <td>38.826667</td>\n",
       "      <td>8.350000</td>\n",
       "      <td>761.800000</td>\n",
       "      <td>70.000000</td>\n",
       "      <td>3.500000</td>\n",
       "      <td>40.000000</td>\n",
       "    </tr>\n",
       "    <tr>\n",
       "      <th>2</th>\n",
       "      <td>80</td>\n",
       "      <td>0</td>\n",
       "      <td>21.390000</td>\n",
       "      <td>35.790000</td>\n",
       "      <td>19.290000</td>\n",
       "      <td>37.700000</td>\n",
       "      <td>22.760000</td>\n",
       "      <td>34.290000</td>\n",
       "      <td>21.323333</td>\n",
       "      <td>34.730000</td>\n",
       "      <td>...</td>\n",
       "      <td>29.200000</td>\n",
       "      <td>22.390000</td>\n",
       "      <td>37.290000</td>\n",
       "      <td>19.463333</td>\n",
       "      <td>35.500000</td>\n",
       "      <td>6.866667</td>\n",
       "      <td>762.333333</td>\n",
       "      <td>69.666667</td>\n",
       "      <td>3.000000</td>\n",
       "      <td>35.666667</td>\n",
       "    </tr>\n",
       "    <tr>\n",
       "      <th>3</th>\n",
       "      <td>40</td>\n",
       "      <td>0</td>\n",
       "      <td>19.033333</td>\n",
       "      <td>41.826667</td>\n",
       "      <td>18.533333</td>\n",
       "      <td>41.290000</td>\n",
       "      <td>18.100000</td>\n",
       "      <td>43.790000</td>\n",
       "      <td>15.890000</td>\n",
       "      <td>47.530000</td>\n",
       "      <td>...</td>\n",
       "      <td>40.138889</td>\n",
       "      <td>19.594444</td>\n",
       "      <td>51.062778</td>\n",
       "      <td>15.100000</td>\n",
       "      <td>46.760000</td>\n",
       "      <td>5.133333</td>\n",
       "      <td>769.583333</td>\n",
       "      <td>92.000000</td>\n",
       "      <td>4.833333</td>\n",
       "      <td>23.166667</td>\n",
       "    </tr>\n",
       "    <tr>\n",
       "      <th>5</th>\n",
       "      <td>50</td>\n",
       "      <td>0</td>\n",
       "      <td>21.840000</td>\n",
       "      <td>42.745000</td>\n",
       "      <td>19.760000</td>\n",
       "      <td>45.430000</td>\n",
       "      <td>24.066667</td>\n",
       "      <td>39.723333</td>\n",
       "      <td>21.600000</td>\n",
       "      <td>40.218000</td>\n",
       "      <td>...</td>\n",
       "      <td>36.500000</td>\n",
       "      <td>22.873333</td>\n",
       "      <td>46.900000</td>\n",
       "      <td>21.000000</td>\n",
       "      <td>45.590000</td>\n",
       "      <td>8.800000</td>\n",
       "      <td>745.500000</td>\n",
       "      <td>89.333333</td>\n",
       "      <td>4.333333</td>\n",
       "      <td>24.333333</td>\n",
       "    </tr>\n",
       "    <tr>\n",
       "      <th>7</th>\n",
       "      <td>110</td>\n",
       "      <td>0</td>\n",
       "      <td>22.463333</td>\n",
       "      <td>39.260000</td>\n",
       "      <td>21.290000</td>\n",
       "      <td>39.530000</td>\n",
       "      <td>22.700000</td>\n",
       "      <td>37.700000</td>\n",
       "      <td>21.200000</td>\n",
       "      <td>38.626667</td>\n",
       "      <td>...</td>\n",
       "      <td>32.790000</td>\n",
       "      <td>24.033333</td>\n",
       "      <td>38.360000</td>\n",
       "      <td>20.323333</td>\n",
       "      <td>38.000000</td>\n",
       "      <td>9.216667</td>\n",
       "      <td>753.366667</td>\n",
       "      <td>71.333333</td>\n",
       "      <td>3.666667</td>\n",
       "      <td>40.000000</td>\n",
       "    </tr>\n",
       "  </tbody>\n",
       "</table>\n",
       "<p>5 rows × 25 columns</p>\n",
       "</div>"
      ],
      "text/plain": [
       "   Appliances  lights        T1      RH_1        T2      RH_2        T3  \\\n",
       "1          60       0 21.290000 37.863333 19.390000 39.663333 21.790000   \n",
       "2          80       0 21.390000 35.790000 19.290000 37.700000 22.760000   \n",
       "3          40       0 19.033333 41.826667 18.533333 41.290000 18.100000   \n",
       "5          50       0 21.840000 42.745000 19.760000 45.430000 24.066667   \n",
       "7         110       0 22.463333 39.260000 21.290000 39.530000 22.700000   \n",
       "\n",
       "       RH_3        T4      RH_4  ...      RH_7        T8      RH_8        T9  \\\n",
       "1 36.700000 20.463333 37.526667  ... 32.095000 22.000000 39.223333 19.600000   \n",
       "2 34.290000 21.323333 34.730000  ... 29.200000 22.390000 37.290000 19.463333   \n",
       "3 43.790000 15.890000 47.530000  ... 40.138889 19.594444 51.062778 15.100000   \n",
       "5 39.723333 21.600000 40.218000  ... 36.500000 22.873333 46.900000 21.000000   \n",
       "7 37.700000 21.200000 38.626667  ... 32.790000 24.033333 38.360000 20.323333   \n",
       "\n",
       "       RH_9    T_out  Press_mm_hg    RH_out  Windspeed  Visibility  \n",
       "1 38.826667 8.350000   761.800000 70.000000   3.500000   40.000000  \n",
       "2 35.500000 6.866667   762.333333 69.666667   3.000000   35.666667  \n",
       "3 46.760000 5.133333   769.583333 92.000000   4.833333   23.166667  \n",
       "5 45.590000 8.800000   745.500000 89.333333   4.333333   24.333333  \n",
       "7 38.000000 9.216667   753.366667 71.333333   3.666667   40.000000  \n",
       "\n",
       "[5 rows x 25 columns]"
      ]
     },
     "execution_count": 119,
     "metadata": {},
     "output_type": "execute_result"
    }
   ],
   "source": [
    "#~(df_emp > upper_limit ) | (df_emp < lower_limit).any(axis=1)\n",
    "df_energy = df_energy[~((df_energy < (lower_limit)) | (df_energy > (upper_limit))).any(axis=1)]\n",
    "df_energy.head()"
   ]
  },
  {
   "cell_type": "code",
   "execution_count": 120,
   "metadata": {
    "id": "uciy0dU2xfrh",
    "outputId": "0f9faab9-304a-493e-d924-de755e1dd765"
   },
   "outputs": [
    {
     "data": {
      "text/plain": [
       "(543, 25)"
      ]
     },
     "execution_count": 120,
     "metadata": {},
     "output_type": "execute_result"
    }
   ],
   "source": [
    "df_energy.shape"
   ]
  },
  {
   "cell_type": "code",
   "execution_count": 121,
   "metadata": {
    "id": "NbwE34vRyJQq"
   },
   "outputs": [],
   "source": [
    "# def cap_outlier(val):\n",
    "#     Q1, Q3 = np.quantile(val, [.25, .75])\n",
    "#     IQR = Q3 - Q1\n",
    "#     LL = Q1 - 1.5*IQR\n",
    "#     UL = Q3 + 1.5*IQR\n",
    "#     return LL, UL"
   ]
  },
  {
   "cell_type": "code",
   "execution_count": 122,
   "metadata": {
    "id": "tdky9FcOySmB"
   },
   "outputs": [],
   "source": [
    "# for i in cols:\n",
    "#     LL, UL = cap_outlier(df_emp[i])\n",
    "#     df_emp[i] = np.where(df_emp[i]> UL, UL, df_emp[i])\n",
    "#     df_emp[i] = np.where(df_emp[i]< LL, LL, df_emp[i])"
   ]
  },
  {
   "cell_type": "markdown",
   "metadata": {
    "id": "7vudGQ45Podr"
   },
   "source": [
    "**Check for presence of Insignificant Variables from Model Perspective**"
   ]
  },
  {
   "cell_type": "code",
   "execution_count": 123,
   "metadata": {
    "id": "tTw2gLSTP0ZZ",
    "outputId": "702672e5-9f78-4938-9a62-110483cbd850"
   },
   "outputs": [
    {
     "data": {
      "text/plain": [
       "Appliances    25.658997\n",
       "lights         0.000000\n",
       "T1             1.418813\n",
       "RH_1           3.579217\n",
       "T2             1.821311\n",
       "RH_2           3.803841\n",
       "T3             1.784325\n",
       "RH_3           2.978032\n",
       "T4             1.810984\n",
       "RH_4           4.079861\n",
       "T5             1.666814\n",
       "RH_5           5.473533\n",
       "T6             5.325781\n",
       "RH_6          29.376223\n",
       "T7             1.898608\n",
       "RH_7           4.663495\n",
       "T8             1.832304\n",
       "RH_8           4.976368\n",
       "T9             1.813200\n",
       "RH_9           3.973931\n",
       "T_out          4.615927\n",
       "Press_mm_hg    6.922218\n",
       "RH_out        13.365639\n",
       "Windspeed      2.279804\n",
       "Visibility     8.582396\n",
       "dtype: float64"
      ]
     },
     "execution_count": 123,
     "metadata": {},
     "output_type": "execute_result"
    }
   ],
   "source": [
    "df_energy.std()"
   ]
  },
  {
   "cell_type": "markdown",
   "metadata": {
    "id": "leWEyXFdQDlc"
   },
   "source": [
    "1. Light has zero std which means there is no contribution from this variable. Good to remove this variable."
   ]
  },
  {
   "cell_type": "code",
   "execution_count": 124,
   "metadata": {
    "id": "xHtfMSrBP0ON"
   },
   "outputs": [],
   "source": [
    "df_energy = df_energy.drop('lights',axis=1)"
   ]
  },
  {
   "cell_type": "code",
   "execution_count": null,
   "metadata": {
    "id": "24-bExAZP0J6"
   },
   "outputs": [],
   "source": []
  },
  {
   "cell_type": "markdown",
   "metadata": {
    "id": "0-FArRV38IO2"
   },
   "source": [
    "### Encoding Techniques"
   ]
  },
  {
   "cell_type": "markdown",
   "metadata": {
    "id": "havlY8BQ8Mzv"
   },
   "source": [
    "All the Variables are Numerical and hence we do not require any Encoding Technique"
   ]
  },
  {
   "cell_type": "code",
   "execution_count": null,
   "metadata": {
    "id": "3rCfYZhn8Hkl"
   },
   "outputs": [],
   "source": []
  },
  {
   "cell_type": "markdown",
   "metadata": {
    "id": "nTQ-2pNv7Sit"
   },
   "source": [
    "### Transformation of Variables"
   ]
  },
  {
   "cell_type": "markdown",
   "metadata": {
    "id": "iH9H3Ncw7Xp1"
   },
   "source": [
    "1. Square Root Transformation\n",
    "2. Cube Root Transformation\n",
    "3. Log Transformation\n",
    "4. Box Cox Transformation\n",
    "5. Yeo Johnson Transformation"
   ]
  },
  {
   "cell_type": "markdown",
   "metadata": {
    "id": "ZnYce2T882R9"
   },
   "source": [
    "### Modeling"
   ]
  },
  {
   "cell_type": "markdown",
   "metadata": {
    "id": "wUxXlyTL86Od"
   },
   "source": [
    "1. Split the Train and Test Data\n",
    "2. SKLearn Linear Regression\n",
    "3. Check the RMSE and R2 square value of the model\n",
    "4. Improvise the model\n",
    "5. Get the Statistical Summary and calculate the values that are generated.\n",
    "6. Check the Assumption of the data.\n",
    "7. Feature Selection.\n",
    "8. Cross Validation."
   ]
  },
  {
   "cell_type": "code",
   "execution_count": 125,
   "metadata": {
    "id": "aYFNmryT7RoM",
    "outputId": "37f68419-61ee-4602-a4a9-0f2eed1aff57"
   },
   "outputs": [
    {
     "data": {
      "text/plain": [
       "Index(['Appliances', 'T1', 'RH_1', 'T2', 'RH_2', 'T3', 'RH_3', 'T4', 'RH_4',\n",
       "       'T5', 'RH_5', 'T6', 'RH_6', 'T7', 'RH_7', 'T8', 'RH_8', 'T9', 'RH_9',\n",
       "       'T_out', 'Press_mm_hg', 'RH_out', 'Windspeed', 'Visibility'],\n",
       "      dtype='object')"
      ]
     },
     "execution_count": 125,
     "metadata": {},
     "output_type": "execute_result"
    }
   ],
   "source": [
    "df_energy.columns"
   ]
  },
  {
   "cell_type": "markdown",
   "metadata": {
    "id": "0VtJsPwKgpmY"
   },
   "source": [
    "## Lets Build SKLearn Model First"
   ]
  },
  {
   "cell_type": "code",
   "execution_count": 126,
   "metadata": {
    "id": "GdbuCQcUmMmu"
   },
   "outputs": [],
   "source": [
    "# split data in x and y\n",
    "X = df_energy.drop('Appliances', axis = 1)\n",
    "y = df_energy['Appliances']"
   ]
  },
  {
   "cell_type": "code",
   "execution_count": 127,
   "metadata": {},
   "outputs": [],
   "source": [
    "# skelarn model\n",
    "#split data in Train ans Test\n",
    "#take all the x together and then all y together\n",
    "from sklearn.model_selection import train_test_split\n",
    "\n",
    "\n",
    "xtrain, xtest, ytrain, ytest = train_test_split(X,y,test_size=0.2,random_state=1)"
   ]
  },
  {
   "cell_type": "code",
   "execution_count": 128,
   "metadata": {},
   "outputs": [
    {
     "name": "stdout",
     "output_type": "stream",
     "text": [
      "(434, 23)\n",
      "(109, 23)\n",
      "(434,)\n",
      "(109,)\n"
     ]
    }
   ],
   "source": [
    "print(xtrain.shape)\n",
    "print(xtest.shape)\n",
    "print(ytrain.shape)\n",
    "print(ytest.shape)"
   ]
  },
  {
   "cell_type": "code",
   "execution_count": 129,
   "metadata": {},
   "outputs": [],
   "source": [
    "from sklearn.linear_model import LinearRegression\n",
    "from sklearn.metrics import r2_score,mean_squared_error"
   ]
  },
  {
   "cell_type": "code",
   "execution_count": 130,
   "metadata": {},
   "outputs": [],
   "source": [
    "lr = LinearRegression()\n",
    "\n",
    "#build the model and find the r2score with RMSE\n",
    "\n",
    "model_lr = lr.fit(xtrain, ytrain)\n",
    "\n",
    "pred_train = model_lr.predict(xtrain)\n",
    "\n",
    "pred_test = model_lr.predict(xtest)"
   ]
  },
  {
   "cell_type": "code",
   "execution_count": 131,
   "metadata": {},
   "outputs": [],
   "source": [
    "r2_train = r2_score(ytrain, pred_train)\n",
    "r2_test = r2_score(ytest, pred_test)"
   ]
  },
  {
   "cell_type": "code",
   "execution_count": 132,
   "metadata": {},
   "outputs": [
    {
     "name": "stdout",
     "output_type": "stream",
     "text": [
      "R2 Train: 0.3515106960649145\n",
      "R2 Test: 0.26789576435436147\n"
     ]
    }
   ],
   "source": [
    "print(\"R2 Train:\", r2_train)\n",
    "print(\"R2 Test:\", r2_test)"
   ]
  },
  {
   "cell_type": "code",
   "execution_count": 133,
   "metadata": {},
   "outputs": [],
   "source": [
    "# underfit"
   ]
  },
  {
   "cell_type": "markdown",
   "metadata": {},
   "source": [
    "### Calculate RMSE"
   ]
  },
  {
   "cell_type": "code",
   "execution_count": null,
   "metadata": {},
   "outputs": [],
   "source": []
  },
  {
   "cell_type": "code",
   "execution_count": 134,
   "metadata": {},
   "outputs": [
    {
     "name": "stdout",
     "output_type": "stream",
     "text": [
      "RMSE Train: 21.235266045778122\n",
      "RMSE Test: 19.178970998557535\n"
     ]
    }
   ],
   "source": [
    "print(\"RMSE Train:\", np.sqrt(mean_squared_error(ytrain, pred_train)))\n",
    "print(\"RMSE Test:\", np.sqrt(mean_squared_error(ytest, pred_test)))"
   ]
  },
  {
   "cell_type": "code",
   "execution_count": 135,
   "metadata": {},
   "outputs": [],
   "source": [
    "#underfit"
   ]
  },
  {
   "cell_type": "markdown",
   "metadata": {},
   "source": [
    "### Lets test with a different model like random forest"
   ]
  },
  {
   "cell_type": "code",
   "execution_count": 136,
   "metadata": {},
   "outputs": [],
   "source": [
    "from sklearn.ensemble import RandomForestRegressor\n",
    "\n",
    "rf = RandomForestRegressor()\n",
    "\n",
    "model_rf = rf.fit(xtrain, ytrain)\n",
    "pred_train_rf = model_rf.predict(xtrain)\n",
    "pred_test_rf = model_rf.predict(xtest)"
   ]
  },
  {
   "cell_type": "markdown",
   "metadata": {},
   "source": [
    "#### Calculate RMSE"
   ]
  },
  {
   "cell_type": "code",
   "execution_count": 137,
   "metadata": {},
   "outputs": [
    {
     "name": "stdout",
     "output_type": "stream",
     "text": [
      "RMSE Train: 8.43499950147371\n",
      "RMSE Test: 19.573659983192073\n"
     ]
    }
   ],
   "source": [
    "print(\"RMSE Train:\", np.sqrt(mean_squared_error(ytrain, pred_train_rf)))\n",
    "print(\"RMSE Test:\", np.sqrt(mean_squared_error(ytest, pred_test_rf)))"
   ]
  },
  {
   "cell_type": "code",
   "execution_count": 138,
   "metadata": {},
   "outputs": [],
   "source": [
    "#overfit"
   ]
  },
  {
   "cell_type": "code",
   "execution_count": 139,
   "metadata": {},
   "outputs": [],
   "source": [
    "# split data in x and y\n",
    "X = df_energy.drop('Appliances', axis = 1)\n",
    "y = df_energy['Appliances']"
   ]
  },
  {
   "cell_type": "markdown",
   "metadata": {},
   "source": [
    "### Statsmodel"
   ]
  },
  {
   "cell_type": "code",
   "execution_count": 140,
   "metadata": {},
   "outputs": [],
   "source": [
    "import statsmodels.api as sma\n",
    "\n",
    "temp_x = sma.add_constant(X)\n",
    "x_train, x_test, y_train, y_test = train_test_split(temp_x,y,test_size=0.2,random_state=1)"
   ]
  },
  {
   "cell_type": "code",
   "execution_count": 141,
   "metadata": {},
   "outputs": [
    {
     "data": {
      "text/html": [
       "<table class=\"simpletable\">\n",
       "<caption>OLS Regression Results</caption>\n",
       "<tr>\n",
       "  <th>Dep. Variable:</th>       <td>Appliances</td>    <th>  R-squared:         </th> <td>   0.352</td>\n",
       "</tr>\n",
       "<tr>\n",
       "  <th>Model:</th>                   <td>OLS</td>       <th>  Adj. R-squared:    </th> <td>   0.315</td>\n",
       "</tr>\n",
       "<tr>\n",
       "  <th>Method:</th>             <td>Least Squares</td>  <th>  F-statistic:       </th> <td>   9.663</td>\n",
       "</tr>\n",
       "<tr>\n",
       "  <th>Date:</th>             <td>Sat, 19 Aug 2023</td> <th>  Prob (F-statistic):</th> <td>1.09e-26</td>\n",
       "</tr>\n",
       "<tr>\n",
       "  <th>Time:</th>                 <td>08:56:29</td>     <th>  Log-Likelihood:    </th> <td> -1942.0</td>\n",
       "</tr>\n",
       "<tr>\n",
       "  <th>No. Observations:</th>      <td>   434</td>      <th>  AIC:               </th> <td>   3932.</td>\n",
       "</tr>\n",
       "<tr>\n",
       "  <th>Df Residuals:</th>          <td>   410</td>      <th>  BIC:               </th> <td>   4030.</td>\n",
       "</tr>\n",
       "<tr>\n",
       "  <th>Df Model:</th>              <td>    23</td>      <th>                     </th>     <td> </td>   \n",
       "</tr>\n",
       "<tr>\n",
       "  <th>Covariance Type:</th>      <td>nonrobust</td>    <th>                     </th>     <td> </td>   \n",
       "</tr>\n",
       "</table>\n",
       "<table class=\"simpletable\">\n",
       "<tr>\n",
       "       <td></td>          <th>coef</th>     <th>std err</th>      <th>t</th>      <th>P>|t|</th>  <th>[0.025</th>    <th>0.975]</th>  \n",
       "</tr>\n",
       "<tr>\n",
       "  <th>const</th>       <td>   30.5038</td> <td>  157.184</td> <td>    0.194</td> <td> 0.846</td> <td> -278.484</td> <td>  339.492</td>\n",
       "</tr>\n",
       "<tr>\n",
       "  <th>T1</th>          <td>    1.6850</td> <td>    3.239</td> <td>    0.520</td> <td> 0.603</td> <td>   -4.683</td> <td>    8.053</td>\n",
       "</tr>\n",
       "<tr>\n",
       "  <th>RH_1</th>        <td>    5.7350</td> <td>    1.404</td> <td>    4.084</td> <td> 0.000</td> <td>    2.974</td> <td>    8.496</td>\n",
       "</tr>\n",
       "<tr>\n",
       "  <th>T2</th>          <td>   -7.0984</td> <td>    2.915</td> <td>   -2.435</td> <td> 0.015</td> <td>  -12.829</td> <td>   -1.368</td>\n",
       "</tr>\n",
       "<tr>\n",
       "  <th>RH_2</th>        <td>   -4.4119</td> <td>    1.387</td> <td>   -3.181</td> <td> 0.002</td> <td>   -7.139</td> <td>   -1.685</td>\n",
       "</tr>\n",
       "<tr>\n",
       "  <th>T3</th>          <td>    4.7152</td> <td>    1.865</td> <td>    2.528</td> <td> 0.012</td> <td>    1.049</td> <td>    8.382</td>\n",
       "</tr>\n",
       "<tr>\n",
       "  <th>RH_3</th>        <td>    0.0217</td> <td>    1.275</td> <td>    0.017</td> <td> 0.986</td> <td>   -2.485</td> <td>    2.528</td>\n",
       "</tr>\n",
       "<tr>\n",
       "  <th>T4</th>          <td>    3.2258</td> <td>    2.027</td> <td>    1.591</td> <td> 0.112</td> <td>   -0.759</td> <td>    7.210</td>\n",
       "</tr>\n",
       "<tr>\n",
       "  <th>RH_4</th>        <td>    1.0482</td> <td>    1.182</td> <td>    0.887</td> <td> 0.376</td> <td>   -1.275</td> <td>    3.372</td>\n",
       "</tr>\n",
       "<tr>\n",
       "  <th>T5</th>          <td>    0.2366</td> <td>    2.129</td> <td>    0.111</td> <td> 0.912</td> <td>   -3.949</td> <td>    4.422</td>\n",
       "</tr>\n",
       "<tr>\n",
       "  <th>RH_5</th>        <td>   -0.0046</td> <td>    0.275</td> <td>   -0.017</td> <td> 0.987</td> <td>   -0.546</td> <td>    0.537</td>\n",
       "</tr>\n",
       "<tr>\n",
       "  <th>T6</th>          <td>    1.4891</td> <td>    0.949</td> <td>    1.569</td> <td> 0.117</td> <td>   -0.377</td> <td>    3.355</td>\n",
       "</tr>\n",
       "<tr>\n",
       "  <th>RH_6</th>        <td>    0.0480</td> <td>    0.107</td> <td>    0.447</td> <td> 0.655</td> <td>   -0.163</td> <td>    0.259</td>\n",
       "</tr>\n",
       "<tr>\n",
       "  <th>T7</th>          <td>   -4.4128</td> <td>    2.288</td> <td>   -1.928</td> <td> 0.055</td> <td>   -8.911</td> <td>    0.086</td>\n",
       "</tr>\n",
       "<tr>\n",
       "  <th>RH_7</th>        <td>    0.5859</td> <td>    0.676</td> <td>    0.867</td> <td> 0.387</td> <td>   -0.743</td> <td>    1.915</td>\n",
       "</tr>\n",
       "<tr>\n",
       "  <th>T8</th>          <td>   11.1364</td> <td>    1.670</td> <td>    6.667</td> <td> 0.000</td> <td>    7.853</td> <td>   14.420</td>\n",
       "</tr>\n",
       "<tr>\n",
       "  <th>RH_8</th>        <td>   -2.9775</td> <td>    0.588</td> <td>   -5.061</td> <td> 0.000</td> <td>   -4.134</td> <td>   -1.821</td>\n",
       "</tr>\n",
       "<tr>\n",
       "  <th>T9</th>          <td>   -8.3401</td> <td>    3.044</td> <td>   -2.740</td> <td> 0.006</td> <td>  -14.324</td> <td>   -2.356</td>\n",
       "</tr>\n",
       "<tr>\n",
       "  <th>RH_9</th>        <td>   -0.8892</td> <td>    0.663</td> <td>   -1.341</td> <td> 0.181</td> <td>   -2.192</td> <td>    0.414</td>\n",
       "</tr>\n",
       "<tr>\n",
       "  <th>T_out</th>       <td>   -0.5231</td> <td>    1.100</td> <td>   -0.476</td> <td> 0.634</td> <td>   -2.685</td> <td>    1.638</td>\n",
       "</tr>\n",
       "<tr>\n",
       "  <th>Press_mm_hg</th> <td>    0.0053</td> <td>    0.191</td> <td>    0.028</td> <td> 0.978</td> <td>   -0.371</td> <td>    0.381</td>\n",
       "</tr>\n",
       "<tr>\n",
       "  <th>RH_out</th>      <td>    0.0488</td> <td>    0.192</td> <td>    0.255</td> <td> 0.799</td> <td>   -0.328</td> <td>    0.426</td>\n",
       "</tr>\n",
       "<tr>\n",
       "  <th>Windspeed</th>   <td>    1.1656</td> <td>    0.592</td> <td>    1.969</td> <td> 0.050</td> <td>    0.002</td> <td>    2.329</td>\n",
       "</tr>\n",
       "<tr>\n",
       "  <th>Visibility</th>  <td>   -0.0091</td> <td>    0.129</td> <td>   -0.071</td> <td> 0.943</td> <td>   -0.262</td> <td>    0.244</td>\n",
       "</tr>\n",
       "</table>\n",
       "<table class=\"simpletable\">\n",
       "<tr>\n",
       "  <th>Omnibus:</th>       <td>128.702</td> <th>  Durbin-Watson:     </th> <td>   1.935</td>\n",
       "</tr>\n",
       "<tr>\n",
       "  <th>Prob(Omnibus):</th> <td> 0.000</td>  <th>  Jarque-Bera (JB):  </th> <td> 428.410</td>\n",
       "</tr>\n",
       "<tr>\n",
       "  <th>Skew:</th>          <td> 1.340</td>  <th>  Prob(JB):          </th> <td>9.37e-94</td>\n",
       "</tr>\n",
       "<tr>\n",
       "  <th>Kurtosis:</th>      <td> 7.063</td>  <th>  Cond. No.          </th> <td>1.16e+05</td>\n",
       "</tr>\n",
       "</table><br/><br/>Notes:<br/>[1] Standard Errors assume that the covariance matrix of the errors is correctly specified.<br/>[2] The condition number is large, 1.16e+05. This might indicate that there are<br/>strong multicollinearity or other numerical problems."
      ],
      "text/plain": [
       "<class 'statsmodels.iolib.summary.Summary'>\n",
       "\"\"\"\n",
       "                            OLS Regression Results                            \n",
       "==============================================================================\n",
       "Dep. Variable:             Appliances   R-squared:                       0.352\n",
       "Model:                            OLS   Adj. R-squared:                  0.315\n",
       "Method:                 Least Squares   F-statistic:                     9.663\n",
       "Date:                Sat, 19 Aug 2023   Prob (F-statistic):           1.09e-26\n",
       "Time:                        08:56:29   Log-Likelihood:                -1942.0\n",
       "No. Observations:                 434   AIC:                             3932.\n",
       "Df Residuals:                     410   BIC:                             4030.\n",
       "Df Model:                          23                                         \n",
       "Covariance Type:            nonrobust                                         \n",
       "===============================================================================\n",
       "                  coef    std err          t      P>|t|      [0.025      0.975]\n",
       "-------------------------------------------------------------------------------\n",
       "const          30.5038    157.184      0.194      0.846    -278.484     339.492\n",
       "T1              1.6850      3.239      0.520      0.603      -4.683       8.053\n",
       "RH_1            5.7350      1.404      4.084      0.000       2.974       8.496\n",
       "T2             -7.0984      2.915     -2.435      0.015     -12.829      -1.368\n",
       "RH_2           -4.4119      1.387     -3.181      0.002      -7.139      -1.685\n",
       "T3              4.7152      1.865      2.528      0.012       1.049       8.382\n",
       "RH_3            0.0217      1.275      0.017      0.986      -2.485       2.528\n",
       "T4              3.2258      2.027      1.591      0.112      -0.759       7.210\n",
       "RH_4            1.0482      1.182      0.887      0.376      -1.275       3.372\n",
       "T5              0.2366      2.129      0.111      0.912      -3.949       4.422\n",
       "RH_5           -0.0046      0.275     -0.017      0.987      -0.546       0.537\n",
       "T6              1.4891      0.949      1.569      0.117      -0.377       3.355\n",
       "RH_6            0.0480      0.107      0.447      0.655      -0.163       0.259\n",
       "T7             -4.4128      2.288     -1.928      0.055      -8.911       0.086\n",
       "RH_7            0.5859      0.676      0.867      0.387      -0.743       1.915\n",
       "T8             11.1364      1.670      6.667      0.000       7.853      14.420\n",
       "RH_8           -2.9775      0.588     -5.061      0.000      -4.134      -1.821\n",
       "T9             -8.3401      3.044     -2.740      0.006     -14.324      -2.356\n",
       "RH_9           -0.8892      0.663     -1.341      0.181      -2.192       0.414\n",
       "T_out          -0.5231      1.100     -0.476      0.634      -2.685       1.638\n",
       "Press_mm_hg     0.0053      0.191      0.028      0.978      -0.371       0.381\n",
       "RH_out          0.0488      0.192      0.255      0.799      -0.328       0.426\n",
       "Windspeed       1.1656      0.592      1.969      0.050       0.002       2.329\n",
       "Visibility     -0.0091      0.129     -0.071      0.943      -0.262       0.244\n",
       "==============================================================================\n",
       "Omnibus:                      128.702   Durbin-Watson:                   1.935\n",
       "Prob(Omnibus):                  0.000   Jarque-Bera (JB):              428.410\n",
       "Skew:                           1.340   Prob(JB):                     9.37e-94\n",
       "Kurtosis:                       7.063   Cond. No.                     1.16e+05\n",
       "==============================================================================\n",
       "\n",
       "Notes:\n",
       "[1] Standard Errors assume that the covariance matrix of the errors is correctly specified.\n",
       "[2] The condition number is large, 1.16e+05. This might indicate that there are\n",
       "strong multicollinearity or other numerical problems.\n",
       "\"\"\""
      ]
     },
     "execution_count": 141,
     "metadata": {},
     "output_type": "execute_result"
    }
   ],
   "source": [
    "model = sma.OLS(y_train, x_train).fit()\n",
    "model.summary()"
   ]
  },
  {
   "cell_type": "markdown",
   "metadata": {},
   "source": [
    "## Normality Test"
   ]
  },
  {
   "cell_type": "markdown",
   "metadata": {},
   "source": [
    "- H0: Data / Residual are normally distributed\n",
    "- H1: Data / Residual are not Normally distributed "
   ]
  },
  {
   "cell_type": "code",
   "execution_count": 142,
   "metadata": {},
   "outputs": [
    {
     "data": {
      "text/plain": [
       "SignificanceResult(statistic=428.41026650507297, pvalue=9.373302501017435e-94)"
      ]
     },
     "execution_count": 142,
     "metadata": {},
     "output_type": "execute_result"
    }
   ],
   "source": [
    "# residual is error= Yi - Yhat\n",
    "stats.jarque_bera(model.resid)"
   ]
  },
  {
   "cell_type": "code",
   "execution_count": 143,
   "metadata": {},
   "outputs": [],
   "source": [
    "#transform dependent var"
   ]
  },
  {
   "cell_type": "code",
   "execution_count": 144,
   "metadata": {},
   "outputs": [],
   "source": [
    "from scipy import stats"
   ]
  },
  {
   "cell_type": "code",
   "execution_count": 145,
   "metadata": {},
   "outputs": [
    {
     "data": {
      "text/plain": [
       "array([3.40643809, 3.91560106, 3.40643809, 3.01449127])"
      ]
     },
     "execution_count": 145,
     "metadata": {},
     "output_type": "execute_result"
    }
   ],
   "source": [
    "stats.boxcox(y_train)[0][0:4]   #taking only [0], other one is lambda value"
   ]
  },
  {
   "cell_type": "code",
   "execution_count": 146,
   "metadata": {},
   "outputs": [
    {
     "name": "stdout",
     "output_type": "stream",
     "text": [
      "                            OLS Regression Results                            \n",
      "==============================================================================\n",
      "Dep. Variable:                      y   R-squared:                       0.351\n",
      "Model:                            OLS   Adj. R-squared:                  0.314\n",
      "Method:                 Least Squares   F-statistic:                     9.630\n",
      "Date:                Sat, 19 Aug 2023   Prob (F-statistic):           1.36e-26\n",
      "Time:                        08:56:30   Log-Likelihood:                 13.413\n",
      "No. Observations:                 434   AIC:                             21.17\n",
      "Df Residuals:                     410   BIC:                             118.9\n",
      "Df Model:                          23                                         \n",
      "Covariance Type:            nonrobust                                         \n",
      "===============================================================================\n",
      "                  coef    std err          t      P>|t|      [0.025      0.975]\n",
      "-------------------------------------------------------------------------------\n",
      "const           3.4724      1.737      2.000      0.046       0.059       6.886\n",
      "T1              0.0035      0.036      0.099      0.921      -0.067       0.074\n",
      "RH_1            0.0542      0.016      3.493      0.001       0.024       0.085\n",
      "T2             -0.0531      0.032     -1.649      0.100      -0.116       0.010\n",
      "RH_2           -0.0379      0.015     -2.471      0.014      -0.068      -0.008\n",
      "T3              0.0462      0.021      2.243      0.025       0.006       0.087\n",
      "RH_3           -0.0033      0.014     -0.236      0.814      -0.031       0.024\n",
      "T4              0.0441      0.022      1.969      0.050    6.49e-05       0.088\n",
      "RH_4            0.0091      0.013      0.700      0.484      -0.017       0.035\n",
      "T5             -0.0117      0.024     -0.498      0.619      -0.058       0.035\n",
      "RH_5            0.0008      0.003      0.270      0.787      -0.005       0.007\n",
      "T6              0.0151      0.010      1.437      0.151      -0.006       0.036\n",
      "RH_6            0.0002      0.001      0.198      0.843      -0.002       0.003\n",
      "T7             -0.0457      0.025     -1.810      0.071      -0.095       0.004\n",
      "RH_7            0.0071      0.007      0.945      0.345      -0.008       0.022\n",
      "T8              0.1226      0.018      6.644      0.000       0.086       0.159\n",
      "RH_8           -0.0303      0.006     -4.666      0.000      -0.043      -0.018\n",
      "T9             -0.0756      0.034     -2.248      0.025      -0.142      -0.009\n",
      "RH_9           -0.0071      0.007     -0.968      0.333      -0.021       0.007\n",
      "T_out          -0.0114      0.012     -0.937      0.349      -0.035       0.012\n",
      "Press_mm_hg    -0.0008      0.002     -0.366      0.714      -0.005       0.003\n",
      "RH_out         -0.0003      0.002     -0.156      0.876      -0.004       0.004\n",
      "Windspeed       0.0119      0.007      1.823      0.069      -0.001       0.025\n",
      "Visibility   -7.63e-05      0.001     -0.054      0.957      -0.003       0.003\n",
      "==============================================================================\n",
      "Omnibus:                       14.868   Durbin-Watson:                   1.973\n",
      "Prob(Omnibus):                  0.001   Jarque-Bera (JB):               32.024\n",
      "Skew:                          -0.070   Prob(JB):                     1.11e-07\n",
      "Kurtosis:                       4.323   Cond. No.                     1.16e+05\n",
      "==============================================================================\n",
      "\n",
      "Notes:\n",
      "[1] Standard Errors assume that the covariance matrix of the errors is correctly specified.\n",
      "[2] The condition number is large, 1.16e+05. This might indicate that there are\n",
      "strong multicollinearity or other numerical problems.\n"
     ]
    }
   ],
   "source": [
    "model_boxcox = sma.OLS(stats.boxcox(y_train)[0], x_train).fit()\n",
    "\n",
    "#summary\n",
    "print(model_boxcox.summary())"
   ]
  },
  {
   "cell_type": "code",
   "execution_count": 147,
   "metadata": {},
   "outputs": [],
   "source": [
    "model_sqrt = sma.OLS(np.sqrt(y_train), x_train).fit() #sqr root\n",
    "model_cbrt = sma.OLS(np.cbrt(y_train), x_train).fit() #cube root transformation\n",
    "model_log = sma.OLS(np.log(y_train), x_train).fit() #log trans\n",
    "model_yojh = sma.OLS(stats.yeojohnson(y_train)[0], x_train).fit() #ytojohnson"
   ]
  },
  {
   "cell_type": "code",
   "execution_count": 148,
   "metadata": {},
   "outputs": [],
   "source": [
    "transf_score = pd.DataFrame(columns=['Transformation',\n",
    "                                     'R_Squared',\n",
    "                                      'Adj Rsquared' ]\n",
    "                                  )\n",
    "\n",
    "\n",
    "def update_transformation (name,\n",
    "                           model\n",
    "                           ):\n",
    "\n",
    "    # assign 'comp_perf' as global variable\n",
    "    global transf_score\n",
    "\n",
    "\n",
    "    # append the results to the dataframe 'score_card'\n",
    "    # 'ignore_index = True' do not consider the index labels\n",
    "    transf_score = transf_score.append({'Transformation'    : name,\n",
    "                                        'R_Squared'         : model.rsquared,\n",
    "                                        'Adj Rsquared'    : model.rsquared_adj\n",
    "                                    },\n",
    "                                   ignore_index = True)"
   ]
  },
  {
   "cell_type": "code",
   "execution_count": 149,
   "metadata": {},
   "outputs": [],
   "source": [
    "update_transformation(name = \"Square Root\", model = model_sqrt)\n",
    "update_transformation(name = \"Cube Root\", model = model_cbrt)\n",
    "update_transformation(name = \"Log\", model = model_log)\n",
    "update_transformation(name = \"Boxcox\", model = model_boxcox)\n",
    "update_transformation(name = \"Yeo Johnson\", model = model_yojh)\n"
   ]
  },
  {
   "cell_type": "code",
   "execution_count": 150,
   "metadata": {},
   "outputs": [
    {
     "data": {
      "text/html": [
       "<div>\n",
       "<style scoped>\n",
       "    .dataframe tbody tr th:only-of-type {\n",
       "        vertical-align: middle;\n",
       "    }\n",
       "\n",
       "    .dataframe tbody tr th {\n",
       "        vertical-align: top;\n",
       "    }\n",
       "\n",
       "    .dataframe thead th {\n",
       "        text-align: right;\n",
       "    }\n",
       "</style>\n",
       "<table border=\"1\" class=\"dataframe\">\n",
       "  <thead>\n",
       "    <tr style=\"text-align: right;\">\n",
       "      <th></th>\n",
       "      <th>Transformation</th>\n",
       "      <th>R_Squared</th>\n",
       "      <th>Adj Rsquared</th>\n",
       "    </tr>\n",
       "  </thead>\n",
       "  <tbody>\n",
       "    <tr>\n",
       "      <th>0</th>\n",
       "      <td>Square Root</td>\n",
       "      <td>0.360127</td>\n",
       "      <td>0.324231</td>\n",
       "    </tr>\n",
       "    <tr>\n",
       "      <th>1</th>\n",
       "      <td>Cube Root</td>\n",
       "      <td>0.359664</td>\n",
       "      <td>0.323743</td>\n",
       "    </tr>\n",
       "    <tr>\n",
       "      <th>2</th>\n",
       "      <td>Log</td>\n",
       "      <td>0.353168</td>\n",
       "      <td>0.316883</td>\n",
       "    </tr>\n",
       "    <tr>\n",
       "      <th>3</th>\n",
       "      <td>Boxcox</td>\n",
       "      <td>0.350749</td>\n",
       "      <td>0.314328</td>\n",
       "    </tr>\n",
       "    <tr>\n",
       "      <th>4</th>\n",
       "      <td>Yeo Johnson</td>\n",
       "      <td>0.350877</td>\n",
       "      <td>0.314462</td>\n",
       "    </tr>\n",
       "  </tbody>\n",
       "</table>\n",
       "</div>"
      ],
      "text/plain": [
       "  Transformation  R_Squared  Adj Rsquared\n",
       "0    Square Root   0.360127      0.324231\n",
       "1      Cube Root   0.359664      0.323743\n",
       "2            Log   0.353168      0.316883\n",
       "3         Boxcox   0.350749      0.314328\n",
       "4    Yeo Johnson   0.350877      0.314462"
      ]
     },
     "execution_count": 150,
     "metadata": {},
     "output_type": "execute_result"
    }
   ],
   "source": [
    "# transf_score.drop(transf_score.index, inplace=True)\n",
    "transf_score"
   ]
  },
  {
   "cell_type": "code",
   "execution_count": 151,
   "metadata": {},
   "outputs": [
    {
     "data": {
      "text/html": [
       "<div>\n",
       "<style scoped>\n",
       "    .dataframe tbody tr th:only-of-type {\n",
       "        vertical-align: middle;\n",
       "    }\n",
       "\n",
       "    .dataframe tbody tr th {\n",
       "        vertical-align: top;\n",
       "    }\n",
       "\n",
       "    .dataframe thead th {\n",
       "        text-align: right;\n",
       "    }\n",
       "</style>\n",
       "<table border=\"1\" class=\"dataframe\">\n",
       "  <thead>\n",
       "    <tr style=\"text-align: right;\">\n",
       "      <th></th>\n",
       "      <th>Appliances</th>\n",
       "      <th>T1</th>\n",
       "      <th>RH_1</th>\n",
       "      <th>T2</th>\n",
       "      <th>RH_2</th>\n",
       "      <th>T3</th>\n",
       "      <th>RH_3</th>\n",
       "      <th>T4</th>\n",
       "      <th>RH_4</th>\n",
       "      <th>T5</th>\n",
       "      <th>...</th>\n",
       "      <th>RH_7</th>\n",
       "      <th>T8</th>\n",
       "      <th>RH_8</th>\n",
       "      <th>T9</th>\n",
       "      <th>RH_9</th>\n",
       "      <th>T_out</th>\n",
       "      <th>Press_mm_hg</th>\n",
       "      <th>RH_out</th>\n",
       "      <th>Windspeed</th>\n",
       "      <th>Visibility</th>\n",
       "    </tr>\n",
       "  </thead>\n",
       "  <tbody>\n",
       "    <tr>\n",
       "      <th>1</th>\n",
       "      <td>60</td>\n",
       "      <td>21.290000</td>\n",
       "      <td>37.863333</td>\n",
       "      <td>19.390000</td>\n",
       "      <td>39.663333</td>\n",
       "      <td>21.790000</td>\n",
       "      <td>36.700000</td>\n",
       "      <td>20.463333</td>\n",
       "      <td>37.526667</td>\n",
       "      <td>19.390000</td>\n",
       "      <td>...</td>\n",
       "      <td>32.095000</td>\n",
       "      <td>22.000000</td>\n",
       "      <td>39.223333</td>\n",
       "      <td>19.600000</td>\n",
       "      <td>38.826667</td>\n",
       "      <td>8.350000</td>\n",
       "      <td>761.800000</td>\n",
       "      <td>70.000000</td>\n",
       "      <td>3.500000</td>\n",
       "      <td>40.000000</td>\n",
       "    </tr>\n",
       "    <tr>\n",
       "      <th>2</th>\n",
       "      <td>80</td>\n",
       "      <td>21.390000</td>\n",
       "      <td>35.790000</td>\n",
       "      <td>19.290000</td>\n",
       "      <td>37.700000</td>\n",
       "      <td>22.760000</td>\n",
       "      <td>34.290000</td>\n",
       "      <td>21.323333</td>\n",
       "      <td>34.730000</td>\n",
       "      <td>18.426667</td>\n",
       "      <td>...</td>\n",
       "      <td>29.200000</td>\n",
       "      <td>22.390000</td>\n",
       "      <td>37.290000</td>\n",
       "      <td>19.463333</td>\n",
       "      <td>35.500000</td>\n",
       "      <td>6.866667</td>\n",
       "      <td>762.333333</td>\n",
       "      <td>69.666667</td>\n",
       "      <td>3.000000</td>\n",
       "      <td>35.666667</td>\n",
       "    </tr>\n",
       "    <tr>\n",
       "      <th>3</th>\n",
       "      <td>40</td>\n",
       "      <td>19.033333</td>\n",
       "      <td>41.826667</td>\n",
       "      <td>18.533333</td>\n",
       "      <td>41.290000</td>\n",
       "      <td>18.100000</td>\n",
       "      <td>43.790000</td>\n",
       "      <td>15.890000</td>\n",
       "      <td>47.530000</td>\n",
       "      <td>15.390000</td>\n",
       "      <td>...</td>\n",
       "      <td>40.138889</td>\n",
       "      <td>19.594444</td>\n",
       "      <td>51.062778</td>\n",
       "      <td>15.100000</td>\n",
       "      <td>46.760000</td>\n",
       "      <td>5.133333</td>\n",
       "      <td>769.583333</td>\n",
       "      <td>92.000000</td>\n",
       "      <td>4.833333</td>\n",
       "      <td>23.166667</td>\n",
       "    </tr>\n",
       "    <tr>\n",
       "      <th>5</th>\n",
       "      <td>50</td>\n",
       "      <td>21.840000</td>\n",
       "      <td>42.745000</td>\n",
       "      <td>19.760000</td>\n",
       "      <td>45.430000</td>\n",
       "      <td>24.066667</td>\n",
       "      <td>39.723333</td>\n",
       "      <td>21.600000</td>\n",
       "      <td>40.218000</td>\n",
       "      <td>20.790000</td>\n",
       "      <td>...</td>\n",
       "      <td>36.500000</td>\n",
       "      <td>22.873333</td>\n",
       "      <td>46.900000</td>\n",
       "      <td>21.000000</td>\n",
       "      <td>45.590000</td>\n",
       "      <td>8.800000</td>\n",
       "      <td>745.500000</td>\n",
       "      <td>89.333333</td>\n",
       "      <td>4.333333</td>\n",
       "      <td>24.333333</td>\n",
       "    </tr>\n",
       "    <tr>\n",
       "      <th>7</th>\n",
       "      <td>110</td>\n",
       "      <td>22.463333</td>\n",
       "      <td>39.260000</td>\n",
       "      <td>21.290000</td>\n",
       "      <td>39.530000</td>\n",
       "      <td>22.700000</td>\n",
       "      <td>37.700000</td>\n",
       "      <td>21.200000</td>\n",
       "      <td>38.626667</td>\n",
       "      <td>20.926667</td>\n",
       "      <td>...</td>\n",
       "      <td>32.790000</td>\n",
       "      <td>24.033333</td>\n",
       "      <td>38.360000</td>\n",
       "      <td>20.323333</td>\n",
       "      <td>38.000000</td>\n",
       "      <td>9.216667</td>\n",
       "      <td>753.366667</td>\n",
       "      <td>71.333333</td>\n",
       "      <td>3.666667</td>\n",
       "      <td>40.000000</td>\n",
       "    </tr>\n",
       "  </tbody>\n",
       "</table>\n",
       "<p>5 rows × 24 columns</p>\n",
       "</div>"
      ],
      "text/plain": [
       "   Appliances        T1      RH_1        T2      RH_2        T3      RH_3  \\\n",
       "1          60 21.290000 37.863333 19.390000 39.663333 21.790000 36.700000   \n",
       "2          80 21.390000 35.790000 19.290000 37.700000 22.760000 34.290000   \n",
       "3          40 19.033333 41.826667 18.533333 41.290000 18.100000 43.790000   \n",
       "5          50 21.840000 42.745000 19.760000 45.430000 24.066667 39.723333   \n",
       "7         110 22.463333 39.260000 21.290000 39.530000 22.700000 37.700000   \n",
       "\n",
       "         T4      RH_4        T5  ...      RH_7        T8      RH_8        T9  \\\n",
       "1 20.463333 37.526667 19.390000  ... 32.095000 22.000000 39.223333 19.600000   \n",
       "2 21.323333 34.730000 18.426667  ... 29.200000 22.390000 37.290000 19.463333   \n",
       "3 15.890000 47.530000 15.390000  ... 40.138889 19.594444 51.062778 15.100000   \n",
       "5 21.600000 40.218000 20.790000  ... 36.500000 22.873333 46.900000 21.000000   \n",
       "7 21.200000 38.626667 20.926667  ... 32.790000 24.033333 38.360000 20.323333   \n",
       "\n",
       "       RH_9    T_out  Press_mm_hg    RH_out  Windspeed  Visibility  \n",
       "1 38.826667 8.350000   761.800000 70.000000   3.500000   40.000000  \n",
       "2 35.500000 6.866667   762.333333 69.666667   3.000000   35.666667  \n",
       "3 46.760000 5.133333   769.583333 92.000000   4.833333   23.166667  \n",
       "5 45.590000 8.800000   745.500000 89.333333   4.333333   24.333333  \n",
       "7 38.000000 9.216667   753.366667 71.333333   3.666667   40.000000  \n",
       "\n",
       "[5 rows x 24 columns]"
      ]
     },
     "execution_count": 151,
     "metadata": {},
     "output_type": "execute_result"
    }
   ],
   "source": [
    "df_energy.head()"
   ]
  },
  {
   "cell_type": "code",
   "execution_count": null,
   "metadata": {},
   "outputs": [],
   "source": []
  },
  {
   "cell_type": "code",
   "execution_count": 152,
   "metadata": {},
   "outputs": [],
   "source": [
    "#functino to get r sq , adj-R sq, train RMSE, test RMSE\n",
    "def Metrics(model):\n",
    "\n",
    "    if model == model_lr :\n",
    "\n",
    "\n",
    "\n",
    "         pred_test = model.predict(xtest)\n",
    "\n",
    "         rmse_test = np.sqrt(mean_squared_error(y_test, pred_test))\n",
    "\n",
    "    elif model == sfs_forward:\n",
    "\n",
    "\n",
    "         rmse_test=abs(sfs_forward.k_score_)\n",
    "\n",
    "    elif model == sfs_backward:\n",
    "\n",
    "         rmse_test=abs(sfs_backward.k_score_)\n",
    "\n",
    "    elif model== rfe:\n",
    "\n",
    "            rmse_test =np.sqrt(mean_squared_error(ytest,\n",
    "                                     pred))\n",
    "    else:\n",
    "\n",
    "        rmse_test = np.mean(model)\n",
    "\n",
    "\n",
    "    return (round(rmse_test,6))"
   ]
  },
  {
   "cell_type": "code",
   "execution_count": 153,
   "metadata": {},
   "outputs": [],
   "source": [
    "#create and empty dataframe to store score for variour algorithm \n",
    "\n",
    "perf_score = pd.DataFrame(columns = ['Model', 'RMSE'])"
   ]
  },
  {
   "cell_type": "code",
   "execution_count": 154,
   "metadata": {},
   "outputs": [],
   "source": [
    "def update_performance (name,\n",
    "                        model\n",
    "                           ):\n",
    "\n",
    "    # assign 'comp_perf' as global variable\n",
    "    global perf_score\n",
    "\n",
    "\n",
    "    # append the results to the dataframe 'score_card'\n",
    "    # 'ignore_index = True' do not consider the index labels\n",
    "    perf_score = perf_score.append({'Model'          : name,\n",
    "                                    'RMSE'           : Metrics(model)\n",
    "                                    },\n",
    "                                   ignore_index = True)"
   ]
  },
  {
   "cell_type": "code",
   "execution_count": 155,
   "metadata": {},
   "outputs": [
    {
     "data": {
      "text/html": [
       "<div>\n",
       "<style scoped>\n",
       "    .dataframe tbody tr th:only-of-type {\n",
       "        vertical-align: middle;\n",
       "    }\n",
       "\n",
       "    .dataframe tbody tr th {\n",
       "        vertical-align: top;\n",
       "    }\n",
       "\n",
       "    .dataframe thead th {\n",
       "        text-align: right;\n",
       "    }\n",
       "</style>\n",
       "<table border=\"1\" class=\"dataframe\">\n",
       "  <thead>\n",
       "    <tr style=\"text-align: right;\">\n",
       "      <th></th>\n",
       "      <th>Model</th>\n",
       "      <th>RMSE</th>\n",
       "    </tr>\n",
       "  </thead>\n",
       "  <tbody>\n",
       "    <tr>\n",
       "      <th>0</th>\n",
       "      <td>Linear Regression</td>\n",
       "      <td>19.178971</td>\n",
       "    </tr>\n",
       "  </tbody>\n",
       "</table>\n",
       "</div>"
      ],
      "text/plain": [
       "               Model      RMSE\n",
       "0  Linear Regression 19.178971"
      ]
     },
     "execution_count": 155,
     "metadata": {},
     "output_type": "execute_result"
    }
   ],
   "source": [
    "update_performance(name = 'Linear Regression', model = model_lr)\n",
    "perf_score"
   ]
  },
  {
   "cell_type": "code",
   "execution_count": 156,
   "metadata": {},
   "outputs": [],
   "source": [
    "# pip install mlxtend"
   ]
  },
  {
   "cell_type": "code",
   "execution_count": 157,
   "metadata": {},
   "outputs": [],
   "source": [
    "from mlxtend.feature_selection import SequentialFeatureSelector"
   ]
  },
  {
   "cell_type": "code",
   "execution_count": 158,
   "metadata": {},
   "outputs": [],
   "source": [
    "lr = LinearRegression()\n",
    "sfs_forward = SequentialFeatureSelector(estimator = lr,\n",
    "                                       k_features=5,\n",
    "                                       forward=True,\n",
    "                                       verbose=2,\n",
    "                                       scoring = \"neg_root_mean_squared_error\")"
   ]
  },
  {
   "cell_type": "code",
   "execution_count": 159,
   "metadata": {},
   "outputs": [
    {
     "name": "stderr",
     "output_type": "stream",
     "text": [
      "[Parallel(n_jobs=1)]: Using backend SequentialBackend with 1 concurrent workers.\n",
      "[Parallel(n_jobs=1)]: Done   1 out of   1 | elapsed:    0.0s remaining:    0.0s\n",
      "[Parallel(n_jobs=1)]: Done  23 out of  23 | elapsed:    0.5s finished\n",
      "\n",
      "[2023-08-19 08:56:31] Features: 1/5 -- score: -24.281845190311046[Parallel(n_jobs=1)]: Using backend SequentialBackend with 1 concurrent workers.\n",
      "[Parallel(n_jobs=1)]: Done   1 out of   1 | elapsed:    0.0s remaining:    0.0s\n",
      "[Parallel(n_jobs=1)]: Done  22 out of  22 | elapsed:    0.7s finished\n",
      "\n",
      "[2023-08-19 08:56:32] Features: 2/5 -- score: -23.968572257969342[Parallel(n_jobs=1)]: Using backend SequentialBackend with 1 concurrent workers.\n",
      "[Parallel(n_jobs=1)]: Done   1 out of   1 | elapsed:    0.0s remaining:    0.0s\n",
      "[Parallel(n_jobs=1)]: Done  21 out of  21 | elapsed:    0.8s finished\n",
      "\n",
      "[2023-08-19 08:56:32] Features: 3/5 -- score: -23.4357203580813[Parallel(n_jobs=1)]: Using backend SequentialBackend with 1 concurrent workers.\n",
      "[Parallel(n_jobs=1)]: Done   1 out of   1 | elapsed:    0.0s remaining:    0.0s\n",
      "[Parallel(n_jobs=1)]: Done  20 out of  20 | elapsed:    0.8s finished\n",
      "\n",
      "[2023-08-19 08:56:33] Features: 4/5 -- score: -23.06267101375532[Parallel(n_jobs=1)]: Using backend SequentialBackend with 1 concurrent workers.\n",
      "[Parallel(n_jobs=1)]: Done   1 out of   1 | elapsed:    0.0s remaining:    0.0s\n",
      "[Parallel(n_jobs=1)]: Done  19 out of  19 | elapsed:    0.4s finished\n",
      "\n",
      "[2023-08-19 08:56:34] Features: 5/5 -- score: -22.47169800271528"
     ]
    },
    {
     "data": {
      "text/html": [
       "<style>#sk-container-id-5 {color: black;background-color: white;}#sk-container-id-5 pre{padding: 0;}#sk-container-id-5 div.sk-toggleable {background-color: white;}#sk-container-id-5 label.sk-toggleable__label {cursor: pointer;display: block;width: 100%;margin-bottom: 0;padding: 0.3em;box-sizing: border-box;text-align: center;}#sk-container-id-5 label.sk-toggleable__label-arrow:before {content: \"▸\";float: left;margin-right: 0.25em;color: #696969;}#sk-container-id-5 label.sk-toggleable__label-arrow:hover:before {color: black;}#sk-container-id-5 div.sk-estimator:hover label.sk-toggleable__label-arrow:before {color: black;}#sk-container-id-5 div.sk-toggleable__content {max-height: 0;max-width: 0;overflow: hidden;text-align: left;background-color: #f0f8ff;}#sk-container-id-5 div.sk-toggleable__content pre {margin: 0.2em;color: black;border-radius: 0.25em;background-color: #f0f8ff;}#sk-container-id-5 input.sk-toggleable__control:checked~div.sk-toggleable__content {max-height: 200px;max-width: 100%;overflow: auto;}#sk-container-id-5 input.sk-toggleable__control:checked~label.sk-toggleable__label-arrow:before {content: \"▾\";}#sk-container-id-5 div.sk-estimator input.sk-toggleable__control:checked~label.sk-toggleable__label {background-color: #d4ebff;}#sk-container-id-5 div.sk-label input.sk-toggleable__control:checked~label.sk-toggleable__label {background-color: #d4ebff;}#sk-container-id-5 input.sk-hidden--visually {border: 0;clip: rect(1px 1px 1px 1px);clip: rect(1px, 1px, 1px, 1px);height: 1px;margin: -1px;overflow: hidden;padding: 0;position: absolute;width: 1px;}#sk-container-id-5 div.sk-estimator {font-family: monospace;background-color: #f0f8ff;border: 1px dotted black;border-radius: 0.25em;box-sizing: border-box;margin-bottom: 0.5em;}#sk-container-id-5 div.sk-estimator:hover {background-color: #d4ebff;}#sk-container-id-5 div.sk-parallel-item::after {content: \"\";width: 100%;border-bottom: 1px solid gray;flex-grow: 1;}#sk-container-id-5 div.sk-label:hover label.sk-toggleable__label {background-color: #d4ebff;}#sk-container-id-5 div.sk-serial::before {content: \"\";position: absolute;border-left: 1px solid gray;box-sizing: border-box;top: 0;bottom: 0;left: 50%;z-index: 0;}#sk-container-id-5 div.sk-serial {display: flex;flex-direction: column;align-items: center;background-color: white;padding-right: 0.2em;padding-left: 0.2em;position: relative;}#sk-container-id-5 div.sk-item {position: relative;z-index: 1;}#sk-container-id-5 div.sk-parallel {display: flex;align-items: stretch;justify-content: center;background-color: white;position: relative;}#sk-container-id-5 div.sk-item::before, #sk-container-id-5 div.sk-parallel-item::before {content: \"\";position: absolute;border-left: 1px solid gray;box-sizing: border-box;top: 0;bottom: 0;left: 50%;z-index: -1;}#sk-container-id-5 div.sk-parallel-item {display: flex;flex-direction: column;z-index: 1;position: relative;background-color: white;}#sk-container-id-5 div.sk-parallel-item:first-child::after {align-self: flex-end;width: 50%;}#sk-container-id-5 div.sk-parallel-item:last-child::after {align-self: flex-start;width: 50%;}#sk-container-id-5 div.sk-parallel-item:only-child::after {width: 0;}#sk-container-id-5 div.sk-dashed-wrapped {border: 1px dashed gray;margin: 0 0.4em 0.5em 0.4em;box-sizing: border-box;padding-bottom: 0.4em;background-color: white;}#sk-container-id-5 div.sk-label label {font-family: monospace;font-weight: bold;display: inline-block;line-height: 1.2em;}#sk-container-id-5 div.sk-label-container {text-align: center;}#sk-container-id-5 div.sk-container {/* jupyter's `normalize.less` sets `[hidden] { display: none; }` but bootstrap.min.css set `[hidden] { display: none !important; }` so we also need the `!important` here to be able to override the default hidden behavior on the sphinx rendered scikit-learn.org. See: https://github.com/scikit-learn/scikit-learn/issues/21755 */display: inline-block !important;position: relative;}#sk-container-id-5 div.sk-text-repr-fallback {display: none;}</style><div id=\"sk-container-id-5\" class=\"sk-top-container\"><div class=\"sk-text-repr-fallback\"><pre>SequentialFeatureSelector(estimator=LinearRegression(), k_features=(5, 5),\n",
       "                          scoring=&#x27;neg_root_mean_squared_error&#x27;, verbose=2)</pre><b>In a Jupyter environment, please rerun this cell to show the HTML representation or trust the notebook. <br />On GitHub, the HTML representation is unable to render, please try loading this page with nbviewer.org.</b></div><div class=\"sk-container\" hidden><div class=\"sk-item sk-dashed-wrapped\"><div class=\"sk-label-container\"><div class=\"sk-label sk-toggleable\"><input class=\"sk-toggleable__control sk-hidden--visually\" id=\"sk-estimator-id-13\" type=\"checkbox\" ><label for=\"sk-estimator-id-13\" class=\"sk-toggleable__label sk-toggleable__label-arrow\">SequentialFeatureSelector</label><div class=\"sk-toggleable__content\"><pre>SequentialFeatureSelector(estimator=LinearRegression(), k_features=(5, 5),\n",
       "                          scoring=&#x27;neg_root_mean_squared_error&#x27;, verbose=2)</pre></div></div></div><div class=\"sk-parallel\"><div class=\"sk-parallel-item\"><div class=\"sk-item\"><div class=\"sk-label-container\"><div class=\"sk-label sk-toggleable\"><input class=\"sk-toggleable__control sk-hidden--visually\" id=\"sk-estimator-id-14\" type=\"checkbox\" ><label for=\"sk-estimator-id-14\" class=\"sk-toggleable__label sk-toggleable__label-arrow\">estimator: LinearRegression</label><div class=\"sk-toggleable__content\"><pre>LinearRegression()</pre></div></div></div><div class=\"sk-serial\"><div class=\"sk-item\"><div class=\"sk-estimator sk-toggleable\"><input class=\"sk-toggleable__control sk-hidden--visually\" id=\"sk-estimator-id-15\" type=\"checkbox\" ><label for=\"sk-estimator-id-15\" class=\"sk-toggleable__label sk-toggleable__label-arrow\">LinearRegression</label><div class=\"sk-toggleable__content\"><pre>LinearRegression()</pre></div></div></div></div></div></div></div></div></div></div>"
      ],
      "text/plain": [
       "SequentialFeatureSelector(estimator=LinearRegression(), k_features=(5, 5),\n",
       "                          scoring='neg_root_mean_squared_error', verbose=2)"
      ]
     },
     "execution_count": 159,
     "metadata": {},
     "output_type": "execute_result"
    }
   ],
   "source": [
    "sfs_forward.fit(xtrain, ytrain)"
   ]
  },
  {
   "cell_type": "code",
   "execution_count": 160,
   "metadata": {},
   "outputs": [
    {
     "data": {
      "text/plain": [
       "('RH_1', 'RH_6', 'T8', 'RH_8', 'T9')"
      ]
     },
     "execution_count": 160,
     "metadata": {},
     "output_type": "execute_result"
    }
   ],
   "source": [
    "sfs_forward.k_feature_names_"
   ]
  },
  {
   "cell_type": "code",
   "execution_count": 161,
   "metadata": {},
   "outputs": [
    {
     "data": {
      "text/html": [
       "<div>\n",
       "<style scoped>\n",
       "    .dataframe tbody tr th:only-of-type {\n",
       "        vertical-align: middle;\n",
       "    }\n",
       "\n",
       "    .dataframe tbody tr th {\n",
       "        vertical-align: top;\n",
       "    }\n",
       "\n",
       "    .dataframe thead th {\n",
       "        text-align: right;\n",
       "    }\n",
       "</style>\n",
       "<table border=\"1\" class=\"dataframe\">\n",
       "  <thead>\n",
       "    <tr style=\"text-align: right;\">\n",
       "      <th></th>\n",
       "      <th>Model</th>\n",
       "      <th>RMSE</th>\n",
       "    </tr>\n",
       "  </thead>\n",
       "  <tbody>\n",
       "    <tr>\n",
       "      <th>0</th>\n",
       "      <td>Linear Regression</td>\n",
       "      <td>19.178971</td>\n",
       "    </tr>\n",
       "    <tr>\n",
       "      <th>1</th>\n",
       "      <td>SFS with 5 Features</td>\n",
       "      <td>22.471698</td>\n",
       "    </tr>\n",
       "  </tbody>\n",
       "</table>\n",
       "</div>"
      ],
      "text/plain": [
       "                 Model      RMSE\n",
       "0    Linear Regression 19.178971\n",
       "1  SFS with 5 Features 22.471698"
      ]
     },
     "execution_count": 161,
     "metadata": {},
     "output_type": "execute_result"
    }
   ],
   "source": [
    "update_performance(name='SFS with 5 Features',model=sfs_forward)\n",
    "perf_score"
   ]
  },
  {
   "cell_type": "code",
   "execution_count": 162,
   "metadata": {},
   "outputs": [],
   "source": [
    "lr = LinearRegression()\n",
    "sfs_forward = SequentialFeatureSelector(estimator = lr,\n",
    "                                       k_features=(5,15),\n",
    "                                       forward=True,\n",
    "                                       verbose=2,\n",
    "                                       scoring = \"neg_root_mean_squared_error\")"
   ]
  },
  {
   "cell_type": "code",
   "execution_count": 163,
   "metadata": {},
   "outputs": [
    {
     "name": "stderr",
     "output_type": "stream",
     "text": [
      "[Parallel(n_jobs=1)]: Using backend SequentialBackend with 1 concurrent workers.\n",
      "[Parallel(n_jobs=1)]: Done   1 out of   1 | elapsed:    0.0s remaining:    0.0s\n",
      "[Parallel(n_jobs=1)]: Done  23 out of  23 | elapsed:    0.5s finished\n",
      "\n",
      "[2023-08-19 08:56:35] Features: 1/15 -- score: -24.281845190311046[Parallel(n_jobs=1)]: Using backend SequentialBackend with 1 concurrent workers.\n",
      "[Parallel(n_jobs=1)]: Done   1 out of   1 | elapsed:    0.0s remaining:    0.0s\n",
      "[Parallel(n_jobs=1)]: Done  22 out of  22 | elapsed:    0.7s finished\n",
      "\n",
      "[2023-08-19 08:56:35] Features: 2/15 -- score: -23.968572257969342[Parallel(n_jobs=1)]: Using backend SequentialBackend with 1 concurrent workers.\n",
      "[Parallel(n_jobs=1)]: Done   1 out of   1 | elapsed:    0.0s remaining:    0.0s\n",
      "[Parallel(n_jobs=1)]: Done  21 out of  21 | elapsed:    0.7s finished\n",
      "\n",
      "[2023-08-19 08:56:36] Features: 3/15 -- score: -23.4357203580813[Parallel(n_jobs=1)]: Using backend SequentialBackend with 1 concurrent workers.\n",
      "[Parallel(n_jobs=1)]: Done   1 out of   1 | elapsed:    0.0s remaining:    0.0s\n",
      "[Parallel(n_jobs=1)]: Done  20 out of  20 | elapsed:    0.7s finished\n",
      "\n",
      "[2023-08-19 08:56:37] Features: 4/15 -- score: -23.06267101375532[Parallel(n_jobs=1)]: Using backend SequentialBackend with 1 concurrent workers.\n",
      "[Parallel(n_jobs=1)]: Done   1 out of   1 | elapsed:    0.0s remaining:    0.0s\n",
      "[Parallel(n_jobs=1)]: Done  19 out of  19 | elapsed:    0.4s finished\n",
      "\n",
      "[2023-08-19 08:56:37] Features: 5/15 -- score: -22.47169800271528[Parallel(n_jobs=1)]: Using backend SequentialBackend with 1 concurrent workers.\n",
      "[Parallel(n_jobs=1)]: Done   1 out of   1 | elapsed:    0.0s remaining:    0.0s\n",
      "[Parallel(n_jobs=1)]: Done  18 out of  18 | elapsed:    0.4s finished\n",
      "\n",
      "[2023-08-19 08:56:38] Features: 6/15 -- score: -22.228811244850895[Parallel(n_jobs=1)]: Using backend SequentialBackend with 1 concurrent workers.\n",
      "[Parallel(n_jobs=1)]: Done   1 out of   1 | elapsed:    0.0s remaining:    0.0s\n",
      "[Parallel(n_jobs=1)]: Done  17 out of  17 | elapsed:    0.4s finished\n",
      "\n",
      "[2023-08-19 08:56:38] Features: 7/15 -- score: -22.072567999782862[Parallel(n_jobs=1)]: Using backend SequentialBackend with 1 concurrent workers.\n",
      "[Parallel(n_jobs=1)]: Done   1 out of   1 | elapsed:    0.0s remaining:    0.0s\n",
      "[Parallel(n_jobs=1)]: Done  16 out of  16 | elapsed:    0.4s finished\n",
      "\n",
      "[2023-08-19 08:56:39] Features: 8/15 -- score: -21.94446410293431[Parallel(n_jobs=1)]: Using backend SequentialBackend with 1 concurrent workers.\n",
      "[Parallel(n_jobs=1)]: Done   1 out of   1 | elapsed:    0.0s remaining:    0.0s\n",
      "[Parallel(n_jobs=1)]: Done  15 out of  15 | elapsed:    0.4s finished\n",
      "\n",
      "[2023-08-19 08:56:39] Features: 9/15 -- score: -21.915821421307196[Parallel(n_jobs=1)]: Using backend SequentialBackend with 1 concurrent workers.\n",
      "[Parallel(n_jobs=1)]: Done   1 out of   1 | elapsed:    0.0s remaining:    0.0s\n",
      "[Parallel(n_jobs=1)]: Done  14 out of  14 | elapsed:    0.3s finished\n",
      "\n",
      "[2023-08-19 08:56:40] Features: 10/15 -- score: -21.905442191326586[Parallel(n_jobs=1)]: Using backend SequentialBackend with 1 concurrent workers.\n",
      "[Parallel(n_jobs=1)]: Done   1 out of   1 | elapsed:    0.0s remaining:    0.0s\n",
      "[Parallel(n_jobs=1)]: Done  13 out of  13 | elapsed:    0.3s finished\n",
      "\n",
      "[2023-08-19 08:56:40] Features: 11/15 -- score: -21.91507138049328[Parallel(n_jobs=1)]: Using backend SequentialBackend with 1 concurrent workers.\n",
      "[Parallel(n_jobs=1)]: Done   1 out of   1 | elapsed:    0.0s remaining:    0.0s\n",
      "[Parallel(n_jobs=1)]: Done  12 out of  12 | elapsed:    0.3s finished\n",
      "\n",
      "[2023-08-19 08:56:40] Features: 12/15 -- score: -21.932846923090192[Parallel(n_jobs=1)]: Using backend SequentialBackend with 1 concurrent workers.\n",
      "[Parallel(n_jobs=1)]: Done   1 out of   1 | elapsed:    0.0s remaining:    0.0s\n",
      "[Parallel(n_jobs=1)]: Done  11 out of  11 | elapsed:    0.2s finished\n",
      "\n",
      "[2023-08-19 08:56:41] Features: 13/15 -- score: -21.952819992670435[Parallel(n_jobs=1)]: Using backend SequentialBackend with 1 concurrent workers.\n",
      "[Parallel(n_jobs=1)]: Done   1 out of   1 | elapsed:    0.0s remaining:    0.0s\n",
      "[Parallel(n_jobs=1)]: Done  10 out of  10 | elapsed:    0.2s finished\n",
      "\n",
      "[2023-08-19 08:56:41] Features: 14/15 -- score: -21.977387584144992[Parallel(n_jobs=1)]: Using backend SequentialBackend with 1 concurrent workers.\n",
      "[Parallel(n_jobs=1)]: Done   1 out of   1 | elapsed:    0.0s remaining:    0.0s\n",
      "[Parallel(n_jobs=1)]: Done   9 out of   9 | elapsed:    0.2s finished\n",
      "\n",
      "[2023-08-19 08:56:41] Features: 15/15 -- score: -22.01142393433583"
     ]
    },
    {
     "data": {
      "text/html": [
       "<style>#sk-container-id-6 {color: black;background-color: white;}#sk-container-id-6 pre{padding: 0;}#sk-container-id-6 div.sk-toggleable {background-color: white;}#sk-container-id-6 label.sk-toggleable__label {cursor: pointer;display: block;width: 100%;margin-bottom: 0;padding: 0.3em;box-sizing: border-box;text-align: center;}#sk-container-id-6 label.sk-toggleable__label-arrow:before {content: \"▸\";float: left;margin-right: 0.25em;color: #696969;}#sk-container-id-6 label.sk-toggleable__label-arrow:hover:before {color: black;}#sk-container-id-6 div.sk-estimator:hover label.sk-toggleable__label-arrow:before {color: black;}#sk-container-id-6 div.sk-toggleable__content {max-height: 0;max-width: 0;overflow: hidden;text-align: left;background-color: #f0f8ff;}#sk-container-id-6 div.sk-toggleable__content pre {margin: 0.2em;color: black;border-radius: 0.25em;background-color: #f0f8ff;}#sk-container-id-6 input.sk-toggleable__control:checked~div.sk-toggleable__content {max-height: 200px;max-width: 100%;overflow: auto;}#sk-container-id-6 input.sk-toggleable__control:checked~label.sk-toggleable__label-arrow:before {content: \"▾\";}#sk-container-id-6 div.sk-estimator input.sk-toggleable__control:checked~label.sk-toggleable__label {background-color: #d4ebff;}#sk-container-id-6 div.sk-label input.sk-toggleable__control:checked~label.sk-toggleable__label {background-color: #d4ebff;}#sk-container-id-6 input.sk-hidden--visually {border: 0;clip: rect(1px 1px 1px 1px);clip: rect(1px, 1px, 1px, 1px);height: 1px;margin: -1px;overflow: hidden;padding: 0;position: absolute;width: 1px;}#sk-container-id-6 div.sk-estimator {font-family: monospace;background-color: #f0f8ff;border: 1px dotted black;border-radius: 0.25em;box-sizing: border-box;margin-bottom: 0.5em;}#sk-container-id-6 div.sk-estimator:hover {background-color: #d4ebff;}#sk-container-id-6 div.sk-parallel-item::after {content: \"\";width: 100%;border-bottom: 1px solid gray;flex-grow: 1;}#sk-container-id-6 div.sk-label:hover label.sk-toggleable__label {background-color: #d4ebff;}#sk-container-id-6 div.sk-serial::before {content: \"\";position: absolute;border-left: 1px solid gray;box-sizing: border-box;top: 0;bottom: 0;left: 50%;z-index: 0;}#sk-container-id-6 div.sk-serial {display: flex;flex-direction: column;align-items: center;background-color: white;padding-right: 0.2em;padding-left: 0.2em;position: relative;}#sk-container-id-6 div.sk-item {position: relative;z-index: 1;}#sk-container-id-6 div.sk-parallel {display: flex;align-items: stretch;justify-content: center;background-color: white;position: relative;}#sk-container-id-6 div.sk-item::before, #sk-container-id-6 div.sk-parallel-item::before {content: \"\";position: absolute;border-left: 1px solid gray;box-sizing: border-box;top: 0;bottom: 0;left: 50%;z-index: -1;}#sk-container-id-6 div.sk-parallel-item {display: flex;flex-direction: column;z-index: 1;position: relative;background-color: white;}#sk-container-id-6 div.sk-parallel-item:first-child::after {align-self: flex-end;width: 50%;}#sk-container-id-6 div.sk-parallel-item:last-child::after {align-self: flex-start;width: 50%;}#sk-container-id-6 div.sk-parallel-item:only-child::after {width: 0;}#sk-container-id-6 div.sk-dashed-wrapped {border: 1px dashed gray;margin: 0 0.4em 0.5em 0.4em;box-sizing: border-box;padding-bottom: 0.4em;background-color: white;}#sk-container-id-6 div.sk-label label {font-family: monospace;font-weight: bold;display: inline-block;line-height: 1.2em;}#sk-container-id-6 div.sk-label-container {text-align: center;}#sk-container-id-6 div.sk-container {/* jupyter's `normalize.less` sets `[hidden] { display: none; }` but bootstrap.min.css set `[hidden] { display: none !important; }` so we also need the `!important` here to be able to override the default hidden behavior on the sphinx rendered scikit-learn.org. See: https://github.com/scikit-learn/scikit-learn/issues/21755 */display: inline-block !important;position: relative;}#sk-container-id-6 div.sk-text-repr-fallback {display: none;}</style><div id=\"sk-container-id-6\" class=\"sk-top-container\"><div class=\"sk-text-repr-fallback\"><pre>SequentialFeatureSelector(estimator=LinearRegression(), k_features=(5, 15),\n",
       "                          scoring=&#x27;neg_root_mean_squared_error&#x27;, verbose=2)</pre><b>In a Jupyter environment, please rerun this cell to show the HTML representation or trust the notebook. <br />On GitHub, the HTML representation is unable to render, please try loading this page with nbviewer.org.</b></div><div class=\"sk-container\" hidden><div class=\"sk-item sk-dashed-wrapped\"><div class=\"sk-label-container\"><div class=\"sk-label sk-toggleable\"><input class=\"sk-toggleable__control sk-hidden--visually\" id=\"sk-estimator-id-16\" type=\"checkbox\" ><label for=\"sk-estimator-id-16\" class=\"sk-toggleable__label sk-toggleable__label-arrow\">SequentialFeatureSelector</label><div class=\"sk-toggleable__content\"><pre>SequentialFeatureSelector(estimator=LinearRegression(), k_features=(5, 15),\n",
       "                          scoring=&#x27;neg_root_mean_squared_error&#x27;, verbose=2)</pre></div></div></div><div class=\"sk-parallel\"><div class=\"sk-parallel-item\"><div class=\"sk-item\"><div class=\"sk-label-container\"><div class=\"sk-label sk-toggleable\"><input class=\"sk-toggleable__control sk-hidden--visually\" id=\"sk-estimator-id-17\" type=\"checkbox\" ><label for=\"sk-estimator-id-17\" class=\"sk-toggleable__label sk-toggleable__label-arrow\">estimator: LinearRegression</label><div class=\"sk-toggleable__content\"><pre>LinearRegression()</pre></div></div></div><div class=\"sk-serial\"><div class=\"sk-item\"><div class=\"sk-estimator sk-toggleable\"><input class=\"sk-toggleable__control sk-hidden--visually\" id=\"sk-estimator-id-18\" type=\"checkbox\" ><label for=\"sk-estimator-id-18\" class=\"sk-toggleable__label sk-toggleable__label-arrow\">LinearRegression</label><div class=\"sk-toggleable__content\"><pre>LinearRegression()</pre></div></div></div></div></div></div></div></div></div></div>"
      ],
      "text/plain": [
       "SequentialFeatureSelector(estimator=LinearRegression(), k_features=(5, 15),\n",
       "                          scoring='neg_root_mean_squared_error', verbose=2)"
      ]
     },
     "execution_count": 163,
     "metadata": {},
     "output_type": "execute_result"
    }
   ],
   "source": [
    "sfs_forward.fit(xtrain, ytrain)"
   ]
  },
  {
   "cell_type": "code",
   "execution_count": 164,
   "metadata": {},
   "outputs": [],
   "source": [
    "sfs_features_forward=xtrain.loc[:,sfs_forward.k_feature_names_]\n",
    "sfs_test_forward=xtest.loc[:,sfs_forward.k_feature_names_]"
   ]
  },
  {
   "cell_type": "code",
   "execution_count": 165,
   "metadata": {},
   "outputs": [
    {
     "data": {
      "text/plain": [
       "21.905442191326586"
      ]
     },
     "execution_count": 165,
     "metadata": {},
     "output_type": "execute_result"
    }
   ],
   "source": [
    "abs(sfs_forward.k_score_)"
   ]
  },
  {
   "cell_type": "code",
   "execution_count": 166,
   "metadata": {},
   "outputs": [
    {
     "data": {
      "text/html": [
       "<div>\n",
       "<style scoped>\n",
       "    .dataframe tbody tr th:only-of-type {\n",
       "        vertical-align: middle;\n",
       "    }\n",
       "\n",
       "    .dataframe tbody tr th {\n",
       "        vertical-align: top;\n",
       "    }\n",
       "\n",
       "    .dataframe thead th {\n",
       "        text-align: right;\n",
       "    }\n",
       "</style>\n",
       "<table border=\"1\" class=\"dataframe\">\n",
       "  <thead>\n",
       "    <tr style=\"text-align: right;\">\n",
       "      <th></th>\n",
       "      <th>Model</th>\n",
       "      <th>RMSE</th>\n",
       "    </tr>\n",
       "  </thead>\n",
       "  <tbody>\n",
       "    <tr>\n",
       "      <th>0</th>\n",
       "      <td>Linear Regression</td>\n",
       "      <td>19.178971</td>\n",
       "    </tr>\n",
       "    <tr>\n",
       "      <th>1</th>\n",
       "      <td>SFS with 5 Features</td>\n",
       "      <td>22.471698</td>\n",
       "    </tr>\n",
       "    <tr>\n",
       "      <th>2</th>\n",
       "      <td>SFS with Range(5-15)</td>\n",
       "      <td>21.905442</td>\n",
       "    </tr>\n",
       "  </tbody>\n",
       "</table>\n",
       "</div>"
      ],
      "text/plain": [
       "                  Model      RMSE\n",
       "0     Linear Regression 19.178971\n",
       "1   SFS with 5 Features 22.471698\n",
       "2  SFS with Range(5-15) 21.905442"
      ]
     },
     "execution_count": 166,
     "metadata": {},
     "output_type": "execute_result"
    }
   ],
   "source": [
    "update_performance(name='SFS with Range(5-15)',model=sfs_forward)\n",
    "perf_score"
   ]
  },
  {
   "cell_type": "code",
   "execution_count": null,
   "metadata": {},
   "outputs": [],
   "source": []
  },
  {
   "cell_type": "code",
   "execution_count": 167,
   "metadata": {},
   "outputs": [
    {
     "name": "stderr",
     "output_type": "stream",
     "text": [
      "[Parallel(n_jobs=1)]: Using backend SequentialBackend with 1 concurrent workers.\n",
      "[Parallel(n_jobs=1)]: Done   1 out of   1 | elapsed:    0.0s remaining:    0.0s\n",
      "[Parallel(n_jobs=1)]: Done  23 out of  23 | elapsed:    0.5s finished\n",
      "\n",
      "[2023-08-19 08:56:42] Features: 1/23 -- score: -24.281845190311046[Parallel(n_jobs=1)]: Using backend SequentialBackend with 1 concurrent workers.\n",
      "[Parallel(n_jobs=1)]: Done   1 out of   1 | elapsed:    0.0s remaining:    0.0s\n",
      "[Parallel(n_jobs=1)]: Done  22 out of  22 | elapsed:    0.6s finished\n",
      "\n",
      "[2023-08-19 08:56:43] Features: 2/23 -- score: -23.968572257969342[Parallel(n_jobs=1)]: Using backend SequentialBackend with 1 concurrent workers.\n",
      "[Parallel(n_jobs=1)]: Done   1 out of   1 | elapsed:    0.0s remaining:    0.0s\n",
      "[Parallel(n_jobs=1)]: Done  21 out of  21 | elapsed:    0.7s finished\n",
      "\n",
      "[2023-08-19 08:56:44] Features: 3/23 -- score: -23.4357203580813[Parallel(n_jobs=1)]: Using backend SequentialBackend with 1 concurrent workers.\n",
      "[Parallel(n_jobs=1)]: Done   1 out of   1 | elapsed:    0.0s remaining:    0.0s\n",
      "[Parallel(n_jobs=1)]: Done  20 out of  20 | elapsed:    0.6s finished\n",
      "\n",
      "[2023-08-19 08:56:44] Features: 4/23 -- score: -23.06267101375532[Parallel(n_jobs=1)]: Using backend SequentialBackend with 1 concurrent workers.\n",
      "[Parallel(n_jobs=1)]: Done   1 out of   1 | elapsed:    0.0s remaining:    0.0s\n",
      "[Parallel(n_jobs=1)]: Done  19 out of  19 | elapsed:    0.4s finished\n",
      "\n",
      "[2023-08-19 08:56:45] Features: 5/23 -- score: -22.47169800271528[Parallel(n_jobs=1)]: Using backend SequentialBackend with 1 concurrent workers.\n",
      "[Parallel(n_jobs=1)]: Done   1 out of   1 | elapsed:    0.0s remaining:    0.0s\n",
      "[Parallel(n_jobs=1)]: Done  18 out of  18 | elapsed:    0.4s finished\n",
      "\n",
      "[2023-08-19 08:56:45] Features: 6/23 -- score: -22.228811244850895[Parallel(n_jobs=1)]: Using backend SequentialBackend with 1 concurrent workers.\n",
      "[Parallel(n_jobs=1)]: Done   1 out of   1 | elapsed:    0.0s remaining:    0.0s\n",
      "[Parallel(n_jobs=1)]: Done  17 out of  17 | elapsed:    0.5s finished\n",
      "\n",
      "[2023-08-19 08:56:46] Features: 7/23 -- score: -22.072567999782862[Parallel(n_jobs=1)]: Using backend SequentialBackend with 1 concurrent workers.\n",
      "[Parallel(n_jobs=1)]: Done   1 out of   1 | elapsed:    0.0s remaining:    0.0s\n",
      "[Parallel(n_jobs=1)]: Done  16 out of  16 | elapsed:    0.4s finished\n",
      "\n",
      "[2023-08-19 08:56:46] Features: 8/23 -- score: -21.94446410293431[Parallel(n_jobs=1)]: Using backend SequentialBackend with 1 concurrent workers.\n",
      "[Parallel(n_jobs=1)]: Done   1 out of   1 | elapsed:    0.0s remaining:    0.0s\n",
      "[Parallel(n_jobs=1)]: Done  15 out of  15 | elapsed:    0.4s finished\n",
      "\n",
      "[2023-08-19 08:56:47] Features: 9/23 -- score: -21.915821421307196[Parallel(n_jobs=1)]: Using backend SequentialBackend with 1 concurrent workers.\n",
      "[Parallel(n_jobs=1)]: Done   1 out of   1 | elapsed:    0.0s remaining:    0.0s\n",
      "[Parallel(n_jobs=1)]: Done  14 out of  14 | elapsed:    0.3s finished\n",
      "\n",
      "[2023-08-19 08:56:47] Features: 10/23 -- score: -21.905442191326586[Parallel(n_jobs=1)]: Using backend SequentialBackend with 1 concurrent workers.\n",
      "[Parallel(n_jobs=1)]: Done   1 out of   1 | elapsed:    0.0s remaining:    0.0s\n",
      "[Parallel(n_jobs=1)]: Done  13 out of  13 | elapsed:    0.3s finished\n",
      "\n",
      "[2023-08-19 08:56:48] Features: 11/23 -- score: -21.91507138049328[Parallel(n_jobs=1)]: Using backend SequentialBackend with 1 concurrent workers.\n",
      "[Parallel(n_jobs=1)]: Done   1 out of   1 | elapsed:    0.0s remaining:    0.0s\n",
      "[Parallel(n_jobs=1)]: Done  12 out of  12 | elapsed:    0.3s finished\n",
      "\n",
      "[2023-08-19 08:56:48] Features: 12/23 -- score: -21.932846923090192[Parallel(n_jobs=1)]: Using backend SequentialBackend with 1 concurrent workers.\n",
      "[Parallel(n_jobs=1)]: Done   1 out of   1 | elapsed:    0.0s remaining:    0.0s\n",
      "[Parallel(n_jobs=1)]: Done  11 out of  11 | elapsed:    0.2s finished\n",
      "\n",
      "[2023-08-19 08:56:48] Features: 13/23 -- score: -21.952819992670435[Parallel(n_jobs=1)]: Using backend SequentialBackend with 1 concurrent workers.\n",
      "[Parallel(n_jobs=1)]: Done   1 out of   1 | elapsed:    0.0s remaining:    0.0s\n",
      "[Parallel(n_jobs=1)]: Done  10 out of  10 | elapsed:    0.2s finished\n",
      "\n",
      "[2023-08-19 08:56:49] Features: 14/23 -- score: -21.977387584144992[Parallel(n_jobs=1)]: Using backend SequentialBackend with 1 concurrent workers.\n",
      "[Parallel(n_jobs=1)]: Done   1 out of   1 | elapsed:    0.0s remaining:    0.0s\n",
      "[Parallel(n_jobs=1)]: Done   9 out of   9 | elapsed:    0.2s finished\n",
      "\n",
      "[2023-08-19 08:56:49] Features: 15/23 -- score: -22.01142393433583[Parallel(n_jobs=1)]: Using backend SequentialBackend with 1 concurrent workers.\n",
      "[Parallel(n_jobs=1)]: Done   1 out of   1 | elapsed:    0.0s remaining:    0.0s\n",
      "[Parallel(n_jobs=1)]: Done   8 out of   8 | elapsed:    0.2s finished\n",
      "\n",
      "[2023-08-19 08:56:49] Features: 16/23 -- score: -22.042936114252324[Parallel(n_jobs=1)]: Using backend SequentialBackend with 1 concurrent workers.\n",
      "[Parallel(n_jobs=1)]: Done   1 out of   1 | elapsed:    0.0s remaining:    0.0s\n",
      "[Parallel(n_jobs=1)]: Done   7 out of   7 | elapsed:    0.1s finished\n",
      "\n",
      "[2023-08-19 08:56:49] Features: 17/23 -- score: -22.080504358754283[Parallel(n_jobs=1)]: Using backend SequentialBackend with 1 concurrent workers.\n",
      "[Parallel(n_jobs=1)]: Done   1 out of   1 | elapsed:    0.0s remaining:    0.0s\n",
      "[Parallel(n_jobs=1)]: Done   6 out of   6 | elapsed:    0.1s finished\n",
      "\n",
      "[2023-08-19 08:56:50] Features: 18/23 -- score: -22.124584927203944[Parallel(n_jobs=1)]: Using backend SequentialBackend with 1 concurrent workers.\n",
      "[Parallel(n_jobs=1)]: Done   1 out of   1 | elapsed:    0.0s remaining:    0.0s\n",
      "[Parallel(n_jobs=1)]: Done   5 out of   5 | elapsed:    0.1s finished\n",
      "\n",
      "[2023-08-19 08:56:50] Features: 19/23 -- score: -22.16240333935303[Parallel(n_jobs=1)]: Using backend SequentialBackend with 1 concurrent workers.\n",
      "[Parallel(n_jobs=1)]: Done   1 out of   1 | elapsed:    0.0s remaining:    0.0s\n",
      "[Parallel(n_jobs=1)]: Done   4 out of   4 | elapsed:    0.0s finished\n",
      "\n",
      "[2023-08-19 08:56:50] Features: 20/23 -- score: -22.21053641061895[Parallel(n_jobs=1)]: Using backend SequentialBackend with 1 concurrent workers.\n",
      "[Parallel(n_jobs=1)]: Done   1 out of   1 | elapsed:    0.0s remaining:    0.0s\n",
      "[Parallel(n_jobs=1)]: Done   3 out of   3 | elapsed:    0.0s finished\n",
      "\n",
      "[2023-08-19 08:56:50] Features: 21/23 -- score: -22.26252996159876[Parallel(n_jobs=1)]: Using backend SequentialBackend with 1 concurrent workers.\n",
      "[Parallel(n_jobs=1)]: Done   1 out of   1 | elapsed:    0.0s remaining:    0.0s\n",
      "[Parallel(n_jobs=1)]: Done   2 out of   2 | elapsed:    0.0s finished\n",
      "\n",
      "[2023-08-19 08:56:50] Features: 22/23 -- score: -22.351568865043912[Parallel(n_jobs=1)]: Using backend SequentialBackend with 1 concurrent workers.\n",
      "[Parallel(n_jobs=1)]: Done   1 out of   1 | elapsed:    0.0s remaining:    0.0s\n",
      "[Parallel(n_jobs=1)]: Done   1 out of   1 | elapsed:    0.0s finished\n",
      "\n",
      "[2023-08-19 08:56:50] Features: 23/23 -- score: -22.552076802571513"
     ]
    },
    {
     "data": {
      "text/html": [
       "<div>\n",
       "<style scoped>\n",
       "    .dataframe tbody tr th:only-of-type {\n",
       "        vertical-align: middle;\n",
       "    }\n",
       "\n",
       "    .dataframe tbody tr th {\n",
       "        vertical-align: top;\n",
       "    }\n",
       "\n",
       "    .dataframe thead th {\n",
       "        text-align: right;\n",
       "    }\n",
       "</style>\n",
       "<table border=\"1\" class=\"dataframe\">\n",
       "  <thead>\n",
       "    <tr style=\"text-align: right;\">\n",
       "      <th></th>\n",
       "      <th>Model</th>\n",
       "      <th>RMSE</th>\n",
       "    </tr>\n",
       "  </thead>\n",
       "  <tbody>\n",
       "    <tr>\n",
       "      <th>0</th>\n",
       "      <td>Linear Regression</td>\n",
       "      <td>19.178971</td>\n",
       "    </tr>\n",
       "    <tr>\n",
       "      <th>1</th>\n",
       "      <td>SFS with 5 Features</td>\n",
       "      <td>22.471698</td>\n",
       "    </tr>\n",
       "    <tr>\n",
       "      <th>2</th>\n",
       "      <td>SFS with Range(5-15)</td>\n",
       "      <td>21.905442</td>\n",
       "    </tr>\n",
       "    <tr>\n",
       "      <th>3</th>\n",
       "      <td>SFS with Best</td>\n",
       "      <td>21.905442</td>\n",
       "    </tr>\n",
       "  </tbody>\n",
       "</table>\n",
       "</div>"
      ],
      "text/plain": [
       "                  Model      RMSE\n",
       "0     Linear Regression 19.178971\n",
       "1   SFS with 5 Features 22.471698\n",
       "2  SFS with Range(5-15) 21.905442\n",
       "3         SFS with Best 21.905442"
      ]
     },
     "execution_count": 167,
     "metadata": {},
     "output_type": "execute_result"
    }
   ],
   "source": [
    "lr = LinearRegression()\n",
    "sfs_forward = SequentialFeatureSelector(estimator = lr,\n",
    "                                       k_features='best',\n",
    "                                       forward=True,\n",
    "                                       verbose=2,\n",
    "                                       scoring = \"neg_root_mean_squared_error\")\n",
    "\n",
    "sfs_forward.fit(xtrain, ytrain)\n",
    "\n",
    "update_performance(name='SFS with Best',model=sfs_forward)\n",
    "perf_score"
   ]
  },
  {
   "cell_type": "code",
   "execution_count": 168,
   "metadata": {},
   "outputs": [
    {
     "data": {
      "text/html": [
       "<div>\n",
       "<style scoped>\n",
       "    .dataframe tbody tr th:only-of-type {\n",
       "        vertical-align: middle;\n",
       "    }\n",
       "\n",
       "    .dataframe tbody tr th {\n",
       "        vertical-align: top;\n",
       "    }\n",
       "\n",
       "    .dataframe thead th {\n",
       "        text-align: right;\n",
       "    }\n",
       "</style>\n",
       "<table border=\"1\" class=\"dataframe\">\n",
       "  <thead>\n",
       "    <tr style=\"text-align: right;\">\n",
       "      <th></th>\n",
       "      <th>Model</th>\n",
       "      <th>RMSE</th>\n",
       "    </tr>\n",
       "  </thead>\n",
       "  <tbody>\n",
       "    <tr>\n",
       "      <th>0</th>\n",
       "      <td>Linear Regression</td>\n",
       "      <td>19.178971</td>\n",
       "    </tr>\n",
       "    <tr>\n",
       "      <th>1</th>\n",
       "      <td>SFS with 5 Features</td>\n",
       "      <td>22.471698</td>\n",
       "    </tr>\n",
       "    <tr>\n",
       "      <th>2</th>\n",
       "      <td>SFS with Range(5-15)</td>\n",
       "      <td>21.905442</td>\n",
       "    </tr>\n",
       "    <tr>\n",
       "      <th>3</th>\n",
       "      <td>SFS with Best</td>\n",
       "      <td>21.905442</td>\n",
       "    </tr>\n",
       "  </tbody>\n",
       "</table>\n",
       "</div>"
      ],
      "text/plain": [
       "                  Model      RMSE\n",
       "0     Linear Regression 19.178971\n",
       "1   SFS with 5 Features 22.471698\n",
       "2  SFS with Range(5-15) 21.905442\n",
       "3         SFS with Best 21.905442"
      ]
     },
     "execution_count": 168,
     "metadata": {},
     "output_type": "execute_result"
    }
   ],
   "source": [
    "perf_score"
   ]
  },
  {
   "cell_type": "markdown",
   "metadata": {},
   "source": [
    "#### Backward"
   ]
  },
  {
   "cell_type": "code",
   "execution_count": 169,
   "metadata": {},
   "outputs": [
    {
     "data": {
      "text/html": [
       "<style>#sk-container-id-7 {color: black;background-color: white;}#sk-container-id-7 pre{padding: 0;}#sk-container-id-7 div.sk-toggleable {background-color: white;}#sk-container-id-7 label.sk-toggleable__label {cursor: pointer;display: block;width: 100%;margin-bottom: 0;padding: 0.3em;box-sizing: border-box;text-align: center;}#sk-container-id-7 label.sk-toggleable__label-arrow:before {content: \"▸\";float: left;margin-right: 0.25em;color: #696969;}#sk-container-id-7 label.sk-toggleable__label-arrow:hover:before {color: black;}#sk-container-id-7 div.sk-estimator:hover label.sk-toggleable__label-arrow:before {color: black;}#sk-container-id-7 div.sk-toggleable__content {max-height: 0;max-width: 0;overflow: hidden;text-align: left;background-color: #f0f8ff;}#sk-container-id-7 div.sk-toggleable__content pre {margin: 0.2em;color: black;border-radius: 0.25em;background-color: #f0f8ff;}#sk-container-id-7 input.sk-toggleable__control:checked~div.sk-toggleable__content {max-height: 200px;max-width: 100%;overflow: auto;}#sk-container-id-7 input.sk-toggleable__control:checked~label.sk-toggleable__label-arrow:before {content: \"▾\";}#sk-container-id-7 div.sk-estimator input.sk-toggleable__control:checked~label.sk-toggleable__label {background-color: #d4ebff;}#sk-container-id-7 div.sk-label input.sk-toggleable__control:checked~label.sk-toggleable__label {background-color: #d4ebff;}#sk-container-id-7 input.sk-hidden--visually {border: 0;clip: rect(1px 1px 1px 1px);clip: rect(1px, 1px, 1px, 1px);height: 1px;margin: -1px;overflow: hidden;padding: 0;position: absolute;width: 1px;}#sk-container-id-7 div.sk-estimator {font-family: monospace;background-color: #f0f8ff;border: 1px dotted black;border-radius: 0.25em;box-sizing: border-box;margin-bottom: 0.5em;}#sk-container-id-7 div.sk-estimator:hover {background-color: #d4ebff;}#sk-container-id-7 div.sk-parallel-item::after {content: \"\";width: 100%;border-bottom: 1px solid gray;flex-grow: 1;}#sk-container-id-7 div.sk-label:hover label.sk-toggleable__label {background-color: #d4ebff;}#sk-container-id-7 div.sk-serial::before {content: \"\";position: absolute;border-left: 1px solid gray;box-sizing: border-box;top: 0;bottom: 0;left: 50%;z-index: 0;}#sk-container-id-7 div.sk-serial {display: flex;flex-direction: column;align-items: center;background-color: white;padding-right: 0.2em;padding-left: 0.2em;position: relative;}#sk-container-id-7 div.sk-item {position: relative;z-index: 1;}#sk-container-id-7 div.sk-parallel {display: flex;align-items: stretch;justify-content: center;background-color: white;position: relative;}#sk-container-id-7 div.sk-item::before, #sk-container-id-7 div.sk-parallel-item::before {content: \"\";position: absolute;border-left: 1px solid gray;box-sizing: border-box;top: 0;bottom: 0;left: 50%;z-index: -1;}#sk-container-id-7 div.sk-parallel-item {display: flex;flex-direction: column;z-index: 1;position: relative;background-color: white;}#sk-container-id-7 div.sk-parallel-item:first-child::after {align-self: flex-end;width: 50%;}#sk-container-id-7 div.sk-parallel-item:last-child::after {align-self: flex-start;width: 50%;}#sk-container-id-7 div.sk-parallel-item:only-child::after {width: 0;}#sk-container-id-7 div.sk-dashed-wrapped {border: 1px dashed gray;margin: 0 0.4em 0.5em 0.4em;box-sizing: border-box;padding-bottom: 0.4em;background-color: white;}#sk-container-id-7 div.sk-label label {font-family: monospace;font-weight: bold;display: inline-block;line-height: 1.2em;}#sk-container-id-7 div.sk-label-container {text-align: center;}#sk-container-id-7 div.sk-container {/* jupyter's `normalize.less` sets `[hidden] { display: none; }` but bootstrap.min.css set `[hidden] { display: none !important; }` so we also need the `!important` here to be able to override the default hidden behavior on the sphinx rendered scikit-learn.org. See: https://github.com/scikit-learn/scikit-learn/issues/21755 */display: inline-block !important;position: relative;}#sk-container-id-7 div.sk-text-repr-fallback {display: none;}</style><div id=\"sk-container-id-7\" class=\"sk-top-container\"><div class=\"sk-text-repr-fallback\"><pre>SequentialFeatureSelector(estimator=LinearRegression(), forward=False,\n",
       "                          k_features=(1, 23),\n",
       "                          scoring=&#x27;neg_root_mean_squared_error&#x27;)</pre><b>In a Jupyter environment, please rerun this cell to show the HTML representation or trust the notebook. <br />On GitHub, the HTML representation is unable to render, please try loading this page with nbviewer.org.</b></div><div class=\"sk-container\" hidden><div class=\"sk-item sk-dashed-wrapped\"><div class=\"sk-label-container\"><div class=\"sk-label sk-toggleable\"><input class=\"sk-toggleable__control sk-hidden--visually\" id=\"sk-estimator-id-19\" type=\"checkbox\" ><label for=\"sk-estimator-id-19\" class=\"sk-toggleable__label sk-toggleable__label-arrow\">SequentialFeatureSelector</label><div class=\"sk-toggleable__content\"><pre>SequentialFeatureSelector(estimator=LinearRegression(), forward=False,\n",
       "                          k_features=(1, 23),\n",
       "                          scoring=&#x27;neg_root_mean_squared_error&#x27;)</pre></div></div></div><div class=\"sk-parallel\"><div class=\"sk-parallel-item\"><div class=\"sk-item\"><div class=\"sk-label-container\"><div class=\"sk-label sk-toggleable\"><input class=\"sk-toggleable__control sk-hidden--visually\" id=\"sk-estimator-id-20\" type=\"checkbox\" ><label for=\"sk-estimator-id-20\" class=\"sk-toggleable__label sk-toggleable__label-arrow\">estimator: LinearRegression</label><div class=\"sk-toggleable__content\"><pre>LinearRegression()</pre></div></div></div><div class=\"sk-serial\"><div class=\"sk-item\"><div class=\"sk-estimator sk-toggleable\"><input class=\"sk-toggleable__control sk-hidden--visually\" id=\"sk-estimator-id-21\" type=\"checkbox\" ><label for=\"sk-estimator-id-21\" class=\"sk-toggleable__label sk-toggleable__label-arrow\">LinearRegression</label><div class=\"sk-toggleable__content\"><pre>LinearRegression()</pre></div></div></div></div></div></div></div></div></div></div>"
      ],
      "text/plain": [
       "SequentialFeatureSelector(estimator=LinearRegression(), forward=False,\n",
       "                          k_features=(1, 23),\n",
       "                          scoring='neg_root_mean_squared_error')"
      ]
     },
     "execution_count": 169,
     "metadata": {},
     "output_type": "execute_result"
    }
   ],
   "source": [
    "lr = LinearRegression()\n",
    "sfs_backward = SequentialFeatureSelector(estimator = lr,\n",
    "                                       k_features='best',\n",
    "                                       forward=False,\n",
    "#                                        verbose=2,\n",
    "                                       scoring = \"neg_root_mean_squared_error\")\n",
    "\n",
    "sfs_backward.fit(xtrain, ytrain)"
   ]
  },
  {
   "cell_type": "code",
   "execution_count": 170,
   "metadata": {},
   "outputs": [
    {
     "data": {
      "text/plain": [
       "('RH_1', 'RH_2', 'T4', 'T6', 'T7', 'T8', 'RH_8', 'T9', 'RH_9', 'Windspeed')"
      ]
     },
     "execution_count": 170,
     "metadata": {},
     "output_type": "execute_result"
    }
   ],
   "source": [
    "sfs_backward.k_feature_names_"
   ]
  },
  {
   "cell_type": "code",
   "execution_count": 171,
   "metadata": {},
   "outputs": [
    {
     "data": {
      "text/html": [
       "<div>\n",
       "<style scoped>\n",
       "    .dataframe tbody tr th:only-of-type {\n",
       "        vertical-align: middle;\n",
       "    }\n",
       "\n",
       "    .dataframe tbody tr th {\n",
       "        vertical-align: top;\n",
       "    }\n",
       "\n",
       "    .dataframe thead th {\n",
       "        text-align: right;\n",
       "    }\n",
       "</style>\n",
       "<table border=\"1\" class=\"dataframe\">\n",
       "  <thead>\n",
       "    <tr style=\"text-align: right;\">\n",
       "      <th></th>\n",
       "      <th>Model</th>\n",
       "      <th>RMSE</th>\n",
       "    </tr>\n",
       "  </thead>\n",
       "  <tbody>\n",
       "    <tr>\n",
       "      <th>0</th>\n",
       "      <td>Linear Regression</td>\n",
       "      <td>19.178971</td>\n",
       "    </tr>\n",
       "    <tr>\n",
       "      <th>1</th>\n",
       "      <td>SFS with 5 Features</td>\n",
       "      <td>22.471698</td>\n",
       "    </tr>\n",
       "    <tr>\n",
       "      <th>2</th>\n",
       "      <td>SFS with Range(5-15)</td>\n",
       "      <td>21.905442</td>\n",
       "    </tr>\n",
       "    <tr>\n",
       "      <th>3</th>\n",
       "      <td>SFS with Best</td>\n",
       "      <td>21.905442</td>\n",
       "    </tr>\n",
       "    <tr>\n",
       "      <th>4</th>\n",
       "      <td>Backward SFS with Best</td>\n",
       "      <td>21.905442</td>\n",
       "    </tr>\n",
       "  </tbody>\n",
       "</table>\n",
       "</div>"
      ],
      "text/plain": [
       "                    Model      RMSE\n",
       "0       Linear Regression 19.178971\n",
       "1     SFS with 5 Features 22.471698\n",
       "2    SFS with Range(5-15) 21.905442\n",
       "3           SFS with Best 21.905442\n",
       "4  Backward SFS with Best 21.905442"
      ]
     },
     "execution_count": 171,
     "metadata": {},
     "output_type": "execute_result"
    }
   ],
   "source": [
    "update_performance(name='Backward SFS with Best',model=sfs_forward)\n",
    "perf_score"
   ]
  },
  {
   "cell_type": "code",
   "execution_count": null,
   "metadata": {},
   "outputs": [],
   "source": []
  },
  {
   "cell_type": "code",
   "execution_count": null,
   "metadata": {},
   "outputs": [],
   "source": []
  },
  {
   "cell_type": "code",
   "execution_count": 172,
   "metadata": {},
   "outputs": [],
   "source": [
    "from sklearn.feature_selection import RFE\n",
    "\n",
    "lr = LinearRegression()"
   ]
  },
  {
   "cell_type": "code",
   "execution_count": 173,
   "metadata": {},
   "outputs": [],
   "source": [
    "rfe = RFE(estimator=lr,\n",
    "         n_features_to_select=5)"
   ]
  },
  {
   "cell_type": "code",
   "execution_count": 174,
   "metadata": {},
   "outputs": [
    {
     "data": {
      "text/html": [
       "<style>#sk-container-id-8 {color: black;background-color: white;}#sk-container-id-8 pre{padding: 0;}#sk-container-id-8 div.sk-toggleable {background-color: white;}#sk-container-id-8 label.sk-toggleable__label {cursor: pointer;display: block;width: 100%;margin-bottom: 0;padding: 0.3em;box-sizing: border-box;text-align: center;}#sk-container-id-8 label.sk-toggleable__label-arrow:before {content: \"▸\";float: left;margin-right: 0.25em;color: #696969;}#sk-container-id-8 label.sk-toggleable__label-arrow:hover:before {color: black;}#sk-container-id-8 div.sk-estimator:hover label.sk-toggleable__label-arrow:before {color: black;}#sk-container-id-8 div.sk-toggleable__content {max-height: 0;max-width: 0;overflow: hidden;text-align: left;background-color: #f0f8ff;}#sk-container-id-8 div.sk-toggleable__content pre {margin: 0.2em;color: black;border-radius: 0.25em;background-color: #f0f8ff;}#sk-container-id-8 input.sk-toggleable__control:checked~div.sk-toggleable__content {max-height: 200px;max-width: 100%;overflow: auto;}#sk-container-id-8 input.sk-toggleable__control:checked~label.sk-toggleable__label-arrow:before {content: \"▾\";}#sk-container-id-8 div.sk-estimator input.sk-toggleable__control:checked~label.sk-toggleable__label {background-color: #d4ebff;}#sk-container-id-8 div.sk-label input.sk-toggleable__control:checked~label.sk-toggleable__label {background-color: #d4ebff;}#sk-container-id-8 input.sk-hidden--visually {border: 0;clip: rect(1px 1px 1px 1px);clip: rect(1px, 1px, 1px, 1px);height: 1px;margin: -1px;overflow: hidden;padding: 0;position: absolute;width: 1px;}#sk-container-id-8 div.sk-estimator {font-family: monospace;background-color: #f0f8ff;border: 1px dotted black;border-radius: 0.25em;box-sizing: border-box;margin-bottom: 0.5em;}#sk-container-id-8 div.sk-estimator:hover {background-color: #d4ebff;}#sk-container-id-8 div.sk-parallel-item::after {content: \"\";width: 100%;border-bottom: 1px solid gray;flex-grow: 1;}#sk-container-id-8 div.sk-label:hover label.sk-toggleable__label {background-color: #d4ebff;}#sk-container-id-8 div.sk-serial::before {content: \"\";position: absolute;border-left: 1px solid gray;box-sizing: border-box;top: 0;bottom: 0;left: 50%;z-index: 0;}#sk-container-id-8 div.sk-serial {display: flex;flex-direction: column;align-items: center;background-color: white;padding-right: 0.2em;padding-left: 0.2em;position: relative;}#sk-container-id-8 div.sk-item {position: relative;z-index: 1;}#sk-container-id-8 div.sk-parallel {display: flex;align-items: stretch;justify-content: center;background-color: white;position: relative;}#sk-container-id-8 div.sk-item::before, #sk-container-id-8 div.sk-parallel-item::before {content: \"\";position: absolute;border-left: 1px solid gray;box-sizing: border-box;top: 0;bottom: 0;left: 50%;z-index: -1;}#sk-container-id-8 div.sk-parallel-item {display: flex;flex-direction: column;z-index: 1;position: relative;background-color: white;}#sk-container-id-8 div.sk-parallel-item:first-child::after {align-self: flex-end;width: 50%;}#sk-container-id-8 div.sk-parallel-item:last-child::after {align-self: flex-start;width: 50%;}#sk-container-id-8 div.sk-parallel-item:only-child::after {width: 0;}#sk-container-id-8 div.sk-dashed-wrapped {border: 1px dashed gray;margin: 0 0.4em 0.5em 0.4em;box-sizing: border-box;padding-bottom: 0.4em;background-color: white;}#sk-container-id-8 div.sk-label label {font-family: monospace;font-weight: bold;display: inline-block;line-height: 1.2em;}#sk-container-id-8 div.sk-label-container {text-align: center;}#sk-container-id-8 div.sk-container {/* jupyter's `normalize.less` sets `[hidden] { display: none; }` but bootstrap.min.css set `[hidden] { display: none !important; }` so we also need the `!important` here to be able to override the default hidden behavior on the sphinx rendered scikit-learn.org. See: https://github.com/scikit-learn/scikit-learn/issues/21755 */display: inline-block !important;position: relative;}#sk-container-id-8 div.sk-text-repr-fallback {display: none;}</style><div id=\"sk-container-id-8\" class=\"sk-top-container\"><div class=\"sk-text-repr-fallback\"><pre>RFE(estimator=LinearRegression(), n_features_to_select=5)</pre><b>In a Jupyter environment, please rerun this cell to show the HTML representation or trust the notebook. <br />On GitHub, the HTML representation is unable to render, please try loading this page with nbviewer.org.</b></div><div class=\"sk-container\" hidden><div class=\"sk-item sk-dashed-wrapped\"><div class=\"sk-label-container\"><div class=\"sk-label sk-toggleable\"><input class=\"sk-toggleable__control sk-hidden--visually\" id=\"sk-estimator-id-22\" type=\"checkbox\" ><label for=\"sk-estimator-id-22\" class=\"sk-toggleable__label sk-toggleable__label-arrow\">RFE</label><div class=\"sk-toggleable__content\"><pre>RFE(estimator=LinearRegression(), n_features_to_select=5)</pre></div></div></div><div class=\"sk-parallel\"><div class=\"sk-parallel-item\"><div class=\"sk-item\"><div class=\"sk-label-container\"><div class=\"sk-label sk-toggleable\"><input class=\"sk-toggleable__control sk-hidden--visually\" id=\"sk-estimator-id-23\" type=\"checkbox\" ><label for=\"sk-estimator-id-23\" class=\"sk-toggleable__label sk-toggleable__label-arrow\">estimator: LinearRegression</label><div class=\"sk-toggleable__content\"><pre>LinearRegression()</pre></div></div></div><div class=\"sk-serial\"><div class=\"sk-item\"><div class=\"sk-estimator sk-toggleable\"><input class=\"sk-toggleable__control sk-hidden--visually\" id=\"sk-estimator-id-24\" type=\"checkbox\" ><label for=\"sk-estimator-id-24\" class=\"sk-toggleable__label sk-toggleable__label-arrow\">LinearRegression</label><div class=\"sk-toggleable__content\"><pre>LinearRegression()</pre></div></div></div></div></div></div></div></div></div></div>"
      ],
      "text/plain": [
       "RFE(estimator=LinearRegression(), n_features_to_select=5)"
      ]
     },
     "execution_count": 174,
     "metadata": {},
     "output_type": "execute_result"
    }
   ],
   "source": [
    "rfe.fit(xtrain, ytrain)"
   ]
  },
  {
   "cell_type": "code",
   "execution_count": 175,
   "metadata": {},
   "outputs": [
    {
     "data": {
      "text/html": [
       "<div>\n",
       "<style scoped>\n",
       "    .dataframe tbody tr th:only-of-type {\n",
       "        vertical-align: middle;\n",
       "    }\n",
       "\n",
       "    .dataframe tbody tr th {\n",
       "        vertical-align: top;\n",
       "    }\n",
       "\n",
       "    .dataframe thead th {\n",
       "        text-align: right;\n",
       "    }\n",
       "</style>\n",
       "<table border=\"1\" class=\"dataframe\">\n",
       "  <thead>\n",
       "    <tr style=\"text-align: right;\">\n",
       "      <th></th>\n",
       "      <th>0</th>\n",
       "    </tr>\n",
       "  </thead>\n",
       "  <tbody>\n",
       "    <tr>\n",
       "      <th>T1</th>\n",
       "      <td>9</td>\n",
       "    </tr>\n",
       "    <tr>\n",
       "      <th>RH_1</th>\n",
       "      <td>2</td>\n",
       "    </tr>\n",
       "    <tr>\n",
       "      <th>T2</th>\n",
       "      <td>4</td>\n",
       "    </tr>\n",
       "    <tr>\n",
       "      <th>RH_2</th>\n",
       "      <td>3</td>\n",
       "    </tr>\n",
       "    <tr>\n",
       "      <th>T3</th>\n",
       "      <td>1</td>\n",
       "    </tr>\n",
       "    <tr>\n",
       "      <th>RH_3</th>\n",
       "      <td>16</td>\n",
       "    </tr>\n",
       "    <tr>\n",
       "      <th>T4</th>\n",
       "      <td>5</td>\n",
       "    </tr>\n",
       "    <tr>\n",
       "      <th>RH_4</th>\n",
       "      <td>6</td>\n",
       "    </tr>\n",
       "    <tr>\n",
       "      <th>T5</th>\n",
       "      <td>13</td>\n",
       "    </tr>\n",
       "    <tr>\n",
       "      <th>RH_5</th>\n",
       "      <td>19</td>\n",
       "    </tr>\n",
       "    <tr>\n",
       "      <th>T6</th>\n",
       "      <td>10</td>\n",
       "    </tr>\n",
       "    <tr>\n",
       "      <th>RH_6</th>\n",
       "      <td>15</td>\n",
       "    </tr>\n",
       "    <tr>\n",
       "      <th>T7</th>\n",
       "      <td>1</td>\n",
       "    </tr>\n",
       "    <tr>\n",
       "      <th>RH_7</th>\n",
       "      <td>12</td>\n",
       "    </tr>\n",
       "    <tr>\n",
       "      <th>T8</th>\n",
       "      <td>1</td>\n",
       "    </tr>\n",
       "    <tr>\n",
       "      <th>RH_8</th>\n",
       "      <td>1</td>\n",
       "    </tr>\n",
       "    <tr>\n",
       "      <th>T9</th>\n",
       "      <td>1</td>\n",
       "    </tr>\n",
       "    <tr>\n",
       "      <th>RH_9</th>\n",
       "      <td>8</td>\n",
       "    </tr>\n",
       "    <tr>\n",
       "      <th>T_out</th>\n",
       "      <td>11</td>\n",
       "    </tr>\n",
       "    <tr>\n",
       "      <th>Press_mm_hg</th>\n",
       "      <td>18</td>\n",
       "    </tr>\n",
       "    <tr>\n",
       "      <th>RH_out</th>\n",
       "      <td>14</td>\n",
       "    </tr>\n",
       "    <tr>\n",
       "      <th>Windspeed</th>\n",
       "      <td>7</td>\n",
       "    </tr>\n",
       "    <tr>\n",
       "      <th>Visibility</th>\n",
       "      <td>17</td>\n",
       "    </tr>\n",
       "  </tbody>\n",
       "</table>\n",
       "</div>"
      ],
      "text/plain": [
       "              0\n",
       "T1            9\n",
       "RH_1          2\n",
       "T2            4\n",
       "RH_2          3\n",
       "T3            1\n",
       "RH_3         16\n",
       "T4            5\n",
       "RH_4          6\n",
       "T5           13\n",
       "RH_5         19\n",
       "T6           10\n",
       "RH_6         15\n",
       "T7            1\n",
       "RH_7         12\n",
       "T8            1\n",
       "RH_8          1\n",
       "T9            1\n",
       "RH_9          8\n",
       "T_out        11\n",
       "Press_mm_hg  18\n",
       "RH_out       14\n",
       "Windspeed     7\n",
       "Visibility   17"
      ]
     },
     "execution_count": 175,
     "metadata": {},
     "output_type": "execute_result"
    }
   ],
   "source": [
    "pd.DataFrame(rfe.ranking_,index=xtrain.columns)"
   ]
  },
  {
   "cell_type": "markdown",
   "metadata": {},
   "source": [
    "### Take feature and bulid model"
   ]
  },
  {
   "cell_type": "code",
   "execution_count": 176,
   "metadata": {},
   "outputs": [],
   "source": [
    "feature_index = pd.Series(rfe.ranking_,index=xtrain.columns).sort_values(ascending=False)"
   ]
  },
  {
   "cell_type": "code",
   "execution_count": 177,
   "metadata": {},
   "outputs": [],
   "source": [
    "impfeature_rfe = feature_index[feature_index==1].index"
   ]
  },
  {
   "cell_type": "code",
   "execution_count": 178,
   "metadata": {},
   "outputs": [
    {
     "data": {
      "text/plain": [
       "Index(['T3', 'T9', 'RH_8', 'T7', 'T8'], dtype='object')"
      ]
     },
     "execution_count": 178,
     "metadata": {},
     "output_type": "execute_result"
    }
   ],
   "source": [
    "impfeature_rfe"
   ]
  },
  {
   "cell_type": "code",
   "execution_count": 179,
   "metadata": {},
   "outputs": [],
   "source": [
    "rfe_train = xtrain.loc[:,impfeature_rfe]\n",
    "rfe_test = xtest.loc[:,impfeature_rfe]"
   ]
  },
  {
   "cell_type": "code",
   "execution_count": 180,
   "metadata": {},
   "outputs": [],
   "source": [
    "## build model using rfe_train and rfe_test"
   ]
  },
  {
   "cell_type": "code",
   "execution_count": 181,
   "metadata": {},
   "outputs": [
    {
     "data": {
      "text/plain": [
       "20.856945828451035"
      ]
     },
     "execution_count": 181,
     "metadata": {},
     "output_type": "execute_result"
    }
   ],
   "source": [
    "lr = LinearRegression()\n",
    "\n",
    "lr.fit(rfe_train, ytrain)\n",
    "\n",
    "pred = lr.predict(rfe_test)\n",
    "\n",
    "rfe_rmse = np.sqrt(mean_squared_error(ytest,pred))\n",
    "\n",
    "rfe_rmse"
   ]
  },
  {
   "cell_type": "code",
   "execution_count": 182,
   "metadata": {},
   "outputs": [
    {
     "data": {
      "text/html": [
       "<div>\n",
       "<style scoped>\n",
       "    .dataframe tbody tr th:only-of-type {\n",
       "        vertical-align: middle;\n",
       "    }\n",
       "\n",
       "    .dataframe tbody tr th {\n",
       "        vertical-align: top;\n",
       "    }\n",
       "\n",
       "    .dataframe thead th {\n",
       "        text-align: right;\n",
       "    }\n",
       "</style>\n",
       "<table border=\"1\" class=\"dataframe\">\n",
       "  <thead>\n",
       "    <tr style=\"text-align: right;\">\n",
       "      <th></th>\n",
       "      <th>Model</th>\n",
       "      <th>RMSE</th>\n",
       "    </tr>\n",
       "  </thead>\n",
       "  <tbody>\n",
       "    <tr>\n",
       "      <th>0</th>\n",
       "      <td>Linear Regression</td>\n",
       "      <td>19.178971</td>\n",
       "    </tr>\n",
       "    <tr>\n",
       "      <th>1</th>\n",
       "      <td>SFS with 5 Features</td>\n",
       "      <td>22.471698</td>\n",
       "    </tr>\n",
       "    <tr>\n",
       "      <th>2</th>\n",
       "      <td>SFS with Range(5-15)</td>\n",
       "      <td>21.905442</td>\n",
       "    </tr>\n",
       "    <tr>\n",
       "      <th>3</th>\n",
       "      <td>SFS with Best</td>\n",
       "      <td>21.905442</td>\n",
       "    </tr>\n",
       "    <tr>\n",
       "      <th>4</th>\n",
       "      <td>Backward SFS with Best</td>\n",
       "      <td>21.905442</td>\n",
       "    </tr>\n",
       "    <tr>\n",
       "      <th>5</th>\n",
       "      <td>RFE</td>\n",
       "      <td>20.856946</td>\n",
       "    </tr>\n",
       "  </tbody>\n",
       "</table>\n",
       "</div>"
      ],
      "text/plain": [
       "                    Model      RMSE\n",
       "0       Linear Regression 19.178971\n",
       "1     SFS with 5 Features 22.471698\n",
       "2    SFS with Range(5-15) 21.905442\n",
       "3           SFS with Best 21.905442\n",
       "4  Backward SFS with Best 21.905442\n",
       "5                     RFE 20.856946"
      ]
     },
     "execution_count": 182,
     "metadata": {},
     "output_type": "execute_result"
    }
   ],
   "source": [
    "update_performance(name='RFE',model=rfe)\n",
    "perf_score"
   ]
  },
  {
   "cell_type": "code",
   "execution_count": null,
   "metadata": {},
   "outputs": [],
   "source": []
  },
  {
   "cell_type": "code",
   "execution_count": null,
   "metadata": {},
   "outputs": [],
   "source": []
  },
  {
   "cell_type": "code",
   "execution_count": 183,
   "metadata": {},
   "outputs": [],
   "source": [
    "x = df_energy.drop('Appliances', axis = 1)\n",
    "# condider the dependent cariables\n",
    "y = df_energy['Appliances']"
   ]
  },
  {
   "cell_type": "code",
   "execution_count": 185,
   "metadata": {},
   "outputs": [],
   "source": [
    "xtrain, xtest, ytrain, ytest = train_test_split(X, y, test_size=0.2,random_state=1)"
   ]
  },
  {
   "cell_type": "code",
   "execution_count": 186,
   "metadata": {},
   "outputs": [],
   "source": [
    "from sklearn.model_selection import KFold\n",
    "from sklearn.metrics import r2_score"
   ]
  },
  {
   "cell_type": "code",
   "execution_count": 187,
   "metadata": {},
   "outputs": [],
   "source": [
    "kf = KFold(n_splits=5,shuffle=True, random_state=1)"
   ]
  },
  {
   "cell_type": "code",
   "execution_count": 188,
   "metadata": {},
   "outputs": [],
   "source": [
    "lr = LinearRegression()\n",
    "prediction_ml = []\n",
    "rmse_kf = []\n",
    "\n",
    "for train_index, test_index in kf.split(xtrain):\n",
    "    kf_xtrain = xtrain.iloc[train_index]\n",
    "    kf_xtest = xtrain.iloc[test_index]\n",
    "    kf_ytrain = ytrain.iloc[train_index]\n",
    "    kf_ytest = ytrain.iloc[test_index]\n",
    "    \n",
    "    prediction_ml.append(lr.fit(kf_xtrain, kf_ytrain).predict(kf_xtest))\n",
    "    \n",
    "    \n",
    "    kfold=lr.fit(kf_xtrain,kf_ytrain)\n",
    "    pred = kfold.predict(kf_xtest)\n",
    "    rmse_kf.append(np.sqrt(mean_squared_error(kf_ytest,pred)))"
   ]
  },
  {
   "cell_type": "code",
   "execution_count": 189,
   "metadata": {},
   "outputs": [],
   "source": [
    "# we have 5 rmse score"
   ]
  },
  {
   "cell_type": "code",
   "execution_count": 190,
   "metadata": {},
   "outputs": [
    {
     "data": {
      "text/plain": [
       "[24.310374879996587,\n",
       " 22.040136676573894,\n",
       " 22.511230999603292,\n",
       " 23.647420807267284,\n",
       " 21.683217431357015]"
      ]
     },
     "execution_count": 190,
     "metadata": {},
     "output_type": "execute_result"
    }
   ],
   "source": [
    "rmse_kf"
   ]
  },
  {
   "cell_type": "code",
   "execution_count": 191,
   "metadata": {},
   "outputs": [
    {
     "data": {
      "text/html": [
       "<div>\n",
       "<style scoped>\n",
       "    .dataframe tbody tr th:only-of-type {\n",
       "        vertical-align: middle;\n",
       "    }\n",
       "\n",
       "    .dataframe tbody tr th {\n",
       "        vertical-align: top;\n",
       "    }\n",
       "\n",
       "    .dataframe thead th {\n",
       "        text-align: right;\n",
       "    }\n",
       "</style>\n",
       "<table border=\"1\" class=\"dataframe\">\n",
       "  <thead>\n",
       "    <tr style=\"text-align: right;\">\n",
       "      <th></th>\n",
       "      <th>Model</th>\n",
       "      <th>RMSE</th>\n",
       "    </tr>\n",
       "  </thead>\n",
       "  <tbody>\n",
       "    <tr>\n",
       "      <th>0</th>\n",
       "      <td>Linear Regression</td>\n",
       "      <td>19.178971</td>\n",
       "    </tr>\n",
       "    <tr>\n",
       "      <th>1</th>\n",
       "      <td>SFS with 5 Features</td>\n",
       "      <td>22.471698</td>\n",
       "    </tr>\n",
       "    <tr>\n",
       "      <th>2</th>\n",
       "      <td>SFS with Range(5-15)</td>\n",
       "      <td>21.905442</td>\n",
       "    </tr>\n",
       "    <tr>\n",
       "      <th>3</th>\n",
       "      <td>SFS with Best</td>\n",
       "      <td>21.905442</td>\n",
       "    </tr>\n",
       "    <tr>\n",
       "      <th>4</th>\n",
       "      <td>Backward SFS with Best</td>\n",
       "      <td>21.905442</td>\n",
       "    </tr>\n",
       "    <tr>\n",
       "      <th>5</th>\n",
       "      <td>RFE</td>\n",
       "      <td>20.856946</td>\n",
       "    </tr>\n",
       "    <tr>\n",
       "      <th>6</th>\n",
       "      <td>K Fold</td>\n",
       "      <td>22.838476</td>\n",
       "    </tr>\n",
       "  </tbody>\n",
       "</table>\n",
       "</div>"
      ],
      "text/plain": [
       "                    Model      RMSE\n",
       "0       Linear Regression 19.178971\n",
       "1     SFS with 5 Features 22.471698\n",
       "2    SFS with Range(5-15) 21.905442\n",
       "3           SFS with Best 21.905442\n",
       "4  Backward SFS with Best 21.905442\n",
       "5                     RFE 20.856946\n",
       "6                  K Fold 22.838476"
      ]
     },
     "execution_count": 191,
     "metadata": {},
     "output_type": "execute_result"
    }
   ],
   "source": [
    "update_performance(name = 'K Fold', model = rmse_kf)\n",
    "perf_score"
   ]
  },
  {
   "cell_type": "code",
   "execution_count": null,
   "metadata": {},
   "outputs": [],
   "source": []
  },
  {
   "cell_type": "code",
   "execution_count": 192,
   "metadata": {},
   "outputs": [],
   "source": [
    "from sklearn.model_selection import LeaveOneOut\n",
    "lr = LinearRegression()\n",
    "\n",
    "loocv = LeaveOneOut()\n",
    "\n",
    "loocv_rmse = []\n",
    "loocv_score = []\n",
    "\n",
    "\n",
    "for train_index, test_index in loocv.split(xtrain):\n",
    "    loocv_xtrain = xtrain.iloc[train_index]\n",
    "    loocv_xtest = xtrain.iloc[test_index]\n",
    "    loocv_ytrain = ytrain.iloc[train_index]\n",
    "    loocv_ytest = ytrain.iloc[test_index]\n",
    "    \n",
    "    loocv_score.append(lr.fit(loocv_xtrain, loocv_ytrain).predict(loocv_xtest))\n",
    "    \n",
    "    \n",
    "    loocv=lr.fit(loocv_xtrain,loocv_ytrain)\n",
    "    pred = loocv.predict(loocv_xtest)\n",
    "    loocv_rmse.append(np.sqrt(mean_squared_error(loocv_ytest,pred)))"
   ]
  },
  {
   "cell_type": "code",
   "execution_count": 193,
   "metadata": {},
   "outputs": [
    {
     "data": {
      "text/html": [
       "<div>\n",
       "<style scoped>\n",
       "    .dataframe tbody tr th:only-of-type {\n",
       "        vertical-align: middle;\n",
       "    }\n",
       "\n",
       "    .dataframe tbody tr th {\n",
       "        vertical-align: top;\n",
       "    }\n",
       "\n",
       "    .dataframe thead th {\n",
       "        text-align: right;\n",
       "    }\n",
       "</style>\n",
       "<table border=\"1\" class=\"dataframe\">\n",
       "  <thead>\n",
       "    <tr style=\"text-align: right;\">\n",
       "      <th></th>\n",
       "      <th>Model</th>\n",
       "      <th>RMSE</th>\n",
       "    </tr>\n",
       "  </thead>\n",
       "  <tbody>\n",
       "    <tr>\n",
       "      <th>0</th>\n",
       "      <td>Linear Regression</td>\n",
       "      <td>19.178971</td>\n",
       "    </tr>\n",
       "    <tr>\n",
       "      <th>1</th>\n",
       "      <td>SFS with 5 Features</td>\n",
       "      <td>22.471698</td>\n",
       "    </tr>\n",
       "    <tr>\n",
       "      <th>2</th>\n",
       "      <td>SFS with Range(5-15)</td>\n",
       "      <td>21.905442</td>\n",
       "    </tr>\n",
       "    <tr>\n",
       "      <th>3</th>\n",
       "      <td>SFS with Best</td>\n",
       "      <td>21.905442</td>\n",
       "    </tr>\n",
       "    <tr>\n",
       "      <th>4</th>\n",
       "      <td>Backward SFS with Best</td>\n",
       "      <td>21.905442</td>\n",
       "    </tr>\n",
       "    <tr>\n",
       "      <th>5</th>\n",
       "      <td>RFE</td>\n",
       "      <td>20.856946</td>\n",
       "    </tr>\n",
       "    <tr>\n",
       "      <th>6</th>\n",
       "      <td>K Fold</td>\n",
       "      <td>22.838476</td>\n",
       "    </tr>\n",
       "    <tr>\n",
       "      <th>7</th>\n",
       "      <td>LOOCV</td>\n",
       "      <td>16.335005</td>\n",
       "    </tr>\n",
       "  </tbody>\n",
       "</table>\n",
       "</div>"
      ],
      "text/plain": [
       "                    Model      RMSE\n",
       "0       Linear Regression 19.178971\n",
       "1     SFS with 5 Features 22.471698\n",
       "2    SFS with Range(5-15) 21.905442\n",
       "3           SFS with Best 21.905442\n",
       "4  Backward SFS with Best 21.905442\n",
       "5                     RFE 20.856946\n",
       "6                  K Fold 22.838476\n",
       "7                   LOOCV 16.335005"
      ]
     },
     "execution_count": 193,
     "metadata": {},
     "output_type": "execute_result"
    }
   ],
   "source": [
    "update_performance(name = 'LOOCV', model = loocv_rmse)\n",
    "perf_score"
   ]
  },
  {
   "cell_type": "code",
   "execution_count": null,
   "metadata": {},
   "outputs": [],
   "source": []
  },
  {
   "cell_type": "code",
   "execution_count": null,
   "metadata": {},
   "outputs": [],
   "source": []
  },
  {
   "cell_type": "code",
   "execution_count": null,
   "metadata": {},
   "outputs": [],
   "source": []
  },
  {
   "cell_type": "code",
   "execution_count": null,
   "metadata": {},
   "outputs": [],
   "source": []
  },
  {
   "cell_type": "code",
   "execution_count": null,
   "metadata": {},
   "outputs": [],
   "source": []
  },
  {
   "cell_type": "code",
   "execution_count": null,
   "metadata": {},
   "outputs": [],
   "source": []
  },
  {
   "cell_type": "code",
   "execution_count": null,
   "metadata": {},
   "outputs": [],
   "source": []
  },
  {
   "cell_type": "code",
   "execution_count": null,
   "metadata": {},
   "outputs": [],
   "source": []
  },
  {
   "cell_type": "code",
   "execution_count": null,
   "metadata": {},
   "outputs": [],
   "source": []
  },
  {
   "cell_type": "code",
   "execution_count": null,
   "metadata": {},
   "outputs": [],
   "source": []
  },
  {
   "cell_type": "code",
   "execution_count": null,
   "metadata": {},
   "outputs": [],
   "source": []
  },
  {
   "cell_type": "code",
   "execution_count": null,
   "metadata": {},
   "outputs": [],
   "source": []
  },
  {
   "cell_type": "code",
   "execution_count": null,
   "metadata": {},
   "outputs": [],
   "source": []
  },
  {
   "cell_type": "code",
   "execution_count": null,
   "metadata": {},
   "outputs": [],
   "source": []
  },
  {
   "cell_type": "code",
   "execution_count": null,
   "metadata": {},
   "outputs": [],
   "source": []
  },
  {
   "cell_type": "code",
   "execution_count": null,
   "metadata": {},
   "outputs": [],
   "source": []
  },
  {
   "cell_type": "code",
   "execution_count": null,
   "metadata": {},
   "outputs": [],
   "source": []
  },
  {
   "cell_type": "code",
   "execution_count": null,
   "metadata": {},
   "outputs": [],
   "source": []
  },
  {
   "cell_type": "code",
   "execution_count": null,
   "metadata": {},
   "outputs": [],
   "source": []
  },
  {
   "cell_type": "code",
   "execution_count": null,
   "metadata": {},
   "outputs": [],
   "source": []
  }
 ],
 "metadata": {
  "colab": {
   "provenance": []
  },
  "kernelspec": {
   "display_name": "Python 3 (ipykernel)",
   "language": "python",
   "name": "python3"
  },
  "language_info": {
   "codemirror_mode": {
    "name": "ipython",
    "version": 3
   },
   "file_extension": ".py",
   "mimetype": "text/x-python",
   "name": "python",
   "nbconvert_exporter": "python",
   "pygments_lexer": "ipython3",
   "version": "3.10.9"
  }
 },
 "nbformat": 4,
 "nbformat_minor": 1
}
