{
 "cells": [
  {
   "cell_type": "code",
   "execution_count": 49,
   "id": "dd4e12de",
   "metadata": {},
   "outputs": [],
   "source": [
    "# import 'Pandas' \n",
    "import pandas as pd \n",
    "\n",
    "# import 'Numpy' \n",
    "import numpy as np\n",
    "\n",
    "# import subpackage of Matplotlib\n",
    "import matplotlib.pyplot as plt\n",
    "from matplotlib.colors import ListedColormap\n",
    "\n",
    "# import 'Seaborn' \n",
    "import seaborn as sns\n",
    "\n",
    "# to suppress warnings \n",
    "from warnings import filterwarnings\n",
    "filterwarnings('ignore')\n",
    "\n",
    "# display all columns of the dataframe\n",
    "pd.options.display.max_columns = None\n",
    "\n",
    "# display all rows of the dataframe\n",
    "pd.options.display.max_rows = None\n",
    " \n",
    "# to display the float values upto 6 decimal places     \n",
    "pd.options.display.float_format = '{:.6f}'.format\n",
    "\n",
    "# import train-test split \n",
    "from sklearn.model_selection import train_test_split\n",
    "\n",
    "# import various functions from statsmodels\n",
    "import statsmodels\n",
    "import statsmodels.api as sm\n",
    "\n",
    "# import StandardScaler to perform scaling\n",
    "from sklearn.preprocessing import StandardScaler \n",
    "\n",
    "# import various functions from sklearn \n",
    "from sklearn import metrics\n",
    "from sklearn.linear_model import LogisticRegression,LinearRegression\n",
    "from sklearn.metrics import classification_report, recall_score\n",
    "from sklearn.metrics import cohen_kappa_score\n",
    "from sklearn.metrics import confusion_matrix\n",
    "from sklearn.metrics import roc_curve\n",
    "from sklearn.metrics import accuracy_score\n",
    "import statsmodels.api as sm\n",
    "\n",
    "# import function to perform feature selection\n",
    "from sklearn.feature_selection import RFE"
   ]
  },
  {
   "cell_type": "code",
   "execution_count": 50,
   "id": "99b12bdf",
   "metadata": {},
   "outputs": [],
   "source": [
    "def euc_dist(a,b):\n",
    "    return np.sqrt(((a[0]-b[0])**2 + (a[1]-b[1])**2 + (a[2]-b[2])**2)).round(3)\n",
    "\n",
    "def manhatan_dist(a,b):\n",
    "    return ((abs(a[0]-b[0]) + abs(a[1]-b[1]) + abs(a[2]-b[2])))"
   ]
  },
  {
   "cell_type": "code",
   "execution_count": 51,
   "id": "00fe67a8",
   "metadata": {},
   "outputs": [],
   "source": [
    "a = (3,1,4)\n",
    "b = (-1,2,0)\n",
    "c = (3,-4,-2)"
   ]
  },
  {
   "cell_type": "code",
   "execution_count": 52,
   "id": "b204568e",
   "metadata": {},
   "outputs": [
    {
     "data": {
      "text/plain": [
       "(5.745, 9)"
      ]
     },
     "execution_count": 52,
     "metadata": {},
     "output_type": "execute_result"
    }
   ],
   "source": [
    "euc_dist(a,b),manhatan_dist(a,b)"
   ]
  },
  {
   "cell_type": "code",
   "execution_count": 53,
   "id": "7268f0e2",
   "metadata": {},
   "outputs": [
    {
     "data": {
      "text/plain": [
       "(7.81, 11)"
      ]
     },
     "execution_count": 53,
     "metadata": {},
     "output_type": "execute_result"
    }
   ],
   "source": [
    "euc_dist(a,c),manhatan_dist(a,c)"
   ]
  },
  {
   "cell_type": "code",
   "execution_count": 54,
   "id": "200e8d57",
   "metadata": {},
   "outputs": [
    {
     "data": {
      "text/plain": [
       "(7.483, 12)"
      ]
     },
     "execution_count": 54,
     "metadata": {},
     "output_type": "execute_result"
    }
   ],
   "source": [
    "euc_dist(c,b),manhatan_dist(c,b)"
   ]
  },
  {
   "cell_type": "code",
   "execution_count": 55,
   "id": "ba25bd82",
   "metadata": {},
   "outputs": [
    {
     "data": {
      "text/plain": [
       "-0.08770580193070293"
      ]
     },
     "execution_count": 55,
     "metadata": {},
     "output_type": "execute_result"
    }
   ],
   "source": [
    "-1/(np.sqrt(26)*np.sqrt(5))"
   ]
  },
  {
   "cell_type": "markdown",
   "id": "04cc80cb",
   "metadata": {},
   "source": [
    "## Chebyshev"
   ]
  },
  {
   "cell_type": "code",
   "execution_count": 56,
   "id": "089df3aa",
   "metadata": {},
   "outputs": [
    {
     "data": {
      "image/png": "[encoded data removed]",
      "text/plain": [
       "<Figure size 640x480 with 1 Axes>"
      ]
     },
     "metadata": {},
     "output_type": "display_data"
    }
   ],
   "source": [
    "num = []\n",
    "res = []\n",
    "\n",
    "for i in range(1,10):\n",
    "    ress = ((abs(a[0]-b[0])**i + abs(a[1]-b[1])**i + abs(a[2]-b[2])**i)**(1/i))\n",
    "    num.append(i)\n",
    "    res.append(ress)\n",
    "plt.plot(res,num)\n",
    "plt.show()"
   ]
  },
  {
   "cell_type": "code",
   "execution_count": 57,
   "id": "977257e5",
   "metadata": {},
   "outputs": [
    {
     "data": {
      "text/plain": [
       "-0.10925355610938448"
      ]
     },
     "execution_count": 57,
     "metadata": {},
     "output_type": "execute_result"
    }
   ],
   "source": [
    "-3/(np.sqrt(26)*np.sqrt(29))"
   ]
  },
  {
   "cell_type": "code",
   "execution_count": null,
   "id": "abff12e4",
   "metadata": {},
   "outputs": [],
   "source": []
  },
  {
   "cell_type": "markdown",
   "id": "86ed190b",
   "metadata": {},
   "source": [
    "## Day3 notebook"
   ]
  },
  {
   "cell_type": "code",
   "execution_count": 119,
   "id": "8e83ce19",
   "metadata": {},
   "outputs": [],
   "source": [
    "# load the csv file\n",
    "# store the data in 'df_cancer'\n",
    "df = pd.read_csv('Admission_Predict.csv')\n",
    "x = df.drop('Chance of Admit',axis = 1)\n",
    "y = df['Chance of Admit']"
   ]
  },
  {
   "cell_type": "code",
   "execution_count": 120,
   "id": "c99a7c52",
   "metadata": {},
   "outputs": [],
   "source": [
    "xtrain,xtest,ytrain,ytest = train_test_split(x,y,test_size=0.2, random_state=1)\n",
    "\n",
    "#\n",
    "\n",
    "from sklearn.preprocessing import StandardScaler\n",
    "sc = StandardScaler()\n",
    "xtrain_sc = sc.fit_transform(xtrain)\n",
    "xtest_sc = sc.transform(xtest)"
   ]
  },
  {
   "cell_type": "markdown",
   "id": "232ec8f0",
   "metadata": {},
   "source": [
    "## KNN"
   ]
  },
  {
   "cell_type": "code",
   "execution_count": 121,
   "id": "fb48ff0f",
   "metadata": {},
   "outputs": [],
   "source": [
    "from sklearn.neighbors import KNeighborsClassifier"
   ]
  },
  {
   "cell_type": "code",
   "execution_count": 137,
   "id": "b32d381f",
   "metadata": {},
   "outputs": [
    {
     "name": "stdout",
     "output_type": "stream",
     "text": [
      "[[38  5]\n",
      " [ 5 32]]\n",
      "0.875\n",
      "Train Score 0.884375\n"
     ]
    }
   ],
   "source": [
    "knn = KNeighborsClassifier(n_neighbors = 7,p = 1)\n",
    "knn.fit(xtrain_sc, ytrain)\n",
    "ypred_knn = knn.predict(xtest_sc)\n",
    "print(confusion_matrix(ytest,ypred_knn))\n",
    "print(accuracy_score(ytest, ypred_knn))\n",
    "print('Train Score',knn.score(xtrain_sc,ytrain))\n"
   ]
  },
  {
   "cell_type": "code",
   "execution_count": 138,
   "id": "317d3cba",
   "metadata": {},
   "outputs": [
    {
     "name": "stdout",
     "output_type": "stream",
     "text": [
      "[[38  5]\n",
      " [ 5 32]]\n",
      "0.875\n",
      "Train Score 0.91875\n"
     ]
    }
   ],
   "source": [
    "knn = KNeighborsClassifier(n_neighbors=3,p = 1)\n",
    "knn.fit(xtrain_sc, ytrain)\n",
    "\n",
    "ypred_knn = knn.predict(xtest_sc)\n",
    "\n",
    "print(confusion_matrix(ytest,ypred_knn))\n",
    "print(accuracy_score(ytest, ypred_knn))\n",
    "print('Train Score',knn.score(xtrain_sc,ytrain))\n"
   ]
  },
  {
   "cell_type": "code",
   "execution_count": 131,
   "id": "36b64698",
   "metadata": {},
   "outputs": [
    {
     "name": "stdout",
     "output_type": "stream",
     "text": [
      "Best Parameters: {'n_neighbors': 7, 'p': 1}\n"
     ]
    }
   ],
   "source": [
    "xtrain,xtest,ytrain,ytest = train_test_split(x,y,test_size=0.2, random_state=1)\n",
    "sc = StandardScaler()\n",
    "xtrain_sc = sc.fit_transform(xtrain)\n",
    "xtest_sc = sc.transform(xtest)\n",
    "\n",
    "# Define the parameter grid\n",
    "param_grid = {\n",
    "    'n_neighbors': [3,4,7],\n",
    "    'p': [1,2]\n",
    "}\n",
    "\n",
    "# Create the KNN classifier\n",
    "knn = KNeighborsClassifier()\n",
    "\n",
    "# Create the GridSearchCV object\n",
    "grid_search = GridSearchCV(knn, param_grid, cv=5,scoring='accuracy')  # You can adjust the number of cross-validation folds (cv) as needed\n",
    "grid_search.fit(xtrain_sc, ytrain)\n",
    "\n",
    "# Get the best estimator and its parameters\n",
    "best_params = grid_search.best_params_\n",
    "\n",
    "# Print the best parameters and accuracy\n",
    "print(\"Best Parameters:\", best_params)"
   ]
  },
  {
   "cell_type": "code",
   "execution_count": 133,
   "id": "b37f38b0",
   "metadata": {},
   "outputs": [
    {
     "name": "stdout",
     "output_type": "stream",
     "text": [
      "[[38  5]\n",
      " [ 4 33]]\n",
      "0.8875\n",
      "Train Score 0.91875\n"
     ]
    }
   ],
   "source": [
    "#without weight\n",
    "knn = KNeighborsClassifier(n_neighbors=3,p = 2)\n",
    "knn.fit(xtrain_sc, ytrain)\n",
    "\n",
    "ypred_knn = knn.predict(xtest_sc)\n",
    "\n",
    "print(confusion_matrix(ytest,ypred_knn))\n",
    "print(accuracy_score(ytest, ypred_knn))\n",
    "print('Train Score',knn.score(xtrain_sc,ytrain))\n"
   ]
  },
  {
   "cell_type": "code",
   "execution_count": 115,
   "id": "d000bd44",
   "metadata": {},
   "outputs": [
    {
     "name": "stdout",
     "output_type": "stream",
     "text": [
      "[[38  5]\n",
      " [ 4 33]]\n",
      "0.8875\n"
     ]
    }
   ],
   "source": [
    "#with weight\n",
    "knn = KNeighborsClassifier(n_neighbors=3,p = 2,weights='distance')\n",
    "knn.fit(xtrain_sc, ytrain)\n",
    "\n",
    "ypred_knn = knn.predict(xtest_sc)\n",
    "\n",
    "print(confusion_matrix(ytest,ypred_knn))\n",
    "print(accuracy_score(ytest, ypred_knn))\n"
   ]
  },
  {
   "cell_type": "code",
   "execution_count": 117,
   "id": "ccf381ad",
   "metadata": {},
   "outputs": [
    {
     "name": "stdout",
     "output_type": "stream",
     "text": [
      "1.0\n"
     ]
    }
   ],
   "source": [
    "print(knn.score(xtrain_sc,ytrain))"
   ]
  },
  {
   "cell_type": "code",
   "execution_count": 118,
   "id": "fe272978",
   "metadata": {},
   "outputs": [
    {
     "name": "stdout",
     "output_type": "stream",
     "text": [
      "0.8875\n"
     ]
    }
   ],
   "source": [
    "print(knn.score(xtest_sc,ytest))"
   ]
  },
  {
   "cell_type": "markdown",
   "id": "663d6e39",
   "metadata": {},
   "source": [
    "### Naive Bayes Theorem"
   ]
  },
  {
   "cell_type": "code",
   "execution_count": 161,
   "id": "89d0e765",
   "metadata": {},
   "outputs": [],
   "source": [
    "df = pd.read_csv('Admission_Predict.csv')\n",
    "x = df.drop('Chance of Admit',axis = 1)\n",
    "y = df['Chance of Admit']\n",
    "\n",
    "xtrain, xtest, ytrain, ytest = train_test_split(x, y, test_size=0.2, random_state=1)"
   ]
  },
  {
   "cell_type": "code",
   "execution_count": 162,
   "id": "38bfa11b",
   "metadata": {},
   "outputs": [],
   "source": [
    "from sklearn.naive_bayes import GaussianNB, MultinomialNB, BernoulliNB"
   ]
  },
  {
   "cell_type": "code",
   "execution_count": 163,
   "id": "cd6b83d5",
   "metadata": {},
   "outputs": [
    {
     "name": "stdout",
     "output_type": "stream",
     "text": [
      "[[40  3]\n",
      " [ 5 32]]\n",
      "0.9\n"
     ]
    }
   ],
   "source": [
    "model = GaussianNB()\n",
    "model.fit(xtrain, ytrain)\n",
    "\n",
    "ypred_knn = model.predict(xtest)\n",
    "\n",
    "print(confusion_matrix(ytest,ypred_knn))\n",
    "print(accuracy_score(ytest, ypred_knn))\n"
   ]
  },
  {
   "cell_type": "code",
   "execution_count": 164,
   "id": "f4f5f997",
   "metadata": {},
   "outputs": [
    {
     "name": "stdout",
     "output_type": "stream",
     "text": [
      "[[28 15]\n",
      " [ 6 31]]\n",
      "0.7375\n"
     ]
    }
   ],
   "source": [
    "model = BernoulliNB()\n",
    "model.fit(xtrain, ytrain)\n",
    "\n",
    "ypred_knn = model.predict(xtest)\n",
    "\n",
    "print(confusion_matrix(ytest,ypred_knn))\n",
    "print(accuracy_score(ytest, ypred_knn))\n"
   ]
  },
  {
   "cell_type": "code",
   "execution_count": 165,
   "id": "faa29932",
   "metadata": {},
   "outputs": [
    {
     "name": "stdout",
     "output_type": "stream",
     "text": [
      "[[25 18]\n",
      " [23 14]]\n",
      "0.4875\n"
     ]
    }
   ],
   "source": [
    "model = MultinomialNB()\n",
    "model.fit(xtrain, ytrain)\n",
    "\n",
    "ypred_knn = model.predict(xtest)\n",
    "\n",
    "print(confusion_matrix(ytest,ypred_knn))\n",
    "print(accuracy_score(ytest, ypred_knn))\n"
   ]
  },
  {
   "cell_type": "code",
   "execution_count": null,
   "id": "ab8b3da4",
   "metadata": {},
   "outputs": [],
   "source": []
  },
  {
   "cell_type": "code",
   "execution_count": null,
   "id": "0a977eab",
   "metadata": {},
   "outputs": [],
   "source": []
  },
  {
   "cell_type": "code",
   "execution_count": null,
   "id": "05c1acf3",
   "metadata": {},
   "outputs": [],
   "source": []
  },
  {
   "cell_type": "code",
   "execution_count": null,
   "id": "f89e703b",
   "metadata": {},
   "outputs": [],
   "source": []
  },
  {
   "cell_type": "code",
   "execution_count": null,
   "id": "8e693edb",
   "metadata": {},
   "outputs": [],
   "source": []
  },
  {
   "cell_type": "code",
   "execution_count": null,
   "id": "553d5ef0",
   "metadata": {},
   "outputs": [],
   "source": []
  },
  {
   "cell_type": "code",
   "execution_count": null,
   "id": "7b21808d",
   "metadata": {},
   "outputs": [],
   "source": []
  },
  {
   "cell_type": "code",
   "execution_count": null,
   "id": "d75da82b",
   "metadata": {},
   "outputs": [],
   "source": []
  }
 ],
 "metadata": {
  "kernelspec": {
   "display_name": "Python 3 (ipykernel)",
   "language": "python",
   "name": "python3"
  },
  "language_info": {
   "codemirror_mode": {
    "name": "ipython",
    "version": 3
   },
   "file_extension": ".py",
   "mimetype": "text/x-python",
   "name": "python",
   "nbconvert_exporter": "python",
   "pygments_lexer": "ipython3",
   "version": "3.10.9"
  }
 },
 "nbformat": 4,
 "nbformat_minor": 5
}
