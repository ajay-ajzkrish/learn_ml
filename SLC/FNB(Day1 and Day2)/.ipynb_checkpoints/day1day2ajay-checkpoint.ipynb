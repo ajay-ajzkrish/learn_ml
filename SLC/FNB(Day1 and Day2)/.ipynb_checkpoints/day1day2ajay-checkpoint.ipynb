{
 "cells": [
  {
   "cell_type": "code",
   "execution_count": 34,
   "id": "294d2b8b",
   "metadata": {},
   "outputs": [],
   "source": [
    "# import 'Pandas' \n",
    "import pandas as pd \n",
    "\n",
    "# import 'Numpy' \n",
    "import numpy as np\n",
    "\n",
    "# import subpackage of Matplotlib\n",
    "import matplotlib.pyplot as plt\n",
    "from matplotlib.colors import ListedColormap\n",
    "\n",
    "# import 'Seaborn' \n",
    "import seaborn as sns\n",
    "\n",
    "# to suppress warnings \n",
    "from warnings import filterwarnings\n",
    "filterwarnings('ignore')\n",
    "\n",
    "# display all columns of the dataframe\n",
    "pd.options.display.max_columns = None\n",
    "\n",
    "# display all rows of the dataframe\n",
    "pd.options.display.max_rows = None\n",
    " \n",
    "# to display the float values upto 6 decimal places     \n",
    "pd.options.display.float_format = '{:.6f}'.format\n",
    "\n",
    "# import train-test split \n",
    "from sklearn.model_selection import train_test_split\n",
    "\n",
    "# import various functions from statsmodels\n",
    "import statsmodels\n",
    "import statsmodels.api as sm\n",
    "\n",
    "# import StandardScaler to perform scaling\n",
    "from sklearn.preprocessing import StandardScaler \n",
    "\n",
    "# import various functions from sklearn \n",
    "from sklearn import metrics\n",
    "from sklearn.linear_model import LogisticRegression,LinearRegression\n",
    "from sklearn.metrics import classification_report, recall_score\n",
    "from sklearn.metrics import cohen_kappa_score\n",
    "from sklearn.metrics import confusion_matrix\n",
    "from sklearn.metrics import roc_curve\n",
    "from sklearn.metrics import accuracy_score\n",
    "import statsmodels.api as sm\n",
    "\n",
    "# import function to perform feature selection\n",
    "from sklearn.feature_selection import RFE"
   ]
  },
  {
   "cell_type": "code",
   "execution_count": 2,
   "id": "58ca6b10",
   "metadata": {},
   "outputs": [
    {
     "data": {
      "text/html": [
       "<div>\n",
       "<style scoped>\n",
       "    .dataframe tbody tr th:only-of-type {\n",
       "        vertical-align: middle;\n",
       "    }\n",
       "\n",
       "    .dataframe tbody tr th {\n",
       "        vertical-align: top;\n",
       "    }\n",
       "\n",
       "    .dataframe thead th {\n",
       "        text-align: right;\n",
       "    }\n",
       "</style>\n",
       "<table border=\"1\" class=\"dataframe\">\n",
       "  <thead>\n",
       "    <tr style=\"text-align: right;\">\n",
       "      <th></th>\n",
       "      <th>GRE Score</th>\n",
       "      <th>TOEFL Score</th>\n",
       "      <th>University Rating</th>\n",
       "      <th>SOP</th>\n",
       "      <th>LOR</th>\n",
       "      <th>CGPA</th>\n",
       "      <th>Research</th>\n",
       "      <th>Chance of Admit</th>\n",
       "    </tr>\n",
       "  </thead>\n",
       "  <tbody>\n",
       "    <tr>\n",
       "      <th>0</th>\n",
       "      <td>337</td>\n",
       "      <td>118</td>\n",
       "      <td>4</td>\n",
       "      <td>4.500000</td>\n",
       "      <td>4.500000</td>\n",
       "      <td>9.650000</td>\n",
       "      <td>1</td>\n",
       "      <td>1</td>\n",
       "    </tr>\n",
       "    <tr>\n",
       "      <th>1</th>\n",
       "      <td>324</td>\n",
       "      <td>107</td>\n",
       "      <td>4</td>\n",
       "      <td>4.000000</td>\n",
       "      <td>4.500000</td>\n",
       "      <td>8.870000</td>\n",
       "      <td>1</td>\n",
       "      <td>1</td>\n",
       "    </tr>\n",
       "    <tr>\n",
       "      <th>2</th>\n",
       "      <td>316</td>\n",
       "      <td>104</td>\n",
       "      <td>3</td>\n",
       "      <td>3.000000</td>\n",
       "      <td>3.500000</td>\n",
       "      <td>8.000000</td>\n",
       "      <td>1</td>\n",
       "      <td>0</td>\n",
       "    </tr>\n",
       "    <tr>\n",
       "      <th>3</th>\n",
       "      <td>322</td>\n",
       "      <td>110</td>\n",
       "      <td>3</td>\n",
       "      <td>3.500000</td>\n",
       "      <td>2.500000</td>\n",
       "      <td>8.670000</td>\n",
       "      <td>1</td>\n",
       "      <td>1</td>\n",
       "    </tr>\n",
       "    <tr>\n",
       "      <th>4</th>\n",
       "      <td>314</td>\n",
       "      <td>103</td>\n",
       "      <td>2</td>\n",
       "      <td>2.000000</td>\n",
       "      <td>3.000000</td>\n",
       "      <td>8.210000</td>\n",
       "      <td>0</td>\n",
       "      <td>0</td>\n",
       "    </tr>\n",
       "  </tbody>\n",
       "</table>\n",
       "</div>"
      ],
      "text/plain": [
       "   GRE Score  TOEFL Score  University Rating      SOP      LOR     CGPA  \\\n",
       "0        337          118                  4 4.500000 4.500000 9.650000   \n",
       "1        324          107                  4 4.000000 4.500000 8.870000   \n",
       "2        316          104                  3 3.000000 3.500000 8.000000   \n",
       "3        322          110                  3 3.500000 2.500000 8.670000   \n",
       "4        314          103                  2 2.000000 3.000000 8.210000   \n",
       "\n",
       "   Research  Chance of Admit  \n",
       "0         1                1  \n",
       "1         1                1  \n",
       "2         1                0  \n",
       "3         1                1  \n",
       "4         0                0  "
      ]
     },
     "execution_count": 2,
     "metadata": {},
     "output_type": "execute_result"
    }
   ],
   "source": [
    "df_admissions = pd.read_csv('Admission_predict.csv')\n",
    "df = df_admissions.drop(['Serial No.'], axis = 1)\n",
    "df.head()"
   ]
  },
  {
   "cell_type": "code",
   "execution_count": 3,
   "id": "dac8cbc0",
   "metadata": {},
   "outputs": [
    {
     "data": {
      "text/plain": [
       "(400, 8)"
      ]
     },
     "execution_count": 3,
     "metadata": {},
     "output_type": "execute_result"
    }
   ],
   "source": [
    "df.shape"
   ]
  },
  {
   "cell_type": "code",
   "execution_count": 4,
   "id": "93c67ed4",
   "metadata": {},
   "outputs": [
    {
     "data": {
      "text/plain": [
       "0"
      ]
     },
     "execution_count": 4,
     "metadata": {},
     "output_type": "execute_result"
    }
   ],
   "source": [
    "df.isnull().sum().sum()"
   ]
  },
  {
   "cell_type": "code",
   "execution_count": 5,
   "id": "1b5d0fb0",
   "metadata": {},
   "outputs": [
    {
     "data": {
      "text/plain": [
       "GRE Score              int64\n",
       "TOEFL Score            int64\n",
       "University Rating      int64\n",
       "SOP                  float64\n",
       "LOR                  float64\n",
       "CGPA                 float64\n",
       "Research               int64\n",
       "Chance of Admit        int64\n",
       "dtype: object"
      ]
     },
     "execution_count": 5,
     "metadata": {},
     "output_type": "execute_result"
    }
   ],
   "source": [
    "df.dtypes"
   ]
  },
  {
   "cell_type": "code",
   "execution_count": 6,
   "id": "0c049014",
   "metadata": {},
   "outputs": [
    {
     "data": {
      "text/plain": [
       "0    220\n",
       "1    180\n",
       "Name: Chance of Admit, dtype: int64"
      ]
     },
     "execution_count": 6,
     "metadata": {},
     "output_type": "execute_result"
    }
   ],
   "source": [
    "df['Chance of Admit'].value_counts()"
   ]
  },
  {
   "cell_type": "code",
   "execution_count": 7,
   "id": "bdb5eb02",
   "metadata": {},
   "outputs": [],
   "source": [
    "x = df.drop('Chance of Admit',axis = 1)\n",
    "y = df['Chance of Admit']\n",
    "xc = sm.add_constant(x)"
   ]
  },
  {
   "cell_type": "code",
   "execution_count": 8,
   "id": "042b1906",
   "metadata": {},
   "outputs": [],
   "source": [
    "xtrain,xtest,ytrain,ytest = train_test_split(xc,y,test_size=0.2, random_state=1)"
   ]
  },
  {
   "cell_type": "code",
   "execution_count": 9,
   "id": "9bbcfa73",
   "metadata": {},
   "outputs": [
    {
     "name": "stdout",
     "output_type": "stream",
     "text": [
      "Optimization terminated successfully.\n",
      "         Current function value: 0.269228\n",
      "         Iterations 8\n"
     ]
    },
    {
     "data": {
      "text/html": [
       "<table class=\"simpletable\">\n",
       "<caption>Logit Regression Results</caption>\n",
       "<tr>\n",
       "  <th>Dep. Variable:</th>    <td>Chance of Admit</td> <th>  No. Observations:  </th>  <td>   320</td>  \n",
       "</tr>\n",
       "<tr>\n",
       "  <th>Model:</th>                 <td>Logit</td>      <th>  Df Residuals:      </th>  <td>   312</td>  \n",
       "</tr>\n",
       "<tr>\n",
       "  <th>Method:</th>                 <td>MLE</td>       <th>  Df Model:          </th>  <td>     7</td>  \n",
       "</tr>\n",
       "<tr>\n",
       "  <th>Date:</th>            <td>Tue, 05 Sep 2023</td> <th>  Pseudo R-squ.:     </th>  <td>0.6084</td>  \n",
       "</tr>\n",
       "<tr>\n",
       "  <th>Time:</th>                <td>09:35:00</td>     <th>  Log-Likelihood:    </th> <td> -86.153</td> \n",
       "</tr>\n",
       "<tr>\n",
       "  <th>converged:</th>             <td>True</td>       <th>  LL-Null:           </th> <td> -220.00</td> \n",
       "</tr>\n",
       "<tr>\n",
       "  <th>Covariance Type:</th>     <td>nonrobust</td>    <th>  LLR p-value:       </th> <td>4.733e-54</td>\n",
       "</tr>\n",
       "</table>\n",
       "<table class=\"simpletable\">\n",
       "<tr>\n",
       "          <td></td>             <th>coef</th>     <th>std err</th>      <th>z</th>      <th>P>|z|</th>  <th>[0.025</th>    <th>0.975]</th>  \n",
       "</tr>\n",
       "<tr>\n",
       "  <th>const</th>             <td>  -56.2064</td> <td>    9.808</td> <td>   -5.731</td> <td> 0.000</td> <td>  -75.430</td> <td>  -36.983</td>\n",
       "</tr>\n",
       "<tr>\n",
       "  <th>GRE Score</th>         <td>    0.0348</td> <td>    0.035</td> <td>    0.986</td> <td> 0.324</td> <td>   -0.034</td> <td>    0.104</td>\n",
       "</tr>\n",
       "<tr>\n",
       "  <th>TOEFL Score</th>       <td>    0.1039</td> <td>    0.062</td> <td>    1.669</td> <td> 0.095</td> <td>   -0.018</td> <td>    0.226</td>\n",
       "</tr>\n",
       "<tr>\n",
       "  <th>University Rating</th> <td>    0.2515</td> <td>    0.303</td> <td>    0.831</td> <td> 0.406</td> <td>   -0.342</td> <td>    0.845</td>\n",
       "</tr>\n",
       "<tr>\n",
       "  <th>SOP</th>               <td>    0.4403</td> <td>    0.358</td> <td>    1.228</td> <td> 0.219</td> <td>   -0.262</td> <td>    1.143</td>\n",
       "</tr>\n",
       "<tr>\n",
       "  <th>LOR</th>               <td>    0.2629</td> <td>    0.321</td> <td>    0.820</td> <td> 0.412</td> <td>   -0.365</td> <td>    0.891</td>\n",
       "</tr>\n",
       "<tr>\n",
       "  <th>CGPA</th>              <td>    3.4887</td> <td>    0.804</td> <td>    4.340</td> <td> 0.000</td> <td>    1.913</td> <td>    5.064</td>\n",
       "</tr>\n",
       "<tr>\n",
       "  <th>Research</th>          <td>    0.7388</td> <td>    0.432</td> <td>    1.712</td> <td> 0.087</td> <td>   -0.107</td> <td>    1.585</td>\n",
       "</tr>\n",
       "</table>"
      ],
      "text/plain": [
       "<class 'statsmodels.iolib.summary.Summary'>\n",
       "\"\"\"\n",
       "                           Logit Regression Results                           \n",
       "==============================================================================\n",
       "Dep. Variable:        Chance of Admit   No. Observations:                  320\n",
       "Model:                          Logit   Df Residuals:                      312\n",
       "Method:                           MLE   Df Model:                            7\n",
       "Date:                Tue, 05 Sep 2023   Pseudo R-squ.:                  0.6084\n",
       "Time:                        09:35:00   Log-Likelihood:                -86.153\n",
       "converged:                       True   LL-Null:                       -220.00\n",
       "Covariance Type:            nonrobust   LLR p-value:                 4.733e-54\n",
       "=====================================================================================\n",
       "                        coef    std err          z      P>|z|      [0.025      0.975]\n",
       "-------------------------------------------------------------------------------------\n",
       "const               -56.2064      9.808     -5.731      0.000     -75.430     -36.983\n",
       "GRE Score             0.0348      0.035      0.986      0.324      -0.034       0.104\n",
       "TOEFL Score           0.1039      0.062      1.669      0.095      -0.018       0.226\n",
       "University Rating     0.2515      0.303      0.831      0.406      -0.342       0.845\n",
       "SOP                   0.4403      0.358      1.228      0.219      -0.262       1.143\n",
       "LOR                   0.2629      0.321      0.820      0.412      -0.365       0.891\n",
       "CGPA                  3.4887      0.804      4.340      0.000       1.913       5.064\n",
       "Research              0.7388      0.432      1.712      0.087      -0.107       1.585\n",
       "=====================================================================================\n",
       "\"\"\""
      ]
     },
     "execution_count": 9,
     "metadata": {},
     "output_type": "execute_result"
    }
   ],
   "source": [
    "# Fit the OLS model\n",
    "logreg = sm.Logit(ytrain, xtrain).fit()\n",
    "\n",
    "# Print the summary\n",
    "logreg.summary()\n",
    "# Make sure to replace X and y with your actual data."
   ]
  },
  {
   "cell_type": "code",
   "execution_count": 10,
   "id": "51fbb464",
   "metadata": {},
   "outputs": [
    {
     "data": {
      "text/plain": [
       "const                0.000000\n",
       "GRE Score            1.035379\n",
       "TOEFL Score          1.109467\n",
       "University Rating    1.285971\n",
       "SOP                  1.553118\n",
       "LOR                  1.300654\n",
       "CGPA                32.744813\n",
       "Research             2.093510\n",
       "dtype: float64"
      ]
     },
     "execution_count": 10,
     "metadata": {},
     "output_type": "execute_result"
    }
   ],
   "source": [
    "np.exp(logreg.params)"
   ]
  },
  {
   "cell_type": "code",
   "execution_count": 11,
   "id": "00efd506",
   "metadata": {},
   "outputs": [
    {
     "data": {
      "text/plain": [
       "398   0.335967\n",
       "125   0.117820\n",
       "328   0.847480\n",
       "339   0.726041\n",
       "172   0.956392\n",
       "dtype: float64"
      ]
     },
     "execution_count": 11,
     "metadata": {},
     "output_type": "execute_result"
    }
   ],
   "source": [
    "ypred_prob = logreg.predict(xtest)\n",
    "ypred_prob[0:5]"
   ]
  },
  {
   "cell_type": "code",
   "execution_count": 12,
   "id": "9abee5d3",
   "metadata": {},
   "outputs": [
    {
     "data": {
      "text/plain": [
       "[0, 0, 1, 1, 1]"
      ]
     },
     "execution_count": 12,
     "metadata": {},
     "output_type": "execute_result"
    }
   ],
   "source": [
    "ypred = [0 if x < 0.5 else 1 for x in ypred_prob]\n",
    "ypred[0:5]"
   ]
  },
  {
   "cell_type": "code",
   "execution_count": 13,
   "id": "05210fb8",
   "metadata": {},
   "outputs": [
    {
     "data": {
      "text/plain": [
       "398    0\n",
       "125    0\n",
       "328    1\n",
       "339    1\n",
       "172    1\n",
       "Name: Chance of Admit, dtype: int64"
      ]
     },
     "execution_count": 13,
     "metadata": {},
     "output_type": "execute_result"
    }
   ],
   "source": [
    "ytest[0:5]"
   ]
  },
  {
   "cell_type": "code",
   "execution_count": 14,
   "id": "2aa9568a",
   "metadata": {},
   "outputs": [
    {
     "data": {
      "text/plain": [
       "Chance of Admit\n",
       "True               72\n",
       "False               8\n",
       "dtype: int64"
      ]
     },
     "execution_count": 14,
     "metadata": {},
     "output_type": "execute_result"
    }
   ],
   "source": [
    "pd.DataFrame(ytest == ypred).value_counts()"
   ]
  },
  {
   "cell_type": "code",
   "execution_count": 15,
   "id": "df9d69be",
   "metadata": {},
   "outputs": [
    {
     "data": {
      "text/plain": [
       "array([[40,  3],\n",
       "       [ 5, 32]], dtype=int64)"
      ]
     },
     "execution_count": 15,
     "metadata": {},
     "output_type": "execute_result"
    }
   ],
   "source": [
    "cm = confusion_matrix(ytest, ypred)\n",
    "cm"
   ]
  },
  {
   "cell_type": "code",
   "execution_count": 16,
   "id": "81cff667",
   "metadata": {},
   "outputs": [],
   "source": [
    "tn,fp,fn,tp = cm[0][0], cm[0][1], cm[1][0], cm[1][1]"
   ]
  },
  {
   "cell_type": "code",
   "execution_count": 17,
   "id": "ed16ba75",
   "metadata": {},
   "outputs": [
    {
     "data": {
      "text/plain": [
       "0.9"
      ]
     },
     "execution_count": 17,
     "metadata": {},
     "output_type": "execute_result"
    }
   ],
   "source": [
    "accuracy = (tn+tp)/(tn+fp+fn+tp)\n",
    "accuracy"
   ]
  },
  {
   "cell_type": "code",
   "execution_count": 18,
   "id": "dea622e9",
   "metadata": {},
   "outputs": [
    {
     "data": {
      "text/plain": [
       "0.9"
      ]
     },
     "execution_count": 18,
     "metadata": {},
     "output_type": "execute_result"
    }
   ],
   "source": [
    "accuracy_score(ytest, ypred)"
   ]
  },
  {
   "cell_type": "code",
   "execution_count": 19,
   "id": "f830fb87",
   "metadata": {},
   "outputs": [
    {
     "name": "stdout",
     "output_type": "stream",
     "text": [
      "specificity 0.9302325581395349\n"
     ]
    }
   ],
   "source": [
    "specificity = tn/(tn+fp)\n",
    "print(\"specificity\",specificity)"
   ]
  },
  {
   "cell_type": "code",
   "execution_count": 20,
   "id": "476e6782",
   "metadata": {},
   "outputs": [
    {
     "name": "stdout",
     "output_type": "stream",
     "text": [
      "sensitivity 0.8648648648648649\n"
     ]
    }
   ],
   "source": [
    "sensitivity = tp/(tp+fn)\n",
    "print(\"sensitivity\",sensitivity)"
   ]
  },
  {
   "cell_type": "code",
   "execution_count": 21,
   "id": "754549bf",
   "metadata": {},
   "outputs": [
    {
     "data": {
      "text/plain": [
       "0.8648648648648649"
      ]
     },
     "execution_count": 21,
     "metadata": {},
     "output_type": "execute_result"
    }
   ],
   "source": [
    "recall_score(ytest, ypred) #gives sensitivity"
   ]
  },
  {
   "cell_type": "code",
   "execution_count": 22,
   "id": "feacb495",
   "metadata": {},
   "outputs": [
    {
     "name": "stdout",
     "output_type": "stream",
     "text": [
      "precision_n 0.8888888888888888\n"
     ]
    }
   ],
   "source": [
    "# precision negative\n",
    "precision_n = tn/(tn+fn)\n",
    "print('precision_n',precision_n)"
   ]
  },
  {
   "cell_type": "code",
   "execution_count": 23,
   "id": "da90cc19",
   "metadata": {},
   "outputs": [
    {
     "name": "stdout",
     "output_type": "stream",
     "text": [
      "precision_p 0.9142857142857143\n"
     ]
    }
   ],
   "source": [
    "# precision positive\n",
    "precision_p = tp/(tp+fp)\n",
    "print('precision_p',precision_p)"
   ]
  },
  {
   "cell_type": "code",
   "execution_count": 24,
   "id": "8a65ce58",
   "metadata": {},
   "outputs": [
    {
     "name": "stdout",
     "output_type": "stream",
     "text": [
      "f1score_n 0.909\n"
     ]
    }
   ],
   "source": [
    "f1score_n = 2*(precision_n)*(specificity)/(precision_n+specificity)\n",
    "print(\"f1score_n\",f1score_n.round(3))"
   ]
  },
  {
   "cell_type": "code",
   "execution_count": 25,
   "id": "99b7174f",
   "metadata": {},
   "outputs": [
    {
     "name": "stdout",
     "output_type": "stream",
     "text": [
      "f1score_p 0.889\n"
     ]
    }
   ],
   "source": [
    "f1score_p = 2*(precision_p)*(sensitivity)/(precision_p+sensitivity)\n",
    "print(\"f1score_p\",f1score_p.round(3))"
   ]
  },
  {
   "cell_type": "code",
   "execution_count": 26,
   "id": "579ab27d",
   "metadata": {},
   "outputs": [],
   "source": [
    "# weight_avg_precision = ((precision_n * ytest.value_counts()[0]) + (precision_p * ytest.value_counts()[1]))/len(ytest)\n",
    "# weight_avg_recall = ((specificity * ytest.value_counts()[0]) + (sensitivity * ytest.value_counts()[1]))/len(ytest)"
   ]
  },
  {
   "cell_type": "code",
   "execution_count": 27,
   "id": "8ef9d675",
   "metadata": {},
   "outputs": [],
   "source": [
    "# weight_avg_precision,weight_avg_recall"
   ]
  },
  {
   "cell_type": "code",
   "execution_count": 28,
   "id": "befbbe0e",
   "metadata": {},
   "outputs": [
    {
     "name": "stdout",
     "output_type": "stream",
     "text": [
      "              precision    recall  f1-score   support\n",
      "\n",
      "           0       0.89      0.93      0.91        43\n",
      "           1       0.91      0.86      0.89        37\n",
      "\n",
      "    accuracy                           0.90        80\n",
      "   macro avg       0.90      0.90      0.90        80\n",
      "weighted avg       0.90      0.90      0.90        80\n",
      "\n"
     ]
    }
   ],
   "source": [
    "print(classification_report(ytest, ypred))"
   ]
  },
  {
   "cell_type": "code",
   "execution_count": 29,
   "id": "df3f2cb6",
   "metadata": {},
   "outputs": [
    {
     "data": {
      "text/plain": [
       "3.604365338911715"
      ]
     },
     "execution_count": 29,
     "metadata": {},
     "output_type": "execute_result"
    }
   ],
   "source": [
    "from sklearn.metrics import log_loss\n",
    "log_loss(ytest, ypred)"
   ]
  },
  {
   "cell_type": "code",
   "execution_count": 37,
   "id": "718ad5ad",
   "metadata": {},
   "outputs": [],
   "source": [
    "xtrain,xtest,ytrain,ytest = train_test_split(x,y,test_size=0.2, random_state=1)"
   ]
  },
  {
   "cell_type": "code",
   "execution_count": 40,
   "id": "269583ad",
   "metadata": {},
   "outputs": [],
   "source": [
    "lr = LogisticRegression()\n",
    "lr.fit(xtrain, ytrain)\n",
    "ypred_lr = lr.predict(xtest)"
   ]
  },
  {
   "cell_type": "code",
   "execution_count": 43,
   "id": "57985f04",
   "metadata": {},
   "outputs": [
    {
     "data": {
      "text/plain": [
       "0.875"
      ]
     },
     "execution_count": 43,
     "metadata": {},
     "output_type": "execute_result"
    }
   ],
   "source": [
    "accuracy_score(ytest,ypred_lr)"
   ]
  },
  {
   "cell_type": "code",
   "execution_count": 47,
   "id": "38a86b12",
   "metadata": {},
   "outputs": [
    {
     "data": {
      "text/plain": [
       "array([0, 1, 1, 1, 1, 0, 0, 0], dtype=int64)"
      ]
     },
     "execution_count": 47,
     "metadata": {},
     "output_type": "execute_result"
    }
   ],
   "source": [
    "ypred_lr[0:8]"
   ]
  },
  {
   "cell_type": "code",
   "execution_count": 44,
   "id": "1ce0607e",
   "metadata": {},
   "outputs": [
    {
     "data": {
      "text/plain": [
       "array([[0.66007857, 0.33992143],\n",
       "       [0.27295706, 0.72704294],\n",
       "       [0.21346948, 0.78653052],\n",
       "       [0.23764451, 0.76235549],\n",
       "       [0.08093936, 0.91906064],\n",
       "       [0.81932527, 0.18067473],\n",
       "       [0.89621937, 0.10378063],\n",
       "       [0.96480295, 0.03519705]])"
      ]
     },
     "execution_count": 44,
     "metadata": {},
     "output_type": "execute_result"
    }
   ],
   "source": [
    "ypred_prob_lr = lr.predict_proba(xtest)\n",
    "ypred_prob_lr[0:8]"
   ]
  },
  {
   "cell_type": "code",
   "execution_count": 50,
   "id": "14128229",
   "metadata": {},
   "outputs": [],
   "source": [
    "from sklearn.metrics import roc_curve, roc_auc_score"
   ]
  },
  {
   "cell_type": "code",
   "execution_count": 61,
   "id": "f19ad582",
   "metadata": {},
   "outputs": [
    {
     "data": {
      "text/plain": [
       "(array([0.        , 0.        , 0.        , 0.02325581, 0.02325581,\n",
       "        0.04651163, 0.04651163, 0.06976744, 0.06976744, 0.09302326,\n",
       "        0.09302326, 0.18604651, 0.18604651, 0.27906977, 0.27906977,\n",
       "        0.37209302, 0.37209302, 0.53488372, 0.53488372, 1.        ]),\n",
       " array([0.        , 0.02702703, 0.7027027 , 0.7027027 , 0.75675676,\n",
       "        0.75675676, 0.78378378, 0.78378378, 0.81081081, 0.81081081,\n",
       "        0.89189189, 0.89189189, 0.91891892, 0.91891892, 0.94594595,\n",
       "        0.94594595, 0.97297297, 0.97297297, 1.        , 1.        ]),\n",
       " array([1.98716119e+00, 9.87161191e-01, 7.58409161e-01, 7.27042942e-01,\n",
       "        6.83404293e-01, 6.67981701e-01, 6.62004209e-01, 6.47032754e-01,\n",
       "        6.45489565e-01, 6.35439512e-01, 4.48071793e-01, 4.11429643e-01,\n",
       "        4.07120976e-01, 3.28727663e-01, 3.21433176e-01, 3.03875726e-01,\n",
       "        2.80009213e-01, 1.95287617e-01, 1.89269034e-01, 1.81234306e-03]))"
      ]
     },
     "execution_count": 61,
     "metadata": {},
     "output_type": "execute_result"
    }
   ],
   "source": [
    "roc_curve(ytest, ypred_prob_lr[:,1])"
   ]
  },
  {
   "cell_type": "code",
   "execution_count": 62,
   "id": "de94740a",
   "metadata": {},
   "outputs": [],
   "source": [
    "fpr,tpr,threshold = roc_curve(ytest, ypred_prob_lr[:,1])"
   ]
  },
  {
   "cell_type": "code",
   "execution_count": 63,
   "id": "c4b3f29c",
   "metadata": {},
   "outputs": [],
   "source": [
    "roc_df = pd.DataFrame(roc_curve(ytest, ypred_prob_lr[:,1])).T\n",
    "roc_df.columns = ['FPR','TPR','Threshold']"
   ]
  },
  {
   "cell_type": "code",
   "execution_count": 64,
   "id": "c822fcf6",
   "metadata": {},
   "outputs": [
    {
     "data": {
      "text/html": [
       "<div>\n",
       "<style scoped>\n",
       "    .dataframe tbody tr th:only-of-type {\n",
       "        vertical-align: middle;\n",
       "    }\n",
       "\n",
       "    .dataframe tbody tr th {\n",
       "        vertical-align: top;\n",
       "    }\n",
       "\n",
       "    .dataframe thead th {\n",
       "        text-align: right;\n",
       "    }\n",
       "</style>\n",
       "<table border=\"1\" class=\"dataframe\">\n",
       "  <thead>\n",
       "    <tr style=\"text-align: right;\">\n",
       "      <th></th>\n",
       "      <th>FPR</th>\n",
       "      <th>TPR</th>\n",
       "      <th>Threshold</th>\n",
       "    </tr>\n",
       "  </thead>\n",
       "  <tbody>\n",
       "    <tr>\n",
       "      <th>0</th>\n",
       "      <td>0.000000</td>\n",
       "      <td>0.000000</td>\n",
       "      <td>1.987161</td>\n",
       "    </tr>\n",
       "    <tr>\n",
       "      <th>1</th>\n",
       "      <td>0.000000</td>\n",
       "      <td>0.027027</td>\n",
       "      <td>0.987161</td>\n",
       "    </tr>\n",
       "    <tr>\n",
       "      <th>2</th>\n",
       "      <td>0.000000</td>\n",
       "      <td>0.702703</td>\n",
       "      <td>0.758409</td>\n",
       "    </tr>\n",
       "    <tr>\n",
       "      <th>3</th>\n",
       "      <td>0.023256</td>\n",
       "      <td>0.702703</td>\n",
       "      <td>0.727043</td>\n",
       "    </tr>\n",
       "    <tr>\n",
       "      <th>4</th>\n",
       "      <td>0.023256</td>\n",
       "      <td>0.756757</td>\n",
       "      <td>0.683404</td>\n",
       "    </tr>\n",
       "    <tr>\n",
       "      <th>5</th>\n",
       "      <td>0.046512</td>\n",
       "      <td>0.756757</td>\n",
       "      <td>0.667982</td>\n",
       "    </tr>\n",
       "    <tr>\n",
       "      <th>6</th>\n",
       "      <td>0.046512</td>\n",
       "      <td>0.783784</td>\n",
       "      <td>0.662004</td>\n",
       "    </tr>\n",
       "    <tr>\n",
       "      <th>7</th>\n",
       "      <td>0.069767</td>\n",
       "      <td>0.783784</td>\n",
       "      <td>0.647033</td>\n",
       "    </tr>\n",
       "    <tr>\n",
       "      <th>8</th>\n",
       "      <td>0.069767</td>\n",
       "      <td>0.810811</td>\n",
       "      <td>0.645490</td>\n",
       "    </tr>\n",
       "    <tr>\n",
       "      <th>9</th>\n",
       "      <td>0.093023</td>\n",
       "      <td>0.810811</td>\n",
       "      <td>0.635440</td>\n",
       "    </tr>\n",
       "    <tr>\n",
       "      <th>10</th>\n",
       "      <td>0.093023</td>\n",
       "      <td>0.891892</td>\n",
       "      <td>0.448072</td>\n",
       "    </tr>\n",
       "    <tr>\n",
       "      <th>11</th>\n",
       "      <td>0.186047</td>\n",
       "      <td>0.891892</td>\n",
       "      <td>0.411430</td>\n",
       "    </tr>\n",
       "    <tr>\n",
       "      <th>12</th>\n",
       "      <td>0.186047</td>\n",
       "      <td>0.918919</td>\n",
       "      <td>0.407121</td>\n",
       "    </tr>\n",
       "    <tr>\n",
       "      <th>13</th>\n",
       "      <td>0.279070</td>\n",
       "      <td>0.918919</td>\n",
       "      <td>0.328728</td>\n",
       "    </tr>\n",
       "    <tr>\n",
       "      <th>14</th>\n",
       "      <td>0.279070</td>\n",
       "      <td>0.945946</td>\n",
       "      <td>0.321433</td>\n",
       "    </tr>\n",
       "    <tr>\n",
       "      <th>15</th>\n",
       "      <td>0.372093</td>\n",
       "      <td>0.945946</td>\n",
       "      <td>0.303876</td>\n",
       "    </tr>\n",
       "    <tr>\n",
       "      <th>16</th>\n",
       "      <td>0.372093</td>\n",
       "      <td>0.972973</td>\n",
       "      <td>0.280009</td>\n",
       "    </tr>\n",
       "    <tr>\n",
       "      <th>17</th>\n",
       "      <td>0.534884</td>\n",
       "      <td>0.972973</td>\n",
       "      <td>0.195288</td>\n",
       "    </tr>\n",
       "    <tr>\n",
       "      <th>18</th>\n",
       "      <td>0.534884</td>\n",
       "      <td>1.000000</td>\n",
       "      <td>0.189269</td>\n",
       "    </tr>\n",
       "    <tr>\n",
       "      <th>19</th>\n",
       "      <td>1.000000</td>\n",
       "      <td>1.000000</td>\n",
       "      <td>0.001812</td>\n",
       "    </tr>\n",
       "  </tbody>\n",
       "</table>\n",
       "</div>"
      ],
      "text/plain": [
       "        FPR      TPR  Threshold\n",
       "0  0.000000 0.000000   1.987161\n",
       "1  0.000000 0.027027   0.987161\n",
       "2  0.000000 0.702703   0.758409\n",
       "3  0.023256 0.702703   0.727043\n",
       "4  0.023256 0.756757   0.683404\n",
       "5  0.046512 0.756757   0.667982\n",
       "6  0.046512 0.783784   0.662004\n",
       "7  0.069767 0.783784   0.647033\n",
       "8  0.069767 0.810811   0.645490\n",
       "9  0.093023 0.810811   0.635440\n",
       "10 0.093023 0.891892   0.448072\n",
       "11 0.186047 0.891892   0.411430\n",
       "12 0.186047 0.918919   0.407121\n",
       "13 0.279070 0.918919   0.328728\n",
       "14 0.279070 0.945946   0.321433\n",
       "15 0.372093 0.945946   0.303876\n",
       "16 0.372093 0.972973   0.280009\n",
       "17 0.534884 0.972973   0.195288\n",
       "18 0.534884 1.000000   0.189269\n",
       "19 1.000000 1.000000   0.001812"
      ]
     },
     "execution_count": 64,
     "metadata": {},
     "output_type": "execute_result"
    }
   ],
   "source": [
    "roc_df"
   ]
  },
  {
   "cell_type": "code",
   "execution_count": 67,
   "id": "33051ba7",
   "metadata": {},
   "outputs": [
    {
     "data": {
      "image/png": "[encoded data removed]",
      "text/plain": [
       "<Figure size 640x480 with 1 Axes>"
      ]
     },
     "metadata": {},
     "output_type": "display_data"
    }
   ],
   "source": [
    "plt.plot(fpr,tpr)\n",
    "plt.xlabel('FPR/(1-specificity)')\n",
    "plt.ylabel('TPR/sensitivity')\n",
    "plt.plot([0,1],[0,1],'r--')\n",
    "plt.show()"
   ]
  },
  {
   "cell_type": "code",
   "execution_count": 68,
   "id": "5e79b6ba",
   "metadata": {},
   "outputs": [
    {
     "name": "stdout",
     "output_type": "stream",
     "text": [
      "0.9509742300439975\n"
     ]
    }
   ],
   "source": [
    "print(roc_auc_score(ytest, ypred_prob_lr[:,1]))"
   ]
  },
  {
   "cell_type": "code",
   "execution_count": 70,
   "id": "0a6ecd09",
   "metadata": {},
   "outputs": [
    {
     "name": "stdout",
     "output_type": "stream",
     "text": [
      "[[39  4]\n",
      " [ 6 31]]\n",
      "0.7476340694006309\n"
     ]
    }
   ],
   "source": [
    "print(confusion_matrix(ytest, ypred_lr))\n",
    "print(cohen_kappa_score(ytest, ypred_lr))"
   ]
  },
  {
   "cell_type": "code",
   "execution_count": 88,
   "id": "4f30d766",
   "metadata": {},
   "outputs": [],
   "source": [
    "p0 = (39+31)/(39+4+6+31)"
   ]
  },
  {
   "cell_type": "code",
   "execution_count": 89,
   "id": "cb929606",
   "metadata": {},
   "outputs": [],
   "source": [
    "pe = ((39*39)/(80*80))+((31*31)/(80*80))"
   ]
  },
  {
   "cell_type": "code",
   "execution_count": 90,
   "id": "6363168d",
   "metadata": {},
   "outputs": [
    {
     "data": {
      "text/plain": [
       "0.7958141909137315"
      ]
     },
     "execution_count": 90,
     "metadata": {},
     "output_type": "execute_result"
    }
   ],
   "source": [
    "(p0-pe)/(1-pe)"
   ]
  },
  {
   "cell_type": "markdown",
   "id": "f6283859",
   "metadata": {},
   "source": [
    "## Imbalanced"
   ]
  },
  {
   "cell_type": "code",
   "execution_count": 91,
   "id": "07460447",
   "metadata": {},
   "outputs": [],
   "source": [
    "youden_table = pd.DataFrame({\n",
    "    'TPR':tpr,\n",
    "    'FPR':fpr,\n",
    "    'Threshold':threshold\n",
    "})"
   ]
  },
  {
   "cell_type": "code",
   "execution_count": 92,
   "id": "68292751",
   "metadata": {},
   "outputs": [],
   "source": [
    "youden_table['difference'] = youden_table['TPR'] - youden_table['FPR']"
   ]
  },
  {
   "cell_type": "code",
   "execution_count": 93,
   "id": "ef742cbc",
   "metadata": {},
   "outputs": [],
   "source": [
    "youden_table = youden_table.sort_values('difference',ascending=False)"
   ]
  },
  {
   "cell_type": "code",
   "execution_count": 94,
   "id": "e4e0f18b",
   "metadata": {},
   "outputs": [
    {
     "data": {
      "text/html": [
       "<div>\n",
       "<style scoped>\n",
       "    .dataframe tbody tr th:only-of-type {\n",
       "        vertical-align: middle;\n",
       "    }\n",
       "\n",
       "    .dataframe tbody tr th {\n",
       "        vertical-align: top;\n",
       "    }\n",
       "\n",
       "    .dataframe thead th {\n",
       "        text-align: right;\n",
       "    }\n",
       "</style>\n",
       "<table border=\"1\" class=\"dataframe\">\n",
       "  <thead>\n",
       "    <tr style=\"text-align: right;\">\n",
       "      <th></th>\n",
       "      <th>TPR</th>\n",
       "      <th>FPR</th>\n",
       "      <th>Threshold</th>\n",
       "      <th>difference</th>\n",
       "    </tr>\n",
       "  </thead>\n",
       "  <tbody>\n",
       "    <tr>\n",
       "      <th>10</th>\n",
       "      <td>0.891892</td>\n",
       "      <td>0.093023</td>\n",
       "      <td>0.448072</td>\n",
       "      <td>0.798869</td>\n",
       "    </tr>\n",
       "    <tr>\n",
       "      <th>8</th>\n",
       "      <td>0.810811</td>\n",
       "      <td>0.069767</td>\n",
       "      <td>0.645490</td>\n",
       "      <td>0.741043</td>\n",
       "    </tr>\n",
       "    <tr>\n",
       "      <th>6</th>\n",
       "      <td>0.783784</td>\n",
       "      <td>0.046512</td>\n",
       "      <td>0.662004</td>\n",
       "      <td>0.737272</td>\n",
       "    </tr>\n",
       "    <tr>\n",
       "      <th>4</th>\n",
       "      <td>0.756757</td>\n",
       "      <td>0.023256</td>\n",
       "      <td>0.683404</td>\n",
       "      <td>0.733501</td>\n",
       "    </tr>\n",
       "    <tr>\n",
       "      <th>12</th>\n",
       "      <td>0.918919</td>\n",
       "      <td>0.186047</td>\n",
       "      <td>0.407121</td>\n",
       "      <td>0.732872</td>\n",
       "    </tr>\n",
       "    <tr>\n",
       "      <th>9</th>\n",
       "      <td>0.810811</td>\n",
       "      <td>0.093023</td>\n",
       "      <td>0.635440</td>\n",
       "      <td>0.717788</td>\n",
       "    </tr>\n",
       "    <tr>\n",
       "      <th>7</th>\n",
       "      <td>0.783784</td>\n",
       "      <td>0.069767</td>\n",
       "      <td>0.647033</td>\n",
       "      <td>0.714016</td>\n",
       "    </tr>\n",
       "    <tr>\n",
       "      <th>5</th>\n",
       "      <td>0.756757</td>\n",
       "      <td>0.046512</td>\n",
       "      <td>0.667982</td>\n",
       "      <td>0.710245</td>\n",
       "    </tr>\n",
       "    <tr>\n",
       "      <th>11</th>\n",
       "      <td>0.891892</td>\n",
       "      <td>0.186047</td>\n",
       "      <td>0.411430</td>\n",
       "      <td>0.705845</td>\n",
       "    </tr>\n",
       "    <tr>\n",
       "      <th>2</th>\n",
       "      <td>0.702703</td>\n",
       "      <td>0.000000</td>\n",
       "      <td>0.758409</td>\n",
       "      <td>0.702703</td>\n",
       "    </tr>\n",
       "    <tr>\n",
       "      <th>3</th>\n",
       "      <td>0.702703</td>\n",
       "      <td>0.023256</td>\n",
       "      <td>0.727043</td>\n",
       "      <td>0.679447</td>\n",
       "    </tr>\n",
       "    <tr>\n",
       "      <th>14</th>\n",
       "      <td>0.945946</td>\n",
       "      <td>0.279070</td>\n",
       "      <td>0.321433</td>\n",
       "      <td>0.666876</td>\n",
       "    </tr>\n",
       "    <tr>\n",
       "      <th>13</th>\n",
       "      <td>0.918919</td>\n",
       "      <td>0.279070</td>\n",
       "      <td>0.328728</td>\n",
       "      <td>0.639849</td>\n",
       "    </tr>\n",
       "    <tr>\n",
       "      <th>16</th>\n",
       "      <td>0.972973</td>\n",
       "      <td>0.372093</td>\n",
       "      <td>0.280009</td>\n",
       "      <td>0.600880</td>\n",
       "    </tr>\n",
       "    <tr>\n",
       "      <th>15</th>\n",
       "      <td>0.945946</td>\n",
       "      <td>0.372093</td>\n",
       "      <td>0.303876</td>\n",
       "      <td>0.573853</td>\n",
       "    </tr>\n",
       "    <tr>\n",
       "      <th>18</th>\n",
       "      <td>1.000000</td>\n",
       "      <td>0.534884</td>\n",
       "      <td>0.189269</td>\n",
       "      <td>0.465116</td>\n",
       "    </tr>\n",
       "    <tr>\n",
       "      <th>17</th>\n",
       "      <td>0.972973</td>\n",
       "      <td>0.534884</td>\n",
       "      <td>0.195288</td>\n",
       "      <td>0.438089</td>\n",
       "    </tr>\n",
       "    <tr>\n",
       "      <th>1</th>\n",
       "      <td>0.027027</td>\n",
       "      <td>0.000000</td>\n",
       "      <td>0.987161</td>\n",
       "      <td>0.027027</td>\n",
       "    </tr>\n",
       "    <tr>\n",
       "      <th>0</th>\n",
       "      <td>0.000000</td>\n",
       "      <td>0.000000</td>\n",
       "      <td>1.987161</td>\n",
       "      <td>0.000000</td>\n",
       "    </tr>\n",
       "    <tr>\n",
       "      <th>19</th>\n",
       "      <td>1.000000</td>\n",
       "      <td>1.000000</td>\n",
       "      <td>0.001812</td>\n",
       "      <td>0.000000</td>\n",
       "    </tr>\n",
       "  </tbody>\n",
       "</table>\n",
       "</div>"
      ],
      "text/plain": [
       "        TPR      FPR  Threshold  difference\n",
       "10 0.891892 0.093023   0.448072    0.798869\n",
       "8  0.810811 0.069767   0.645490    0.741043\n",
       "6  0.783784 0.046512   0.662004    0.737272\n",
       "4  0.756757 0.023256   0.683404    0.733501\n",
       "12 0.918919 0.186047   0.407121    0.732872\n",
       "9  0.810811 0.093023   0.635440    0.717788\n",
       "7  0.783784 0.069767   0.647033    0.714016\n",
       "5  0.756757 0.046512   0.667982    0.710245\n",
       "11 0.891892 0.186047   0.411430    0.705845\n",
       "2  0.702703 0.000000   0.758409    0.702703\n",
       "3  0.702703 0.023256   0.727043    0.679447\n",
       "14 0.945946 0.279070   0.321433    0.666876\n",
       "13 0.918919 0.279070   0.328728    0.639849\n",
       "16 0.972973 0.372093   0.280009    0.600880\n",
       "15 0.945946 0.372093   0.303876    0.573853\n",
       "18 1.000000 0.534884   0.189269    0.465116\n",
       "17 0.972973 0.534884   0.195288    0.438089\n",
       "1  0.027027 0.000000   0.987161    0.027027\n",
       "0  0.000000 0.000000   1.987161    0.000000\n",
       "19 1.000000 1.000000   0.001812    0.000000"
      ]
     },
     "execution_count": 94,
     "metadata": {},
     "output_type": "execute_result"
    }
   ],
   "source": [
    "youden_table"
   ]
  },
  {
   "cell_type": "code",
   "execution_count": 98,
   "id": "577a4201",
   "metadata": {},
   "outputs": [
    {
     "name": "stdout",
     "output_type": "stream",
     "text": [
      "1.2.1\n"
     ]
    }
   ],
   "source": [
    "import sklearn\n",
    "print(sklearn.__version__)"
   ]
  },
  {
   "cell_type": "code",
   "execution_count": 99,
   "id": "7a58ecc9",
   "metadata": {},
   "outputs": [
    {
     "name": "stdout",
     "output_type": "stream",
     "text": [
      "Training Accuracy: 0.85\n",
      "Test Accuracy: 0.875\n"
     ]
    }
   ],
   "source": [
    "print('Training Accuracy:',lr.score(xtrain,ytrain))\n",
    "print('Test Accuracy:',lr.score(xtest,ytest))"
   ]
  },
  {
   "cell_type": "code",
   "execution_count": null,
   "id": "81aa44f8",
   "metadata": {},
   "outputs": [],
   "source": []
  }
 ],
 "metadata": {
  "kernelspec": {
   "display_name": "Python 3 (ipykernel)",
   "language": "python",
   "name": "python3"
  },
  "language_info": {
   "codemirror_mode": {
    "name": "ipython",
    "version": 3
   },
   "file_extension": ".py",
   "mimetype": "text/x-python",
   "name": "python",
   "nbconvert_exporter": "python",
   "pygments_lexer": "ipython3",
   "version": "3.10.9"
  }
 },
 "nbformat": 4,
 "nbformat_minor": 5
}
