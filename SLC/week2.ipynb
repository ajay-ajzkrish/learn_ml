{
 "cells": [
  {
   "cell_type": "code",
   "execution_count": 47,
   "id": "c40d0246",
   "metadata": {},
   "outputs": [],
   "source": [
    "# ████ ███ ███ ███ ███ ┼┼ █┼┼ ███ ███ ███ █┼┼█ ███ █┼┼█ ████\n",
    "# █┼▄▄ █▄┼ █▄┼ █▄█ ┼█┼ ┼┼ █┼┼ █▄┼ █▄█ █▄┼ ██▄█ ┼█┼ ██▄█ █┼▄▄\n",
    "# █▄▄█ █┼█ █▄▄ █┼█ ┼█┼ ┼┼ █▄█ █▄▄ █┼█ █┼█ █┼██ ▄█▄ █┼██ █▄▄█"
   ]
  },
  {
   "cell_type": "code",
   "execution_count": 48,
   "id": "f38373a5",
   "metadata": {},
   "outputs": [],
   "source": [
    "import numpy as np \n",
    "import pandas as pd \n",
    "import matplotlib.pyplot as plt\n",
    "import seaborn as sns \n",
    "import scipy \n",
    "import sklearn\n",
    "from scipy import stats\n",
    "import warnings\n",
    "warnings.filterwarnings('ignore')\n",
    "from sklearn.metrics import confusion_matrix, accuracy_score,precision_score, classification_report,log_loss,roc_curve, roc_auc_score,cohen_kappa_score, f1_score,recall_score\n",
    "from sklearn.model_selection import train_test_split, GridSearchCV\n",
    "import statsmodels.api as sm \n",
    "from sklearn.datasets import make_classification\n",
    "from collections import Counter\n",
    "from imblearn.over_sampling import SMOTE\n",
    "from sklearn.linear_model import LogisticRegression\n",
    "from sklearn.preprocessing import StandardScaler\n",
    "from sklearn.neighbors import KNeighborsClassifier\n",
    "from sklearn.naive_bayes import GaussianNB, MultinomialNB, BernoulliNB\n",
    "from sklearn.tree import DecisionTreeClassifier\n",
    "from sklearn.ensemble import RandomForestClassifier\n",
    "from sklearn import tree"
   ]
  },
  {
   "cell_type": "code",
   "execution_count": 49,
   "id": "d9d9212d",
   "metadata": {},
   "outputs": [],
   "source": [
    "plt.rcParams['figure.figsize'] = [15,8]"
   ]
  },
  {
   "cell_type": "code",
   "execution_count": 50,
   "id": "c34cc2a2",
   "metadata": {},
   "outputs": [
    {
     "data": {
      "text/html": [
       "<div>\n",
       "<style scoped>\n",
       "    .dataframe tbody tr th:only-of-type {\n",
       "        vertical-align: middle;\n",
       "    }\n",
       "\n",
       "    .dataframe tbody tr th {\n",
       "        vertical-align: top;\n",
       "    }\n",
       "\n",
       "    .dataframe thead th {\n",
       "        text-align: right;\n",
       "    }\n",
       "</style>\n",
       "<table border=\"1\" class=\"dataframe\">\n",
       "  <thead>\n",
       "    <tr style=\"text-align: right;\">\n",
       "      <th></th>\n",
       "      <th>Serial No.</th>\n",
       "      <th>GRE Score</th>\n",
       "      <th>TOEFL Score</th>\n",
       "      <th>University Rating</th>\n",
       "      <th>SOP</th>\n",
       "      <th>LOR</th>\n",
       "      <th>CGPA</th>\n",
       "      <th>Research</th>\n",
       "      <th>Chance of Admit</th>\n",
       "    </tr>\n",
       "  </thead>\n",
       "  <tbody>\n",
       "    <tr>\n",
       "      <th>0</th>\n",
       "      <td>1</td>\n",
       "      <td>337</td>\n",
       "      <td>118</td>\n",
       "      <td>4</td>\n",
       "      <td>4.5</td>\n",
       "      <td>4.5</td>\n",
       "      <td>9.65</td>\n",
       "      <td>1</td>\n",
       "      <td>1</td>\n",
       "    </tr>\n",
       "    <tr>\n",
       "      <th>1</th>\n",
       "      <td>2</td>\n",
       "      <td>324</td>\n",
       "      <td>107</td>\n",
       "      <td>4</td>\n",
       "      <td>4.0</td>\n",
       "      <td>4.5</td>\n",
       "      <td>8.87</td>\n",
       "      <td>1</td>\n",
       "      <td>1</td>\n",
       "    </tr>\n",
       "    <tr>\n",
       "      <th>2</th>\n",
       "      <td>3</td>\n",
       "      <td>316</td>\n",
       "      <td>104</td>\n",
       "      <td>3</td>\n",
       "      <td>3.0</td>\n",
       "      <td>3.5</td>\n",
       "      <td>8.00</td>\n",
       "      <td>1</td>\n",
       "      <td>0</td>\n",
       "    </tr>\n",
       "    <tr>\n",
       "      <th>3</th>\n",
       "      <td>4</td>\n",
       "      <td>322</td>\n",
       "      <td>110</td>\n",
       "      <td>3</td>\n",
       "      <td>3.5</td>\n",
       "      <td>2.5</td>\n",
       "      <td>8.67</td>\n",
       "      <td>1</td>\n",
       "      <td>1</td>\n",
       "    </tr>\n",
       "    <tr>\n",
       "      <th>4</th>\n",
       "      <td>5</td>\n",
       "      <td>314</td>\n",
       "      <td>103</td>\n",
       "      <td>2</td>\n",
       "      <td>2.0</td>\n",
       "      <td>3.0</td>\n",
       "      <td>8.21</td>\n",
       "      <td>0</td>\n",
       "      <td>0</td>\n",
       "    </tr>\n",
       "  </tbody>\n",
       "</table>\n",
       "</div>"
      ],
      "text/plain": [
       "   Serial No.  GRE Score  TOEFL Score  University Rating  SOP  LOR  CGPA  \\\n",
       "0           1        337          118                  4  4.5  4.5  9.65   \n",
       "1           2        324          107                  4  4.0  4.5  8.87   \n",
       "2           3        316          104                  3  3.0  3.5  8.00   \n",
       "3           4        322          110                  3  3.5  2.5  8.67   \n",
       "4           5        314          103                  2  2.0  3.0  8.21   \n",
       "\n",
       "   Research  Chance of Admit  \n",
       "0         1                1  \n",
       "1         1                1  \n",
       "2         1                0  \n",
       "3         1                1  \n",
       "4         0                0  "
      ]
     },
     "execution_count": 50,
     "metadata": {},
     "output_type": "execute_result"
    }
   ],
   "source": [
    "df = pd.read_csv('Admission_Predict.csv')\n",
    "df.head()"
   ]
  },
  {
   "cell_type": "code",
   "execution_count": 51,
   "id": "955d33a3",
   "metadata": {},
   "outputs": [],
   "source": [
    "df.drop(\"Serial No.\", axis = 1, inplace = True)"
   ]
  },
  {
   "cell_type": "code",
   "execution_count": 52,
   "id": "b273fba6",
   "metadata": {},
   "outputs": [],
   "source": [
    "X = df.drop('Chance of Admit',axis = 1)\n",
    "y = df['Chance of Admit']\n"
   ]
  },
  {
   "cell_type": "code",
   "execution_count": 53,
   "id": "c3b3eee4",
   "metadata": {},
   "outputs": [],
   "source": [
    "X_train,X_test, y_train, y_test = train_test_split(X,y,test_size=0.3, random_state=1)"
   ]
  },
  {
   "cell_type": "code",
   "execution_count": 54,
   "id": "ac3198cc",
   "metadata": {},
   "outputs": [],
   "source": [
    "perf_score = pd.DataFrame(columns=[\"Model\", \"Accuracy\",\"Recall\",\"Precision\",\"F1 Score\"] )"
   ]
  },
  {
   "cell_type": "code",
   "execution_count": 55,
   "id": "0a3c48fb",
   "metadata": {},
   "outputs": [],
   "source": [
    "def per_measures(model,test,pred):\n",
    "    accuracy    =accuracy_score(test,pred)\n",
    "    f1score     =f1_score(test,pred)\n",
    "    recall      =recall_score(test,pred)\n",
    "    precision   =precision_score(test,pred)\n",
    "    # aic         =model.aic\n",
    "    # reliability = cohen_kappa_score(test,pred)\n",
    "    return (accuracy,recall,precision,f1score,)"
   ]
  },
  {
   "cell_type": "code",
   "execution_count": 56,
   "id": "c74dcdd0",
   "metadata": {},
   "outputs": [],
   "source": [
    "def update_performance (name,\n",
    "                        model,\n",
    "                        test,\n",
    "                        pred\n",
    "                           ):\n",
    "\n",
    "    # assign 'comp_perf' as global variable\n",
    "    global perf_score\n",
    "\n",
    "\n",
    "    # append the results to the dataframe 'score_card'\n",
    "    # 'ignore_index = True' do not consider the index labels\n",
    "    perf_score = perf_score.append({'Model'       : name,\n",
    "                                    'Accuracy'    : per_measures(model,test,pred)[0],\n",
    "                                    'Recall'      : per_measures(model,test,pred)[1],\n",
    "                                    'Precision'   : per_measures(model,test,pred)[2],\n",
    "                                    'F1 Score'    : per_measures(model,test,pred)[3]\n",
    "                                    # 'AIC'         : per_measures(model,ytest,ypred)[4],\n",
    "                                    # 'Reliability' : per_measures(model,ytest,ypred)[5]\n",
    "\n",
    "                                     },\n",
    "                                   ignore_index = True)"
   ]
  },
  {
   "cell_type": "code",
   "execution_count": 57,
   "id": "54e8b88a",
   "metadata": {},
   "outputs": [
    {
     "data": {
      "text/html": [
       "<style>#sk-container-id-2 {color: black;background-color: white;}#sk-container-id-2 pre{padding: 0;}#sk-container-id-2 div.sk-toggleable {background-color: white;}#sk-container-id-2 label.sk-toggleable__label {cursor: pointer;display: block;width: 100%;margin-bottom: 0;padding: 0.3em;box-sizing: border-box;text-align: center;}#sk-container-id-2 label.sk-toggleable__label-arrow:before {content: \"▸\";float: left;margin-right: 0.25em;color: #696969;}#sk-container-id-2 label.sk-toggleable__label-arrow:hover:before {color: black;}#sk-container-id-2 div.sk-estimator:hover label.sk-toggleable__label-arrow:before {color: black;}#sk-container-id-2 div.sk-toggleable__content {max-height: 0;max-width: 0;overflow: hidden;text-align: left;background-color: #f0f8ff;}#sk-container-id-2 div.sk-toggleable__content pre {margin: 0.2em;color: black;border-radius: 0.25em;background-color: #f0f8ff;}#sk-container-id-2 input.sk-toggleable__control:checked~div.sk-toggleable__content {max-height: 200px;max-width: 100%;overflow: auto;}#sk-container-id-2 input.sk-toggleable__control:checked~label.sk-toggleable__label-arrow:before {content: \"▾\";}#sk-container-id-2 div.sk-estimator input.sk-toggleable__control:checked~label.sk-toggleable__label {background-color: #d4ebff;}#sk-container-id-2 div.sk-label input.sk-toggleable__control:checked~label.sk-toggleable__label {background-color: #d4ebff;}#sk-container-id-2 input.sk-hidden--visually {border: 0;clip: rect(1px 1px 1px 1px);clip: rect(1px, 1px, 1px, 1px);height: 1px;margin: -1px;overflow: hidden;padding: 0;position: absolute;width: 1px;}#sk-container-id-2 div.sk-estimator {font-family: monospace;background-color: #f0f8ff;border: 1px dotted black;border-radius: 0.25em;box-sizing: border-box;margin-bottom: 0.5em;}#sk-container-id-2 div.sk-estimator:hover {background-color: #d4ebff;}#sk-container-id-2 div.sk-parallel-item::after {content: \"\";width: 100%;border-bottom: 1px solid gray;flex-grow: 1;}#sk-container-id-2 div.sk-label:hover label.sk-toggleable__label {background-color: #d4ebff;}#sk-container-id-2 div.sk-serial::before {content: \"\";position: absolute;border-left: 1px solid gray;box-sizing: border-box;top: 0;bottom: 0;left: 50%;z-index: 0;}#sk-container-id-2 div.sk-serial {display: flex;flex-direction: column;align-items: center;background-color: white;padding-right: 0.2em;padding-left: 0.2em;position: relative;}#sk-container-id-2 div.sk-item {position: relative;z-index: 1;}#sk-container-id-2 div.sk-parallel {display: flex;align-items: stretch;justify-content: center;background-color: white;position: relative;}#sk-container-id-2 div.sk-item::before, #sk-container-id-2 div.sk-parallel-item::before {content: \"\";position: absolute;border-left: 1px solid gray;box-sizing: border-box;top: 0;bottom: 0;left: 50%;z-index: -1;}#sk-container-id-2 div.sk-parallel-item {display: flex;flex-direction: column;z-index: 1;position: relative;background-color: white;}#sk-container-id-2 div.sk-parallel-item:first-child::after {align-self: flex-end;width: 50%;}#sk-container-id-2 div.sk-parallel-item:last-child::after {align-self: flex-start;width: 50%;}#sk-container-id-2 div.sk-parallel-item:only-child::after {width: 0;}#sk-container-id-2 div.sk-dashed-wrapped {border: 1px dashed gray;margin: 0 0.4em 0.5em 0.4em;box-sizing: border-box;padding-bottom: 0.4em;background-color: white;}#sk-container-id-2 div.sk-label label {font-family: monospace;font-weight: bold;display: inline-block;line-height: 1.2em;}#sk-container-id-2 div.sk-label-container {text-align: center;}#sk-container-id-2 div.sk-container {/* jupyter's `normalize.less` sets `[hidden] { display: none; }` but bootstrap.min.css set `[hidden] { display: none !important; }` so we also need the `!important` here to be able to override the default hidden behavior on the sphinx rendered scikit-learn.org. See: https://github.com/scikit-learn/scikit-learn/issues/21755 */display: inline-block !important;position: relative;}#sk-container-id-2 div.sk-text-repr-fallback {display: none;}</style><div id=\"sk-container-id-2\" class=\"sk-top-container\"><div class=\"sk-text-repr-fallback\"><pre>RandomForestClassifier(random_state=10)</pre><b>In a Jupyter environment, please rerun this cell to show the HTML representation or trust the notebook. <br />On GitHub, the HTML representation is unable to render, please try loading this page with nbviewer.org.</b></div><div class=\"sk-container\" hidden><div class=\"sk-item\"><div class=\"sk-estimator sk-toggleable\"><input class=\"sk-toggleable__control sk-hidden--visually\" id=\"sk-estimator-id-2\" type=\"checkbox\" checked><label for=\"sk-estimator-id-2\" class=\"sk-toggleable__label sk-toggleable__label-arrow\">RandomForestClassifier</label><div class=\"sk-toggleable__content\"><pre>RandomForestClassifier(random_state=10)</pre></div></div></div></div></div>"
      ],
      "text/plain": [
       "RandomForestClassifier(random_state=10)"
      ]
     },
     "execution_count": 57,
     "metadata": {},
     "output_type": "execute_result"
    }
   ],
   "source": [
    "rf = RandomForestClassifier(random_state=10)\n",
    "rf.fit(X_train, y_train)"
   ]
  },
  {
   "cell_type": "code",
   "execution_count": 58,
   "id": "fb9ffe3e",
   "metadata": {},
   "outputs": [
    {
     "name": "stdout",
     "output_type": "stream",
     "text": [
      "1.0\n",
      "********************************************\n",
      "[[154   0]\n",
      " [  0 126]]\n",
      "********************************************\n",
      "              precision    recall  f1-score   support\n",
      "\n",
      "           0       1.00      1.00      1.00       154\n",
      "           1       1.00      1.00      1.00       126\n",
      "\n",
      "    accuracy                           1.00       280\n",
      "   macro avg       1.00      1.00      1.00       280\n",
      "weighted avg       1.00      1.00      1.00       280\n",
      "\n"
     ]
    }
   ],
   "source": [
    "ypred_rf_train = rf.predict(X_train)\n",
    "\n",
    "print(accuracy_score(y_train, ypred_rf_train))\n",
    "print(\"********************************************\")\n",
    "print(confusion_matrix(y_train, ypred_rf_train))\n",
    "print(\"********************************************\")\n",
    "print(classification_report(y_train, ypred_rf_train))"
   ]
  },
  {
   "cell_type": "code",
   "execution_count": 59,
   "id": "c76e47b5",
   "metadata": {},
   "outputs": [
    {
     "name": "stdout",
     "output_type": "stream",
     "text": [
      "1.0\n",
      "********************************************\n",
      "[[154   0]\n",
      " [  0 126]]\n",
      "********************************************\n",
      "              precision    recall  f1-score   support\n",
      "\n",
      "           0       1.00      1.00      1.00       154\n",
      "           1       1.00      1.00      1.00       126\n",
      "\n",
      "    accuracy                           1.00       280\n",
      "   macro avg       1.00      1.00      1.00       280\n",
      "weighted avg       1.00      1.00      1.00       280\n",
      "\n"
     ]
    }
   ],
   "source": [
    "ypred_rf_train = rf.predict(X_train)\n",
    "\n",
    "print(accuracy_score(y_train, ypred_rf_train))\n",
    "print(\"********************************************\")\n",
    "print(confusion_matrix(y_train, ypred_rf_train))\n",
    "print(\"********************************************\")\n",
    "print(classification_report(y_train, ypred_rf_train))"
   ]
  },
  {
   "cell_type": "code",
   "execution_count": 60,
   "id": "8fcbd569",
   "metadata": {},
   "outputs": [
    {
     "name": "stdout",
     "output_type": "stream",
     "text": [
      "0.8666666666666667\n",
      "********************************************\n",
      "[[60  6]\n",
      " [10 44]]\n",
      "********************************************\n",
      "              precision    recall  f1-score   support\n",
      "\n",
      "           0       0.86      0.91      0.88        66\n",
      "           1       0.88      0.81      0.85        54\n",
      "\n",
      "    accuracy                           0.87       120\n",
      "   macro avg       0.87      0.86      0.86       120\n",
      "weighted avg       0.87      0.87      0.87       120\n",
      "\n"
     ]
    }
   ],
   "source": [
    "ypred_rf_test = rf.predict(X_test)\n",
    "\n",
    "print(accuracy_score(y_test, ypred_rf_test))\n",
    "print(\"********************************************\")\n",
    "print(confusion_matrix(y_test, ypred_rf_test))\n",
    "print(\"********************************************\")\n",
    "print(classification_report(y_test, ypred_rf_test))"
   ]
  },
  {
   "cell_type": "code",
   "execution_count": 61,
   "id": "6bd300a8",
   "metadata": {},
   "outputs": [],
   "source": [
    "update_performance(name = 'Random Forest' ,model = rf, test = y_test, pred=ypred_rf_test)"
   ]
  },
  {
   "cell_type": "code",
   "execution_count": 62,
   "id": "c7ed17b5",
   "metadata": {},
   "outputs": [
    {
     "data": {
      "text/html": [
       "<div>\n",
       "<style scoped>\n",
       "    .dataframe tbody tr th:only-of-type {\n",
       "        vertical-align: middle;\n",
       "    }\n",
       "\n",
       "    .dataframe tbody tr th {\n",
       "        vertical-align: top;\n",
       "    }\n",
       "\n",
       "    .dataframe thead th {\n",
       "        text-align: right;\n",
       "    }\n",
       "</style>\n",
       "<table border=\"1\" class=\"dataframe\">\n",
       "  <thead>\n",
       "    <tr style=\"text-align: right;\">\n",
       "      <th></th>\n",
       "      <th>Model</th>\n",
       "      <th>Accuracy</th>\n",
       "      <th>Recall</th>\n",
       "      <th>Precision</th>\n",
       "      <th>F1 Score</th>\n",
       "    </tr>\n",
       "  </thead>\n",
       "  <tbody>\n",
       "    <tr>\n",
       "      <th>0</th>\n",
       "      <td>Random Forest</td>\n",
       "      <td>0.866667</td>\n",
       "      <td>0.814815</td>\n",
       "      <td>0.88</td>\n",
       "      <td>0.846154</td>\n",
       "    </tr>\n",
       "  </tbody>\n",
       "</table>\n",
       "</div>"
      ],
      "text/plain": [
       "           Model  Accuracy    Recall  Precision  F1 Score\n",
       "0  Random Forest  0.866667  0.814815       0.88  0.846154"
      ]
     },
     "execution_count": 62,
     "metadata": {},
     "output_type": "execute_result"
    }
   ],
   "source": [
    "perf_score"
   ]
  },
  {
   "cell_type": "code",
   "execution_count": 63,
   "id": "592a323d",
   "metadata": {},
   "outputs": [
    {
     "name": "stdout",
     "output_type": "stream",
     "text": [
      "accuracy_score   0.8666666666666667\n",
      "oob_score_   0.8464285714285714\n"
     ]
    }
   ],
   "source": [
    "rf = RandomForestClassifier(oob_score=True, random_state=10)\n",
    "\n",
    "rf.fit(X_train, y_train)\n",
    "\n",
    "ypred_rf = rf.predict(X_test)\n",
    "print('accuracy_score  ',accuracy_score(y_test ,ypred_rf))\n",
    "print('oob_score_  ',rf.oob_score_)"
   ]
  },
  {
   "cell_type": "code",
   "execution_count": 64,
   "id": "ecf96ee9",
   "metadata": {},
   "outputs": [],
   "source": [
    "params =             [{'criterion': ['entropy', 'gini'],\n",
    "                     'n_estimators': [100],\n",
    "                     'max_depth': [10, 15],\n",
    "                     'max_features': ['sqrt', 'log2'],\n",
    "                     'min_samples_split': [2, 8],\n",
    "                     'min_samples_leaf': [5, 9],\n",
    "                     'max_leaf_nodes': [8, 11]}]"
   ]
  },
  {
   "cell_type": "code",
   "execution_count": 65,
   "id": "01ba10d4",
   "metadata": {},
   "outputs": [
    {
     "data": {
      "text/plain": [
       "{'criterion': 'gini',\n",
       " 'max_depth': 10,\n",
       " 'max_features': 'sqrt',\n",
       " 'max_leaf_nodes': 8,\n",
       " 'min_samples_leaf': 9,\n",
       " 'min_samples_split': 2,\n",
       " 'n_estimators': 100}"
      ]
     },
     "execution_count": 65,
     "metadata": {},
     "output_type": "execute_result"
    }
   ],
   "source": [
    "rf = RandomForestClassifier(random_state=10)\n",
    "rf_cv = GridSearchCV(rf, params, cv = 5, scoring='accuracy')\n",
    "rf_cv.fit(X_train, y_train)\n",
    "rf_cv.best_params_"
   ]
  },
  {
   "cell_type": "code",
   "execution_count": 66,
   "id": "d94c9a00",
   "metadata": {},
   "outputs": [
    {
     "name": "stdout",
     "output_type": "stream",
     "text": [
      "accuracy_score   0.875\n"
     ]
    }
   ],
   "source": [
    "rf = RandomForestClassifier(random_state=10,criterion = 'gini',\n",
    " max_depth = 10,\n",
    " max_features = 'sqrt',\n",
    " max_leaf_nodes = 8,\n",
    " min_samples_leaf = 9,\n",
    " min_samples_split = 2,\n",
    " n_estimators = 100)\n",
    "\n",
    "rf.fit(X_train, y_train)\n",
    "\n",
    "ypred_rf = rf.predict(X_test)\n",
    "print('accuracy_score  ',accuracy_score(y_test ,ypred_rf))"
   ]
  },
  {
   "cell_type": "code",
   "execution_count": 67,
   "id": "bc788504",
   "metadata": {},
   "outputs": [
    {
     "name": "stdout",
     "output_type": "stream",
     "text": [
      "              precision    recall  f1-score   support\n",
      "\n",
      "           0       0.87      0.91      0.89        66\n",
      "           1       0.88      0.83      0.86        54\n",
      "\n",
      "    accuracy                           0.88       120\n",
      "   macro avg       0.88      0.87      0.87       120\n",
      "weighted avg       0.88      0.88      0.87       120\n",
      "\n"
     ]
    }
   ],
   "source": [
    "print(classification_report(y_test, ypred_rf))"
   ]
  },
  {
   "cell_type": "code",
   "execution_count": 68,
   "id": "f243f3bb",
   "metadata": {},
   "outputs": [],
   "source": [
    "update_performance(name = 'Random Forest - Tuned' ,model = rf, test = y_test, pred=ypred_rf)"
   ]
  },
  {
   "cell_type": "code",
   "execution_count": 69,
   "id": "b78a5414",
   "metadata": {},
   "outputs": [
    {
     "data": {
      "text/html": [
       "<div>\n",
       "<style scoped>\n",
       "    .dataframe tbody tr th:only-of-type {\n",
       "        vertical-align: middle;\n",
       "    }\n",
       "\n",
       "    .dataframe tbody tr th {\n",
       "        vertical-align: top;\n",
       "    }\n",
       "\n",
       "    .dataframe thead th {\n",
       "        text-align: right;\n",
       "    }\n",
       "</style>\n",
       "<table border=\"1\" class=\"dataframe\">\n",
       "  <thead>\n",
       "    <tr style=\"text-align: right;\">\n",
       "      <th></th>\n",
       "      <th>Model</th>\n",
       "      <th>Accuracy</th>\n",
       "      <th>Recall</th>\n",
       "      <th>Precision</th>\n",
       "      <th>F1 Score</th>\n",
       "    </tr>\n",
       "  </thead>\n",
       "  <tbody>\n",
       "    <tr>\n",
       "      <th>0</th>\n",
       "      <td>Random Forest</td>\n",
       "      <td>0.866667</td>\n",
       "      <td>0.814815</td>\n",
       "      <td>0.880000</td>\n",
       "      <td>0.846154</td>\n",
       "    </tr>\n",
       "    <tr>\n",
       "      <th>1</th>\n",
       "      <td>Random Forest - Tuned</td>\n",
       "      <td>0.875000</td>\n",
       "      <td>0.833333</td>\n",
       "      <td>0.882353</td>\n",
       "      <td>0.857143</td>\n",
       "    </tr>\n",
       "  </tbody>\n",
       "</table>\n",
       "</div>"
      ],
      "text/plain": [
       "                   Model  Accuracy    Recall  Precision  F1 Score\n",
       "0          Random Forest  0.866667  0.814815   0.880000  0.846154\n",
       "1  Random Forest - Tuned  0.875000  0.833333   0.882353  0.857143"
      ]
     },
     "execution_count": 69,
     "metadata": {},
     "output_type": "execute_result"
    }
   ],
   "source": [
    "perf_score"
   ]
  },
  {
   "cell_type": "markdown",
   "id": "18b7c0d6",
   "metadata": {},
   "source": [
    "## Bagging Classifier"
   ]
  },
  {
   "cell_type": "code",
   "execution_count": 70,
   "id": "302bd624",
   "metadata": {},
   "outputs": [],
   "source": [
    "from sklearn.ensemble import BaggingClassifier"
   ]
  },
  {
   "cell_type": "code",
   "execution_count": 71,
   "id": "8fe54e74",
   "metadata": {},
   "outputs": [
    {
     "name": "stdout",
     "output_type": "stream",
     "text": [
      "accuracy_score   0.85\n"
     ]
    }
   ],
   "source": [
    "dt = DecisionTreeClassifier(random_state=10)\n",
    "\n",
    "bc = BaggingClassifier(dt)\n",
    "bc.fit(X_train, y_train)\n",
    "\n",
    "ypred_bc = bc.predict(X_test)\n",
    "print('accuracy_score  ',accuracy_score(y_test ,ypred_bc))"
   ]
  },
  {
   "cell_type": "code",
   "execution_count": 72,
   "id": "39f12c24",
   "metadata": {},
   "outputs": [],
   "source": [
    "update_performance(name = 'Bagging Classifier-dt', model = bc, test=y_test,pred=ypred_bc)"
   ]
  },
  {
   "cell_type": "code",
   "execution_count": 73,
   "id": "11b75a3f",
   "metadata": {},
   "outputs": [
    {
     "data": {
      "text/html": [
       "<div>\n",
       "<style scoped>\n",
       "    .dataframe tbody tr th:only-of-type {\n",
       "        vertical-align: middle;\n",
       "    }\n",
       "\n",
       "    .dataframe tbody tr th {\n",
       "        vertical-align: top;\n",
       "    }\n",
       "\n",
       "    .dataframe thead th {\n",
       "        text-align: right;\n",
       "    }\n",
       "</style>\n",
       "<table border=\"1\" class=\"dataframe\">\n",
       "  <thead>\n",
       "    <tr style=\"text-align: right;\">\n",
       "      <th></th>\n",
       "      <th>Model</th>\n",
       "      <th>Accuracy</th>\n",
       "      <th>Recall</th>\n",
       "      <th>Precision</th>\n",
       "      <th>F1 Score</th>\n",
       "    </tr>\n",
       "  </thead>\n",
       "  <tbody>\n",
       "    <tr>\n",
       "      <th>0</th>\n",
       "      <td>Random Forest</td>\n",
       "      <td>0.866667</td>\n",
       "      <td>0.814815</td>\n",
       "      <td>0.880000</td>\n",
       "      <td>0.846154</td>\n",
       "    </tr>\n",
       "    <tr>\n",
       "      <th>1</th>\n",
       "      <td>Random Forest - Tuned</td>\n",
       "      <td>0.875000</td>\n",
       "      <td>0.833333</td>\n",
       "      <td>0.882353</td>\n",
       "      <td>0.857143</td>\n",
       "    </tr>\n",
       "    <tr>\n",
       "      <th>2</th>\n",
       "      <td>Bagging Classifier-dt</td>\n",
       "      <td>0.850000</td>\n",
       "      <td>0.814815</td>\n",
       "      <td>0.846154</td>\n",
       "      <td>0.830189</td>\n",
       "    </tr>\n",
       "  </tbody>\n",
       "</table>\n",
       "</div>"
      ],
      "text/plain": [
       "                   Model  Accuracy    Recall  Precision  F1 Score\n",
       "0          Random Forest  0.866667  0.814815   0.880000  0.846154\n",
       "1  Random Forest - Tuned  0.875000  0.833333   0.882353  0.857143\n",
       "2  Bagging Classifier-dt  0.850000  0.814815   0.846154  0.830189"
      ]
     },
     "execution_count": 73,
     "metadata": {},
     "output_type": "execute_result"
    }
   ],
   "source": [
    "perf_score"
   ]
  },
  {
   "cell_type": "code",
   "execution_count": 74,
   "id": "aee2b8a0",
   "metadata": {},
   "outputs": [
    {
     "name": "stdout",
     "output_type": "stream",
     "text": [
      "accuracy_score   0.875\n"
     ]
    }
   ],
   "source": [
    "from sklearn.ensemble import BaggingClassifier\n",
    "knn=KNeighborsClassifier ()\n",
    "bag_knn=BaggingClassifier(knn, random_state=10) # by default the estimator is Decision\n",
    "bag_knn.fit(X_train,y_train)\n",
    "\n",
    "ypred_bag_knn = bag_knn.predict(X_test)\n",
    "print('accuracy_score  ',accuracy_score(y_test ,ypred_bag_knn))"
   ]
  },
  {
   "cell_type": "code",
   "execution_count": 75,
   "id": "8050bb78",
   "metadata": {},
   "outputs": [],
   "source": [
    "update_performance(name = 'Bagging Classifier-KNN ', model = bag_knn, test=y_test,pred=ypred_bag_knn)"
   ]
  },
  {
   "cell_type": "code",
   "execution_count": 76,
   "id": "394182fe",
   "metadata": {},
   "outputs": [
    {
     "data": {
      "text/html": [
       "<div>\n",
       "<style scoped>\n",
       "    .dataframe tbody tr th:only-of-type {\n",
       "        vertical-align: middle;\n",
       "    }\n",
       "\n",
       "    .dataframe tbody tr th {\n",
       "        vertical-align: top;\n",
       "    }\n",
       "\n",
       "    .dataframe thead th {\n",
       "        text-align: right;\n",
       "    }\n",
       "</style>\n",
       "<table border=\"1\" class=\"dataframe\">\n",
       "  <thead>\n",
       "    <tr style=\"text-align: right;\">\n",
       "      <th></th>\n",
       "      <th>Model</th>\n",
       "      <th>Accuracy</th>\n",
       "      <th>Recall</th>\n",
       "      <th>Precision</th>\n",
       "      <th>F1 Score</th>\n",
       "    </tr>\n",
       "  </thead>\n",
       "  <tbody>\n",
       "    <tr>\n",
       "      <th>0</th>\n",
       "      <td>Random Forest</td>\n",
       "      <td>0.866667</td>\n",
       "      <td>0.814815</td>\n",
       "      <td>0.880000</td>\n",
       "      <td>0.846154</td>\n",
       "    </tr>\n",
       "    <tr>\n",
       "      <th>1</th>\n",
       "      <td>Random Forest - Tuned</td>\n",
       "      <td>0.875000</td>\n",
       "      <td>0.833333</td>\n",
       "      <td>0.882353</td>\n",
       "      <td>0.857143</td>\n",
       "    </tr>\n",
       "    <tr>\n",
       "      <th>2</th>\n",
       "      <td>Bagging Classifier-dt</td>\n",
       "      <td>0.850000</td>\n",
       "      <td>0.814815</td>\n",
       "      <td>0.846154</td>\n",
       "      <td>0.830189</td>\n",
       "    </tr>\n",
       "    <tr>\n",
       "      <th>3</th>\n",
       "      <td>Bagging Classifier-KNN</td>\n",
       "      <td>0.875000</td>\n",
       "      <td>0.814815</td>\n",
       "      <td>0.897959</td>\n",
       "      <td>0.854369</td>\n",
       "    </tr>\n",
       "  </tbody>\n",
       "</table>\n",
       "</div>"
      ],
      "text/plain": [
       "                     Model  Accuracy    Recall  Precision  F1 Score\n",
       "0            Random Forest  0.866667  0.814815   0.880000  0.846154\n",
       "1    Random Forest - Tuned  0.875000  0.833333   0.882353  0.857143\n",
       "2    Bagging Classifier-dt  0.850000  0.814815   0.846154  0.830189\n",
       "3  Bagging Classifier-KNN   0.875000  0.814815   0.897959  0.854369"
      ]
     },
     "execution_count": 76,
     "metadata": {},
     "output_type": "execute_result"
    }
   ],
   "source": [
    "perf_score"
   ]
  },
  {
   "cell_type": "markdown",
   "id": "029bc038",
   "metadata": {},
   "source": [
    "## Bagging LR Model .LR as base Model"
   ]
  },
  {
   "cell_type": "code",
   "execution_count": 77,
   "id": "23fb0fd5",
   "metadata": {},
   "outputs": [
    {
     "name": "stdout",
     "output_type": "stream",
     "text": [
      "0.8666666666666667\n"
     ]
    }
   ],
   "source": [
    "logr = LogisticRegression()\n",
    "\n",
    "bag_logr = BaggingClassifier(logr, random_state=10)\n",
    "bag_logr.fit(X_train, y_train)\n",
    "\n",
    "ypred_bag_logr = bag_logr.predict(X_test)\n",
    "\n",
    "print(accuracy_score(y_test, ypred_bag_logr))"
   ]
  },
  {
   "cell_type": "code",
   "execution_count": 78,
   "id": "cb383ae1",
   "metadata": {},
   "outputs": [],
   "source": [
    "update_performance(name = 'Bagging LR Model .LR as base Model', model = bag_logr, test=y_test,pred=ypred_bag_logr)"
   ]
  },
  {
   "cell_type": "code",
   "execution_count": 79,
   "id": "a6eba67e",
   "metadata": {},
   "outputs": [
    {
     "data": {
      "text/html": [
       "<div>\n",
       "<style scoped>\n",
       "    .dataframe tbody tr th:only-of-type {\n",
       "        vertical-align: middle;\n",
       "    }\n",
       "\n",
       "    .dataframe tbody tr th {\n",
       "        vertical-align: top;\n",
       "    }\n",
       "\n",
       "    .dataframe thead th {\n",
       "        text-align: right;\n",
       "    }\n",
       "</style>\n",
       "<table border=\"1\" class=\"dataframe\">\n",
       "  <thead>\n",
       "    <tr style=\"text-align: right;\">\n",
       "      <th></th>\n",
       "      <th>Model</th>\n",
       "      <th>Accuracy</th>\n",
       "      <th>Recall</th>\n",
       "      <th>Precision</th>\n",
       "      <th>F1 Score</th>\n",
       "    </tr>\n",
       "  </thead>\n",
       "  <tbody>\n",
       "    <tr>\n",
       "      <th>0</th>\n",
       "      <td>Random Forest</td>\n",
       "      <td>0.866667</td>\n",
       "      <td>0.814815</td>\n",
       "      <td>0.880000</td>\n",
       "      <td>0.846154</td>\n",
       "    </tr>\n",
       "    <tr>\n",
       "      <th>1</th>\n",
       "      <td>Random Forest - Tuned</td>\n",
       "      <td>0.875000</td>\n",
       "      <td>0.833333</td>\n",
       "      <td>0.882353</td>\n",
       "      <td>0.857143</td>\n",
       "    </tr>\n",
       "    <tr>\n",
       "      <th>2</th>\n",
       "      <td>Bagging Classifier-dt</td>\n",
       "      <td>0.850000</td>\n",
       "      <td>0.814815</td>\n",
       "      <td>0.846154</td>\n",
       "      <td>0.830189</td>\n",
       "    </tr>\n",
       "    <tr>\n",
       "      <th>3</th>\n",
       "      <td>Bagging Classifier-KNN</td>\n",
       "      <td>0.875000</td>\n",
       "      <td>0.814815</td>\n",
       "      <td>0.897959</td>\n",
       "      <td>0.854369</td>\n",
       "    </tr>\n",
       "    <tr>\n",
       "      <th>4</th>\n",
       "      <td>Bagging LR Model .LR as base Model</td>\n",
       "      <td>0.866667</td>\n",
       "      <td>0.870370</td>\n",
       "      <td>0.839286</td>\n",
       "      <td>0.854545</td>\n",
       "    </tr>\n",
       "  </tbody>\n",
       "</table>\n",
       "</div>"
      ],
      "text/plain": [
       "                                Model  Accuracy    Recall  Precision  F1 Score\n",
       "0                       Random Forest  0.866667  0.814815   0.880000  0.846154\n",
       "1               Random Forest - Tuned  0.875000  0.833333   0.882353  0.857143\n",
       "2               Bagging Classifier-dt  0.850000  0.814815   0.846154  0.830189\n",
       "3             Bagging Classifier-KNN   0.875000  0.814815   0.897959  0.854369\n",
       "4  Bagging LR Model .LR as base Model  0.866667  0.870370   0.839286  0.854545"
      ]
     },
     "execution_count": 79,
     "metadata": {},
     "output_type": "execute_result"
    }
   ],
   "source": [
    "perf_score"
   ]
  },
  {
   "cell_type": "code",
   "execution_count": 80,
   "id": "06d030c0",
   "metadata": {},
   "outputs": [
    {
     "data": {
      "text/plain": [
       "0.45814536593707755"
      ]
     },
     "execution_count": 80,
     "metadata": {},
     "output_type": "execute_result"
    }
   ],
   "source": [
    "0.5*np.log(2.5)"
   ]
  },
  {
   "cell_type": "code",
   "execution_count": 81,
   "id": "9054377d",
   "metadata": {},
   "outputs": [],
   "source": [
    "# AOS(amount of say) = 0.5 * logbase e((1-total eror)/totaleror)"
   ]
  },
  {
   "cell_type": "code",
   "execution_count": null,
   "id": "fc3cbd13",
   "metadata": {},
   "outputs": [],
   "source": []
  },
  {
   "cell_type": "code",
   "execution_count": null,
   "id": "5a8579ba",
   "metadata": {},
   "outputs": [],
   "source": []
  },
  {
   "cell_type": "code",
   "execution_count": 82,
   "id": "13dbafab",
   "metadata": {},
   "outputs": [
    {
     "data": {
      "text/plain": [
       "0.5"
      ]
     },
     "execution_count": 82,
     "metadata": {},
     "output_type": "execute_result"
    }
   ],
   "source": [
    "0.2575/0.515"
   ]
  },
  {
   "cell_type": "code",
   "execution_count": null,
   "id": "d034edf3",
   "metadata": {},
   "outputs": [],
   "source": []
  },
  {
   "cell_type": "code",
   "execution_count": null,
   "id": "ae9e82a0",
   "metadata": {},
   "outputs": [],
   "source": []
  },
  {
   "cell_type": "markdown",
   "id": "048678e6",
   "metadata": {},
   "source": [
    "# ADA Boost"
   ]
  },
  {
   "cell_type": "code",
   "execution_count": 83,
   "id": "3c497062",
   "metadata": {},
   "outputs": [],
   "source": [
    "from sklearn.ensemble import AdaBoostClassifier"
   ]
  },
  {
   "cell_type": "code",
   "execution_count": 84,
   "id": "f8df61ac",
   "metadata": {},
   "outputs": [
    {
     "name": "stdout",
     "output_type": "stream",
     "text": [
      "0.85\n"
     ]
    }
   ],
   "source": [
    "abcl = AdaBoostClassifier(dt, random_state=10)\n",
    "abcl.fit(X_train, y_train)\n",
    "\n",
    "ypred_abcl = abcl.predict(X_test)\n",
    "print(accuracy_score(y_test, ypred_abcl))"
   ]
  },
  {
   "cell_type": "code",
   "execution_count": 85,
   "id": "90dea321",
   "metadata": {},
   "outputs": [],
   "source": [
    "update_performance(name = 'Ada Boost Classifier ', model = abcl, test=y_test,pred=ypred_abcl)"
   ]
  },
  {
   "cell_type": "code",
   "execution_count": 86,
   "id": "2273a2cc",
   "metadata": {},
   "outputs": [
    {
     "data": {
      "text/html": [
       "<div>\n",
       "<style scoped>\n",
       "    .dataframe tbody tr th:only-of-type {\n",
       "        vertical-align: middle;\n",
       "    }\n",
       "\n",
       "    .dataframe tbody tr th {\n",
       "        vertical-align: top;\n",
       "    }\n",
       "\n",
       "    .dataframe thead th {\n",
       "        text-align: right;\n",
       "    }\n",
       "</style>\n",
       "<table border=\"1\" class=\"dataframe\">\n",
       "  <thead>\n",
       "    <tr style=\"text-align: right;\">\n",
       "      <th></th>\n",
       "      <th>Model</th>\n",
       "      <th>Accuracy</th>\n",
       "      <th>Recall</th>\n",
       "      <th>Precision</th>\n",
       "      <th>F1 Score</th>\n",
       "    </tr>\n",
       "  </thead>\n",
       "  <tbody>\n",
       "    <tr>\n",
       "      <th>0</th>\n",
       "      <td>Random Forest</td>\n",
       "      <td>0.866667</td>\n",
       "      <td>0.814815</td>\n",
       "      <td>0.880000</td>\n",
       "      <td>0.846154</td>\n",
       "    </tr>\n",
       "    <tr>\n",
       "      <th>1</th>\n",
       "      <td>Random Forest - Tuned</td>\n",
       "      <td>0.875000</td>\n",
       "      <td>0.833333</td>\n",
       "      <td>0.882353</td>\n",
       "      <td>0.857143</td>\n",
       "    </tr>\n",
       "    <tr>\n",
       "      <th>2</th>\n",
       "      <td>Bagging Classifier-dt</td>\n",
       "      <td>0.850000</td>\n",
       "      <td>0.814815</td>\n",
       "      <td>0.846154</td>\n",
       "      <td>0.830189</td>\n",
       "    </tr>\n",
       "    <tr>\n",
       "      <th>3</th>\n",
       "      <td>Bagging Classifier-KNN</td>\n",
       "      <td>0.875000</td>\n",
       "      <td>0.814815</td>\n",
       "      <td>0.897959</td>\n",
       "      <td>0.854369</td>\n",
       "    </tr>\n",
       "    <tr>\n",
       "      <th>4</th>\n",
       "      <td>Bagging LR Model .LR as base Model</td>\n",
       "      <td>0.866667</td>\n",
       "      <td>0.870370</td>\n",
       "      <td>0.839286</td>\n",
       "      <td>0.854545</td>\n",
       "    </tr>\n",
       "    <tr>\n",
       "      <th>5</th>\n",
       "      <td>Ada Boost Classifier</td>\n",
       "      <td>0.850000</td>\n",
       "      <td>0.796296</td>\n",
       "      <td>0.860000</td>\n",
       "      <td>0.826923</td>\n",
       "    </tr>\n",
       "  </tbody>\n",
       "</table>\n",
       "</div>"
      ],
      "text/plain": [
       "                                Model  Accuracy    Recall  Precision  F1 Score\n",
       "0                       Random Forest  0.866667  0.814815   0.880000  0.846154\n",
       "1               Random Forest - Tuned  0.875000  0.833333   0.882353  0.857143\n",
       "2               Bagging Classifier-dt  0.850000  0.814815   0.846154  0.830189\n",
       "3             Bagging Classifier-KNN   0.875000  0.814815   0.897959  0.854369\n",
       "4  Bagging LR Model .LR as base Model  0.866667  0.870370   0.839286  0.854545\n",
       "5               Ada Boost Classifier   0.850000  0.796296   0.860000  0.826923"
      ]
     },
     "execution_count": 86,
     "metadata": {},
     "output_type": "execute_result"
    }
   ],
   "source": [
    "perf_score"
   ]
  },
  {
   "cell_type": "markdown",
   "id": "4fb2ce0e",
   "metadata": {},
   "source": [
    "## ADA Boost with RF"
   ]
  },
  {
   "cell_type": "code",
   "execution_count": 87,
   "id": "13c635cc",
   "metadata": {},
   "outputs": [
    {
     "name": "stdout",
     "output_type": "stream",
     "text": [
      "0.8666666666666667\n"
     ]
    }
   ],
   "source": [
    "rf = RandomForestClassifier(random_state=10)\n",
    "abcl_rf = AdaBoostClassifier(rf, random_state=10)\n",
    "abcl_rf.fit(X_train, y_train)\n",
    "\n",
    "ypred_abcl_rf = abcl_rf.predict(X_test)\n",
    "print(accuracy_score(y_test, ypred_abcl_rf))"
   ]
  },
  {
   "cell_type": "code",
   "execution_count": 88,
   "id": "ccdf2005",
   "metadata": {},
   "outputs": [],
   "source": [
    "update_performance(name = 'Ada Boost Classifier RF', model = abcl_rf, test=y_test,pred=ypred_abcl_rf)"
   ]
  },
  {
   "cell_type": "code",
   "execution_count": 90,
   "id": "7ca7f5cb",
   "metadata": {},
   "outputs": [
    {
     "data": {
      "text/html": [
       "<div>\n",
       "<style scoped>\n",
       "    .dataframe tbody tr th:only-of-type {\n",
       "        vertical-align: middle;\n",
       "    }\n",
       "\n",
       "    .dataframe tbody tr th {\n",
       "        vertical-align: top;\n",
       "    }\n",
       "\n",
       "    .dataframe thead th {\n",
       "        text-align: right;\n",
       "    }\n",
       "</style>\n",
       "<table border=\"1\" class=\"dataframe\">\n",
       "  <thead>\n",
       "    <tr style=\"text-align: right;\">\n",
       "      <th></th>\n",
       "      <th>Model</th>\n",
       "      <th>Accuracy</th>\n",
       "      <th>Recall</th>\n",
       "      <th>Precision</th>\n",
       "      <th>F1 Score</th>\n",
       "    </tr>\n",
       "  </thead>\n",
       "  <tbody>\n",
       "    <tr>\n",
       "      <th>0</th>\n",
       "      <td>Random Forest</td>\n",
       "      <td>0.866667</td>\n",
       "      <td>0.814815</td>\n",
       "      <td>0.880000</td>\n",
       "      <td>0.846154</td>\n",
       "    </tr>\n",
       "    <tr>\n",
       "      <th>1</th>\n",
       "      <td>Random Forest - Tuned</td>\n",
       "      <td>0.875000</td>\n",
       "      <td>0.833333</td>\n",
       "      <td>0.882353</td>\n",
       "      <td>0.857143</td>\n",
       "    </tr>\n",
       "    <tr>\n",
       "      <th>2</th>\n",
       "      <td>Bagging Classifier-dt</td>\n",
       "      <td>0.850000</td>\n",
       "      <td>0.814815</td>\n",
       "      <td>0.846154</td>\n",
       "      <td>0.830189</td>\n",
       "    </tr>\n",
       "    <tr>\n",
       "      <th>3</th>\n",
       "      <td>Bagging Classifier-KNN</td>\n",
       "      <td>0.875000</td>\n",
       "      <td>0.814815</td>\n",
       "      <td>0.897959</td>\n",
       "      <td>0.854369</td>\n",
       "    </tr>\n",
       "    <tr>\n",
       "      <th>4</th>\n",
       "      <td>Bagging LR Model .LR as base Model</td>\n",
       "      <td>0.866667</td>\n",
       "      <td>0.870370</td>\n",
       "      <td>0.839286</td>\n",
       "      <td>0.854545</td>\n",
       "    </tr>\n",
       "    <tr>\n",
       "      <th>5</th>\n",
       "      <td>Ada Boost Classifier</td>\n",
       "      <td>0.850000</td>\n",
       "      <td>0.796296</td>\n",
       "      <td>0.860000</td>\n",
       "      <td>0.826923</td>\n",
       "    </tr>\n",
       "    <tr>\n",
       "      <th>6</th>\n",
       "      <td>Ada Boost Classifier RF</td>\n",
       "      <td>0.866667</td>\n",
       "      <td>0.814815</td>\n",
       "      <td>0.880000</td>\n",
       "      <td>0.846154</td>\n",
       "    </tr>\n",
       "  </tbody>\n",
       "</table>\n",
       "</div>"
      ],
      "text/plain": [
       "                                Model  Accuracy    Recall  Precision  F1 Score\n",
       "0                       Random Forest  0.866667  0.814815   0.880000  0.846154\n",
       "1               Random Forest - Tuned  0.875000  0.833333   0.882353  0.857143\n",
       "2               Bagging Classifier-dt  0.850000  0.814815   0.846154  0.830189\n",
       "3             Bagging Classifier-KNN   0.875000  0.814815   0.897959  0.854369\n",
       "4  Bagging LR Model .LR as base Model  0.866667  0.870370   0.839286  0.854545\n",
       "5               Ada Boost Classifier   0.850000  0.796296   0.860000  0.826923\n",
       "6             Ada Boost Classifier RF  0.866667  0.814815   0.880000  0.846154"
      ]
     },
     "execution_count": 90,
     "metadata": {},
     "output_type": "execute_result"
    }
   ],
   "source": [
    "perf_score"
   ]
  },
  {
   "cell_type": "markdown",
   "id": "41e94599",
   "metadata": {},
   "source": [
    "## Multinomial Naive Bayes"
   ]
  },
  {
   "cell_type": "code",
   "execution_count": 92,
   "id": "0f51daa7",
   "metadata": {},
   "outputs": [
    {
     "name": "stdout",
     "output_type": "stream",
     "text": [
      "0.45\n"
     ]
    },
    {
     "data": {
      "text/html": [
       "<div>\n",
       "<style scoped>\n",
       "    .dataframe tbody tr th:only-of-type {\n",
       "        vertical-align: middle;\n",
       "    }\n",
       "\n",
       "    .dataframe tbody tr th {\n",
       "        vertical-align: top;\n",
       "    }\n",
       "\n",
       "    .dataframe thead th {\n",
       "        text-align: right;\n",
       "    }\n",
       "</style>\n",
       "<table border=\"1\" class=\"dataframe\">\n",
       "  <thead>\n",
       "    <tr style=\"text-align: right;\">\n",
       "      <th></th>\n",
       "      <th>Model</th>\n",
       "      <th>Accuracy</th>\n",
       "      <th>Recall</th>\n",
       "      <th>Precision</th>\n",
       "      <th>F1 Score</th>\n",
       "    </tr>\n",
       "  </thead>\n",
       "  <tbody>\n",
       "    <tr>\n",
       "      <th>0</th>\n",
       "      <td>Random Forest</td>\n",
       "      <td>0.866667</td>\n",
       "      <td>0.814815</td>\n",
       "      <td>0.880000</td>\n",
       "      <td>0.846154</td>\n",
       "    </tr>\n",
       "    <tr>\n",
       "      <th>1</th>\n",
       "      <td>Random Forest - Tuned</td>\n",
       "      <td>0.875000</td>\n",
       "      <td>0.833333</td>\n",
       "      <td>0.882353</td>\n",
       "      <td>0.857143</td>\n",
       "    </tr>\n",
       "    <tr>\n",
       "      <th>2</th>\n",
       "      <td>Bagging Classifier-dt</td>\n",
       "      <td>0.850000</td>\n",
       "      <td>0.814815</td>\n",
       "      <td>0.846154</td>\n",
       "      <td>0.830189</td>\n",
       "    </tr>\n",
       "    <tr>\n",
       "      <th>3</th>\n",
       "      <td>Bagging Classifier-KNN</td>\n",
       "      <td>0.875000</td>\n",
       "      <td>0.814815</td>\n",
       "      <td>0.897959</td>\n",
       "      <td>0.854369</td>\n",
       "    </tr>\n",
       "    <tr>\n",
       "      <th>4</th>\n",
       "      <td>Bagging LR Model .LR as base Model</td>\n",
       "      <td>0.866667</td>\n",
       "      <td>0.870370</td>\n",
       "      <td>0.839286</td>\n",
       "      <td>0.854545</td>\n",
       "    </tr>\n",
       "    <tr>\n",
       "      <th>5</th>\n",
       "      <td>Ada Boost Classifier</td>\n",
       "      <td>0.850000</td>\n",
       "      <td>0.796296</td>\n",
       "      <td>0.860000</td>\n",
       "      <td>0.826923</td>\n",
       "    </tr>\n",
       "    <tr>\n",
       "      <th>6</th>\n",
       "      <td>Ada Boost Classifier RF</td>\n",
       "      <td>0.866667</td>\n",
       "      <td>0.814815</td>\n",
       "      <td>0.880000</td>\n",
       "      <td>0.846154</td>\n",
       "    </tr>\n",
       "    <tr>\n",
       "      <th>7</th>\n",
       "      <td>Ada Boost Classifier MNB</td>\n",
       "      <td>0.450000</td>\n",
       "      <td>1.000000</td>\n",
       "      <td>0.450000</td>\n",
       "      <td>0.620690</td>\n",
       "    </tr>\n",
       "  </tbody>\n",
       "</table>\n",
       "</div>"
      ],
      "text/plain": [
       "                                Model  Accuracy    Recall  Precision  F1 Score\n",
       "0                       Random Forest  0.866667  0.814815   0.880000  0.846154\n",
       "1               Random Forest - Tuned  0.875000  0.833333   0.882353  0.857143\n",
       "2               Bagging Classifier-dt  0.850000  0.814815   0.846154  0.830189\n",
       "3             Bagging Classifier-KNN   0.875000  0.814815   0.897959  0.854369\n",
       "4  Bagging LR Model .LR as base Model  0.866667  0.870370   0.839286  0.854545\n",
       "5               Ada Boost Classifier   0.850000  0.796296   0.860000  0.826923\n",
       "6             Ada Boost Classifier RF  0.866667  0.814815   0.880000  0.846154\n",
       "7            Ada Boost Classifier MNB  0.450000  1.000000   0.450000  0.620690"
      ]
     },
     "execution_count": 92,
     "metadata": {},
     "output_type": "execute_result"
    }
   ],
   "source": [
    "mnb = MultinomialNB()\n",
    "abcl_mnb = AdaBoostClassifier(mnb, random_state=10)\n",
    "abcl_mnb.fit(X_train, y_train)\n",
    "\n",
    "ypred_abcl_mnb = abcl_mnb.predict(X_test)\n",
    "print(accuracy_score(y_test, ypred_abcl_mnb))\n",
    "\n",
    "update_performance(name = 'Ada Boost Classifier MNB', model = abcl_mnb, test=y_test,pred=ypred_abcl_mnb)\n",
    "\n",
    "perf_score"
   ]
  },
  {
   "cell_type": "markdown",
   "id": "b30c0f41",
   "metadata": {},
   "source": [
    "## Gradient Boosting"
   ]
  },
  {
   "cell_type": "code",
   "execution_count": 96,
   "id": "c0d15eec",
   "metadata": {},
   "outputs": [
    {
     "name": "stdout",
     "output_type": "stream",
     "text": [
      "0.85\n"
     ]
    }
   ],
   "source": [
    "from sklearn.ensemble import GradientBoostingClassifier\n",
    "gbc1 = GradientBoostingClassifier (n_estimators=50, random_state=10)\n",
    "gbc1.fit(X_train,y_train)\n",
    "ypred_gbc1 = gbc1.predict(X_test)\n",
    "print(accuracy_score(y_test,ypred_gbc1))"
   ]
  },
  {
   "cell_type": "code",
   "execution_count": 98,
   "id": "bdd7b1cd",
   "metadata": {},
   "outputs": [
    {
     "name": "stdout",
     "output_type": "stream",
     "text": [
      "0.825\n"
     ]
    }
   ],
   "source": [
    "gbc1 = GradientBoostingClassifier(n_estimators=50,learning_rate=0.5, random_state=1,max_depth=3)\n",
    "gbc1.fit(X_train,y_train)\n",
    "ypred_gbc1 = gbc1.predict(X_test)\n",
    "print(accuracy_score(y_test, ypred_gbc1))"
   ]
  },
  {
   "cell_type": "code",
   "execution_count": 100,
   "id": "ebf05c50",
   "metadata": {},
   "outputs": [],
   "source": [
    "update_performance (name = 'Gradient Boosting', model = gbc1, test=y_test, pred =ypred_gbc1)"
   ]
  },
  {
   "cell_type": "code",
   "execution_count": 101,
   "id": "a3e1ebd7",
   "metadata": {},
   "outputs": [
    {
     "data": {
      "text/html": [
       "<div>\n",
       "<style scoped>\n",
       "    .dataframe tbody tr th:only-of-type {\n",
       "        vertical-align: middle;\n",
       "    }\n",
       "\n",
       "    .dataframe tbody tr th {\n",
       "        vertical-align: top;\n",
       "    }\n",
       "\n",
       "    .dataframe thead th {\n",
       "        text-align: right;\n",
       "    }\n",
       "</style>\n",
       "<table border=\"1\" class=\"dataframe\">\n",
       "  <thead>\n",
       "    <tr style=\"text-align: right;\">\n",
       "      <th></th>\n",
       "      <th>Model</th>\n",
       "      <th>Accuracy</th>\n",
       "      <th>Recall</th>\n",
       "      <th>Precision</th>\n",
       "      <th>F1 Score</th>\n",
       "    </tr>\n",
       "  </thead>\n",
       "  <tbody>\n",
       "    <tr>\n",
       "      <th>0</th>\n",
       "      <td>Random Forest</td>\n",
       "      <td>0.866667</td>\n",
       "      <td>0.814815</td>\n",
       "      <td>0.880000</td>\n",
       "      <td>0.846154</td>\n",
       "    </tr>\n",
       "    <tr>\n",
       "      <th>1</th>\n",
       "      <td>Random Forest - Tuned</td>\n",
       "      <td>0.875000</td>\n",
       "      <td>0.833333</td>\n",
       "      <td>0.882353</td>\n",
       "      <td>0.857143</td>\n",
       "    </tr>\n",
       "    <tr>\n",
       "      <th>2</th>\n",
       "      <td>Bagging Classifier-dt</td>\n",
       "      <td>0.850000</td>\n",
       "      <td>0.814815</td>\n",
       "      <td>0.846154</td>\n",
       "      <td>0.830189</td>\n",
       "    </tr>\n",
       "    <tr>\n",
       "      <th>3</th>\n",
       "      <td>Bagging Classifier-KNN</td>\n",
       "      <td>0.875000</td>\n",
       "      <td>0.814815</td>\n",
       "      <td>0.897959</td>\n",
       "      <td>0.854369</td>\n",
       "    </tr>\n",
       "    <tr>\n",
       "      <th>4</th>\n",
       "      <td>Bagging LR Model .LR as base Model</td>\n",
       "      <td>0.866667</td>\n",
       "      <td>0.870370</td>\n",
       "      <td>0.839286</td>\n",
       "      <td>0.854545</td>\n",
       "    </tr>\n",
       "    <tr>\n",
       "      <th>5</th>\n",
       "      <td>Ada Boost Classifier</td>\n",
       "      <td>0.850000</td>\n",
       "      <td>0.796296</td>\n",
       "      <td>0.860000</td>\n",
       "      <td>0.826923</td>\n",
       "    </tr>\n",
       "    <tr>\n",
       "      <th>6</th>\n",
       "      <td>Ada Boost Classifier RF</td>\n",
       "      <td>0.866667</td>\n",
       "      <td>0.814815</td>\n",
       "      <td>0.880000</td>\n",
       "      <td>0.846154</td>\n",
       "    </tr>\n",
       "    <tr>\n",
       "      <th>7</th>\n",
       "      <td>Ada Boost Classifier MNB</td>\n",
       "      <td>0.450000</td>\n",
       "      <td>1.000000</td>\n",
       "      <td>0.450000</td>\n",
       "      <td>0.620690</td>\n",
       "    </tr>\n",
       "    <tr>\n",
       "      <th>8</th>\n",
       "      <td>Gradient Boosting</td>\n",
       "      <td>0.825000</td>\n",
       "      <td>0.759259</td>\n",
       "      <td>0.836735</td>\n",
       "      <td>0.796117</td>\n",
       "    </tr>\n",
       "  </tbody>\n",
       "</table>\n",
       "</div>"
      ],
      "text/plain": [
       "                                Model  Accuracy    Recall  Precision  F1 Score\n",
       "0                       Random Forest  0.866667  0.814815   0.880000  0.846154\n",
       "1               Random Forest - Tuned  0.875000  0.833333   0.882353  0.857143\n",
       "2               Bagging Classifier-dt  0.850000  0.814815   0.846154  0.830189\n",
       "3             Bagging Classifier-KNN   0.875000  0.814815   0.897959  0.854369\n",
       "4  Bagging LR Model .LR as base Model  0.866667  0.870370   0.839286  0.854545\n",
       "5               Ada Boost Classifier   0.850000  0.796296   0.860000  0.826923\n",
       "6             Ada Boost Classifier RF  0.866667  0.814815   0.880000  0.846154\n",
       "7            Ada Boost Classifier MNB  0.450000  1.000000   0.450000  0.620690\n",
       "8                   Gradient Boosting  0.825000  0.759259   0.836735  0.796117"
      ]
     },
     "execution_count": 101,
     "metadata": {},
     "output_type": "execute_result"
    }
   ],
   "source": [
    "perf_score"
   ]
  },
  {
   "cell_type": "code",
   "execution_count": null,
   "id": "07026272",
   "metadata": {},
   "outputs": [],
   "source": []
  },
  {
   "cell_type": "code",
   "execution_count": null,
   "id": "804e3841",
   "metadata": {},
   "outputs": [],
   "source": []
  },
  {
   "cell_type": "code",
   "execution_count": null,
   "id": "aac27d61",
   "metadata": {},
   "outputs": [],
   "source": []
  }
 ],
 "metadata": {
  "kernelspec": {
   "display_name": "Python 3 (ipykernel)",
   "language": "python",
   "name": "python3"
  },
  "language_info": {
   "codemirror_mode": {
    "name": "ipython",
    "version": 3
   },
   "file_extension": ".py",
   "mimetype": "text/x-python",
   "name": "python",
   "nbconvert_exporter": "python",
   "pygments_lexer": "ipython3",
   "version": "3.10.9"
  }
 },
 "nbformat": 4,
 "nbformat_minor": 5
}
