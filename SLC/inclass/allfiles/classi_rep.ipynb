{
 "cells": [
  {
   "cell_type": "code",
   "execution_count": 71,
   "id": "92d81f29",
   "metadata": {},
   "outputs": [],
   "source": [
    "import pandas as pd\n",
    "import numpy as np\n",
    "import matplotlib.pyplot as plt\n",
    "%matplotlib inline\n",
    "import warnings\n",
    "warnings.filterwarnings(\"ignore\") "
   ]
  },
  {
   "cell_type": "code",
   "execution_count": 72,
   "id": "2ed15693",
   "metadata": {},
   "outputs": [
    {
     "data": {
      "text/html": [
       "<div>\n",
       "<style scoped>\n",
       "    .dataframe tbody tr th:only-of-type {\n",
       "        vertical-align: middle;\n",
       "    }\n",
       "\n",
       "    .dataframe tbody tr th {\n",
       "        vertical-align: top;\n",
       "    }\n",
       "\n",
       "    .dataframe thead th {\n",
       "        text-align: right;\n",
       "    }\n",
       "</style>\n",
       "<table border=\"1\" class=\"dataframe\">\n",
       "  <thead>\n",
       "    <tr style=\"text-align: right;\">\n",
       "      <th></th>\n",
       "      <th>age</th>\n",
       "      <th>workclass</th>\n",
       "      <th>education</th>\n",
       "      <th>education-num</th>\n",
       "      <th>marital-status</th>\n",
       "      <th>occupation</th>\n",
       "      <th>relationship</th>\n",
       "      <th>race</th>\n",
       "      <th>sex</th>\n",
       "      <th>capital-gain</th>\n",
       "      <th>capital-loss</th>\n",
       "      <th>hours-per-week</th>\n",
       "      <th>native-country</th>\n",
       "      <th>Expense</th>\n",
       "    </tr>\n",
       "  </thead>\n",
       "  <tbody>\n",
       "    <tr>\n",
       "      <th>0</th>\n",
       "      <td>39</td>\n",
       "      <td>Self-emp-inc</td>\n",
       "      <td>Bachelors</td>\n",
       "      <td>13</td>\n",
       "      <td>Married-civ-spouse</td>\n",
       "      <td>Exec-managerial</td>\n",
       "      <td>Husband</td>\n",
       "      <td>White</td>\n",
       "      <td>Male</td>\n",
       "      <td>15024</td>\n",
       "      <td>0</td>\n",
       "      <td>50</td>\n",
       "      <td>United-States</td>\n",
       "      <td>&gt;50K</td>\n",
       "    </tr>\n",
       "    <tr>\n",
       "      <th>1</th>\n",
       "      <td>20</td>\n",
       "      <td>Private</td>\n",
       "      <td>Some-college</td>\n",
       "      <td>10</td>\n",
       "      <td>Never-married</td>\n",
       "      <td>Other-service</td>\n",
       "      <td>Own-child</td>\n",
       "      <td>White</td>\n",
       "      <td>Male</td>\n",
       "      <td>0</td>\n",
       "      <td>0</td>\n",
       "      <td>40</td>\n",
       "      <td>United-States</td>\n",
       "      <td>&lt;=50K</td>\n",
       "    </tr>\n",
       "    <tr>\n",
       "      <th>2</th>\n",
       "      <td>50</td>\n",
       "      <td>Private</td>\n",
       "      <td>Doctorate</td>\n",
       "      <td>16</td>\n",
       "      <td>Married-civ-spouse</td>\n",
       "      <td>Prof-specialty</td>\n",
       "      <td>Husband</td>\n",
       "      <td>White</td>\n",
       "      <td>Male</td>\n",
       "      <td>0</td>\n",
       "      <td>1902</td>\n",
       "      <td>65</td>\n",
       "      <td>United-States</td>\n",
       "      <td>&gt;50K</td>\n",
       "    </tr>\n",
       "    <tr>\n",
       "      <th>3</th>\n",
       "      <td>38</td>\n",
       "      <td>State-gov</td>\n",
       "      <td>HS-grad</td>\n",
       "      <td>9</td>\n",
       "      <td>Married-civ-spouse</td>\n",
       "      <td>Prof-specialty</td>\n",
       "      <td>Wife</td>\n",
       "      <td>White</td>\n",
       "      <td>Female</td>\n",
       "      <td>0</td>\n",
       "      <td>0</td>\n",
       "      <td>40</td>\n",
       "      <td>United-States</td>\n",
       "      <td>&gt;50K</td>\n",
       "    </tr>\n",
       "    <tr>\n",
       "      <th>4</th>\n",
       "      <td>23</td>\n",
       "      <td>Local-gov</td>\n",
       "      <td>Bachelors</td>\n",
       "      <td>13</td>\n",
       "      <td>Never-married</td>\n",
       "      <td>Prof-specialty</td>\n",
       "      <td>Own-child</td>\n",
       "      <td>White</td>\n",
       "      <td>Female</td>\n",
       "      <td>0</td>\n",
       "      <td>0</td>\n",
       "      <td>60</td>\n",
       "      <td>United-States</td>\n",
       "      <td>&lt;=50K</td>\n",
       "    </tr>\n",
       "  </tbody>\n",
       "</table>\n",
       "</div>"
      ],
      "text/plain": [
       "   age      workclass      education  education-num       marital-status  \\\n",
       "0   39   Self-emp-inc      Bachelors             13   Married-civ-spouse   \n",
       "1   20        Private   Some-college             10        Never-married   \n",
       "2   50        Private      Doctorate             16   Married-civ-spouse   \n",
       "3   38      State-gov        HS-grad              9   Married-civ-spouse   \n",
       "4   23      Local-gov      Bachelors             13        Never-married   \n",
       "\n",
       "         occupation relationship    race      sex  capital-gain  capital-loss  \\\n",
       "0   Exec-managerial      Husband   White     Male         15024             0   \n",
       "1     Other-service    Own-child   White     Male             0             0   \n",
       "2    Prof-specialty      Husband   White     Male             0          1902   \n",
       "3    Prof-specialty         Wife   White   Female             0             0   \n",
       "4    Prof-specialty    Own-child   White   Female             0             0   \n",
       "\n",
       "   hours-per-week  native-country Expense  \n",
       "0              50   United-States    >50K  \n",
       "1              40   United-States   <=50K  \n",
       "2              65   United-States    >50K  \n",
       "3              40   United-States    >50K  \n",
       "4              60   United-States   <=50K  "
      ]
     },
     "execution_count": 72,
     "metadata": {},
     "output_type": "execute_result"
    }
   ],
   "source": [
    "df = pd.read_csv('Expense.csv')\n",
    "df.head()"
   ]
  },
  {
   "cell_type": "code",
   "execution_count": 73,
   "id": "93dc3b37",
   "metadata": {},
   "outputs": [
    {
     "data": {
      "text/plain": [
       "(5000, 14)"
      ]
     },
     "execution_count": 73,
     "metadata": {},
     "output_type": "execute_result"
    }
   ],
   "source": [
    "df.shape"
   ]
  },
  {
   "cell_type": "code",
   "execution_count": 74,
   "id": "f5e9bc33",
   "metadata": {},
   "outputs": [
    {
     "data": {
      "text/html": [
       "<div>\n",
       "<style scoped>\n",
       "    .dataframe tbody tr th:only-of-type {\n",
       "        vertical-align: middle;\n",
       "    }\n",
       "\n",
       "    .dataframe tbody tr th {\n",
       "        vertical-align: top;\n",
       "    }\n",
       "\n",
       "    .dataframe thead th {\n",
       "        text-align: right;\n",
       "    }\n",
       "</style>\n",
       "<table border=\"1\" class=\"dataframe\">\n",
       "  <thead>\n",
       "    <tr style=\"text-align: right;\">\n",
       "      <th></th>\n",
       "      <th>age</th>\n",
       "      <th>education-num</th>\n",
       "      <th>capital-gain</th>\n",
       "      <th>capital-loss</th>\n",
       "      <th>hours-per-week</th>\n",
       "    </tr>\n",
       "  </thead>\n",
       "  <tbody>\n",
       "    <tr>\n",
       "      <th>count</th>\n",
       "      <td>5000.000000</td>\n",
       "      <td>5000.000000</td>\n",
       "      <td>5000.000000</td>\n",
       "      <td>5000.000000</td>\n",
       "      <td>5000.000000</td>\n",
       "    </tr>\n",
       "    <tr>\n",
       "      <th>mean</th>\n",
       "      <td>38.656000</td>\n",
       "      <td>10.065000</td>\n",
       "      <td>1104.080000</td>\n",
       "      <td>90.032800</td>\n",
       "      <td>40.566200</td>\n",
       "    </tr>\n",
       "    <tr>\n",
       "      <th>std</th>\n",
       "      <td>13.698292</td>\n",
       "      <td>2.558141</td>\n",
       "      <td>7579.674371</td>\n",
       "      <td>404.168991</td>\n",
       "      <td>12.154191</td>\n",
       "    </tr>\n",
       "    <tr>\n",
       "      <th>min</th>\n",
       "      <td>17.000000</td>\n",
       "      <td>1.000000</td>\n",
       "      <td>0.000000</td>\n",
       "      <td>0.000000</td>\n",
       "      <td>1.000000</td>\n",
       "    </tr>\n",
       "    <tr>\n",
       "      <th>25%</th>\n",
       "      <td>28.000000</td>\n",
       "      <td>9.000000</td>\n",
       "      <td>0.000000</td>\n",
       "      <td>0.000000</td>\n",
       "      <td>40.000000</td>\n",
       "    </tr>\n",
       "    <tr>\n",
       "      <th>50%</th>\n",
       "      <td>37.000000</td>\n",
       "      <td>10.000000</td>\n",
       "      <td>0.000000</td>\n",
       "      <td>0.000000</td>\n",
       "      <td>40.000000</td>\n",
       "    </tr>\n",
       "    <tr>\n",
       "      <th>75%</th>\n",
       "      <td>48.000000</td>\n",
       "      <td>12.000000</td>\n",
       "      <td>0.000000</td>\n",
       "      <td>0.000000</td>\n",
       "      <td>45.000000</td>\n",
       "    </tr>\n",
       "    <tr>\n",
       "      <th>max</th>\n",
       "      <td>90.000000</td>\n",
       "      <td>16.000000</td>\n",
       "      <td>99999.000000</td>\n",
       "      <td>3004.000000</td>\n",
       "      <td>99.000000</td>\n",
       "    </tr>\n",
       "  </tbody>\n",
       "</table>\n",
       "</div>"
      ],
      "text/plain": [
       "               age  education-num  capital-gain  capital-loss  hours-per-week\n",
       "count  5000.000000    5000.000000   5000.000000   5000.000000     5000.000000\n",
       "mean     38.656000      10.065000   1104.080000     90.032800       40.566200\n",
       "std      13.698292       2.558141   7579.674371    404.168991       12.154191\n",
       "min      17.000000       1.000000      0.000000      0.000000        1.000000\n",
       "25%      28.000000       9.000000      0.000000      0.000000       40.000000\n",
       "50%      37.000000      10.000000      0.000000      0.000000       40.000000\n",
       "75%      48.000000      12.000000      0.000000      0.000000       45.000000\n",
       "max      90.000000      16.000000  99999.000000   3004.000000       99.000000"
      ]
     },
     "execution_count": 74,
     "metadata": {},
     "output_type": "execute_result"
    }
   ],
   "source": [
    "df.describe()"
   ]
  },
  {
   "cell_type": "code",
   "execution_count": 75,
   "id": "1ded15bc",
   "metadata": {},
   "outputs": [
    {
     "data": {
      "text/plain": [
       " Private             3444\n",
       " Self-emp-not-inc     385\n",
       " ?                    320\n",
       " Local-gov            318\n",
       " State-gov            199\n",
       " Self-emp-inc         184\n",
       " Federal-gov          148\n",
       " Without-pay            1\n",
       " Never-worked           1\n",
       "Name: workclass, dtype: int64"
      ]
     },
     "execution_count": 75,
     "metadata": {},
     "output_type": "execute_result"
    }
   ],
   "source": [
    "df['workclass'].value_counts()"
   ]
  },
  {
   "cell_type": "code",
   "execution_count": 76,
   "id": "8ba2021c",
   "metadata": {},
   "outputs": [
    {
     "name": "stdout",
     "output_type": "stream",
     "text": [
      " Private             3444\n",
      " Self-emp-not-inc     385\n",
      " ?                    320\n",
      " Local-gov            318\n",
      " State-gov            199\n",
      " Self-emp-inc         184\n",
      " Federal-gov          148\n",
      " Without-pay            1\n",
      " Never-worked           1\n",
      "Name: workclass, dtype: int64\n",
      "##########################################\n",
      " HS-grad         1602\n",
      " Some-college    1142\n",
      " Bachelors        823\n",
      " Masters          259\n",
      " Assoc-voc        214\n",
      " 11th             179\n",
      " Assoc-acdm       157\n",
      " 10th             156\n",
      " 7th-8th          105\n",
      " Prof-school       90\n",
      " 9th               84\n",
      " 12th              57\n",
      " Doctorate         56\n",
      " 5th-6th           46\n",
      " 1st-4th           25\n",
      " Preschool          5\n",
      "Name: education, dtype: int64\n",
      "##########################################\n",
      " Married-civ-spouse       2294\n",
      " Never-married            1643\n",
      " Divorced                  683\n",
      " Separated                 159\n",
      " Widowed                   150\n",
      " Married-spouse-absent      67\n",
      " Married-AF-spouse           4\n",
      "Name: marital-status, dtype: int64\n",
      "##########################################\n",
      " Craft-repair         630\n",
      " Prof-specialty       619\n",
      " Exec-managerial      609\n",
      " Sales                597\n",
      " Adm-clerical         588\n",
      " Other-service        489\n",
      " Machine-op-inspct    323\n",
      " ?                    321\n",
      " Transport-moving     251\n",
      " Handlers-cleaners    191\n",
      " Farming-fishing      140\n",
      " Tech-support         122\n",
      " Protective-serv       99\n",
      " Priv-house-serv       20\n",
      " Armed-Forces           1\n",
      "Name: occupation, dtype: int64\n",
      "##########################################\n",
      " Husband           2026\n",
      " Not-in-family     1262\n",
      " Own-child          797\n",
      " Unmarried          512\n",
      " Wife               242\n",
      " Other-relative     161\n",
      "Name: relationship, dtype: int64\n",
      "##########################################\n",
      " White                 4271\n",
      " Black                  490\n",
      " Asian-Pac-Islander     153\n",
      " Amer-Indian-Eskimo      51\n",
      " Other                   35\n",
      "Name: race, dtype: int64\n",
      "##########################################\n",
      " Male      3374\n",
      " Female    1626\n",
      "Name: sex, dtype: int64\n",
      "##########################################\n",
      " United-States                 4459\n",
      " Mexico                         102\n",
      " ?                               98\n",
      " Canada                          31\n",
      " Germany                         25\n",
      " Philippines                     22\n",
      " Puerto-Rico                     17\n",
      " El-Salvador                     17\n",
      " China                           16\n",
      " England                         16\n",
      " Cuba                            15\n",
      " Jamaica                         14\n",
      " Dominican-Republic              13\n",
      " Japan                           12\n",
      " Vietnam                         12\n",
      " Poland                          11\n",
      " Italy                           11\n",
      " India                           10\n",
      " Taiwan                          10\n",
      " Guatemala                       10\n",
      " Iran                             9\n",
      " Greece                           9\n",
      " South                            9\n",
      " Ireland                          5\n",
      " Columbia                         5\n",
      " Haiti                            5\n",
      " Nicaragua                        5\n",
      " Portugal                         4\n",
      " Trinadad&Tobago                  4\n",
      " Cambodia                         4\n",
      " Ecuador                          3\n",
      " Peru                             3\n",
      " Outlying-US(Guam-USVI-etc)       3\n",
      " Scotland                         2\n",
      " France                           2\n",
      " Yugoslavia                       2\n",
      " Laos                             2\n",
      " Honduras                         1\n",
      " Hong                             1\n",
      " Thailand                         1\n",
      "Name: native-country, dtype: int64\n",
      "##########################################\n",
      " <=50K    3776\n",
      " >50K     1224\n",
      "Name: Expense, dtype: int64\n",
      "##########################################\n"
     ]
    }
   ],
   "source": [
    "cols = list(df.select_dtypes(include = 'object').columns)\n",
    "\n",
    "for i in cols:\n",
    "    print(df[i].value_counts())\n",
    "    print(\"##########################################\")"
   ]
  },
  {
   "cell_type": "code",
   "execution_count": 77,
   "id": "1a29860a",
   "metadata": {},
   "outputs": [],
   "source": [
    "from pandas_profiling import ProfileReport"
   ]
  },
  {
   "cell_type": "code",
   "execution_count": 78,
   "id": "6c589152",
   "metadata": {
    "scrolled": true
   },
   "outputs": [],
   "source": [
    "# report = ProfileReport(df)\n",
    "# report.to_file(output_file='report_expense.html')"
   ]
  },
  {
   "cell_type": "markdown",
   "id": "504c73db",
   "metadata": {},
   "source": [
    "## Missing Values"
   ]
  },
  {
   "cell_type": "code",
   "execution_count": 79,
   "id": "d145bd1e",
   "metadata": {},
   "outputs": [],
   "source": [
    "df[df == ' ?'] = np.nan"
   ]
  },
  {
   "cell_type": "code",
   "execution_count": 80,
   "id": "b4de4e1c",
   "metadata": {},
   "outputs": [
    {
     "data": {
      "text/plain": [
       "occupation        6.42\n",
       "workclass         6.40\n",
       "native-country    1.96\n",
       "age               0.00\n",
       "education         0.00\n",
       "education-num     0.00\n",
       "marital-status    0.00\n",
       "relationship      0.00\n",
       "race              0.00\n",
       "sex               0.00\n",
       "capital-gain      0.00\n",
       "capital-loss      0.00\n",
       "hours-per-week    0.00\n",
       "Expense           0.00\n",
       "dtype: float64"
      ]
     },
     "execution_count": 80,
     "metadata": {},
     "output_type": "execute_result"
    }
   ],
   "source": [
    "(df.isnull().sum() * 100 / len(df)).sort_values(ascending = False)"
   ]
  },
  {
   "cell_type": "code",
   "execution_count": 81,
   "id": "7a89741c",
   "metadata": {},
   "outputs": [
    {
     "name": "stdout",
     "output_type": "stream",
     "text": [
      "<class 'pandas.core.frame.DataFrame'>\n",
      "RangeIndex: 5000 entries, 0 to 4999\n",
      "Data columns (total 14 columns):\n",
      " #   Column          Non-Null Count  Dtype \n",
      "---  ------          --------------  ----- \n",
      " 0   age             5000 non-null   int64 \n",
      " 1   workclass       4680 non-null   object\n",
      " 2   education       5000 non-null   object\n",
      " 3   education-num   5000 non-null   int64 \n",
      " 4   marital-status  5000 non-null   object\n",
      " 5   occupation      4679 non-null   object\n",
      " 6   relationship    5000 non-null   object\n",
      " 7   race            5000 non-null   object\n",
      " 8   sex             5000 non-null   object\n",
      " 9   capital-gain    5000 non-null   int64 \n",
      " 10  capital-loss    5000 non-null   int64 \n",
      " 11  hours-per-week  5000 non-null   int64 \n",
      " 12  native-country  4902 non-null   object\n",
      " 13  Expense         5000 non-null   object\n",
      "dtypes: int64(5), object(9)\n",
      "memory usage: 547.0+ KB\n"
     ]
    }
   ],
   "source": [
    "df.info()"
   ]
  },
  {
   "cell_type": "code",
   "execution_count": 82,
   "id": "2b042359",
   "metadata": {},
   "outputs": [],
   "source": [
    "objects = df.select_dtypes('object').columns\n",
    "num_cols = df.select_dtypes(include = np.number)"
   ]
  },
  {
   "cell_type": "code",
   "execution_count": 83,
   "id": "e5489697",
   "metadata": {},
   "outputs": [
    {
     "data": {
      "text/plain": [
       "Index(['age', 'education-num', 'capital-gain', 'capital-loss',\n",
       "       'hours-per-week'],\n",
       "      dtype='object')"
      ]
     },
     "execution_count": 83,
     "metadata": {},
     "output_type": "execute_result"
    }
   ],
   "source": [
    "num_cols.columns"
   ]
  },
  {
   "cell_type": "code",
   "execution_count": 84,
   "id": "52b3168b",
   "metadata": {},
   "outputs": [],
   "source": [
    "from sklearn.impute import SimpleImputer"
   ]
  },
  {
   "cell_type": "code",
   "execution_count": 85,
   "id": "3962820f",
   "metadata": {},
   "outputs": [],
   "source": [
    "# imputer = SimpleImputer(missing_values=np.nan, strategy='most_frequent',verbose = 0)\n",
    "\n",
    "# imputer = imputer.fit_transform(df[objects])"
   ]
  },
  {
   "cell_type": "code",
   "execution_count": 86,
   "id": "d612d8e4",
   "metadata": {},
   "outputs": [
    {
     "data": {
      "text/plain": [
       "age                 0\n",
       "workclass         320\n",
       "education           0\n",
       "education-num       0\n",
       "marital-status      0\n",
       "occupation        321\n",
       "relationship        0\n",
       "race                0\n",
       "sex                 0\n",
       "capital-gain        0\n",
       "capital-loss        0\n",
       "hours-per-week      0\n",
       "native-country     98\n",
       "Expense             0\n",
       "dtype: int64"
      ]
     },
     "execution_count": 86,
     "metadata": {},
     "output_type": "execute_result"
    }
   ],
   "source": [
    "df.isnull().sum()"
   ]
  },
  {
   "cell_type": "code",
   "execution_count": 87,
   "id": "92670630",
   "metadata": {},
   "outputs": [],
   "source": [
    "imputer = SimpleImputer(missing_values=np.nan, strategy='most_frequent',verbose = 0)\n",
    "imputer=imputer.fit(df [objects].iloc [:,:])\n",
    "df[objects]=imputer.transform(df [objects])"
   ]
  },
  {
   "cell_type": "code",
   "execution_count": 88,
   "id": "868e75ca",
   "metadata": {},
   "outputs": [
    {
     "data": {
      "text/plain": [
       "age               0\n",
       "workclass         0\n",
       "education         0\n",
       "education-num     0\n",
       "marital-status    0\n",
       "occupation        0\n",
       "relationship      0\n",
       "race              0\n",
       "sex               0\n",
       "capital-gain      0\n",
       "capital-loss      0\n",
       "hours-per-week    0\n",
       "native-country    0\n",
       "Expense           0\n",
       "dtype: int64"
      ]
     },
     "execution_count": 88,
     "metadata": {},
     "output_type": "execute_result"
    }
   ],
   "source": [
    "df.isnull().sum()"
   ]
  },
  {
   "cell_type": "code",
   "execution_count": 89,
   "id": "8556c997",
   "metadata": {},
   "outputs": [],
   "source": [
    "num_cols = num_cols[['age','hours-per-week', 'capital-gain','capital-loss']]"
   ]
  },
  {
   "cell_type": "code",
   "execution_count": 90,
   "id": "18178574",
   "metadata": {},
   "outputs": [],
   "source": [
    "import seaborn as sns"
   ]
  },
  {
   "cell_type": "code",
   "execution_count": 91,
   "id": "63ed0363",
   "metadata": {},
   "outputs": [],
   "source": [
    "# df.rename(columns={'hours-per-week': 'hours_per_week', 'capital-gain':'capital_gain','capital_loss' :'capital_loss'}, inplace=True)"
   ]
  },
  {
   "cell_type": "code",
   "execution_count": 92,
   "id": "f22cf7a7",
   "metadata": {},
   "outputs": [
    {
     "data": {
      "image/png": "[encoded data removed]",
      "text/plain": [
       "<Figure size 1500x1500 with 4 Axes>"
      ]
     },
     "metadata": {},
     "output_type": "display_data"
    }
   ],
   "source": [
    "fig, ax = plt.subplots(2,2,figsize = (15,15))\n",
    "for var, subplot in zip(num_cols.columns, ax.flatten()):\n",
    "    sns.boxplot(num_cols[var], ax = subplot)\n",
    "    subplot.set_xlabel(var)  # Add x-axis label to each subplot\n",
    "plt.show()"
   ]
  },
  {
   "cell_type": "markdown",
   "id": "e0fbf697",
   "metadata": {},
   "source": [
    "### Donot use label encoder for target variables directly, as it works on ascii, results might not be according to our convention"
   ]
  },
  {
   "cell_type": "code",
   "execution_count": 93,
   "id": "bc04563e",
   "metadata": {},
   "outputs": [],
   "source": [
    "# from sklearn.preprocessing import LabelEncoder\n",
    "# label_encoder = LabelEncoder()\n",
    "\n",
    "# # Fit and transform the labels (categorical data)\n",
    "# encoded_labels = label_encoder.fit_transform(df['Expense'])\n",
    "# encoded_labels"
   ]
  },
  {
   "cell_type": "markdown",
   "id": "68e95612",
   "metadata": {},
   "source": [
    "### So we use map/lambda"
   ]
  },
  {
   "cell_type": "code",
   "execution_count": 94,
   "id": "68dd2e83",
   "metadata": {},
   "outputs": [],
   "source": [
    "df['Expense'] = df['Expense'].replace({' <=50K': 0,' >50K':1})"
   ]
  },
  {
   "cell_type": "code",
   "execution_count": 95,
   "id": "8bfccd1e",
   "metadata": {},
   "outputs": [
    {
     "data": {
      "text/plain": [
       "0    1\n",
       "1    0\n",
       "2    1\n",
       "3    1\n",
       "4    0\n",
       "Name: Expense, dtype: int64"
      ]
     },
     "execution_count": 95,
     "metadata": {},
     "output_type": "execute_result"
    }
   ],
   "source": [
    "df['Expense'].head()"
   ]
  },
  {
   "cell_type": "code",
   "execution_count": 96,
   "id": "fbf31c18",
   "metadata": {},
   "outputs": [
    {
     "data": {
      "text/plain": [
       "0    0.7552\n",
       "1    0.2448\n",
       "Name: Expense, dtype: float64"
      ]
     },
     "execution_count": 96,
     "metadata": {},
     "output_type": "execute_result"
    }
   ],
   "source": [
    "df.Expense.value_counts(normalize=True)"
   ]
  },
  {
   "cell_type": "markdown",
   "id": "59da8541",
   "metadata": {},
   "source": [
    "### Correlation Matrix for numeric Data"
   ]
  },
  {
   "cell_type": "code",
   "execution_count": 97,
   "id": "75678768",
   "metadata": {},
   "outputs": [
    {
     "data": {
      "image/png": "[encoded data removed]",
      "text/plain": [
       "<Figure size 1000x500 with 2 Axes>"
      ]
     },
     "metadata": {},
     "output_type": "display_data"
    }
   ],
   "source": [
    "plt.figure(figsize=(10,5))\n",
    "sns.set(font_scale = 1)\n",
    "sns.heatmap(num_cols.corr(), \n",
    "           cmap = 'plasma',\n",
    "           vmax=1.0,\n",
    "           vmin = 1.0,\n",
    "           annot = True,\n",
    "           annot_kws = {'size' : 18})\n",
    "plt.show()"
   ]
  },
  {
   "cell_type": "code",
   "execution_count": 98,
   "id": "0da89bdf",
   "metadata": {},
   "outputs": [],
   "source": [
    "# !pip install category_encoders"
   ]
  },
  {
   "cell_type": "markdown",
   "id": "8bdff364",
   "metadata": {},
   "source": [
    "### Encodingof Categorical Variables"
   ]
  },
  {
   "cell_type": "code",
   "execution_count": 99,
   "id": "174324ce",
   "metadata": {},
   "outputs": [],
   "source": [
    "import category_encoders as ce"
   ]
  },
  {
   "cell_type": "code",
   "execution_count": 100,
   "id": "35e7d82b",
   "metadata": {},
   "outputs": [],
   "source": [
    "cat_columns = df.select_dtypes('object').columns"
   ]
  },
  {
   "cell_type": "code",
   "execution_count": null,
   "id": "35a04368",
   "metadata": {},
   "outputs": [],
   "source": []
  },
  {
   "cell_type": "code",
   "execution_count": 101,
   "id": "78babc7c",
   "metadata": {},
   "outputs": [],
   "source": [
    "encoder = ce.WOEEncoder(cols = cat_columns)\n",
    "encode_data = encoder.fit_transform(df[cat_columns],df['Expense'])"
   ]
  },
  {
   "cell_type": "code",
   "execution_count": 102,
   "id": "c7ecefce",
   "metadata": {},
   "outputs": [
    {
     "data": {
      "text/html": [
       "<div>\n",
       "<style scoped>\n",
       "    .dataframe tbody tr th:only-of-type {\n",
       "        vertical-align: middle;\n",
       "    }\n",
       "\n",
       "    .dataframe tbody tr th {\n",
       "        vertical-align: top;\n",
       "    }\n",
       "\n",
       "    .dataframe thead th {\n",
       "        text-align: right;\n",
       "    }\n",
       "</style>\n",
       "<table border=\"1\" class=\"dataframe\">\n",
       "  <thead>\n",
       "    <tr style=\"text-align: right;\">\n",
       "      <th></th>\n",
       "      <th>workclass</th>\n",
       "      <th>education</th>\n",
       "      <th>marital-status</th>\n",
       "      <th>occupation</th>\n",
       "      <th>relationship</th>\n",
       "      <th>race</th>\n",
       "      <th>sex</th>\n",
       "      <th>native-country</th>\n",
       "    </tr>\n",
       "  </thead>\n",
       "  <tbody>\n",
       "    <tr>\n",
       "      <th>0</th>\n",
       "      <td>1.539872</td>\n",
       "      <td>0.725021</td>\n",
       "      <td>0.968321</td>\n",
       "      <td>1.037001</td>\n",
       "      <td>0.937510</td>\n",
       "      <td>0.085567</td>\n",
       "      <td>0.302285</td>\n",
       "      <td>0.028287</td>\n",
       "    </tr>\n",
       "    <tr>\n",
       "      <th>1</th>\n",
       "      <td>-0.167548</td>\n",
       "      <td>-0.384527</td>\n",
       "      <td>-1.902022</td>\n",
       "      <td>-1.934122</td>\n",
       "      <td>-3.146165</td>\n",
       "      <td>0.085567</td>\n",
       "      <td>0.302285</td>\n",
       "      <td>0.028287</td>\n",
       "    </tr>\n",
       "    <tr>\n",
       "      <th>2</th>\n",
       "      <td>-0.167548</td>\n",
       "      <td>2.367151</td>\n",
       "      <td>0.968321</td>\n",
       "      <td>0.980256</td>\n",
       "      <td>0.937510</td>\n",
       "      <td>0.085567</td>\n",
       "      <td>0.302285</td>\n",
       "      <td>0.028287</td>\n",
       "    </tr>\n",
       "    <tr>\n",
       "      <th>3</th>\n",
       "      <td>0.149164</td>\n",
       "      <td>-0.368765</td>\n",
       "      <td>0.968321</td>\n",
       "      <td>0.980256</td>\n",
       "      <td>1.289741</td>\n",
       "      <td>0.085567</td>\n",
       "      <td>-0.863275</td>\n",
       "      <td>0.028287</td>\n",
       "    </tr>\n",
       "    <tr>\n",
       "      <th>4</th>\n",
       "      <td>0.124464</td>\n",
       "      <td>0.725021</td>\n",
       "      <td>-1.902022</td>\n",
       "      <td>0.980256</td>\n",
       "      <td>-3.146165</td>\n",
       "      <td>0.085567</td>\n",
       "      <td>-0.863275</td>\n",
       "      <td>0.028287</td>\n",
       "    </tr>\n",
       "  </tbody>\n",
       "</table>\n",
       "</div>"
      ],
      "text/plain": [
       "   workclass  education  marital-status  occupation  relationship      race  \\\n",
       "0   1.539872   0.725021        0.968321    1.037001      0.937510  0.085567   \n",
       "1  -0.167548  -0.384527       -1.902022   -1.934122     -3.146165  0.085567   \n",
       "2  -0.167548   2.367151        0.968321    0.980256      0.937510  0.085567   \n",
       "3   0.149164  -0.368765        0.968321    0.980256      1.289741  0.085567   \n",
       "4   0.124464   0.725021       -1.902022    0.980256     -3.146165  0.085567   \n",
       "\n",
       "        sex  native-country  \n",
       "0  0.302285        0.028287  \n",
       "1  0.302285        0.028287  \n",
       "2  0.302285        0.028287  \n",
       "3 -0.863275        0.028287  \n",
       "4 -0.863275        0.028287  "
      ]
     },
     "execution_count": 102,
     "metadata": {},
     "output_type": "execute_result"
    }
   ],
   "source": [
    "encode_data.head()"
   ]
  },
  {
   "cell_type": "code",
   "execution_count": 103,
   "id": "1a34ea12",
   "metadata": {},
   "outputs": [],
   "source": [
    "num_cols['education-num'] = df['education-num']\n",
    "num_cols['Expense'] = df['Expense']"
   ]
  },
  {
   "cell_type": "code",
   "execution_count": 104,
   "id": "a784449c",
   "metadata": {},
   "outputs": [
    {
     "data": {
      "text/html": [
       "<div>\n",
       "<style scoped>\n",
       "    .dataframe tbody tr th:only-of-type {\n",
       "        vertical-align: middle;\n",
       "    }\n",
       "\n",
       "    .dataframe tbody tr th {\n",
       "        vertical-align: top;\n",
       "    }\n",
       "\n",
       "    .dataframe thead th {\n",
       "        text-align: right;\n",
       "    }\n",
       "</style>\n",
       "<table border=\"1\" class=\"dataframe\">\n",
       "  <thead>\n",
       "    <tr style=\"text-align: right;\">\n",
       "      <th></th>\n",
       "      <th>age</th>\n",
       "      <th>hours-per-week</th>\n",
       "      <th>capital-gain</th>\n",
       "      <th>capital-loss</th>\n",
       "      <th>education-num</th>\n",
       "      <th>Expense</th>\n",
       "      <th>workclass</th>\n",
       "      <th>education</th>\n",
       "      <th>marital-status</th>\n",
       "      <th>occupation</th>\n",
       "      <th>relationship</th>\n",
       "      <th>race</th>\n",
       "      <th>sex</th>\n",
       "      <th>native-country</th>\n",
       "    </tr>\n",
       "  </thead>\n",
       "  <tbody>\n",
       "    <tr>\n",
       "      <th>0</th>\n",
       "      <td>39</td>\n",
       "      <td>50</td>\n",
       "      <td>15024</td>\n",
       "      <td>0</td>\n",
       "      <td>13</td>\n",
       "      <td>1</td>\n",
       "      <td>1.539872</td>\n",
       "      <td>0.725021</td>\n",
       "      <td>0.968321</td>\n",
       "      <td>1.037001</td>\n",
       "      <td>0.937510</td>\n",
       "      <td>0.085567</td>\n",
       "      <td>0.302285</td>\n",
       "      <td>0.028287</td>\n",
       "    </tr>\n",
       "    <tr>\n",
       "      <th>1</th>\n",
       "      <td>20</td>\n",
       "      <td>40</td>\n",
       "      <td>0</td>\n",
       "      <td>0</td>\n",
       "      <td>10</td>\n",
       "      <td>0</td>\n",
       "      <td>-0.167548</td>\n",
       "      <td>-0.384527</td>\n",
       "      <td>-1.902022</td>\n",
       "      <td>-1.934122</td>\n",
       "      <td>-3.146165</td>\n",
       "      <td>0.085567</td>\n",
       "      <td>0.302285</td>\n",
       "      <td>0.028287</td>\n",
       "    </tr>\n",
       "    <tr>\n",
       "      <th>2</th>\n",
       "      <td>50</td>\n",
       "      <td>65</td>\n",
       "      <td>0</td>\n",
       "      <td>1902</td>\n",
       "      <td>16</td>\n",
       "      <td>1</td>\n",
       "      <td>-0.167548</td>\n",
       "      <td>2.367151</td>\n",
       "      <td>0.968321</td>\n",
       "      <td>0.980256</td>\n",
       "      <td>0.937510</td>\n",
       "      <td>0.085567</td>\n",
       "      <td>0.302285</td>\n",
       "      <td>0.028287</td>\n",
       "    </tr>\n",
       "    <tr>\n",
       "      <th>3</th>\n",
       "      <td>38</td>\n",
       "      <td>40</td>\n",
       "      <td>0</td>\n",
       "      <td>0</td>\n",
       "      <td>9</td>\n",
       "      <td>1</td>\n",
       "      <td>0.149164</td>\n",
       "      <td>-0.368765</td>\n",
       "      <td>0.968321</td>\n",
       "      <td>0.980256</td>\n",
       "      <td>1.289741</td>\n",
       "      <td>0.085567</td>\n",
       "      <td>-0.863275</td>\n",
       "      <td>0.028287</td>\n",
       "    </tr>\n",
       "    <tr>\n",
       "      <th>4</th>\n",
       "      <td>23</td>\n",
       "      <td>60</td>\n",
       "      <td>0</td>\n",
       "      <td>0</td>\n",
       "      <td>13</td>\n",
       "      <td>0</td>\n",
       "      <td>0.124464</td>\n",
       "      <td>0.725021</td>\n",
       "      <td>-1.902022</td>\n",
       "      <td>0.980256</td>\n",
       "      <td>-3.146165</td>\n",
       "      <td>0.085567</td>\n",
       "      <td>-0.863275</td>\n",
       "      <td>0.028287</td>\n",
       "    </tr>\n",
       "  </tbody>\n",
       "</table>\n",
       "</div>"
      ],
      "text/plain": [
       "   age  hours-per-week  capital-gain  capital-loss  education-num  Expense  \\\n",
       "0   39              50         15024             0             13        1   \n",
       "1   20              40             0             0             10        0   \n",
       "2   50              65             0          1902             16        1   \n",
       "3   38              40             0             0              9        1   \n",
       "4   23              60             0             0             13        0   \n",
       "\n",
       "   workclass  education  marital-status  occupation  relationship      race  \\\n",
       "0   1.539872   0.725021        0.968321    1.037001      0.937510  0.085567   \n",
       "1  -0.167548  -0.384527       -1.902022   -1.934122     -3.146165  0.085567   \n",
       "2  -0.167548   2.367151        0.968321    0.980256      0.937510  0.085567   \n",
       "3   0.149164  -0.368765        0.968321    0.980256      1.289741  0.085567   \n",
       "4   0.124464   0.725021       -1.902022    0.980256     -3.146165  0.085567   \n",
       "\n",
       "        sex  native-country  \n",
       "0  0.302285        0.028287  \n",
       "1  0.302285        0.028287  \n",
       "2  0.302285        0.028287  \n",
       "3 -0.863275        0.028287  \n",
       "4 -0.863275        0.028287  "
      ]
     },
     "execution_count": 104,
     "metadata": {},
     "output_type": "execute_result"
    }
   ],
   "source": [
    "df_salary = pd.concat([num_cols, encode_data],axis = 1)\n",
    "df_salary.head()"
   ]
  },
  {
   "cell_type": "code",
   "execution_count": 105,
   "id": "db0b709b",
   "metadata": {},
   "outputs": [
    {
     "data": {
      "text/plain": [
       "(5000, 14)"
      ]
     },
     "execution_count": 105,
     "metadata": {},
     "output_type": "execute_result"
    }
   ],
   "source": [
    "df_salary.shape"
   ]
  },
  {
   "cell_type": "markdown",
   "id": "6e15ddd1",
   "metadata": {},
   "source": [
    "### Train Test Split"
   ]
  },
  {
   "cell_type": "code",
   "execution_count": 106,
   "id": "fdfd285e",
   "metadata": {},
   "outputs": [],
   "source": [
    "X = df_salary.drop('Expense',axis = 1)\n",
    "Y = df_salary['Expense']"
   ]
  },
  {
   "cell_type": "code",
   "execution_count": 107,
   "id": "afec88e2",
   "metadata": {},
   "outputs": [],
   "source": [
    "from sklearn.model_selection import train_test_split"
   ]
  },
  {
   "cell_type": "code",
   "execution_count": 108,
   "id": "18d731bf",
   "metadata": {},
   "outputs": [],
   "source": [
    "X_train, X_test, y_train, y_test = train_test_split(X,\n",
    "                                                    Y,\n",
    "                                                    test_size=0.30,\n",
    "                                                    stratify = Y,\n",
    "                                                    random_state=0)"
   ]
  },
  {
   "cell_type": "markdown",
   "id": "3726c4af",
   "metadata": {},
   "source": [
    "### Logistic Regression"
   ]
  },
  {
   "cell_type": "code",
   "execution_count": 109,
   "id": "21a32ee6",
   "metadata": {},
   "outputs": [],
   "source": [
    "import statsmodels\n",
    "import statsmodels.api as sm"
   ]
  },
  {
   "cell_type": "code",
   "execution_count": 110,
   "id": "6772c3fd",
   "metadata": {},
   "outputs": [],
   "source": [
    "X_train_c = sm.add_constant(X_train)\n",
    "X_test_c = sm.add_constant(X_test)"
   ]
  },
  {
   "cell_type": "code",
   "execution_count": 111,
   "id": "98d347e0",
   "metadata": {
    "scrolled": true
   },
   "outputs": [
    {
     "name": "stdout",
     "output_type": "stream",
     "text": [
      "Optimization terminated successfully.\n",
      "         Current function value: 0.332703\n",
      "         Iterations 8\n",
      "                           Logit Regression Results                           \n",
      "==============================================================================\n",
      "Dep. Variable:                Expense   No. Observations:                 3500\n",
      "Model:                          Logit   Df Residuals:                     3486\n",
      "Method:                           MLE   Df Model:                           13\n",
      "Date:                Fri, 15 Sep 2023   Pseudo R-squ.:                  0.4023\n",
      "Time:                        11:27:43   Log-Likelihood:                -1164.5\n",
      "converged:                       True   LL-Null:                       -1948.1\n",
      "Covariance Type:            nonrobust   LLR p-value:                     0.000\n",
      "==================================================================================\n",
      "                     coef    std err          z      P>|z|      [0.025      0.975]\n",
      "----------------------------------------------------------------------------------\n",
      "const             -5.3190      0.833     -6.388      0.000      -6.951      -3.687\n",
      "age                0.0237      0.005      5.211      0.000       0.015       0.033\n",
      "hours-per-week     0.0281      0.005      6.082      0.000       0.019       0.037\n",
      "capital-gain       0.0003   2.83e-05     10.025      0.000       0.000       0.000\n",
      "capital-loss       0.0006      0.000      5.547      0.000       0.000       0.001\n",
      "education-num      0.1595      0.071      2.262      0.024       0.021       0.298\n",
      "workclass          0.0304      0.132      0.230      0.818      -0.229       0.290\n",
      "education          0.1998      0.212      0.943      0.346      -0.215       0.615\n",
      "marital-status     0.4537      0.131      3.470      0.001       0.197       0.710\n",
      "occupation         0.5880      0.074      7.970      0.000       0.443       0.733\n",
      "relationship       0.5298      0.130      4.085      0.000       0.276       0.784\n",
      "race               0.4483      0.226      1.986      0.047       0.006       0.891\n",
      "sex               -0.0091      0.128     -0.071      0.943      -0.259       0.241\n",
      "native-country     0.6413      0.272      2.355      0.019       0.108       1.175\n",
      "==================================================================================\n"
     ]
    }
   ],
   "source": [
    "logreg = sm.Logit(y_train, X_train_c).fit()\n",
    "print(logreg.summary())"
   ]
  },
  {
   "cell_type": "code",
   "execution_count": 112,
   "id": "a4c3b2d1",
   "metadata": {},
   "outputs": [
    {
     "data": {
      "text/plain": [
       "2315    0.016153\n",
       "4585    0.695037\n",
       "2829    0.034641\n",
       "3888    0.020167\n",
       "1081    0.043171\n",
       "dtype: float64"
      ]
     },
     "execution_count": 112,
     "metadata": {},
     "output_type": "execute_result"
    }
   ],
   "source": [
    "y_pred_prob = logreg.predict(X_test_c)\n",
    "\n",
    "y_pred_prob.head()"
   ]
  },
  {
   "cell_type": "code",
   "execution_count": 113,
   "id": "13e60d28",
   "metadata": {},
   "outputs": [
    {
     "data": {
      "text/plain": [
       "[0, 1, 0, 0, 0]"
      ]
     },
     "execution_count": 113,
     "metadata": {},
     "output_type": "execute_result"
    }
   ],
   "source": [
    "y_pred = [0 if x < 0.5 else 1 for x in y_pred_prob]\n",
    "y_pred[0:5]"
   ]
  },
  {
   "cell_type": "markdown",
   "id": "9e152485",
   "metadata": {},
   "source": [
    "## Functions to compare models"
   ]
  },
  {
   "cell_type": "code",
   "execution_count": 114,
   "id": "9a9fc18b",
   "metadata": {},
   "outputs": [],
   "source": [
    "from sklearn.metrics import recall_score, precision_score, f1_score, accuracy_score"
   ]
  },
  {
   "cell_type": "code",
   "execution_count": 115,
   "id": "96498188",
   "metadata": {},
   "outputs": [],
   "source": [
    "perf_score = pd.DataFrame(columns=[\"Model\", \"Accuracy\",\"Recall\",\"Precision\",\"F1 Score\"] )"
   ]
  },
  {
   "cell_type": "code",
   "execution_count": 116,
   "id": "f3e851e1",
   "metadata": {},
   "outputs": [],
   "source": [
    "def per_measures(model,test,pred):\n",
    "\n",
    "\n",
    "  accuracy    =accuracy_score(test,pred)\n",
    "  f1score     =f1_score(test,pred)\n",
    "  recall      =recall_score(test,pred)\n",
    "  precision   =precision_score(test,pred)\n",
    "  # aic         =model.aic\n",
    "  # reliability = cohen_kappa_score(test,pred)\n",
    "\n",
    "\n",
    "\n",
    "  return (accuracy,recall,precision,f1score,)"
   ]
  },
  {
   "cell_type": "code",
   "execution_count": 117,
   "id": "d975610e",
   "metadata": {},
   "outputs": [],
   "source": [
    "def update_performance (name,\n",
    "                        model,\n",
    "                        test,\n",
    "                        pred\n",
    "                           ):\n",
    "\n",
    "    # assign 'comp_perf' as global variable\n",
    "    global perf_score\n",
    "\n",
    "\n",
    "    # append the results to the dataframe 'score_card'\n",
    "    # 'ignore_index = True' do not consider the index labels\n",
    "    perf_score = perf_score.append({'Model'       : name,\n",
    "                                    'Accuracy'    : per_measures(model,test,pred)[0],\n",
    "                                    'Recall'      : per_measures(model,test,pred)[1],\n",
    "                                    'Precision'   : per_measures(model,test,pred)[2],\n",
    "                                    'F1 Score'    : per_measures(model,test,pred)[3]\n",
    "                                    # 'AIC'         : per_measures(model,ytest,ypred)[4],\n",
    "                                    # 'Reliability' : per_measures(model,ytest,ypred)[5]\n",
    "\n",
    "                                     },\n",
    "                                   ignore_index = True)"
   ]
  },
  {
   "cell_type": "code",
   "execution_count": 118,
   "id": "281c4b96",
   "metadata": {},
   "outputs": [
    {
     "data": {
      "text/html": [
       "<div>\n",
       "<style scoped>\n",
       "    .dataframe tbody tr th:only-of-type {\n",
       "        vertical-align: middle;\n",
       "    }\n",
       "\n",
       "    .dataframe tbody tr th {\n",
       "        vertical-align: top;\n",
       "    }\n",
       "\n",
       "    .dataframe thead th {\n",
       "        text-align: right;\n",
       "    }\n",
       "</style>\n",
       "<table border=\"1\" class=\"dataframe\">\n",
       "  <thead>\n",
       "    <tr style=\"text-align: right;\">\n",
       "      <th></th>\n",
       "      <th>Model</th>\n",
       "      <th>Accuracy</th>\n",
       "      <th>Recall</th>\n",
       "      <th>Precision</th>\n",
       "      <th>F1 Score</th>\n",
       "    </tr>\n",
       "  </thead>\n",
       "  <tbody>\n",
       "    <tr>\n",
       "      <th>0</th>\n",
       "      <td>LogisticReg-Base</td>\n",
       "      <td>0.846667</td>\n",
       "      <td>0.588556</td>\n",
       "      <td>0.732203</td>\n",
       "      <td>0.652568</td>\n",
       "    </tr>\n",
       "  </tbody>\n",
       "</table>\n",
       "</div>"
      ],
      "text/plain": [
       "              Model  Accuracy    Recall  Precision  F1 Score\n",
       "0  LogisticReg-Base  0.846667  0.588556   0.732203  0.652568"
      ]
     },
     "execution_count": 118,
     "metadata": {},
     "output_type": "execute_result"
    }
   ],
   "source": [
    "update_performance(name = 'LogisticReg-Base', model = logreg, test = y_test, pred=y_pred)\n",
    "perf_score"
   ]
  },
  {
   "cell_type": "code",
   "execution_count": 119,
   "id": "580cd33f",
   "metadata": {},
   "outputs": [],
   "source": [
    "from sklearn.metrics import roc_auc_score, roc_curve"
   ]
  },
  {
   "cell_type": "code",
   "execution_count": 120,
   "id": "86c7b40c",
   "metadata": {},
   "outputs": [
    {
     "data": {
      "image/png": "[encoded data removed]",
      "text/plain": [
       "<Figure size 640x480 with 1 Axes>"
      ]
     },
     "metadata": {},
     "output_type": "display_data"
    }
   ],
   "source": [
    "fpr, tpr, threshold = roc_curve(y_test, y_pred_prob)\n",
    "plt.plot(fpr, tpr)\n",
    "plt.show()"
   ]
  },
  {
   "cell_type": "markdown",
   "id": "c32045f2",
   "metadata": {},
   "source": [
    "### Youden Index"
   ]
  },
  {
   "cell_type": "code",
   "execution_count": 121,
   "id": "ee0fd7da",
   "metadata": {},
   "outputs": [],
   "source": [
    "youden_table = pd.DataFrame({\n",
    "    'TPR':tpr,\n",
    "    'FPR' : fpr,\n",
    "    'Threshold' : threshold\n",
    "})\n",
    "\n",
    "youden_table['Difference'] = youden_table.TPR - youden_table.FPR"
   ]
  },
  {
   "cell_type": "code",
   "execution_count": 122,
   "id": "b2aa3dab",
   "metadata": {},
   "outputs": [
    {
     "data": {
      "text/html": [
       "<div>\n",
       "<style scoped>\n",
       "    .dataframe tbody tr th:only-of-type {\n",
       "        vertical-align: middle;\n",
       "    }\n",
       "\n",
       "    .dataframe tbody tr th {\n",
       "        vertical-align: top;\n",
       "    }\n",
       "\n",
       "    .dataframe thead th {\n",
       "        text-align: right;\n",
       "    }\n",
       "</style>\n",
       "<table border=\"1\" class=\"dataframe\">\n",
       "  <thead>\n",
       "    <tr style=\"text-align: right;\">\n",
       "      <th></th>\n",
       "      <th>TPR</th>\n",
       "      <th>FPR</th>\n",
       "      <th>Threshold</th>\n",
       "      <th>Difference</th>\n",
       "    </tr>\n",
       "  </thead>\n",
       "  <tbody>\n",
       "    <tr>\n",
       "      <th>0</th>\n",
       "      <td>0.866485</td>\n",
       "      <td>0.233010</td>\n",
       "      <td>0.231343</td>\n",
       "      <td>0.633475</td>\n",
       "    </tr>\n",
       "    <tr>\n",
       "      <th>1</th>\n",
       "      <td>0.891008</td>\n",
       "      <td>0.263019</td>\n",
       "      <td>0.199555</td>\n",
       "      <td>0.627990</td>\n",
       "    </tr>\n",
       "    <tr>\n",
       "      <th>2</th>\n",
       "      <td>0.795640</td>\n",
       "      <td>0.167696</td>\n",
       "      <td>0.304262</td>\n",
       "      <td>0.627944</td>\n",
       "    </tr>\n",
       "    <tr>\n",
       "      <th>3</th>\n",
       "      <td>0.888283</td>\n",
       "      <td>0.260371</td>\n",
       "      <td>0.202324</td>\n",
       "      <td>0.627913</td>\n",
       "    </tr>\n",
       "    <tr>\n",
       "      <th>4</th>\n",
       "      <td>0.844687</td>\n",
       "      <td>0.217123</td>\n",
       "      <td>0.250297</td>\n",
       "      <td>0.627564</td>\n",
       "    </tr>\n",
       "    <tr>\n",
       "      <th>...</th>\n",
       "      <td>...</td>\n",
       "      <td>...</td>\n",
       "      <td>...</td>\n",
       "      <td>...</td>\n",
       "    </tr>\n",
       "    <tr>\n",
       "      <th>342</th>\n",
       "      <td>1.000000</td>\n",
       "      <td>0.939982</td>\n",
       "      <td>0.002802</td>\n",
       "      <td>0.060018</td>\n",
       "    </tr>\n",
       "    <tr>\n",
       "      <th>343</th>\n",
       "      <td>1.000000</td>\n",
       "      <td>0.941748</td>\n",
       "      <td>0.002783</td>\n",
       "      <td>0.058252</td>\n",
       "    </tr>\n",
       "    <tr>\n",
       "      <th>344</th>\n",
       "      <td>0.002725</td>\n",
       "      <td>0.000000</td>\n",
       "      <td>1.000000</td>\n",
       "      <td>0.002725</td>\n",
       "    </tr>\n",
       "    <tr>\n",
       "      <th>345</th>\n",
       "      <td>0.000000</td>\n",
       "      <td>0.000000</td>\n",
       "      <td>2.000000</td>\n",
       "      <td>0.000000</td>\n",
       "    </tr>\n",
       "    <tr>\n",
       "      <th>346</th>\n",
       "      <td>1.000000</td>\n",
       "      <td>1.000000</td>\n",
       "      <td>0.000300</td>\n",
       "      <td>0.000000</td>\n",
       "    </tr>\n",
       "  </tbody>\n",
       "</table>\n",
       "<p>347 rows × 4 columns</p>\n",
       "</div>"
      ],
      "text/plain": [
       "          TPR       FPR  Threshold  Difference\n",
       "0    0.866485  0.233010   0.231343    0.633475\n",
       "1    0.891008  0.263019   0.199555    0.627990\n",
       "2    0.795640  0.167696   0.304262    0.627944\n",
       "3    0.888283  0.260371   0.202324    0.627913\n",
       "4    0.844687  0.217123   0.250297    0.627564\n",
       "..        ...       ...        ...         ...\n",
       "342  1.000000  0.939982   0.002802    0.060018\n",
       "343  1.000000  0.941748   0.002783    0.058252\n",
       "344  0.002725  0.000000   1.000000    0.002725\n",
       "345  0.000000  0.000000   2.000000    0.000000\n",
       "346  1.000000  1.000000   0.000300    0.000000\n",
       "\n",
       "[347 rows x 4 columns]"
      ]
     },
     "execution_count": 122,
     "metadata": {},
     "output_type": "execute_result"
    }
   ],
   "source": [
    "youden_table.sort_values('Difference', ascending = False).reset_index(drop=True)"
   ]
  },
  {
   "cell_type": "code",
   "execution_count": 123,
   "id": "e3cfc56e",
   "metadata": {},
   "outputs": [
    {
     "data": {
      "text/plain": [
       "[0, 1, 0, 0, 0]"
      ]
     },
     "execution_count": 123,
     "metadata": {},
     "output_type": "execute_result"
    }
   ],
   "source": [
    "y_pred_youden = [0 if x < 0.231343 else 1 for x in y_pred_prob]\n",
    "y_pred_youden[:5]"
   ]
  },
  {
   "cell_type": "code",
   "execution_count": 124,
   "id": "8e2299c2",
   "metadata": {},
   "outputs": [],
   "source": [
    "from sklearn.metrics import classification_report"
   ]
  },
  {
   "cell_type": "code",
   "execution_count": 125,
   "id": "a7b7e9af",
   "metadata": {},
   "outputs": [
    {
     "name": "stdout",
     "output_type": "stream",
     "text": [
      "              precision    recall  f1-score   support\n",
      "\n",
      "           0       0.87      0.93      0.90      1133\n",
      "           1       0.73      0.59      0.65       367\n",
      "\n",
      "    accuracy                           0.85      1500\n",
      "   macro avg       0.80      0.76      0.78      1500\n",
      "weighted avg       0.84      0.85      0.84      1500\n",
      "\n"
     ]
    }
   ],
   "source": [
    "print(classification_report(y_test, y_pred))"
   ]
  },
  {
   "cell_type": "code",
   "execution_count": 126,
   "id": "006e700e",
   "metadata": {},
   "outputs": [
    {
     "name": "stdout",
     "output_type": "stream",
     "text": [
      "              precision    recall  f1-score   support\n",
      "\n",
      "           0       0.95      0.77      0.85      1133\n",
      "           1       0.55      0.86      0.67       367\n",
      "\n",
      "    accuracy                           0.79      1500\n",
      "   macro avg       0.75      0.82      0.76      1500\n",
      "weighted avg       0.85      0.79      0.80      1500\n",
      "\n"
     ]
    }
   ],
   "source": [
    "print(classification_report(y_test, y_pred_youden))"
   ]
  },
  {
   "cell_type": "code",
   "execution_count": 127,
   "id": "b400d72f",
   "metadata": {},
   "outputs": [
    {
     "data": {
      "text/html": [
       "<div>\n",
       "<style scoped>\n",
       "    .dataframe tbody tr th:only-of-type {\n",
       "        vertical-align: middle;\n",
       "    }\n",
       "\n",
       "    .dataframe tbody tr th {\n",
       "        vertical-align: top;\n",
       "    }\n",
       "\n",
       "    .dataframe thead th {\n",
       "        text-align: right;\n",
       "    }\n",
       "</style>\n",
       "<table border=\"1\" class=\"dataframe\">\n",
       "  <thead>\n",
       "    <tr style=\"text-align: right;\">\n",
       "      <th></th>\n",
       "      <th>Model</th>\n",
       "      <th>Accuracy</th>\n",
       "      <th>Recall</th>\n",
       "      <th>Precision</th>\n",
       "      <th>F1 Score</th>\n",
       "    </tr>\n",
       "  </thead>\n",
       "  <tbody>\n",
       "    <tr>\n",
       "      <th>0</th>\n",
       "      <td>LogisticReg-Base</td>\n",
       "      <td>0.846667</td>\n",
       "      <td>0.588556</td>\n",
       "      <td>0.732203</td>\n",
       "      <td>0.652568</td>\n",
       "    </tr>\n",
       "    <tr>\n",
       "      <th>1</th>\n",
       "      <td>LogisticReg-Youden</td>\n",
       "      <td>0.790667</td>\n",
       "      <td>0.863760</td>\n",
       "      <td>0.545611</td>\n",
       "      <td>0.668776</td>\n",
       "    </tr>\n",
       "  </tbody>\n",
       "</table>\n",
       "</div>"
      ],
      "text/plain": [
       "                Model  Accuracy    Recall  Precision  F1 Score\n",
       "0    LogisticReg-Base  0.846667  0.588556   0.732203  0.652568\n",
       "1  LogisticReg-Youden  0.790667  0.863760   0.545611  0.668776"
      ]
     },
     "execution_count": 127,
     "metadata": {},
     "output_type": "execute_result"
    }
   ],
   "source": [
    "update_performance(name = 'LogisticReg-Youden', model = logreg, test = y_test, pred=y_pred_youden)\n",
    "perf_score"
   ]
  },
  {
   "cell_type": "markdown",
   "id": "3ed44e94",
   "metadata": {},
   "source": [
    "### SK-Learn Logistic Regression"
   ]
  },
  {
   "cell_type": "code",
   "execution_count": 128,
   "id": "9b17772a",
   "metadata": {},
   "outputs": [],
   "source": [
    "from sklearn.linear_model import LogisticRegression"
   ]
  },
  {
   "cell_type": "code",
   "execution_count": 129,
   "id": "d5a91c69",
   "metadata": {},
   "outputs": [],
   "source": [
    "X = df_salary.drop('Expense',axis = 1)\n",
    "Y = df_salary['Expense']"
   ]
  },
  {
   "cell_type": "code",
   "execution_count": 130,
   "id": "ec09d832",
   "metadata": {},
   "outputs": [],
   "source": [
    "from sklearn.model_selection import train_test_split"
   ]
  },
  {
   "cell_type": "code",
   "execution_count": 131,
   "id": "03ae294c",
   "metadata": {},
   "outputs": [],
   "source": [
    "X_train, X_test, y_train, y_test = train_test_split(X,\n",
    "                                                    Y,\n",
    "                                                    test_size=0.30,\n",
    "                                                    stratify = Y,\n",
    "                                                    random_state=0)"
   ]
  },
  {
   "cell_type": "code",
   "execution_count": 132,
   "id": "a667c14c",
   "metadata": {},
   "outputs": [
    {
     "data": {
      "text/plain": [
       "array([0, 1, 0, ..., 1, 0, 0], dtype=int64)"
      ]
     },
     "execution_count": 132,
     "metadata": {},
     "output_type": "execute_result"
    }
   ],
   "source": [
    "lr = LogisticRegression()\n",
    "lr.fit(X_train, y_train)\n",
    "\n",
    "ypred_lr_train = lr.predict(X_train)\n",
    "ypred_lr = lr.predict(X_test)\n",
    "\n",
    "ypred_lr"
   ]
  },
  {
   "cell_type": "code",
   "execution_count": 133,
   "id": "cc0fc79f",
   "metadata": {},
   "outputs": [
    {
     "data": {
      "text/html": [
       "<div>\n",
       "<style scoped>\n",
       "    .dataframe tbody tr th:only-of-type {\n",
       "        vertical-align: middle;\n",
       "    }\n",
       "\n",
       "    .dataframe tbody tr th {\n",
       "        vertical-align: top;\n",
       "    }\n",
       "\n",
       "    .dataframe thead th {\n",
       "        text-align: right;\n",
       "    }\n",
       "</style>\n",
       "<table border=\"1\" class=\"dataframe\">\n",
       "  <thead>\n",
       "    <tr style=\"text-align: right;\">\n",
       "      <th></th>\n",
       "      <th>Model</th>\n",
       "      <th>Accuracy</th>\n",
       "      <th>Recall</th>\n",
       "      <th>Precision</th>\n",
       "      <th>F1 Score</th>\n",
       "    </tr>\n",
       "  </thead>\n",
       "  <tbody>\n",
       "    <tr>\n",
       "      <th>0</th>\n",
       "      <td>LogisticReg-Base</td>\n",
       "      <td>0.846667</td>\n",
       "      <td>0.588556</td>\n",
       "      <td>0.732203</td>\n",
       "      <td>0.652568</td>\n",
       "    </tr>\n",
       "    <tr>\n",
       "      <th>1</th>\n",
       "      <td>LogisticReg-Youden</td>\n",
       "      <td>0.790667</td>\n",
       "      <td>0.863760</td>\n",
       "      <td>0.545611</td>\n",
       "      <td>0.668776</td>\n",
       "    </tr>\n",
       "    <tr>\n",
       "      <th>2</th>\n",
       "      <td>LogisticReg-skl</td>\n",
       "      <td>0.840667</td>\n",
       "      <td>0.577657</td>\n",
       "      <td>0.716216</td>\n",
       "      <td>0.639517</td>\n",
       "    </tr>\n",
       "  </tbody>\n",
       "</table>\n",
       "</div>"
      ],
      "text/plain": [
       "                Model  Accuracy    Recall  Precision  F1 Score\n",
       "0    LogisticReg-Base  0.846667  0.588556   0.732203  0.652568\n",
       "1  LogisticReg-Youden  0.790667  0.863760   0.545611  0.668776\n",
       "2     LogisticReg-skl  0.840667  0.577657   0.716216  0.639517"
      ]
     },
     "execution_count": 133,
     "metadata": {},
     "output_type": "execute_result"
    }
   ],
   "source": [
    "update_performance(name = 'LogisticReg-skl', model = lr, test = y_test, pred=ypred_lr)\n",
    "perf_score"
   ]
  },
  {
   "cell_type": "markdown",
   "id": "6d5ae450",
   "metadata": {},
   "source": [
    "### Naive Bayes"
   ]
  },
  {
   "cell_type": "code",
   "execution_count": 135,
   "id": "2f387428",
   "metadata": {},
   "outputs": [],
   "source": [
    "from sklearn.naive_bayes import GaussianNB, MultinomialNB, BernoulliNB"
   ]
  },
  {
   "cell_type": "code",
   "execution_count": 136,
   "id": "2090269c",
   "metadata": {},
   "outputs": [],
   "source": [
    "gnb = GaussianNB()"
   ]
  },
  {
   "cell_type": "code",
   "execution_count": null,
   "id": "45e392b5",
   "metadata": {},
   "outputs": [],
   "source": []
  },
  {
   "cell_type": "code",
   "execution_count": null,
   "id": "4c8cfd48",
   "metadata": {},
   "outputs": [],
   "source": [
    "# dt = info gain\n",
    "# lr = gradien bases\n",
    "# knn distance based\n",
    "# niave=porb\n",
    "# adaboost = stumps\n",
    "# gb = tree\n",
    "# xgb = tree"
   ]
  },
  {
   "cell_type": "code",
   "execution_count": 137,
   "id": "6aa6a682",
   "metadata": {},
   "outputs": [
    {
     "name": "stdout",
     "output_type": "stream",
     "text": [
      "S\n"
     ]
    }
   ],
   "source": [
    "print(\"S\")"
   ]
  },
  {
   "cell_type": "code",
   "execution_count": null,
   "id": "10da78d8",
   "metadata": {},
   "outputs": [],
   "source": []
  }
 ],
 "metadata": {
  "kernelspec": {
   "display_name": "Python 3 (ipykernel)",
   "language": "python",
   "name": "python3"
  },
  "language_info": {
   "codemirror_mode": {
    "name": "ipython",
    "version": 3
   },
   "file_extension": ".py",
   "mimetype": "text/x-python",
   "name": "python",
   "nbconvert_exporter": "python",
   "pygments_lexer": "ipython3",
   "version": "3.10.9"
  }
 },
 "nbformat": 4,
 "nbformat_minor": 5
}
