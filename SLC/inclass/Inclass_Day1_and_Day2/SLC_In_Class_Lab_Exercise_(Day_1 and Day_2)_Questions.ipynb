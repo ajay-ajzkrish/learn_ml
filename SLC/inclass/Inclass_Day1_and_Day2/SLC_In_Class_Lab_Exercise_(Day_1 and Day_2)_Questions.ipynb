{
 "cells": [
  {
   "cell_type": "markdown",
   "metadata": {
    "id": "CSrCtwvhP3aN"
   },
   "source": [
    "<table align=\"center\" width=100%>\n",
    "    <tr>\n",
    "        <td width=\"20%\">\n",
    "            <img src=\"in_class.png\">\n",
    "        </td>\n",
    "        <td>\n",
    "            <div align=\"center\">\n",
    "                <font color=\"#21618C\" size=8px>\n",
    "                    <b> Inclass - Lab <br>(Day 1 )\n",
    "                    </b>\n",
    "                </font>\n",
    "            </div>\n",
    "        </td>\n",
    "         <td width=\"25%\">\n",
    "            <img src=\"GL-2.png\">\n",
    "        </td>\n",
    "    </tr>\n",
    "</table>"
   ]
  },
  {
   "cell_type": "markdown",
   "metadata": {
    "id": "9RP2dshAP3aR"
   },
   "source": [
    "### About the data set (Heart disease data)\n",
    "\n",
    "The dataset contains information about patients. The aim is to find whether or not a patient has cardiovascular disease based on the several factors from the patient profile. <br> Attribute information: \n",
    "\n",
    "**male:** Gender of patient: male(1) or female(0) \n",
    "\n",
    "**age:** Age of patient\n",
    "\n",
    "**education:** Education level of patient: 1 = Some High School; 2 = High School or GED; 3 = Some College or Vocational School; 4 = college\n",
    "\n",
    "**currentSmoker:** Whether the patient is a smoker now: Yes(1) or No(0)\n",
    "\n",
    "**cigsPerDay:** Average number of cigarettes smoked by patient per day\n",
    "\n",
    "**BPMeds:** Whether the patient is on blood pressure medications: Yes(1) or No(0)\n",
    "\n",
    "**prevalentStroke:** If the patient has a history of heart stroke: Yes(1) or No(0)\n",
    "\n",
    "**prevalentHyp:** If the patient has a history of hypertension: Yes(1) or No(0)\n",
    "\n",
    "**diabetes:**  If the patient has a diabetes: Yes(1) or No(0)\n",
    "\n",
    "**totChol:** Average cholesterol levels in mg/dL\n",
    "\n",
    "**sysBP:** Average systolic blood pressure of patient\n",
    "\n",
    "**diaBP:** Average diastolic blood pressure of patient\n",
    "\n",
    "**BMI:** BMI of patient\n",
    "\n",
    "**heartRate:** Avergae heartrate of patient\n",
    "\n",
    "**glucose:** Average blood glucose levels of patient\n",
    "\n",
    "**CVD:** Does the patient have cardiovascular disease: Yes(1) or No(0)"
   ]
  },
  {
   "cell_type": "markdown",
   "metadata": {
    "id": "JyGqhvasP3aR"
   },
   "source": [
    "## Table of Content\n",
    "\n",
    "**Day1**\n",
    "\n",
    "1. **[Logistic Regression Model](#logreg)**\n",
    "\n",
    "**Day2**\n",
    "\n",
    "2. **[Model Evaluation Metrics](#mod_eval)**\n",
    "3. **[Performance Evaluation Metrics](#perf_eval)**\n",
    "4. **[Determining optimal threshold](#opt)**"
   ]
  },
  {
   "cell_type": "markdown",
   "metadata": {
    "id": "KQpZAuqAP3aS"
   },
   "source": [
    "**Import the required libraries**"
   ]
  },
  {
   "cell_type": "code",
   "execution_count": 1,
   "metadata": {
    "id": "WEm0cdRtP3aS"
   },
   "outputs": [],
   "source": [
    "# import 'Pandas' \n",
    "import pandas as pd \n",
    "\n",
    "# import 'Numpy' \n",
    "import numpy as np\n",
    "\n",
    "# import subpackage of Matplotlib\n",
    "import matplotlib.pyplot as plt\n",
    "from matplotlib.colors import ListedColormap\n",
    "\n",
    "# import 'Seaborn' \n",
    "import seaborn as sns\n",
    "\n",
    "# to suppress warnings \n",
    "from warnings import filterwarnings\n",
    "filterwarnings('ignore')\n",
    "\n",
    "# display all columns of the dataframe\n",
    "pd.options.display.max_columns = None\n",
    "\n",
    "# display all rows of the dataframe\n",
    "pd.options.display.max_rows = None\n",
    " \n",
    "# to display the float values upto 6 decimal places     \n",
    "pd.options.display.float_format = '{:.6f}'.format\n",
    "\n",
    "# import train-test split \n",
    "from sklearn.model_selection import train_test_split\n",
    "\n",
    "# import various functions from statsmodels\n",
    "import statsmodels\n",
    "import statsmodels.api as sm\n",
    "\n",
    "# import StandardScaler to perform scaling\n",
    "from sklearn.preprocessing import StandardScaler \n",
    "\n",
    "# import various functions from sklearn \n",
    "from sklearn import metrics\n",
    "from sklearn.linear_model import LogisticRegression,LinearRegression\n",
    "from sklearn.metrics import classification_report, recall_score\n",
    "from sklearn.metrics import cohen_kappa_score,log_loss\n",
    "from sklearn.metrics import confusion_matrix\n",
    "from sklearn.metrics import roc_curve,roc_auc_score\n",
    "from sklearn.metrics import accuracy_score\n",
    "import statsmodels.api as sm\n",
    "\n",
    "# import function to perform feature selection\n",
    "from sklearn.feature_selection import RFE# type your code here# import 'Pandas' \n",
    "import pandas as pd \n",
    "\n",
    "# import 'Numpy' \n",
    "import numpy as np\n",
    "\n",
    "# import subpackage of Matplotlib\n",
    "import matplotlib.pyplot as plt\n",
    "from matplotlib.colors import ListedColormap\n",
    "\n",
    "# import 'Seaborn' \n",
    "import seaborn as sns\n",
    "\n",
    "# to suppress warnings \n",
    "from warnings import filterwarnings\n",
    "filterwarnings('ignore')\n",
    "\n",
    "# display all columns of the dataframe\n",
    "pd.options.display.max_columns = None\n",
    "\n",
    "# display all rows of the dataframe\n",
    "pd.options.display.max_rows = None\n",
    " \n",
    "# to display the float values upto 6 decimal places     \n",
    "pd.options.display.float_format = '{:.6f}'.format\n",
    "\n",
    "# import train-test split \n",
    "from sklearn.model_selection import train_test_split\n",
    "\n",
    "# import various functions from statsmodels\n",
    "import statsmodels\n",
    "import statsmodels.api as sm\n",
    "\n",
    "# import StandardScaler to perform scaling\n",
    "from sklearn.preprocessing import StandardScaler \n",
    "\n",
    "# import various functions from sklearn \n",
    "from sklearn import metrics\n",
    "from sklearn.linear_model import LogisticRegression,LinearRegression\n",
    "from sklearn.metrics import classification_report, recall_score\n",
    "from sklearn.metrics import cohen_kappa_score\n",
    "from sklearn.metrics import confusion_matrix\n",
    "from sklearn.metrics import roc_curve\n",
    "from sklearn.metrics import accuracy_score\n",
    "import statsmodels.api as sm\n",
    "\n",
    "# import function to perform feature selection\n",
    "from sklearn.feature_selection import RFE"
   ]
  },
  {
   "cell_type": "markdown",
   "metadata": {
    "id": "360i7w09P3aT"
   },
   "source": [
    "#### Load the csv file"
   ]
  },
  {
   "cell_type": "code",
   "execution_count": 2,
   "metadata": {
    "id": "9R9anH-RP3aT"
   },
   "outputs": [
    {
     "data": {
      "text/html": [
       "<div>\n",
       "<style scoped>\n",
       "    .dataframe tbody tr th:only-of-type {\n",
       "        vertical-align: middle;\n",
       "    }\n",
       "\n",
       "    .dataframe tbody tr th {\n",
       "        vertical-align: top;\n",
       "    }\n",
       "\n",
       "    .dataframe thead th {\n",
       "        text-align: right;\n",
       "    }\n",
       "</style>\n",
       "<table border=\"1\" class=\"dataframe\">\n",
       "  <thead>\n",
       "    <tr style=\"text-align: right;\">\n",
       "      <th></th>\n",
       "      <th>male</th>\n",
       "      <th>age</th>\n",
       "      <th>education</th>\n",
       "      <th>currentSmoker</th>\n",
       "      <th>cigsPerDay</th>\n",
       "      <th>BPMeds</th>\n",
       "      <th>prevalentStroke</th>\n",
       "      <th>prevalentHyp</th>\n",
       "      <th>diabetes</th>\n",
       "      <th>totChol</th>\n",
       "      <th>sysBP</th>\n",
       "      <th>diaBP</th>\n",
       "      <th>BMI</th>\n",
       "      <th>heartRate</th>\n",
       "      <th>glucose</th>\n",
       "      <th>CVD</th>\n",
       "    </tr>\n",
       "  </thead>\n",
       "  <tbody>\n",
       "    <tr>\n",
       "      <th>0</th>\n",
       "      <td>1</td>\n",
       "      <td>39</td>\n",
       "      <td>4.000000</td>\n",
       "      <td>0</td>\n",
       "      <td>0.000000</td>\n",
       "      <td>0.000000</td>\n",
       "      <td>0</td>\n",
       "      <td>0</td>\n",
       "      <td>0</td>\n",
       "      <td>195.000000</td>\n",
       "      <td>106.000000</td>\n",
       "      <td>70.000000</td>\n",
       "      <td>26.970000</td>\n",
       "      <td>80.000000</td>\n",
       "      <td>77.000000</td>\n",
       "      <td>0</td>\n",
       "    </tr>\n",
       "    <tr>\n",
       "      <th>1</th>\n",
       "      <td>0</td>\n",
       "      <td>46</td>\n",
       "      <td>2.000000</td>\n",
       "      <td>0</td>\n",
       "      <td>0.000000</td>\n",
       "      <td>0.000000</td>\n",
       "      <td>0</td>\n",
       "      <td>0</td>\n",
       "      <td>0</td>\n",
       "      <td>250.000000</td>\n",
       "      <td>121.000000</td>\n",
       "      <td>81.000000</td>\n",
       "      <td>28.730000</td>\n",
       "      <td>95.000000</td>\n",
       "      <td>76.000000</td>\n",
       "      <td>0</td>\n",
       "    </tr>\n",
       "    <tr>\n",
       "      <th>2</th>\n",
       "      <td>1</td>\n",
       "      <td>48</td>\n",
       "      <td>1.000000</td>\n",
       "      <td>1</td>\n",
       "      <td>20.000000</td>\n",
       "      <td>0.000000</td>\n",
       "      <td>0</td>\n",
       "      <td>0</td>\n",
       "      <td>0</td>\n",
       "      <td>245.000000</td>\n",
       "      <td>127.500000</td>\n",
       "      <td>80.000000</td>\n",
       "      <td>25.340000</td>\n",
       "      <td>75.000000</td>\n",
       "      <td>70.000000</td>\n",
       "      <td>0</td>\n",
       "    </tr>\n",
       "    <tr>\n",
       "      <th>3</th>\n",
       "      <td>0</td>\n",
       "      <td>61</td>\n",
       "      <td>3.000000</td>\n",
       "      <td>1</td>\n",
       "      <td>30.000000</td>\n",
       "      <td>0.000000</td>\n",
       "      <td>0</td>\n",
       "      <td>1</td>\n",
       "      <td>0</td>\n",
       "      <td>225.000000</td>\n",
       "      <td>150.000000</td>\n",
       "      <td>95.000000</td>\n",
       "      <td>28.580000</td>\n",
       "      <td>65.000000</td>\n",
       "      <td>103.000000</td>\n",
       "      <td>1</td>\n",
       "    </tr>\n",
       "    <tr>\n",
       "      <th>4</th>\n",
       "      <td>0</td>\n",
       "      <td>46</td>\n",
       "      <td>3.000000</td>\n",
       "      <td>1</td>\n",
       "      <td>23.000000</td>\n",
       "      <td>0.000000</td>\n",
       "      <td>0</td>\n",
       "      <td>0</td>\n",
       "      <td>0</td>\n",
       "      <td>285.000000</td>\n",
       "      <td>130.000000</td>\n",
       "      <td>84.000000</td>\n",
       "      <td>23.100000</td>\n",
       "      <td>85.000000</td>\n",
       "      <td>85.000000</td>\n",
       "      <td>0</td>\n",
       "    </tr>\n",
       "  </tbody>\n",
       "</table>\n",
       "</div>"
      ],
      "text/plain": [
       "   male  age  education  currentSmoker  cigsPerDay   BPMeds  prevalentStroke  \\\n",
       "0     1   39   4.000000              0    0.000000 0.000000                0   \n",
       "1     0   46   2.000000              0    0.000000 0.000000                0   \n",
       "2     1   48   1.000000              1   20.000000 0.000000                0   \n",
       "3     0   61   3.000000              1   30.000000 0.000000                0   \n",
       "4     0   46   3.000000              1   23.000000 0.000000                0   \n",
       "\n",
       "   prevalentHyp  diabetes    totChol      sysBP     diaBP       BMI  \\\n",
       "0             0         0 195.000000 106.000000 70.000000 26.970000   \n",
       "1             0         0 250.000000 121.000000 81.000000 28.730000   \n",
       "2             0         0 245.000000 127.500000 80.000000 25.340000   \n",
       "3             1         0 225.000000 150.000000 95.000000 28.580000   \n",
       "4             0         0 285.000000 130.000000 84.000000 23.100000   \n",
       "\n",
       "   heartRate    glucose  CVD  \n",
       "0  80.000000  77.000000    0  \n",
       "1  95.000000  76.000000    0  \n",
       "2  75.000000  70.000000    0  \n",
       "3  65.000000 103.000000    1  \n",
       "4  85.000000  85.000000    0  "
      ]
     },
     "execution_count": 2,
     "metadata": {},
     "output_type": "execute_result"
    }
   ],
   "source": [
    "# type your code here\n",
    "df = pd.read_csv('Heart_disease.csv')\n",
    "df.head()"
   ]
  },
  {
   "cell_type": "markdown",
   "metadata": {
    "id": "5XhwleQMP3aT"
   },
   "source": [
    "### Let's begin with some hands-on practice exercises"
   ]
  },
  {
   "cell_type": "markdown",
   "metadata": {
    "id": "0rLdg7_zP3aU"
   },
   "source": [
    "<a id=\"logreg\"> </a>\n",
    "## 1. Logistic regression model"
   ]
  },
  {
   "cell_type": "markdown",
   "metadata": {
    "id": "4Lspr5FTP3aU"
   },
   "source": [
    "## We shall use the heart disease dataset"
   ]
  },
  {
   "cell_type": "markdown",
   "metadata": {
    "collapsed": true,
    "id": "6aIanYblP3aV"
   },
   "source": [
    "<table align=\"left\">\n",
    "    <tr>\n",
    "        <td width=\"6%\">\n",
    "            <img src=\"question_icon.png\">\n",
    "        </td>\n",
    "        <td>\n",
    "            <div align=\"left\", style=\"font-size:120%\">\n",
    "                <font color=\"#21618C\">\n",
    "                    <b>1. Are all the classes of target variable 'CVD' fairly represented by records in the considered dataset ?</b>\n",
    "                </font>\n",
    "            </div>\n",
    "        </td>\n",
    "    </tr>\n",
    "</table>"
   ]
  },
  {
   "cell_type": "code",
   "execution_count": 3,
   "metadata": {
    "id": "aUmbpcGaP3aV"
   },
   "outputs": [
    {
     "data": {
      "text/plain": [
       "0    3596\n",
       "1     644\n",
       "Name: CVD, dtype: int64"
      ]
     },
     "execution_count": 3,
     "metadata": {},
     "output_type": "execute_result"
    }
   ],
   "source": [
    "# type your code here\n",
    "df['CVD'].value_counts()"
   ]
  },
  {
   "cell_type": "code",
   "execution_count": 4,
   "metadata": {},
   "outputs": [
    {
     "data": {
      "text/plain": [
       "(4240, 16)"
      ]
     },
     "execution_count": 4,
     "metadata": {},
     "output_type": "execute_result"
    }
   ],
   "source": [
    "df.shape"
   ]
  },
  {
   "cell_type": "code",
   "execution_count": 5,
   "metadata": {},
   "outputs": [],
   "source": [
    "df.dropna(inplace = True)"
   ]
  },
  {
   "cell_type": "code",
   "execution_count": 6,
   "metadata": {},
   "outputs": [
    {
     "data": {
      "text/plain": [
       "(3658, 16)"
      ]
     },
     "execution_count": 6,
     "metadata": {},
     "output_type": "execute_result"
    }
   ],
   "source": [
    "df.shape"
   ]
  },
  {
   "cell_type": "markdown",
   "metadata": {
    "collapsed": true,
    "id": "C3Y5Me3zP3aV"
   },
   "source": [
    "<table align=\"left\">\n",
    "    <tr>\n",
    "        <td width=\"6%\">\n",
    "            <img src=\"question_icon.png\">\n",
    "        </td>\n",
    "        <td>\n",
    "            <div align=\"left\", style=\"font-size:120%\">\n",
    "                <font color=\"#21618C\">\n",
    "                    <b>2. Predict whether or not a patient will have cardiovascular disease based on the information about blood pressure of the patient. Columns related to blood pressure are diaBP, sysBP and BPMeds.</b>\n",
    "                </font>\n",
    "            </div>\n",
    "        </td>\n",
    "    </tr>\n",
    "</table>"
   ]
  },
  {
   "cell_type": "code",
   "execution_count": 7,
   "metadata": {
    "id": "aVw4txD8P3aW"
   },
   "outputs": [
    {
     "name": "stdout",
     "output_type": "stream",
     "text": [
      "Optimization terminated successfully.\n",
      "         Current function value: 0.402969\n",
      "         Iterations 6\n"
     ]
    },
    {
     "data": {
      "text/html": [
       "<table class=\"simpletable\">\n",
       "<caption>Logit Regression Results</caption>\n",
       "<tr>\n",
       "  <th>Dep. Variable:</th>          <td>CVD</td>       <th>  No. Observations:  </th>  <td>  2560</td>  \n",
       "</tr>\n",
       "<tr>\n",
       "  <th>Model:</th>                 <td>Logit</td>      <th>  Df Residuals:      </th>  <td>  2556</td>  \n",
       "</tr>\n",
       "<tr>\n",
       "  <th>Method:</th>                 <td>MLE</td>       <th>  Df Model:          </th>  <td>     3</td>  \n",
       "</tr>\n",
       "<tr>\n",
       "  <th>Date:</th>            <td>Fri, 08 Sep 2023</td> <th>  Pseudo R-squ.:     </th>  <td>0.05573</td> \n",
       "</tr>\n",
       "<tr>\n",
       "  <th>Time:</th>                <td>13:59:30</td>     <th>  Log-Likelihood:    </th> <td> -1031.6</td> \n",
       "</tr>\n",
       "<tr>\n",
       "  <th>converged:</th>             <td>True</td>       <th>  LL-Null:           </th> <td> -1092.5</td> \n",
       "</tr>\n",
       "<tr>\n",
       "  <th>Covariance Type:</th>     <td>nonrobust</td>    <th>  LLR p-value:       </th> <td>3.204e-26</td>\n",
       "</tr>\n",
       "</table>\n",
       "<table class=\"simpletable\">\n",
       "<tr>\n",
       "     <td></td>       <th>coef</th>     <th>std err</th>      <th>z</th>      <th>P>|z|</th>  <th>[0.025</th>    <th>0.975]</th>  \n",
       "</tr>\n",
       "<tr>\n",
       "  <th>const</th>  <td>   -4.8638</td> <td>    0.395</td> <td>  -12.302</td> <td> 0.000</td> <td>   -5.639</td> <td>   -4.089</td>\n",
       "</tr>\n",
       "<tr>\n",
       "  <th>diaBP</th>  <td>   -0.0081</td> <td>    0.007</td> <td>   -1.161</td> <td> 0.246</td> <td>   -0.022</td> <td>    0.006</td>\n",
       "</tr>\n",
       "<tr>\n",
       "  <th>sysBP</th>  <td>    0.0280</td> <td>    0.004</td> <td>    7.411</td> <td> 0.000</td> <td>    0.021</td> <td>    0.035</td>\n",
       "</tr>\n",
       "<tr>\n",
       "  <th>BPMeds</th> <td>    0.2445</td> <td>    0.269</td> <td>    0.909</td> <td> 0.363</td> <td>   -0.283</td> <td>    0.772</td>\n",
       "</tr>\n",
       "</table>"
      ],
      "text/plain": [
       "<class 'statsmodels.iolib.summary.Summary'>\n",
       "\"\"\"\n",
       "                           Logit Regression Results                           \n",
       "==============================================================================\n",
       "Dep. Variable:                    CVD   No. Observations:                 2560\n",
       "Model:                          Logit   Df Residuals:                     2556\n",
       "Method:                           MLE   Df Model:                            3\n",
       "Date:                Fri, 08 Sep 2023   Pseudo R-squ.:                 0.05573\n",
       "Time:                        13:59:30   Log-Likelihood:                -1031.6\n",
       "converged:                       True   LL-Null:                       -1092.5\n",
       "Covariance Type:            nonrobust   LLR p-value:                 3.204e-26\n",
       "==============================================================================\n",
       "                 coef    std err          z      P>|z|      [0.025      0.975]\n",
       "------------------------------------------------------------------------------\n",
       "const         -4.8638      0.395    -12.302      0.000      -5.639      -4.089\n",
       "diaBP         -0.0081      0.007     -1.161      0.246      -0.022       0.006\n",
       "sysBP          0.0280      0.004      7.411      0.000       0.021       0.035\n",
       "BPMeds         0.2445      0.269      0.909      0.363      -0.283       0.772\n",
       "==============================================================================\n",
       "\"\"\""
      ]
     },
     "execution_count": 7,
     "metadata": {},
     "output_type": "execute_result"
    }
   ],
   "source": [
    "# type your code here\n",
    "x = df[['diaBP','sysBP','BPMeds']]\n",
    "y = df['CVD']\n",
    "xc = sm.add_constant(x)\n",
    "\n",
    "xtrain,xtest,ytrain,ytest = train_test_split(xc,y,test_size=0.3, random_state=1)\n",
    "logreg = sm.Logit(ytrain, xtrain).fit()\n",
    "logreg.summary()"
   ]
  },
  {
   "cell_type": "markdown",
   "metadata": {
    "collapsed": true,
    "id": "F4j27_ZbP3aW"
   },
   "source": [
    "<table align=\"left\">\n",
    "    <tr>\n",
    "        <td width=\"6%\">\n",
    "            <img src=\"question_icon.png\">\n",
    "        </td>\n",
    "        <td>\n",
    "            <div align=\"left\", style=\"font-size:120%\">\n",
    "                <font color=\"#21618C\">\n",
    "                    <b>3. Predict whether or not a patient has cardiovascular disease using the categorical variables in the dataset. How does a unit change in each feature influence the odds of a patient having a cardiocascular disease?</b>\n",
    "                </font>\n",
    "            </div>\n",
    "        </td>\n",
    "    </tr>\n",
    "</table>"
   ]
  },
  {
   "cell_type": "code",
   "execution_count": 8,
   "metadata": {
    "id": "rLNqDz5BP3aW"
   },
   "outputs": [
    {
     "data": {
      "text/html": [
       "<div>\n",
       "<style scoped>\n",
       "    .dataframe tbody tr th:only-of-type {\n",
       "        vertical-align: middle;\n",
       "    }\n",
       "\n",
       "    .dataframe tbody tr th {\n",
       "        vertical-align: top;\n",
       "    }\n",
       "\n",
       "    .dataframe thead th {\n",
       "        text-align: right;\n",
       "    }\n",
       "</style>\n",
       "<table border=\"1\" class=\"dataframe\">\n",
       "  <thead>\n",
       "    <tr style=\"text-align: right;\">\n",
       "      <th></th>\n",
       "      <th>male</th>\n",
       "      <th>age</th>\n",
       "      <th>education</th>\n",
       "      <th>currentSmoker</th>\n",
       "      <th>cigsPerDay</th>\n",
       "      <th>BPMeds</th>\n",
       "      <th>prevalentStroke</th>\n",
       "      <th>prevalentHyp</th>\n",
       "      <th>diabetes</th>\n",
       "      <th>totChol</th>\n",
       "      <th>sysBP</th>\n",
       "      <th>diaBP</th>\n",
       "      <th>BMI</th>\n",
       "      <th>heartRate</th>\n",
       "      <th>glucose</th>\n",
       "      <th>CVD</th>\n",
       "    </tr>\n",
       "  </thead>\n",
       "  <tbody>\n",
       "    <tr>\n",
       "      <th>0</th>\n",
       "      <td>1</td>\n",
       "      <td>39</td>\n",
       "      <td>4.000000</td>\n",
       "      <td>0</td>\n",
       "      <td>0.000000</td>\n",
       "      <td>0.000000</td>\n",
       "      <td>0</td>\n",
       "      <td>0</td>\n",
       "      <td>0</td>\n",
       "      <td>195.000000</td>\n",
       "      <td>106.000000</td>\n",
       "      <td>70.000000</td>\n",
       "      <td>26.970000</td>\n",
       "      <td>80.000000</td>\n",
       "      <td>77.000000</td>\n",
       "      <td>0</td>\n",
       "    </tr>\n",
       "    <tr>\n",
       "      <th>1</th>\n",
       "      <td>0</td>\n",
       "      <td>46</td>\n",
       "      <td>2.000000</td>\n",
       "      <td>0</td>\n",
       "      <td>0.000000</td>\n",
       "      <td>0.000000</td>\n",
       "      <td>0</td>\n",
       "      <td>0</td>\n",
       "      <td>0</td>\n",
       "      <td>250.000000</td>\n",
       "      <td>121.000000</td>\n",
       "      <td>81.000000</td>\n",
       "      <td>28.730000</td>\n",
       "      <td>95.000000</td>\n",
       "      <td>76.000000</td>\n",
       "      <td>0</td>\n",
       "    </tr>\n",
       "    <tr>\n",
       "      <th>2</th>\n",
       "      <td>1</td>\n",
       "      <td>48</td>\n",
       "      <td>1.000000</td>\n",
       "      <td>1</td>\n",
       "      <td>20.000000</td>\n",
       "      <td>0.000000</td>\n",
       "      <td>0</td>\n",
       "      <td>0</td>\n",
       "      <td>0</td>\n",
       "      <td>245.000000</td>\n",
       "      <td>127.500000</td>\n",
       "      <td>80.000000</td>\n",
       "      <td>25.340000</td>\n",
       "      <td>75.000000</td>\n",
       "      <td>70.000000</td>\n",
       "      <td>0</td>\n",
       "    </tr>\n",
       "  </tbody>\n",
       "</table>\n",
       "</div>"
      ],
      "text/plain": [
       "   male  age  education  currentSmoker  cigsPerDay   BPMeds  prevalentStroke  \\\n",
       "0     1   39   4.000000              0    0.000000 0.000000                0   \n",
       "1     0   46   2.000000              0    0.000000 0.000000                0   \n",
       "2     1   48   1.000000              1   20.000000 0.000000                0   \n",
       "\n",
       "   prevalentHyp  diabetes    totChol      sysBP     diaBP       BMI  \\\n",
       "0             0         0 195.000000 106.000000 70.000000 26.970000   \n",
       "1             0         0 250.000000 121.000000 81.000000 28.730000   \n",
       "2             0         0 245.000000 127.500000 80.000000 25.340000   \n",
       "\n",
       "   heartRate   glucose  CVD  \n",
       "0  80.000000 77.000000    0  \n",
       "1  95.000000 76.000000    0  \n",
       "2  75.000000 70.000000    0  "
      ]
     },
     "execution_count": 8,
     "metadata": {},
     "output_type": "execute_result"
    }
   ],
   "source": [
    "# type your code here\n",
    "df.head(3)"
   ]
  },
  {
   "cell_type": "code",
   "execution_count": 9,
   "metadata": {},
   "outputs": [
    {
     "name": "stdout",
     "output_type": "stream",
     "text": [
      "Optimization terminated successfully.\n",
      "         Current function value: 0.418738\n",
      "         Iterations 6\n"
     ]
    },
    {
     "data": {
      "text/html": [
       "<table class=\"simpletable\">\n",
       "<caption>Logit Regression Results</caption>\n",
       "<tr>\n",
       "  <th>Dep. Variable:</th>          <td>CVD</td>       <th>  No. Observations:  </th>  <td>  2560</td>  \n",
       "</tr>\n",
       "<tr>\n",
       "  <th>Model:</th>                 <td>Logit</td>      <th>  Df Residuals:      </th>  <td>  2555</td>  \n",
       "</tr>\n",
       "<tr>\n",
       "  <th>Method:</th>                 <td>MLE</td>       <th>  Df Model:          </th>  <td>     4</td>  \n",
       "</tr>\n",
       "<tr>\n",
       "  <th>Date:</th>            <td>Fri, 08 Sep 2023</td> <th>  Pseudo R-squ.:     </th>  <td>0.01878</td> \n",
       "</tr>\n",
       "<tr>\n",
       "  <th>Time:</th>                <td>13:59:30</td>     <th>  Log-Likelihood:    </th> <td> -1072.0</td> \n",
       "</tr>\n",
       "<tr>\n",
       "  <th>converged:</th>             <td>True</td>       <th>  LL-Null:           </th> <td> -1092.5</td> \n",
       "</tr>\n",
       "<tr>\n",
       "  <th>Covariance Type:</th>     <td>nonrobust</td>    <th>  LLR p-value:       </th> <td>2.643e-08</td>\n",
       "</tr>\n",
       "</table>\n",
       "<table class=\"simpletable\">\n",
       "<tr>\n",
       "         <td></td>            <th>coef</th>     <th>std err</th>      <th>z</th>      <th>P>|z|</th>  <th>[0.025</th>    <th>0.975]</th>  \n",
       "</tr>\n",
       "<tr>\n",
       "  <th>const</th>           <td>   -2.0300</td> <td>    0.094</td> <td>  -21.642</td> <td> 0.000</td> <td>   -2.214</td> <td>   -1.846</td>\n",
       "</tr>\n",
       "<tr>\n",
       "  <th>male</th>            <td>    0.4595</td> <td>    0.114</td> <td>    4.043</td> <td> 0.000</td> <td>    0.237</td> <td>    0.682</td>\n",
       "</tr>\n",
       "<tr>\n",
       "  <th>currentSmoker</th>   <td>    0.0769</td> <td>    0.114</td> <td>    0.676</td> <td> 0.499</td> <td>   -0.146</td> <td>    0.300</td>\n",
       "</tr>\n",
       "<tr>\n",
       "  <th>prevalentStroke</th> <td>    1.2752</td> <td>    0.634</td> <td>    2.011</td> <td> 0.044</td> <td>    0.032</td> <td>    2.518</td>\n",
       "</tr>\n",
       "<tr>\n",
       "  <th>diabetes</th>        <td>    1.1815</td> <td>    0.253</td> <td>    4.669</td> <td> 0.000</td> <td>    0.686</td> <td>    1.677</td>\n",
       "</tr>\n",
       "</table>"
      ],
      "text/plain": [
       "<class 'statsmodels.iolib.summary.Summary'>\n",
       "\"\"\"\n",
       "                           Logit Regression Results                           \n",
       "==============================================================================\n",
       "Dep. Variable:                    CVD   No. Observations:                 2560\n",
       "Model:                          Logit   Df Residuals:                     2555\n",
       "Method:                           MLE   Df Model:                            4\n",
       "Date:                Fri, 08 Sep 2023   Pseudo R-squ.:                 0.01878\n",
       "Time:                        13:59:30   Log-Likelihood:                -1072.0\n",
       "converged:                       True   LL-Null:                       -1092.5\n",
       "Covariance Type:            nonrobust   LLR p-value:                 2.643e-08\n",
       "===================================================================================\n",
       "                      coef    std err          z      P>|z|      [0.025      0.975]\n",
       "-----------------------------------------------------------------------------------\n",
       "const              -2.0300      0.094    -21.642      0.000      -2.214      -1.846\n",
       "male                0.4595      0.114      4.043      0.000       0.237       0.682\n",
       "currentSmoker       0.0769      0.114      0.676      0.499      -0.146       0.300\n",
       "prevalentStroke     1.2752      0.634      2.011      0.044       0.032       2.518\n",
       "diabetes            1.1815      0.253      4.669      0.000       0.686       1.677\n",
       "===================================================================================\n",
       "\"\"\""
      ]
     },
     "execution_count": 9,
     "metadata": {},
     "output_type": "execute_result"
    }
   ],
   "source": [
    "x = df[['male','currentSmoker', 'prevalentStroke','diabetes']]\n",
    "y = df['CVD']\n",
    "xc = sm.add_constant(x)\n",
    "\n",
    "xtrain,xtest,ytrain,ytest = train_test_split(xc,y,test_size=0.3, random_state=1)\n",
    "logreg = sm.Logit(ytrain, xtrain).fit()\n",
    "logreg.summary()"
   ]
  },
  {
   "cell_type": "code",
   "execution_count": 10,
   "metadata": {},
   "outputs": [
    {
     "data": {
      "text/plain": [
       "const             0.131334\n",
       "male              1.583293\n",
       "currentSmoker     1.079971\n",
       "prevalentStroke   3.579362\n",
       "diabetes          3.259100\n",
       "dtype: float64"
      ]
     },
     "execution_count": 10,
     "metadata": {},
     "output_type": "execute_result"
    }
   ],
   "source": [
    "odds = np.exp(logreg.params)\n",
    "odds"
   ]
  },
  {
   "cell_type": "code",
   "execution_count": null,
   "metadata": {},
   "outputs": [],
   "source": []
  },
  {
   "cell_type": "markdown",
   "metadata": {
    "collapsed": true,
    "id": "RZJjQwYcP3aX"
   },
   "source": [
    "<table align=\"left\">\n",
    "    <tr>\n",
    "        <td width=\"6%\">\n",
    "            <img src=\"question_icon.png\">\n",
    "        </td>\n",
    "        <td>\n",
    "            <div align=\"left\", style=\"font-size:120%\">\n",
    "                <font color=\"#21618C\">\n",
    "                    <b>4. Predit if a patient has cardiovascular disease based on whether or not the patient has history of hypertension. Calculate the odds ratio.</b>\n",
    "                </font>\n",
    "            </div>\n",
    "        </td>\n",
    "    </tr>\n",
    "</table>"
   ]
  },
  {
   "cell_type": "code",
   "execution_count": 11,
   "metadata": {
    "id": "uX-VAffCP3aX"
   },
   "outputs": [],
   "source": [
    "# type your code here"
   ]
  },
  {
   "cell_type": "code",
   "execution_count": 12,
   "metadata": {},
   "outputs": [
    {
     "data": {
      "text/html": [
       "<div>\n",
       "<style scoped>\n",
       "    .dataframe tbody tr th:only-of-type {\n",
       "        vertical-align: middle;\n",
       "    }\n",
       "\n",
       "    .dataframe tbody tr th {\n",
       "        vertical-align: top;\n",
       "    }\n",
       "\n",
       "    .dataframe thead th {\n",
       "        text-align: right;\n",
       "    }\n",
       "</style>\n",
       "<table border=\"1\" class=\"dataframe\">\n",
       "  <thead>\n",
       "    <tr style=\"text-align: right;\">\n",
       "      <th>CVD</th>\n",
       "      <th>0</th>\n",
       "      <th>1</th>\n",
       "    </tr>\n",
       "    <tr>\n",
       "      <th>prevalentHyp</th>\n",
       "      <th></th>\n",
       "      <th></th>\n",
       "    </tr>\n",
       "  </thead>\n",
       "  <tbody>\n",
       "    <tr>\n",
       "      <th>0</th>\n",
       "      <td>2245</td>\n",
       "      <td>273</td>\n",
       "    </tr>\n",
       "    <tr>\n",
       "      <th>1</th>\n",
       "      <td>856</td>\n",
       "      <td>284</td>\n",
       "    </tr>\n",
       "  </tbody>\n",
       "</table>\n",
       "</div>"
      ],
      "text/plain": [
       "CVD              0    1\n",
       "prevalentHyp           \n",
       "0             2245  273\n",
       "1              856  284"
      ]
     },
     "execution_count": 12,
     "metadata": {},
     "output_type": "execute_result"
    }
   ],
   "source": [
    "contingency_table = pd.crosstab(df['prevalentHyp'], df['CVD'])\n",
    "contingency_table"
   ]
  },
  {
   "cell_type": "code",
   "execution_count": 13,
   "metadata": {},
   "outputs": [
    {
     "name": "stdout",
     "output_type": "stream",
     "text": [
      "Odds Ratio: 2.7283386395535927\n"
     ]
    }
   ],
   "source": [
    "\n",
    "# Extract counts\n",
    "A = contingency_table.loc[1, 1]\n",
    "B = contingency_table.loc[1, 0]\n",
    "C = contingency_table.loc[0, 1]\n",
    "D = contingency_table.loc[0, 0]\n",
    "\n",
    "# Calculate the odds ratio\n",
    "odds_ratio = (A * D) / (B * C)\n",
    "\n",
    "print(\"Odds Ratio:\", odds_ratio)"
   ]
  },
  {
   "cell_type": "code",
   "execution_count": null,
   "metadata": {},
   "outputs": [],
   "source": []
  },
  {
   "cell_type": "markdown",
   "metadata": {
    "id": "FDDMxoALncuq"
   },
   "source": [
    "<table align=\"center\" width=100%>\n",
    "    <tr>\n",
    "        <td width=\"20%\">\n",
    "            <img src=\"in_class.png\">\n",
    "        </td>\n",
    "        <td>\n",
    "            <div align=\"center\">\n",
    "                <font color=\"#21618C\" size=8px>\n",
    "                    <b> Inclass - Lab <br>(Day 2)\n",
    "                    </b>\n",
    "                </font>\n",
    "            </div>\n",
    "        </td>\n",
    "         <td width=\"25%\">\n",
    "            <img src=\"GL-2.png\">\n",
    "        </td>\n",
    "    </tr>\n",
    "</table>"
   ]
  },
  {
   "cell_type": "markdown",
   "metadata": {
    "id": "uWcZivOuP3aX"
   },
   "source": [
    "<a id=\"mod_eval\"> </a>\n",
    "## 2. Model Evaluation Metrics"
   ]
  },
  {
   "cell_type": "markdown",
   "metadata": {
    "collapsed": true,
    "id": "XXth3WzgP3aX"
   },
   "source": [
    "<table align=\"left\">\n",
    "    <tr>\n",
    "        <td width=\"6%\">\n",
    "            <img src=\"question_icon.png\">\n",
    "        </td>\n",
    "        <td>\n",
    "            <div align=\"left\", style=\"font-size:120%\">\n",
    "                <font color=\"#21618C\">\n",
    "                    <b>5. Build a full model to predict if a patient will have a cardiovascular disease. Find the value of Mcfadden's R<sup>2</sup>.\n",
    "                </font>\n",
    "            </div>\n",
    "        </td>\n",
    "    </tr>\n",
    "</table>"
   ]
  },
  {
   "cell_type": "code",
   "execution_count": 14,
   "metadata": {
    "id": "tIu3sQetP3aX"
   },
   "outputs": [],
   "source": [
    "# type your code here"
   ]
  },
  {
   "cell_type": "code",
   "execution_count": 15,
   "metadata": {},
   "outputs": [
    {
     "name": "stdout",
     "output_type": "stream",
     "text": [
      "Optimization terminated successfully.\n",
      "         Current function value: 0.375656\n",
      "         Iterations 7\n"
     ]
    }
   ],
   "source": [
    "x = df.drop('CVD',axis = 1)\n",
    "y = df['CVD']\n",
    "xc = sm.add_constant(x)\n",
    "\n",
    "xtrain,xtest,ytrain,ytest = train_test_split(xc,y,test_size=0.3, random_state=1)\n",
    "logreg5 = sm.Logit(ytrain, xtrain).fit()\n",
    "logreg5.summary()\n",
    "ypred5 = logreg5.predict(xtest)"
   ]
  },
  {
   "cell_type": "code",
   "execution_count": null,
   "metadata": {},
   "outputs": [],
   "source": []
  },
  {
   "cell_type": "markdown",
   "metadata": {
    "collapsed": true,
    "id": "nbNXX7phP3aX"
   },
   "source": [
    "<table align=\"left\">\n",
    "    <tr>\n",
    "        <td width=\"6%\">\n",
    "            <img src=\"question_icon.png\">\n",
    "        </td>\n",
    "        <td>\n",
    "            <div align=\"left\", style=\"font-size:120%\">\n",
    "                <font color=\"#21618C\">\n",
    "                    <b>6. Find the significant variables in the full model when all the variables are considered in prediction of whether or not a patient has cardiovascular disease.\n",
    "                    </b>\n",
    "                </font>\n",
    "            </div>\n",
    "        </td>\n",
    "    </tr>\n",
    "</table>"
   ]
  },
  {
   "cell_type": "code",
   "execution_count": 16,
   "metadata": {
    "id": "JmDYWxX9P3aX"
   },
   "outputs": [],
   "source": [
    "# type your code here"
   ]
  },
  {
   "cell_type": "code",
   "execution_count": 17,
   "metadata": {},
   "outputs": [
    {
     "name": "stdout",
     "output_type": "stream",
     "text": [
      "Optimization terminated successfully.\n",
      "         Current function value: 0.375656\n",
      "         Iterations 7\n"
     ]
    },
    {
     "data": {
      "text/html": [
       "<table class=\"simpletable\">\n",
       "<caption>Logit Regression Results</caption>\n",
       "<tr>\n",
       "  <th>Dep. Variable:</th>          <td>CVD</td>       <th>  No. Observations:  </th>  <td>  2560</td>  \n",
       "</tr>\n",
       "<tr>\n",
       "  <th>Model:</th>                 <td>Logit</td>      <th>  Df Residuals:      </th>  <td>  2544</td>  \n",
       "</tr>\n",
       "<tr>\n",
       "  <th>Method:</th>                 <td>MLE</td>       <th>  Df Model:          </th>  <td>    15</td>  \n",
       "</tr>\n",
       "<tr>\n",
       "  <th>Date:</th>            <td>Fri, 08 Sep 2023</td> <th>  Pseudo R-squ.:     </th>  <td>0.1197</td>  \n",
       "</tr>\n",
       "<tr>\n",
       "  <th>Time:</th>                <td>13:59:35</td>     <th>  Log-Likelihood:    </th> <td> -961.68</td> \n",
       "</tr>\n",
       "<tr>\n",
       "  <th>converged:</th>             <td>True</td>       <th>  LL-Null:           </th> <td> -1092.5</td> \n",
       "</tr>\n",
       "<tr>\n",
       "  <th>Covariance Type:</th>     <td>nonrobust</td>    <th>  LLR p-value:       </th> <td>5.000e-47</td>\n",
       "</tr>\n",
       "</table>\n",
       "<table class=\"simpletable\">\n",
       "<tr>\n",
       "         <td></td>            <th>coef</th>     <th>std err</th>      <th>z</th>      <th>P>|z|</th>  <th>[0.025</th>    <th>0.975]</th>  \n",
       "</tr>\n",
       "<tr>\n",
       "  <th>const</th>           <td>   -8.9781</td> <td>    0.868</td> <td>  -10.342</td> <td> 0.000</td> <td>  -10.680</td> <td>   -7.277</td>\n",
       "</tr>\n",
       "<tr>\n",
       "  <th>male</th>            <td>    0.5265</td> <td>    0.131</td> <td>    4.016</td> <td> 0.000</td> <td>    0.270</td> <td>    0.783</td>\n",
       "</tr>\n",
       "<tr>\n",
       "  <th>age</th>             <td>    0.0659</td> <td>    0.008</td> <td>    8.159</td> <td> 0.000</td> <td>    0.050</td> <td>    0.082</td>\n",
       "</tr>\n",
       "<tr>\n",
       "  <th>education</th>       <td>   -0.0312</td> <td>    0.058</td> <td>   -0.533</td> <td> 0.594</td> <td>   -0.146</td> <td>    0.083</td>\n",
       "</tr>\n",
       "<tr>\n",
       "  <th>currentSmoker</th>   <td>    0.2281</td> <td>    0.188</td> <td>    1.212</td> <td> 0.225</td> <td>   -0.141</td> <td>    0.597</td>\n",
       "</tr>\n",
       "<tr>\n",
       "  <th>cigsPerDay</th>      <td>    0.0127</td> <td>    0.008</td> <td>    1.676</td> <td> 0.094</td> <td>   -0.002</td> <td>    0.028</td>\n",
       "</tr>\n",
       "<tr>\n",
       "  <th>BPMeds</th>          <td>    0.1034</td> <td>    0.279</td> <td>    0.371</td> <td> 0.711</td> <td>   -0.444</td> <td>    0.650</td>\n",
       "</tr>\n",
       "<tr>\n",
       "  <th>prevalentStroke</th> <td>    0.5544</td> <td>    0.676</td> <td>    0.820</td> <td> 0.412</td> <td>   -0.770</td> <td>    1.879</td>\n",
       "</tr>\n",
       "<tr>\n",
       "  <th>prevalentHyp</th>    <td>    0.1088</td> <td>    0.165</td> <td>    0.657</td> <td> 0.511</td> <td>   -0.216</td> <td>    0.433</td>\n",
       "</tr>\n",
       "<tr>\n",
       "  <th>diabetes</th>        <td>    0.0349</td> <td>    0.365</td> <td>    0.096</td> <td> 0.924</td> <td>   -0.680</td> <td>    0.750</td>\n",
       "</tr>\n",
       "<tr>\n",
       "  <th>totChol</th>         <td>    0.0030</td> <td>    0.001</td> <td>    2.223</td> <td> 0.026</td> <td>    0.000</td> <td>    0.006</td>\n",
       "</tr>\n",
       "<tr>\n",
       "  <th>sysBP</th>           <td>    0.0159</td> <td>    0.005</td> <td>    3.471</td> <td> 0.001</td> <td>    0.007</td> <td>    0.025</td>\n",
       "</tr>\n",
       "<tr>\n",
       "  <th>diaBP</th>           <td>    0.0010</td> <td>    0.008</td> <td>    0.124</td> <td> 0.901</td> <td>   -0.014</td> <td>    0.016</td>\n",
       "</tr>\n",
       "<tr>\n",
       "  <th>BMI</th>             <td>    0.0057</td> <td>    0.015</td> <td>    0.372</td> <td> 0.710</td> <td>   -0.024</td> <td>    0.035</td>\n",
       "</tr>\n",
       "<tr>\n",
       "  <th>heartRate</th>       <td>   -0.0052</td> <td>    0.005</td> <td>   -1.047</td> <td> 0.295</td> <td>   -0.015</td> <td>    0.005</td>\n",
       "</tr>\n",
       "<tr>\n",
       "  <th>glucose</th>         <td>    0.0080</td> <td>    0.003</td> <td>    2.908</td> <td> 0.004</td> <td>    0.003</td> <td>    0.013</td>\n",
       "</tr>\n",
       "</table>"
      ],
      "text/plain": [
       "<class 'statsmodels.iolib.summary.Summary'>\n",
       "\"\"\"\n",
       "                           Logit Regression Results                           \n",
       "==============================================================================\n",
       "Dep. Variable:                    CVD   No. Observations:                 2560\n",
       "Model:                          Logit   Df Residuals:                     2544\n",
       "Method:                           MLE   Df Model:                           15\n",
       "Date:                Fri, 08 Sep 2023   Pseudo R-squ.:                  0.1197\n",
       "Time:                        13:59:35   Log-Likelihood:                -961.68\n",
       "converged:                       True   LL-Null:                       -1092.5\n",
       "Covariance Type:            nonrobust   LLR p-value:                 5.000e-47\n",
       "===================================================================================\n",
       "                      coef    std err          z      P>|z|      [0.025      0.975]\n",
       "-----------------------------------------------------------------------------------\n",
       "const              -8.9781      0.868    -10.342      0.000     -10.680      -7.277\n",
       "male                0.5265      0.131      4.016      0.000       0.270       0.783\n",
       "age                 0.0659      0.008      8.159      0.000       0.050       0.082\n",
       "education          -0.0312      0.058     -0.533      0.594      -0.146       0.083\n",
       "currentSmoker       0.2281      0.188      1.212      0.225      -0.141       0.597\n",
       "cigsPerDay          0.0127      0.008      1.676      0.094      -0.002       0.028\n",
       "BPMeds              0.1034      0.279      0.371      0.711      -0.444       0.650\n",
       "prevalentStroke     0.5544      0.676      0.820      0.412      -0.770       1.879\n",
       "prevalentHyp        0.1088      0.165      0.657      0.511      -0.216       0.433\n",
       "diabetes            0.0349      0.365      0.096      0.924      -0.680       0.750\n",
       "totChol             0.0030      0.001      2.223      0.026       0.000       0.006\n",
       "sysBP               0.0159      0.005      3.471      0.001       0.007       0.025\n",
       "diaBP               0.0010      0.008      0.124      0.901      -0.014       0.016\n",
       "BMI                 0.0057      0.015      0.372      0.710      -0.024       0.035\n",
       "heartRate          -0.0052      0.005     -1.047      0.295      -0.015       0.005\n",
       "glucose             0.0080      0.003      2.908      0.004       0.003       0.013\n",
       "===================================================================================\n",
       "\"\"\""
      ]
     },
     "execution_count": 17,
     "metadata": {},
     "output_type": "execute_result"
    }
   ],
   "source": [
    "x = df.drop('CVD',axis = 1)\n",
    "y = df['CVD']\n",
    "xc = sm.add_constant(x)\n",
    "\n",
    "xtrain,xtest,ytrain,ytest = train_test_split(xc,y,test_size=0.3, random_state=1)\n",
    "logreg = sm.Logit(ytrain, xtrain).fit()\n",
    "logreg.summary()"
   ]
  },
  {
   "cell_type": "code",
   "execution_count": 18,
   "metadata": {},
   "outputs": [
    {
     "ename": "SyntaxError",
     "evalue": "invalid syntax (3564167343.py, line 1)",
     "output_type": "error",
     "traceback": [
      "\u001b[1;36m  Cell \u001b[1;32mIn[18], line 1\u001b[1;36m\u001b[0m\n\u001b[1;33m    significant variable are those with p valus <0.05\u001b[0m\n\u001b[1;37m                ^\u001b[0m\n\u001b[1;31mSyntaxError\u001b[0m\u001b[1;31m:\u001b[0m invalid syntax\n"
     ]
    }
   ],
   "source": [
    "significant variable are those with p valus <0.05\n",
    "male,age,totChol,sysBP,glucose"
   ]
  },
  {
   "cell_type": "code",
   "execution_count": null,
   "metadata": {},
   "outputs": [],
   "source": [
    "x = df[['male','age','totChol','sysBP','glucose']]\n",
    "y = df['CVD']\n",
    "xc = sm.add_constant(x)\n",
    "\n",
    "xtrain,xtest,ytrain,ytest = train_test_split(xc,y,test_size=0.3, random_state=1)\n",
    "logreg = sm.Logit(ytrain, xtrain).fit()\n",
    "logreg.summary()"
   ]
  },
  {
   "cell_type": "code",
   "execution_count": null,
   "metadata": {},
   "outputs": [],
   "source": []
  },
  {
   "cell_type": "markdown",
   "metadata": {
    "collapsed": true,
    "id": "OB48K4SsP3aY"
   },
   "source": [
    "<table align=\"left\">\n",
    "    <tr>\n",
    "        <td width=\"6%\">\n",
    "            <img src=\"question_icon.png\">\n",
    "        </td>\n",
    "        <td>\n",
    "            <div align=\"left\", style=\"font-size:120%\">\n",
    "                <font color=\"#21618C\">\n",
    "                    <b>7. How do the coefficients of each feature form the dataset impact the odds of a patient having a cardiovascular disease?\n",
    "                    </b>\n",
    "                </font>\n",
    "            </div>\n",
    "        </td>\n",
    "    </tr>\n",
    "</table>"
   ]
  },
  {
   "cell_type": "markdown",
   "metadata": {
    "id": "ZgqYSw95P3aY"
   },
   "source": [
    "# type your code here\n",
    "exponents of odds ratio will give you the affect of that particular feature on target cariable.\n",
    "odds ratio = =exp(coeff).\n",
    "an odds ratio > 1 implies it will that increase in feature will result in higher odds of person having CVD"
   ]
  },
  {
   "cell_type": "markdown",
   "metadata": {
    "id": "fHGtUUMZP3aY"
   },
   "source": [
    "<a id=\"perf_eval\"> </a>\n",
    "## 3. Performance evaluation metrics"
   ]
  },
  {
   "cell_type": "markdown",
   "metadata": {
    "collapsed": true,
    "id": "KoaLywGhP3aY"
   },
   "source": [
    "<table align=\"left\">\n",
    "    <tr>\n",
    "        <td width=\"6%\">\n",
    "            <img src=\"question_icon.png\">\n",
    "        </td>\n",
    "        <td>\n",
    "            <div align=\"left\", style=\"font-size:120%\">\n",
    "                <font color=\"#21618C\">\n",
    "                        <b>8. For the full model, calculate the accuracy manually using the confusion matrix. Consider 0.5 as the probability threshold.</b>\n",
    "                </font>\n",
    "            </div>\n",
    "        </td>\n",
    "    </tr>\n",
    "</table>"
   ]
  },
  {
   "cell_type": "code",
   "execution_count": 19,
   "metadata": {
    "id": "oF4f20mkP3aY"
   },
   "outputs": [],
   "source": [
    "# type your code here"
   ]
  },
  {
   "cell_type": "code",
   "execution_count": 20,
   "metadata": {},
   "outputs": [
    {
     "name": "stdout",
     "output_type": "stream",
     "text": [
      "Optimization terminated successfully.\n",
      "         Current function value: 0.375656\n",
      "         Iterations 7\n"
     ]
    }
   ],
   "source": [
    "x = df.drop('CVD',axis = 1)\n",
    "y = df['CVD']\n",
    "xc = sm.add_constant(x)\n",
    "\n",
    "xtrain,xtest,ytrain,ytest = train_test_split(xc,y,test_size=0.3, random_state=1)\n",
    "logreg = sm.Logit(ytrain, xtrain).fit()"
   ]
  },
  {
   "cell_type": "code",
   "execution_count": 21,
   "metadata": {},
   "outputs": [],
   "source": [
    "ypred_prob = logreg.predict(xtest)\n",
    "ypred = pd.DataFrame([1 if i > 0.5 else 0 for i in ypred_prob])"
   ]
  },
  {
   "cell_type": "code",
   "execution_count": 22,
   "metadata": {},
   "outputs": [],
   "source": [
    "cm = confusion_matrix(ypred,ytest)"
   ]
  },
  {
   "cell_type": "code",
   "execution_count": 23,
   "metadata": {},
   "outputs": [
    {
     "data": {
      "text/plain": [
       "array([[923, 153],\n",
       "       [  8,  14]], dtype=int64)"
      ]
     },
     "execution_count": 23,
     "metadata": {},
     "output_type": "execute_result"
    }
   ],
   "source": [
    "cm"
   ]
  },
  {
   "cell_type": "code",
   "execution_count": 24,
   "metadata": {},
   "outputs": [],
   "source": [
    "accuracy = (cm[0][0] + cm[1][1])/sum(sum(cm))"
   ]
  },
  {
   "cell_type": "code",
   "execution_count": 25,
   "metadata": {},
   "outputs": [
    {
     "data": {
      "text/plain": [
       "0.8533697632058288"
      ]
     },
     "execution_count": 25,
     "metadata": {},
     "output_type": "execute_result"
    }
   ],
   "source": [
    "accuracy"
   ]
  },
  {
   "cell_type": "markdown",
   "metadata": {
    "collapsed": true,
    "id": "3HvxsngKP3aY"
   },
   "source": [
    "<table align=\"left\">\n",
    "    <tr>\n",
    "        <td width=\"6%\">\n",
    "            <img src=\"question_icon.png\">\n",
    "        </td>\n",
    "        <td>\n",
    "            <div align=\"left\", style=\"font-size:120%\">\n",
    "                <font color=\"#21618C\">\n",
    "                    <b>9.  Calculate value of kappa for the full model built in question 5. Consider threshold value as 0.18</b>\n",
    "                </font>\n",
    "            </div>\n",
    "        </td>\n",
    "    </tr>\n",
    "</table>"
   ]
  },
  {
   "cell_type": "code",
   "execution_count": 26,
   "metadata": {
    "id": "0CdZmUkoP3aY"
   },
   "outputs": [
    {
     "data": {
      "text/plain": [
       "0.21566304418842686"
      ]
     },
     "execution_count": 26,
     "metadata": {},
     "output_type": "execute_result"
    }
   ],
   "source": [
    "# type your code here\n",
    "ypred_prob = logreg.predict(xtest)\n",
    "ypred = pd.DataFrame([1 if i > 0.18 else 0 for i in ypred_prob])\n",
    "kappa = cohen_kappa_score(ytest, ypred)\n",
    "kappa"
   ]
  },
  {
   "cell_type": "markdown",
   "metadata": {
    "collapsed": true,
    "id": "IMXuuUtMP3aY"
   },
   "source": [
    "<table align=\"left\">\n",
    "    <tr>\n",
    "        <td width=\"6%\">\n",
    "            <img src=\"question_icon.png\">\n",
    "        </td>\n",
    "        <td>\n",
    "            <div align=\"left\", style=\"font-size:120%\">\n",
    "                <font color=\"#21618C\">\n",
    "                    <b>10. Identify the features from the dataset that are involved in multicollinearity. After that, split the updated data using train_test_split.</b>\n",
    "                </font>\n",
    "            </div>\n",
    "        </td>\n",
    "    </tr>\n",
    "</table>"
   ]
  },
  {
   "cell_type": "code",
   "execution_count": 27,
   "metadata": {
    "id": "DH2v3g4iP3aZ"
   },
   "outputs": [
    {
     "data": {
      "image/png": "[encoded data removed]",
      "text/plain": [
       "<Figure size 1400x600 with 2 Axes>"
      ]
     },
     "metadata": {},
     "output_type": "display_data"
    }
   ],
   "source": [
    "# type your code here\n",
    "plt.figure(figsize=(14,6))\n",
    "sns.heatmap(df.corr()[(df.corr() >= 0.75) | (df.corr() <= -0.75)],annot = True)\n",
    "plt.show()"
   ]
  },
  {
   "cell_type": "code",
   "execution_count": 74,
   "metadata": {},
   "outputs": [
    {
     "data": {
      "text/plain": [
       "Index(['male', 'age', 'education', 'currentSmoker', 'cigsPerDay', 'BPMeds',\n",
       "       'prevalentStroke', 'prevalentHyp', 'diabetes', 'totChol', 'sysBP',\n",
       "       'diaBP', 'BMI', 'heartRate', 'glucose', 'CVD', 'intercept'],\n",
       "      dtype='object')"
      ]
     },
     "execution_count": 74,
     "metadata": {},
     "output_type": "execute_result"
    }
   ],
   "source": [
    "['male', 'age', 'education', 'currentSmoker', 'cigsPerDay', 'BPMeds',\n",
    "       'prevalentStroke', 'prevalentHyp', 'diabetes', 'totChol', 'sysBP',\n",
    "       'diaBP', 'BMI', 'heartRate', 'glucose', 'CVD', 'intercept']"
   ]
  },
  {
   "cell_type": "code",
   "execution_count": 75,
   "metadata": {},
   "outputs": [
    {
     "name": "stdout",
     "output_type": "stream",
     "text": [
      "Optimization terminated successfully.\n",
      "         Current function value: 0.378019\n",
      "         Iterations 7\n"
     ]
    }
   ],
   "source": [
    "x = df.drop(['CVD','sysBP'],axis = 1)\n",
    "y = df['CVD']\n",
    "xc = sm.add_constant(x)\n",
    "\n",
    "xtrain,xtest,ytrain,ytest = train_test_split(xc,y,test_size=0.3, random_state=1)\n",
    "logreg = sm.Logit(ytrain, xtrain).fit()"
   ]
  },
  {
   "cell_type": "markdown",
   "metadata": {
    "collapsed": true,
    "id": "yVgnDseGP3aZ"
   },
   "source": [
    "<table align=\"left\">\n",
    "    <tr>\n",
    "        <td width=\"6%\">\n",
    "            <img src=\"question_icon.png\">\n",
    "        </td>\n",
    "        <td>\n",
    "            <div align=\"left\", style=\"font-size:120%\">\n",
    "                <font color=\"#21618C\">\n",
    "                    <b>11. Use the data obtained from Q10 and identify 5 features that contribute most in the prediction of target variable.<br></b>\n",
    "                </font>\n",
    "            </div>\n",
    "        </td>\n",
    "    </tr>\n",
    "</table>"
   ]
  },
  {
   "cell_type": "code",
   "execution_count": 22,
   "metadata": {
    "id": "Mt93i917P3aZ"
   },
   "outputs": [],
   "source": [
    "# type your code here"
   ]
  },
  {
   "cell_type": "code",
   "execution_count": 82,
   "metadata": {},
   "outputs": [
    {
     "name": "stdout",
     "output_type": "stream",
     "text": [
      "Accuracy with selected features: 0.8306010928961749\n"
     ]
    }
   ],
   "source": [
    "from mlxtend.feature_selection import SequentialFeatureSelector as SFS\n",
    "\n",
    "X_train, X_test, y_train, y_test = train_test_split(X, y, test_size=0.2, random_state=42)\n",
    "\n",
    "# Create a classifier (replace with your own classifier)\n",
    "lr = LogisticRegression()\n",
    "\n",
    "# Define the SequentialFeatureSelector with the desired settings\n",
    "sfs = SFS(estimator=lr, \n",
    "          k_features=5,  # Number of features to select\n",
    "          forward=True,  # Forward selection\n",
    "          floating=False,  # No floating feature selection\n",
    "#           verbose=2,  # Verbose output\n",
    "          scoring='accuracy',  # Scoring metric\n",
    "          cv=3)  # Cross-validation folds\n",
    "\n",
    "# Fit the SFS on the training data\n",
    "sfs = sfs.fit(X_train, y_train)\n",
    "\n",
    "# Get the selected feature indices\n",
    "selected_features_indices = sfs.k_feature_idx_\n",
    "# Transform the training and testing data to include only the selected features\n",
    "X_train_selected = X_train.iloc[:, list(selected_features_indices)]\n",
    "X_test_selected = X_test.iloc[:, list(selected_features_indices)]\n",
    "\n",
    "# Train a classifier on the selected features\n",
    "lr.fit(X_train_selected, y_train)\n",
    "\n",
    "# Make predictions on the test data\n",
    "y_pred = lr.predict(X_test_selected)\n",
    "\n",
    "# Evaluate the classifier\n",
    "accuracy = accuracy_score(y_test, y_pred)\n",
    "print(\"Accuracy with selected features:\", accuracy)\n"
   ]
  },
  {
   "cell_type": "markdown",
   "metadata": {
    "collapsed": true,
    "id": "nXTLxoyJP3aZ"
   },
   "source": [
    "<table align=\"left\">\n",
    "    <tr>\n",
    "        <td width=\"6%\">\n",
    "            <img src=\"question_icon.png\">\n",
    "        </td>\n",
    "        <td>\n",
    "            <div align=\"left\", style=\"font-size:120%\">\n",
    "                <font color=\"#21618C\">\n",
    "                    <b>12. Build a model using the features obtained in question 11. For the model find: \n",
    "                        <ol>                       \n",
    "                         <li>Accuracy</li>\n",
    "                        <li>F<sub>1</sub> score</li>\n",
    "                        </ol>\n",
    "                        </b>\n",
    "                </font>\n",
    "            </div>\n",
    "        </td>\n",
    "    </tr>\n",
    "</table>"
   ]
  },
  {
   "cell_type": "code",
   "execution_count": 95,
   "metadata": {
    "id": "U7t7CsdqP3aZ"
   },
   "outputs": [
    {
     "name": "stdout",
     "output_type": "stream",
     "text": [
      "Accuracy with selected features: 0.8306010928961749\n",
      "Optimization terminated successfully.\n",
      "         Current function value: 0.399854\n",
      "         Iterations 6\n",
      "              precision    recall  f1-score   support\n",
      "\n",
      "           0       0.85      0.99      0.92       931\n",
      "           1       0.38      0.04      0.07       167\n",
      "\n",
      "    accuracy                           0.84      1098\n",
      "   macro avg       0.61      0.51      0.49      1098\n",
      "weighted avg       0.78      0.84      0.79      1098\n",
      "\n"
     ]
    }
   ],
   "source": [
    "# type your code here\n",
    "print(\"Accuracy with selected features:\", accuracy)\n",
    "\n",
    "x = df.iloc[:,list(selected_features_indices)]\n",
    "y = df['CVD']\n",
    "xc = sm.add_constant(x)\n",
    "\n",
    "xtrain,xtest,ytrain,ytest = train_test_split(xc,y,test_size=0.3, random_state=1)\n",
    "\n",
    "logreg12 = sm.Logit(ytrain, xtrain).fit()\n",
    "ytest_prob = logreg12.predict(xtest)\n",
    "ypred = [ 0 if x < 0.5 else 1 for x in ytest_prob]\n",
    "report = classification_report(ytest, ypred)\n",
    "print(report)"
   ]
  },
  {
   "cell_type": "code",
   "execution_count": null,
   "metadata": {},
   "outputs": [],
   "source": []
  },
  {
   "cell_type": "markdown",
   "metadata": {
    "collapsed": true,
    "id": "HUHQIitpP3aZ"
   },
   "source": [
    "<table align=\"left\">\n",
    "    <tr>\n",
    "        <td width=\"6%\">\n",
    "            <img src=\"question_icon.png\">\n",
    "        </td>\n",
    "        <td>\n",
    "            <div align=\"left\", style=\"font-size:120%\">\n",
    "                <font color=\"#21618C\">\n",
    "                    <b>13. Compare the full model in question 5 and the model built in question 12 using their ROC curves. </b>\n",
    "                </font>\n",
    "            </div>\n",
    "        </td>\n",
    "    </tr>\n",
    "</table>"
   ]
  },
  {
   "cell_type": "code",
   "execution_count": 115,
   "metadata": {
    "id": "srmtSdONP3aZ"
   },
   "outputs": [
    {
     "name": "stdout",
     "output_type": "stream",
     "text": [
      "Optimization terminated successfully.\n",
      "         Current function value: 0.375656\n",
      "         Iterations 7\n",
      "Optimization terminated successfully.\n",
      "         Current function value: 0.399854\n",
      "         Iterations 6\n"
     ]
    }
   ],
   "source": [
    "# type your code here\n",
    "\n",
    "#5\n",
    "x = df.drop('CVD',axis = 1)\n",
    "y = df['CVD']\n",
    "xc = sm.add_constant(x)\n",
    "\n",
    "xtrain,xtest,ytrain,ytest = train_test_split(xc,y,test_size=0.3, random_state=1)\n",
    "logreg5 = sm.Logit(ytrain, xtrain).fit()\n",
    "ytest_prob5 = logreg5.predict(xtest)\n",
    "ypred5 = [ 0 if x < 0.5 else 1 for x in ytest_prob]\n",
    "fpr5, tpr5, thresholds5 = roc_curve(ytest, ypred5)\n",
    "\n",
    "#12\n",
    "x = df.iloc[:,list(selected_features_indices)]\n",
    "y = df['CVD']\n",
    "xc = sm.add_constant(x)\n",
    "\n",
    "xtrain,xtest,ytrain,ytest = train_test_split(xc,y,test_size=0.3, random_state=1)\n",
    "\n",
    "logreg12 = sm.Logit(ytrain, xtrain).fit()\n",
    "ytest_prob12 = logreg12.predict(xtest)\n",
    "ypred12 = [ 0 if x < 0.5 else 1 for x in ytest_prob]\n",
    "fpr12, tpr12, thresholds12 = roc_curve(ytest, ypred12)\n",
    "fpr12, tpr12, thresholds12 = roc_curve(ytest, ypred12)\n",
    "\n",
    "\n"
   ]
  },
  {
   "cell_type": "code",
   "execution_count": 116,
   "metadata": {},
   "outputs": [
    {
     "data": {
      "image/png": "[encoded data removed]",
      "text/plain": [
       "<Figure size 640x480 with 1 Axes>"
      ]
     },
     "metadata": {},
     "output_type": "display_data"
    }
   ],
   "source": [
    "plt.plot(fpr5, tpr5)\n",
    "plt.show()"
   ]
  },
  {
   "cell_type": "code",
   "execution_count": 118,
   "metadata": {},
   "outputs": [
    {
     "data": {
      "image/png": "[encoded data removed]",
      "text/plain": [
       "<Figure size 640x480 with 1 Axes>"
      ]
     },
     "metadata": {},
     "output_type": "display_data"
    }
   ],
   "source": [
    "plt.plot(fpr12,tpr12)\n",
    "plt.show()"
   ]
  },
  {
   "cell_type": "markdown",
   "metadata": {
    "collapsed": true,
    "id": "xdjU2hw3P3aZ"
   },
   "source": [
    "<table align=\"left\">\n",
    "    <tr>\n",
    "        <td width=\"6%\">\n",
    "            <img src=\"question_icon.png\">\n",
    "        </td>\n",
    "        <td>\n",
    "            <div align=\"left\", style=\"font-size:120%\">\n",
    "                <font color=\"#21618C\">\n",
    "                    <b>14. Build a logistic regression model using information about heart rate of the patients. Compute the AUC score.</b>\n",
    "                </font>\n",
    "            </div>\n",
    "        </td>\n",
    "    </tr>\n",
    "</table>"
   ]
  },
  {
   "cell_type": "code",
   "execution_count": 119,
   "metadata": {
    "id": "dX1iBOmIP3aa"
   },
   "outputs": [],
   "source": [
    "# type your code here"
   ]
  },
  {
   "cell_type": "code",
   "execution_count": 120,
   "metadata": {},
   "outputs": [
    {
     "data": {
      "text/html": [
       "<div>\n",
       "<style scoped>\n",
       "    .dataframe tbody tr th:only-of-type {\n",
       "        vertical-align: middle;\n",
       "    }\n",
       "\n",
       "    .dataframe tbody tr th {\n",
       "        vertical-align: top;\n",
       "    }\n",
       "\n",
       "    .dataframe thead th {\n",
       "        text-align: right;\n",
       "    }\n",
       "</style>\n",
       "<table border=\"1\" class=\"dataframe\">\n",
       "  <thead>\n",
       "    <tr style=\"text-align: right;\">\n",
       "      <th></th>\n",
       "      <th>male</th>\n",
       "      <th>age</th>\n",
       "      <th>education</th>\n",
       "      <th>currentSmoker</th>\n",
       "      <th>cigsPerDay</th>\n",
       "      <th>BPMeds</th>\n",
       "      <th>prevalentStroke</th>\n",
       "      <th>prevalentHyp</th>\n",
       "      <th>diabetes</th>\n",
       "      <th>totChol</th>\n",
       "      <th>sysBP</th>\n",
       "      <th>diaBP</th>\n",
       "      <th>BMI</th>\n",
       "      <th>heartRate</th>\n",
       "      <th>glucose</th>\n",
       "      <th>CVD</th>\n",
       "      <th>intercept</th>\n",
       "    </tr>\n",
       "  </thead>\n",
       "  <tbody>\n",
       "    <tr>\n",
       "      <th>0</th>\n",
       "      <td>1</td>\n",
       "      <td>39</td>\n",
       "      <td>4.000000</td>\n",
       "      <td>0</td>\n",
       "      <td>0.000000</td>\n",
       "      <td>0.000000</td>\n",
       "      <td>0</td>\n",
       "      <td>0</td>\n",
       "      <td>0</td>\n",
       "      <td>195.000000</td>\n",
       "      <td>106.000000</td>\n",
       "      <td>70.000000</td>\n",
       "      <td>26.970000</td>\n",
       "      <td>80.000000</td>\n",
       "      <td>77.000000</td>\n",
       "      <td>0</td>\n",
       "      <td>1</td>\n",
       "    </tr>\n",
       "    <tr>\n",
       "      <th>1</th>\n",
       "      <td>0</td>\n",
       "      <td>46</td>\n",
       "      <td>2.000000</td>\n",
       "      <td>0</td>\n",
       "      <td>0.000000</td>\n",
       "      <td>0.000000</td>\n",
       "      <td>0</td>\n",
       "      <td>0</td>\n",
       "      <td>0</td>\n",
       "      <td>250.000000</td>\n",
       "      <td>121.000000</td>\n",
       "      <td>81.000000</td>\n",
       "      <td>28.730000</td>\n",
       "      <td>95.000000</td>\n",
       "      <td>76.000000</td>\n",
       "      <td>0</td>\n",
       "      <td>1</td>\n",
       "    </tr>\n",
       "    <tr>\n",
       "      <th>2</th>\n",
       "      <td>1</td>\n",
       "      <td>48</td>\n",
       "      <td>1.000000</td>\n",
       "      <td>1</td>\n",
       "      <td>20.000000</td>\n",
       "      <td>0.000000</td>\n",
       "      <td>0</td>\n",
       "      <td>0</td>\n",
       "      <td>0</td>\n",
       "      <td>245.000000</td>\n",
       "      <td>127.500000</td>\n",
       "      <td>80.000000</td>\n",
       "      <td>25.340000</td>\n",
       "      <td>75.000000</td>\n",
       "      <td>70.000000</td>\n",
       "      <td>0</td>\n",
       "      <td>1</td>\n",
       "    </tr>\n",
       "    <tr>\n",
       "      <th>3</th>\n",
       "      <td>0</td>\n",
       "      <td>61</td>\n",
       "      <td>3.000000</td>\n",
       "      <td>1</td>\n",
       "      <td>30.000000</td>\n",
       "      <td>0.000000</td>\n",
       "      <td>0</td>\n",
       "      <td>1</td>\n",
       "      <td>0</td>\n",
       "      <td>225.000000</td>\n",
       "      <td>150.000000</td>\n",
       "      <td>95.000000</td>\n",
       "      <td>28.580000</td>\n",
       "      <td>65.000000</td>\n",
       "      <td>103.000000</td>\n",
       "      <td>1</td>\n",
       "      <td>1</td>\n",
       "    </tr>\n",
       "    <tr>\n",
       "      <th>4</th>\n",
       "      <td>0</td>\n",
       "      <td>46</td>\n",
       "      <td>3.000000</td>\n",
       "      <td>1</td>\n",
       "      <td>23.000000</td>\n",
       "      <td>0.000000</td>\n",
       "      <td>0</td>\n",
       "      <td>0</td>\n",
       "      <td>0</td>\n",
       "      <td>285.000000</td>\n",
       "      <td>130.000000</td>\n",
       "      <td>84.000000</td>\n",
       "      <td>23.100000</td>\n",
       "      <td>85.000000</td>\n",
       "      <td>85.000000</td>\n",
       "      <td>0</td>\n",
       "      <td>1</td>\n",
       "    </tr>\n",
       "  </tbody>\n",
       "</table>\n",
       "</div>"
      ],
      "text/plain": [
       "   male  age  education  currentSmoker  cigsPerDay   BPMeds  prevalentStroke  \\\n",
       "0     1   39   4.000000              0    0.000000 0.000000                0   \n",
       "1     0   46   2.000000              0    0.000000 0.000000                0   \n",
       "2     1   48   1.000000              1   20.000000 0.000000                0   \n",
       "3     0   61   3.000000              1   30.000000 0.000000                0   \n",
       "4     0   46   3.000000              1   23.000000 0.000000                0   \n",
       "\n",
       "   prevalentHyp  diabetes    totChol      sysBP     diaBP       BMI  \\\n",
       "0             0         0 195.000000 106.000000 70.000000 26.970000   \n",
       "1             0         0 250.000000 121.000000 81.000000 28.730000   \n",
       "2             0         0 245.000000 127.500000 80.000000 25.340000   \n",
       "3             1         0 225.000000 150.000000 95.000000 28.580000   \n",
       "4             0         0 285.000000 130.000000 84.000000 23.100000   \n",
       "\n",
       "   heartRate    glucose  CVD  intercept  \n",
       "0  80.000000  77.000000    0          1  \n",
       "1  95.000000  76.000000    0          1  \n",
       "2  75.000000  70.000000    0          1  \n",
       "3  65.000000 103.000000    1          1  \n",
       "4  85.000000  85.000000    0          1  "
      ]
     },
     "execution_count": 120,
     "metadata": {},
     "output_type": "execute_result"
    }
   ],
   "source": [
    "df.head()"
   ]
  },
  {
   "cell_type": "code",
   "execution_count": 142,
   "metadata": {},
   "outputs": [],
   "source": [
    "x = df['heartRate']\n",
    "y = df['CVD']\n",
    "xc = sm.add_constant(x)\n",
    "lr = LogisticRegression()\n",
    "xtrain,xtest,ytrain,ytest = train_test_split(xc,y,test_size=0.3, random_state=1)\n",
    "lr_model14 = lr.fit(xtrain,ytrain)\n",
    "y_prob14 = lr_model14.predict_proba(xtest)[:, 1]\n",
    "auc_score = roc_auc_score(ytest, y_prob14)"
   ]
  },
  {
   "cell_type": "code",
   "execution_count": 143,
   "metadata": {},
   "outputs": [
    {
     "data": {
      "text/plain": [
       "0.5189835152466281"
      ]
     },
     "execution_count": 143,
     "metadata": {},
     "output_type": "execute_result"
    }
   ],
   "source": [
    "auc_score"
   ]
  },
  {
   "cell_type": "markdown",
   "metadata": {
    "collapsed": true,
    "id": "qOo0f62-P3aa"
   },
   "source": [
    "<table align=\"left\">\n",
    "    <tr>\n",
    "        <td width=\"6%\">\n",
    "            <img src=\"question_icon.png\">\n",
    "        </td>\n",
    "        <td>\n",
    "            <div align=\"left\", style=\"font-size:120%\">\n",
    "                <font color=\"#21618C\">\n",
    "                    <b>15. Calculate the cross entropy for the model built in question 14.</b>\n",
    "                </font>\n",
    "            </div>\n",
    "        </td>\n",
    "    </tr>\n",
    "</table>"
   ]
  },
  {
   "cell_type": "code",
   "execution_count": 146,
   "metadata": {
    "id": "MoSAcEYDP3aa"
   },
   "outputs": [
    {
     "name": "stdout",
     "output_type": "stream",
     "text": [
      "0.42609672400163917\n"
     ]
    }
   ],
   "source": [
    "# type your code here\n",
    "cross_entropy = log_loss(ytest, y_prob14)\n",
    "print(cross_entropy)"
   ]
  },
  {
   "cell_type": "markdown",
   "metadata": {
    "collapsed": true,
    "id": "p1ao1mcVP3aa"
   },
   "source": [
    "<table align=\"left\">\n",
    "    <tr>\n",
    "        <td width=\"6%\">\n",
    "            <img src=\"question_icon.png\">\n",
    "        </td>\n",
    "        <td>\n",
    "            <div align=\"left\", style=\"font-size:120%\">\n",
    "                <font color=\"#21618C\">\n",
    "                    <b>16. Compare the model built in question 14 to the full model built in question 5.</b>\n",
    "                </font>\n",
    "            </div>\n",
    "        </td>\n",
    "    </tr>\n",
    "</table>"
   ]
  },
  {
   "cell_type": "code",
   "execution_count": 150,
   "metadata": {
    "id": "T2HWP58PP3aa"
   },
   "outputs": [
    {
     "name": "stdout",
     "output_type": "stream",
     "text": [
      "Logloss for 14th: 0.42609672400163917\n",
      "Logloss for 5th 0.38021779345865525\n"
     ]
    }
   ],
   "source": [
    "# type your code here\n",
    "print('Logloss for 14th:',log_loss(ytest, y_prob14))\n",
    "print('Logloss for 5th',log_loss(ytest, ypred5))"
   ]
  },
  {
   "cell_type": "markdown",
   "metadata": {
    "collapsed": true,
    "id": "mD-aUEYTP3aa"
   },
   "source": [
    "<table align=\"left\">\n",
    "    <tr>\n",
    "        <td width=\"6%\">\n",
    "            <img src=\"question_icon.png\">\n",
    "        </td>\n",
    "        <td>\n",
    "            <div align=\"left\", style=\"font-size:120%\">\n",
    "                <font color=\"#21618C\">\n",
    "                    <b>17. What is the cross entropy for the full model? Use the full model in Q5.</b>\n",
    "                </font>\n",
    "            </div>\n",
    "        </td>\n",
    "    </tr>\n",
    "</table>"
   ]
  },
  {
   "cell_type": "code",
   "execution_count": 151,
   "metadata": {
    "id": "h5Ck97ooP3aa"
   },
   "outputs": [
    {
     "name": "stdout",
     "output_type": "stream",
     "text": [
      "Logloss for 5th 0.38021779345865525\n"
     ]
    }
   ],
   "source": [
    "# type your code here\n",
    "print('Logloss for 5th',log_loss(ytest, ypred5))"
   ]
  },
  {
   "cell_type": "markdown",
   "metadata": {
    "collapsed": true,
    "id": "x1jsFP1FP3aa"
   },
   "source": [
    "<table align=\"left\">\n",
    "    <tr>\n",
    "        <td width=\"6%\">\n",
    "            <img src=\"question_icon.png\">\n",
    "        </td>\n",
    "        <td>\n",
    "            <div align=\"left\", style=\"font-size:120%\">\n",
    "                <font color=\"#21618C\">\n",
    "                    <b>18. Predict whether a patient has cardiovascular disease based on smoking habits of the patient. For the model find the following:<br> <ol type = \"a\">\n",
    "                        <li> Precision </li>\n",
    "                        <li> Recall</li>   \n",
    "                        <li> F<sub>1</sub> score </li>\n",
    "                        </ol>\n",
    "                    </b>\n",
    "                </font>\n",
    "            </div>\n",
    "        </td>\n",
    "    </tr>\n",
    "</table>"
   ]
  },
  {
   "cell_type": "code",
   "execution_count": 155,
   "metadata": {
    "id": "NATaE3VZP3aa"
   },
   "outputs": [
    {
     "name": "stdout",
     "output_type": "stream",
     "text": [
      "Optimization terminated successfully.\n",
      "         Current function value: 0.425482\n",
      "         Iterations 6\n",
      "              precision    recall  f1-score   support\n",
      "\n",
      "           0       0.85      1.00      0.92       931\n",
      "           1       0.00      0.00      0.00       167\n",
      "\n",
      "    accuracy                           0.85      1098\n",
      "   macro avg       0.42      0.50      0.46      1098\n",
      "weighted avg       0.72      0.85      0.78      1098\n",
      "\n"
     ]
    }
   ],
   "source": [
    "# type your code here\n",
    "\n",
    "x = df[['currentSmoker','cigsPerDay']]\n",
    "y = df['CVD']\n",
    "xc = sm.add_constant(x)\n",
    "\n",
    "xtrain,xtest,ytrain,ytest = train_test_split(xc,y,test_size=0.3, random_state=1)\n",
    "\n",
    "logreg12 = sm.Logit(ytrain, xtrain).fit()\n",
    "ytest_prob = logreg12.predict(xtest)\n",
    "ypred = [ 0 if x < 0.5 else 1 for x in ytest_prob]\n",
    "report = classification_report(ytest, ypred)\n",
    "print(report)"
   ]
  },
  {
   "cell_type": "markdown",
   "metadata": {
    "id": "DLt160eIP3ab"
   },
   "source": [
    "<a id=\"opt\"> </a>\n",
    "## 4. Determining optimal threshold"
   ]
  },
  {
   "cell_type": "markdown",
   "metadata": {
    "collapsed": true,
    "id": "iryDfz4DP3ab"
   },
   "source": [
    "<table align=\"left\">\n",
    "    <tr>\n",
    "        <td width=\"6%\">\n",
    "            <img src=\"question_icon.png\">\n",
    "        </td>\n",
    "        <td>\n",
    "            <div align=\"left\", style=\"font-size:120%\">\n",
    "                <font color=\"#21618C\">\n",
    "                    <b>19. Obtain the optimal value threshold for the full model using the Youden's index.</b>\n",
    "                </font>\n",
    "            </div>\n",
    "        </td>\n",
    "    </tr>\n",
    "</table>"
   ]
  },
  {
   "cell_type": "code",
   "execution_count": 218,
   "metadata": {
    "id": "wV81uJ40P3ab"
   },
   "outputs": [
    {
     "name": "stdout",
     "output_type": "stream",
     "text": [
      "Optimization terminated successfully.\n",
      "         Current function value: 0.375656\n",
      "         Iterations 7\n"
     ]
    },
    {
     "data": {
      "text/html": [
       "<div>\n",
       "<style scoped>\n",
       "    .dataframe tbody tr th:only-of-type {\n",
       "        vertical-align: middle;\n",
       "    }\n",
       "\n",
       "    .dataframe tbody tr th {\n",
       "        vertical-align: top;\n",
       "    }\n",
       "\n",
       "    .dataframe thead th {\n",
       "        text-align: right;\n",
       "    }\n",
       "</style>\n",
       "<table border=\"1\" class=\"dataframe\">\n",
       "  <thead>\n",
       "    <tr style=\"text-align: right;\">\n",
       "      <th></th>\n",
       "      <th>TPR</th>\n",
       "      <th>FPR</th>\n",
       "      <th>Threshold</th>\n",
       "      <th>Difference</th>\n",
       "    </tr>\n",
       "  </thead>\n",
       "  <tbody>\n",
       "    <tr>\n",
       "      <th>176</th>\n",
       "      <td>0.778443</td>\n",
       "      <td>0.402793</td>\n",
       "      <td>0.131867</td>\n",
       "      <td>0.375650</td>\n",
       "    </tr>\n",
       "    <tr>\n",
       "      <th>174</th>\n",
       "      <td>0.772455</td>\n",
       "      <td>0.399570</td>\n",
       "      <td>0.132889</td>\n",
       "      <td>0.372885</td>\n",
       "    </tr>\n",
       "    <tr>\n",
       "      <th>178</th>\n",
       "      <td>0.784431</td>\n",
       "      <td>0.412460</td>\n",
       "      <td>0.129418</td>\n",
       "      <td>0.371971</td>\n",
       "    </tr>\n",
       "    <tr>\n",
       "      <th>172</th>\n",
       "      <td>0.766467</td>\n",
       "      <td>0.396348</td>\n",
       "      <td>0.134819</td>\n",
       "      <td>0.370119</td>\n",
       "    </tr>\n",
       "    <tr>\n",
       "      <th>175</th>\n",
       "      <td>0.772455</td>\n",
       "      <td>0.402793</td>\n",
       "      <td>0.132539</td>\n",
       "      <td>0.369662</td>\n",
       "    </tr>\n",
       "  </tbody>\n",
       "</table>\n",
       "</div>"
      ],
      "text/plain": [
       "         TPR      FPR  Threshold  Difference\n",
       "176 0.778443 0.402793   0.131867    0.375650\n",
       "174 0.772455 0.399570   0.132889    0.372885\n",
       "178 0.784431 0.412460   0.129418    0.371971\n",
       "172 0.766467 0.396348   0.134819    0.370119\n",
       "175 0.772455 0.402793   0.132539    0.369662"
      ]
     },
     "execution_count": 218,
     "metadata": {},
     "output_type": "execute_result"
    }
   ],
   "source": [
    "# type your code here\n",
    "x = df.drop('CVD', axis = 1)\n",
    "y = df['CVD']\n",
    "\n",
    "xc = sm.add_constant(x)\n",
    "\n",
    "xtrain,xtest,ytrain,ytest = train_test_split(xc,y,test_size=0.3, random_state=1)\n",
    "\n",
    "logreg12 = sm.Logit(ytrain, xtrain).fit()\n",
    "ytest_prob = logreg12.predict(xtest)\n",
    "ypred = [ 0 if x < 0.5 else 1 for x in ytest_prob]\n",
    "fpr, tpr, thresholds = roc_curve(ytest, ytest_prob)\n",
    "youdens_table = pd.DataFrame({'TPR': tpr,\n",
    "                             'FPR': fpr,\n",
    "                             'Threshold': thresholds})\n",
    "youdens_table['Difference'] = youdens_table.TPR - youdens_table.FPR\n",
    "youdens_table.sort_values('Difference', ascending = False).head()\n",
    "#optimal threshold = 0.131867"
   ]
  },
  {
   "cell_type": "code",
   "execution_count": null,
   "metadata": {},
   "outputs": [],
   "source": []
  },
  {
   "cell_type": "markdown",
   "metadata": {
    "collapsed": true,
    "id": "q4kUTuVbP3ab"
   },
   "source": [
    "<table align=\"left\">\n",
    "    <tr>\n",
    "        <td width=\"6%\">\n",
    "            <img src=\"question_icon.png\">\n",
    "        </td>\n",
    "        <td>\n",
    "            <div align=\"left\", style=\"font-size:120%\">\n",
    "                <font color=\"#21618C\">\n",
    "                    <b>20. Consider the costs of false negatives and false positives as 3 and 1.3 respectively to obtain the optimal cut-off probability for which the total cost will be minimum.</b>\n",
    "                </font>\n",
    "            </div>\n",
    "        </td>\n",
    "    </tr>\n",
    "</table>"
   ]
  },
  {
   "cell_type": "code",
   "execution_count": 190,
   "metadata": {
    "id": "gClRYvJxP3ab"
   },
   "outputs": [],
   "source": [
    "# type your code here"
   ]
  },
  {
   "cell_type": "code",
   "execution_count": 226,
   "metadata": {},
   "outputs": [
    {
     "data": {
      "text/plain": [
       "321.4"
      ]
     },
     "execution_count": 226,
     "metadata": {},
     "output_type": "execute_result"
    }
   ],
   "source": []
  },
  {
   "cell_type": "code",
   "execution_count": null,
   "metadata": {},
   "outputs": [],
   "source": []
  }
 ],
 "metadata": {
  "colab": {
   "provenance": []
  },
  "kernelspec": {
   "display_name": "Python 3 (ipykernel)",
   "language": "python",
   "name": "python3"
  },
  "language_info": {
   "codemirror_mode": {
    "name": "ipython",
    "version": 3
   },
   "file_extension": ".py",
   "mimetype": "text/x-python",
   "name": "python",
   "nbconvert_exporter": "python",
   "pygments_lexer": "ipython3",
   "version": "3.10.9"
  }
 },
 "nbformat": 4,
 "nbformat_minor": 1
}
