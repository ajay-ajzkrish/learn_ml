{
 "cells": [
  {
   "cell_type": "code",
   "execution_count": 2,
   "id": "86c37bb5",
   "metadata": {},
   "outputs": [],
   "source": [
    "import numpy as np"
   ]
  },
  {
   "cell_type": "code",
   "execution_count": 16,
   "id": "d0ab8364",
   "metadata": {},
   "outputs": [],
   "source": [
    "p,q = 1,0"
   ]
  },
  {
   "cell_type": "code",
   "execution_count": 18,
   "id": "778962c7",
   "metadata": {},
   "outputs": [
    {
     "name": "stdout",
     "output_type": "stream",
     "text": [
      "no\n"
     ]
    }
   ],
   "source": [
    "if p == 0 or q == 0:\n",
    "    print('no')\n",
    "else:\n",
    "    -p*np.log2(p) + (-q*np.log2(q))"
   ]
  },
  {
   "cell_type": "code",
   "execution_count": null,
   "id": "5b860e3e",
   "metadata": {},
   "outputs": [],
   "source": []
  }
 ],
 "metadata": {
  "kernelspec": {
   "display_name": "Python 3 (ipykernel)",
   "language": "python",
   "name": "python3"
  },
  "language_info": {
   "codemirror_mode": {
    "name": "ipython",
    "version": 3
   },
   "file_extension": ".py",
   "mimetype": "text/x-python",
   "name": "python",
   "nbconvert_exporter": "python",
   "pygments_lexer": "ipython3",
   "version": "3.10.9"
  }
 },
 "nbformat": 4,
 "nbformat_minor": 5
}
