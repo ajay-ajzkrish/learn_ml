{
 "cells": [
  {
   "cell_type": "markdown",
   "metadata": {},
   "source": [
    "<table align=\"center\" width=100%>\n",
    "    <tr>\n",
    "        <td width=\"20%\">\n",
    "            <img src=\"in_class.png\">\n",
    "        </td>\n",
    "        <td>\n",
    "            <div align=\"center\">\n",
    "                <font color=\"#21618C\" size=8px>\n",
    "                    <b> Inclass - Lab <br>(Day 2)\n",
    "                    </b>\n",
    "                </font>\n",
    "            </div>\n",
    "        </td>\n",
    "         <td width=\"25%\">\n",
    "            <img src=\"GL-2.png\">\n",
    "        </td>\n",
    "    </tr>\n",
    "</table>"
   ]
  },
  {
   "cell_type": "markdown",
   "metadata": {},
   "source": [
    "### About the dataset (CO<sub>2</sub> emission data)\n",
    "\n",
    "In the dataset, the CO<sub>2</sub> emission for various regions in the world is given. Our objective is to group the regions based on the factors affecting the environment in terms of the greenhouse gases, where CO<sub>2</sub> is a primary greenhouse gas. \n",
    "\n",
    "Many developing and developed countries in the world are contributing to the CO<sub>2</sub> emission in the environment. It is interesting to know that the increase in atmospheric carbon dioxide is responsible for about two-thirds of the total energy imbalance that is causing Earth's temperature to rise and leads to global warming.\n",
    "\n",
    "**Region**: Region of the country\n",
    "\n",
    "**CO2 Emission**: Annual CO<sub>2</sub> emission (in tonnes)\n",
    "\n",
    "**Ease of Business**: The ease of business in the country\n",
    "\n",
    "**Energy Usage**: Energy used by the country in various forms\n",
    "\n",
    "**GDP**: GDP of a country\n",
    "\n",
    "**Internet Usage**: Usage of the internet \n",
    "\n",
    "**Population total**: Total population of a country"
   ]
  },
  {
   "cell_type": "markdown",
   "metadata": {},
   "source": [
    "## Table of Content\n",
    "\n",
    "1. **[Exploratory Data Analysis](#lib)**\n",
    "2. **[Hierarchical Clustering](#hie)**\n",
    "3. **[DBSCAN](#DBSCAN)**"
   ]
  },
  {
   "cell_type": "markdown",
   "metadata": {},
   "source": [
    "#### Import the required libraries"
   ]
  },
  {
   "cell_type": "code",
   "execution_count": 104,
   "metadata": {},
   "outputs": [],
   "source": [
    "import pandas as pd\n",
    "import numpy as np\n",
    "import seaborn as sns\n",
    "import matplotlib.pyplot as plt\n",
    "\n",
    "from sklearn.preprocessing import StandardScaler"
   ]
  },
  {
   "cell_type": "markdown",
   "metadata": {},
   "source": [
    "#### Read the data\n",
    "\n",
    "Load the csv file and print the first five observations."
   ]
  },
  {
   "cell_type": "code",
   "execution_count": 105,
   "metadata": {},
   "outputs": [],
   "source": [
    "data = pd.read_csv(\"CO2_emission_data.csv\")"
   ]
  },
  {
   "cell_type": "code",
   "execution_count": 106,
   "metadata": {},
   "outputs": [
    {
     "data": {
      "text/html": [
       "<div>\n",
       "<style scoped>\n",
       "    .dataframe tbody tr th:only-of-type {\n",
       "        vertical-align: middle;\n",
       "    }\n",
       "\n",
       "    .dataframe tbody tr th {\n",
       "        vertical-align: top;\n",
       "    }\n",
       "\n",
       "    .dataframe thead th {\n",
       "        text-align: right;\n",
       "    }\n",
       "</style>\n",
       "<table border=\"1\" class=\"dataframe\">\n",
       "  <thead>\n",
       "    <tr style=\"text-align: right;\">\n",
       "      <th></th>\n",
       "      <th>Region</th>\n",
       "      <th>CO2 Emissions</th>\n",
       "      <th>Ease of Business</th>\n",
       "      <th>Energy Usage</th>\n",
       "      <th>GDP</th>\n",
       "      <th>Internet Usage</th>\n",
       "      <th>Population Total</th>\n",
       "    </tr>\n",
       "  </thead>\n",
       "  <tbody>\n",
       "    <tr>\n",
       "      <th>0</th>\n",
       "      <td>Europe</td>\n",
       "      <td>4294</td>\n",
       "      <td>151</td>\n",
       "      <td>1976</td>\n",
       "      <td>5.652325e+09</td>\n",
       "      <td>0.010</td>\n",
       "      <td>3033659</td>\n",
       "    </tr>\n",
       "    <tr>\n",
       "      <th>1</th>\n",
       "      <td>Europe</td>\n",
       "      <td>4166</td>\n",
       "      <td>151</td>\n",
       "      <td>2172</td>\n",
       "      <td>7.464447e+09</td>\n",
       "      <td>0.024</td>\n",
       "      <td>3014579</td>\n",
       "    </tr>\n",
       "    <tr>\n",
       "      <th>2</th>\n",
       "      <td>Europe</td>\n",
       "      <td>4254</td>\n",
       "      <td>151</td>\n",
       "      <td>2172</td>\n",
       "      <td>8.376484e+09</td>\n",
       "      <td>0.060</td>\n",
       "      <td>2992724</td>\n",
       "    </tr>\n",
       "    <tr>\n",
       "      <th>3</th>\n",
       "      <td>Europe</td>\n",
       "      <td>3865</td>\n",
       "      <td>151</td>\n",
       "      <td>2068</td>\n",
       "      <td>9.132562e+09</td>\n",
       "      <td>0.096</td>\n",
       "      <td>2968028</td>\n",
       "    </tr>\n",
       "    <tr>\n",
       "      <th>4</th>\n",
       "      <td>Europe</td>\n",
       "      <td>4056</td>\n",
       "      <td>151</td>\n",
       "      <td>2025</td>\n",
       "      <td>1.070101e+10</td>\n",
       "      <td>0.150</td>\n",
       "      <td>2940880</td>\n",
       "    </tr>\n",
       "    <tr>\n",
       "      <th>...</th>\n",
       "      <td>...</td>\n",
       "      <td>...</td>\n",
       "      <td>...</td>\n",
       "      <td>...</td>\n",
       "      <td>...</td>\n",
       "      <td>...</td>\n",
       "      <td>...</td>\n",
       "    </tr>\n",
       "    <tr>\n",
       "      <th>1238</th>\n",
       "      <td>Africa</td>\n",
       "      <td>2274</td>\n",
       "      <td>90</td>\n",
       "      <td>7213</td>\n",
       "      <td>7.178556e+09</td>\n",
       "      <td>0.029</td>\n",
       "      <td>11470022</td>\n",
       "    </tr>\n",
       "    <tr>\n",
       "      <th>1239</th>\n",
       "      <td>Africa</td>\n",
       "      <td>2226</td>\n",
       "      <td>90</td>\n",
       "      <td>7396</td>\n",
       "      <td>1.070220e+10</td>\n",
       "      <td>0.042</td>\n",
       "      <td>11781612</td>\n",
       "    </tr>\n",
       "    <tr>\n",
       "      <th>1240</th>\n",
       "      <td>Africa</td>\n",
       "      <td>1654</td>\n",
       "      <td>90</td>\n",
       "      <td>7399</td>\n",
       "      <td>1.154142e+10</td>\n",
       "      <td>0.049</td>\n",
       "      <td>12109620</td>\n",
       "    </tr>\n",
       "    <tr>\n",
       "      <th>1241</th>\n",
       "      <td>Africa</td>\n",
       "      <td>1845</td>\n",
       "      <td>90</td>\n",
       "      <td>7641</td>\n",
       "      <td>1.464079e+10</td>\n",
       "      <td>0.056</td>\n",
       "      <td>12456527</td>\n",
       "    </tr>\n",
       "    <tr>\n",
       "      <th>1242</th>\n",
       "      <td>Africa</td>\n",
       "      <td>2156</td>\n",
       "      <td>90</td>\n",
       "      <td>7842</td>\n",
       "      <td>1.280503e+10</td>\n",
       "      <td>0.063</td>\n",
       "      <td>12825031</td>\n",
       "    </tr>\n",
       "  </tbody>\n",
       "</table>\n",
       "<p>1243 rows × 7 columns</p>\n",
       "</div>"
      ],
      "text/plain": [
       "      Region  CO2 Emissions  Ease of Business  Energy Usage           GDP  \\\n",
       "0     Europe           4294               151          1976  5.652325e+09   \n",
       "1     Europe           4166               151          2172  7.464447e+09   \n",
       "2     Europe           4254               151          2172  8.376484e+09   \n",
       "3     Europe           3865               151          2068  9.132562e+09   \n",
       "4     Europe           4056               151          2025  1.070101e+10   \n",
       "...      ...            ...               ...           ...           ...   \n",
       "1238  Africa           2274                90          7213  7.178556e+09   \n",
       "1239  Africa           2226                90          7396  1.070220e+10   \n",
       "1240  Africa           1654                90          7399  1.154142e+10   \n",
       "1241  Africa           1845                90          7641  1.464079e+10   \n",
       "1242  Africa           2156                90          7842  1.280503e+10   \n",
       "\n",
       "      Internet Usage  Population Total  \n",
       "0              0.010           3033659  \n",
       "1              0.024           3014579  \n",
       "2              0.060           2992724  \n",
       "3              0.096           2968028  \n",
       "4              0.150           2940880  \n",
       "...              ...               ...  \n",
       "1238           0.029          11470022  \n",
       "1239           0.042          11781612  \n",
       "1240           0.049          12109620  \n",
       "1241           0.056          12456527  \n",
       "1242           0.063          12825031  \n",
       "\n",
       "[1243 rows x 7 columns]"
      ]
     },
     "execution_count": 106,
     "metadata": {},
     "output_type": "execute_result"
    }
   ],
   "source": [
    "data"
   ]
  },
  {
   "cell_type": "markdown",
   "metadata": {},
   "source": [
    "\n",
    "### Let's begin with some hands-on practice exercises"
   ]
  },
  {
   "cell_type": "markdown",
   "metadata": {},
   "source": [
    "<a id=\"lib\"> </a>\n",
    "## 1. Exploratory Data Analysis"
   ]
  },
  {
   "cell_type": "markdown",
   "metadata": {},
   "source": [
    "<table align=\"left\">\n",
    "    <tr>\n",
    "        <td width=\"6%\">\n",
    "            <img src=\"question_icon.png\">\n",
    "        </td>\n",
    "        <td>\n",
    "            <div align=\"left\", style=\"font-size:120%\">\n",
    "                <font color=\"#21618C\">\n",
    "                    <b>1. Identify the different regions to which the countries belong and visualize the count of countries.</b>\n",
    "                </font>\n",
    "            </div>\n",
    "        </td>\n",
    "    </tr>\n",
    "</table>"
   ]
  },
  {
   "cell_type": "code",
   "execution_count": 107,
   "metadata": {},
   "outputs": [
    {
     "data": {
      "text/plain": [
       "Europe          302\n",
       "The Americas    289\n",
       "Africa          254\n",
       "Asia            244\n",
       "Middle East      92\n",
       "Oceania          62\n",
       "Name: Region, dtype: int64"
      ]
     },
     "execution_count": 107,
     "metadata": {},
     "output_type": "execute_result"
    }
   ],
   "source": [
    "data['Region'].value_counts()"
   ]
  },
  {
   "cell_type": "code",
   "execution_count": 108,
   "metadata": {},
   "outputs": [
    {
     "data": {
      "text/plain": [
       "<Axes: >"
      ]
     },
     "execution_count": 108,
     "metadata": {},
     "output_type": "execute_result"
    },
    {
     "data": {
      "image/png": "[encoded data removed]",
      "text/plain": [
       "<Figure size 640x480 with 1 Axes>"
      ]
     },
     "metadata": {},
     "output_type": "display_data"
    }
   ],
   "source": [
    "data['Region'].value_counts().plot(kind='bar')"
   ]
  },
  {
   "cell_type": "markdown",
   "metadata": {},
   "source": [
    "<table align=\"left\">\n",
    "    <tr>\n",
    "        <td width=\"6%\">\n",
    "            <img src=\"question_icon.png\">\n",
    "        </td>\n",
    "        <td>\n",
    "            <div align=\"left\", style=\"font-size:120%\">\n",
    "                <font color=\"#21618C\">\n",
    "                    <b>2. Check the datatype, dimension and summary statistics of the data.</b>\n",
    "                </font>\n",
    "            </div>\n",
    "        </td>\n",
    "    </tr>\n",
    "</table>"
   ]
  },
  {
   "cell_type": "code",
   "execution_count": 109,
   "metadata": {
    "scrolled": false
   },
   "outputs": [
    {
     "name": "stdout",
     "output_type": "stream",
     "text": [
      "<class 'pandas.core.frame.DataFrame'>\n",
      "RangeIndex: 1243 entries, 0 to 1242\n",
      "Data columns (total 7 columns):\n",
      " #   Column            Non-Null Count  Dtype  \n",
      "---  ------            --------------  -----  \n",
      " 0   Region            1243 non-null   object \n",
      " 1   CO2 Emissions     1243 non-null   int64  \n",
      " 2   Ease of Business  1243 non-null   int64  \n",
      " 3   Energy Usage      1243 non-null   int64  \n",
      " 4   GDP               1243 non-null   float64\n",
      " 5   Internet Usage    1236 non-null   float64\n",
      " 6   Population Total  1243 non-null   int64  \n",
      "dtypes: float64(2), int64(4), object(1)\n",
      "memory usage: 68.1+ KB\n"
     ]
    }
   ],
   "source": [
    "data.info()"
   ]
  },
  {
   "cell_type": "code",
   "execution_count": 110,
   "metadata": {},
   "outputs": [
    {
     "data": {
      "text/plain": [
       "(1243, 7)"
      ]
     },
     "execution_count": 110,
     "metadata": {},
     "output_type": "execute_result"
    }
   ],
   "source": [
    "data.shape"
   ]
  },
  {
   "cell_type": "code",
   "execution_count": 111,
   "metadata": {},
   "outputs": [
    {
     "data": {
      "text/html": [
       "<div>\n",
       "<style scoped>\n",
       "    .dataframe tbody tr th:only-of-type {\n",
       "        vertical-align: middle;\n",
       "    }\n",
       "\n",
       "    .dataframe tbody tr th {\n",
       "        vertical-align: top;\n",
       "    }\n",
       "\n",
       "    .dataframe thead th {\n",
       "        text-align: right;\n",
       "    }\n",
       "</style>\n",
       "<table border=\"1\" class=\"dataframe\">\n",
       "  <thead>\n",
       "    <tr style=\"text-align: right;\">\n",
       "      <th></th>\n",
       "      <th>CO2 Emissions</th>\n",
       "      <th>Ease of Business</th>\n",
       "      <th>Energy Usage</th>\n",
       "      <th>GDP</th>\n",
       "      <th>Internet Usage</th>\n",
       "      <th>Population Total</th>\n",
       "    </tr>\n",
       "  </thead>\n",
       "  <tbody>\n",
       "    <tr>\n",
       "      <th>count</th>\n",
       "      <td>1.243000e+03</td>\n",
       "      <td>1243.000000</td>\n",
       "      <td>1.243000e+03</td>\n",
       "      <td>1.243000e+03</td>\n",
       "      <td>1236.000000</td>\n",
       "      <td>1.243000e+03</td>\n",
       "    </tr>\n",
       "    <tr>\n",
       "      <th>mean</th>\n",
       "      <td>1.897666e+05</td>\n",
       "      <td>88.279968</td>\n",
       "      <td>7.541842e+04</td>\n",
       "      <td>3.535548e+11</td>\n",
       "      <td>0.329983</td>\n",
       "      <td>4.513494e+07</td>\n",
       "    </tr>\n",
       "    <tr>\n",
       "      <th>std</th>\n",
       "      <td>7.697027e+05</td>\n",
       "      <td>52.770388</td>\n",
       "      <td>2.707586e+05</td>\n",
       "      <td>1.358970e+12</td>\n",
       "      <td>1.634042</td>\n",
       "      <td>1.600483e+08</td>\n",
       "    </tr>\n",
       "    <tr>\n",
       "      <th>min</th>\n",
       "      <td>4.800000e+01</td>\n",
       "      <td>1.000000</td>\n",
       "      <td>3.000000e+01</td>\n",
       "      <td>1.232585e+08</td>\n",
       "      <td>0.000000</td>\n",
       "      <td>6.966000e+04</td>\n",
       "    </tr>\n",
       "    <tr>\n",
       "      <th>25%</th>\n",
       "      <td>3.111500e+03</td>\n",
       "      <td>45.000000</td>\n",
       "      <td>2.721000e+03</td>\n",
       "      <td>7.746581e+09</td>\n",
       "      <td>0.062000</td>\n",
       "      <td>2.097088e+06</td>\n",
       "    </tr>\n",
       "    <tr>\n",
       "      <th>50%</th>\n",
       "      <td>1.620800e+04</td>\n",
       "      <td>85.000000</td>\n",
       "      <td>9.318000e+03</td>\n",
       "      <td>2.468037e+10</td>\n",
       "      <td>0.200500</td>\n",
       "      <td>7.739900e+06</td>\n",
       "    </tr>\n",
       "    <tr>\n",
       "      <th>75%</th>\n",
       "      <td>7.581200e+04</td>\n",
       "      <td>131.000000</td>\n",
       "      <td>3.495650e+04</td>\n",
       "      <td>1.770000e+11</td>\n",
       "      <td>0.460000</td>\n",
       "      <td>2.884664e+07</td>\n",
       "    </tr>\n",
       "    <tr>\n",
       "      <th>max</th>\n",
       "      <td>8.286892e+06</td>\n",
       "      <td>186.000000</td>\n",
       "      <td>2.727728e+06</td>\n",
       "      <td>1.620000e+13</td>\n",
       "      <td>57.000000</td>\n",
       "      <td>1.350695e+09</td>\n",
       "    </tr>\n",
       "  </tbody>\n",
       "</table>\n",
       "</div>"
      ],
      "text/plain": [
       "       CO2 Emissions  Ease of Business  Energy Usage           GDP  \\\n",
       "count   1.243000e+03       1243.000000  1.243000e+03  1.243000e+03   \n",
       "mean    1.897666e+05         88.279968  7.541842e+04  3.535548e+11   \n",
       "std     7.697027e+05         52.770388  2.707586e+05  1.358970e+12   \n",
       "min     4.800000e+01          1.000000  3.000000e+01  1.232585e+08   \n",
       "25%     3.111500e+03         45.000000  2.721000e+03  7.746581e+09   \n",
       "50%     1.620800e+04         85.000000  9.318000e+03  2.468037e+10   \n",
       "75%     7.581200e+04        131.000000  3.495650e+04  1.770000e+11   \n",
       "max     8.286892e+06        186.000000  2.727728e+06  1.620000e+13   \n",
       "\n",
       "       Internet Usage  Population Total  \n",
       "count     1236.000000      1.243000e+03  \n",
       "mean         0.329983      4.513494e+07  \n",
       "std          1.634042      1.600483e+08  \n",
       "min          0.000000      6.966000e+04  \n",
       "25%          0.062000      2.097088e+06  \n",
       "50%          0.200500      7.739900e+06  \n",
       "75%          0.460000      2.884664e+07  \n",
       "max         57.000000      1.350695e+09  "
      ]
     },
     "execution_count": 111,
     "metadata": {},
     "output_type": "execute_result"
    }
   ],
   "source": [
    "data.describe()"
   ]
  },
  {
   "cell_type": "markdown",
   "metadata": {},
   "source": [
    "<table align=\"left\">\n",
    "    <tr>\n",
    "        <td width=\"6%\">\n",
    "            <img src=\"question_icon.png\">\n",
    "        </td>\n",
    "        <td>\n",
    "            <div align=\"left\", style=\"font-size:120%\">\n",
    "                <font color=\"#21618C\">\n",
    "                    <b>3. Drop the variables 'Region', 'Ease of Business', 'Internet Usage'.</b>\n",
    "                </font>\n",
    "            </div>\n",
    "        </td>\n",
    "    </tr>\n",
    "</table>"
   ]
  },
  {
   "cell_type": "code",
   "execution_count": 112,
   "metadata": {},
   "outputs": [],
   "source": [
    "df = data.drop(columns=['Region', 'Ease of Business', 'Internet Usage'])"
   ]
  },
  {
   "cell_type": "markdown",
   "metadata": {},
   "source": [
    "<table align=\"left\">\n",
    "    <tr>\n",
    "        <td width=\"6%\">\n",
    "            <img src=\"question_icon.png\">\n",
    "        </td>\n",
    "        <td>\n",
    "            <div align=\"left\", style=\"font-size:120%\">\n",
    "                <font color=\"#21618C\">\n",
    "                    <b>4. Check if there are missing values, if yes then remove the observations with missing values.</b>\n",
    "                </font>\n",
    "            </div>\n",
    "        </td>\n",
    "    </tr>\n",
    "</table>"
   ]
  },
  {
   "cell_type": "code",
   "execution_count": 113,
   "metadata": {
    "scrolled": true
   },
   "outputs": [
    {
     "data": {
      "text/plain": [
       "CO2 Emissions       0\n",
       "Energy Usage        0\n",
       "GDP                 0\n",
       "Population Total    0\n",
       "dtype: int64"
      ]
     },
     "execution_count": 113,
     "metadata": {},
     "output_type": "execute_result"
    }
   ],
   "source": [
    "df.isnull().sum()"
   ]
  },
  {
   "cell_type": "markdown",
   "metadata": {},
   "source": [
    "<table align=\"left\">\n",
    "    <tr>\n",
    "        <td width=\"6%\">\n",
    "            <img src=\"question_icon.png\">\n",
    "        </td>\n",
    "        <td>\n",
    "            <div align=\"left\", style=\"font-size:120%\">\n",
    "                <font color=\"#21618C\">\n",
    "                    <b>5. Check if there are outliers in the data and visualize the outliers using a boxplot.</b>\n",
    "                </font>\n",
    "            </div>\n",
    "        </td>\n",
    "    </tr>\n",
    "</table>"
   ]
  },
  {
   "cell_type": "code",
   "execution_count": 114,
   "metadata": {},
   "outputs": [
    {
     "data": {
      "image/png": "[encoded data removed]",
      "text/plain": [
       "<Figure size 1500x1000 with 4 Axes>"
      ]
     },
     "metadata": {},
     "output_type": "display_data"
    }
   ],
   "source": [
    "fig,ax =plt.subplots(2,2,figsize=(15,10))\n",
    "\n",
    "for col,subplot in zip(df.columns,ax.flatten()):\n",
    "    sns.boxplot(df[col],ax=subplot)\n",
    "    subplot.set(xlabel=col)\n",
    "    \n",
    "plt.show()"
   ]
  },
  {
   "cell_type": "markdown",
   "metadata": {},
   "source": [
    "<table align=\"left\">\n",
    "    <tr>\n",
    "        <td width=\"6%\">\n",
    "            <img src=\"question_icon.png\">\n",
    "        </td>\n",
    "        <td>\n",
    "            <div align=\"left\", style=\"font-size:120%\">\n",
    "                <font color=\"#21618C\">\n",
    "                    <b>6. Remove the outliers using 3.5IQR and check the shape of the data.</b>\n",
    "                </font>\n",
    "            </div>\n",
    "        </td>\n",
    "    </tr>\n",
    "</table>"
   ]
  },
  {
   "cell_type": "code",
   "execution_count": 115,
   "metadata": {},
   "outputs": [],
   "source": [
    "Q1 = df.quantile(0.25)\n",
    "Q3 = df.quantile(0.75)\n",
    "\n",
    "IQR = Q3 - Q1\n",
    "upper_limit = Q3 + 3.5*IQR\n",
    "lower_limit = Q1 - 3.5*IQR\n",
    "\n",
    "df = df[~((df > upper_limit)|(df<lower_limit)).any(axis=1)]"
   ]
  },
  {
   "cell_type": "code",
   "execution_count": 116,
   "metadata": {},
   "outputs": [
    {
     "data": {
      "text/plain": [
       "(1054, 4)"
      ]
     },
     "execution_count": 116,
     "metadata": {},
     "output_type": "execute_result"
    }
   ],
   "source": [
    "df.shape"
   ]
  },
  {
   "cell_type": "markdown",
   "metadata": {},
   "source": [
    "<table align=\"left\">\n",
    "    <tr>\n",
    "        <td width=\"6%\">\n",
    "            <img src=\"question_icon.png\">\n",
    "        </td>\n",
    "        <td>\n",
    "            <div align=\"left\", style=\"font-size:120%\">\n",
    "                <font color=\"#21618C\">\n",
    "                    <b>7. Visualize the data obtained after removing the outliers with the help of a boxplot.</b>\n",
    "                </font>\n",
    "            </div>\n",
    "        </td>\n",
    "    </tr>\n",
    "</table>"
   ]
  },
  {
   "cell_type": "code",
   "execution_count": 117,
   "metadata": {
    "scrolled": true
   },
   "outputs": [
    {
     "data": {
      "image/png": "[encoded data removed]",
      "text/plain": [
       "<Figure size 1500x1000 with 4 Axes>"
      ]
     },
     "metadata": {},
     "output_type": "display_data"
    }
   ],
   "source": [
    "fig,ax =plt.subplots(2,2,figsize=(15,10))\n",
    "\n",
    "for col,subplot in zip(df.columns,ax.flatten()):\n",
    "    sns.boxplot(df[col],ax=subplot)\n",
    "    subplot.set(xlabel=col)\n",
    "    \n",
    "plt.show()"
   ]
  },
  {
   "cell_type": "markdown",
   "metadata": {},
   "source": [
    "<table align=\"left\">\n",
    "    <tr>\n",
    "        <td width=\"6%\">\n",
    "            <img src=\"question_icon.png\">\n",
    "        </td>\n",
    "        <td>\n",
    "            <div align=\"left\", style=\"font-size:120%\">\n",
    "                <font color=\"#21618C\">\n",
    "                    <b>8. Transform the variables in the standard form such that they will have mean 0 and standard deviation 1 and get the summary.</b>\n",
    "                </font>\n",
    "            </div>\n",
    "        </td>\n",
    "    </tr>\n",
    "</table>"
   ]
  },
  {
   "cell_type": "code",
   "execution_count": 118,
   "metadata": {},
   "outputs": [],
   "source": [
    "ss = StandardScaler()\n",
    "scaled_data = ss.fit_transform(df)\n",
    "scaled_data = pd.DataFrame(scaled_data,columns=df.columns)"
   ]
  },
  {
   "cell_type": "code",
   "execution_count": 119,
   "metadata": {},
   "outputs": [
    {
     "name": "stderr",
     "output_type": "stream",
     "text": [
      "C:\\Users\\akris\\AppData\\Local\\Temp\\ipykernel_20324\\489784204.py:3: UserWarning: \n",
      "\n",
      "`distplot` is a deprecated function and will be removed in seaborn v0.14.0.\n",
      "\n",
      "Please adapt your code to use either `displot` (a figure-level function with\n",
      "similar flexibility) or `histplot` (an axes-level function for histograms).\n",
      "\n",
      "For a guide to updating your code to use the new functions, please see\n",
      "https://gist.github.com/mwaskom/de44147ed2974457ad6372750bbe5751\n",
      "\n",
      "  sns.distplot(scaled_data[col],ax=subplot)\n",
      "C:\\Users\\akris\\AppData\\Local\\Temp\\ipykernel_20324\\489784204.py:3: UserWarning: \n",
      "\n",
      "`distplot` is a deprecated function and will be removed in seaborn v0.14.0.\n",
      "\n",
      "Please adapt your code to use either `displot` (a figure-level function with\n",
      "similar flexibility) or `histplot` (an axes-level function for histograms).\n",
      "\n",
      "For a guide to updating your code to use the new functions, please see\n",
      "https://gist.github.com/mwaskom/de44147ed2974457ad6372750bbe5751\n",
      "\n",
      "  sns.distplot(scaled_data[col],ax=subplot)\n",
      "C:\\Users\\akris\\AppData\\Local\\Temp\\ipykernel_20324\\489784204.py:3: UserWarning: \n",
      "\n",
      "`distplot` is a deprecated function and will be removed in seaborn v0.14.0.\n",
      "\n",
      "Please adapt your code to use either `displot` (a figure-level function with\n",
      "similar flexibility) or `histplot` (an axes-level function for histograms).\n",
      "\n",
      "For a guide to updating your code to use the new functions, please see\n",
      "https://gist.github.com/mwaskom/de44147ed2974457ad6372750bbe5751\n",
      "\n",
      "  sns.distplot(scaled_data[col],ax=subplot)\n",
      "C:\\Users\\akris\\AppData\\Local\\Temp\\ipykernel_20324\\489784204.py:3: UserWarning: \n",
      "\n",
      "`distplot` is a deprecated function and will be removed in seaborn v0.14.0.\n",
      "\n",
      "Please adapt your code to use either `displot` (a figure-level function with\n",
      "similar flexibility) or `histplot` (an axes-level function for histograms).\n",
      "\n",
      "For a guide to updating your code to use the new functions, please see\n",
      "https://gist.github.com/mwaskom/de44147ed2974457ad6372750bbe5751\n",
      "\n",
      "  sns.distplot(scaled_data[col],ax=subplot)\n"
     ]
    },
    {
     "data": {
      "image/png": "[encoded data removed]",
      "text/plain": [
       "<Figure size 1500x1000 with 6 Axes>"
      ]
     },
     "metadata": {},
     "output_type": "display_data"
    }
   ],
   "source": [
    "fig,ax = plt.subplots(2,3,figsize=(15,10))\n",
    "for col,subplot in zip(scaled_data.select_dtypes(include=np.number).columns,ax.flatten()):\n",
    "    sns.distplot(scaled_data[col],ax=subplot)\n",
    "    subplot.set_title(col)  \n",
    "plt.show()\n"
   ]
  },
  {
   "cell_type": "code",
   "execution_count": 120,
   "metadata": {},
   "outputs": [
    {
     "data": {
      "text/html": [
       "<div>\n",
       "<style scoped>\n",
       "    .dataframe tbody tr th:only-of-type {\n",
       "        vertical-align: middle;\n",
       "    }\n",
       "\n",
       "    .dataframe tbody tr th {\n",
       "        vertical-align: top;\n",
       "    }\n",
       "\n",
       "    .dataframe thead th {\n",
       "        text-align: right;\n",
       "    }\n",
       "</style>\n",
       "<table border=\"1\" class=\"dataframe\">\n",
       "  <thead>\n",
       "    <tr style=\"text-align: right;\">\n",
       "      <th></th>\n",
       "      <th>CO2 Emissions</th>\n",
       "      <th>Energy Usage</th>\n",
       "      <th>GDP</th>\n",
       "      <th>Population Total</th>\n",
       "    </tr>\n",
       "  </thead>\n",
       "  <tbody>\n",
       "    <tr>\n",
       "      <th>count</th>\n",
       "      <td>1.054000e+03</td>\n",
       "      <td>1.054000e+03</td>\n",
       "      <td>1.054000e+03</td>\n",
       "      <td>1.054000e+03</td>\n",
       "    </tr>\n",
       "    <tr>\n",
       "      <th>mean</th>\n",
       "      <td>-1.348278e-17</td>\n",
       "      <td>6.741392e-18</td>\n",
       "      <td>2.696557e-17</td>\n",
       "      <td>-3.370696e-17</td>\n",
       "    </tr>\n",
       "    <tr>\n",
       "      <th>std</th>\n",
       "      <td>1.000475e+00</td>\n",
       "      <td>1.000475e+00</td>\n",
       "      <td>1.000475e+00</td>\n",
       "      <td>1.000475e+00</td>\n",
       "    </tr>\n",
       "    <tr>\n",
       "      <th>min</th>\n",
       "      <td>-5.951436e-01</td>\n",
       "      <td>-7.003763e-01</td>\n",
       "      <td>-5.936172e-01</td>\n",
       "      <td>-6.843682e-01</td>\n",
       "    </tr>\n",
       "    <tr>\n",
       "      <th>25%</th>\n",
       "      <td>-5.556345e-01</td>\n",
       "      <td>-6.130414e-01</td>\n",
       "      <td>-5.458443e-01</td>\n",
       "      <td>-6.156072e-01</td>\n",
       "    </tr>\n",
       "    <tr>\n",
       "      <th>50%</th>\n",
       "      <td>-4.348687e-01</td>\n",
       "      <td>-3.975408e-01</td>\n",
       "      <td>-4.468020e-01</td>\n",
       "      <td>-3.957295e-01</td>\n",
       "    </tr>\n",
       "    <tr>\n",
       "      <th>75%</th>\n",
       "      <td>1.737150e-01</td>\n",
       "      <td>2.374497e-01</td>\n",
       "      <td>-4.569213e-02</td>\n",
       "      <td>7.324626e-02</td>\n",
       "    </tr>\n",
       "    <tr>\n",
       "      <th>max</th>\n",
       "      <td>4.951400e+00</td>\n",
       "      <td>5.315282e+00</td>\n",
       "      <td>5.152770e+00</td>\n",
       "      <td>4.580071e+00</td>\n",
       "    </tr>\n",
       "  </tbody>\n",
       "</table>\n",
       "</div>"
      ],
      "text/plain": [
       "       CO2 Emissions  Energy Usage           GDP  Population Total\n",
       "count   1.054000e+03  1.054000e+03  1.054000e+03      1.054000e+03\n",
       "mean   -1.348278e-17  6.741392e-18  2.696557e-17     -3.370696e-17\n",
       "std     1.000475e+00  1.000475e+00  1.000475e+00      1.000475e+00\n",
       "min    -5.951436e-01 -7.003763e-01 -5.936172e-01     -6.843682e-01\n",
       "25%    -5.556345e-01 -6.130414e-01 -5.458443e-01     -6.156072e-01\n",
       "50%    -4.348687e-01 -3.975408e-01 -4.468020e-01     -3.957295e-01\n",
       "75%     1.737150e-01  2.374497e-01 -4.569213e-02      7.324626e-02\n",
       "max     4.951400e+00  5.315282e+00  5.152770e+00      4.580071e+00"
      ]
     },
     "execution_count": 120,
     "metadata": {},
     "output_type": "execute_result"
    }
   ],
   "source": [
    "scaled_data.describe()"
   ]
  },
  {
   "cell_type": "markdown",
   "metadata": {},
   "source": [
    "<a id=\"hie\"></a>\n",
    "## 2. Hierarchical Clustering"
   ]
  },
  {
   "cell_type": "markdown",
   "metadata": {},
   "source": [
    "<table align=\"left\">\n",
    "    <tr>\n",
    "        <td width=\"6%\">\n",
    "            <img src=\"question_icon.png\">\n",
    "        </td>\n",
    "        <td>\n",
    "            <div align=\"left\", style=\"font-size:120%\">\n",
    "                <font color=\"#21618C\">\n",
    "                    <b>9. Use the 'ward' linkage method and print the first 10 observations of the linkage matrix.</b>\n",
    "                </font>\n",
    "            </div>\n",
    "        </td>\n",
    "    </tr>\n",
    "</table>"
   ]
  },
  {
   "cell_type": "code",
   "execution_count": 121,
   "metadata": {},
   "outputs": [],
   "source": [
    "from scipy.cluster.hierarchy import linkage,dendrogram,cophenet\n",
    "from scipy.spatial.distance import pdist"
   ]
  },
  {
   "cell_type": "code",
   "execution_count": 122,
   "metadata": {},
   "outputs": [
    {
     "name": "stdout",
     "output_type": "stream",
     "text": [
      "[[3.80000000e+02 3.82000000e+02 2.25694801e-05 2.00000000e+00]\n",
      " [3.91000000e+02 3.92000000e+02 3.78208913e-05 2.00000000e+00]\n",
      " [3.81000000e+02 3.83000000e+02 8.63012142e-05 2.00000000e+00]\n",
      " ...\n",
      " [2.10000000e+03 2.10200000e+03 2.99034278e+01 1.78000000e+02]\n",
      " [2.10100000e+03 2.10400000e+03 3.29059328e+01 2.34000000e+02]\n",
      " [2.10300000e+03 2.10500000e+03 6.55836385e+01 1.05400000e+03]]\n"
     ]
    }
   ],
   "source": [
    "Z = linkage(scaled_data,method='ward')\n",
    "print(Z)"
   ]
  },
  {
   "cell_type": "markdown",
   "metadata": {},
   "source": [
    "<table align=\"left\">\n",
    "    <tr>\n",
    "        <td width=\"6%\">\n",
    "            <img src=\"question_icon.png\">\n",
    "        </td>\n",
    "        <td>\n",
    "            <div align=\"left\", style=\"font-size:120%\">\n",
    "                <font color=\"#21618C\">\n",
    "                    <b>10. Visualize the clusters obtained using dendrogram and find the optimal number of clusters.</b>\n",
    "                </font>\n",
    "            </div>\n",
    "        </td>\n",
    "    </tr>\n",
    "</table>"
   ]
  },
  {
   "cell_type": "code",
   "execution_count": 123,
   "metadata": {},
   "outputs": [
    {
     "data": {
      "image/png": "[encoded data removed]",
      "text/plain": [
       "<Figure size 640x480 with 1 Axes>"
      ]
     },
     "metadata": {},
     "output_type": "display_data"
    }
   ],
   "source": [
    "Z = linkage(scaled_data,method='ward')\n",
    "dendrogram(Z,truncate_mode='lastp',p=10)\n",
    "plt.show()\n"
   ]
  },
  {
   "cell_type": "markdown",
   "metadata": {},
   "source": [
    "the optimal number of clusters is 2"
   ]
  },
  {
   "cell_type": "markdown",
   "metadata": {},
   "source": [
    "<table align=\"left\">\n",
    "    <tr>\n",
    "        <td width=\"6%\">\n",
    "            <img src=\"question_icon.png\">\n",
    "        </td>\n",
    "        <td>\n",
    "            <div align=\"left\", style=\"font-size:120%\">\n",
    "                <font color=\"#21618C\">\n",
    "                    <b>11. Find the cophenetic correlation coefficient and interpret it.</b>\n",
    "                </font>\n",
    "            </div>\n",
    "        </td>\n",
    "    </tr>\n",
    "</table>"
   ]
  },
  {
   "cell_type": "code",
   "execution_count": 124,
   "metadata": {},
   "outputs": [],
   "source": [
    "method_list = ['single','complete','centroid','average','ward']"
   ]
  },
  {
   "cell_type": "code",
   "execution_count": 125,
   "metadata": {},
   "outputs": [
    {
     "name": "stdout",
     "output_type": "stream",
     "text": [
      "Cophenetic Coefficent of single is 0.8944175015557045\n",
      "Cophenetic Coefficent of complete is 0.8574402670528408\n",
      "Cophenetic Coefficent of centroid is 0.9295216443151505\n",
      "Cophenetic Coefficent of average is 0.9305121454315446\n",
      "Cophenetic Coefficent of ward is 0.7973822617121826\n"
     ]
    }
   ],
   "source": [
    "for metho in method_list:\n",
    "    Z = linkage(scaled_data,method = metho)\n",
    "    c,coph_dist = cophenet(Z,pdist(scaled_data))\n",
    "    print('Cophenetic Coefficent of',metho,'is',c)\n",
    "    #dendrogram(Z,truncate_mode= 'lastp' ,p=20)"
   ]
  },
  {
   "cell_type": "markdown",
   "metadata": {},
   "source": [
    "<table align=\"left\">\n",
    "    <tr>\n",
    "        <td width=\"6%\">\n",
    "            <img src=\"question_icon.png\">\n",
    "        </td>\n",
    "        <td>\n",
    "            <div align=\"left\", style=\"font-size:120%\">\n",
    "                <font color=\"#21618C\">\n",
    "                    <b>12. Instantiate clustering method with an optimal number of clusters and 'ward' linkage method.</b>\n",
    "                </font>\n",
    "            </div>\n",
    "        </td>\n",
    "    </tr>\n",
    "</table>"
   ]
  },
  {
   "cell_type": "code",
   "execution_count": 126,
   "metadata": {},
   "outputs": [],
   "source": [
    "from sklearn.cluster import KMeans"
   ]
  },
  {
   "cell_type": "code",
   "execution_count": 127,
   "metadata": {},
   "outputs": [
    {
     "name": "stderr",
     "output_type": "stream",
     "text": [
      "C:\\ProgramData\\anaconda3\\lib\\site-packages\\sklearn\\cluster\\_kmeans.py:870: FutureWarning: The default value of `n_init` will change from 10 to 'auto' in 1.4. Set the value of `n_init` explicitly to suppress the warning\n",
      "  warnings.warn(\n",
      "C:\\ProgramData\\anaconda3\\lib\\site-packages\\sklearn\\cluster\\_kmeans.py:1382: UserWarning: KMeans is known to have a memory leak on Windows with MKL, when there are less chunks than available threads. You can avoid it by setting the environment variable OMP_NUM_THREADS=5.\n",
      "  warnings.warn(\n"
     ]
    },
    {
     "data": {
      "image/png": "[encoded data removed]",
      "text/plain": [
       "<Figure size 640x480 with 1 Axes>"
      ]
     },
     "metadata": {},
     "output_type": "display_data"
    }
   ],
   "source": [
    "model = KMeans(n_clusters = 2,random_state = 100)\n",
    "model.fit(df)\n",
    "Z = linkage(scaled_data,method='ward')\n",
    "dendrogram(Z,truncate_mode='lastp',p=10)\n",
    "plt.show()"
   ]
  },
  {
   "cell_type": "markdown",
   "metadata": {},
   "source": [
    "<table align=\"left\">\n",
    "    <tr>\n",
    "        <td width=\"6%\">\n",
    "            <img src=\"question_icon.png\">\n",
    "        </td>\n",
    "        <td>\n",
    "            <div align=\"left\", style=\"font-size:120%\">\n",
    "                <font color=\"#21618C\">\n",
    "                    <b>13. Obtain the cluster labels and add a column containing the cluster number to the original data.</b>\n",
    "                </font>\n",
    "            </div>\n",
    "        </td>\n",
    "    </tr>\n",
    "</table>"
   ]
  },
  {
   "cell_type": "code",
   "execution_count": 128,
   "metadata": {},
   "outputs": [],
   "source": [
    "df['labels'] = model.labels_"
   ]
  },
  {
   "cell_type": "code",
   "execution_count": 129,
   "metadata": {},
   "outputs": [
    {
     "data": {
      "text/html": [
       "<div>\n",
       "<style scoped>\n",
       "    .dataframe tbody tr th:only-of-type {\n",
       "        vertical-align: middle;\n",
       "    }\n",
       "\n",
       "    .dataframe tbody tr th {\n",
       "        vertical-align: top;\n",
       "    }\n",
       "\n",
       "    .dataframe thead th {\n",
       "        text-align: right;\n",
       "    }\n",
       "</style>\n",
       "<table border=\"1\" class=\"dataframe\">\n",
       "  <thead>\n",
       "    <tr style=\"text-align: right;\">\n",
       "      <th></th>\n",
       "      <th>CO2 Emissions</th>\n",
       "      <th>Energy Usage</th>\n",
       "      <th>GDP</th>\n",
       "      <th>Population Total</th>\n",
       "      <th>labels</th>\n",
       "    </tr>\n",
       "  </thead>\n",
       "  <tbody>\n",
       "    <tr>\n",
       "      <th>0</th>\n",
       "      <td>4294</td>\n",
       "      <td>1976</td>\n",
       "      <td>5.652325e+09</td>\n",
       "      <td>3033659</td>\n",
       "      <td>1</td>\n",
       "    </tr>\n",
       "    <tr>\n",
       "      <th>1</th>\n",
       "      <td>4166</td>\n",
       "      <td>2172</td>\n",
       "      <td>7.464447e+09</td>\n",
       "      <td>3014579</td>\n",
       "      <td>1</td>\n",
       "    </tr>\n",
       "    <tr>\n",
       "      <th>2</th>\n",
       "      <td>4254</td>\n",
       "      <td>2172</td>\n",
       "      <td>8.376484e+09</td>\n",
       "      <td>2992724</td>\n",
       "      <td>1</td>\n",
       "    </tr>\n",
       "    <tr>\n",
       "      <th>3</th>\n",
       "      <td>3865</td>\n",
       "      <td>2068</td>\n",
       "      <td>9.132562e+09</td>\n",
       "      <td>2968028</td>\n",
       "      <td>1</td>\n",
       "    </tr>\n",
       "    <tr>\n",
       "      <th>4</th>\n",
       "      <td>4056</td>\n",
       "      <td>2025</td>\n",
       "      <td>1.070101e+10</td>\n",
       "      <td>2940880</td>\n",
       "      <td>1</td>\n",
       "    </tr>\n",
       "    <tr>\n",
       "      <th>...</th>\n",
       "      <td>...</td>\n",
       "      <td>...</td>\n",
       "      <td>...</td>\n",
       "      <td>...</td>\n",
       "      <td>...</td>\n",
       "    </tr>\n",
       "    <tr>\n",
       "      <th>1238</th>\n",
       "      <td>2274</td>\n",
       "      <td>7213</td>\n",
       "      <td>7.178556e+09</td>\n",
       "      <td>11470022</td>\n",
       "      <td>1</td>\n",
       "    </tr>\n",
       "    <tr>\n",
       "      <th>1239</th>\n",
       "      <td>2226</td>\n",
       "      <td>7396</td>\n",
       "      <td>1.070220e+10</td>\n",
       "      <td>11781612</td>\n",
       "      <td>1</td>\n",
       "    </tr>\n",
       "    <tr>\n",
       "      <th>1240</th>\n",
       "      <td>1654</td>\n",
       "      <td>7399</td>\n",
       "      <td>1.154142e+10</td>\n",
       "      <td>12109620</td>\n",
       "      <td>1</td>\n",
       "    </tr>\n",
       "    <tr>\n",
       "      <th>1241</th>\n",
       "      <td>1845</td>\n",
       "      <td>7641</td>\n",
       "      <td>1.464079e+10</td>\n",
       "      <td>12456527</td>\n",
       "      <td>1</td>\n",
       "    </tr>\n",
       "    <tr>\n",
       "      <th>1242</th>\n",
       "      <td>2156</td>\n",
       "      <td>7842</td>\n",
       "      <td>1.280503e+10</td>\n",
       "      <td>12825031</td>\n",
       "      <td>1</td>\n",
       "    </tr>\n",
       "  </tbody>\n",
       "</table>\n",
       "<p>1054 rows × 5 columns</p>\n",
       "</div>"
      ],
      "text/plain": [
       "      CO2 Emissions  Energy Usage           GDP  Population Total  labels\n",
       "0              4294          1976  5.652325e+09           3033659       1\n",
       "1              4166          2172  7.464447e+09           3014579       1\n",
       "2              4254          2172  8.376484e+09           2992724       1\n",
       "3              3865          2068  9.132562e+09           2968028       1\n",
       "4              4056          2025  1.070101e+10           2940880       1\n",
       "...             ...           ...           ...               ...     ...\n",
       "1238           2274          7213  7.178556e+09          11470022       1\n",
       "1239           2226          7396  1.070220e+10          11781612       1\n",
       "1240           1654          7399  1.154142e+10          12109620       1\n",
       "1241           1845          7641  1.464079e+10          12456527       1\n",
       "1242           2156          7842  1.280503e+10          12825031       1\n",
       "\n",
       "[1054 rows x 5 columns]"
      ]
     },
     "execution_count": 129,
     "metadata": {},
     "output_type": "execute_result"
    }
   ],
   "source": [
    "df"
   ]
  },
  {
   "cell_type": "markdown",
   "metadata": {},
   "source": [
    "<table align=\"left\">\n",
    "    <tr>\n",
    "        <td width=\"6%\">\n",
    "            <img src=\"question_icon.png\">\n",
    "        </td>\n",
    "        <td>\n",
    "            <div align=\"left\", style=\"font-size:120%\">\n",
    "                <font color=\"#21618C\">\n",
    "                    <b>14. Find the size of each cluster and plot the count plot for the cluster size.</b>\n",
    "                </font>\n",
    "            </div>\n",
    "        </td>\n",
    "    </tr>\n",
    "</table>"
   ]
  },
  {
   "cell_type": "code",
   "execution_count": 130,
   "metadata": {},
   "outputs": [
    {
     "data": {
      "text/plain": [
       "<Axes: >"
      ]
     },
     "execution_count": 130,
     "metadata": {},
     "output_type": "execute_result"
    },
    {
     "data": {
      "image/png": "[encoded data removed]",
      "text/plain": [
       "<Figure size 640x480 with 1 Axes>"
      ]
     },
     "metadata": {},
     "output_type": "display_data"
    }
   ],
   "source": [
    "df['labels'].value_counts().plot(kind='bar')"
   ]
  },
  {
   "cell_type": "markdown",
   "metadata": {},
   "source": [
    "<table align=\"left\">\n",
    "    <tr>\n",
    "        <td width=\"6%\">\n",
    "            <img src=\"question_icon.png\">\n",
    "        </td>\n",
    "        <td>\n",
    "            <div align=\"left\", style=\"font-size:120%\">\n",
    "                <font color=\"#21618C\">\n",
    "                    <b>15. Plot the scatterplot to visualize the clusters using 'CO2 Emissions' and 'Energy Usage'.</b>\n",
    "                </font>\n",
    "            </div>\n",
    "        </td>\n",
    "    </tr>\n",
    "</table>"
   ]
  },
  {
   "cell_type": "code",
   "execution_count": 131,
   "metadata": {},
   "outputs": [
    {
     "name": "stderr",
     "output_type": "stream",
     "text": [
      "C:\\Users\\akris\\AppData\\Local\\Temp\\ipykernel_20324\\4169414985.py:1: UserWarning: The palette list has more values (4) than needed (2), which may not be intended.\n",
      "  sns.scatterplot(data=df,x='CO2 Emissions',y='Energy Usage',hue='labels',palette=['blue','yellow','orange','black'])\n"
     ]
    },
    {
     "data": {
      "image/png": "[encoded data removed]",
      "text/plain": [
       "<Figure size 640x480 with 1 Axes>"
      ]
     },
     "metadata": {},
     "output_type": "display_data"
    }
   ],
   "source": [
    "sns.scatterplot(data=df,x='CO2 Emissions',y='Energy Usage',hue='labels',palette=['blue','yellow','orange','black'])\n",
    "plt.show()"
   ]
  },
  {
   "cell_type": "markdown",
   "metadata": {},
   "source": [
    "<table align=\"left\">\n",
    "    <tr>\n",
    "        <td width=\"6%\">\n",
    "            <img src=\"question_icon.png\">\n",
    "        </td>\n",
    "        <td>\n",
    "            <div align=\"left\", style=\"font-size:120%\">\n",
    "                <font color=\"#21618C\">\n",
    "                    <b>16. Obtain the first 10 observations for 1st cluster and find its summary.</b>\n",
    "                </font>\n",
    "            </div>\n",
    "        </td>\n",
    "    </tr>\n",
    "</table>"
   ]
  },
  {
   "cell_type": "code",
   "execution_count": 132,
   "metadata": {},
   "outputs": [
    {
     "data": {
      "text/html": [
       "<div>\n",
       "<style scoped>\n",
       "    .dataframe tbody tr th:only-of-type {\n",
       "        vertical-align: middle;\n",
       "    }\n",
       "\n",
       "    .dataframe tbody tr th {\n",
       "        vertical-align: top;\n",
       "    }\n",
       "\n",
       "    .dataframe thead th {\n",
       "        text-align: right;\n",
       "    }\n",
       "</style>\n",
       "<table border=\"1\" class=\"dataframe\">\n",
       "  <thead>\n",
       "    <tr style=\"text-align: right;\">\n",
       "      <th></th>\n",
       "      <th>CO2 Emissions</th>\n",
       "      <th>Energy Usage</th>\n",
       "      <th>GDP</th>\n",
       "      <th>Population Total</th>\n",
       "      <th>labels</th>\n",
       "    </tr>\n",
       "  </thead>\n",
       "  <tbody>\n",
       "    <tr>\n",
       "      <th>16</th>\n",
       "      <td>123475</td>\n",
       "      <td>41852</td>\n",
       "      <td>1.990000e+11</td>\n",
       "      <td>37762962</td>\n",
       "      <td>0</td>\n",
       "    </tr>\n",
       "    <tr>\n",
       "      <th>17</th>\n",
       "      <td>123475</td>\n",
       "      <td>41852</td>\n",
       "      <td>2.040000e+11</td>\n",
       "      <td>38481705</td>\n",
       "      <td>0</td>\n",
       "    </tr>\n",
       "    <tr>\n",
       "      <th>39</th>\n",
       "      <td>141077</td>\n",
       "      <td>60954</td>\n",
       "      <td>3.440000e+11</td>\n",
       "      <td>36903067</td>\n",
       "      <td>0</td>\n",
       "    </tr>\n",
       "    <tr>\n",
       "      <th>40</th>\n",
       "      <td>132632</td>\n",
       "      <td>57835</td>\n",
       "      <td>3.250000e+11</td>\n",
       "      <td>37273361</td>\n",
       "      <td>0</td>\n",
       "    </tr>\n",
       "    <tr>\n",
       "      <th>43</th>\n",
       "      <td>156170</td>\n",
       "      <td>67303</td>\n",
       "      <td>1.830000e+11</td>\n",
       "      <td>38308779</td>\n",
       "      <td>0</td>\n",
       "    </tr>\n",
       "    <tr>\n",
       "      <th>44</th>\n",
       "      <td>160952</td>\n",
       "      <td>66973</td>\n",
       "      <td>2.230000e+11</td>\n",
       "      <td>38647854</td>\n",
       "      <td>0</td>\n",
       "    </tr>\n",
       "    <tr>\n",
       "      <th>45</th>\n",
       "      <td>174238</td>\n",
       "      <td>73128</td>\n",
       "      <td>2.640000e+11</td>\n",
       "      <td>38988923</td>\n",
       "      <td>0</td>\n",
       "    </tr>\n",
       "    <tr>\n",
       "      <th>46</th>\n",
       "      <td>180416</td>\n",
       "      <td>73673</td>\n",
       "      <td>3.300000e+11</td>\n",
       "      <td>39331357</td>\n",
       "      <td>0</td>\n",
       "    </tr>\n",
       "    <tr>\n",
       "      <th>47</th>\n",
       "      <td>190057</td>\n",
       "      <td>77794</td>\n",
       "      <td>4.060000e+11</td>\n",
       "      <td>39676083</td>\n",
       "      <td>0</td>\n",
       "    </tr>\n",
       "    <tr>\n",
       "      <th>48</th>\n",
       "      <td>179639</td>\n",
       "      <td>76075</td>\n",
       "      <td>3.780000e+11</td>\n",
       "      <td>40023641</td>\n",
       "      <td>0</td>\n",
       "    </tr>\n",
       "  </tbody>\n",
       "</table>\n",
       "</div>"
      ],
      "text/plain": [
       "    CO2 Emissions  Energy Usage           GDP  Population Total  labels\n",
       "16         123475         41852  1.990000e+11          37762962       0\n",
       "17         123475         41852  2.040000e+11          38481705       0\n",
       "39         141077         60954  3.440000e+11          36903067       0\n",
       "40         132632         57835  3.250000e+11          37273361       0\n",
       "43         156170         67303  1.830000e+11          38308779       0\n",
       "44         160952         66973  2.230000e+11          38647854       0\n",
       "45         174238         73128  2.640000e+11          38988923       0\n",
       "46         180416         73673  3.300000e+11          39331357       0\n",
       "47         190057         77794  4.060000e+11          39676083       0\n",
       "48         179639         76075  3.780000e+11          40023641       0"
      ]
     },
     "execution_count": 132,
     "metadata": {},
     "output_type": "execute_result"
    }
   ],
   "source": [
    "df[df['labels']==0].iloc[:10,:]"
   ]
  },
  {
   "cell_type": "code",
   "execution_count": 133,
   "metadata": {},
   "outputs": [
    {
     "data": {
      "text/html": [
       "<div>\n",
       "<style scoped>\n",
       "    .dataframe tbody tr th:only-of-type {\n",
       "        vertical-align: middle;\n",
       "    }\n",
       "\n",
       "    .dataframe tbody tr th {\n",
       "        vertical-align: top;\n",
       "    }\n",
       "\n",
       "    .dataframe thead th {\n",
       "        text-align: right;\n",
       "    }\n",
       "</style>\n",
       "<table border=\"1\" class=\"dataframe\">\n",
       "  <thead>\n",
       "    <tr style=\"text-align: right;\">\n",
       "      <th></th>\n",
       "      <th>CO2 Emissions</th>\n",
       "      <th>Energy Usage</th>\n",
       "      <th>GDP</th>\n",
       "      <th>Population Total</th>\n",
       "      <th>labels</th>\n",
       "    </tr>\n",
       "  </thead>\n",
       "  <tbody>\n",
       "    <tr>\n",
       "      <th>count</th>\n",
       "      <td>10.000000</td>\n",
       "      <td>10.000000</td>\n",
       "      <td>1.000000e+01</td>\n",
       "      <td>1.000000e+01</td>\n",
       "      <td>10.0</td>\n",
       "    </tr>\n",
       "    <tr>\n",
       "      <th>mean</th>\n",
       "      <td>156213.100000</td>\n",
       "      <td>63743.900000</td>\n",
       "      <td>2.856000e+11</td>\n",
       "      <td>3.853977e+07</td>\n",
       "      <td>0.0</td>\n",
       "    </tr>\n",
       "    <tr>\n",
       "      <th>std</th>\n",
       "      <td>24846.316429</td>\n",
       "      <td>13167.355209</td>\n",
       "      <td>8.099273e+10</td>\n",
       "      <td>1.015210e+06</td>\n",
       "      <td>0.0</td>\n",
       "    </tr>\n",
       "    <tr>\n",
       "      <th>min</th>\n",
       "      <td>123475.000000</td>\n",
       "      <td>41852.000000</td>\n",
       "      <td>1.830000e+11</td>\n",
       "      <td>3.690307e+07</td>\n",
       "      <td>0.0</td>\n",
       "    </tr>\n",
       "    <tr>\n",
       "      <th>25%</th>\n",
       "      <td>134743.250000</td>\n",
       "      <td>58614.750000</td>\n",
       "      <td>2.087500e+11</td>\n",
       "      <td>3.789942e+07</td>\n",
       "      <td>0.0</td>\n",
       "    </tr>\n",
       "    <tr>\n",
       "      <th>50%</th>\n",
       "      <td>158561.000000</td>\n",
       "      <td>67138.000000</td>\n",
       "      <td>2.945000e+11</td>\n",
       "      <td>3.856478e+07</td>\n",
       "      <td>0.0</td>\n",
       "    </tr>\n",
       "    <tr>\n",
       "      <th>75%</th>\n",
       "      <td>178288.750000</td>\n",
       "      <td>73536.750000</td>\n",
       "      <td>3.405000e+11</td>\n",
       "      <td>3.924575e+07</td>\n",
       "      <td>0.0</td>\n",
       "    </tr>\n",
       "    <tr>\n",
       "      <th>max</th>\n",
       "      <td>190057.000000</td>\n",
       "      <td>77794.000000</td>\n",
       "      <td>4.060000e+11</td>\n",
       "      <td>4.002364e+07</td>\n",
       "      <td>0.0</td>\n",
       "    </tr>\n",
       "  </tbody>\n",
       "</table>\n",
       "</div>"
      ],
      "text/plain": [
       "       CO2 Emissions  Energy Usage           GDP  Population Total  labels\n",
       "count      10.000000     10.000000  1.000000e+01      1.000000e+01    10.0\n",
       "mean   156213.100000  63743.900000  2.856000e+11      3.853977e+07     0.0\n",
       "std     24846.316429  13167.355209  8.099273e+10      1.015210e+06     0.0\n",
       "min    123475.000000  41852.000000  1.830000e+11      3.690307e+07     0.0\n",
       "25%    134743.250000  58614.750000  2.087500e+11      3.789942e+07     0.0\n",
       "50%    158561.000000  67138.000000  2.945000e+11      3.856478e+07     0.0\n",
       "75%    178288.750000  73536.750000  3.405000e+11      3.924575e+07     0.0\n",
       "max    190057.000000  77794.000000  4.060000e+11      4.002364e+07     0.0"
      ]
     },
     "execution_count": 133,
     "metadata": {},
     "output_type": "execute_result"
    }
   ],
   "source": [
    "df[df['labels']==0].iloc[:10,:].describe()"
   ]
  },
  {
   "cell_type": "markdown",
   "metadata": {},
   "source": [
    "<table align=\"left\">\n",
    "    <tr>\n",
    "        <td width=\"6%\">\n",
    "            <img src=\"question_icon.png\">\n",
    "        </td>\n",
    "        <td>\n",
    "            <div align=\"left\", style=\"font-size:120%\">\n",
    "                <font color=\"#21618C\">\n",
    "                    <b>17. Obtain the first 10 observations for the 2nd cluster and find its summary.</b>\n",
    "                </font>\n",
    "            </div>\n",
    "        </td>\n",
    "    </tr>\n",
    "</table>"
   ]
  },
  {
   "cell_type": "code",
   "execution_count": 134,
   "metadata": {
    "scrolled": true
   },
   "outputs": [
    {
     "data": {
      "text/html": [
       "<div>\n",
       "<style scoped>\n",
       "    .dataframe tbody tr th:only-of-type {\n",
       "        vertical-align: middle;\n",
       "    }\n",
       "\n",
       "    .dataframe tbody tr th {\n",
       "        vertical-align: top;\n",
       "    }\n",
       "\n",
       "    .dataframe thead th {\n",
       "        text-align: right;\n",
       "    }\n",
       "</style>\n",
       "<table border=\"1\" class=\"dataframe\">\n",
       "  <thead>\n",
       "    <tr style=\"text-align: right;\">\n",
       "      <th></th>\n",
       "      <th>CO2 Emissions</th>\n",
       "      <th>Energy Usage</th>\n",
       "      <th>GDP</th>\n",
       "      <th>Population Total</th>\n",
       "      <th>labels</th>\n",
       "    </tr>\n",
       "  </thead>\n",
       "  <tbody>\n",
       "    <tr>\n",
       "      <th>0</th>\n",
       "      <td>4294</td>\n",
       "      <td>1976</td>\n",
       "      <td>5.652325e+09</td>\n",
       "      <td>3033659</td>\n",
       "      <td>1</td>\n",
       "    </tr>\n",
       "    <tr>\n",
       "      <th>1</th>\n",
       "      <td>4166</td>\n",
       "      <td>2172</td>\n",
       "      <td>7.464447e+09</td>\n",
       "      <td>3014579</td>\n",
       "      <td>1</td>\n",
       "    </tr>\n",
       "    <tr>\n",
       "      <th>2</th>\n",
       "      <td>4254</td>\n",
       "      <td>2172</td>\n",
       "      <td>8.376484e+09</td>\n",
       "      <td>2992724</td>\n",
       "      <td>1</td>\n",
       "    </tr>\n",
       "    <tr>\n",
       "      <th>3</th>\n",
       "      <td>3865</td>\n",
       "      <td>2068</td>\n",
       "      <td>9.132562e+09</td>\n",
       "      <td>2968028</td>\n",
       "      <td>1</td>\n",
       "    </tr>\n",
       "    <tr>\n",
       "      <th>4</th>\n",
       "      <td>4056</td>\n",
       "      <td>2025</td>\n",
       "      <td>1.070101e+10</td>\n",
       "      <td>2940880</td>\n",
       "      <td>1</td>\n",
       "    </tr>\n",
       "    <tr>\n",
       "      <th>5</th>\n",
       "      <td>4129</td>\n",
       "      <td>2061</td>\n",
       "      <td>1.288135e+10</td>\n",
       "      <td>2912559</td>\n",
       "      <td>1</td>\n",
       "    </tr>\n",
       "    <tr>\n",
       "      <th>6</th>\n",
       "      <td>3880</td>\n",
       "      <td>2068</td>\n",
       "      <td>1.204421e+10</td>\n",
       "      <td>2884303</td>\n",
       "      <td>1</td>\n",
       "    </tr>\n",
       "    <tr>\n",
       "      <th>7</th>\n",
       "      <td>4283</td>\n",
       "      <td>2059</td>\n",
       "      <td>1.192695e+10</td>\n",
       "      <td>2856673</td>\n",
       "      <td>1</td>\n",
       "    </tr>\n",
       "    <tr>\n",
       "      <th>8</th>\n",
       "      <td>92533</td>\n",
       "      <td>30698</td>\n",
       "      <td>6.786383e+10</td>\n",
       "      <td>33003442</td>\n",
       "      <td>1</td>\n",
       "    </tr>\n",
       "    <tr>\n",
       "      <th>9</th>\n",
       "      <td>89493</td>\n",
       "      <td>30974</td>\n",
       "      <td>8.532500e+10</td>\n",
       "      <td>33461345</td>\n",
       "      <td>1</td>\n",
       "    </tr>\n",
       "  </tbody>\n",
       "</table>\n",
       "</div>"
      ],
      "text/plain": [
       "   CO2 Emissions  Energy Usage           GDP  Population Total  labels\n",
       "0           4294          1976  5.652325e+09           3033659       1\n",
       "1           4166          2172  7.464447e+09           3014579       1\n",
       "2           4254          2172  8.376484e+09           2992724       1\n",
       "3           3865          2068  9.132562e+09           2968028       1\n",
       "4           4056          2025  1.070101e+10           2940880       1\n",
       "5           4129          2061  1.288135e+10           2912559       1\n",
       "6           3880          2068  1.204421e+10           2884303       1\n",
       "7           4283          2059  1.192695e+10           2856673       1\n",
       "8          92533         30698  6.786383e+10          33003442       1\n",
       "9          89493         30974  8.532500e+10          33461345       1"
      ]
     },
     "execution_count": 134,
     "metadata": {},
     "output_type": "execute_result"
    }
   ],
   "source": [
    "df[df['labels']==1].iloc[:10,:]"
   ]
  },
  {
   "cell_type": "code",
   "execution_count": 135,
   "metadata": {},
   "outputs": [
    {
     "data": {
      "text/html": [
       "<div>\n",
       "<style scoped>\n",
       "    .dataframe tbody tr th:only-of-type {\n",
       "        vertical-align: middle;\n",
       "    }\n",
       "\n",
       "    .dataframe tbody tr th {\n",
       "        vertical-align: top;\n",
       "    }\n",
       "\n",
       "    .dataframe thead th {\n",
       "        text-align: right;\n",
       "    }\n",
       "</style>\n",
       "<table border=\"1\" class=\"dataframe\">\n",
       "  <thead>\n",
       "    <tr style=\"text-align: right;\">\n",
       "      <th></th>\n",
       "      <th>CO2 Emissions</th>\n",
       "      <th>Energy Usage</th>\n",
       "      <th>GDP</th>\n",
       "      <th>Population Total</th>\n",
       "      <th>labels</th>\n",
       "    </tr>\n",
       "  </thead>\n",
       "  <tbody>\n",
       "    <tr>\n",
       "      <th>count</th>\n",
       "      <td>10.000000</td>\n",
       "      <td>10.000000</td>\n",
       "      <td>1.000000e+01</td>\n",
       "      <td>1.000000e+01</td>\n",
       "      <td>10.0</td>\n",
       "    </tr>\n",
       "    <tr>\n",
       "      <th>mean</th>\n",
       "      <td>156213.100000</td>\n",
       "      <td>63743.900000</td>\n",
       "      <td>2.856000e+11</td>\n",
       "      <td>3.853977e+07</td>\n",
       "      <td>0.0</td>\n",
       "    </tr>\n",
       "    <tr>\n",
       "      <th>std</th>\n",
       "      <td>24846.316429</td>\n",
       "      <td>13167.355209</td>\n",
       "      <td>8.099273e+10</td>\n",
       "      <td>1.015210e+06</td>\n",
       "      <td>0.0</td>\n",
       "    </tr>\n",
       "    <tr>\n",
       "      <th>min</th>\n",
       "      <td>123475.000000</td>\n",
       "      <td>41852.000000</td>\n",
       "      <td>1.830000e+11</td>\n",
       "      <td>3.690307e+07</td>\n",
       "      <td>0.0</td>\n",
       "    </tr>\n",
       "    <tr>\n",
       "      <th>25%</th>\n",
       "      <td>134743.250000</td>\n",
       "      <td>58614.750000</td>\n",
       "      <td>2.087500e+11</td>\n",
       "      <td>3.789942e+07</td>\n",
       "      <td>0.0</td>\n",
       "    </tr>\n",
       "    <tr>\n",
       "      <th>50%</th>\n",
       "      <td>158561.000000</td>\n",
       "      <td>67138.000000</td>\n",
       "      <td>2.945000e+11</td>\n",
       "      <td>3.856478e+07</td>\n",
       "      <td>0.0</td>\n",
       "    </tr>\n",
       "    <tr>\n",
       "      <th>75%</th>\n",
       "      <td>178288.750000</td>\n",
       "      <td>73536.750000</td>\n",
       "      <td>3.405000e+11</td>\n",
       "      <td>3.924575e+07</td>\n",
       "      <td>0.0</td>\n",
       "    </tr>\n",
       "    <tr>\n",
       "      <th>max</th>\n",
       "      <td>190057.000000</td>\n",
       "      <td>77794.000000</td>\n",
       "      <td>4.060000e+11</td>\n",
       "      <td>4.002364e+07</td>\n",
       "      <td>0.0</td>\n",
       "    </tr>\n",
       "  </tbody>\n",
       "</table>\n",
       "</div>"
      ],
      "text/plain": [
       "       CO2 Emissions  Energy Usage           GDP  Population Total  labels\n",
       "count      10.000000     10.000000  1.000000e+01      1.000000e+01    10.0\n",
       "mean   156213.100000  63743.900000  2.856000e+11      3.853977e+07     0.0\n",
       "std     24846.316429  13167.355209  8.099273e+10      1.015210e+06     0.0\n",
       "min    123475.000000  41852.000000  1.830000e+11      3.690307e+07     0.0\n",
       "25%    134743.250000  58614.750000  2.087500e+11      3.789942e+07     0.0\n",
       "50%    158561.000000  67138.000000  2.945000e+11      3.856478e+07     0.0\n",
       "75%    178288.750000  73536.750000  3.405000e+11      3.924575e+07     0.0\n",
       "max    190057.000000  77794.000000  4.060000e+11      4.002364e+07     0.0"
      ]
     },
     "execution_count": 135,
     "metadata": {},
     "output_type": "execute_result"
    }
   ],
   "source": [
    "df[df['labels']==0].iloc[:10,:].describe()"
   ]
  },
  {
   "cell_type": "markdown",
   "metadata": {},
   "source": [
    "<a id=\"DBSCAN\"></a>\n",
    "## 3. DBSCAN"
   ]
  },
  {
   "cell_type": "markdown",
   "metadata": {},
   "source": [
    "<table align=\"left\">\n",
    "    <tr>\n",
    "        <td width=\"6%\">\n",
    "            <img src=\"question_icon.png\">\n",
    "        </td>\n",
    "        <td>\n",
    "            <div align=\"left\", style=\"font-size:120%\">\n",
    "                <font color=\"#21618C\">\n",
    "                    <b>18. Perform DBSCAN for the data given using 0.7 as epsilon and 9 minimum samples. Display the unique number of clusters.</b>\n",
    "                </font>\n",
    "            </div>\n",
    "        </td>\n",
    "    </tr>\n",
    "</table>"
   ]
  },
  {
   "cell_type": "code",
   "execution_count": 144,
   "metadata": {},
   "outputs": [],
   "source": [
    "from sklearn.cluster import DBSCAN"
   ]
  },
  {
   "cell_type": "code",
   "execution_count": 145,
   "metadata": {},
   "outputs": [
    {
     "data": {
      "text/html": [
       "<div>\n",
       "<style scoped>\n",
       "    .dataframe tbody tr th:only-of-type {\n",
       "        vertical-align: middle;\n",
       "    }\n",
       "\n",
       "    .dataframe tbody tr th {\n",
       "        vertical-align: top;\n",
       "    }\n",
       "\n",
       "    .dataframe thead th {\n",
       "        text-align: right;\n",
       "    }\n",
       "</style>\n",
       "<table border=\"1\" class=\"dataframe\">\n",
       "  <thead>\n",
       "    <tr style=\"text-align: right;\">\n",
       "      <th></th>\n",
       "      <th>CO2 Emissions</th>\n",
       "      <th>Energy Usage</th>\n",
       "      <th>GDP</th>\n",
       "      <th>Population Total</th>\n",
       "    </tr>\n",
       "  </thead>\n",
       "  <tbody>\n",
       "    <tr>\n",
       "      <th>0</th>\n",
       "      <td>-0.523682</td>\n",
       "      <td>-0.615122</td>\n",
       "      <td>-0.546747</td>\n",
       "      <td>-0.522900</td>\n",
       "    </tr>\n",
       "    <tr>\n",
       "      <th>1</th>\n",
       "      <td>-0.525836</td>\n",
       "      <td>-0.606536</td>\n",
       "      <td>-0.531386</td>\n",
       "      <td>-0.523940</td>\n",
       "    </tr>\n",
       "    <tr>\n",
       "      <th>2</th>\n",
       "      <td>-0.524355</td>\n",
       "      <td>-0.606536</td>\n",
       "      <td>-0.523654</td>\n",
       "      <td>-0.525130</td>\n",
       "    </tr>\n",
       "    <tr>\n",
       "      <th>3</th>\n",
       "      <td>-0.530902</td>\n",
       "      <td>-0.611092</td>\n",
       "      <td>-0.517245</td>\n",
       "      <td>-0.526476</td>\n",
       "    </tr>\n",
       "    <tr>\n",
       "      <th>4</th>\n",
       "      <td>-0.527688</td>\n",
       "      <td>-0.612976</td>\n",
       "      <td>-0.503949</td>\n",
       "      <td>-0.527955</td>\n",
       "    </tr>\n",
       "    <tr>\n",
       "      <th>...</th>\n",
       "      <td>...</td>\n",
       "      <td>...</td>\n",
       "      <td>...</td>\n",
       "      <td>...</td>\n",
       "    </tr>\n",
       "    <tr>\n",
       "      <th>1049</th>\n",
       "      <td>-0.557679</td>\n",
       "      <td>-0.385690</td>\n",
       "      <td>-0.533809</td>\n",
       "      <td>-0.063318</td>\n",
       "    </tr>\n",
       "    <tr>\n",
       "      <th>1050</th>\n",
       "      <td>-0.558487</td>\n",
       "      <td>-0.377673</td>\n",
       "      <td>-0.503939</td>\n",
       "      <td>-0.046343</td>\n",
       "    </tr>\n",
       "    <tr>\n",
       "      <th>1051</th>\n",
       "      <td>-0.568114</td>\n",
       "      <td>-0.377542</td>\n",
       "      <td>-0.496825</td>\n",
       "      <td>-0.028475</td>\n",
       "    </tr>\n",
       "    <tr>\n",
       "      <th>1052</th>\n",
       "      <td>-0.564900</td>\n",
       "      <td>-0.366940</td>\n",
       "      <td>-0.470552</td>\n",
       "      <td>-0.009577</td>\n",
       "    </tr>\n",
       "    <tr>\n",
       "      <th>1053</th>\n",
       "      <td>-0.559665</td>\n",
       "      <td>-0.358134</td>\n",
       "      <td>-0.486113</td>\n",
       "      <td>0.010498</td>\n",
       "    </tr>\n",
       "  </tbody>\n",
       "</table>\n",
       "<p>1054 rows × 4 columns</p>\n",
       "</div>"
      ],
      "text/plain": [
       "      CO2 Emissions  Energy Usage       GDP  Population Total\n",
       "0         -0.523682     -0.615122 -0.546747         -0.522900\n",
       "1         -0.525836     -0.606536 -0.531386         -0.523940\n",
       "2         -0.524355     -0.606536 -0.523654         -0.525130\n",
       "3         -0.530902     -0.611092 -0.517245         -0.526476\n",
       "4         -0.527688     -0.612976 -0.503949         -0.527955\n",
       "...             ...           ...       ...               ...\n",
       "1049      -0.557679     -0.385690 -0.533809         -0.063318\n",
       "1050      -0.558487     -0.377673 -0.503939         -0.046343\n",
       "1051      -0.568114     -0.377542 -0.496825         -0.028475\n",
       "1052      -0.564900     -0.366940 -0.470552         -0.009577\n",
       "1053      -0.559665     -0.358134 -0.486113          0.010498\n",
       "\n",
       "[1054 rows x 4 columns]"
      ]
     },
     "execution_count": 145,
     "metadata": {},
     "output_type": "execute_result"
    }
   ],
   "source": [
    "scaled_data.iloc[:,:4]"
   ]
  },
  {
   "cell_type": "code",
   "execution_count": 146,
   "metadata": {},
   "outputs": [],
   "source": [
    "db = DBSCAN(eps=0.7,min_samples=9)\n",
    "db.fit(scaled_data.iloc[:,:4])\n",
    "scaled_data['labeled_db'] = db.labels_"
   ]
  },
  {
   "cell_type": "code",
   "execution_count": 147,
   "metadata": {},
   "outputs": [
    {
     "data": {
      "text/plain": [
       "array([ 0, -1,  1], dtype=int64)"
      ]
     },
     "execution_count": 147,
     "metadata": {},
     "output_type": "execute_result"
    }
   ],
   "source": [
    "scaled_data['labeled_db'].unique()"
   ]
  },
  {
   "cell_type": "markdown",
   "metadata": {},
   "source": [
    "<table align=\"left\">\n",
    "    <tr>\n",
    "        <td width=\"6%\">\n",
    "            <img src=\"question_icon.png\">\n",
    "        </td>\n",
    "        <td>\n",
    "            <div align=\"left\", style=\"font-size:120%\">\n",
    "                <font color=\"#21618C\">\n",
    "                    <b>19. Check for the size of each cluster and plot the count plot for the cluster size.</b>\n",
    "                </font>\n",
    "            </div>\n",
    "        </td>\n",
    "    </tr>\n",
    "</table>"
   ]
  },
  {
   "cell_type": "code",
   "execution_count": 148,
   "metadata": {
    "scrolled": true
   },
   "outputs": [
    {
     "data": {
      "text/plain": [
       " 0    953\n",
       "-1     92\n",
       " 1      9\n",
       "Name: labeled_db, dtype: int64"
      ]
     },
     "execution_count": 148,
     "metadata": {},
     "output_type": "execute_result"
    }
   ],
   "source": [
    "scaled_data['labeled_db'].value_counts()"
   ]
  },
  {
   "cell_type": "code",
   "execution_count": 149,
   "metadata": {},
   "outputs": [
    {
     "data": {
      "text/plain": [
       "<Axes: xlabel='labeled_db', ylabel='count'>"
      ]
     },
     "execution_count": 149,
     "metadata": {},
     "output_type": "execute_result"
    },
    {
     "data": {
      "image/png": "[encoded data removed]",
      "text/plain": [
       "<Figure size 640x480 with 1 Axes>"
      ]
     },
     "metadata": {},
     "output_type": "display_data"
    }
   ],
   "source": [
    "sns.countplot(x=scaled_data['labeled_db'])"
   ]
  },
  {
   "cell_type": "markdown",
   "metadata": {},
   "source": [
    "<table align=\"left\">\n",
    "    <tr>\n",
    "        <td width=\"6%\">\n",
    "            <img src=\"question_icon.png\">\n",
    "        </td>\n",
    "        <td>\n",
    "            <div align=\"left\", style=\"font-size:120%\">\n",
    "                <font color=\"#21618C\">\n",
    "                    <b>20. Describe the outliers identified by the DBSCAN algorithm in the previous question.</b>\n",
    "                </font>\n",
    "            </div>\n",
    "        </td>\n",
    "    </tr>\n",
    "</table>"
   ]
  },
  {
   "cell_type": "code",
   "execution_count": 150,
   "metadata": {
    "scrolled": true
   },
   "outputs": [
    {
     "data": {
      "text/html": [
       "<div>\n",
       "<style scoped>\n",
       "    .dataframe tbody tr th:only-of-type {\n",
       "        vertical-align: middle;\n",
       "    }\n",
       "\n",
       "    .dataframe tbody tr th {\n",
       "        vertical-align: top;\n",
       "    }\n",
       "\n",
       "    .dataframe thead th {\n",
       "        text-align: right;\n",
       "    }\n",
       "</style>\n",
       "<table border=\"1\" class=\"dataframe\">\n",
       "  <thead>\n",
       "    <tr style=\"text-align: right;\">\n",
       "      <th></th>\n",
       "      <th>CO2 Emissions</th>\n",
       "      <th>Energy Usage</th>\n",
       "      <th>GDP</th>\n",
       "      <th>Population Total</th>\n",
       "      <th>labeled_db</th>\n",
       "    </tr>\n",
       "  </thead>\n",
       "  <tbody>\n",
       "    <tr>\n",
       "      <th>39</th>\n",
       "      <td>1.778417</td>\n",
       "      <td>1.968694</td>\n",
       "      <td>2.321439</td>\n",
       "      <td>1.322182</td>\n",
       "      <td>-1</td>\n",
       "    </tr>\n",
       "    <tr>\n",
       "      <th>40</th>\n",
       "      <td>1.636285</td>\n",
       "      <td>1.832051</td>\n",
       "      <td>2.160376</td>\n",
       "      <td>1.342355</td>\n",
       "      <td>-1</td>\n",
       "    </tr>\n",
       "    <tr>\n",
       "      <th>42</th>\n",
       "      <td>1.644616</td>\n",
       "      <td>1.885148</td>\n",
       "      <td>0.736233</td>\n",
       "      <td>1.380327</td>\n",
       "      <td>-1</td>\n",
       "    </tr>\n",
       "    <tr>\n",
       "      <th>43</th>\n",
       "      <td>2.032436</td>\n",
       "      <td>2.246842</td>\n",
       "      <td>0.956636</td>\n",
       "      <td>1.398761</td>\n",
       "      <td>-1</td>\n",
       "    </tr>\n",
       "    <tr>\n",
       "      <th>44</th>\n",
       "      <td>2.112919</td>\n",
       "      <td>2.232385</td>\n",
       "      <td>1.295718</td>\n",
       "      <td>1.417232</td>\n",
       "      <td>-1</td>\n",
       "    </tr>\n",
       "    <tr>\n",
       "      <th>...</th>\n",
       "      <td>...</td>\n",
       "      <td>...</td>\n",
       "      <td>...</td>\n",
       "      <td>...</td>\n",
       "      <td>...</td>\n",
       "    </tr>\n",
       "    <tr>\n",
       "      <th>1038</th>\n",
       "      <td>1.128414</td>\n",
       "      <td>1.159132</td>\n",
       "      <td>-0.032027</td>\n",
       "      <td>3.850428</td>\n",
       "      <td>-1</td>\n",
       "    </tr>\n",
       "    <tr>\n",
       "      <th>1039</th>\n",
       "      <td>1.316829</td>\n",
       "      <td>1.303792</td>\n",
       "      <td>0.061583</td>\n",
       "      <td>3.899898</td>\n",
       "      <td>-1</td>\n",
       "    </tr>\n",
       "    <tr>\n",
       "      <th>1040</th>\n",
       "      <td>1.544257</td>\n",
       "      <td>1.444290</td>\n",
       "      <td>0.245669</td>\n",
       "      <td>3.948992</td>\n",
       "      <td>-1</td>\n",
       "    </tr>\n",
       "    <tr>\n",
       "      <th>1041</th>\n",
       "      <td>1.761250</td>\n",
       "      <td>1.639945</td>\n",
       "      <td>0.303904</td>\n",
       "      <td>3.998167</td>\n",
       "      <td>-1</td>\n",
       "    </tr>\n",
       "    <tr>\n",
       "      <th>1042</th>\n",
       "      <td>1.932464</td>\n",
       "      <td>1.879234</td>\n",
       "      <td>0.388674</td>\n",
       "      <td>4.047605</td>\n",
       "      <td>-1</td>\n",
       "    </tr>\n",
       "  </tbody>\n",
       "</table>\n",
       "<p>92 rows × 5 columns</p>\n",
       "</div>"
      ],
      "text/plain": [
       "      CO2 Emissions  Energy Usage       GDP  Population Total  labeled_db\n",
       "39         1.778417      1.968694  2.321439          1.322182          -1\n",
       "40         1.636285      1.832051  2.160376          1.342355          -1\n",
       "42         1.644616      1.885148  0.736233          1.380327          -1\n",
       "43         2.032436      2.246842  0.956636          1.398761          -1\n",
       "44         2.112919      2.232385  1.295718          1.417232          -1\n",
       "...             ...           ...       ...               ...         ...\n",
       "1038       1.128414      1.159132 -0.032027          3.850428          -1\n",
       "1039       1.316829      1.303792  0.061583          3.899898          -1\n",
       "1040       1.544257      1.444290  0.245669          3.948992          -1\n",
       "1041       1.761250      1.639945  0.303904          3.998167          -1\n",
       "1042       1.932464      1.879234  0.388674          4.047605          -1\n",
       "\n",
       "[92 rows x 5 columns]"
      ]
     },
     "execution_count": 150,
     "metadata": {},
     "output_type": "execute_result"
    }
   ],
   "source": [
    "scaled_data[scaled_data['labeled_db']==-1]"
   ]
  },
  {
   "cell_type": "code",
   "execution_count": 151,
   "metadata": {},
   "outputs": [
    {
     "data": {
      "image/png": "[encoded data removed]",
      "text/plain": [
       "<Figure size 640x480 with 1 Axes>"
      ]
     },
     "metadata": {},
     "output_type": "display_data"
    }
   ],
   "source": [
    "sns.scatterplot(x=scaled_data['CO2 Emissions'],y=scaled_data['Energy Usage'],hue=scaled_data['labeled_db'],palette=['RED','YELLOW','GREEN'])\n",
    "plt.show()"
   ]
  },
  {
   "cell_type": "code",
   "execution_count": 152,
   "metadata": {},
   "outputs": [
    {
     "data": {
      "text/plain": [
       "<Axes: xlabel='CO2 Emissions', ylabel='Energy Usage'>"
      ]
     },
     "execution_count": 152,
     "metadata": {},
     "output_type": "execute_result"
    },
    {
     "data": {
      "image/png": "[encoded data removed]",
      "text/plain": [
       "<Figure size 640x480 with 1 Axes>"
      ]
     },
     "metadata": {},
     "output_type": "display_data"
    }
   ],
   "source": [
    "sns.scatterplot(x=scaled_data['CO2 Emissions'],y=scaled_data['Energy Usage'],hue=scaled_data['labeled_db'])"
   ]
  },
  {
   "cell_type": "code",
   "execution_count": null,
   "metadata": {},
   "outputs": [],
   "source": []
  }
 ],
 "metadata": {
  "kernelspec": {
   "display_name": "Python 3 (ipykernel)",
   "language": "python",
   "name": "python3"
  },
  "language_info": {
   "codemirror_mode": {
    "name": "ipython",
    "version": 3
   },
   "file_extension": ".py",
   "mimetype": "text/x-python",
   "name": "python",
   "nbconvert_exporter": "python",
   "pygments_lexer": "ipython3",
   "version": "3.10.9"
  }
 },
 "nbformat": 4,
 "nbformat_minor": 2
}
