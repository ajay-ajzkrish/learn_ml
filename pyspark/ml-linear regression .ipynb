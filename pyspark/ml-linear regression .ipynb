{
 "cells": [
  {
   "cell_type": "code",
   "execution_count": 1,
   "id": "a03bf410",
   "metadata": {},
   "outputs": [],
   "source": [
    "import pyspark\n",
    "from pyspark.sql import SparkSession\n",
    "import pandas as pd\n"
   ]
  },
  {
   "cell_type": "code",
   "execution_count": 21,
   "id": "831d2d12",
   "metadata": {},
   "outputs": [
    {
     "data": {
      "text/html": [
       "\n",
       "            <div>\n",
       "                <p><b>SparkSession - in-memory</b></p>\n",
       "                \n",
       "        <div>\n",
       "            <p><b>SparkContext</b></p>\n",
       "\n",
       "            <p><a href=\"http://Ajz-PC:4044\">Spark UI</a></p>\n",
       "\n",
       "            <dl>\n",
       "              <dt>Version</dt>\n",
       "                <dd><code>v3.5.0</code></dd>\n",
       "              <dt>Master</dt>\n",
       "                <dd><code>local[*]</code></dd>\n",
       "              <dt>AppName</dt>\n",
       "                <dd><code>Introduction to Spark</code></dd>\n",
       "            </dl>\n",
       "        </div>\n",
       "        \n",
       "            </div>\n",
       "        "
      ],
      "text/plain": [
       "<pyspark.sql.session.SparkSession at 0x20ebcb581f0>"
      ]
     },
     "execution_count": 21,
     "metadata": {},
     "output_type": "execute_result"
    }
   ],
   "source": [
    "spark = SparkSession.builder.appName(\"Introduction to Spark\").getOrCreate()\n",
    "spark"
   ]
  },
  {
   "cell_type": "code",
   "execution_count": 44,
   "id": "5e574232",
   "metadata": {},
   "outputs": [
    {
     "name": "stdout",
     "output_type": "stream",
     "text": [
      "+----------+----+------+------+---+------+----+\n",
      "|total_bill| tip|   sex|smoker|day|  time|size|\n",
      "+----------+----+------+------+---+------+----+\n",
      "|     16.99|1.01|Female|    No|Sun|Dinner|   2|\n",
      "|     10.34|1.66|  Male|    No|Sun|Dinner|   3|\n",
      "|     21.01| 3.5|  Male|    No|Sun|Dinner|   3|\n",
      "|     23.68|3.31|  Male|    No|Sun|Dinner|   2|\n",
      "|     24.59|3.61|Female|    No|Sun|Dinner|   4|\n",
      "+----------+----+------+------+---+------+----+\n",
      "only showing top 5 rows\n",
      "\n"
     ]
    }
   ],
   "source": [
    "df = spark.read.csv(\"tips.csv\", header = True, inferSchema = True)\n",
    "df.show(5)"
   ]
  },
  {
   "cell_type": "code",
   "execution_count": 45,
   "id": "117cad4c",
   "metadata": {},
   "outputs": [
    {
     "name": "stdout",
     "output_type": "stream",
     "text": [
      "+------+-----+\n",
      "|   sex|count|\n",
      "+------+-----+\n",
      "|Female|   87|\n",
      "|  Male|  157|\n",
      "+------+-----+\n",
      "\n",
      "+----+-----+\n",
      "| day|count|\n",
      "+----+-----+\n",
      "|Thur|   62|\n",
      "| Sun|   76|\n",
      "| Sat|   87|\n",
      "| Fri|   19|\n",
      "+----+-----+\n",
      "\n",
      "+------+-----+\n",
      "|  time|count|\n",
      "+------+-----+\n",
      "| Lunch|   68|\n",
      "|Dinner|  176|\n",
      "+------+-----+\n",
      "\n",
      "+----+-----+\n",
      "|size|count|\n",
      "+----+-----+\n",
      "|   1|    4|\n",
      "|   6|    4|\n",
      "|   3|   38|\n",
      "|   5|    5|\n",
      "|   4|   37|\n",
      "|   2|  156|\n",
      "+----+-----+\n",
      "\n"
     ]
    }
   ],
   "source": [
    "for i in ['sex','day','time','size']:\n",
    "    df.groupBy(i).count().show()"
   ]
  },
  {
   "cell_type": "code",
   "execution_count": 46,
   "id": "092cdc3c",
   "metadata": {},
   "outputs": [],
   "source": [
    "from pyspark.ml.feature import StringIndexer"
   ]
  },
  {
   "cell_type": "code",
   "execution_count": 47,
   "id": "bc80d6e1",
   "metadata": {},
   "outputs": [
    {
     "name": "stdout",
     "output_type": "stream",
     "text": [
      "+----------+----+------+------+---+------+----+-----------+--------------+------------+-----------+\n",
      "|total_bill| tip|   sex|smoker|day|  time|size|sex_indexed|smoker_indexed|time_indexed|day_indexed|\n",
      "+----------+----+------+------+---+------+----+-----------+--------------+------------+-----------+\n",
      "|     16.99|1.01|Female|    No|Sun|Dinner|   2|        1.0|           0.0|         0.0|        1.0|\n",
      "|     10.34|1.66|  Male|    No|Sun|Dinner|   3|        0.0|           0.0|         0.0|        1.0|\n",
      "|     21.01| 3.5|  Male|    No|Sun|Dinner|   3|        0.0|           0.0|         0.0|        1.0|\n",
      "|     23.68|3.31|  Male|    No|Sun|Dinner|   2|        0.0|           0.0|         0.0|        1.0|\n",
      "|     24.59|3.61|Female|    No|Sun|Dinner|   4|        1.0|           0.0|         0.0|        1.0|\n",
      "|     25.29|4.71|  Male|    No|Sun|Dinner|   4|        0.0|           0.0|         0.0|        1.0|\n",
      "|      8.77| 2.0|  Male|    No|Sun|Dinner|   2|        0.0|           0.0|         0.0|        1.0|\n",
      "|     26.88|3.12|  Male|    No|Sun|Dinner|   4|        0.0|           0.0|         0.0|        1.0|\n",
      "|     15.04|1.96|  Male|    No|Sun|Dinner|   2|        0.0|           0.0|         0.0|        1.0|\n",
      "|     14.78|3.23|  Male|    No|Sun|Dinner|   2|        0.0|           0.0|         0.0|        1.0|\n",
      "|     10.27|1.71|  Male|    No|Sun|Dinner|   2|        0.0|           0.0|         0.0|        1.0|\n",
      "|     35.26| 5.0|Female|    No|Sun|Dinner|   4|        1.0|           0.0|         0.0|        1.0|\n",
      "|     15.42|1.57|  Male|    No|Sun|Dinner|   2|        0.0|           0.0|         0.0|        1.0|\n",
      "|     18.43| 3.0|  Male|    No|Sun|Dinner|   4|        0.0|           0.0|         0.0|        1.0|\n",
      "|     14.83|3.02|Female|    No|Sun|Dinner|   2|        1.0|           0.0|         0.0|        1.0|\n",
      "|     21.58|3.92|  Male|    No|Sun|Dinner|   2|        0.0|           0.0|         0.0|        1.0|\n",
      "|     10.33|1.67|Female|    No|Sun|Dinner|   3|        1.0|           0.0|         0.0|        1.0|\n",
      "|     16.29|3.71|  Male|    No|Sun|Dinner|   3|        0.0|           0.0|         0.0|        1.0|\n",
      "|     16.97| 3.5|Female|    No|Sun|Dinner|   3|        1.0|           0.0|         0.0|        1.0|\n",
      "|     20.65|3.35|  Male|    No|Sat|Dinner|   3|        0.0|           0.0|         0.0|        0.0|\n",
      "+----------+----+------+------+---+------+----+-----------+--------------+------------+-----------+\n",
      "only showing top 20 rows\n",
      "\n"
     ]
    }
   ],
   "source": [
    "indexer=StringIndexer(inputCols=[\"sex\",\"smoker\",\"time\",\"day\"],outputCols=[\"sex_indexed\",\"smoker_indexed\",\"time_indexed\",\"day_indexed\"])\n",
    "df_r=indexer.fit(df).transform(df)\n",
    "df_r.show()"
   ]
  },
  {
   "cell_type": "code",
   "execution_count": 48,
   "id": "ee0d672c",
   "metadata": {},
   "outputs": [
    {
     "data": {
      "text/plain": [
       "['total_bill',\n",
       " 'tip',\n",
       " 'sex',\n",
       " 'smoker',\n",
       " 'day',\n",
       " 'time',\n",
       " 'size',\n",
       " 'sex_indexed',\n",
       " 'smoker_indexed',\n",
       " 'time_indexed',\n",
       " 'day_indexed']"
      ]
     },
     "execution_count": 48,
     "metadata": {},
     "output_type": "execute_result"
    }
   ],
   "source": [
    "df_r.columns"
   ]
  },
  {
   "cell_type": "code",
   "execution_count": 50,
   "id": "ba0a1c37",
   "metadata": {},
   "outputs": [],
   "source": [
    "from pyspark.ml.feature import VectorAssembler\n",
    "featureassembler=VectorAssembler(inputCols=['tip','size','sex_indexed','smoker_indexed','day_indexed','time_indexed'],outputCol=\"Independent Features\")\n",
    "output=featureassembler.transform(df_r)"
   ]
  },
  {
   "cell_type": "code",
   "execution_count": 52,
   "id": "a5f45422",
   "metadata": {},
   "outputs": [
    {
     "name": "stdout",
     "output_type": "stream",
     "text": [
      "+----------+----+------+------+---+------+----+-----------+--------------+------------+-----------+--------------------+\n",
      "|total_bill| tip|   sex|smoker|day|  time|size|sex_indexed|smoker_indexed|time_indexed|day_indexed|Independent Features|\n",
      "+----------+----+------+------+---+------+----+-----------+--------------+------------+-----------+--------------------+\n",
      "|     16.99|1.01|Female|    No|Sun|Dinner|   2|        1.0|           0.0|         0.0|        1.0|[1.01,2.0,1.0,0.0...|\n",
      "|     10.34|1.66|  Male|    No|Sun|Dinner|   3|        0.0|           0.0|         0.0|        1.0|[1.66,3.0,0.0,0.0...|\n",
      "|     21.01| 3.5|  Male|    No|Sun|Dinner|   3|        0.0|           0.0|         0.0|        1.0|[3.5,3.0,0.0,0.0,...|\n",
      "+----------+----+------+------+---+------+----+-----------+--------------+------------+-----------+--------------------+\n",
      "only showing top 3 rows\n",
      "\n"
     ]
    }
   ],
   "source": [
    "output.show(3)"
   ]
  },
  {
   "cell_type": "code",
   "execution_count": 53,
   "id": "4b2e47f1",
   "metadata": {},
   "outputs": [],
   "source": [
    "finalized_data=output.select(\"Independent Features\",\"total_bill\")"
   ]
  },
  {
   "cell_type": "markdown",
   "id": "acafba68",
   "metadata": {},
   "source": [
    "## LR Model"
   ]
  },
  {
   "cell_type": "code",
   "execution_count": 54,
   "id": "f87d7d5b",
   "metadata": {},
   "outputs": [],
   "source": [
    "from pyspark.ml.regression import LinearRegression\n",
    "##train test split\n",
    "train_data,test_data=finalized_data.randomSplit([0.75,0.25])\n",
    "regressor=LinearRegression(featuresCol='Independent Features', labelCol='total_bill')\n",
    "regressor=regressor.fit(train_data)"
   ]
  },
  {
   "cell_type": "code",
   "execution_count": 55,
   "id": "baba6eec",
   "metadata": {},
   "outputs": [
    {
     "data": {
      "text/plain": [
       "DenseVector([2.7754, 3.5859, -0.667, 2.5551, 0.0796, -1.5355])"
      ]
     },
     "execution_count": 55,
     "metadata": {},
     "output_type": "execute_result"
    }
   ],
   "source": [
    "regressor.coefficients"
   ]
  },
  {
   "cell_type": "code",
   "execution_count": 56,
   "id": "41d5fbf4",
   "metadata": {},
   "outputs": [
    {
     "data": {
      "text/plain": [
       "2.26213245743256"
      ]
     },
     "execution_count": 56,
     "metadata": {},
     "output_type": "execute_result"
    }
   ],
   "source": [
    "regressor.intercept"
   ]
  },
  {
   "cell_type": "code",
   "execution_count": 57,
   "id": "2950e225",
   "metadata": {},
   "outputs": [],
   "source": [
    "### Predictions\n",
    "pred_results=regressor.evaluate(test_data)"
   ]
  },
  {
   "cell_type": "code",
   "execution_count": 58,
   "id": "94a716f4",
   "metadata": {},
   "outputs": [
    {
     "name": "stdout",
     "output_type": "stream",
     "text": [
      "+--------------------+----------+------------------+\n",
      "|Independent Features|total_bill|        prediction|\n",
      "+--------------------+----------+------------------+\n",
      "|(6,[0,1],[1.25,2.0])|     10.07|12.903275642130609|\n",
      "|(6,[0,1],[1.75,2.0])|     17.82|14.290998596021975|\n",
      "|(6,[0,1],[2.24,3.0])|     16.04|19.236884990820332|\n",
      "|(6,[0,1],[2.31,3.0])|     18.69|19.431166204365123|\n",
      "|(6,[0,1],[2.34,4.0])|     17.81|23.100347481583416|\n",
      "|(6,[0,1],[2.64,3.0])|     17.59|20.347063353933425|\n",
      "| (6,[0,1],[3.6,3.0])|     24.06|23.011491425404852|\n",
      "|[1.0,1.0,1.0,1.0,...|      3.07| 10.51154316010556|\n",
      "|[1.0,2.0,1.0,1.0,...|      5.75|14.336399501168057|\n",
      "|[1.1,2.0,1.0,1.0,...|      12.9|14.375005650868648|\n",
      "|[1.32,2.0,0.0,0.0...|      9.68|13.177203002701294|\n",
      "|[1.44,2.0,0.0,0.0...|      7.56|12.054389719644174|\n",
      "|[1.5,2.0,0.0,0.0,...|     12.46|13.836075560153972|\n",
      "|[1.5,2.0,0.0,1.0,...|     11.59|  16.1521898447604|\n",
      "|[1.5,2.0,0.0,1.0,...|     12.03|16.391128285838082|\n",
      "|[1.5,2.0,1.0,0.0,...|      8.35|11.553910643332475|\n",
      "|[1.63,2.0,1.0,0.0...|     11.87|11.914718611344231|\n",
      "|[1.71,2.0,0.0,0.0...|     10.27| 14.25962690673656|\n",
      "|[1.73,2.0,0.0,0.0...|      9.78|12.859269032901167|\n",
      "|[1.96,2.0,0.0,0.0...|     15.04|14.953488383682243|\n",
      "+--------------------+----------+------------------+\n",
      "only showing top 20 rows\n",
      "\n"
     ]
    }
   ],
   "source": [
    "## Final comparison\n",
    "pred_results.predictions.show()"
   ]
  },
  {
   "cell_type": "code",
   "execution_count": 61,
   "id": "ff3c948f",
   "metadata": {},
   "outputs": [
    {
     "name": "stdout",
     "output_type": "stream",
     "text": [
      "r2:  {0.6300619118682482} \n",
      "MEA:  4.0743914104522325 \n",
      "MSE:  30.747883840353932\n"
     ]
    }
   ],
   "source": [
    "### PErformance Metrics\n",
    "print(f\"r2: \",{pred_results.r2},\"\\nMEA: \",pred_results.meanAbsoluteError,\"\\nMSE: \",pred_results.meanSquaredError)"
   ]
  },
  {
   "cell_type": "code",
   "execution_count": null,
   "id": "f62c8175",
   "metadata": {},
   "outputs": [],
   "source": []
  }
 ],
 "metadata": {
  "kernelspec": {
   "display_name": "Python 3 (ipykernel)",
   "language": "python",
   "name": "python3"
  },
  "language_info": {
   "codemirror_mode": {
    "name": "ipython",
    "version": 3
   },
   "file_extension": ".py",
   "mimetype": "text/x-python",
   "name": "python",
   "nbconvert_exporter": "python",
   "pygments_lexer": "ipython3",
   "version": "3.10.9"
  }
 },
 "nbformat": 4,
 "nbformat_minor": 5
}
