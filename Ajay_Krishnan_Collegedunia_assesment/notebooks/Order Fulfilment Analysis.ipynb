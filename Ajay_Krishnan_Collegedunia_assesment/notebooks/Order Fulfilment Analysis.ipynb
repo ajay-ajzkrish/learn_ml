{
 "cells": [
  {
   "cell_type": "code",
   "execution_count": null,
   "id": "361dba70",
   "metadata": {},
   "outputs": [],
   "source": []
  },
  {
   "cell_type": "code",
   "execution_count": null,
   "id": "aaa5426b",
   "metadata": {},
   "outputs": [],
   "source": []
  },
  {
   "cell_type": "markdown",
   "id": "c0d57b8b",
   "metadata": {},
   "source": [
    "# Order Fulfilment Analysis: Analyse order_items.csv and orders.csv to understand order fulfilment timelines and status."
   ]
  },
  {
   "cell_type": "code",
   "execution_count": 295,
   "id": "f6f535b8",
   "metadata": {},
   "outputs": [],
   "source": [
    "order_items = pd.read_csv('./data/order_items.csv')\n",
    "orders = pd.read_csv('./data/orders.csv')\n"
   ]
  },
  {
   "cell_type": "code",
   "execution_count": 243,
   "id": "6b235d63",
   "metadata": {},
   "outputs": [
    {
     "name": "stdout",
     "output_type": "stream",
     "text": [
      "(181759, 11)\n",
      "(125226, 9)\n"
     ]
    }
   ],
   "source": [
    "print(order_items.shape)\n",
    "print(orders.shape)"
   ]
  },
  {
   "cell_type": "code",
   "execution_count": 244,
   "id": "90c43bff",
   "metadata": {},
   "outputs": [
    {
     "data": {
      "text/html": [
       "<div>\n",
       "<style scoped>\n",
       "    .dataframe tbody tr th:only-of-type {\n",
       "        vertical-align: middle;\n",
       "    }\n",
       "\n",
       "    .dataframe tbody tr th {\n",
       "        vertical-align: top;\n",
       "    }\n",
       "\n",
       "    .dataframe thead th {\n",
       "        text-align: right;\n",
       "    }\n",
       "</style>\n",
       "<table border=\"1\" class=\"dataframe\">\n",
       "  <thead>\n",
       "    <tr style=\"text-align: right;\">\n",
       "      <th></th>\n",
       "      <th>order_id</th>\n",
       "      <th>user_id</th>\n",
       "      <th>status</th>\n",
       "      <th>gender</th>\n",
       "      <th>created_at</th>\n",
       "      <th>returned_at</th>\n",
       "      <th>shipped_at</th>\n",
       "      <th>delivered_at</th>\n",
       "      <th>num_of_item</th>\n",
       "    </tr>\n",
       "  </thead>\n",
       "  <tbody>\n",
       "    <tr>\n",
       "      <th>0</th>\n",
       "      <td>8</td>\n",
       "      <td>5</td>\n",
       "      <td>Cancelled</td>\n",
       "      <td>F</td>\n",
       "      <td>2022-10-20 10:03:00+00:00</td>\n",
       "      <td>NaN</td>\n",
       "      <td>NaN</td>\n",
       "      <td>NaN</td>\n",
       "      <td>3</td>\n",
       "    </tr>\n",
       "    <tr>\n",
       "      <th>1</th>\n",
       "      <td>60</td>\n",
       "      <td>44</td>\n",
       "      <td>Cancelled</td>\n",
       "      <td>F</td>\n",
       "      <td>2023-01-20 02:12:00+00:00</td>\n",
       "      <td>NaN</td>\n",
       "      <td>NaN</td>\n",
       "      <td>NaN</td>\n",
       "      <td>1</td>\n",
       "    </tr>\n",
       "    <tr>\n",
       "      <th>2</th>\n",
       "      <td>64</td>\n",
       "      <td>46</td>\n",
       "      <td>Cancelled</td>\n",
       "      <td>F</td>\n",
       "      <td>2021-12-06 09:11:00+00:00</td>\n",
       "      <td>NaN</td>\n",
       "      <td>NaN</td>\n",
       "      <td>NaN</td>\n",
       "      <td>1</td>\n",
       "    </tr>\n",
       "    <tr>\n",
       "      <th>3</th>\n",
       "      <td>89</td>\n",
       "      <td>65</td>\n",
       "      <td>Cancelled</td>\n",
       "      <td>F</td>\n",
       "      <td>2020-08-13 09:58:00+00:00</td>\n",
       "      <td>NaN</td>\n",
       "      <td>NaN</td>\n",
       "      <td>NaN</td>\n",
       "      <td>1</td>\n",
       "    </tr>\n",
       "    <tr>\n",
       "      <th>4</th>\n",
       "      <td>102</td>\n",
       "      <td>76</td>\n",
       "      <td>Cancelled</td>\n",
       "      <td>F</td>\n",
       "      <td>2023-01-17 08:17:00+00:00</td>\n",
       "      <td>NaN</td>\n",
       "      <td>NaN</td>\n",
       "      <td>NaN</td>\n",
       "      <td>2</td>\n",
       "    </tr>\n",
       "  </tbody>\n",
       "</table>\n",
       "</div>"
      ],
      "text/plain": [
       "   order_id  user_id     status gender                 created_at returned_at  \\\n",
       "0         8        5  Cancelled      F  2022-10-20 10:03:00+00:00         NaN   \n",
       "1        60       44  Cancelled      F  2023-01-20 02:12:00+00:00         NaN   \n",
       "2        64       46  Cancelled      F  2021-12-06 09:11:00+00:00         NaN   \n",
       "3        89       65  Cancelled      F  2020-08-13 09:58:00+00:00         NaN   \n",
       "4       102       76  Cancelled      F  2023-01-17 08:17:00+00:00         NaN   \n",
       "\n",
       "  shipped_at delivered_at  num_of_item  \n",
       "0        NaN          NaN            3  \n",
       "1        NaN          NaN            1  \n",
       "2        NaN          NaN            1  \n",
       "3        NaN          NaN            1  \n",
       "4        NaN          NaN            2  "
      ]
     },
     "execution_count": 244,
     "metadata": {},
     "output_type": "execute_result"
    }
   ],
   "source": [
    "orders.head()"
   ]
  },
  {
   "cell_type": "code",
   "execution_count": 245,
   "id": "c0733ad8",
   "metadata": {},
   "outputs": [
    {
     "name": "stdout",
     "output_type": "stream",
     "text": [
      "<class 'pandas.core.frame.DataFrame'>\n",
      "RangeIndex: 125226 entries, 0 to 125225\n",
      "Data columns (total 9 columns):\n",
      " #   Column        Non-Null Count   Dtype \n",
      "---  ------        --------------   ----- \n",
      " 0   order_id      125226 non-null  int64 \n",
      " 1   user_id       125226 non-null  int64 \n",
      " 2   status        125226 non-null  object\n",
      " 3   gender        125226 non-null  object\n",
      " 4   created_at    125226 non-null  object\n",
      " 5   returned_at   12530 non-null   object\n",
      " 6   shipped_at    81461 non-null   object\n",
      " 7   delivered_at  43884 non-null   object\n",
      " 8   num_of_item   125226 non-null  int64 \n",
      "dtypes: int64(3), object(6)\n",
      "memory usage: 8.6+ MB\n"
     ]
    }
   ],
   "source": [
    "orders.info()"
   ]
  },
  {
   "cell_type": "code",
   "execution_count": 246,
   "id": "c93842b7",
   "metadata": {},
   "outputs": [
    {
     "data": {
      "text/plain": [
       "order_id         0.000000\n",
       "user_id          0.000000\n",
       "status           0.000000\n",
       "gender           0.000000\n",
       "created_at       0.000000\n",
       "returned_at     89.994091\n",
       "shipped_at      34.948813\n",
       "delivered_at    64.956159\n",
       "num_of_item      0.000000\n",
       "dtype: float64"
      ]
     },
     "execution_count": 246,
     "metadata": {},
     "output_type": "execute_result"
    }
   ],
   "source": [
    "orders.isnull().sum() * 100 / len(orders)"
   ]
  },
  {
   "cell_type": "code",
   "execution_count": 247,
   "id": "af4c1c15",
   "metadata": {},
   "outputs": [],
   "source": [
    "orders.drop(['returned_at','shipped_at','delivered_at'],axis = 1,inplace = True)"
   ]
  },
  {
   "cell_type": "markdown",
   "id": "d8a6e335",
   "metadata": {},
   "source": [
    "## Analysing the order_items data - already done in the first part"
   ]
  },
  {
   "cell_type": "markdown",
   "id": "c29c1123",
   "metadata": {},
   "source": [
    "## Analysing orders data"
   ]
  },
  {
   "cell_type": "code",
   "execution_count": 248,
   "id": "4482b4b3",
   "metadata": {},
   "outputs": [
    {
     "data": {
      "text/plain": [
       "Shipped       0.300073\n",
       "Complete      0.250379\n",
       "Processing    0.200885\n",
       "Cancelled     0.148603\n",
       "Returned      0.100059\n",
       "Name: status, dtype: float64"
      ]
     },
     "execution_count": 248,
     "metadata": {},
     "output_type": "execute_result"
    }
   ],
   "source": [
    "orders['status'].value_counts(normalize = True)"
   ]
  },
  {
   "cell_type": "code",
   "execution_count": 256,
   "id": "99d47eaf",
   "metadata": {},
   "outputs": [
    {
     "data": {
      "image/png": "[encoded data removed]",
      "text/plain": [
       "<Figure size 640x480 with 1 Axes>"
      ]
     },
     "metadata": {},
     "output_type": "display_data"
    }
   ],
   "source": [
    "orders['num_of_item'].value_counts(normalize = True).plot(kind = 'bar')\n",
    "plt.show()"
   ]
  },
  {
   "cell_type": "markdown",
   "id": "1fe0357a",
   "metadata": {},
   "source": [
    "### Most of the order has only 1 item (70%)"
   ]
  },
  {
   "cell_type": "code",
   "execution_count": 258,
   "id": "cab227d5",
   "metadata": {},
   "outputs": [],
   "source": [
    "orders_merged_df = pd.merge(order_items, orders, on=['order_id', 'user_id'], how='inner')"
   ]
  },
  {
   "cell_type": "code",
   "execution_count": 260,
   "id": "4d835a38",
   "metadata": {},
   "outputs": [
    {
     "data": {
      "text/html": [
       "<div>\n",
       "<style scoped>\n",
       "    .dataframe tbody tr th:only-of-type {\n",
       "        vertical-align: middle;\n",
       "    }\n",
       "\n",
       "    .dataframe tbody tr th {\n",
       "        vertical-align: top;\n",
       "    }\n",
       "\n",
       "    .dataframe thead th {\n",
       "        text-align: right;\n",
       "    }\n",
       "</style>\n",
       "<table border=\"1\" class=\"dataframe\">\n",
       "  <thead>\n",
       "    <tr style=\"text-align: right;\">\n",
       "      <th></th>\n",
       "      <th>id</th>\n",
       "      <th>order_id</th>\n",
       "      <th>user_id</th>\n",
       "      <th>product_id</th>\n",
       "      <th>inventory_item_id</th>\n",
       "      <th>status_x</th>\n",
       "      <th>created_at_x</th>\n",
       "      <th>shipped_at</th>\n",
       "      <th>delivered_at</th>\n",
       "      <th>returned_at</th>\n",
       "      <th>sale_price</th>\n",
       "      <th>status_y</th>\n",
       "      <th>gender</th>\n",
       "      <th>created_at_y</th>\n",
       "      <th>num_of_item</th>\n",
       "    </tr>\n",
       "  </thead>\n",
       "  <tbody>\n",
       "    <tr>\n",
       "      <th>0</th>\n",
       "      <td>152013</td>\n",
       "      <td>104663</td>\n",
       "      <td>83582</td>\n",
       "      <td>14235</td>\n",
       "      <td>410368</td>\n",
       "      <td>Cancelled</td>\n",
       "      <td>2023-05-07 06:08:40+00:00</td>\n",
       "      <td>NaN</td>\n",
       "      <td>NaN</td>\n",
       "      <td>NaN</td>\n",
       "      <td>0.02</td>\n",
       "      <td>Cancelled</td>\n",
       "      <td>F</td>\n",
       "      <td>2023-05-07 07:33:00+00:00</td>\n",
       "      <td>1</td>\n",
       "    </tr>\n",
       "    <tr>\n",
       "      <th>1</th>\n",
       "      <td>40993</td>\n",
       "      <td>28204</td>\n",
       "      <td>22551</td>\n",
       "      <td>14235</td>\n",
       "      <td>110590</td>\n",
       "      <td>Complete</td>\n",
       "      <td>2023-03-14 03:47:21+00:00</td>\n",
       "      <td>2023-03-15 22:57:00+00:00</td>\n",
       "      <td>2023-03-18 01:08:00+00:00</td>\n",
       "      <td>NaN</td>\n",
       "      <td>0.02</td>\n",
       "      <td>Complete</td>\n",
       "      <td>F</td>\n",
       "      <td>2023-03-14 03:59:00+00:00</td>\n",
       "      <td>1</td>\n",
       "    </tr>\n",
       "    <tr>\n",
       "      <th>2</th>\n",
       "      <td>51224</td>\n",
       "      <td>35223</td>\n",
       "      <td>28215</td>\n",
       "      <td>14235</td>\n",
       "      <td>138236</td>\n",
       "      <td>Complete</td>\n",
       "      <td>2023-12-05 13:25:30+00:00</td>\n",
       "      <td>2023-12-06 01:20:00+00:00</td>\n",
       "      <td>2023-12-10 10:04:00+00:00</td>\n",
       "      <td>NaN</td>\n",
       "      <td>0.02</td>\n",
       "      <td>Complete</td>\n",
       "      <td>F</td>\n",
       "      <td>2023-12-03 13:23:00+00:00</td>\n",
       "      <td>4</td>\n",
       "    </tr>\n",
       "  </tbody>\n",
       "</table>\n",
       "</div>"
      ],
      "text/plain": [
       "       id  order_id  user_id  product_id  inventory_item_id   status_x  \\\n",
       "0  152013    104663    83582       14235             410368  Cancelled   \n",
       "1   40993     28204    22551       14235             110590   Complete   \n",
       "2   51224     35223    28215       14235             138236   Complete   \n",
       "\n",
       "                created_at_x                 shipped_at  \\\n",
       "0  2023-05-07 06:08:40+00:00                        NaN   \n",
       "1  2023-03-14 03:47:21+00:00  2023-03-15 22:57:00+00:00   \n",
       "2  2023-12-05 13:25:30+00:00  2023-12-06 01:20:00+00:00   \n",
       "\n",
       "                delivered_at returned_at  sale_price   status_y gender  \\\n",
       "0                        NaN         NaN        0.02  Cancelled      F   \n",
       "1  2023-03-18 01:08:00+00:00         NaN        0.02   Complete      F   \n",
       "2  2023-12-10 10:04:00+00:00         NaN        0.02   Complete      F   \n",
       "\n",
       "                created_at_y  num_of_item  \n",
       "0  2023-05-07 07:33:00+00:00            1  \n",
       "1  2023-03-14 03:59:00+00:00            1  \n",
       "2  2023-12-03 13:23:00+00:00            4  "
      ]
     },
     "execution_count": 260,
     "metadata": {},
     "output_type": "execute_result"
    }
   ],
   "source": [
    "orders_merged_df.head(3)"
   ]
  },
  {
   "cell_type": "code",
   "execution_count": 265,
   "id": "321bc8f1",
   "metadata": {},
   "outputs": [
    {
     "data": {
      "image/png": "[encoded data removed]",
      "text/plain": [
       "<Figure size 640x480 with 1 Axes>"
      ]
     },
     "metadata": {},
     "output_type": "display_data"
    }
   ],
   "source": [
    "orders_merged_df['status_x'].value_counts().plot(kind = 'bar')\n",
    "plt.show()"
   ]
  },
  {
   "cell_type": "code",
   "execution_count": 269,
   "id": "043ffe82",
   "metadata": {},
   "outputs": [
    {
     "data": {
      "text/plain": [
       "count    181759.000000\n",
       "mean         59.568544\n",
       "std          66.657262\n",
       "min           0.020000\n",
       "25%          24.500000\n",
       "50%          39.990002\n",
       "75%          69.949997\n",
       "max         999.000000\n",
       "Name: sale_price, dtype: float64"
      ]
     },
     "execution_count": 269,
     "metadata": {},
     "output_type": "execute_result"
    }
   ],
   "source": [
    "orders_merged_df['sale_price'].describe()"
   ]
  },
  {
   "cell_type": "code",
   "execution_count": 274,
   "id": "4375e738",
   "metadata": {},
   "outputs": [
    {
     "data": {
      "text/plain": [
       "F    91009\n",
       "M    90750\n",
       "Name: gender, dtype: int64"
      ]
     },
     "execution_count": 274,
     "metadata": {},
     "output_type": "execute_result"
    }
   ],
   "source": [
    "orders_merged_df['gender'].value_counts()"
   ]
  },
  {
   "cell_type": "code",
   "execution_count": 275,
   "id": "d8d6a7d2",
   "metadata": {},
   "outputs": [
    {
     "data": {
      "image/png": "[encoded data removed]",
      "text/plain": [
       "<Figure size 640x480 with 2 Axes>"
      ]
     },
     "metadata": {},
     "output_type": "display_data"
    }
   ],
   "source": [
    "sns.heatmap(orders_merged_df.corr(),annot = True)\n",
    "plt.show()"
   ]
  },
  {
   "cell_type": "code",
   "execution_count": null,
   "id": "34ca435a",
   "metadata": {},
   "outputs": [],
   "source": []
  },
  {
   "cell_type": "code",
   "execution_count": 280,
   "id": "75629f9a",
   "metadata": {},
   "outputs": [
    {
     "name": "stdout",
     "output_type": "stream",
     "text": [
      "Mean Shipping Duration: 0 days 12:56:24.119207649\n",
      "Mean Delivery Duration: 2 days 12:17:41.406306292\n",
      "Mean Return Duration: 1 days 12:01:12.327775340\n"
     ]
    }
   ],
   "source": [
    "timestamp_columns = ['created_at_x', 'shipped_at', 'delivered_at', 'returned_at', 'created_at_y']\n",
    "orders_merged_df[timestamp_columns] = orders_merged_df[timestamp_columns].apply(pd.to_datetime)\n",
    "\n",
    "orders_merged_df['shipping_duration'] = orders_merged_df['shipped_at'] - orders_merged_df['created_at_x']\n",
    "orders_merged_df['delivery_duration'] = orders_merged_df['delivered_at'] - orders_merged_df['shipped_at']\n",
    "\n",
    "# Calculate return duration if needed\n",
    "orders_merged_df['return_duration'] = orders_merged_df['returned_at'] - orders_merged_df['delivered_at']\n",
    "\n",
    "# Print mean shipping, delivery, and return durations\n",
    "print(\"Mean Shipping Duration:\", orders_merged_df['shipping_duration'].mean())\n",
    "print(\"Mean Delivery Duration:\", orders_merged_df['delivery_duration'].mean())\n",
    "print(\"Mean Return Duration:\", orders_merged_df['return_duration'].mean())\n"
   ]
  },
  {
   "cell_type": "markdown",
   "id": "cfbbf553",
   "metadata": {},
   "source": [
    "#### Mean Shipping Duration: 0 days 12:56:24.119207649\n",
    "#### Mean Delivery Duration: 2 days 12:17:41.406306292\n",
    "#### Mean Return Duration: 1 days 12:01:12.327775340"
   ]
  },
  {
   "cell_type": "code",
   "execution_count": 344,
   "id": "6970b4d7",
   "metadata": {},
   "outputs": [],
   "source": [
    "orders_merged_df_product = pd.merge(orders_merged_df, product, left_on=['product_id'],right_on=['id'], how='inner')\n",
    "\n",
    "frequent_products = orders_merged_df_product['product_id'].value_counts().tolist()\n",
    "\n",
    "freq = []\n",
    "n = 10\n",
    "i = 0\n",
    "while (n>0):\n",
    "    if frequent_products[i] not in freq:\n",
    "        freq.append(frequent_products[i])\n",
    "        n -= 1\n",
    "    i += 1"
   ]
  },
  {
   "cell_type": "code",
   "execution_count": 347,
   "id": "313b2499",
   "metadata": {
    "scrolled": false
   },
   "outputs": [
    {
     "data": {
      "text/html": [
       "<div>\n",
       "<style scoped>\n",
       "    .dataframe tbody tr th:only-of-type {\n",
       "        vertical-align: middle;\n",
       "    }\n",
       "\n",
       "    .dataframe tbody tr th {\n",
       "        vertical-align: top;\n",
       "    }\n",
       "\n",
       "    .dataframe thead th {\n",
       "        text-align: right;\n",
       "    }\n",
       "</style>\n",
       "<table border=\"1\" class=\"dataframe\">\n",
       "  <thead>\n",
       "    <tr style=\"text-align: right;\">\n",
       "      <th></th>\n",
       "      <th>name</th>\n",
       "      <th>category</th>\n",
       "    </tr>\n",
       "  </thead>\n",
       "  <tbody>\n",
       "    <tr>\n",
       "      <th>645</th>\n",
       "      <td>Hurley Sun Also Sets T-Shirt - Short-Sleeve - ...</td>\n",
       "      <td>Tops &amp; Tees</td>\n",
       "    </tr>\n",
       "    <tr>\n",
       "      <th>6516</th>\n",
       "      <td>Alternative Women's Florence Wrap</td>\n",
       "      <td>Tops &amp; Tees</td>\n",
       "    </tr>\n",
       "    <tr>\n",
       "      <th>10720</th>\n",
       "      <td>Jones New York Women's Pleated Round Neck Blouse</td>\n",
       "      <td>Tops &amp; Tees</td>\n",
       "    </tr>\n",
       "    <tr>\n",
       "      <th>10721</th>\n",
       "      <td>Jones New York Women's Petite 3/4 Sleeve Blouse</td>\n",
       "      <td>Tops &amp; Tees</td>\n",
       "    </tr>\n",
       "    <tr>\n",
       "      <th>12508</th>\n",
       "      <td>Volcom Juniors Pocket Blocket Long Sleeve Tee</td>\n",
       "      <td>Tops &amp; Tees</td>\n",
       "    </tr>\n",
       "    <tr>\n",
       "      <th>15115</th>\n",
       "      <td>2B Paradise Breeze Button Down Tank</td>\n",
       "      <td>Tops &amp; Tees</td>\n",
       "    </tr>\n",
       "    <tr>\n",
       "      <th>15350</th>\n",
       "      <td>Lucky Brand Women's Plus-Size Jane Scarf Blouse</td>\n",
       "      <td>Tops &amp; Tees</td>\n",
       "    </tr>\n",
       "    <tr>\n",
       "      <th>15351</th>\n",
       "      <td>Lucky Brand Women's Plus-Size Moroccan Medalli...</td>\n",
       "      <td>Tops &amp; Tees</td>\n",
       "    </tr>\n",
       "    <tr>\n",
       "      <th>24043</th>\n",
       "      <td>Calvin Klein Jeans Women's Embellished Stripe ...</td>\n",
       "      <td>Tops &amp; Tees</td>\n",
       "    </tr>\n",
       "    <tr>\n",
       "      <th>26079</th>\n",
       "      <td>Billabong Aussies T-Shirt - Short-Sleeve - Wom...</td>\n",
       "      <td>Tops &amp; Tees</td>\n",
       "    </tr>\n",
       "  </tbody>\n",
       "</table>\n",
       "</div>"
      ],
      "text/plain": [
       "                                                    name     category\n",
       "645    Hurley Sun Also Sets T-Shirt - Short-Sleeve - ...  Tops & Tees\n",
       "6516                   Alternative Women's Florence Wrap  Tops & Tees\n",
       "10720   Jones New York Women's Pleated Round Neck Blouse  Tops & Tees\n",
       "10721    Jones New York Women's Petite 3/4 Sleeve Blouse  Tops & Tees\n",
       "12508      Volcom Juniors Pocket Blocket Long Sleeve Tee  Tops & Tees\n",
       "15115                2B Paradise Breeze Button Down Tank  Tops & Tees\n",
       "15350    Lucky Brand Women's Plus-Size Jane Scarf Blouse  Tops & Tees\n",
       "15351  Lucky Brand Women's Plus-Size Moroccan Medalli...  Tops & Tees\n",
       "24043  Calvin Klein Jeans Women's Embellished Stripe ...  Tops & Tees\n",
       "26079  Billabong Aussies T-Shirt - Short-Sleeve - Wom...  Tops & Tees"
      ]
     },
     "execution_count": 347,
     "metadata": {},
     "output_type": "execute_result"
    }
   ],
   "source": [
    "product[product['id'].isin(freq)][['name','category']]"
   ]
  },
  {
   "cell_type": "markdown",
   "id": "87263a1c",
   "metadata": {},
   "source": [
    "## These are top products"
   ]
  },
  {
   "cell_type": "code",
   "execution_count": null,
   "id": "8a78190d",
   "metadata": {},
   "outputs": [],
   "source": []
  },
  {
   "cell_type": "code",
   "execution_count": null,
   "id": "87ab6ee2",
   "metadata": {},
   "outputs": [],
   "source": []
  }
 ],
 "metadata": {
  "kernelspec": {
   "display_name": "Python 3 (ipykernel)",
   "language": "python",
   "name": "python3"
  },
  "language_info": {
   "codemirror_mode": {
    "name": "ipython",
    "version": 3
   },
   "file_extension": ".py",
   "mimetype": "text/x-python",
   "name": "python",
   "nbconvert_exporter": "python",
   "pygments_lexer": "ipython3",
   "version": "3.10.9"
  }
 },
 "nbformat": 4,
 "nbformat_minor": 5
}
