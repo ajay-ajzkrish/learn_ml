{
 "cells": [
  {
   "cell_type": "markdown",
   "id": "fec505c2",
   "metadata": {},
   "source": [
    "# Collegedunia -  Data Analysis Assesment"
   ]
  },
  {
   "cell_type": "code",
   "execution_count": 1,
   "id": "3fa6ca4c",
   "metadata": {},
   "outputs": [],
   "source": [
    "import pandas as pd\n",
    "import numpy as np\n",
    "import seaborn as sns\n",
    "import matplotlib.pyplot as plt\n",
    "import warnings\n",
    "warnings.filterwarnings('ignore')\n",
    "import geopandas as gpd\n",
    "from mpl_toolkits.basemap import Basemap\n",
    "from shapely.geometry import Point\n",
    "from sklearn.impute import KNNImputer\n",
    "from geopy.distance import geodesic\n"
   ]
  },
  {
   "cell_type": "code",
   "execution_count": null,
   "id": "e98221ee",
   "metadata": {},
   "outputs": [],
   "source": []
  },
  {
   "cell_type": "code",
   "execution_count": null,
   "id": "2aaeecf5",
   "metadata": {},
   "outputs": [],
   "source": []
  },
  {
   "cell_type": "markdown",
   "id": "8fc79a7c",
   "metadata": {},
   "source": [
    "# User Behaviour Analysis:\n",
    "# Use events.csv to analyse user behaviour, including session patterns, traffic sources, and event types."
   ]
  },
  {
   "cell_type": "code",
   "execution_count": 2,
   "id": "c1c27ba7",
   "metadata": {},
   "outputs": [],
   "source": [
    "events = pd.read_csv('./data/events.csv')"
   ]
  },
  {
   "cell_type": "code",
   "execution_count": 3,
   "id": "d006de3d",
   "metadata": {},
   "outputs": [
    {
     "data": {
      "text/plain": [
       "(2431963, 13)"
      ]
     },
     "execution_count": 3,
     "metadata": {},
     "output_type": "execute_result"
    }
   ],
   "source": [
    "events.shape"
   ]
  },
  {
   "cell_type": "code",
   "execution_count": 4,
   "id": "5f619f30",
   "metadata": {},
   "outputs": [
    {
     "data": {
      "text/html": [
       "<div>\n",
       "<style scoped>\n",
       "    .dataframe tbody tr th:only-of-type {\n",
       "        vertical-align: middle;\n",
       "    }\n",
       "\n",
       "    .dataframe tbody tr th {\n",
       "        vertical-align: top;\n",
       "    }\n",
       "\n",
       "    .dataframe thead th {\n",
       "        text-align: right;\n",
       "    }\n",
       "</style>\n",
       "<table border=\"1\" class=\"dataframe\">\n",
       "  <thead>\n",
       "    <tr style=\"text-align: right;\">\n",
       "      <th></th>\n",
       "      <th>id</th>\n",
       "      <th>user_id</th>\n",
       "      <th>sequence_number</th>\n",
       "      <th>session_id</th>\n",
       "      <th>created_at</th>\n",
       "      <th>ip_address</th>\n",
       "      <th>city</th>\n",
       "      <th>state</th>\n",
       "      <th>postal_code</th>\n",
       "      <th>browser</th>\n",
       "      <th>traffic_source</th>\n",
       "      <th>uri</th>\n",
       "      <th>event_type</th>\n",
       "    </tr>\n",
       "  </thead>\n",
       "  <tbody>\n",
       "    <tr>\n",
       "      <th>0</th>\n",
       "      <td>2198523</td>\n",
       "      <td>NaN</td>\n",
       "      <td>3</td>\n",
       "      <td>83889ed2-2adc-4b9a-af5d-154f6998e778</td>\n",
       "      <td>2021-06-17 17:30:00+00:00</td>\n",
       "      <td>138.143.9.202</td>\n",
       "      <td>São Paulo</td>\n",
       "      <td>São Paulo</td>\n",
       "      <td>02675-031</td>\n",
       "      <td>Chrome</td>\n",
       "      <td>Adwords</td>\n",
       "      <td>/cancel</td>\n",
       "      <td>cancel</td>\n",
       "    </tr>\n",
       "    <tr>\n",
       "      <th>1</th>\n",
       "      <td>1773216</td>\n",
       "      <td>NaN</td>\n",
       "      <td>3</td>\n",
       "      <td>7a3fc3f2-e84f-44fe-8876-eff76741f7a3</td>\n",
       "      <td>2020-08-07 08:41:00+00:00</td>\n",
       "      <td>85.114.141.79</td>\n",
       "      <td>Santa Isabel</td>\n",
       "      <td>São Paulo</td>\n",
       "      <td>07500-000</td>\n",
       "      <td>Safari</td>\n",
       "      <td>Adwords</td>\n",
       "      <td>/cancel</td>\n",
       "      <td>cancel</td>\n",
       "    </tr>\n",
       "    <tr>\n",
       "      <th>2</th>\n",
       "      <td>2380515</td>\n",
       "      <td>NaN</td>\n",
       "      <td>3</td>\n",
       "      <td>13d9b2fb-eee1-43fd-965c-267b38dd7125</td>\n",
       "      <td>2021-02-15 18:48:00+00:00</td>\n",
       "      <td>169.250.255.132</td>\n",
       "      <td>Mairiporã</td>\n",
       "      <td>São Paulo</td>\n",
       "      <td>07600-000</td>\n",
       "      <td>IE</td>\n",
       "      <td>Adwords</td>\n",
       "      <td>/cancel</td>\n",
       "      <td>cancel</td>\n",
       "    </tr>\n",
       "    <tr>\n",
       "      <th>3</th>\n",
       "      <td>2250597</td>\n",
       "      <td>NaN</td>\n",
       "      <td>3</td>\n",
       "      <td>96f1d44e-9621-463c-954c-d8deb7fffe7f</td>\n",
       "      <td>2022-03-30 10:56:00+00:00</td>\n",
       "      <td>137.25.222.160</td>\n",
       "      <td>Cajamar</td>\n",
       "      <td>São Paulo</td>\n",
       "      <td>07750-000</td>\n",
       "      <td>Chrome</td>\n",
       "      <td>Adwords</td>\n",
       "      <td>/cancel</td>\n",
       "      <td>cancel</td>\n",
       "    </tr>\n",
       "    <tr>\n",
       "      <th>4</th>\n",
       "      <td>1834446</td>\n",
       "      <td>NaN</td>\n",
       "      <td>3</td>\n",
       "      <td>d09dce10-a7cb-47d3-a9af-44975566fa03</td>\n",
       "      <td>2019-09-05 01:18:00+00:00</td>\n",
       "      <td>161.114.4.174</td>\n",
       "      <td>São Paulo</td>\n",
       "      <td>São Paulo</td>\n",
       "      <td>09581-680</td>\n",
       "      <td>Chrome</td>\n",
       "      <td>Email</td>\n",
       "      <td>/cancel</td>\n",
       "      <td>cancel</td>\n",
       "    </tr>\n",
       "  </tbody>\n",
       "</table>\n",
       "</div>"
      ],
      "text/plain": [
       "        id  user_id  sequence_number                            session_id  \\\n",
       "0  2198523      NaN                3  83889ed2-2adc-4b9a-af5d-154f6998e778   \n",
       "1  1773216      NaN                3  7a3fc3f2-e84f-44fe-8876-eff76741f7a3   \n",
       "2  2380515      NaN                3  13d9b2fb-eee1-43fd-965c-267b38dd7125   \n",
       "3  2250597      NaN                3  96f1d44e-9621-463c-954c-d8deb7fffe7f   \n",
       "4  1834446      NaN                3  d09dce10-a7cb-47d3-a9af-44975566fa03   \n",
       "\n",
       "                  created_at       ip_address          city      state  \\\n",
       "0  2021-06-17 17:30:00+00:00    138.143.9.202     São Paulo  São Paulo   \n",
       "1  2020-08-07 08:41:00+00:00    85.114.141.79  Santa Isabel  São Paulo   \n",
       "2  2021-02-15 18:48:00+00:00  169.250.255.132     Mairiporã  São Paulo   \n",
       "3  2022-03-30 10:56:00+00:00   137.25.222.160       Cajamar  São Paulo   \n",
       "4  2019-09-05 01:18:00+00:00    161.114.4.174     São Paulo  São Paulo   \n",
       "\n",
       "  postal_code browser traffic_source      uri event_type  \n",
       "0   02675-031  Chrome        Adwords  /cancel     cancel  \n",
       "1   07500-000  Safari        Adwords  /cancel     cancel  \n",
       "2   07600-000      IE        Adwords  /cancel     cancel  \n",
       "3   07750-000  Chrome        Adwords  /cancel     cancel  \n",
       "4   09581-680  Chrome          Email  /cancel     cancel  "
      ]
     },
     "execution_count": 4,
     "metadata": {},
     "output_type": "execute_result"
    }
   ],
   "source": [
    "events.head()"
   ]
  },
  {
   "cell_type": "code",
   "execution_count": 5,
   "id": "2e079f68",
   "metadata": {},
   "outputs": [
    {
     "name": "stdout",
     "output_type": "stream",
     "text": [
      "<class 'pandas.core.frame.DataFrame'>\n",
      "RangeIndex: 2431963 entries, 0 to 2431962\n",
      "Data columns (total 13 columns):\n",
      " #   Column           Dtype  \n",
      "---  ------           -----  \n",
      " 0   id               int64  \n",
      " 1   user_id          float64\n",
      " 2   sequence_number  int64  \n",
      " 3   session_id       object \n",
      " 4   created_at       object \n",
      " 5   ip_address       object \n",
      " 6   city             object \n",
      " 7   state            object \n",
      " 8   postal_code      object \n",
      " 9   browser          object \n",
      " 10  traffic_source   object \n",
      " 11  uri              object \n",
      " 12  event_type       object \n",
      "dtypes: float64(1), int64(2), object(10)\n",
      "memory usage: 241.2+ MB\n"
     ]
    }
   ],
   "source": [
    "events.info()"
   ]
  },
  {
   "cell_type": "markdown",
   "id": "1393c57a",
   "metadata": {},
   "source": [
    "## We have to convert created at column to datetime"
   ]
  },
  {
   "cell_type": "code",
   "execution_count": 6,
   "id": "d54e8d53",
   "metadata": {},
   "outputs": [
    {
     "data": {
      "text/plain": [
       "id                  0.000000\n",
       "user_id            46.286518\n",
       "sequence_number     0.000000\n",
       "session_id          0.000000\n",
       "created_at          0.000000\n",
       "ip_address          0.000000\n",
       "city                0.949028\n",
       "state               0.000000\n",
       "postal_code         0.000000\n",
       "browser             0.000000\n",
       "traffic_source      0.000000\n",
       "uri                 0.000000\n",
       "event_type          0.000000\n",
       "dtype: float64"
      ]
     },
     "execution_count": 6,
     "metadata": {},
     "output_type": "execute_result"
    }
   ],
   "source": [
    "events.isnull().sum() * 100/len(events)"
   ]
  },
  {
   "cell_type": "markdown",
   "id": "6b224dd8",
   "metadata": {},
   "source": [
    "## Since 46% of the `user_id` values are null, attempting to impute them would be futile; thus, it's more reasonable to drop these null values instead."
   ]
  },
  {
   "cell_type": "code",
   "execution_count": 7,
   "id": "b202b1b5",
   "metadata": {},
   "outputs": [],
   "source": [
    "events.dropna(subset=['user_id'], inplace=True)"
   ]
  },
  {
   "cell_type": "markdown",
   "id": "6c033a24",
   "metadata": {},
   "source": [
    "## Imputing the 'city' column with the mode is a simpler approach, considering the limitations posed by the large dataset and PC resources. While using a predictive model  or KNN imputer would be ideal, the computational demands make it impractical in this scenario. Therefore, opting for the mode for imputation provides a practical solution."
   ]
  },
  {
   "cell_type": "code",
   "execution_count": 8,
   "id": "0e0b249d",
   "metadata": {},
   "outputs": [],
   "source": [
    "city_mode = events['city'].mode()[0]\n",
    "events['city'].fillna(city_mode,inplace = True)"
   ]
  },
  {
   "cell_type": "code",
   "execution_count": 9,
   "id": "8d78fc23",
   "metadata": {},
   "outputs": [
    {
     "data": {
      "text/plain": [
       "80044"
      ]
     },
     "execution_count": 9,
     "metadata": {},
     "output_type": "execute_result"
    }
   ],
   "source": [
    "events['user_id'].nunique()"
   ]
  },
  {
   "cell_type": "code",
   "execution_count": 10,
   "id": "b5611a91",
   "metadata": {},
   "outputs": [
    {
     "data": {
      "text/plain": [
       "7586"
      ]
     },
     "execution_count": 10,
     "metadata": {},
     "output_type": "execute_result"
    }
   ],
   "source": [
    "events['city'].nunique()"
   ]
  },
  {
   "cell_type": "code",
   "execution_count": 11,
   "id": "423ef59c",
   "metadata": {},
   "outputs": [
    {
     "data": {
      "text/plain": [
       "228"
      ]
     },
     "execution_count": 11,
     "metadata": {},
     "output_type": "execute_result"
    }
   ],
   "source": [
    "events['state'].nunique()"
   ]
  },
  {
   "cell_type": "code",
   "execution_count": 12,
   "id": "d37727d0",
   "metadata": {},
   "outputs": [
    {
     "data": {
      "image/png": "[encoded data removed]",
      "text/plain": [
       "<Figure size 640x480 with 1 Axes>"
      ]
     },
     "metadata": {},
     "output_type": "display_data"
    }
   ],
   "source": [
    "events['browser'].value_counts(normalize = True).plot(kind = 'bar')\n",
    "plt.show()"
   ]
  },
  {
   "cell_type": "code",
   "execution_count": 13,
   "id": "03e87f71",
   "metadata": {},
   "outputs": [
    {
     "data": {
      "image/png": "[encoded data removed]",
      "text/plain": [
       "<Figure size 640x480 with 1 Axes>"
      ]
     },
     "metadata": {},
     "output_type": "display_data"
    }
   ],
   "source": [
    "events['event_type'].value_counts(normalize = True).plot(kind = 'bar')\n",
    "plt.show()"
   ]
  },
  {
   "cell_type": "markdown",
   "id": "c328ba33",
   "metadata": {},
   "source": [
    "### Inference: The purchase percentage is relatively low, suggesting that many individuals are browsing products, adding them to their carts, but not completing the purchase."
   ]
  },
  {
   "cell_type": "code",
   "execution_count": 14,
   "id": "8af3496d",
   "metadata": {},
   "outputs": [
    {
     "data": {
      "image/png": "[encoded data removed]",
      "text/plain": [
       "<Figure size 640x480 with 1 Axes>"
      ]
     },
     "metadata": {},
     "output_type": "display_data"
    }
   ],
   "source": [
    "events['traffic_source'].value_counts(normalize = True).plot(kind = 'bar')\n",
    "plt.show()"
   ]
  },
  {
   "cell_type": "markdown",
   "id": "6cc8efa3",
   "metadata": {},
   "source": [
    "### High number of traffic is from emails and adwords"
   ]
  },
  {
   "cell_type": "code",
   "execution_count": 15,
   "id": "e37be10f",
   "metadata": {},
   "outputs": [],
   "source": [
    "events['created_at'] = pd.to_datetime(events['created_at'])"
   ]
  },
  {
   "cell_type": "markdown",
   "id": "46b67a9c",
   "metadata": {},
   "source": [
    "# Analysing Session Duration of each session"
   ]
  },
  {
   "cell_type": "code",
   "execution_count": 16,
   "id": "df4f2274",
   "metadata": {},
   "outputs": [],
   "source": [
    "session_duration = events.groupby('session_id')['created_at'].apply(lambda x: x.max() - x.min())"
   ]
  },
  {
   "cell_type": "code",
   "execution_count": 17,
   "id": "e16718d3",
   "metadata": {},
   "outputs": [
    {
     "data": {
      "text/plain": [
       "True"
      ]
     },
     "execution_count": 17,
     "metadata": {},
     "output_type": "execute_result"
    }
   ],
   "source": [
    "len(session_duration) == events.session_id.nunique()"
   ]
  },
  {
   "cell_type": "code",
   "execution_count": 18,
   "id": "851dbd30",
   "metadata": {},
   "outputs": [],
   "source": [
    "session_duration = pd.DataFrame(session_duration).reset_index()"
   ]
  },
  {
   "cell_type": "code",
   "execution_count": 19,
   "id": "b5270f7b",
   "metadata": {},
   "outputs": [],
   "source": [
    "session_duration.rename(columns={'created_at': 'total_time'}, inplace=True)"
   ]
  },
  {
   "cell_type": "code",
   "execution_count": 20,
   "id": "828842af",
   "metadata": {},
   "outputs": [],
   "source": [
    "session_duration['hours'] = session_duration['total_time'].apply(lambda x: x.total_seconds() / 3600)"
   ]
  },
  {
   "cell_type": "code",
   "execution_count": 21,
   "id": "b7ed6aaf",
   "metadata": {},
   "outputs": [
    {
     "data": {
      "text/html": [
       "<div>\n",
       "<style scoped>\n",
       "    .dataframe tbody tr th:only-of-type {\n",
       "        vertical-align: middle;\n",
       "    }\n",
       "\n",
       "    .dataframe tbody tr th {\n",
       "        vertical-align: top;\n",
       "    }\n",
       "\n",
       "    .dataframe thead th {\n",
       "        text-align: right;\n",
       "    }\n",
       "</style>\n",
       "<table border=\"1\" class=\"dataframe\">\n",
       "  <thead>\n",
       "    <tr style=\"text-align: right;\">\n",
       "      <th></th>\n",
       "      <th>session_id</th>\n",
       "      <th>total_time</th>\n",
       "      <th>hours</th>\n",
       "    </tr>\n",
       "  </thead>\n",
       "  <tbody>\n",
       "    <tr>\n",
       "      <th>181589</th>\n",
       "      <td>ffb9f231-7c92-44bf-a4a6-72e6e3e99e61</td>\n",
       "      <td>4 days 00:28:43</td>\n",
       "      <td>96.478611</td>\n",
       "    </tr>\n",
       "    <tr>\n",
       "      <th>97348</th>\n",
       "      <td>8923b9b6-99a7-42d6-862c-bff0c5261e94</td>\n",
       "      <td>4 days 00:28:04</td>\n",
       "      <td>96.467778</td>\n",
       "    </tr>\n",
       "    <tr>\n",
       "      <th>146175</th>\n",
       "      <td>cdf858b0-75c8-4910-b84f-1e3bd1b3b607</td>\n",
       "      <td>4 days 00:27:39</td>\n",
       "      <td>96.460833</td>\n",
       "    </tr>\n",
       "    <tr>\n",
       "      <th>29022</th>\n",
       "      <td>28e0bfc8-175b-40ad-b8b9-4dc16e7bc90a</td>\n",
       "      <td>4 days 00:27:26</td>\n",
       "      <td>96.457222</td>\n",
       "    </tr>\n",
       "    <tr>\n",
       "      <th>92967</th>\n",
       "      <td>82f6d3d2-d7ce-4cd2-811b-8f886ded2451</td>\n",
       "      <td>4 days 00:27:14</td>\n",
       "      <td>96.453889</td>\n",
       "    </tr>\n",
       "  </tbody>\n",
       "</table>\n",
       "</div>"
      ],
      "text/plain": [
       "                                  session_id      total_time      hours\n",
       "181589  ffb9f231-7c92-44bf-a4a6-72e6e3e99e61 4 days 00:28:43  96.478611\n",
       "97348   8923b9b6-99a7-42d6-862c-bff0c5261e94 4 days 00:28:04  96.467778\n",
       "146175  cdf858b0-75c8-4910-b84f-1e3bd1b3b607 4 days 00:27:39  96.460833\n",
       "29022   28e0bfc8-175b-40ad-b8b9-4dc16e7bc90a 4 days 00:27:26  96.457222\n",
       "92967   82f6d3d2-d7ce-4cd2-811b-8f886ded2451 4 days 00:27:14  96.453889"
      ]
     },
     "execution_count": 21,
     "metadata": {},
     "output_type": "execute_result"
    }
   ],
   "source": [
    "session_duration.sort_values(by='total_time',ascending=False).head()"
   ]
  },
  {
   "cell_type": "code",
   "execution_count": 22,
   "id": "2afde89d",
   "metadata": {},
   "outputs": [
    {
     "data": {
      "text/html": [
       "<div>\n",
       "<style scoped>\n",
       "    .dataframe tbody tr th:only-of-type {\n",
       "        vertical-align: middle;\n",
       "    }\n",
       "\n",
       "    .dataframe tbody tr th {\n",
       "        vertical-align: top;\n",
       "    }\n",
       "\n",
       "    .dataframe thead th {\n",
       "        text-align: right;\n",
       "    }\n",
       "</style>\n",
       "<table border=\"1\" class=\"dataframe\">\n",
       "  <thead>\n",
       "    <tr style=\"text-align: right;\">\n",
       "      <th></th>\n",
       "      <th>total_time</th>\n",
       "      <th>hours</th>\n",
       "    </tr>\n",
       "  </thead>\n",
       "  <tbody>\n",
       "    <tr>\n",
       "      <th>count</th>\n",
       "      <td>181759</td>\n",
       "      <td>181759.000000</td>\n",
       "    </tr>\n",
       "    <tr>\n",
       "      <th>mean</th>\n",
       "      <td>1 days 01:00:36.925219658</td>\n",
       "      <td>25.010257</td>\n",
       "    </tr>\n",
       "    <tr>\n",
       "      <th>std</th>\n",
       "      <td>1 days 10:14:32.129534889</td>\n",
       "      <td>34.242258</td>\n",
       "    </tr>\n",
       "    <tr>\n",
       "      <th>min</th>\n",
       "      <td>0 days 00:00:16</td>\n",
       "      <td>0.004444</td>\n",
       "    </tr>\n",
       "    <tr>\n",
       "      <th>25%</th>\n",
       "      <td>0 days 00:06:00</td>\n",
       "      <td>0.100000</td>\n",
       "    </tr>\n",
       "    <tr>\n",
       "      <th>50%</th>\n",
       "      <td>0 days 00:09:14</td>\n",
       "      <td>0.153889</td>\n",
       "    </tr>\n",
       "    <tr>\n",
       "      <th>75%</th>\n",
       "      <td>2 days 00:12:32</td>\n",
       "      <td>48.208889</td>\n",
       "    </tr>\n",
       "    <tr>\n",
       "      <th>max</th>\n",
       "      <td>4 days 00:28:43</td>\n",
       "      <td>96.478611</td>\n",
       "    </tr>\n",
       "  </tbody>\n",
       "</table>\n",
       "</div>"
      ],
      "text/plain": [
       "                      total_time          hours\n",
       "count                     181759  181759.000000\n",
       "mean   1 days 01:00:36.925219658      25.010257\n",
       "std    1 days 10:14:32.129534889      34.242258\n",
       "min              0 days 00:00:16       0.004444\n",
       "25%              0 days 00:06:00       0.100000\n",
       "50%              0 days 00:09:14       0.153889\n",
       "75%              2 days 00:12:32      48.208889\n",
       "max              4 days 00:28:43      96.478611"
      ]
     },
     "execution_count": 22,
     "metadata": {},
     "output_type": "execute_result"
    }
   ],
   "source": [
    "session_duration.describe()"
   ]
  },
  {
   "cell_type": "code",
   "execution_count": 23,
   "id": "1b94e9aa",
   "metadata": {},
   "outputs": [
    {
     "data": {
      "image/png": "[encoded data removed]",
      "text/plain": [
       "<Figure size 640x480 with 1 Axes>"
      ]
     },
     "metadata": {},
     "output_type": "display_data"
    }
   ],
   "source": [
    "sns.distplot(session_duration['hours'])\n",
    "plt.xlabel('Hours')\n",
    "plt.ylabel('Density')\n",
    "plt.show()"
   ]
  },
  {
   "cell_type": "code",
   "execution_count": 24,
   "id": "33a249c3",
   "metadata": {},
   "outputs": [
    {
     "data": {
      "image/png": "[encoded data removed]",
      "text/plain": [
       "<Figure size 640x480 with 1 Axes>"
      ]
     },
     "metadata": {},
     "output_type": "display_data"
    }
   ],
   "source": [
    "sns.boxplot(session_duration['hours'])\n",
    "plt.show()"
   ]
  },
  {
   "cell_type": "code",
   "execution_count": 25,
   "id": "7d796c54",
   "metadata": {},
   "outputs": [
    {
     "data": {
      "text/plain": [
       "68.89067391435913"
      ]
     },
     "execution_count": 25,
     "metadata": {},
     "output_type": "execute_result"
    }
   ],
   "source": [
    "len(session_duration[session_duration['hours'] < 25 ]) * 100/ len(session_duration)"
   ]
  },
  {
   "cell_type": "markdown",
   "id": "6a6dee85",
   "metadata": {},
   "source": [
    "## Inference around 70% of whole sessions are only less than 25 hours"
   ]
  },
  {
   "cell_type": "code",
   "execution_count": 26,
   "id": "be90981b",
   "metadata": {},
   "outputs": [
    {
     "data": {
      "text/plain": [
       "58.54015482039404"
      ]
     },
     "execution_count": 26,
     "metadata": {},
     "output_type": "execute_result"
    }
   ],
   "source": [
    "len(session_duration[session_duration['hours'] < 0.5]) * 100/ len(session_duration)"
   ]
  },
  {
   "cell_type": "markdown",
   "id": "4bb756d7",
   "metadata": {},
   "source": [
    "## Inference around 60% of whole sessions are only less than 0.5 hours"
   ]
  },
  {
   "cell_type": "code",
   "execution_count": 27,
   "id": "93f49f96",
   "metadata": {},
   "outputs": [
    {
     "data": {
      "text/plain": [
       "10.303203692802008"
      ]
     },
     "execution_count": 27,
     "metadata": {},
     "output_type": "execute_result"
    }
   ],
   "source": [
    "len(session_duration[session_duration['hours'] > 80]) * 100/ len(session_duration)"
   ]
  },
  {
   "cell_type": "markdown",
   "id": "901a39e3",
   "metadata": {},
   "source": [
    "## Inference around 10% of whole sessions are only more than 10 hours"
   ]
  },
  {
   "cell_type": "code",
   "execution_count": 28,
   "id": "420e0136",
   "metadata": {},
   "outputs": [
    {
     "data": {
      "text/plain": [
       "1.0055929400746904"
      ]
     },
     "execution_count": 28,
     "metadata": {},
     "output_type": "execute_result"
    }
   ],
   "source": [
    "## Session duration have a hightly right skewness\n",
    "session_duration['hours'].skew()"
   ]
  },
  {
   "cell_type": "code",
   "execution_count": 29,
   "id": "7668034b",
   "metadata": {},
   "outputs": [
    {
     "data": {
      "text/plain": [
       "-0.5142478528012613"
      ]
     },
     "execution_count": 29,
     "metadata": {},
     "output_type": "execute_result"
    }
   ],
   "source": [
    "session_duration['hours'].kurtosis()"
   ]
  },
  {
   "cell_type": "code",
   "execution_count": null,
   "id": "454f654f",
   "metadata": {},
   "outputs": [],
   "source": []
  },
  {
   "cell_type": "code",
   "execution_count": null,
   "id": "116c490c",
   "metadata": {},
   "outputs": [],
   "source": []
  },
  {
   "cell_type": "markdown",
   "id": "1b80d36c",
   "metadata": {},
   "source": [
    "# Anlysing session frequency"
   ]
  },
  {
   "cell_type": "code",
   "execution_count": 30,
   "id": "5a8bfaeb",
   "metadata": {},
   "outputs": [],
   "source": [
    "session_frequency = events.groupby('user_id')['session_id'].nunique()"
   ]
  },
  {
   "cell_type": "code",
   "execution_count": 31,
   "id": "99e62fb4",
   "metadata": {},
   "outputs": [],
   "source": [
    "session_frequency = pd.DataFrame(session_frequency).reset_index()"
   ]
  },
  {
   "cell_type": "code",
   "execution_count": 32,
   "id": "27bc6403",
   "metadata": {},
   "outputs": [],
   "source": [
    "session_frequency.rename(columns={'session_id': 'frequency'}, inplace=True)"
   ]
  },
  {
   "cell_type": "code",
   "execution_count": 33,
   "id": "176e70d4",
   "metadata": {},
   "outputs": [
    {
     "data": {
      "text/html": [
       "<div>\n",
       "<style scoped>\n",
       "    .dataframe tbody tr th:only-of-type {\n",
       "        vertical-align: middle;\n",
       "    }\n",
       "\n",
       "    .dataframe tbody tr th {\n",
       "        vertical-align: top;\n",
       "    }\n",
       "\n",
       "    .dataframe thead th {\n",
       "        text-align: right;\n",
       "    }\n",
       "</style>\n",
       "<table border=\"1\" class=\"dataframe\">\n",
       "  <thead>\n",
       "    <tr style=\"text-align: right;\">\n",
       "      <th></th>\n",
       "      <th>user_id</th>\n",
       "      <th>frequency</th>\n",
       "    </tr>\n",
       "  </thead>\n",
       "  <tbody>\n",
       "    <tr>\n",
       "      <th>0</th>\n",
       "      <td>1.0</td>\n",
       "      <td>3</td>\n",
       "    </tr>\n",
       "    <tr>\n",
       "      <th>1</th>\n",
       "      <td>2.0</td>\n",
       "      <td>1</td>\n",
       "    </tr>\n",
       "    <tr>\n",
       "      <th>2</th>\n",
       "      <td>3.0</td>\n",
       "      <td>5</td>\n",
       "    </tr>\n",
       "  </tbody>\n",
       "</table>\n",
       "</div>"
      ],
      "text/plain": [
       "   user_id  frequency\n",
       "0      1.0          3\n",
       "1      2.0          1\n",
       "2      3.0          5"
      ]
     },
     "execution_count": 33,
     "metadata": {},
     "output_type": "execute_result"
    }
   ],
   "source": [
    "session_frequency.head(3)"
   ]
  },
  {
   "cell_type": "code",
   "execution_count": 34,
   "id": "f3df1092",
   "metadata": {},
   "outputs": [
    {
     "data": {
      "image/png": "[encoded data removed]",
      "text/plain": [
       "<Figure size 640x480 with 1 Axes>"
      ]
     },
     "metadata": {},
     "output_type": "display_data"
    }
   ],
   "source": [
    "session_frequency['frequency'].value_counts().plot(kind = 'bar')\n",
    "plt.show()"
   ]
  },
  {
   "cell_type": "markdown",
   "id": "abfdc31c",
   "metadata": {},
   "source": [
    "### The inference from a high number of users having a session frequency of 1 is that a significant portion of users visit the platform or website only once. This suggests a low level of engagement or interaction beyond the initial visit."
   ]
  },
  {
   "cell_type": "markdown",
   "id": "fa1e65ca",
   "metadata": {},
   "source": [
    "#### Lack of Retention Strategies\n",
    "#### User Experience Issues\n",
    "#### Users may have visited the platform to make a one-time transaction"
   ]
  },
  {
   "cell_type": "code",
   "execution_count": null,
   "id": "244a2199",
   "metadata": {},
   "outputs": [],
   "source": []
  },
  {
   "cell_type": "code",
   "execution_count": null,
   "id": "6aadf627",
   "metadata": {},
   "outputs": [],
   "source": []
  },
  {
   "cell_type": "code",
   "execution_count": null,
   "id": "e6b3c9a4",
   "metadata": {},
   "outputs": [],
   "source": []
  },
  {
   "cell_type": "code",
   "execution_count": null,
   "id": "9a8eafcb",
   "metadata": {},
   "outputs": [],
   "source": []
  }
 ],
 "metadata": {
  "kernelspec": {
   "display_name": "Python 3 (ipykernel)",
   "language": "python",
   "name": "python3"
  },
  "language_info": {
   "codemirror_mode": {
    "name": "ipython",
    "version": 3
   },
   "file_extension": ".py",
   "mimetype": "text/x-python",
   "name": "python",
   "nbconvert_exporter": "python",
   "pygments_lexer": "ipython3",
   "version": "3.10.9"
  }
 },
 "nbformat": 4,
 "nbformat_minor": 5
}
