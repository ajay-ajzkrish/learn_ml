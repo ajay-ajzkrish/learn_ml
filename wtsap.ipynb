{
 "cells": [
  {
   "cell_type": "code",
   "execution_count": 3,
   "id": "c5a28dbd",
   "metadata": {},
   "outputs": [],
   "source": [
    "import pywhatkit"
   ]
  },
  {
   "cell_type": "code",
   "execution_count": 6,
   "id": "9799914d",
   "metadata": {},
   "outputs": [],
   "source": [
    "pywhatkit.sendwhatmsg_instantly(\n",
    "    phone_no=\"+918015682860\", \n",
    "    message=\"Howdy! This message will be sent instantly!\",\n",
    ")"
   ]
  },
  {
   "cell_type": "code",
   "execution_count": 12,
   "id": "13ac1f4d",
   "metadata": {},
   "outputs": [],
   "source": [
    "import time \n",
    "import pywhatkit\n",
    "import pyautogui\n",
    "from pynput.keyboard import Key, Controller\n",
    "\n",
    "keyboard = Controller()\n",
    "\n",
    "\n",
    "def send_whatsapp_message(msg: str):\n",
    "    try:\n",
    "        pywhatkit.sendwhatmsg_instantly(\n",
    "            phone_no=\"+918015682860\", \n",
    "            message=\n",
    "            msg,\n",
    "            tab_close=True\n",
    "        )\n",
    "        time.sleep(10)\n",
    "        pyautogui.click()\n",
    "        time.sleep(2)\n",
    "        keyboard.press(Key.enter)\n",
    "        keyboard.release(Key.enter)\n",
    "        print(\"Message sent!\")\n",
    "    except Exception as e:\n",
    "        print(str(e))"
   ]
  },
  {
   "cell_type": "code",
   "execution_count": 11,
   "id": "fda628d4",
   "metadata": {},
   "outputs": [
    {
     "name": "stdout",
     "output_type": "stream",
     "text": [
      "Message sent!\n"
     ]
    }
   ],
   "source": [
    "send_whatsapp_message('hi')"
   ]
  },
  {
   "cell_type": "code",
   "execution_count": null,
   "id": "42f777bb",
   "metadata": {},
   "outputs": [],
   "source": []
  }
 ],
 "metadata": {
  "kernelspec": {
   "display_name": "Python 3 (ipykernel)",
   "language": "python",
   "name": "python3"
  },
  "language_info": {
   "codemirror_mode": {
    "name": "ipython",
    "version": 3
   },
   "file_extension": ".py",
   "mimetype": "text/x-python",
   "name": "python",
   "nbconvert_exporter": "python",
   "pygments_lexer": "ipython3",
   "version": "3.10.9"
  }
 },
 "nbformat": 4,
 "nbformat_minor": 5
}
